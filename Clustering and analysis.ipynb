{
 "cells": [
  {
   "cell_type": "markdown",
   "metadata": {
    "_uuid": "ea43cbf5edca54c14b0097d7ff1506cd6cef2f0d"
   },
   "source": [
    "<a id=\"import\"></a>"
   ]
  },
  {
   "cell_type": "code",
   "execution_count": 1,
   "metadata": {
    "_cell_guid": "b1076dfc-b9ad-4769-8c92-a6c4dae69d19",
    "_kg_hide-input": true,
    "_uuid": "8f2839f25d086af736a60e9eeb907d3b93b6e0e5",
    "trusted": true
   },
   "outputs": [
    {
     "data": {
      "text/html": [
       "        <script type=\"text/javascript\">\n",
       "        window.PlotlyConfig = {MathJaxConfig: 'local'};\n",
       "        if (window.MathJax && window.MathJax.Hub && window.MathJax.Hub.Config) {window.MathJax.Hub.Config({SVG: {font: \"STIX-Web\"}});}\n",
       "        </script>\n",
       "        <script type=\"module\">import \"https://cdn.plot.ly/plotly-3.1.1.min\"</script>\n",
       "        "
      ]
     },
     "metadata": {},
     "output_type": "display_data"
    },
    {
     "name": "stderr",
     "output_type": "stream",
     "text": [
      "/tmp/ipykernel_17432/3485993053.py:16: DeprecationWarning:\n",
      "\n",
      "Please import `pearsonr` from the `scipy.stats` namespace; the `scipy.stats.stats` namespace is deprecated and will be removed in SciPy 2.0.0.\n",
      "\n"
     ]
    }
   ],
   "source": [
    "import numpy as np\n",
    "import pandas as pd\n",
    "\n",
    "import plotly.graph_objs as go\n",
    "import plotly.figure_factory as ff\n",
    "from plotly.subplots import make_subplots\n",
    "from plotly.offline import init_notebook_mode, iplot\n",
    "init_notebook_mode(connected=True)\n",
    "\n",
    "import matplotlib.pyplot as plt\n",
    "import seaborn as sns\n",
    "from string import ascii_letters\n",
    "\n",
    "from scipy.stats import norm\n",
    "from scipy.stats import skew\n",
    "from scipy.stats.stats import pearsonr\n",
    "from scipy import stats\n",
    "\n",
    "import statsmodels.api as sm\n",
    "from statsmodels.sandbox.regression.predstd import wls_prediction_std\n",
    "\n",
    "import warnings\n",
    "warnings.filterwarnings(\"ignore\")"
   ]
  },
  {
   "cell_type": "code",
   "execution_count": 2,
   "metadata": {
    "_kg_hide-input": true,
    "_uuid": "c24db7fa2a282ff39644edd6610d17d0ccca49fe",
    "trusted": true
   },
   "outputs": [],
   "source": [
    "df = pd.read_csv(\"data/Insurance.csv\")\n",
    "df.head()\n",
    "\n",
    "original_df = df.copy()"
   ]
  },
  {
   "cell_type": "code",
   "execution_count": 3,
   "metadata": {
    "_kg_hide-input": true,
    "_uuid": "18141c201905560777376b3ff616585b40c65475",
    "trusted": true
   },
   "outputs": [
    {
     "data": {
      "application/vnd.plotly.v1+json": {
       "config": {
        "linkText": "Export to plot.ly",
        "plotlyServerURL": "https://plot.ly",
        "showLink": false
       },
       "data": [
        {
         "histnorm": "probability",
         "marker": {
          "color": "#FA5858"
         },
         "name": "Charges Distribution",
         "type": "histogram",
         "x": {
          "bdata": "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",
          "dtype": "f8"
         },
         "xaxis": "x",
         "yaxis": "y"
        },
        {
         "histnorm": "probability",
         "marker": {
          "color": "#58FA82"
         },
         "name": "Charges Distribution using Log",
         "type": "histogram",
         "x": {
          "bdata": "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",
          "dtype": "f8"
         },
         "xaxis": "x2",
         "yaxis": "y2"
        }
       ],
       "layout": {
        "annotations": [
         {
          "font": {
           "size": 16
          },
          "showarrow": false,
          "text": "Charge Distribution",
          "x": 0.5,
          "xanchor": "center",
          "xref": "paper",
          "y": 1,
          "yanchor": "bottom",
          "yref": "paper"
         },
         {
          "font": {
           "size": 16
          },
          "showarrow": false,
          "text": "Log Charge Distribution",
          "x": 0.5,
          "xanchor": "center",
          "xref": "paper",
          "y": 0.375,
          "yanchor": "bottom",
          "yref": "paper"
         }
        ],
        "bargap": 0.05,
        "showlegend": true,
        "template": {
         "data": {
          "bar": [
           {
            "error_x": {
             "color": "#2a3f5f"
            },
            "error_y": {
             "color": "#2a3f5f"
            },
            "marker": {
             "line": {
              "color": "#E5ECF6",
              "width": 0.5
             },
             "pattern": {
              "fillmode": "overlay",
              "size": 10,
              "solidity": 0.2
             }
            },
            "type": "bar"
           }
          ],
          "barpolar": [
           {
            "marker": {
             "line": {
              "color": "#E5ECF6",
              "width": 0.5
             },
             "pattern": {
              "fillmode": "overlay",
              "size": 10,
              "solidity": 0.2
             }
            },
            "type": "barpolar"
           }
          ],
          "carpet": [
           {
            "aaxis": {
             "endlinecolor": "#2a3f5f",
             "gridcolor": "white",
             "linecolor": "white",
             "minorgridcolor": "white",
             "startlinecolor": "#2a3f5f"
            },
            "baxis": {
             "endlinecolor": "#2a3f5f",
             "gridcolor": "white",
             "linecolor": "white",
             "minorgridcolor": "white",
             "startlinecolor": "#2a3f5f"
            },
            "type": "carpet"
           }
          ],
          "choropleth": [
           {
            "colorbar": {
             "outlinewidth": 0,
             "ticks": ""
            },
            "type": "choropleth"
           }
          ],
          "contour": [
           {
            "colorbar": {
             "outlinewidth": 0,
             "ticks": ""
            },
            "colorscale": [
             [
              0,
              "#0d0887"
             ],
             [
              0.1111111111111111,
              "#46039f"
             ],
             [
              0.2222222222222222,
              "#7201a8"
             ],
             [
              0.3333333333333333,
              "#9c179e"
             ],
             [
              0.4444444444444444,
              "#bd3786"
             ],
             [
              0.5555555555555556,
              "#d8576b"
             ],
             [
              0.6666666666666666,
              "#ed7953"
             ],
             [
              0.7777777777777778,
              "#fb9f3a"
             ],
             [
              0.8888888888888888,
              "#fdca26"
             ],
             [
              1,
              "#f0f921"
             ]
            ],
            "type": "contour"
           }
          ],
          "contourcarpet": [
           {
            "colorbar": {
             "outlinewidth": 0,
             "ticks": ""
            },
            "type": "contourcarpet"
           }
          ],
          "heatmap": [
           {
            "colorbar": {
             "outlinewidth": 0,
             "ticks": ""
            },
            "colorscale": [
             [
              0,
              "#0d0887"
             ],
             [
              0.1111111111111111,
              "#46039f"
             ],
             [
              0.2222222222222222,
              "#7201a8"
             ],
             [
              0.3333333333333333,
              "#9c179e"
             ],
             [
              0.4444444444444444,
              "#bd3786"
             ],
             [
              0.5555555555555556,
              "#d8576b"
             ],
             [
              0.6666666666666666,
              "#ed7953"
             ],
             [
              0.7777777777777778,
              "#fb9f3a"
             ],
             [
              0.8888888888888888,
              "#fdca26"
             ],
             [
              1,
              "#f0f921"
             ]
            ],
            "type": "heatmap"
           }
          ],
          "histogram": [
           {
            "marker": {
             "pattern": {
              "fillmode": "overlay",
              "size": 10,
              "solidity": 0.2
             }
            },
            "type": "histogram"
           }
          ],
          "histogram2d": [
           {
            "colorbar": {
             "outlinewidth": 0,
             "ticks": ""
            },
            "colorscale": [
             [
              0,
              "#0d0887"
             ],
             [
              0.1111111111111111,
              "#46039f"
             ],
             [
              0.2222222222222222,
              "#7201a8"
             ],
             [
              0.3333333333333333,
              "#9c179e"
             ],
             [
              0.4444444444444444,
              "#bd3786"
             ],
             [
              0.5555555555555556,
              "#d8576b"
             ],
             [
              0.6666666666666666,
              "#ed7953"
             ],
             [
              0.7777777777777778,
              "#fb9f3a"
             ],
             [
              0.8888888888888888,
              "#fdca26"
             ],
             [
              1,
              "#f0f921"
             ]
            ],
            "type": "histogram2d"
           }
          ],
          "histogram2dcontour": [
           {
            "colorbar": {
             "outlinewidth": 0,
             "ticks": ""
            },
            "colorscale": [
             [
              0,
              "#0d0887"
             ],
             [
              0.1111111111111111,
              "#46039f"
             ],
             [
              0.2222222222222222,
              "#7201a8"
             ],
             [
              0.3333333333333333,
              "#9c179e"
             ],
             [
              0.4444444444444444,
              "#bd3786"
             ],
             [
              0.5555555555555556,
              "#d8576b"
             ],
             [
              0.6666666666666666,
              "#ed7953"
             ],
             [
              0.7777777777777778,
              "#fb9f3a"
             ],
             [
              0.8888888888888888,
              "#fdca26"
             ],
             [
              1,
              "#f0f921"
             ]
            ],
            "type": "histogram2dcontour"
           }
          ],
          "mesh3d": [
           {
            "colorbar": {
             "outlinewidth": 0,
             "ticks": ""
            },
            "type": "mesh3d"
           }
          ],
          "parcoords": [
           {
            "line": {
             "colorbar": {
              "outlinewidth": 0,
              "ticks": ""
             }
            },
            "type": "parcoords"
           }
          ],
          "pie": [
           {
            "automargin": true,
            "type": "pie"
           }
          ],
          "scatter": [
           {
            "fillpattern": {
             "fillmode": "overlay",
             "size": 10,
             "solidity": 0.2
            },
            "type": "scatter"
           }
          ],
          "scatter3d": [
           {
            "line": {
             "colorbar": {
              "outlinewidth": 0,
              "ticks": ""
             }
            },
            "marker": {
             "colorbar": {
              "outlinewidth": 0,
              "ticks": ""
             }
            },
            "type": "scatter3d"
           }
          ],
          "scattercarpet": [
           {
            "marker": {
             "colorbar": {
              "outlinewidth": 0,
              "ticks": ""
             }
            },
            "type": "scattercarpet"
           }
          ],
          "scattergeo": [
           {
            "marker": {
             "colorbar": {
              "outlinewidth": 0,
              "ticks": ""
             }
            },
            "type": "scattergeo"
           }
          ],
          "scattergl": [
           {
            "marker": {
             "colorbar": {
              "outlinewidth": 0,
              "ticks": ""
             }
            },
            "type": "scattergl"
           }
          ],
          "scattermap": [
           {
            "marker": {
             "colorbar": {
              "outlinewidth": 0,
              "ticks": ""
             }
            },
            "type": "scattermap"
           }
          ],
          "scattermapbox": [
           {
            "marker": {
             "colorbar": {
              "outlinewidth": 0,
              "ticks": ""
             }
            },
            "type": "scattermapbox"
           }
          ],
          "scatterpolar": [
           {
            "marker": {
             "colorbar": {
              "outlinewidth": 0,
              "ticks": ""
             }
            },
            "type": "scatterpolar"
           }
          ],
          "scatterpolargl": [
           {
            "marker": {
             "colorbar": {
              "outlinewidth": 0,
              "ticks": ""
             }
            },
            "type": "scatterpolargl"
           }
          ],
          "scatterternary": [
           {
            "marker": {
             "colorbar": {
              "outlinewidth": 0,
              "ticks": ""
             }
            },
            "type": "scatterternary"
           }
          ],
          "surface": [
           {
            "colorbar": {
             "outlinewidth": 0,
             "ticks": ""
            },
            "colorscale": [
             [
              0,
              "#0d0887"
             ],
             [
              0.1111111111111111,
              "#46039f"
             ],
             [
              0.2222222222222222,
              "#7201a8"
             ],
             [
              0.3333333333333333,
              "#9c179e"
             ],
             [
              0.4444444444444444,
              "#bd3786"
             ],
             [
              0.5555555555555556,
              "#d8576b"
             ],
             [
              0.6666666666666666,
              "#ed7953"
             ],
             [
              0.7777777777777778,
              "#fb9f3a"
             ],
             [
              0.8888888888888888,
              "#fdca26"
             ],
             [
              1,
              "#f0f921"
             ]
            ],
            "type": "surface"
           }
          ],
          "table": [
           {
            "cells": {
             "fill": {
              "color": "#EBF0F8"
             },
             "line": {
              "color": "white"
             }
            },
            "header": {
             "fill": {
              "color": "#C8D4E3"
             },
             "line": {
              "color": "white"
             }
            },
            "type": "table"
           }
          ]
         },
         "layout": {
          "annotationdefaults": {
           "arrowcolor": "#2a3f5f",
           "arrowhead": 0,
           "arrowwidth": 1
          },
          "autotypenumbers": "strict",
          "coloraxis": {
           "colorbar": {
            "outlinewidth": 0,
            "ticks": ""
           }
          },
          "colorscale": {
           "diverging": [
            [
             0,
             "#8e0152"
            ],
            [
             0.1,
             "#c51b7d"
            ],
            [
             0.2,
             "#de77ae"
            ],
            [
             0.3,
             "#f1b6da"
            ],
            [
             0.4,
             "#fde0ef"
            ],
            [
             0.5,
             "#f7f7f7"
            ],
            [
             0.6,
             "#e6f5d0"
            ],
            [
             0.7,
             "#b8e186"
            ],
            [
             0.8,
             "#7fbc41"
            ],
            [
             0.9,
             "#4d9221"
            ],
            [
             1,
             "#276419"
            ]
           ],
           "sequential": [
            [
             0,
             "#0d0887"
            ],
            [
             0.1111111111111111,
             "#46039f"
            ],
            [
             0.2222222222222222,
             "#7201a8"
            ],
            [
             0.3333333333333333,
             "#9c179e"
            ],
            [
             0.4444444444444444,
             "#bd3786"
            ],
            [
             0.5555555555555556,
             "#d8576b"
            ],
            [
             0.6666666666666666,
             "#ed7953"
            ],
            [
             0.7777777777777778,
             "#fb9f3a"
            ],
            [
             0.8888888888888888,
             "#fdca26"
            ],
            [
             1,
             "#f0f921"
            ]
           ],
           "sequentialminus": [
            [
             0,
             "#0d0887"
            ],
            [
             0.1111111111111111,
             "#46039f"
            ],
            [
             0.2222222222222222,
             "#7201a8"
            ],
            [
             0.3333333333333333,
             "#9c179e"
            ],
            [
             0.4444444444444444,
             "#bd3786"
            ],
            [
             0.5555555555555556,
             "#d8576b"
            ],
            [
             0.6666666666666666,
             "#ed7953"
            ],
            [
             0.7777777777777778,
             "#fb9f3a"
            ],
            [
             0.8888888888888888,
             "#fdca26"
            ],
            [
             1,
             "#f0f921"
            ]
           ]
          },
          "colorway": [
           "#636efa",
           "#EF553B",
           "#00cc96",
           "#ab63fa",
           "#FFA15A",
           "#19d3f3",
           "#FF6692",
           "#B6E880",
           "#FF97FF",
           "#FECB52"
          ],
          "font": {
           "color": "#2a3f5f"
          },
          "geo": {
           "bgcolor": "white",
           "lakecolor": "white",
           "landcolor": "#E5ECF6",
           "showlakes": true,
           "showland": true,
           "subunitcolor": "white"
          },
          "hoverlabel": {
           "align": "left"
          },
          "hovermode": "closest",
          "mapbox": {
           "style": "light"
          },
          "paper_bgcolor": "white",
          "plot_bgcolor": "#E5ECF6",
          "polar": {
           "angularaxis": {
            "gridcolor": "white",
            "linecolor": "white",
            "ticks": ""
           },
           "bgcolor": "#E5ECF6",
           "radialaxis": {
            "gridcolor": "white",
            "linecolor": "white",
            "ticks": ""
           }
          },
          "scene": {
           "xaxis": {
            "backgroundcolor": "#E5ECF6",
            "gridcolor": "white",
            "gridwidth": 2,
            "linecolor": "white",
            "showbackground": true,
            "ticks": "",
            "zerolinecolor": "white"
           },
           "yaxis": {
            "backgroundcolor": "#E5ECF6",
            "gridcolor": "white",
            "gridwidth": 2,
            "linecolor": "white",
            "showbackground": true,
            "ticks": "",
            "zerolinecolor": "white"
           },
           "zaxis": {
            "backgroundcolor": "#E5ECF6",
            "gridcolor": "white",
            "gridwidth": 2,
            "linecolor": "white",
            "showbackground": true,
            "ticks": "",
            "zerolinecolor": "white"
           }
          },
          "shapedefaults": {
           "line": {
            "color": "#2a3f5f"
           }
          },
          "ternary": {
           "aaxis": {
            "gridcolor": "white",
            "linecolor": "white",
            "ticks": ""
           },
           "baxis": {
            "gridcolor": "white",
            "linecolor": "white",
            "ticks": ""
           },
           "bgcolor": "#E5ECF6",
           "caxis": {
            "gridcolor": "white",
            "linecolor": "white",
            "ticks": ""
           }
          },
          "title": {
           "x": 0.05
          },
          "xaxis": {
           "automargin": true,
           "gridcolor": "white",
           "linecolor": "white",
           "ticks": "",
           "title": {
            "standoff": 15
           },
           "zerolinecolor": "white",
           "zerolinewidth": 2
          },
          "yaxis": {
           "automargin": true,
           "gridcolor": "white",
           "linecolor": "white",
           "ticks": "",
           "title": {
            "standoff": 15
           },
           "zerolinecolor": "white",
           "zerolinewidth": 2
          }
         }
        },
        "title": {
         "text": "Charge Distribution"
        },
        "xaxis": {
         "anchor": "y",
         "domain": [
          0,
          1
         ]
        },
        "xaxis2": {
         "anchor": "y2",
         "domain": [
          0,
          1
         ]
        },
        "yaxis": {
         "anchor": "x",
         "domain": [
          0.625,
          1
         ]
        },
        "yaxis2": {
         "anchor": "x2",
         "domain": [
          0,
          0.375
         ]
        }
       }
      },
      "text/html": [
       "<div>            <script src=\"https://cdnjs.cloudflare.com/ajax/libs/mathjax/2.7.5/MathJax.js?config=TeX-AMS-MML_SVG\"></script><script type=\"text/javascript\">if (window.MathJax && window.MathJax.Hub && window.MathJax.Hub.Config) {window.MathJax.Hub.Config({SVG: {font: \"STIX-Web\"}});}</script>                <script type=\"text/javascript\">window.PlotlyConfig = {MathJaxConfig: 'local'};</script>\n",
       "        <script charset=\"utf-8\" src=\"https://cdn.plot.ly/plotly-3.1.1.min.js\" integrity=\"sha256-HUEFyfiTnZJxCxur99FjbKYTvKSzwDaD3/x5TqHpFu4=\" crossorigin=\"anonymous\"></script>                <div id=\"1d47d56f-753c-49eb-b2df-bdd9d28ce106\" class=\"plotly-graph-div\" style=\"height:525px; width:100%;\"></div>            <script type=\"text/javascript\">                window.PLOTLYENV=window.PLOTLYENV || {};                                if (document.getElementById(\"1d47d56f-753c-49eb-b2df-bdd9d28ce106\")) {                    Plotly.newPlot(                        \"1d47d56f-753c-49eb-b2df-bdd9d28ce106\",                        [{\"histnorm\":\"probability\",\"marker\":{\"color\":\"#FA5858\"},\"name\":\"Charges Distribution\",\"x\":{\"dtype\":\"f8\",\"bdata\":\"YOXQIjt90EBTliGONfaaQMHKoUV2YbFAy2d5Hh541UAUP8bctTWuQGPuWkI+Wa1A3EYDeEsYwEDcaABvgXG8QHicoiNpBrlAixpMw8g+3EAdyeU\\u002fpEKlQJXUCWguKNtAHVpkO1+LnECJ0t7gW6nFQAYSFD94V+NAnMQgsPK0nEB1ApoIqxbFQELPZtVXtqJAexSuRzG1xEDn+6nxrvzhQKyL22hs1slA2\\u002fl+arw1sEAGgZVDC8SRQKTfvg68aOJAK4cW2eY7uEAawFsgkVjLQKH4MebqOcxAc2iR7VD2x0DaG3xhYq6lQAAAAADg5uJAUI2XbjJg4UBL6gQ0YSyhQOkmMQjMT7JAJLn8hwzlykC8kXnkUf\\u002foQI\\u002fC9Si8ZZlAV1uxvxh+zkCamZmZmfyhQPwYc9fIa+NAO99PjauF50C0yHa+H8ynQHrHKTrCVbNAp3nHKXqAuECq8dJNwqm4QESLbOerv7dAhiAHJZIl1EDc14FztoKqQDSitDfYyatAKcsQx\\u002fKqyECDwMqhpebiQOf7qfFCRqFAZMxdS6j3q0AhsHJoEQTXQApoImzSbeJAt2J\\u002f2a17v0BwzojSDzHnQDMzMzOvk8pAfdCzWeW\\u002f4EBTBaOSMrPWQI0o7Q2GZbdAE2HD0xvPwEDf4AuTqZixQFjnGJCndd1AeqUsQ6QlsEBiodY037vMQGDl0CLbPJtAqMZLN4nNy0DLEMe6YPW4QIMvTKYaILdABaOSOsk\\u002f0UDP91PjcTDQQJHtfD91j7pAc2iR7dzuxkBIv30dUFXHQMl2vp\\u002faLr5A9wZfmFQuxkD129eB09auQLprCfng8ZdAtFn1uQqGpUCoNc07Bqu5QCSX\\u002f5A2WbFAO3DOiEr\\u002fvkBjf9k9pSXiQOLplbLUjMVAVOOlm5Bz40CWIY51o5rUQLyWkA9eR+VADAIrh5agxUCDL0ymqlq\\u002fQKCJsOFJpcVAImx4euWrn0C4rwPnEF\\u002fFQIqO5PI7et1Aqz5XWwFhtkApXI\\u002fCYRfnQGkAb4HEba1AXI\\u002fC9aikx0DDZKpgJPnDQN0kBoEp49VA9P3UeFnmzkCYbhKDICq4QIY41sUteqxAYTJVMDbY1EDYgXNGjDfeQH0\\u002fNV7ai7NAqvHSTRgm0UA\\u002fNV66CTeiQJ7vp8abSq5ANBE2PD1mpkBGlPYG8fnmQH\\u002fZPXmgJMVA\\u002fKnx0q00x0Cq8dJNwiayQJwzorR3yaJAPE7RkShwxkBNSkG3\\u002f4zdQA8LtaapOsZA\\u002fmX35PGo0kBJnYAmqszAQMRCrWluHrpAwcqhRVY8vkBoke18f6aaQNnO91PzoqFA\\u002fKnx0o9Q40BJLv8hgcHDQGaIY13McqpA7FG4HkWu0ECgGi\\u002fdRNHCQNDVVuyL999A4XoUrmfCt0AtIR\\u002f0uAfJQCzUmuYtmMpAEFg5tMjNxUDpSC7\\u002fQYKZQBpR2htsMqNAc2iR7VzXoEBU46WbxLWTQFYOLbK99p9A9u6P966u2kBYObTIdu2gQIVf6uf5u9pAeJyiIxlFq0DhehSuH4fSQNNNYhB4u9FAHhZqTX9C1EDiWBe3QRK0QA+cM6IR4uNA5BQdyc1Kw0BE+u3r2GfFQH9qvHQTypxAv30dODcFtED2KFyPom2+QIqO5PJXvrhAQBNhwy9\\u002f00DdtYR8MKW7QAn5oGezJLtAqaROQOu51ECNl24SF0\\u002fOQBzr4jbICuJAfERMiVhJ00C+nxovLdnUQPT91HivpuFAsp3vp0ZpxECq8dJNIiC0QJjdk4clpLNALv8h\\u002fYpTxEB7FK5Hod6yQDLmriXM8LdAHVpkO48+pUCEns2q59uyQNCzWfWxLspASOF6FK60v0AjSnuDL3uaQOkmMQgMfrRAu7iNBuBOpkBmZmZmDtfnQOVhodbcN7lANV66SQxixEDLoUW2ozvBQET67eskrcBAxty1hPDrxkDnHafoSH+ZQB+F61HYSq9AwoanV3r7vEAf9GxWbTO+QOQUHckqXeVAdy0hH\\u002fQbr0Cyne+nps20QHWTGAT2d7pAaCJseOo6s0AibHh6zYbIQFYOLbLdE7NAVcGopE6zoECe76fGK4bHQLprCfngxZFAg1FJnUCemUCkcD0KtxG2QDEIrBxqosBAH4XrUSDWwkDswDkjwhrNQLyWkA9apaBAZ9XnapNTwUAoDwu1GmrJQCntDb68IeJAFK5H4Rrru0AFNBE2vPGwQMHKoUWm78ZAutqK\\u002fQV+1ED0\\u002fdR4eRzLQF+YTBUc0rlA4XoUrkfwnkDD9Shct+K\\u002fQC2yne9no6tAlPYGX8iKs0DZzvdTA6TAQIPAyqHFy7xAXrpJDNI5xEC28\\u002f3UeGejQHctIR\\u002f0gapAJGJKJHF+2EBqvHSTeJSzQKjGSzdxosRAGy\\u002fdJIaFtEDhehSuc\\u002fvgQOELk6niDtNAmN2Th5Vpx0DgnBGl\\u002fQKlQLoUV5XVqNdAi\\u002f1l9yy+vEBZF7fRoATCQLG\\u002f7J6kE71A4umVsqRYy0BxPQrXI\\u002f+aQIts5\\u002fvpFshAGsBbIDE2ukDSAN4CEf3SQF8HzhkRP5lAaQBvgTRvsUDeAgmKK\\u002fLQQInS3uCr8LtAApoIG\\u002fTN4kClLEMcE+q0QKG+ZU4EK+FAokW2890cvEAOvjCZytTcQDRo6J8e59dAAd4CCVq0yEBYqDXNuwufQEw3iUFgoJxA\\u002fKnx0h2Rr0A0gLdAug7JQClcj8IpGedA6Ugu\\u002f5ec5UA5tMh2vqSwQARWDi0lEeRAat5xiqp7yUCJ0t7gJXLlQLpJDAL7GLVAQYLixwyAxkAf9GxWyXrgQK5H4XqUHsdAGsBbIFGv0EBTliGOdUnYQEVHcvlsr+FAIlSp2b\\u002f700CLbOf744jmQCGwcmjhxtBAuK8D51B\\u002fzECwcmiRDRG9QDsBTYQ9IcJA+1xtxb7dmkBCYOXQGu3kQHE9CtezYbxAnl4py9TIwkBYObTIVrajQPhT46Xr+cJAB1+YTGXnpUCmm8Qg8MygQO\\u002fJw0JlQMlAWRe30ZA\\u002fw0DYgXNG5M7VQCgPC7WltOdAT6+UZSCNsECTqYJRjTPHQClcj8L1zMJAGlHaGxw+vkB\\u002f+zpwdmzCQFafq60Y2MtANjy9Uhlj50AtW+uLNGLZQKjGSzcJyKhATGw+rnPN00DeAgmKB5DkQET67euA2aBAL90kBkGErkBuowG8RaKaQDVeukns1M9AqmBUUqt21UDarPpcS+viQH2utmK\\u002fEMJASOF6FL5aukAPnDOiWErYQCxlGeLA9MdAwcqhRXb9sEAj2\\u002fl+GrPIQMl2vp+W\\u002fNJAVz7L82q000BlGeJYBzewQDAqqRNMVMdAGJXUCShFvkAnMQisPH7AQC\\u002fdJAaBJZtA9GxWfZCR5ECwA+eMaLy\\u002fQC2yne\\u002fbAuFAI9v5fmL9wkCKsOHpoUHBQAisHFqIYcRAcF8HzjH9vEBqTfOOmzuyQBTQRNjAHrNAiJ0pdOoX2ECuR+F6dFThQGgibHgml8ZA30+Nly5kpkCcoiO5NMi5QNSa5h3H06tAArwFEhDh5EBcj8L1AGfnQB+F61FI3MFAGCZTBbKw50BCz2bVZ9LXQCS5\\u002fIeEOspAJLn8hzDFxkBfJLTlJLLSQFg5tMhm\\u002f8pAvJaQD0q3x0BkO99P1TjLQHe+nxrjd+RAWMoyxFEUwEBk6UMXzoLSQBIUP8YMFMpAvHSTGIzQyUAU0ETY7E7LQJXUCWiacMVAbHh6pUwouEBaZDvf\\u002fxmzQCSX\\u002f5A6R8BAfoy5awlmtUDXEvJB746ZQBHHurhNG8dAbxKDwApywUAtsp3vZ8SrQPVKWYZwOshAtvP91ISay0AHfH4YwwbYQOPHmLsOeMFAZapgVCrKwkD4wmSqILWcQMKGp1cKHplAWmQ735+dw0C4HoXrEY+yQOOlm8RACstAK4cW2Y5LpEBhw9MrBdmoQJayDHEsGcNAuB6F6yE7ykAnwoanD1G\\u002fQIiFWtNEtL9A2\\u002fl+arwzq0D99nXghDPKQOLplbKkfsdAt9EA3mrXvUC6SQwCp57hQJVliGMdvpVAc9cS8n2c0UCBJsKG+ybVQM\\u002f3U+PHneJAHhZqTe0R0EBZ+tAFP17aQNXnaitKT81AvsEXJvan5ECXHHdKX0vUQM9m1efq1rZADeAtkEQ3wEAOLbKdb7eTQCcxCKw0KMdAU9DtJSmT3UCdEaW9odGoQPOOU3QUCrJAf2q8dG\\u002f4xECoV8oyJLSgQOM2GsAHgsFA5dAi2xElwkA9CtejgGHCQEI+6Nm0Zr1A8tJNYgClwEA5C3vanzLQQPCnxks3Rs1Aq8\\u002fVVqx+mUB1kxgEZhjCQNxGA3jrk79AysNCrVWyzEAUrkfhug7EQM\\u002f3U+NleKlA7uvAOXNCxkBHcvkPGVmwQM\\u002f3U+PVrcBAINJvX4f8uUBkzF1L6NSvQGaIY11cVZlAzTtO0bMi00B\\u002f+zpw0jvMQGq8dJMY2LNAsHJokc2toEBGJXUCurG8QD81Xrp52sFA46WbxBAs0kDmriXkIynMQNJvXweeRdxANxrAWyjl5kDcRgN448DmQIPAyqGqGuNATRWMSspOpUDXo3A9KoTBQM6qz9VuHsNARiV1AhKbuUB7FRkdvJu8QMPTK2XpvqhAYVRSJzBd0kC5cCAkvYrWQM6I0t5oKrNAAiuHFrlRt0Bcj8L1GK\\u002fIQAFNhA2Xk7BA8IXJVOkvy0By+Q\\u002fpl52hQGq8dJPYJrdA2\\u002fl+akSYyECDwMqhpaKmQMpUwahEgrJARIts5+sa4kDyQc9mlfWRQLvtQnP5n9tAMLsnD1V\\u002f2UDdJAaBFbG8QIqO5PJ\\u002f3chAbxKDwAJfxkBt5\\u002fup8Ra3QGIQWDlUmrJACKwcWkRYvUBLyAc9e4CvQPp+arx0xp5ArIvbaCCmm0D129eBY06yQLu4jQZASdVAGlHaG\\u002fw0x0BiodY0YyDHQPp+ary0tMRAUrgehasCvkBMpgpGvUbEQF66SQwCoNVAImx4eim\\u002fzUCWIY51tc7FQOxRuB4lgJlA\\u002fyH99n0Q00AQWDm0WNTJQDcawFuwschAZ9Xnaju+1kDiWBe3MTKhQOC+DpwTgqNAPL1SlvE2oUCPwvUo3EGbQADjGTSyY9RAukkMApPJ2ED0bFZ9KjHcQJPjTulwKeFAmpmZmcnMo0CHFtnON\\u002fmXQB3J5T8kgZxAj8L1KJhhzkCI9NvXWSzCQC\\u002fdJAbBWJlAEFg5tAhMw0DLoUW2g63CQF3+Q\\u002foF+7BAi\\u002f1l96xdyEA5tMh2vpeTQGDI6lak3udA2qz6XP1uxEBqvHSTGFObQNwuNNdF8NdA7zhFR\\u002fIooUDByqFFBo\\u002fIQFg5tMiGhdFAejarPhe8nkCDwMqhpUOzQIcW2c73W79AiIVa04wJwEBI4XoUbk\\u002fKQH0\\u002fNV62rOFACYofY161ukCUh4Vah7LVQBKDwMoVyd9Axf6ye2JWt0BGtvP93Iy6QPT91HiJpqRAiUFg5TAKqEB5WKg1bcinQHE9CtejX8ZASL99HYD5xkDtnjws1ISjQCsYldSpSMJABFYOLTKhk0DXo3A9ipbUQD0K16NgMcZArkfhehIT20A17zhFu27AQHE9CtfDeLRA+n5qvIQjrkCtUQ\\u002fRJA7ZQHUCmghbNK9AGCZTBSdFw0BxGw3gnRW1QPZdEfyyrOJA78nDQlFtxkBEozuI637XQDMzMzODQsNAH4XrUXRLwEDcaABvAbCaQCSX\\u002f5BwxOdAAG+BBL1ty0AhsHJo8T7JQBZNZyetw9JAQKTfvo4Dy0DFILByILO3QOOlm8RgVLdAukkMAos8wUCuR+F6jBTAQIleRrGCtNpAnMQgsHI0uEAoDwu1xuCnQDEIrByaH8tADAdCsk0j70CjI7n8v\\u002fvDQNuK\\u002fWXPP9dAUdobfLGJqUDP91PjNYnGQPRsVn0+G6lA9ihcj+Zk5kA730+NRyfKQDlFR3LZCa9Ad76fGo9OyUCk374O1NnFQAq6vaS5ddFAAiuHFlkPrkDcRgN4S0fAQBpR2htcvq5A9+Rhoe2F40Bd3EYDuLmZQNnO91Pr9MFAUPwYc\\u002fdVxUAGgZVDC3yjQCJseHpdscFAaQBvgYTipUDi6ZWy3KCgQG1Wfa6O5bhAveMUHblYvEDLoUW2c5DGQOJYF7fAUOZA3SQGgZVirUDmriXk41ahQBgmUwWjkbJAVfZdEQDh3kAeFmpNB9TJQACRfvty38dAVHQkl\\u002f8DmkCH4SNiYpnsQHE9CtdD\\u002fsJAxyk6kvsMqUBGlPYG\\u002fzjJQINRSZ1AnplAB1+YTEXUuEBEwCFUjzbRQCUGgZVDa5NAYTJVMJqrskA2qz5XayquQAHeAgn8dOVADwu1ptGhykC1N\\u002fjC1Fi3QGq8dJM4IcdAzojS3gh2wEB0JJf\\u002f8AykQDeJQWCN\\u002f81Adk8eFipNtkAEVg4t\\u002fjvBQOwvuydP2L1AxSCwctjatUBMN4lBgBG9QKoOuRn\\u002fV+BAxY8xdy2EmUDarPpcEevBQK5H4XpEn8VAH4XrUZBqz0CitDf4Pg\\u002fRQC2yne\\u002fHIcJAsHJokT3Nq0Dl8h\\u002fSsRPZQEi\\u002ffR0YU7FAGy\\u002fdJC4p40DdtYR82LHAQAaBlUOLq7lAMZkqGGU\\u002foUA\\u002fNV66CWG6QOF6FK5HYJ1AqoJRSTv75EC0WfW5DsXGQLpJDAKjwtZAlWWIY\\u002fvQ4EBQjZdu0uzEQNV46SaxlqxAWmQ738ee40ApXI\\u002fCFe\\u002fBQCzUmuY65+BAa5p3nM6wx0DnjCjt7TCtQGUZ4liXXLpAcjPcgFsfxkDl0CLb+TLGQCcxCKzu\\u002fORANV66Seyyw0D2KFyPQueeQEMc6+JWTapAMuauJVwFvEA1XrpJrFfCQE2EDU93JcxA2PD0SjkqpUDHgOz1wlTYQPjCZKpUrdNA5q4l5JNKyUDufD81Pgq6QInvxKxuAuBA+aBns+6ryUC8BRIUn3KxQCNnYU+JXdJA3GgAb5HOw0D3deCckeu3QCBB8WMkHsBAxSCwcujAmkDSb18HekfIQCegibBxJMNAukkMAtupxECcM6K0TyzAQLx0kxjEp8BAF9nO90Pqx0BCYOXQ2hbYQM\\u002f3U+OlpKpAEhQ\\u002fxmy1r0BeY5eoEMbZQHRGlPYyHcxAhJ7Nqp8juUCwOJz5G6zVQMWPMXeNHLRAF0hQ\\u002fJjBkUBSSZ2AemfaQIY41sUNyORAfT81Xrr\\u002fwECDwMqhaojjQA8LtabGUeZAIEHxYzxkuUB24JwRleWyQBTQRNgwz65AYOXQIrsvsUCP5PIfUim4QGlv8IUfj+ZAexSuR8k2vECvJeSD5mLIQCuHFtlQhuZAdZMYBMYlyEAdyeU\\u002fZNbDQD81XrqJMqRA16NwPQppk0CuR+F6\\u002fJTjQCBB8WO8Q8NAg8DKoQWeskDuWkI+MPbFQGQ730+lMb5Ab4EExb8+tUCqfToeJZ\\u002fZQIv9ZffO\\u002fuBAvJaQDzpwoEDD9ShcL4S\\u002fQEymCkZ1dKJAn6ut2O9hokBoke18\\u002f\\u002fOrQDsBTYR9AqlAOnr83p6A3ECyne+nNKrjQH9qvHQfcMVArrZifzlZq0BTliGONZKfQF5LyAfZosJA+Q\\u002fptyeQwkBSSZ2AVgm1QD2bVZ93ccFAPzVeugn\\u002ftECjkjoBDa7lQMiYu5Y4DMRAvsEXJjvht0AnoImwAV21QFyPwvUo\\u002fppAwOyePJy9w0A4Z0RpazvAQBsN4C3QAZ9AL90kBgEzo0A1XrpJfLnHQM6qz9V+r8JATx4Wak2cyUDtDb4wETDFQGrecYrO48dAGeJYF9dJw0CR7Xw\\u002fRQDGQPyp8dKtWclA0SLb+f68k0C+nxovEb3DQLTIdr6N\\u002fONAsVBrmq8IukChZ7PqbUTQQLaEfNAzU6FAPujZrFp9ukDQ1Vbsf+jSQKAaL920qMNAZDvfT+2KsEBHA3gLoHPCQNv5fmqcW8tAwoanV\\u002fK3wkBrmnecYLzjQPT91HipOKtAwFsgQaOr4UCnrnyWLsXlQFtCPug9zsBAy6FFtp\\u002fR0UCsrdhfzR7lQFInoImwW61At9EA3po9wUC8lpAPLlvDQMUDyqbs7MZABaOSOiFtmUC8dJMYdLbAQGIQWDkE7adAO99Pjc8U00ArhxbZbsmdQCV1AppEwctA1QloIuQcx0BfDOVEG7rQQKOSOgFFp7NAPQrXo9Axv0Bbsb\\u002fsWobWQE0VjEq6NLVADXGsi3m64UCoV8oyhKuuQFyPwvXo4aJA001iEDiY0kCNKO0Nnv2nQPp+aryIw8FAcT0K108hx0AlBoGVw36\\u002fQAisHFqkirtAF9nO94P3y0B1kxgEPhW7QL\\u002fxtWdSSdtAcT0K12PHxUBLAtTUmv7IQE+vlGUgVdFAVg4tsr1dvEC5jQbwPqDEQFCNl26ySrtAOGdEaWcYvUAFo5I6YS63QJwzorTnRsNA\\u002fKnx0s3U0UD5D+m3L+uRQGx4eqUUVcJAiUFg5RDy10AQ6bevg\\u002f6wQLByaJEtDrlA3GgAb5XiyEAwTKYKRvWdQEp7gy+UWbRAAJF++\\u002fpIykCamZmZOR62QOOlm8SgkZNA097gC9NXpUAIrBxa9LLUQCzUmuZ9KbxAaJHtfK\\u002fh0UCtad5xKqqwQHgLJCiGb7JAXrpJDBIkx0BX7C+7IXzRQCxlGeK4hrtATfOOU+z0y0Bcj8L1KG6gQERpb\\u002fAV8eJARPrt64BfnEDgvg6c2zO+QDl\\u002fEwovz9tAy6FFtsOxoECdgCbCBq6RQJ\\u002fNqs+V26lAKVyPwnVjwkBO0ZFc\\u002fti4QAMJih\\u002fbgsVAwTkjSuNMsUBj7lpCTtC1QJwzorS3V51A3SQGgYU1pkDVeOkmMRusQLByaJFT2tZAAtnr3ezr6kC6SQwC6xW9QDBMpgrm8aRAuECC4odXmUDUK2UZmg3AQE8eFmrNdchAK4cW2Ypiz0DiWBe3u2TlQARWDi1oSdRAXkvIB61V40DfT42XfuW3QOOlm8TgKMpAayv2l12StEDecYqOvG+yQJm7lpD378ZAHHxhMnUBtUDecYqOVPi7QPhT46U7MrFAjErqBNzExkCx4emVSgK5QNEi2\\u002fkWp8hAaJHtfD\\u002fZl0CHFtnO9xHIQDcawFugluFAIR\\u002f0bHrj2kDT3uALB6zDQGq8dJMe+uVAPzVeullIw0B6pSxDHAyjQJhuEoNAPKdAc2iR7dC0xEDlYaHWxDLiQMP1KFzPk8tANe84RfWP5EDRItv51ujGQH4dOGe6itdATDeJQWBNnUBkXdxGxQHkQNXnaiv+5M5A+rg2VIrK0UACK4cWuWrFQAisHFowhOZAO99PjRfvu0Ay5q4l2PbHQOauJeQLUrVA6SYxCDwnwUDb+X5qXMi5QMxdS8jH1ZFAPQrXoxCcxkBjf9k9zaTJQP7UeOmmJ7FAEFg5tOiEwEAAkX77uoCqQHh6pSzjTrdAsp3vpwbBukDl0CLbkV3BQJJc\\u002fkM6BKVAMLsnDxeH2UCgibDhyf25QI\\u002fC9Sg8irhAy6FFtvOnuEDjpZvEIOaqQJVliGMdyqVAr5RliLMzpECamZmZ45XmQL7BFyb7DbNAIv32dexB00CLbOf7m5TaQKOSOgEtmLRA2c73U2NKmkAXSFD8kFTHQET67eu+pNxAB\\u002fAWSNBLvEDwhclUdVvEQBWMSupUleVA4C2QoIB5ykAv3SQG8YPJQIBIv32DVdNAdCSX\\u002fyBboUAbnl4pS4qZQIBIv32tiqBAFvvL7m34wECgibDhMcTnQDbNO05JNbJAtvP91Mi9v0CsHFpkS7LIQNIA3gIx1LFAak3zjuvuskB\\u002f2T15uNG9QLbz\\u002fdQIoc1AJQaBlRMW0UD\\u002fIf32FZ6kQEVHcvmVeOBAnYAmwloXzEDufD81\\u002fsq9QAHeAgmCibRAMLsnD6tSo0CaCBuelEPVQPZdEfyrH+FAz\\u002fdT4\\u002fV4yUB2Tx4WOn20QA4tsp2PRcpA9ihcj0JLykCNl24SQ3C1QJAxdy1p4LBAw\\u002fUoXG9quECzJEBNVb3YQNnO91Mjw6ZAPzVeuimAx0B0RpT2Zk\\u002fKQMBbIEHBkbhAGsBbICHepkA1XrpJTF64QI\\u002fC9Sh8uMNACKwcWiS0vEB+HThnZEGyQIts5\\u002fvp5MdAyZOkaypb30Dl0CLb5YLBQBrAWyABAKJAC0YlddKHwkDmP6TffoeRQHxhMlXIpsJA1sVtNPBSoUC\\u002fDpwz4nGZQOhqK\\u002fZvW8lAPQrXoxDNxkDTTWIQGPi7QOxRuB7pEONA+1xtxcbWuEBkO99PXXfTQG3F\\u002frJvh8ZAVOOlm9ws50DOqs\\u002fVLq+xQPT91HjRCuNAx7q4jWiK00D9h\\u002fTbd0euQD0K16PwgeRAcxHfifGgyEDrc7UVRwnkQK1RD9E6zdtAv30dODdUpUAhsHJokTKqQGZmZmZWRcxAfdCzWUmOwkBnYU87xtjZQNNNYhBYirJAryXkg9hn10D0bFZ9Bl69QOLplbK8n6lA0LNZ9WnKwEB6xyk6UufEQDcawFtggLNAvsEXJqO\\u002fo0AxCKwcWn2bQE7RkVw+JaJA9bnaimGFz0ACK4cWKXy+QKabxCDQraZADJOpglX0wkB+jLlrCRmzQHbDtkVH69hAK4cW2VaUsUDb+X5q\\u002fL\\u002fSQPuWOV0aZ9BAqmBUUg8zs0B7FK5Hoci9QOlILv8FbcBAdk8eFgyt20BSuB6F06axQKMBvAXydcxAuB6F69FlqkDlYaHW3Oi7QMHKoUU2w8NAbAn5oHdstUAPC7WmHwnQQG3n+6l5Mr9Ag8DKoYX6vEAX2c73+x\\u002fLQLu4jQbAl7lAOUVHctGTtEBeS8gHcfTQQP7UeOka1eBAzczMzMzTnkDY2CWqC7zUQO\\u002fJw0LF2cBAqaROQGNRsUDEsS5uQ1axQNUJaCLOVNhAvhOzXl6y1kBmiGNd3HLDQIPAyqGFJsBAkQ96Nu9T0kCIaHQHidzhQFpkO9+fHsFAqMZLN4kHtUBGlPYGf67HQLivA+d8KqVAMQisHNonr0AFo5I6pWfIQIzWUdW8aNlARIts50svwUDmP6TfcmHhQApoImxknORAIo51cRu8mkDZX3ZP7rzAQJHtfD+1kJ9A78nDQrkQ0EDmeXB32BbVQPCnxks3PcNAz2bV5\\u002frdukADeAskUivVQFYOLbL5sOVAn82qz4UpsEBVMCqp79nKQL3jFB0JS8lAvp8aLz2fx0DDZKpgjk3iQPaX3ZOwZeNAPZtVn6uVoUDJsIo3avfVQBBYObS2wtNALSEf9MyimkC+wRcmeljgQMUgsHLosqhAIEHxYwhBxkCuR+F6NF7VQKvP1VYMnbxAKe0Nvqy65UALtaZ5VxSsQPhT46XzZeNAPujZrCJXv0A4Z0RpRx3MQGfV52oDJMJA8KfGS1+32ECeXinL8DKqQKhXyjJAscRA5\\u002fup8cIqwEAmAWpqU4LRQAdfmEz1YaNAQYLix7husUAr9pfdU\\u002faeQLG\\u002f7J4ckcZA0NVW7Efp50AW+8vuMZS5QKJFtvPdTLZAtMh2vn+Fu0A\\u002fV1uxF4nBQIj029dpfbZA2qz6XO0GzEAnMQisbFjFQFInoIn2d+NA2V92TzpLy0AaUdobHNadQJSHhVpToMdADeAtkCTKyUD2l92T19KxQNv5fmqss8BAgSbChodsoEA\\u002fxty1BO7gQH4dOGfEnM1An5PeNwY2x0C8BRIUZ2axQKRwPQrn37ZAObTIdv7Yr0CqglFJ4VXNQD0K16PQk9JAtvP91CwWxUBJLv8hnSzGQN5xio50CsNAYOXQIouoxED3Bl+YglnkQC0hH\\u002fREC8ZAKVyPwvUOrEDHSzeJcY7gQESLbOerEcZATDeJQTDRsUAHzhlRJszlQAu1pnmHKppAEyf3O2SB1kAXt9EAPjapQJYhjnUTYtBAz\\u002fdT47X6xUDiWBe30R6rQB3J5T+kMcZA4umVsibx00B6Nqs+dzHEQB+F61EUjsFAR3L5D\\u002fl+xEAZBFYOLbCmQMHKoUWuzsBAcT0K1zN8xkCfzarPp3vkQLTIdr47nddAOiNKeyvAtEBfB84ZMbiiQAYSFD++G8VAr5RliDMDwkA3GsBbkqPhQIts5\\u002ftXseJA7nw\\u002fNW49tkD6fmq8yK7gQF5LyAeVTcBAeAskKK7I5kC77UJz33XSQPLSTWIG+eNAt2J\\u002f2U3Xy0AhsHJoUfPDQNc07ziFzLZA0hitoy4LzEAMAiuHlgObQMoyxLEmw8BAYOXQItvarECzJEBNQTnUQFkXt9GEg8NAkq6ZfFU200ClLEMcy6bFQFTjpZuEx71AHhZqTZPQqEDdJAaBtfCsQCswZHVXBOJAl\\u002f+QfgOswUAIrBxahBK\\u002fQNttF5p\\u002fe9pAlIeFWhPCuEBCYOXQMs\\u002fCQIts5\\u002fuNDMZAtOVcitqt6UDu68A5I6uhQBSuR+H6E8VAYOXQIrtbt0D7OnDOeDehQGfV52rr5cdASS7\\u002fIan940B5WKg1df61QE7RkVyWg8VAYqHWNDc8vECJ0t7gV2XjQGiz6nMJLcxAs3vysHA3o0DfT42XriuvQFkXt9FAL75AwaikTjAEtEBivrwAy4TSQMPTK2WpMaFAQfFjzI3xu0DsUbge\\u002fWu0QL4wmSpAc8VAMQisHHqxsUBxPQrXoz6yQCBj7lpa4LdAswxxrKvG0EBmZmZmpvPVQFfsL7vPqsVAcvkP6dc5uUBoImx46lGxQLbz\\u002fdS41KBAxEKtaepT10BCYOXQ4mC5QJhMFYz6pqZA4L4OnJfl0kBI4XoUxuK9QEjhehReRaZARIts5\\u002fuRpED\\u002fsnvysHPCQEvIBz0P5tFAw9MrZenNwEAAAAAAK0viQDBMpgpmCstAW0I+6NVC1UBWfa62VqPJQDm0yHZmz7RAecxAZbzOykCDUUmdlG3JQK5H4XqY78BAjnVxGxUmsEDg88MIrWXSQFRSJ6BxQ+BAZmZmZtZDtkDF\\u002frJ7mvm4QK5H4Xq0RrNAIv32dcA2uEBOYhBYnQ7BQPH0SlmmDqBA4XoUrgd2w0D99nXg3MvRQOviNhqA\\u002fLNAoFT7dNMF4kBKDAIr78HiQO\\u002fJw0I30tNAdZMYBJYdyECR7Xw\\u002fXf20QLbWFwnBAtdAescpOtKZmkCsHFpkaxvFQJkqGJUk6K5AT0ATYQctyUAdOGdEqSe1QCKOdXE7tK9ABoGVQ7NX5EDQs1n1KXG9QBpR2hs0brJAj+TyH4LBuUA3iUFgVX3AQJWCbi9rg9lAKcsQx3rKukADeAskqLuyQDojSnuL8LlAAwmKHwP6u0Bb07zjHLHEQLU3+MIgUcdAw7tcxKxO7UAe+YOB1bHTQECk377aX8hAUI2XbsIoxkC94xQd4aHAQF1txf4iF6VA2qz6XO04zEDnHafoLODHQLWmeceBSbtAvAUSFN9MqUDZzvdTuxTnQBx8YTI1NehArfpcbUXIsECfPCzUOseoQGRd3EbDv5FAObTIdl7vtUAbL90k5sbBQDVeukksq7dALGUZ4tiHmUBDHOvi8FziQC7\\u002fIf0aNtJA9ihcj0Jmk0Db+X5qbLTPQBLaci5p6s5Am+Ydpyg\\u002fsUDZzvdTA0q5QMX+snteVsZAPZtVn\\u002fcUxkDsL7sn5VvdQPwYc9fi6sNAGlHaGzzAsUBQjZduUpqpQHsUrkcxcrpAaJHtfL+pvED7OnDOdEHEQET67eugS9pAj8L1KDzoxEAoDwu1wbngQJzEILDyYZ1AZmZmZqbTwECSy39ID7mpQB6n6Eiem6dAY+5aQipHzED1udqKDYuyQLdif9nVpNBA16NwPapnxUA3iUFg5WulQHh6pSwLBbFAzczMzILv1UAtIR\\u002f0HF2wQDJ3LSHXLcBAKA8Ltez110Dkg57NuuXLQGEyVTBq4ZpAj8L1KHwl50C62or9VavAQHZxGw1AKa1A5\\u002fup8XJgtUAxCKwcErniQIy5awl567tApHA9Cufdu0BzaJHtlAHhQJAxdy1hrZdArK3YX\\u002fIqwkDpJjEIkE3HQIXrUbges55AF9nO97OzmkDOiNLecPSwQBsN4C14jbRANKK0N6gtpUCPcFrwG5DuQGIQWDnFz+ZA5\\u002fup8ZIRqUB4eqUst3jiQGEyVTDYwtRAiIVa0zxBo0DRItv5pnnPQFXBqKQe+NRAiUFg5ZSN4EB1kxgE9tu6QET67evoHLtAnRGlvWnbsUCq8dJNQrixQFCNl26yxeFA0m9fB3hT0kAczvxqKgTGQJHtfD+1DptAcF8HztktkkCRm+EGLgrTQGfV52qzIbxAXf5D+gUxtUB88rBQVXHbQB3J5T+sWslAMEymCgxv5UDG3LWE5I+wQBniWBerq8lAaLPqcwWKu0BYqDXN81DCQBjPoKHv3tVAfT81XpoqxEAcfGEylarIQMjvbfr3FcVA4XoUrtdJxkAzxLEuRrTEQNXnaiv2O6FA3SQGgVV3mUDhehSux1+fQDC7Jw9XddxA\"},\"xaxis\":\"x\",\"yaxis\":\"y\",\"type\":\"histogram\"},{\"histnorm\":\"probability\",\"marker\":{\"color\":\"#58FA82\"},\"name\":\"Charges Distribution using Log\",\"x\":{\"dtype\":\"f8\",\"bdata\":\"ROsn+eV3I0DVcZyELtAdQEUT0mATzSBAAaXH3AX\\u002fI0DX916FOIUgQAhgD7hpdiBAVM9Bkp0IIkBfABd6Q8khQMXsLTe1hyFAq2BJo3eLJEBfkrKBr6IfQJVyU41ZdyRAGhypx5cKHkDUhKTBsqAiQDrPfbN7LCVAwh3uC2cQHkAUCZLW+JIiQK8QwIz1Hx9AZ7+4pKSJIkDwwEd+TgclQCJX8Zv1+iJAUg\\u002f\\u002fnV6pIEAHFpmlBiUcQPZE\\u002fKEuEyVAm+CUFUN3IUDZwM9vAhgjQJizDDQ7KCNA5rv5zWDUIkCWGGw4wrYfQDWyH8K0ICVAkrScq5r1JEC0brsvFMgeQLF4S6jK5yBA279Ri30PI0BAFF6f0K8lQEaTDob5kh1AJv6YAMZPI0DSJ\\u002fO9dvceQL9aiVyULiVAR1Kp5auQJUCuKr3LDwsgQARCutahAyFArVz38+N8IUD7qTTEP4AhQOZjIcvnbCFA5IK3y3jeI0AnF0qgV0IgQGB9iP1xWiBAmOxWpDzjIkBqRQ6VriAlQOn+A+wWzh5AlpuNYbtdIEBTaHXloyIkQGduNgy8EyVAKBXYA0D9IUC6nuUwbYklQIDksF1nCSNAsfZj+c\\u002fiJEAZlMBukBskQGj52LxBZSFA8\\u002frWzNceIkAgBeR2Y9MgQFCdtP4EoSRA\\u002fXxbR2GnIEAMWJqEWzEjQOz9ggac2h1APDNoXH4gI0Cl6ItEWIYhQP+cQrhJXyFAE96Q9PeOI0BuN\\u002fXCf24jQCj3oLsxpiFA1jNyJOe9IkCJgkqywsYiQDyBFnSo5yFAWvJ5oNSsIkAQ5WEUx48gQIOM1cqqVh1A6xI25UmvH0DT1VWWspQhQH0zlSggzCBAZCpjXEn1IUDavjJS1wslQFCjnLcOniJA3vLEUGEvJUBb7yei9ukjQAkcI0NaXSVARdjBR+OfIkDAzWoKJvshQINGm4NSoCJAb\\u002fHM5Ap1HkCVDCXgypkiQCbjSJBUoSRAmxB1+HxOIUC07hkHNYclQL8L2EnPdyBAXdU3V4TNIkDsWTqgJnciQGkv+yDmCCRAm0JL7JBWI0C0LQ8Dy3UhQOQJ+FH7ZiBAEm8j1efvI0A\\u002flNo4BK4kQKIk3IIyCSFAcKc+JvuLI0C0lzW8YAQfQN1NKjqahiBAuLtQ8iDYH0CYOfmepoQlQHKrp0xLlCJAnZMOpvTDIkDydSksSuMgQDQXRAYKJB9A6A1xYruyIkAoe0YWmqIkQK5sR\\u002fvwrSJAS1utOTi3I0DFH2lVjR4iQKqry5+cnSFAiYL794zoIUAuYNt9ScQdQHOnnpNU4x5A7j1PtsQrJUBQ5RyTjHEiQKMx7ugjQSBAxmbA4899I0BLzErToVgiQIJm73vXyiRACZtAtiJtIUCyTQI9tOoiQKLodO69CSNAOj2x5QykIkAzW4sFdZcdQE6eHSQlOh9AHaQMOBW0HkAFxBD9Xo8cQGwY+Klzfh5AWJ9SqFJuJEA5kC2YUbkeQMHS33pRbyRAlKZ5Cs1QIEBsNaPslLMjQNO\\u002fbrYcnSNA6lwG3VXhI0BndKaoxBYhQPJa+jGeOiVADB5lnWNlIkCV1HMVnZoiQNn8Cp9XEx5AIKKQkncVIUCb25cdzeshQI2quGbqgSFA0bKPra7NI0CM4QYQsbohQHvb3opPsSFAU9\\u002feo\\u002f3sI0ANDZFUrkwjQLin9DLfCCVA5b8fGiHII0AKRniH\\u002f+8jQB+Kkmun\\u002fSRAftmxCUKCIkAIV6AtJhghQF+pvFKtCyFAZhlgvh+AIkCZ3d6rKPcgQDy8jKUGcSFAoCaz0eqhH0BXi9a13vYgQHriTD2\\u002fASNA03ZrvdsAIkDEx2L5w70dQPy8nNdlISFA50taqfLTH0BZd5WKi5clQIqA0ReliyFA+9iDmoyBIkCqOUChmCsiQNZDqiTJGiJAwqdn26W9IkAFhj+m\\u002fZYdQI6KEz0\\u002flyBAx2uR1d\\u002fSIUAqmTwB9uchQNpb8r9lXyVA4L5zwT2UIEA6\\u002f0jNGykhQHphNABspCFA2eEWGNkAIUCHE6lATOAiQM8xAkDF\\u002fCBAyl6vsnurHkAbXLBs7soiQPNbnGFwJRxAtMQHaNabHUDyRGg+WkchQLkYfU1\\u002fGSJAqxAq6yVZIkBdR0516zcjQLjSiZwiqB5Ac05P3l0uIkDEnKlggfIiQE0aSQJpCyVAcXHQkbm\\u002fIUBXkw0cDsAgQBIcUrP4vSJAOQiJoC3nI0BLknh3mBMjQLkmcOm7lyFAVm9OmxFdHkADSwgOwQMiQJ+7jderVyBAOxP2eBYJIUBlCJp+sBkiQMLpCliSzyFAri4JN5Z9IkDjUPC9I0UfQIRX\\u002fPZIQiBAL4SdyoFCJEAfwwkPFAohQKTNvTjUhyJAqrJ5hSAiIUDyZ+Dy3+kkQJSBYeMHwiNAZSV6wH7IIkAAtz21o5YfQDX7geTCMCRAD6jFX6DOIUCR9aMSaEIiQI2LXAqK1CFATQA+3gMYI0B\\u002f2PJ8gdEdQCQvyHoX1yJAm0jzkW2fIUDAp5ZNKMAjQIV8eM3djB1Ay90EmafOIEBEY7if44UjQFua75wfwCFAIAeJ9Q8eJUCsRy991SshQNitHTRy7yRAucVQAEfDIUBFDtb8+pUkQIQNoOL\\u002fNSRA2M\\u002fOq\\u002f\\u002fjIkDyQZawnGAeQM9X1jGIDR5AGpeb\\u002frebIEAlSHpzQ+siQHE7YoRchyVAo1i1D01lJUAm9ffL4rYgQP7rWd1UPyVA+EG4s+LzIkDfSEObW2ElQDoF28dMMCFAM0v7fyW0IkBZ6QI8ftokQJiSqygMwiJA5OLzBPB9I0DrBEuUKT4kQKioXrOk\\u002fiRATUgFok3aI0DeUl\\u002fktnolQHL6KR7BgCNAZDuRBiAtI0CX++hsXNQhQDWMqZmSRSJAd19Gu4vMHUBitoI1zFQlQOpBi7MmyCFAGIriCrxXIkC1LtMGRVUfQNdRG0PvXCJArd+RIDnBH0A3f2CUmrEeQIYPVWg27yJAWV3zBTlkIkAYh9AXCwckQOeXzHemlCVADJw0PQq0IECloQTI28MiQOTRv4csWCJANPE0\\u002fKroIUCMwSXnzU0iQId5v7BAISNA4IEbOrmNJUCzpGRVxlQkQFSjnZ7OHyBA\\u002fNjuB6bVI0CaKPHs0kslQKvOdVeXtB5ANcR++WSKIEClokIUp8MdQKNuLJLHZSNAmCzMUOP+I0DE1LJpLCElQB5bQAHAQyJAzDHilTWiIUDjEw5HPD4kQIj9H2k\\u002f1CJA7yL\\u002f+W\\u002fBIEAwwbbM5eMiQFdHbGkbwCNAx\\u002fAbKh3TI0B7dglxh6kgQC0IzWesxiJAiOJlOiLpIUAD6+0EIRUiQLmrqKIs1x1A6HrOI\\u002flLJUBJbn97WAEiQAtmvhS\\u002f6iRAn960skxdIkChvDWQSiwiQHU0Qah\\u002fgSJA8\\u002fMuKP7SIUB9+l3wlOUgQPAxkx3p\\u002fSBAQPhM9RA6JEDdcyc4QPQkQNrl\\u002fBoytiJA2+sz4sLXH0Dnjghi95YhQNOYj+EoWyBA74g8P6VTJUBJt22vDo4lQOCh5pHoPSJAV3sNFlGUJUC17MFvQzQkQKXUJzqmAiNAV2MQbkG6IkBsRS9lNLgjQMuE30NyESNAFcXIJBfPIkCAW2bvrhUjQEfi3mh4SSVAWSYtDB8IIkDL27+GHbMjQHyoZia1\\u002fyJAaBIVHYH6IkBHai\\u002fKTRcjQBlxjFhumyJAuLluSKR1IUBgj5HBaf0gQCRR0SlqDiJAX50\\u002flY03IUCQMLJpcZkdQGHQgZTDwSJAIpQHEt8xIkBadQy\\u002fDVogQDrkIGAI2iJAnHmZes8cI0D+sjzsozgkQCgC33+PMiJAYSStZuBXIkBtnPlzbRAeQFDuqM6ehx1Axf9bYudtIkCExyP0p+4gQA5X7eU\\u002fEiNAEMg4KhxzH0CbzDkOLSEgQOB00803YCJANjxaOrICI0AuugoYifohQLXBrRnVACJAS5Cnp4ZPIEDdL5eJHQIjQHyuxHtKyiJAsFjDy9ThIUC3kVIzvvwkQJHLp77f8xxArEx4OJuZI0CE7OuEaPcjQOUCjLrpGCVAvDlXCLdqI0BlzooCQmgkQFI83FWEOyNAHMIUeSVOJUCKCST1NeIjQEXosULrWCFAkVzcLXMMIkDbVNmhtY8cQHBv+SfhwiJAKnnqzQSjJEAmkbS5lCAgQHPAhbUe4CBAlVd\\u002fxBiQIkD1ubjXrqseQBWsOHezMyJAQhu9s\\u002f5FIkAFf2D2nEwiQMYblJE42iFA3IK4584ZIkAadoGsxG4jQNUE8rvlOiNA2LHrFeWWHUDe4smpmEQiQIoHZaTJ\\u002fiFA80qEd7EwI0BfFjjaTnkiQOzJzKXYLSBADsqGOaSuIkD5dRHQtq0gQKdkel3eGiJAAtGJWgKbIUC34RDy\\u002fp8gQFROiX9kkB1ATEdsMhvEI0CbUG6+XSgjQPqjFJPwECFA5JBo\\u002fCmqHkDRQxRuws0hQHqvUcK0PSJAIpKeJKipI0BCFqyFCicjQONtJ3HziyRATtxKqNaCJUAUt+cOqX8lQCWwITIoJiVACb9x\\u002ffekH0DH\\u002fuXg8TMiQKKUYbnEYCJAd+Jl93OTIUAqQnxvOcwhQKCHRPgRHyBA2pOt6givI0ArDxOx\\u002fBckQI3W\\u002f+Ag\\u002fyBA+ygkto9jIUBnDJS7kuMiQOodngfStCBA\\u002fSUNBgcVI0DSyAVaHeIeQBI0yubeXyFAVzxXU7jhIkDmdigU3OIfQEoUZk1G7SBA6f\\u002fYZ6gKJUBHwOecHjAcQPHcc9EYgCRAgPHahhBXJED7yKD2ts0hQGb8tLNR5yJAqw9nhDOxIkDVdrfBfl4hQC\\u002fuwTLe7yBAxF733zzZIUDKAx3nqZogQDkb1aelVx5AxIKkFvTpHUAZO2pGo+cgQNUrAl6j+iNA5DU\\u002fZfvDIkD8jJMuNMIiQBjHOp2YiSJAxYchzbjkIUDR90rW3H4iQJbnbLy5AiRA+xevKRhDI0Amnb2cIqQiQAIUoDEglx1AY3pDCzPCI0A9h\\u002fZxzPoiQCD\\u002fGXnI4yJA7rrsFIkcJEBlJ\\u002fWobskeQFd3A\\u002fqbSh9AIspDVYnKHkCInT0VWNsdQAme3C6a5CNAFDhx9ZpIJECWJTuMgIokQAYukTND7yRALuq2lNBZH0DNBhR35FcdQIXJsYQoCR5AIuaDi+ZNI0CWyIP\\u002fy0YiQH4bU57tkB1ALPoKQoRlIkCemmNc0VQiQGN8eHcmwSBAFKmn4+7cIkA8lTJ8QokcQOq0qFoumCVAmqKGSNGCIkDZnlbO3t0dQKY1\\u002fMzDNiRAcTZlY0fHHkDtIyfG9+AiQLnaN9v9liNAI3KyikxWHkBceERawQEhQJEdT0o7+yFAHoaGrscGIkDJYrTQPQQjQICdBSBW\\u002fiRAX7ZVgAqpIUBS\\u002fnqBbwQkQHGOajbtxyRAK9hABvZjIUCBPm+0\\u002f6UhQLTc2NHihB9AXzIJaUAQIEBFXuA4wAogQMVR9upBsSJAQRTmatS+IkBbBgtnLEsfQBUuRzznSSJAVteSBTCLHEDZfHm\\u002fkOkjQLocTPEarSJAHXMm+Mp1JEBQUPPKPhMiQB9ZM87hICFAjy7E1gOEIEAVR9m1G04kQNa268DOlSBAWcBmi81kIkCwxjYf+y8hQDoDF2KDGiVA+INginqyIkA9XU6zNC0kQLmOSmKHZCJA77oDAe8OIkDMa1+NtsUdQGkr9Rz7lSVA6qOYO44ZI0Bkcs3zGO8iQM2jvqYTuiNA3ZlrD8ERI0AXXaEP2WshQFjt9v3JYyFAOl93eLMrIkAtW69ZJggiQDAJaGzCbiRAwSL7gqV2IUD4eVdgywwgQHF4SITTEyNAbv8qakcgJkBX+Jd1aXciQH\\u002fhqjLOJyRAWBrQ2jMvIEDC6FjJ9bQiQKp165N6JiBAGykxn4J3JUCOsS8lLgEjQABCaHQTkyBA5QJ2RVXwIkBt6UxrJ6UiQBkaF08vlSNAl6BVu6yCIEBi+3E9bA4iQAgPUUAwjiBApOFgyUMxJUCBfYr9HaAdQG0bTe2oQCJASI9FsvCYIkC6oMogX0kfQODXinYUOSJA0i1z+lTAH0BdrVBGDqceQOn+o1IThSFA3tFGnYTHIUCpRGI0mrUiQMHYDiu1dSVAkziFkgx3IECDZDjL7tEeQL4KRb\\u002fu7iBABnr1cRy5JEAiMlskxvoiQOzg8Ep30iJA0PxPIpqrHUALanjsu\\u002fQlQEPf2W1kXSJANeZTa1clIEAp5OBKoO4iQLTEB2jWmx1AtF8nV6+DIUAjY+TP5Y0jQEyrKGcjgBxAfA7YvrjxIEAmvZwEeYQgQA6tFE+fYSVANKNSYncKI0DXK1yvK2QhQAGODaJGwiJAIlTYJCIUIkDgB1agsWYfQBc3YclnRyNA61XVP7ZMIUAgpN8goysiQDTLWBjk4SFAvTwoEFtCIUCHlwtRZNQhQCOQBeBA1iRAYZ+qE8KXHUCAdFW7jz8iQCI57QPEnyJAoVaXkA1fI0D3pbIuT4kjQFRSft6hRSJAmq9ri7BaIEAGiEgXjU4kQMrNkXJryyBA04ADmKwnJUCd92JoWRsiQGyDyPO8lCFABfbAkH\\u002fMHkC3s37Vr6IhQLzDEXgAKB5AWPIJZSVWJUADYfB1ProiQJxAAzTsHCRAmxTnONnkJEADf5Pq\\u002fI4iQBbrZ\\u002ff6aCBA4OVj780zJUDM1CJ4AkAiQOFDPtt85yRAjjoUIIvOIkBQVVKIqHMgQO+w\\u002f35ZoiFAs6T3jHqrIkA4d8XQP60iQE6B5eNOViVAB4+2IRJwIkCMmurk5lseQIxYTsBMPiBAWm5zLprBIUCRPPXfiksiQJsCPrTHJiNABY3rxxSeH0DnJpyhFz8kQPB5T+Nk0iNAdozBsgTwIkDCp9tHEJwhQK1BuZ6syyRABGT34qj3IkC1DfviC88gQD+7UqASryNAmqJms95yIkA\\u002fbxnHlnAhQPasi3NXCSJAxKXXSz7IHUChMFiXG9siQGUtVJplYSJA8KAyCYyIIkBbukzIGAsiQL3TeuojGiJAWXbFEF\\u002fTIkB8t1Vo+jkkQG1l9GLlRCBA3hvElAOeIEC1gj88lVwkQKykeDwxJiNAO69figmKIUCg2Ljv1wMkQI+k1wjLFyFAFDnsmXkkHEAfn7wn9WgkQLexNok+USVA16+zbpgkIkBMC8IGhTElQGC0UKTMdSVAuKNj6SaPIUC32xYt5fcgQJ8H20BIjyBAc1QkKFLHIECkuNTtuXUhQPEMO2xEeyVArXxFNB7FIUAOZL6hXN0iQEiII2F8eiVAi\\u002fit7FLYIkD\\u002fqW7HqHMiQKs0oLgqbh9A9XHfGa5\\u002fHEBztNkXzjIlQDKWEOenZCJA9A\\u002fTzEPwIED9vdNCvqciQGQxR83X5yFA8caLKt4zIUC4x0fKjVkkQH+yoxtF6iRAlgSk\\u002f0mbHkAPnFRFyv0hQPvrohLHER9AFfoKYMENH0C2vwhfeF0gQJ\\u002fTVsuAJCBAdy4\\u002fphuQJEDx4m689zQlQJR+ReBimyJAGuw2YEZSIEBsB\\u002fQOy3EeQIRtr6KsUyJAm5oSE6pRIkCinMOc0C4hQBfktDPOMSJAB\\u002fC2r9UtIUCh5L776WYlQOD7ucoOeSJAQAP2ULlvIUAFlDtXtTYhQETLO1Bc0R1AvzhEnSdxIkAZlWsz9gwiQGgDp0ZVXx5ATuQLK0Q6H0B+82mMRs8iQB4D5KYHVSJAHCpsyXD2IkBStIULYJUiQMkowLfU0iJA\\u002fuetCUplIkAXSMkYqagiQLaY9Q028SJAVh7kPNaQHECpZI6GGXEiQLhEzWxGPSVAJyaOqfGbIUAffV9F9nAjQBPkdOoU0R5Ao3CbSNSkIUAIOYeS\\u002fL0jQKlTjlIIbyJAa\\u002fgeLsazIEDCPADNlE4iQIGDUms7GCNAHaKXBO9VIkCBC\\u002foB0DYlQBQI9lbjTyBA65qT\\u002fTb+JEBN3l4fC2klQFHggmS9HiJAFqN82pqfI0C1hKyMhlklQFhw\\u002f2OUdiBA9qXpAtMrIkAwfA6BFWciQPmd0tq7vSJA7gR8gSOUHUCIrqKl5hsiQFE7+pLRDSBATwkg+qbCI0D4lhGIODYeQD+x9D6cHyNAIlmkwObBIkD1mLiyOn8jQHd9trT+CyFA5+aTP4n4IUAeA0EWmRckQA0NXG7sMiFA1H6iMOT\\u002fJEBVyC4P9owgQLwIW+c6KR9Ag+SwfGy1I0DtuP9XNA8gQJekpzAhOyJAmzMFpUjCIkB6HJYscv0hQKSdmXjEuCFAY\\u002fxjKIEjI0AsG0GgK7AhQMsmNOHIeSRAjcioqnajIkAdrsuZ+ekiQJEu\\u002f95vkSNAJhiTN9\\u002fHIUAteii2nYciQOyoFU4atCFAsA2s2N3UIUBP4stnhWAhQJqLqxr8ZCJAlje6MvafI0DmUcgdzS0cQLyWYH5CSyJARdLcJeo2JEDCi+Cvj8EgQF0IzwhUiCFArBfiV7rnIkAuJodZFzweQEYL1YHTHSFAv1HSPsADI0B3B+AmfEghQGXWXqQCiBxAiunqyqmmH0B1MgV8UewjQMaIMbosxCFAD902jWehI0AUiN16ibcgQFsW7sM+6yBAPCW+sYXCIkCZRz0L65UjQIDi2JR7uCFA+RemsFEjI0CAySY4yZoeQCNvDAzJISVAzf1eTm0EHkBfS6RO\\u002fechQBFOeeOAgyRAvRXIFh2rHkBIx\\u002fx+DiAcQOai3nqTNSBAzjgyetNMIkBWq9ixEIQhQEptbYMhnSJAHuaG5rPKIEDO21LpY0EhQCyRFtTVJh5ABT5ARmTPH0AwqwFORGAgQGnvlQcAHyRALw5RwsjVJUCxvc4XstQhQHd+m2Vhkx9A7XpjMryQHUAbNr35SAciQPY3uuLo3iJArmDcxYpeI0D5w5fzGmAlQIUu2l0E4iNARco6NUwsJUCtgx6yFHAhQAFjXG9NASNAQK8ehWAjIUB2bbWqROsgQKeW9cn\\u002fvSJARPxBrhAuIUA71fPiq8AhQHy7J6ycxyBAhRm4ATq6IkC8ApjoYIchQDcibofs4iJAqB\\u002fXVYtSHUAReJhQrtYiQDqpd8XU+yRAfqdr00NyJEDEs2\\u002fJXm8iQNNKez\\u002fibSVAzVcYfSJlIkDUA0eCITIfQNYiQ4Km\\u002fR9A4mdVVpuJIkDkrg4QSQ0lQOS8QvtSHCNAts0NJtFLJUBmImOZYL0iQGuFjsI1LiRAFwm1rWwlHkDcTgoAzD0lQI7rG3F6ViNAoLnqKM+eI0AMlSLZ4ZoiQDQgHgZMeiVAIVTgqgLAIUA9zhQXbNQiQNuCFGeuNSFAGQAZ+zgpIkBjR0Z2+pYhQI\\u002fS2PYCKRxAqQOecqG2IkCm8NuXGvciQMguOUFhxiBAqgT2+e8VIkDIuhhWMUIgQAFlGnBRYyFAGQTmx+mpIUAFdYvbhC8iQLOU6vnflh9A0+QEN6xXJECCcDEsG5shQPRaeLKvfSFAGo6KPxqAIUBY4861yUkgQHl+86rcux9AdfN\\u002fsWVuH0BQpWDk3XslQMi2SDcn\\u002fCBAWojC6lvHI0DRPO1eXWwkQLwMKgzxIyFAnGe1Ml62HUAByhVQssYiQGrwpPqikiRAW6TBO5vGIUA4oB355oAiQDzcgOegZCVAMw+BAG4HI0ASvtLciPQiQEVwR7ljySNAU1v0\\u002fujSHkAzwH9nt5gdQD4ut420oR5AZ0MRa7wjIkBTc5DW9ZUlQKCMGE\\u002fj5CBAFllqrm4BIkC0Il4H1eMiQFg+5Dsc2iBAyWnX7+H4IECeJEoEc+EhQNGAfpQQQSNAeXgABhyKI0AQwPhpP4MfQEDAgtg52iRAA3s5wcYlI0BJrbhz\\u002f+AhQBPsc+GDIiFAm7F5k9dAH0AxQM3sGvojQGe472wf7iRAnVk2VKzzIkAoFLtZUSEhQEcFdp99AyNAA2g\\u002fpOwDI0C1ou8CgjghQNx+sJMBviBAf8AyihZ7IUBijCvenUckQM9eW9WV6B9AcnKBmGvKIkCs+jVGPQQjQOF3c39MfiFApusDSVHtH0DAl17HF3ohQCGHkZ2icCJAoMSIhe3NIUDkK4NGN+YgQG423XHs0iJAWPaqkPbAJEAEFNPVzDMiQAcdZXw4+B5AjJCyCMRQIkD1kpVETRccQNADbbEYVCJAJ19ATgXRHkADuRTj4pQdQN1fJ5BZ8SJAblWZZPK6IkCQZZiPp8AhQNyP3ngiJSVADV9GAOODIUBtU5Aa4cwjQHcu8XjNtCJAadYUbxCJJUDsuIoc8dUgQC+p6cN+JCVAXvNVCtXOI0A2yzwjZYYgQCZRWKJzSiVARQaK0WziIkAaMU\\u002f5iz4lQJo6j+hcgyRAbxrJmPylH0B3ar6TQjwgQHH1ATAKKSNA+M1ThnZRIkCgAIVfCF4kQLgqJ4Il7iBA1nYb6zwrJEDNnXdOodkhQIjqXA\\u002ftMCBAI8IfuEgeIkCP3JRAdo4iQDelnYsFCCFAbFK3midXH0CuREKaCeQdQJPLWnd2AB9AtNv+4sFgI0Cm3f9MwewhQH9kNbvU5B9Avow6clhcIkDBdgTzT\\u002f0gQFt7Q0xRSyRAFtQMneXSIEB3HfDqrrkjQLNInhM1dSNAQt+9wgcAIUC1H0HW1uAhQA2RwI8JEyJAgc7C4gqBJEAaUmHx\\u002ftQgQCN5J493LCNA4ibobShAIEAOvbZwkL8hQOugP9K4cSJA1KGrWic4IUDuiNNAnmkjQEraqxWU+CFA0oJA8s7SIUA+Lm272hMjQBSwOY8xkyFAH9e0qoQjIUB4rxk8KIYjQGd5mbJW5SRA5w4sSGFZHkBbPc8pMu0jQCtrHygcICJATJZHATnLIEDa4BsTycsgQGEnvYwYPyRAs6sovH0bJEAzPTRohmkiQFkLsGBhCiJApy8SqgauI0AmF7cwuAMlQOCGhrs3KCJAwuLIv6QuIUCohWMsWc4iQOL5644hnh9AEN5tbwGVIEDLyGo3wN0iQKoJTAdKVSRA0iw2ZikqIkCT04SMv\\u002fUkQHPfvGQGTSVAzG\\u002fSeobHHUBZozrvrBwiQHB\\u002f6FyacR5Az0yHsJBqI0CxRIlV4fUjQKcNxYH6YyJAWPJ+txKsIUDxvw990fcjQEkxcwgvZyVAJwKfSNynIEBjgjjRqQ4jQJnxu\\u002fcN8CJAULYV5Q7NIkCDs76MOBAlQIOEzJXzLSVAXRRYYVDgHkDeEb4JvwokQCPMChmQ1CNA\\u002f2reYrvDHUCMiYjuT9YkQNOqYF8ZHiBAhrvKnoOuIkBSP\\u002fBumvwjQAl1VfBQzCFAFBH1xhNoJUCVp750x18gQNpbHID6LSVAcFioXez6IUBtyduwMiYjQIRHyuPgRSJAAKK5cSJHJECYQeTbSTwgQKlZ5SVDiSJAfHx1tecKIkCj5dRLoJYjQKU0\\u002f5oARB9AluZdZ5nOIECKQlKx2V0eQFDe1CyptSJAm04qXBKZJUCh30lr6pIhQAWB4WuvTCFAdhbS02S4IUB\\u002fHOHUgTQiQJ8lFU4FUSFAQiOgAJskI0BnSHaqK5kiQIQ3YgjVLyVAJ3gIcwgXI0C9q6336zceQP4YyHEmzSJAfbRMBwL6IkAev3J69dkgQIdQ+HORGyJAqPcLk2OaHkAf7VRQSugkQJ4ko9HGQCNApaa6UxLEIkAB2L7WpM0gQL\\u002fz4IW0WSFAPw4UqUCgIEBRR4Bo9zsjQKjw2SrztCNA\\u002f05v3uySIkAz4+b+rKwiQOoVr6GsXiJAYoDuhWuIIkDtBBFXfkYlQFbr486oqSJAm7ceSmVfIEBB54OI39wkQEts\\u002fWs9qiJAUTvt98XZIEBVQYTjrmklQD\\u002fsml+CsR1A4uxpNigXJEAwwIMAoCggQO0\\u002fvBGYdCNAHUKMpCeoIkD5NGBd\\u002fE0gQJe0CwkhrSJAMjV\\u002fzz3ZI0A89l+NwnwiQEexAFsTNSJAWV01KWGEIkA4g1pnP+UfQFrYo8PKHiJAyerP682zIkDJHKej1kklQJtZhprHLyRAtRswl88nIUDx246yWiAfQL\\u002fwy\\u002f5zkyJABmQXhT9CIkBYj\\u002f4RTf0kQOEv9KgCGyVAwXVvh0xLIUDkt0bbw+AkQNSNF9gxDyJA++aARViAJUDY0JdXt7EjQFqtOf\\u002frPCVAQZ3oHjIhI0Bn5m0+kXYiQMi04PkBWCFA64uwtegkI0DK8DkmKtIdQK9gbxFrHSJAT8t9FLptIEA1uKUWbOAjQP5ckTU8ayJAQzjhaifGI0A\\u002fH3UadqAiQHC0NrjD4CFAoTc+7n4gIEBIjCFEPW8gQOjH1k0oCCVAzksignk4IkCPwrKKhvYhQBIE3sh4aiRAOt9mmjeCIUD24Dt6aVgiQF3UKajGqSJAUULCkpe9JUC3FAKAL+UeQOlLBI+3kiJAf66xQ2tkIUBNFjTAqMoeQGdhpf0B0yJA+wqox2I9JUD6DDG4mkUhQEGjtOsynSJAFC3PsYDFIUATfnRw6i0lQMFvzVlRJyNAj2wPqzA7H0Ck8WFcQJUgQF43mTmv5yFA54IxTl0VIUALuPF\\u002fVLMjQFQn0fJOyR5AinGkyC\\u002fAIUDcZVThoR8hQAp+EY6tmyJAnfMzgzPWIEDdQTQQ6uUgQN+E4XymbyFAVjw\\u002ftrqAI0C+U1NBZwokQMtRuxXVoCJAVr42Tc2LIUAJbcOeSMsgQNnvwZZ0sx5AFwBFOIgpJECFPaNY444hQI70n\\u002fef4x9As5zN0a29I0B3hLt+l+IhQGDq0t890h9AsXF+q+WAH0DTKwKilk4iQOTSgbvkoSNAlPurVbMeIkCSoe+59Q8lQLjPsKdCEiNApdaC\\u002fAj6I0D1RT9h\\u002ffYiQJQorthGKSFAj8S0E9QNI0CYwvJjx\\u002fIiQGE4SKGxIiJAu0hRQW+nIEB98EtZ9a8jQIPvtW+70yRAnH0V8t9LIUDIOFvsroYhQEkaJZoSAiFAP7L8O9Z2IUDvJJ8LWCYiQC5jtAhEgx5AxLzZz9lpIkAt3lY29Z4jQPMTiH+YFCFA0UjFelIIJUDXuWdLyBwlQHZjsCUh1iNA4afINaXXIkBSnnfdrC0hQJie2amGIiRAU1e182HCHUDV1gklbJMiQNDT30LmkCBAZEGBI63tIkDh3EGSsDEhQHciOVLwnSBAJUOQy1BGJUASCQ6N7tohQNWkPxYa6yBAl0PsTnKWIUDurfr3BBUiQBF3AI9iVyRAX9uakp6qIUDELwVGcPMgQIQSpgYWmiFAyaasq8rAIUDWhzm8P4kiQH+radVmxiJAR0oE+EEBJkAKB\\u002fcC2tIjQMKkMqoc3SJAQh9r+FOsIkDNKnrUbhkiQO14I653mh9Ax5bOPCkoI0CGiULehtIiQIE5PvoDtCFAEPfav2oqIEB2fvpA+oYlQPCK7yRinyVA+66YLSO7IEAHgz\\u002f2vR8gQE1GacQPJBxAHZg9\\u002fjpEIUAXvokjgjsiQG63Tx4tayFA+8AETVWYHUDjt6M25hElQA0Kl7bCqiNAPPtbZht\\u002fHEBON\\u002ffIu2MjQEfrhzPUViNARdkK9hzJIEBA8iMUFY0hQJIWx5ZtsCJAADt+3ImqIkDV3m6JRJ8kQCHeIqy4dSJAEnx8393XIEAx+IzQgDAgQAvYiF78oyFAJ43y\\u002fDPNIUAp35VdV34iQJsjjgHYZiRAllbmoYyOIkCvmB8tFOIkQP+OLps6KB5Anp7yDWIfIkDoj2cQ5jIgQLKe8gT4BiBAymsdSCspI0DExF4VOe4gQD\\u002fAPPutfCNA\\u002f1XcuJiaIkDz65QGa6ofQNkYmkBUwiBAJJE+rgYKJECv8+SANK4gQGi9hi1JCyJA3qFsoDw3JEAj5iQkOyIjQErLdI8XzR1AqlOBXG2IJUDtKKmckRoiQISx+sUhcyBAKAEF0Qc3IUBts8Yi1hslQBkYh1DAvyFA6nIFOce+IUDM8w2hmOokQHSxzu8oSx1AL+WRbqRGIkCBbGuFGMYiQPrT53whVR5AoecQYkTGHUDNgGXXX8AgQI20\\u002fZrmIiFA0smC1rqeH0DgYat5vBYmQAHz7ID3gCVAcr+iObUlIEDZwuBY6hQlQOBPNvHZ7SNAU8oEOjo9H0DHRnE8A2AjQA9gTj\\u002f18iNAL2Og4MTcJEAAWM877KshQKt+NoC8sCFAzVbCdOvaIEAoYMie99YgQDGSuOMnASVAquttqPmtI0ALvoO2A6kiQCgsClTP0x1A3BHYXpM8HEDkGwxpicEjQJRJ7gGfwyFAbz1S9pIyIUDsSveBtXwkQBWsMiBK8SJABp7RjRFhJUBisDbHX7QgQIjrhJ6j9yJA8GqF7ri4IUBqZQElz0oiQG2RuDuDCCRAikQabhR8IkA0ou8NNeMiQEArFNvnkiJAo75OJk6vIkBG5W3vjYkiQO9\\u002fSqazyx5Adqj+I76VHUBs4EdHYmseQFN+O9tQjyRA\"},\"xaxis\":\"x2\",\"yaxis\":\"y2\",\"type\":\"histogram\"}],                        {\"annotations\":[{\"font\":{\"size\":16},\"showarrow\":false,\"text\":\"Charge Distribution\",\"x\":0.5,\"xanchor\":\"center\",\"xref\":\"paper\",\"y\":1.0,\"yanchor\":\"bottom\",\"yref\":\"paper\"},{\"font\":{\"size\":16},\"showarrow\":false,\"text\":\"Log Charge Distribution\",\"x\":0.5,\"xanchor\":\"center\",\"xref\":\"paper\",\"y\":0.375,\"yanchor\":\"bottom\",\"yref\":\"paper\"}],\"bargap\":0.05,\"showlegend\":true,\"template\":{\"data\":{\"barpolar\":[{\"marker\":{\"line\":{\"color\":\"#E5ECF6\",\"width\":0.5},\"pattern\":{\"fillmode\":\"overlay\",\"size\":10,\"solidity\":0.2}},\"type\":\"barpolar\"}],\"bar\":[{\"error_x\":{\"color\":\"#2a3f5f\"},\"error_y\":{\"color\":\"#2a3f5f\"},\"marker\":{\"line\":{\"color\":\"#E5ECF6\",\"width\":0.5},\"pattern\":{\"fillmode\":\"overlay\",\"size\":10,\"solidity\":0.2}},\"type\":\"bar\"}],\"carpet\":[{\"aaxis\":{\"endlinecolor\":\"#2a3f5f\",\"gridcolor\":\"white\",\"linecolor\":\"white\",\"minorgridcolor\":\"white\",\"startlinecolor\":\"#2a3f5f\"},\"baxis\":{\"endlinecolor\":\"#2a3f5f\",\"gridcolor\":\"white\",\"linecolor\":\"white\",\"minorgridcolor\":\"white\",\"startlinecolor\":\"#2a3f5f\"},\"type\":\"carpet\"}],\"choropleth\":[{\"colorbar\":{\"outlinewidth\":0,\"ticks\":\"\"},\"type\":\"choropleth\"}],\"contourcarpet\":[{\"colorbar\":{\"outlinewidth\":0,\"ticks\":\"\"},\"type\":\"contourcarpet\"}],\"contour\":[{\"colorbar\":{\"outlinewidth\":0,\"ticks\":\"\"},\"colorscale\":[[0.0,\"#0d0887\"],[0.1111111111111111,\"#46039f\"],[0.2222222222222222,\"#7201a8\"],[0.3333333333333333,\"#9c179e\"],[0.4444444444444444,\"#bd3786\"],[0.5555555555555556,\"#d8576b\"],[0.6666666666666666,\"#ed7953\"],[0.7777777777777778,\"#fb9f3a\"],[0.8888888888888888,\"#fdca26\"],[1.0,\"#f0f921\"]],\"type\":\"contour\"}],\"heatmap\":[{\"colorbar\":{\"outlinewidth\":0,\"ticks\":\"\"},\"colorscale\":[[0.0,\"#0d0887\"],[0.1111111111111111,\"#46039f\"],[0.2222222222222222,\"#7201a8\"],[0.3333333333333333,\"#9c179e\"],[0.4444444444444444,\"#bd3786\"],[0.5555555555555556,\"#d8576b\"],[0.6666666666666666,\"#ed7953\"],[0.7777777777777778,\"#fb9f3a\"],[0.8888888888888888,\"#fdca26\"],[1.0,\"#f0f921\"]],\"type\":\"heatmap\"}],\"histogram2dcontour\":[{\"colorbar\":{\"outlinewidth\":0,\"ticks\":\"\"},\"colorscale\":[[0.0,\"#0d0887\"],[0.1111111111111111,\"#46039f\"],[0.2222222222222222,\"#7201a8\"],[0.3333333333333333,\"#9c179e\"],[0.4444444444444444,\"#bd3786\"],[0.5555555555555556,\"#d8576b\"],[0.6666666666666666,\"#ed7953\"],[0.7777777777777778,\"#fb9f3a\"],[0.8888888888888888,\"#fdca26\"],[1.0,\"#f0f921\"]],\"type\":\"histogram2dcontour\"}],\"histogram2d\":[{\"colorbar\":{\"outlinewidth\":0,\"ticks\":\"\"},\"colorscale\":[[0.0,\"#0d0887\"],[0.1111111111111111,\"#46039f\"],[0.2222222222222222,\"#7201a8\"],[0.3333333333333333,\"#9c179e\"],[0.4444444444444444,\"#bd3786\"],[0.5555555555555556,\"#d8576b\"],[0.6666666666666666,\"#ed7953\"],[0.7777777777777778,\"#fb9f3a\"],[0.8888888888888888,\"#fdca26\"],[1.0,\"#f0f921\"]],\"type\":\"histogram2d\"}],\"histogram\":[{\"marker\":{\"pattern\":{\"fillmode\":\"overlay\",\"size\":10,\"solidity\":0.2}},\"type\":\"histogram\"}],\"mesh3d\":[{\"colorbar\":{\"outlinewidth\":0,\"ticks\":\"\"},\"type\":\"mesh3d\"}],\"parcoords\":[{\"line\":{\"colorbar\":{\"outlinewidth\":0,\"ticks\":\"\"}},\"type\":\"parcoords\"}],\"pie\":[{\"automargin\":true,\"type\":\"pie\"}],\"scatter3d\":[{\"line\":{\"colorbar\":{\"outlinewidth\":0,\"ticks\":\"\"}},\"marker\":{\"colorbar\":{\"outlinewidth\":0,\"ticks\":\"\"}},\"type\":\"scatter3d\"}],\"scattercarpet\":[{\"marker\":{\"colorbar\":{\"outlinewidth\":0,\"ticks\":\"\"}},\"type\":\"scattercarpet\"}],\"scattergeo\":[{\"marker\":{\"colorbar\":{\"outlinewidth\":0,\"ticks\":\"\"}},\"type\":\"scattergeo\"}],\"scattergl\":[{\"marker\":{\"colorbar\":{\"outlinewidth\":0,\"ticks\":\"\"}},\"type\":\"scattergl\"}],\"scattermapbox\":[{\"marker\":{\"colorbar\":{\"outlinewidth\":0,\"ticks\":\"\"}},\"type\":\"scattermapbox\"}],\"scattermap\":[{\"marker\":{\"colorbar\":{\"outlinewidth\":0,\"ticks\":\"\"}},\"type\":\"scattermap\"}],\"scatterpolargl\":[{\"marker\":{\"colorbar\":{\"outlinewidth\":0,\"ticks\":\"\"}},\"type\":\"scatterpolargl\"}],\"scatterpolar\":[{\"marker\":{\"colorbar\":{\"outlinewidth\":0,\"ticks\":\"\"}},\"type\":\"scatterpolar\"}],\"scatter\":[{\"fillpattern\":{\"fillmode\":\"overlay\",\"size\":10,\"solidity\":0.2},\"type\":\"scatter\"}],\"scatterternary\":[{\"marker\":{\"colorbar\":{\"outlinewidth\":0,\"ticks\":\"\"}},\"type\":\"scatterternary\"}],\"surface\":[{\"colorbar\":{\"outlinewidth\":0,\"ticks\":\"\"},\"colorscale\":[[0.0,\"#0d0887\"],[0.1111111111111111,\"#46039f\"],[0.2222222222222222,\"#7201a8\"],[0.3333333333333333,\"#9c179e\"],[0.4444444444444444,\"#bd3786\"],[0.5555555555555556,\"#d8576b\"],[0.6666666666666666,\"#ed7953\"],[0.7777777777777778,\"#fb9f3a\"],[0.8888888888888888,\"#fdca26\"],[1.0,\"#f0f921\"]],\"type\":\"surface\"}],\"table\":[{\"cells\":{\"fill\":{\"color\":\"#EBF0F8\"},\"line\":{\"color\":\"white\"}},\"header\":{\"fill\":{\"color\":\"#C8D4E3\"},\"line\":{\"color\":\"white\"}},\"type\":\"table\"}]},\"layout\":{\"annotationdefaults\":{\"arrowcolor\":\"#2a3f5f\",\"arrowhead\":0,\"arrowwidth\":1},\"autotypenumbers\":\"strict\",\"coloraxis\":{\"colorbar\":{\"outlinewidth\":0,\"ticks\":\"\"}},\"colorscale\":{\"diverging\":[[0,\"#8e0152\"],[0.1,\"#c51b7d\"],[0.2,\"#de77ae\"],[0.3,\"#f1b6da\"],[0.4,\"#fde0ef\"],[0.5,\"#f7f7f7\"],[0.6,\"#e6f5d0\"],[0.7,\"#b8e186\"],[0.8,\"#7fbc41\"],[0.9,\"#4d9221\"],[1,\"#276419\"]],\"sequential\":[[0.0,\"#0d0887\"],[0.1111111111111111,\"#46039f\"],[0.2222222222222222,\"#7201a8\"],[0.3333333333333333,\"#9c179e\"],[0.4444444444444444,\"#bd3786\"],[0.5555555555555556,\"#d8576b\"],[0.6666666666666666,\"#ed7953\"],[0.7777777777777778,\"#fb9f3a\"],[0.8888888888888888,\"#fdca26\"],[1.0,\"#f0f921\"]],\"sequentialminus\":[[0.0,\"#0d0887\"],[0.1111111111111111,\"#46039f\"],[0.2222222222222222,\"#7201a8\"],[0.3333333333333333,\"#9c179e\"],[0.4444444444444444,\"#bd3786\"],[0.5555555555555556,\"#d8576b\"],[0.6666666666666666,\"#ed7953\"],[0.7777777777777778,\"#fb9f3a\"],[0.8888888888888888,\"#fdca26\"],[1.0,\"#f0f921\"]]},\"colorway\":[\"#636efa\",\"#EF553B\",\"#00cc96\",\"#ab63fa\",\"#FFA15A\",\"#19d3f3\",\"#FF6692\",\"#B6E880\",\"#FF97FF\",\"#FECB52\"],\"font\":{\"color\":\"#2a3f5f\"},\"geo\":{\"bgcolor\":\"white\",\"lakecolor\":\"white\",\"landcolor\":\"#E5ECF6\",\"showlakes\":true,\"showland\":true,\"subunitcolor\":\"white\"},\"hoverlabel\":{\"align\":\"left\"},\"hovermode\":\"closest\",\"mapbox\":{\"style\":\"light\"},\"paper_bgcolor\":\"white\",\"plot_bgcolor\":\"#E5ECF6\",\"polar\":{\"angularaxis\":{\"gridcolor\":\"white\",\"linecolor\":\"white\",\"ticks\":\"\"},\"bgcolor\":\"#E5ECF6\",\"radialaxis\":{\"gridcolor\":\"white\",\"linecolor\":\"white\",\"ticks\":\"\"}},\"scene\":{\"xaxis\":{\"backgroundcolor\":\"#E5ECF6\",\"gridcolor\":\"white\",\"gridwidth\":2,\"linecolor\":\"white\",\"showbackground\":true,\"ticks\":\"\",\"zerolinecolor\":\"white\"},\"yaxis\":{\"backgroundcolor\":\"#E5ECF6\",\"gridcolor\":\"white\",\"gridwidth\":2,\"linecolor\":\"white\",\"showbackground\":true,\"ticks\":\"\",\"zerolinecolor\":\"white\"},\"zaxis\":{\"backgroundcolor\":\"#E5ECF6\",\"gridcolor\":\"white\",\"gridwidth\":2,\"linecolor\":\"white\",\"showbackground\":true,\"ticks\":\"\",\"zerolinecolor\":\"white\"}},\"shapedefaults\":{\"line\":{\"color\":\"#2a3f5f\"}},\"ternary\":{\"aaxis\":{\"gridcolor\":\"white\",\"linecolor\":\"white\",\"ticks\":\"\"},\"baxis\":{\"gridcolor\":\"white\",\"linecolor\":\"white\",\"ticks\":\"\"},\"bgcolor\":\"#E5ECF6\",\"caxis\":{\"gridcolor\":\"white\",\"linecolor\":\"white\",\"ticks\":\"\"}},\"title\":{\"x\":0.05},\"xaxis\":{\"automargin\":true,\"gridcolor\":\"white\",\"linecolor\":\"white\",\"ticks\":\"\",\"title\":{\"standoff\":15},\"zerolinecolor\":\"white\",\"zerolinewidth\":2},\"yaxis\":{\"automargin\":true,\"gridcolor\":\"white\",\"linecolor\":\"white\",\"ticks\":\"\",\"title\":{\"standoff\":15},\"zerolinecolor\":\"white\",\"zerolinewidth\":2}}},\"title\":{\"text\":\"Charge Distribution\"},\"xaxis\":{\"anchor\":\"y\",\"domain\":[0.0,1.0]},\"yaxis\":{\"anchor\":\"x\",\"domain\":[0.625,1.0]},\"xaxis2\":{\"anchor\":\"y2\",\"domain\":[0.0,1.0]},\"yaxis2\":{\"anchor\":\"x2\",\"domain\":[0.0,0.375]}},                        {\"responsive\": true}                    ).then(function(){\n",
       "                            \n",
       "var gd = document.getElementById('1d47d56f-753c-49eb-b2df-bdd9d28ce106');\n",
       "var x = new MutationObserver(function (mutations, observer) {{\n",
       "        var display = window.getComputedStyle(gd).display;\n",
       "        if (!display || display === 'none') {{\n",
       "            console.log([gd, 'removed!']);\n",
       "            Plotly.purge(gd);\n",
       "            observer.disconnect();\n",
       "        }}\n",
       "}});\n",
       "\n",
       "// Listen for the removal of the full notebook cells\n",
       "var notebookContainer = gd.closest('#notebook-container');\n",
       "if (notebookContainer) {{\n",
       "    x.observe(notebookContainer, {childList: true});\n",
       "}}\n",
       "\n",
       "// Listen for the clearing of the current output cell\n",
       "var outputEl = gd.closest('.output');\n",
       "if (outputEl) {{\n",
       "    x.observe(outputEl, {childList: true});\n",
       "}}\n",
       "\n",
       "                        })                };            </script>        </div>"
      ]
     },
     "metadata": {},
     "output_type": "display_data"
    }
   ],
   "source": [
    "charge_dist = df[\"charges\"].values\n",
    "logcharge = np.log(df[\"charges\"])\n",
    "\n",
    "\n",
    "trace0 = go.Histogram(\n",
    "    x=charge_dist,\n",
    "    histnorm='probability',\n",
    "    name=\"Charges Distribution\",\n",
    "    marker = dict(\n",
    "        color = '#FA5858',\n",
    "    )\n",
    ")\n",
    "trace1 = go.Histogram(\n",
    "    x=logcharge,\n",
    "    histnorm='probability',\n",
    "    name=\"Charges Distribution using Log\",\n",
    "    marker = dict(\n",
    "        color = '#58FA82',\n",
    "    )\n",
    ")\n",
    "\n",
    "fig = make_subplots(rows=2, cols=1,\n",
    "                          subplot_titles=('Charge Distribution','Log Charge Distribution'),\n",
    "                         print_grid=False)\n",
    "\n",
    "\n",
    "\n",
    "fig.append_trace(trace0, 1, 1)\n",
    "fig.append_trace(trace1, 2, 1)\n",
    "\n",
    "\n",
    "fig['layout'].update(showlegend=True, title='Charge Distribution', bargap=0.05)\n",
    "iplot(fig, filename='custom-sized-subplot-with-subplot-titles')"
   ]
  },
  {
   "cell_type": "code",
   "execution_count": 4,
   "metadata": {
    "_kg_hide-input": true,
    "_uuid": "3761d4571cc41a856bca688edfae1f991958203d",
    "trusted": true
   },
   "outputs": [
    {
     "data": {
      "application/vnd.plotly.v1+json": {
       "config": {
        "linkText": "Export to plot.ly",
        "plotlyServerURL": "https://plot.ly",
        "showLink": false
       },
       "data": [
        {
         "hoverinfo": "label+percent",
         "labels": [
          "Young Adult",
          "Senior Adult",
          "Elder"
         ],
         "marker": {
          "colors": [
           "#ff9999",
           "#b3d9ff",
           " #e6ffb3"
          ],
          "line": {
           "color": "#000000",
           "width": 2
          }
         },
         "textfont": {
          "size": 20
         },
         "textinfo": "value",
         "type": "pie",
         "values": [
          574,
          548,
          216
         ]
        }
       ],
       "layout": {
        "template": {
         "data": {
          "bar": [
           {
            "error_x": {
             "color": "#2a3f5f"
            },
            "error_y": {
             "color": "#2a3f5f"
            },
            "marker": {
             "line": {
              "color": "#E5ECF6",
              "width": 0.5
             },
             "pattern": {
              "fillmode": "overlay",
              "size": 10,
              "solidity": 0.2
             }
            },
            "type": "bar"
           }
          ],
          "barpolar": [
           {
            "marker": {
             "line": {
              "color": "#E5ECF6",
              "width": 0.5
             },
             "pattern": {
              "fillmode": "overlay",
              "size": 10,
              "solidity": 0.2
             }
            },
            "type": "barpolar"
           }
          ],
          "carpet": [
           {
            "aaxis": {
             "endlinecolor": "#2a3f5f",
             "gridcolor": "white",
             "linecolor": "white",
             "minorgridcolor": "white",
             "startlinecolor": "#2a3f5f"
            },
            "baxis": {
             "endlinecolor": "#2a3f5f",
             "gridcolor": "white",
             "linecolor": "white",
             "minorgridcolor": "white",
             "startlinecolor": "#2a3f5f"
            },
            "type": "carpet"
           }
          ],
          "choropleth": [
           {
            "colorbar": {
             "outlinewidth": 0,
             "ticks": ""
            },
            "type": "choropleth"
           }
          ],
          "contour": [
           {
            "colorbar": {
             "outlinewidth": 0,
             "ticks": ""
            },
            "colorscale": [
             [
              0,
              "#0d0887"
             ],
             [
              0.1111111111111111,
              "#46039f"
             ],
             [
              0.2222222222222222,
              "#7201a8"
             ],
             [
              0.3333333333333333,
              "#9c179e"
             ],
             [
              0.4444444444444444,
              "#bd3786"
             ],
             [
              0.5555555555555556,
              "#d8576b"
             ],
             [
              0.6666666666666666,
              "#ed7953"
             ],
             [
              0.7777777777777778,
              "#fb9f3a"
             ],
             [
              0.8888888888888888,
              "#fdca26"
             ],
             [
              1,
              "#f0f921"
             ]
            ],
            "type": "contour"
           }
          ],
          "contourcarpet": [
           {
            "colorbar": {
             "outlinewidth": 0,
             "ticks": ""
            },
            "type": "contourcarpet"
           }
          ],
          "heatmap": [
           {
            "colorbar": {
             "outlinewidth": 0,
             "ticks": ""
            },
            "colorscale": [
             [
              0,
              "#0d0887"
             ],
             [
              0.1111111111111111,
              "#46039f"
             ],
             [
              0.2222222222222222,
              "#7201a8"
             ],
             [
              0.3333333333333333,
              "#9c179e"
             ],
             [
              0.4444444444444444,
              "#bd3786"
             ],
             [
              0.5555555555555556,
              "#d8576b"
             ],
             [
              0.6666666666666666,
              "#ed7953"
             ],
             [
              0.7777777777777778,
              "#fb9f3a"
             ],
             [
              0.8888888888888888,
              "#fdca26"
             ],
             [
              1,
              "#f0f921"
             ]
            ],
            "type": "heatmap"
           }
          ],
          "histogram": [
           {
            "marker": {
             "pattern": {
              "fillmode": "overlay",
              "size": 10,
              "solidity": 0.2
             }
            },
            "type": "histogram"
           }
          ],
          "histogram2d": [
           {
            "colorbar": {
             "outlinewidth": 0,
             "ticks": ""
            },
            "colorscale": [
             [
              0,
              "#0d0887"
             ],
             [
              0.1111111111111111,
              "#46039f"
             ],
             [
              0.2222222222222222,
              "#7201a8"
             ],
             [
              0.3333333333333333,
              "#9c179e"
             ],
             [
              0.4444444444444444,
              "#bd3786"
             ],
             [
              0.5555555555555556,
              "#d8576b"
             ],
             [
              0.6666666666666666,
              "#ed7953"
             ],
             [
              0.7777777777777778,
              "#fb9f3a"
             ],
             [
              0.8888888888888888,
              "#fdca26"
             ],
             [
              1,
              "#f0f921"
             ]
            ],
            "type": "histogram2d"
           }
          ],
          "histogram2dcontour": [
           {
            "colorbar": {
             "outlinewidth": 0,
             "ticks": ""
            },
            "colorscale": [
             [
              0,
              "#0d0887"
             ],
             [
              0.1111111111111111,
              "#46039f"
             ],
             [
              0.2222222222222222,
              "#7201a8"
             ],
             [
              0.3333333333333333,
              "#9c179e"
             ],
             [
              0.4444444444444444,
              "#bd3786"
             ],
             [
              0.5555555555555556,
              "#d8576b"
             ],
             [
              0.6666666666666666,
              "#ed7953"
             ],
             [
              0.7777777777777778,
              "#fb9f3a"
             ],
             [
              0.8888888888888888,
              "#fdca26"
             ],
             [
              1,
              "#f0f921"
             ]
            ],
            "type": "histogram2dcontour"
           }
          ],
          "mesh3d": [
           {
            "colorbar": {
             "outlinewidth": 0,
             "ticks": ""
            },
            "type": "mesh3d"
           }
          ],
          "parcoords": [
           {
            "line": {
             "colorbar": {
              "outlinewidth": 0,
              "ticks": ""
             }
            },
            "type": "parcoords"
           }
          ],
          "pie": [
           {
            "automargin": true,
            "type": "pie"
           }
          ],
          "scatter": [
           {
            "fillpattern": {
             "fillmode": "overlay",
             "size": 10,
             "solidity": 0.2
            },
            "type": "scatter"
           }
          ],
          "scatter3d": [
           {
            "line": {
             "colorbar": {
              "outlinewidth": 0,
              "ticks": ""
             }
            },
            "marker": {
             "colorbar": {
              "outlinewidth": 0,
              "ticks": ""
             }
            },
            "type": "scatter3d"
           }
          ],
          "scattercarpet": [
           {
            "marker": {
             "colorbar": {
              "outlinewidth": 0,
              "ticks": ""
             }
            },
            "type": "scattercarpet"
           }
          ],
          "scattergeo": [
           {
            "marker": {
             "colorbar": {
              "outlinewidth": 0,
              "ticks": ""
             }
            },
            "type": "scattergeo"
           }
          ],
          "scattergl": [
           {
            "marker": {
             "colorbar": {
              "outlinewidth": 0,
              "ticks": ""
             }
            },
            "type": "scattergl"
           }
          ],
          "scattermap": [
           {
            "marker": {
             "colorbar": {
              "outlinewidth": 0,
              "ticks": ""
             }
            },
            "type": "scattermap"
           }
          ],
          "scattermapbox": [
           {
            "marker": {
             "colorbar": {
              "outlinewidth": 0,
              "ticks": ""
             }
            },
            "type": "scattermapbox"
           }
          ],
          "scatterpolar": [
           {
            "marker": {
             "colorbar": {
              "outlinewidth": 0,
              "ticks": ""
             }
            },
            "type": "scatterpolar"
           }
          ],
          "scatterpolargl": [
           {
            "marker": {
             "colorbar": {
              "outlinewidth": 0,
              "ticks": ""
             }
            },
            "type": "scatterpolargl"
           }
          ],
          "scatterternary": [
           {
            "marker": {
             "colorbar": {
              "outlinewidth": 0,
              "ticks": ""
             }
            },
            "type": "scatterternary"
           }
          ],
          "surface": [
           {
            "colorbar": {
             "outlinewidth": 0,
             "ticks": ""
            },
            "colorscale": [
             [
              0,
              "#0d0887"
             ],
             [
              0.1111111111111111,
              "#46039f"
             ],
             [
              0.2222222222222222,
              "#7201a8"
             ],
             [
              0.3333333333333333,
              "#9c179e"
             ],
             [
              0.4444444444444444,
              "#bd3786"
             ],
             [
              0.5555555555555556,
              "#d8576b"
             ],
             [
              0.6666666666666666,
              "#ed7953"
             ],
             [
              0.7777777777777778,
              "#fb9f3a"
             ],
             [
              0.8888888888888888,
              "#fdca26"
             ],
             [
              1,
              "#f0f921"
             ]
            ],
            "type": "surface"
           }
          ],
          "table": [
           {
            "cells": {
             "fill": {
              "color": "#EBF0F8"
             },
             "line": {
              "color": "white"
             }
            },
            "header": {
             "fill": {
              "color": "#C8D4E3"
             },
             "line": {
              "color": "white"
             }
            },
            "type": "table"
           }
          ]
         },
         "layout": {
          "annotationdefaults": {
           "arrowcolor": "#2a3f5f",
           "arrowhead": 0,
           "arrowwidth": 1
          },
          "autotypenumbers": "strict",
          "coloraxis": {
           "colorbar": {
            "outlinewidth": 0,
            "ticks": ""
           }
          },
          "colorscale": {
           "diverging": [
            [
             0,
             "#8e0152"
            ],
            [
             0.1,
             "#c51b7d"
            ],
            [
             0.2,
             "#de77ae"
            ],
            [
             0.3,
             "#f1b6da"
            ],
            [
             0.4,
             "#fde0ef"
            ],
            [
             0.5,
             "#f7f7f7"
            ],
            [
             0.6,
             "#e6f5d0"
            ],
            [
             0.7,
             "#b8e186"
            ],
            [
             0.8,
             "#7fbc41"
            ],
            [
             0.9,
             "#4d9221"
            ],
            [
             1,
             "#276419"
            ]
           ],
           "sequential": [
            [
             0,
             "#0d0887"
            ],
            [
             0.1111111111111111,
             "#46039f"
            ],
            [
             0.2222222222222222,
             "#7201a8"
            ],
            [
             0.3333333333333333,
             "#9c179e"
            ],
            [
             0.4444444444444444,
             "#bd3786"
            ],
            [
             0.5555555555555556,
             "#d8576b"
            ],
            [
             0.6666666666666666,
             "#ed7953"
            ],
            [
             0.7777777777777778,
             "#fb9f3a"
            ],
            [
             0.8888888888888888,
             "#fdca26"
            ],
            [
             1,
             "#f0f921"
            ]
           ],
           "sequentialminus": [
            [
             0,
             "#0d0887"
            ],
            [
             0.1111111111111111,
             "#46039f"
            ],
            [
             0.2222222222222222,
             "#7201a8"
            ],
            [
             0.3333333333333333,
             "#9c179e"
            ],
            [
             0.4444444444444444,
             "#bd3786"
            ],
            [
             0.5555555555555556,
             "#d8576b"
            ],
            [
             0.6666666666666666,
             "#ed7953"
            ],
            [
             0.7777777777777778,
             "#fb9f3a"
            ],
            [
             0.8888888888888888,
             "#fdca26"
            ],
            [
             1,
             "#f0f921"
            ]
           ]
          },
          "colorway": [
           "#636efa",
           "#EF553B",
           "#00cc96",
           "#ab63fa",
           "#FFA15A",
           "#19d3f3",
           "#FF6692",
           "#B6E880",
           "#FF97FF",
           "#FECB52"
          ],
          "font": {
           "color": "#2a3f5f"
          },
          "geo": {
           "bgcolor": "white",
           "lakecolor": "white",
           "landcolor": "#E5ECF6",
           "showlakes": true,
           "showland": true,
           "subunitcolor": "white"
          },
          "hoverlabel": {
           "align": "left"
          },
          "hovermode": "closest",
          "mapbox": {
           "style": "light"
          },
          "paper_bgcolor": "white",
          "plot_bgcolor": "#E5ECF6",
          "polar": {
           "angularaxis": {
            "gridcolor": "white",
            "linecolor": "white",
            "ticks": ""
           },
           "bgcolor": "#E5ECF6",
           "radialaxis": {
            "gridcolor": "white",
            "linecolor": "white",
            "ticks": ""
           }
          },
          "scene": {
           "xaxis": {
            "backgroundcolor": "#E5ECF6",
            "gridcolor": "white",
            "gridwidth": 2,
            "linecolor": "white",
            "showbackground": true,
            "ticks": "",
            "zerolinecolor": "white"
           },
           "yaxis": {
            "backgroundcolor": "#E5ECF6",
            "gridcolor": "white",
            "gridwidth": 2,
            "linecolor": "white",
            "showbackground": true,
            "ticks": "",
            "zerolinecolor": "white"
           },
           "zaxis": {
            "backgroundcolor": "#E5ECF6",
            "gridcolor": "white",
            "gridwidth": 2,
            "linecolor": "white",
            "showbackground": true,
            "ticks": "",
            "zerolinecolor": "white"
           }
          },
          "shapedefaults": {
           "line": {
            "color": "#2a3f5f"
           }
          },
          "ternary": {
           "aaxis": {
            "gridcolor": "white",
            "linecolor": "white",
            "ticks": ""
           },
           "baxis": {
            "gridcolor": "white",
            "linecolor": "white",
            "ticks": ""
           },
           "bgcolor": "#E5ECF6",
           "caxis": {
            "gridcolor": "white",
            "linecolor": "white",
            "ticks": ""
           }
          },
          "title": {
           "x": 0.05
          },
          "xaxis": {
           "automargin": true,
           "gridcolor": "white",
           "linecolor": "white",
           "ticks": "",
           "title": {
            "standoff": 15
           },
           "zerolinecolor": "white",
           "zerolinewidth": 2
          },
          "yaxis": {
           "automargin": true,
           "gridcolor": "white",
           "linecolor": "white",
           "ticks": "",
           "title": {
            "standoff": 15
           },
           "zerolinecolor": "white",
           "zerolinewidth": 2
          }
         }
        },
        "title": {
         "text": "Amount by Age Category"
        }
       }
      },
      "text/html": [
       "<div>            <script src=\"https://cdnjs.cloudflare.com/ajax/libs/mathjax/2.7.5/MathJax.js?config=TeX-AMS-MML_SVG\"></script><script type=\"text/javascript\">if (window.MathJax && window.MathJax.Hub && window.MathJax.Hub.Config) {window.MathJax.Hub.Config({SVG: {font: \"STIX-Web\"}});}</script>                <script type=\"text/javascript\">window.PlotlyConfig = {MathJaxConfig: 'local'};</script>\n",
       "        <script charset=\"utf-8\" src=\"https://cdn.plot.ly/plotly-3.1.1.min.js\" integrity=\"sha256-HUEFyfiTnZJxCxur99FjbKYTvKSzwDaD3/x5TqHpFu4=\" crossorigin=\"anonymous\"></script>                <div id=\"4f621ba6-8c24-438f-9057-8c56c7ae2c82\" class=\"plotly-graph-div\" style=\"height:525px; width:100%;\"></div>            <script type=\"text/javascript\">                window.PLOTLYENV=window.PLOTLYENV || {};                                if (document.getElementById(\"4f621ba6-8c24-438f-9057-8c56c7ae2c82\")) {                    Plotly.newPlot(                        \"4f621ba6-8c24-438f-9057-8c56c7ae2c82\",                        [{\"hoverinfo\":\"label+percent\",\"labels\":[\"Young Adult\",\"Senior Adult\",\"Elder\"],\"marker\":{\"colors\":[\"#ff9999\",\"#b3d9ff\",\" #e6ffb3\"],\"line\":{\"color\":\"#000000\",\"width\":2}},\"textfont\":{\"size\":20},\"textinfo\":\"value\",\"values\":[574,548,216],\"type\":\"pie\"}],                        {\"template\":{\"data\":{\"barpolar\":[{\"marker\":{\"line\":{\"color\":\"#E5ECF6\",\"width\":0.5},\"pattern\":{\"fillmode\":\"overlay\",\"size\":10,\"solidity\":0.2}},\"type\":\"barpolar\"}],\"bar\":[{\"error_x\":{\"color\":\"#2a3f5f\"},\"error_y\":{\"color\":\"#2a3f5f\"},\"marker\":{\"line\":{\"color\":\"#E5ECF6\",\"width\":0.5},\"pattern\":{\"fillmode\":\"overlay\",\"size\":10,\"solidity\":0.2}},\"type\":\"bar\"}],\"carpet\":[{\"aaxis\":{\"endlinecolor\":\"#2a3f5f\",\"gridcolor\":\"white\",\"linecolor\":\"white\",\"minorgridcolor\":\"white\",\"startlinecolor\":\"#2a3f5f\"},\"baxis\":{\"endlinecolor\":\"#2a3f5f\",\"gridcolor\":\"white\",\"linecolor\":\"white\",\"minorgridcolor\":\"white\",\"startlinecolor\":\"#2a3f5f\"},\"type\":\"carpet\"}],\"choropleth\":[{\"colorbar\":{\"outlinewidth\":0,\"ticks\":\"\"},\"type\":\"choropleth\"}],\"contourcarpet\":[{\"colorbar\":{\"outlinewidth\":0,\"ticks\":\"\"},\"type\":\"contourcarpet\"}],\"contour\":[{\"colorbar\":{\"outlinewidth\":0,\"ticks\":\"\"},\"colorscale\":[[0.0,\"#0d0887\"],[0.1111111111111111,\"#46039f\"],[0.2222222222222222,\"#7201a8\"],[0.3333333333333333,\"#9c179e\"],[0.4444444444444444,\"#bd3786\"],[0.5555555555555556,\"#d8576b\"],[0.6666666666666666,\"#ed7953\"],[0.7777777777777778,\"#fb9f3a\"],[0.8888888888888888,\"#fdca26\"],[1.0,\"#f0f921\"]],\"type\":\"contour\"}],\"heatmap\":[{\"colorbar\":{\"outlinewidth\":0,\"ticks\":\"\"},\"colorscale\":[[0.0,\"#0d0887\"],[0.1111111111111111,\"#46039f\"],[0.2222222222222222,\"#7201a8\"],[0.3333333333333333,\"#9c179e\"],[0.4444444444444444,\"#bd3786\"],[0.5555555555555556,\"#d8576b\"],[0.6666666666666666,\"#ed7953\"],[0.7777777777777778,\"#fb9f3a\"],[0.8888888888888888,\"#fdca26\"],[1.0,\"#f0f921\"]],\"type\":\"heatmap\"}],\"histogram2dcontour\":[{\"colorbar\":{\"outlinewidth\":0,\"ticks\":\"\"},\"colorscale\":[[0.0,\"#0d0887\"],[0.1111111111111111,\"#46039f\"],[0.2222222222222222,\"#7201a8\"],[0.3333333333333333,\"#9c179e\"],[0.4444444444444444,\"#bd3786\"],[0.5555555555555556,\"#d8576b\"],[0.6666666666666666,\"#ed7953\"],[0.7777777777777778,\"#fb9f3a\"],[0.8888888888888888,\"#fdca26\"],[1.0,\"#f0f921\"]],\"type\":\"histogram2dcontour\"}],\"histogram2d\":[{\"colorbar\":{\"outlinewidth\":0,\"ticks\":\"\"},\"colorscale\":[[0.0,\"#0d0887\"],[0.1111111111111111,\"#46039f\"],[0.2222222222222222,\"#7201a8\"],[0.3333333333333333,\"#9c179e\"],[0.4444444444444444,\"#bd3786\"],[0.5555555555555556,\"#d8576b\"],[0.6666666666666666,\"#ed7953\"],[0.7777777777777778,\"#fb9f3a\"],[0.8888888888888888,\"#fdca26\"],[1.0,\"#f0f921\"]],\"type\":\"histogram2d\"}],\"histogram\":[{\"marker\":{\"pattern\":{\"fillmode\":\"overlay\",\"size\":10,\"solidity\":0.2}},\"type\":\"histogram\"}],\"mesh3d\":[{\"colorbar\":{\"outlinewidth\":0,\"ticks\":\"\"},\"type\":\"mesh3d\"}],\"parcoords\":[{\"line\":{\"colorbar\":{\"outlinewidth\":0,\"ticks\":\"\"}},\"type\":\"parcoords\"}],\"pie\":[{\"automargin\":true,\"type\":\"pie\"}],\"scatter3d\":[{\"line\":{\"colorbar\":{\"outlinewidth\":0,\"ticks\":\"\"}},\"marker\":{\"colorbar\":{\"outlinewidth\":0,\"ticks\":\"\"}},\"type\":\"scatter3d\"}],\"scattercarpet\":[{\"marker\":{\"colorbar\":{\"outlinewidth\":0,\"ticks\":\"\"}},\"type\":\"scattercarpet\"}],\"scattergeo\":[{\"marker\":{\"colorbar\":{\"outlinewidth\":0,\"ticks\":\"\"}},\"type\":\"scattergeo\"}],\"scattergl\":[{\"marker\":{\"colorbar\":{\"outlinewidth\":0,\"ticks\":\"\"}},\"type\":\"scattergl\"}],\"scattermapbox\":[{\"marker\":{\"colorbar\":{\"outlinewidth\":0,\"ticks\":\"\"}},\"type\":\"scattermapbox\"}],\"scattermap\":[{\"marker\":{\"colorbar\":{\"outlinewidth\":0,\"ticks\":\"\"}},\"type\":\"scattermap\"}],\"scatterpolargl\":[{\"marker\":{\"colorbar\":{\"outlinewidth\":0,\"ticks\":\"\"}},\"type\":\"scatterpolargl\"}],\"scatterpolar\":[{\"marker\":{\"colorbar\":{\"outlinewidth\":0,\"ticks\":\"\"}},\"type\":\"scatterpolar\"}],\"scatter\":[{\"fillpattern\":{\"fillmode\":\"overlay\",\"size\":10,\"solidity\":0.2},\"type\":\"scatter\"}],\"scatterternary\":[{\"marker\":{\"colorbar\":{\"outlinewidth\":0,\"ticks\":\"\"}},\"type\":\"scatterternary\"}],\"surface\":[{\"colorbar\":{\"outlinewidth\":0,\"ticks\":\"\"},\"colorscale\":[[0.0,\"#0d0887\"],[0.1111111111111111,\"#46039f\"],[0.2222222222222222,\"#7201a8\"],[0.3333333333333333,\"#9c179e\"],[0.4444444444444444,\"#bd3786\"],[0.5555555555555556,\"#d8576b\"],[0.6666666666666666,\"#ed7953\"],[0.7777777777777778,\"#fb9f3a\"],[0.8888888888888888,\"#fdca26\"],[1.0,\"#f0f921\"]],\"type\":\"surface\"}],\"table\":[{\"cells\":{\"fill\":{\"color\":\"#EBF0F8\"},\"line\":{\"color\":\"white\"}},\"header\":{\"fill\":{\"color\":\"#C8D4E3\"},\"line\":{\"color\":\"white\"}},\"type\":\"table\"}]},\"layout\":{\"annotationdefaults\":{\"arrowcolor\":\"#2a3f5f\",\"arrowhead\":0,\"arrowwidth\":1},\"autotypenumbers\":\"strict\",\"coloraxis\":{\"colorbar\":{\"outlinewidth\":0,\"ticks\":\"\"}},\"colorscale\":{\"diverging\":[[0,\"#8e0152\"],[0.1,\"#c51b7d\"],[0.2,\"#de77ae\"],[0.3,\"#f1b6da\"],[0.4,\"#fde0ef\"],[0.5,\"#f7f7f7\"],[0.6,\"#e6f5d0\"],[0.7,\"#b8e186\"],[0.8,\"#7fbc41\"],[0.9,\"#4d9221\"],[1,\"#276419\"]],\"sequential\":[[0.0,\"#0d0887\"],[0.1111111111111111,\"#46039f\"],[0.2222222222222222,\"#7201a8\"],[0.3333333333333333,\"#9c179e\"],[0.4444444444444444,\"#bd3786\"],[0.5555555555555556,\"#d8576b\"],[0.6666666666666666,\"#ed7953\"],[0.7777777777777778,\"#fb9f3a\"],[0.8888888888888888,\"#fdca26\"],[1.0,\"#f0f921\"]],\"sequentialminus\":[[0.0,\"#0d0887\"],[0.1111111111111111,\"#46039f\"],[0.2222222222222222,\"#7201a8\"],[0.3333333333333333,\"#9c179e\"],[0.4444444444444444,\"#bd3786\"],[0.5555555555555556,\"#d8576b\"],[0.6666666666666666,\"#ed7953\"],[0.7777777777777778,\"#fb9f3a\"],[0.8888888888888888,\"#fdca26\"],[1.0,\"#f0f921\"]]},\"colorway\":[\"#636efa\",\"#EF553B\",\"#00cc96\",\"#ab63fa\",\"#FFA15A\",\"#19d3f3\",\"#FF6692\",\"#B6E880\",\"#FF97FF\",\"#FECB52\"],\"font\":{\"color\":\"#2a3f5f\"},\"geo\":{\"bgcolor\":\"white\",\"lakecolor\":\"white\",\"landcolor\":\"#E5ECF6\",\"showlakes\":true,\"showland\":true,\"subunitcolor\":\"white\"},\"hoverlabel\":{\"align\":\"left\"},\"hovermode\":\"closest\",\"mapbox\":{\"style\":\"light\"},\"paper_bgcolor\":\"white\",\"plot_bgcolor\":\"#E5ECF6\",\"polar\":{\"angularaxis\":{\"gridcolor\":\"white\",\"linecolor\":\"white\",\"ticks\":\"\"},\"bgcolor\":\"#E5ECF6\",\"radialaxis\":{\"gridcolor\":\"white\",\"linecolor\":\"white\",\"ticks\":\"\"}},\"scene\":{\"xaxis\":{\"backgroundcolor\":\"#E5ECF6\",\"gridcolor\":\"white\",\"gridwidth\":2,\"linecolor\":\"white\",\"showbackground\":true,\"ticks\":\"\",\"zerolinecolor\":\"white\"},\"yaxis\":{\"backgroundcolor\":\"#E5ECF6\",\"gridcolor\":\"white\",\"gridwidth\":2,\"linecolor\":\"white\",\"showbackground\":true,\"ticks\":\"\",\"zerolinecolor\":\"white\"},\"zaxis\":{\"backgroundcolor\":\"#E5ECF6\",\"gridcolor\":\"white\",\"gridwidth\":2,\"linecolor\":\"white\",\"showbackground\":true,\"ticks\":\"\",\"zerolinecolor\":\"white\"}},\"shapedefaults\":{\"line\":{\"color\":\"#2a3f5f\"}},\"ternary\":{\"aaxis\":{\"gridcolor\":\"white\",\"linecolor\":\"white\",\"ticks\":\"\"},\"baxis\":{\"gridcolor\":\"white\",\"linecolor\":\"white\",\"ticks\":\"\"},\"bgcolor\":\"#E5ECF6\",\"caxis\":{\"gridcolor\":\"white\",\"linecolor\":\"white\",\"ticks\":\"\"}},\"title\":{\"x\":0.05},\"xaxis\":{\"automargin\":true,\"gridcolor\":\"white\",\"linecolor\":\"white\",\"ticks\":\"\",\"title\":{\"standoff\":15},\"zerolinecolor\":\"white\",\"zerolinewidth\":2},\"yaxis\":{\"automargin\":true,\"gridcolor\":\"white\",\"linecolor\":\"white\",\"ticks\":\"\",\"title\":{\"standoff\":15},\"zerolinecolor\":\"white\",\"zerolinewidth\":2}}},\"title\":{\"text\":\"Amount by Age Category\"}},                        {\"responsive\": true}                    ).then(function(){\n",
       "                            \n",
       "var gd = document.getElementById('4f621ba6-8c24-438f-9057-8c56c7ae2c82');\n",
       "var x = new MutationObserver(function (mutations, observer) {{\n",
       "        var display = window.getComputedStyle(gd).display;\n",
       "        if (!display || display === 'none') {{\n",
       "            console.log([gd, 'removed!']);\n",
       "            Plotly.purge(gd);\n",
       "            observer.disconnect();\n",
       "        }}\n",
       "}});\n",
       "\n",
       "// Listen for the removal of the full notebook cells\n",
       "var notebookContainer = gd.closest('#notebook-container');\n",
       "if (notebookContainer) {{\n",
       "    x.observe(notebookContainer, {childList: true});\n",
       "}}\n",
       "\n",
       "// Listen for the clearing of the current output cell\n",
       "var outputEl = gd.closest('.output');\n",
       "if (outputEl) {{\n",
       "    x.observe(outputEl, {childList: true});\n",
       "}}\n",
       "\n",
       "                        })                };            </script>        </div>"
      ]
     },
     "metadata": {},
     "output_type": "display_data"
    }
   ],
   "source": [
    "df['age_cat'] = np.nan\n",
    "lst = [df]\n",
    "\n",
    "for col in lst:\n",
    "    col.loc[(col['age'] >= 18) & (col['age'] <= 35), 'age_cat'] = 'Young Adult'\n",
    "    col.loc[(col['age'] > 35) & (col['age'] <= 55), 'age_cat'] = 'Senior Adult'\n",
    "    col.loc[col['age'] > 55, 'age_cat'] = 'Elder'\n",
    "    \n",
    "    \n",
    "labels = df[\"age_cat\"].unique().tolist()\n",
    "amount = df[\"age_cat\"].value_counts().tolist()\n",
    "\n",
    "colors = [\"#ff9999\", \"#b3d9ff\", \" #e6ffb3\"]\n",
    "\n",
    "trace = go.Pie(labels=labels, values=amount,\n",
    "               hoverinfo='label+percent', textinfo='value', \n",
    "               textfont=dict(size=20),\n",
    "               marker=dict(colors=colors, \n",
    "                           line=dict(color='#000000', width=2)))\n",
    "\n",
    "data = [trace]\n",
    "layout = go.Layout(title=\"Amount by Age Category\")\n",
    "\n",
    "fig = go.Figure(data=data, layout=layout)\n",
    "iplot(fig, filename='basic_pie_chart')"
   ]
  },
  {
   "cell_type": "markdown",
   "metadata": {
    "_uuid": "a1d7af164f3c1e1d3548ae9bf579848e37b4fb3d"
   },
   "source": [
    "<h3> Is there a Relationship between BMI and Age</h3>\n",
    "<a id=\"bmi_age\"></a>\n",
    "<ul>\n",
    "    <li><b>BMI frequency: </b> Most of the BMI frequency is concentrated between 27 - 33. </li>\n",
    "    <li><b> Correlations </b> Age and charges have a correlation of 0.29 while bmi and charges have a correlation of 0.19 </li>\n",
    "    <li><b> Relationship betweem BMI and Age: </b> The correlation for these two variables is 0.10 which is not that great. Therefore, we can disregard that age has a huge influence on BMI. </li>\n",
    "    </ul>"
   ]
  },
  {
   "cell_type": "code",
   "execution_count": 5,
   "metadata": {
    "_kg_hide-input": true,
    "_uuid": "b6edb6e1f285aefc4222f13d949999a4d8d5c2bf",
    "trusted": true
   },
   "outputs": [
    {
     "data": {
      "application/vnd.plotly.v1+json": {
       "config": {
        "linkText": "Export to plot.ly",
        "plotlyServerURL": "https://plot.ly",
        "showLink": false
       },
       "data": [
        {
         "autobinx": false,
         "histnorm": "probability density",
         "legendgroup": "Body Mass Index Distribution",
         "marker": {
          "color": "#FA5858"
         },
         "name": "Body Mass Index Distribution",
         "opacity": 0.7,
         "type": "histogram",
         "x": [
          27.9,
          33.77,
          33,
          22.705,
          28.88,
          25.74,
          33.44,
          27.74,
          29.83,
          25.84,
          26.22,
          26.29,
          34.4,
          39.82,
          42.13,
          24.6,
          30.78,
          23.845,
          40.3,
          35.3,
          36.005,
          32.4,
          34.1,
          31.92,
          28.025,
          27.72,
          23.085,
          32.775,
          17.385,
          36.3,
          35.6,
          26.315,
          28.6,
          28.31,
          36.4,
          20.425,
          32.965,
          20.8,
          36.67,
          39.9,
          26.6,
          36.63,
          21.78,
          30.8,
          37.05,
          37.3,
          38.665,
          34.77,
          24.53,
          35.2,
          35.625,
          33.63,
          28,
          34.43,
          28.69,
          36.955,
          31.825,
          31.68,
          22.88,
          37.335,
          27.36,
          33.66,
          24.7,
          25.935,
          22.42,
          28.9,
          39.1,
          26.315,
          36.19,
          23.98,
          24.75,
          28.5,
          28.1,
          32.01,
          27.4,
          34.01,
          29.59,
          35.53,
          39.805,
          32.965,
          26.885,
          38.285,
          37.62,
          41.23,
          34.8,
          22.895,
          31.16,
          27.2,
          27.74,
          26.98,
          39.49,
          24.795,
          29.83,
          34.77,
          31.3,
          37.62,
          30.8,
          38.28,
          19.95,
          19.3,
          31.6,
          25.46,
          30.115,
          29.92,
          27.5,
          28.025,
          28.4,
          30.875,
          27.94,
          35.09,
          33.63,
          29.7,
          30.8,
          35.72,
          32.205,
          28.595,
          49.06,
          27.94,
          27.17,
          23.37,
          37.1,
          23.75,
          28.975,
          31.35,
          33.915,
          28.785,
          28.3,
          37.4,
          17.765,
          34.7,
          26.505,
          22.04,
          35.9,
          25.555,
          28.785,
          28.05,
          34.1,
          25.175,
          31.9,
          36,
          22.42,
          32.49,
          25.3,
          29.735,
          28.69,
          38.83,
          30.495,
          37.73,
          37.43,
          28.4,
          24.13,
          29.7,
          37.145,
          23.37,
          25.46,
          39.52,
          24.42,
          25.175,
          35.53,
          27.83,
          26.6,
          36.85,
          39.6,
          29.8,
          29.64,
          28.215,
          37,
          33.155,
          31.825,
          18.905,
          41.47,
          30.3,
          15.96,
          34.8,
          33.345,
          37.7,
          27.835,
          29.2,
          28.9,
          33.155,
          28.595,
          38.28,
          19.95,
          26.41,
          30.69,
          41.895,
          29.92,
          30.9,
          32.2,
          32.11,
          31.57,
          26.2,
          25.74,
          26.6,
          34.43,
          30.59,
          32.8,
          28.6,
          18.05,
          39.33,
          32.11,
          32.23,
          24.035,
          36.08,
          22.3,
          28.88,
          26.4,
          27.74,
          31.8,
          41.23,
          33,
          30.875,
          28.5,
          26.73,
          30.9,
          37.1,
          26.6,
          23.1,
          29.92,
          23.21,
          33.7,
          33.25,
          30.8,
          34.8,
          24.64,
          33.88,
          38.06,
          41.91,
          31.635,
          25.46,
          36.195,
          27.83,
          17.8,
          27.5,
          24.51,
          22.22,
          26.73,
          38.39,
          29.07,
          38.06,
          36.67,
          22.135,
          26.8,
          35.3,
          27.74,
          30.02,
          38.06,
          35.86,
          20.9,
          28.975,
          17.29,
          32.2,
          34.21,
          30.3,
          31.825,
          25.365,
          33.63,
          40.15,
          24.415,
          31.92,
          25.2,
          26.84,
          24.32,
          36.955,
          38.06,
          42.35,
          19.8,
          32.395,
          30.2,
          25.84,
          29.37,
          34.2,
          37.05,
          27.455,
          27.55,
          26.6,
          20.615,
          24.3,
          31.79,
          21.56,
          28.12,
          40.565,
          27.645,
          32.395,
          31.2,
          26.62,
          48.07,
          26.22,
          36.765,
          26.4,
          33.4,
          29.64,
          45.54,
          28.82,
          26.8,
          22.99,
          27.7,
          25.41,
          34.39,
          28.88,
          27.55,
          22.61,
          37.51,
          33,
          38,
          33.345,
          27.5,
          33.33,
          34.865,
          33.06,
          26.6,
          24.7,
          35.97,
          35.86,
          31.4,
          33.25,
          32.205,
          32.775,
          27.645,
          37.335,
          25.27,
          29.64,
          30.8,
          40.945,
          27.2,
          34.105,
          23.21,
          36.48,
          33.8,
          36.7,
          36.385,
          27.36,
          31.16,
          28.785,
          35.72,
          34.5,
          25.74,
          27.55,
          32.3,
          27.72,
          27.6,
          30.02,
          27.55,
          36.765,
          41.47,
          29.26,
          35.75,
          33.345,
          29.92,
          27.835,
          23.18,
          25.6,
          27.7,
          35.245,
          38.28,
          27.6,
          43.89,
          29.83,
          41.91,
          20.79,
          32.3,
          30.5,
          21.7,
          26.4,
          21.89,
          30.78,
          32.3,
          24.985,
          32.015,
          30.4,
          21.09,
          22.23,
          33.155,
          32.9,
          33.33,
          28.31,
          24.89,
          40.15,
          30.115,
          31.46,
          17.955,
          30.685,
          33,
          43.34,
          22.135,
          34.4,
          39.05,
          25.365,
          22.61,
          30.21,
          35.625,
          37.43,
          31.445,
          31.35,
          32.3,
          19.855,
          34.4,
          31.02,
          25.6,
          38.17,
          20.6,
          47.52,
          32.965,
          32.3,
          20.4,
          38.38,
          24.31,
          23.6,
          21.12,
          30.03,
          17.48,
          20.235,
          17.195,
          23.9,
          35.15,
          35.64,
          34.1,
          22.6,
          39.16,
          26.98,
          33.88,
          35.86,
          32.775,
          30.59,
          30.2,
          24.31,
          27.265,
          29.165,
          16.815,
          30.4,
          33.1,
          20.235,
          26.9,
          30.5,
          28.595,
          33.11,
          31.73,
          28.9,
          46.75,
          29.45,
          32.68,
          33.5,
          43.01,
          36.52,
          26.695,
          33.1,
          29.64,
          25.65,
          29.6,
          38.6,
          29.6,
          24.13,
          23.4,
          29.735,
          46.53,
          37.4,
          30.14,
          30.495,
          39.6,
          33,
          36.63,
          30,
          38.095,
          25.935,
          25.175,
          28.38,
          28.7,
          33.82,
          24.32,
          24.09,
          32.67,
          30.115,
          29.8,
          33.345,
          25.1,
          28.31,
          28.5,
          35.625,
          36.85,
          32.56,
          41.325,
          37.51,
          31.35,
          39.5,
          34.3,
          31.065,
          21.47,
          28.7,
          38.06,
          31.16,
          32.9,
          25.08,
          25.08,
          43.4,
          25.7,
          27.93,
          23.6,
          28.7,
          23.98,
          39.2,
          34.4,
          26.03,
          23.21,
          30.25,
          28.93,
          30.875,
          31.35,
          23.75,
          25.27,
          28.7,
          32.11,
          33.66,
          22.42,
          30.4,
          28.3,
          35.7,
          35.31,
          30.495,
          31,
          30.875,
          27.36,
          44.22,
          33.915,
          37.73,
          26.07,
          33.88,
          30.59,
          25.8,
          39.425,
          25.46,
          42.13,
          31.73,
          29.7,
          36.19,
          40.48,
          28.025,
          38.9,
          30.2,
          28.05,
          31.35,
          38,
          31.79,
          36.3,
          47.41,
          30.21,
          25.84,
          35.435,
          46.7,
          28.595,
          46.2,
          30.8,
          28.93,
          21.4,
          31.73,
          41.325,
          23.8,
          33.44,
          34.21,
          34.105,
          35.53,
          19.95,
          32.68,
          30.5,
          44.77,
          32.12,
          30.495,
          40.565,
          30.59,
          31.9,
          40.565,
          29.1,
          37.29,
          43.12,
          36.86,
          34.295,
          27.17,
          26.84,
          38.095,
          30.2,
          23.465,
          25.46,
          30.59,
          45.43,
          23.65,
          20.7,
          28.27,
          20.235,
          30.21,
          35.91,
          30.69,
          29,
          19.57,
          31.13,
          21.85,
          40.26,
          33.725,
          29.48,
          33.25,
          32.6,
          37.525,
          39.16,
          31.635,
          25.3,
          39.05,
          28.31,
          34.1,
          25.175,
          23.655,
          26.98,
          37.8,
          29.37,
          34.8,
          33.155,
          19,
          33,
          36.63,
          28.595,
          25.6,
          33.11,
          37.1,
          31.4,
          34.1,
          21.3,
          33.535,
          28.785,
          26.03,
          28.88,
          42.46,
          38,
          38.95,
          36.1,
          29.3,
          35.53,
          22.705,
          39.7,
          38.19,
          24.51,
          38.095,
          26.41,
          33.66,
          42.4,
          28.31,
          33.915,
          34.96,
          35.31,
          30.78,
          26.22,
          23.37,
          28.5,
          32.965,
          42.68,
          39.6,
          31.13,
          36.3,
          35.2,
          25.3,
          42.4,
          33.155,
          35.91,
          28.785,
          46.53,
          23.98,
          31.54,
          33.66,
          22.99,
          38.06,
          28.7,
          32.775,
          32.015,
          29.81,
          31.57,
          31.16,
          29.7,
          31.02,
          43.89,
          21.375,
          40.81,
          31.35,
          36.1,
          23.18,
          17.4,
          20.3,
          35.3,
          24.32,
          18.5,
          26.41,
          26.125,
          41.69,
          24.1,
          31.13,
          27.36,
          36.2,
          32.395,
          23.655,
          34.8,
          40.185,
          32.3,
          35.75,
          33.725,
          39.27,
          34.87,
          44.745,
          41.47,
          26.41,
          29.545,
          32.9,
          38.06,
          28.69,
          30.495,
          27.74,
          35.2,
          23.54,
          30.685,
          40.47,
          22.6,
          28.9,
          22.61,
          24.32,
          36.67,
          33.44,
          40.66,
          36.6,
          37.4,
          35.4,
          27.075,
          39.05,
          28.405,
          21.755,
          40.28,
          36.08,
          24.42,
          21.4,
          30.1,
          27.265,
          32.1,
          34.77,
          38.39,
          23.7,
          31.73,
          35.5,
          24.035,
          29.15,
          34.105,
          26.62,
          26.41,
          30.115,
          27,
          21.755,
          36,
          30.875,
          26.4,
          28.975,
          37.905,
          22.77,
          33.63,
          27.645,
          22.8,
          27.83,
          37.43,
          38.17,
          34.58,
          35.2,
          27.1,
          26.03,
          25.175,
          31.825,
          32.3,
          29,
          39.7,
          19.475,
          36.1,
          26.7,
          36.48,
          28.88,
          34.2,
          33.33,
          32.3,
          39.805,
          34.32,
          28.88,
          24.4,
          41.14,
          35.97,
          27.6,
          29.26,
          27.7,
          36.955,
          36.86,
          22.515,
          29.92,
          41.8,
          27.6,
          23.18,
          20.9,
          31.92,
          28.5,
          44.22,
          22.895,
          33.1,
          24.795,
          26.18,
          35.97,
          22.3,
          42.24,
          26.51,
          35.815,
          41.42,
          36.575,
          30.14,
          25.84,
          30.8,
          42.94,
          21.01,
          22.515,
          34.43,
          31.46,
          24.225,
          37.1,
          26.125,
          35.53,
          33.7,
          17.67,
          31.13,
          29.81,
          24.32,
          31.825,
          31.79,
          28.025,
          30.78,
          21.85,
          33.1,
          25.84,
          23.845,
          34.39,
          33.82,
          35.97,
          31.5,
          28.31,
          23.465,
          31.35,
          31.1,
          24.7,
          32.78,
          29.81,
          30.495,
          32.45,
          34.2,
          50.38,
          24.1,
          32.775,
          30.78,
          32.3,
          35.53,
          23.75,
          23.845,
          29.6,
          33.11,
          24.13,
          32.23,
          28.1,
          47.6,
          28,
          33.535,
          19.855,
          25.4,
          29.9,
          37.29,
          43.7,
          23.655,
          24.3,
          36.2,
          29.48,
          24.86,
          30.1,
          21.85,
          28.12,
          27.1,
          33.44,
          28.8,
          29.5,
          34.8,
          27.36,
          22.135,
          37.05,
          26.695,
          28.93,
          28.975,
          30.02,
          39.5,
          33.63,
          26.885,
          29.04,
          24.035,
          38.94,
          32.11,
          44,
          20.045,
          25.555,
          40.26,
          22.515,
          22.515,
          40.92,
          27.265,
          36.85,
          35.1,
          29.355,
          32.585,
          32.34,
          39.8,
          24.6,
          28.31,
          31.73,
          26.695,
          27.5,
          24.605,
          33.99,
          26.885,
          22.895,
          28.2,
          34.21,
          25,
          33.2,
          31,
          35.815,
          23.2,
          32.11,
          23.4,
          20.1,
          39.16,
          34.21,
          46.53,
          32.5,
          25.8,
          35.3,
          37.18,
          27.5,
          29.735,
          24.225,
          26.18,
          29.48,
          23.21,
          46.09,
          40.185,
          22.61,
          39.93,
          35.8,
          35.8,
          34.2,
          31.255,
          29.7,
          18.335,
          42.9,
          28.405,
          30.2,
          27.835,
          39.49,
          30.8,
          26.79,
          34.96,
          36.67,
          39.615,
          25.9,
          35.2,
          24.795,
          36.765,
          27.1,
          24.795,
          25.365,
          25.745,
          34.32,
          28.16,
          23.56,
          20.235,
          40.5,
          35.42,
          22.895,
          40.15,
          29.15,
          39.995,
          29.92,
          25.46,
          21.375,
          25.9,
          30.59,
          30.115,
          25.8,
          30.115,
          27.645,
          34.675,
          20.52,
          19.8,
          27.835,
          31.6,
          28.27,
          20.045,
          23.275,
          34.1,
          36.85,
          36.29,
          26.885,
          22.99,
          32.7,
          25.8,
          29.6,
          19.19,
          31.73,
          29.26,
          28.215,
          24.985,
          27.74,
          22.8,
          20.13,
          33.33,
          32.3,
          27.6,
          25.46,
          24.605,
          34.2,
          35.815,
          32.68,
          37,
          31.02,
          36.08,
          23.32,
          45.32,
          34.6,
          26.03,
          18.715,
          31.6,
          17.29,
          23.655,
          35.2,
          27.93,
          21.565,
          38.38,
          23,
          37.07,
          30.495,
          28.88,
          27.265,
          28.025,
          23.085,
          30.685,
          25.8,
          35.245,
          24.7,
          25.08,
          52.58,
          22.515,
          30.9,
          36.955,
          26.41,
          29.83,
          29.8,
          21.47,
          27.645,
          28.9,
          31.79,
          39.49,
          33.82,
          32.01,
          27.94,
          41.14,
          28.595,
          25.6,
          25.3,
          37.29,
          42.655,
          21.66,
          31.9,
          37.07,
          31.445,
          31.255,
          28.88,
          18.335,
          29.59,
          32,
          26.03,
          31.68,
          33.66,
          21.78,
          27.835,
          19.95,
          31.5,
          30.495,
          18.3,
          28.975,
          31.54,
          47.74,
          22.1,
          36.19,
          29.83,
          32.7,
          30.4,
          33.7,
          31.35,
          34.96,
          33.77,
          30.875,
          33.99,
          19.095,
          28.6,
          38.94,
          36.08,
          29.8,
          31.24,
          29.925,
          26.22,
          30,
          20.35,
          32.3,
          38.39,
          25.85,
          26.315,
          24.51,
          32.67,
          29.64,
          33.33,
          35.75,
          19.95,
          31.4,
          38.17,
          36.86,
          32.395,
          42.75,
          25.08,
          29.9,
          35.86,
          32.8,
          18.6,
          23.87,
          45.9,
          40.28,
          18.335,
          33.82,
          28.12,
          25,
          22.23,
          30.25,
          32.49,
          37.07,
          32.6,
          24.86,
          32.34,
          32.3,
          32.775,
          32.8,
          31.92,
          21.5,
          34.1,
          30.305,
          36.48,
          32.56,
          35.815,
          27.93,
          22.135,
          44.88,
          23.18,
          30.59,
          41.1,
          34.58,
          42.13,
          38.83,
          28.215,
          28.31,
          26.125,
          40.37,
          24.6,
          35.2,
          34.105,
          27.36,
          26.7,
          41.91,
          29.26,
          32.11,
          27.1,
          24.13,
          27.4,
          34.865,
          29.81,
          41.325,
          29.925,
          30.3,
          27.36,
          28.49,
          23.56,
          35.625,
          32.68,
          25.27,
          28,
          32.775,
          21.755,
          32.395,
          36.575,
          21.755,
          27.93,
          30.02,
          33.55,
          29.355,
          25.8,
          24.32,
          40.375,
          32.11,
          32.3,
          27.28,
          17.86,
          34.8,
          33.4,
          25.555,
          37.1,
          30.875,
          34.1,
          21.47,
          33.3,
          31.255,
          39.14,
          25.08,
          37.29,
          34.6,
          30.21,
          21.945,
          24.97,
          25.3,
          24.42,
          23.94,
          39.82,
          16.815,
          37.18,
          34.43,
          30.305,
          34.485,
          21.8,
          24.605,
          23.3,
          27.83,
          31.065,
          21.66,
          28.215,
          22.705,
          42.13,
          41.8,
          36.96,
          21.28,
          33.11,
          33.33,
          24.3,
          25.7,
          29.4,
          39.82,
          33.63,
          29.83,
          19.8,
          27.3,
          29.3,
          27.72,
          37.9,
          36.385,
          27.645,
          37.715,
          23.18,
          20.52,
          37.1,
          28.05,
          29.9,
          33.345,
          23.76,
          30.5,
          31.065,
          33.3,
          27.5,
          33.915,
          34.485,
          25.52,
          27.61,
          27.06,
          23.7,
          30.4,
          29.735,
          29.925,
          26.79,
          33.33,
          27.645,
          21.66,
          30.03,
          36.3,
          24.32,
          17.29,
          25.9,
          39.4,
          34.32,
          19.95,
          34.9,
          23.21,
          25.745,
          25.175,
          22,
          26.125,
          26.51,
          27.455,
          25.745,
          30.36,
          30.875,
          20.8,
          27.8,
          24.605,
          27.72,
          21.85,
          28.12,
          30.2,
          32.2,
          26.315,
          26.695,
          42.9,
          34.7,
          23.655,
          28.31,
          20.6,
          53.13,
          39.71,
          26.315,
          31.065,
          26.695,
          38.83,
          40.37,
          25.935,
          33.535,
          32.87,
          30.03,
          24.225,
          38.6,
          25.74,
          33.4,
          44.7,
          30.97,
          31.92,
          36.85,
          25.8,
          29.07
         ],
         "xaxis": "x",
         "xbins": {
          "end": 53.13,
          "size": 1,
          "start": 15.96
         },
         "yaxis": "y"
        },
        {
         "legendgroup": "Body Mass Index Distribution",
         "marker": {
          "color": "#FA5858"
         },
         "mode": "lines",
         "name": "Body Mass Index Distribution",
         "showlegend": false,
         "type": "scatter",
         "x": [
          15.96,
          16.03434,
          16.10868,
          16.183020000000003,
          16.257360000000002,
          16.3317,
          16.40604,
          16.48038,
          16.55472,
          16.629060000000003,
          16.703400000000002,
          16.77774,
          16.85208,
          16.92642,
          17.00076,
          17.075100000000003,
          17.149440000000002,
          17.22378,
          17.29812,
          17.37246,
          17.4468,
          17.521140000000003,
          17.595480000000002,
          17.66982,
          17.74416,
          17.8185,
          17.89284,
          17.96718,
          18.041520000000002,
          18.11586,
          18.1902,
          18.26454,
          18.33888,
          18.413220000000003,
          18.487560000000002,
          18.5619,
          18.63624,
          18.71058,
          18.78492,
          18.859260000000003,
          18.933600000000002,
          19.00794,
          19.08228,
          19.15662,
          19.23096,
          19.305300000000003,
          19.379640000000002,
          19.45398,
          19.52832,
          19.60266,
          19.677,
          19.75134,
          19.825680000000002,
          19.90002,
          19.97436,
          20.0487,
          20.12304,
          20.197380000000003,
          20.271720000000002,
          20.34606,
          20.4204,
          20.49474,
          20.56908,
          20.64342,
          20.717760000000002,
          20.7921,
          20.86644,
          20.940780000000004,
          21.01512,
          21.089460000000003,
          21.163800000000002,
          21.23814,
          21.31248,
          21.38682,
          21.46116,
          21.5355,
          21.609840000000002,
          21.68418,
          21.75852,
          21.83286,
          21.907200000000003,
          21.981540000000003,
          22.055880000000002,
          22.13022,
          22.20456,
          22.2789,
          22.35324,
          22.42758,
          22.501920000000002,
          22.57626,
          22.6506,
          22.72494,
          22.799280000000003,
          22.873620000000003,
          22.947960000000002,
          23.0223,
          23.09664,
          23.17098,
          23.24532,
          23.319660000000002,
          23.394000000000002,
          23.46834,
          23.54268,
          23.61702,
          23.691360000000003,
          23.765700000000002,
          23.840040000000002,
          23.91438,
          23.98872,
          24.06306,
          24.1374,
          24.21174,
          24.28608,
          24.36042,
          24.43476,
          24.509100000000004,
          24.583440000000003,
          24.657780000000002,
          24.732120000000002,
          24.80646,
          24.8808,
          24.95514,
          25.02948,
          25.10382,
          25.17816,
          25.2525,
          25.32684,
          25.401180000000004,
          25.475520000000003,
          25.549860000000002,
          25.624200000000002,
          25.69854,
          25.77288,
          25.84722,
          25.921560000000003,
          25.9959,
          26.07024,
          26.14458,
          26.21892,
          26.293260000000004,
          26.367600000000003,
          26.441940000000002,
          26.516280000000002,
          26.59062,
          26.66496,
          26.7393,
          26.81364,
          26.887980000000002,
          26.96232,
          27.03666,
          27.111,
          27.185340000000004,
          27.259680000000003,
          27.334020000000002,
          27.408360000000002,
          27.4827,
          27.55704,
          27.63138,
          27.70572,
          27.780060000000002,
          27.854400000000002,
          27.92874,
          28.00308,
          28.07742,
          28.151760000000003,
          28.226100000000002,
          28.300440000000002,
          28.37478,
          28.44912,
          28.52346,
          28.5978,
          28.672140000000002,
          28.746480000000002,
          28.82082,
          28.89516,
          28.9695,
          29.043840000000003,
          29.118180000000002,
          29.192520000000002,
          29.26686,
          29.3412,
          29.41554,
          29.48988,
          29.564220000000002,
          29.638560000000002,
          29.712900000000005,
          29.78724,
          29.86158,
          29.935920000000003,
          30.010260000000002,
          30.084600000000002,
          30.15894,
          30.23328,
          30.30762,
          30.38196,
          30.456300000000002,
          30.530640000000002,
          30.604980000000005,
          30.679320000000004,
          30.75366,
          30.828000000000003,
          30.902340000000002,
          30.97668,
          31.05102,
          31.12536,
          31.1997,
          31.27404,
          31.348380000000002,
          31.42272,
          31.497060000000005,
          31.571400000000004,
          31.645740000000004,
          31.720080000000003,
          31.794420000000002,
          31.86876,
          31.9431,
          32.01744,
          32.09178,
          32.16612000000001,
          32.24046,
          32.314800000000005,
          32.38914,
          32.463480000000004,
          32.537819999999996,
          32.61216,
          32.6865,
          32.76084,
          32.83518,
          32.90952,
          32.98386,
          33.0582,
          33.132540000000006,
          33.20688,
          33.281220000000005,
          33.35556,
          33.4299,
          33.50424,
          33.57858,
          33.65292,
          33.72726,
          33.80160000000001,
          33.87594,
          33.95028000000001,
          34.02462,
          34.098960000000005,
          34.1733,
          34.247640000000004,
          34.321979999999996,
          34.39632,
          34.47066,
          34.545,
          34.61934,
          34.69368,
          34.76802,
          34.84236,
          34.916700000000006,
          34.99104,
          35.065380000000005,
          35.13972,
          35.21406,
          35.2884,
          35.36274,
          35.43708,
          35.51142,
          35.58576000000001,
          35.6601,
          35.734440000000006,
          35.80878,
          35.883120000000005,
          35.95746,
          36.031800000000004,
          36.106139999999996,
          36.18048,
          36.25482,
          36.32916,
          36.4035,
          36.47784,
          36.55218,
          36.62652,
          36.700860000000006,
          36.7752,
          36.849540000000005,
          36.92388,
          36.99822,
          37.07256,
          37.1469,
          37.22124,
          37.29558,
          37.36992000000001,
          37.44426,
          37.518600000000006,
          37.59294,
          37.667280000000005,
          37.741620000000005,
          37.815960000000004,
          37.890299999999996,
          37.96464,
          38.038979999999995,
          38.11332,
          38.18766,
          38.262,
          38.33634,
          38.41068,
          38.485020000000006,
          38.55936,
          38.633700000000005,
          38.70804,
          38.78238,
          38.85672,
          38.93106,
          39.0054,
          39.07974,
          39.15408000000001,
          39.22842,
          39.302760000000006,
          39.3771,
          39.451440000000005,
          39.525780000000005,
          39.600120000000004,
          39.67446,
          39.7488,
          39.823139999999995,
          39.89748,
          39.97182,
          40.04616,
          40.1205,
          40.19484,
          40.269180000000006,
          40.34352,
          40.417860000000005,
          40.4922,
          40.56654,
          40.64088,
          40.71522,
          40.78956,
          40.8639,
          40.93824000000001,
          41.01258,
          41.086920000000006,
          41.16126,
          41.235600000000005,
          41.309940000000005,
          41.384280000000004,
          41.45862,
          41.53296,
          41.6073,
          41.68164,
          41.75598,
          41.83032,
          41.90466,
          41.979,
          42.053340000000006,
          42.12768,
          42.202020000000005,
          42.27636,
          42.3507,
          42.42504,
          42.49938,
          42.57372,
          42.64806,
          42.72240000000001,
          42.79674,
          42.871080000000006,
          42.94542,
          43.019760000000005,
          43.094100000000005,
          43.168440000000004,
          43.24278,
          43.31712,
          43.39146,
          43.4658,
          43.54014000000001,
          43.61448,
          43.68882,
          43.76316,
          43.837500000000006,
          43.91184,
          43.986180000000004,
          44.06052,
          44.13486,
          44.2092,
          44.28354,
          44.35788,
          44.43222,
          44.50656000000001,
          44.5809,
          44.655240000000006,
          44.72958,
          44.803920000000005,
          44.878260000000004,
          44.952600000000004,
          45.02694,
          45.10128,
          45.17562,
          45.24996,
          45.32430000000001,
          45.39864,
          45.47298,
          45.54732,
          45.621660000000006,
          45.696,
          45.770340000000004,
          45.84468,
          45.91902,
          45.99336,
          46.0677,
          46.14204,
          46.21638,
          46.29072,
          46.36506,
          46.439400000000006,
          46.51374,
          46.588080000000005,
          46.662420000000004,
          46.736760000000004,
          46.8111,
          46.88544,
          46.95978,
          47.03412,
          47.10846000000001,
          47.1828,
          47.25714000000001,
          47.33148,
          47.405820000000006,
          47.48016,
          47.554500000000004,
          47.62884,
          47.70318,
          47.77752,
          47.85186,
          47.9262,
          48.00054,
          48.07488,
          48.14922,
          48.22356,
          48.297900000000006,
          48.372240000000005,
          48.446580000000004,
          48.520920000000004,
          48.59526,
          48.6696,
          48.74394,
          48.81828,
          48.89262,
          48.96696,
          49.04130000000001,
          49.11564,
          49.189980000000006,
          49.26432,
          49.338660000000004,
          49.413000000000004,
          49.48734,
          49.56168,
          49.63602,
          49.71036,
          49.78470000000001,
          49.85904,
          49.93338000000001,
          50.00772,
          50.082060000000006,
          50.156400000000005,
          50.23074,
          50.305080000000004,
          50.379419999999996,
          50.45376,
          50.5281,
          50.60244,
          50.67678,
          50.75112,
          50.82546,
          50.899800000000006,
          50.97414,
          51.048480000000005,
          51.12282,
          51.197160000000004,
          51.2715,
          51.34584,
          51.42018,
          51.49452,
          51.56886,
          51.64320000000001,
          51.71754,
          51.791880000000006,
          51.866220000000006,
          51.940560000000005,
          52.014900000000004,
          52.089240000000004,
          52.16358,
          52.23792,
          52.31226,
          52.3866,
          52.46094,
          52.53528,
          52.60962000000001,
          52.68396,
          52.758300000000006,
          52.83264,
          52.906980000000004,
          52.981320000000004,
          53.05566
         ],
         "xaxis": "x",
         "y": {
          "bdata": "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",
          "dtype": "f8"
         },
         "yaxis": "y"
        },
        {
         "legendgroup": "Body Mass Index Distribution",
         "marker": {
          "color": "#FA5858",
          "symbol": "line-ns-open"
         },
         "mode": "markers",
         "name": "Body Mass Index Distribution",
         "showlegend": false,
         "type": "scatter",
         "x": [
          27.9,
          33.77,
          33,
          22.705,
          28.88,
          25.74,
          33.44,
          27.74,
          29.83,
          25.84,
          26.22,
          26.29,
          34.4,
          39.82,
          42.13,
          24.6,
          30.78,
          23.845,
          40.3,
          35.3,
          36.005,
          32.4,
          34.1,
          31.92,
          28.025,
          27.72,
          23.085,
          32.775,
          17.385,
          36.3,
          35.6,
          26.315,
          28.6,
          28.31,
          36.4,
          20.425,
          32.965,
          20.8,
          36.67,
          39.9,
          26.6,
          36.63,
          21.78,
          30.8,
          37.05,
          37.3,
          38.665,
          34.77,
          24.53,
          35.2,
          35.625,
          33.63,
          28,
          34.43,
          28.69,
          36.955,
          31.825,
          31.68,
          22.88,
          37.335,
          27.36,
          33.66,
          24.7,
          25.935,
          22.42,
          28.9,
          39.1,
          26.315,
          36.19,
          23.98,
          24.75,
          28.5,
          28.1,
          32.01,
          27.4,
          34.01,
          29.59,
          35.53,
          39.805,
          32.965,
          26.885,
          38.285,
          37.62,
          41.23,
          34.8,
          22.895,
          31.16,
          27.2,
          27.74,
          26.98,
          39.49,
          24.795,
          29.83,
          34.77,
          31.3,
          37.62,
          30.8,
          38.28,
          19.95,
          19.3,
          31.6,
          25.46,
          30.115,
          29.92,
          27.5,
          28.025,
          28.4,
          30.875,
          27.94,
          35.09,
          33.63,
          29.7,
          30.8,
          35.72,
          32.205,
          28.595,
          49.06,
          27.94,
          27.17,
          23.37,
          37.1,
          23.75,
          28.975,
          31.35,
          33.915,
          28.785,
          28.3,
          37.4,
          17.765,
          34.7,
          26.505,
          22.04,
          35.9,
          25.555,
          28.785,
          28.05,
          34.1,
          25.175,
          31.9,
          36,
          22.42,
          32.49,
          25.3,
          29.735,
          28.69,
          38.83,
          30.495,
          37.73,
          37.43,
          28.4,
          24.13,
          29.7,
          37.145,
          23.37,
          25.46,
          39.52,
          24.42,
          25.175,
          35.53,
          27.83,
          26.6,
          36.85,
          39.6,
          29.8,
          29.64,
          28.215,
          37,
          33.155,
          31.825,
          18.905,
          41.47,
          30.3,
          15.96,
          34.8,
          33.345,
          37.7,
          27.835,
          29.2,
          28.9,
          33.155,
          28.595,
          38.28,
          19.95,
          26.41,
          30.69,
          41.895,
          29.92,
          30.9,
          32.2,
          32.11,
          31.57,
          26.2,
          25.74,
          26.6,
          34.43,
          30.59,
          32.8,
          28.6,
          18.05,
          39.33,
          32.11,
          32.23,
          24.035,
          36.08,
          22.3,
          28.88,
          26.4,
          27.74,
          31.8,
          41.23,
          33,
          30.875,
          28.5,
          26.73,
          30.9,
          37.1,
          26.6,
          23.1,
          29.92,
          23.21,
          33.7,
          33.25,
          30.8,
          34.8,
          24.64,
          33.88,
          38.06,
          41.91,
          31.635,
          25.46,
          36.195,
          27.83,
          17.8,
          27.5,
          24.51,
          22.22,
          26.73,
          38.39,
          29.07,
          38.06,
          36.67,
          22.135,
          26.8,
          35.3,
          27.74,
          30.02,
          38.06,
          35.86,
          20.9,
          28.975,
          17.29,
          32.2,
          34.21,
          30.3,
          31.825,
          25.365,
          33.63,
          40.15,
          24.415,
          31.92,
          25.2,
          26.84,
          24.32,
          36.955,
          38.06,
          42.35,
          19.8,
          32.395,
          30.2,
          25.84,
          29.37,
          34.2,
          37.05,
          27.455,
          27.55,
          26.6,
          20.615,
          24.3,
          31.79,
          21.56,
          28.12,
          40.565,
          27.645,
          32.395,
          31.2,
          26.62,
          48.07,
          26.22,
          36.765,
          26.4,
          33.4,
          29.64,
          45.54,
          28.82,
          26.8,
          22.99,
          27.7,
          25.41,
          34.39,
          28.88,
          27.55,
          22.61,
          37.51,
          33,
          38,
          33.345,
          27.5,
          33.33,
          34.865,
          33.06,
          26.6,
          24.7,
          35.97,
          35.86,
          31.4,
          33.25,
          32.205,
          32.775,
          27.645,
          37.335,
          25.27,
          29.64,
          30.8,
          40.945,
          27.2,
          34.105,
          23.21,
          36.48,
          33.8,
          36.7,
          36.385,
          27.36,
          31.16,
          28.785,
          35.72,
          34.5,
          25.74,
          27.55,
          32.3,
          27.72,
          27.6,
          30.02,
          27.55,
          36.765,
          41.47,
          29.26,
          35.75,
          33.345,
          29.92,
          27.835,
          23.18,
          25.6,
          27.7,
          35.245,
          38.28,
          27.6,
          43.89,
          29.83,
          41.91,
          20.79,
          32.3,
          30.5,
          21.7,
          26.4,
          21.89,
          30.78,
          32.3,
          24.985,
          32.015,
          30.4,
          21.09,
          22.23,
          33.155,
          32.9,
          33.33,
          28.31,
          24.89,
          40.15,
          30.115,
          31.46,
          17.955,
          30.685,
          33,
          43.34,
          22.135,
          34.4,
          39.05,
          25.365,
          22.61,
          30.21,
          35.625,
          37.43,
          31.445,
          31.35,
          32.3,
          19.855,
          34.4,
          31.02,
          25.6,
          38.17,
          20.6,
          47.52,
          32.965,
          32.3,
          20.4,
          38.38,
          24.31,
          23.6,
          21.12,
          30.03,
          17.48,
          20.235,
          17.195,
          23.9,
          35.15,
          35.64,
          34.1,
          22.6,
          39.16,
          26.98,
          33.88,
          35.86,
          32.775,
          30.59,
          30.2,
          24.31,
          27.265,
          29.165,
          16.815,
          30.4,
          33.1,
          20.235,
          26.9,
          30.5,
          28.595,
          33.11,
          31.73,
          28.9,
          46.75,
          29.45,
          32.68,
          33.5,
          43.01,
          36.52,
          26.695,
          33.1,
          29.64,
          25.65,
          29.6,
          38.6,
          29.6,
          24.13,
          23.4,
          29.735,
          46.53,
          37.4,
          30.14,
          30.495,
          39.6,
          33,
          36.63,
          30,
          38.095,
          25.935,
          25.175,
          28.38,
          28.7,
          33.82,
          24.32,
          24.09,
          32.67,
          30.115,
          29.8,
          33.345,
          25.1,
          28.31,
          28.5,
          35.625,
          36.85,
          32.56,
          41.325,
          37.51,
          31.35,
          39.5,
          34.3,
          31.065,
          21.47,
          28.7,
          38.06,
          31.16,
          32.9,
          25.08,
          25.08,
          43.4,
          25.7,
          27.93,
          23.6,
          28.7,
          23.98,
          39.2,
          34.4,
          26.03,
          23.21,
          30.25,
          28.93,
          30.875,
          31.35,
          23.75,
          25.27,
          28.7,
          32.11,
          33.66,
          22.42,
          30.4,
          28.3,
          35.7,
          35.31,
          30.495,
          31,
          30.875,
          27.36,
          44.22,
          33.915,
          37.73,
          26.07,
          33.88,
          30.59,
          25.8,
          39.425,
          25.46,
          42.13,
          31.73,
          29.7,
          36.19,
          40.48,
          28.025,
          38.9,
          30.2,
          28.05,
          31.35,
          38,
          31.79,
          36.3,
          47.41,
          30.21,
          25.84,
          35.435,
          46.7,
          28.595,
          46.2,
          30.8,
          28.93,
          21.4,
          31.73,
          41.325,
          23.8,
          33.44,
          34.21,
          34.105,
          35.53,
          19.95,
          32.68,
          30.5,
          44.77,
          32.12,
          30.495,
          40.565,
          30.59,
          31.9,
          40.565,
          29.1,
          37.29,
          43.12,
          36.86,
          34.295,
          27.17,
          26.84,
          38.095,
          30.2,
          23.465,
          25.46,
          30.59,
          45.43,
          23.65,
          20.7,
          28.27,
          20.235,
          30.21,
          35.91,
          30.69,
          29,
          19.57,
          31.13,
          21.85,
          40.26,
          33.725,
          29.48,
          33.25,
          32.6,
          37.525,
          39.16,
          31.635,
          25.3,
          39.05,
          28.31,
          34.1,
          25.175,
          23.655,
          26.98,
          37.8,
          29.37,
          34.8,
          33.155,
          19,
          33,
          36.63,
          28.595,
          25.6,
          33.11,
          37.1,
          31.4,
          34.1,
          21.3,
          33.535,
          28.785,
          26.03,
          28.88,
          42.46,
          38,
          38.95,
          36.1,
          29.3,
          35.53,
          22.705,
          39.7,
          38.19,
          24.51,
          38.095,
          26.41,
          33.66,
          42.4,
          28.31,
          33.915,
          34.96,
          35.31,
          30.78,
          26.22,
          23.37,
          28.5,
          32.965,
          42.68,
          39.6,
          31.13,
          36.3,
          35.2,
          25.3,
          42.4,
          33.155,
          35.91,
          28.785,
          46.53,
          23.98,
          31.54,
          33.66,
          22.99,
          38.06,
          28.7,
          32.775,
          32.015,
          29.81,
          31.57,
          31.16,
          29.7,
          31.02,
          43.89,
          21.375,
          40.81,
          31.35,
          36.1,
          23.18,
          17.4,
          20.3,
          35.3,
          24.32,
          18.5,
          26.41,
          26.125,
          41.69,
          24.1,
          31.13,
          27.36,
          36.2,
          32.395,
          23.655,
          34.8,
          40.185,
          32.3,
          35.75,
          33.725,
          39.27,
          34.87,
          44.745,
          41.47,
          26.41,
          29.545,
          32.9,
          38.06,
          28.69,
          30.495,
          27.74,
          35.2,
          23.54,
          30.685,
          40.47,
          22.6,
          28.9,
          22.61,
          24.32,
          36.67,
          33.44,
          40.66,
          36.6,
          37.4,
          35.4,
          27.075,
          39.05,
          28.405,
          21.755,
          40.28,
          36.08,
          24.42,
          21.4,
          30.1,
          27.265,
          32.1,
          34.77,
          38.39,
          23.7,
          31.73,
          35.5,
          24.035,
          29.15,
          34.105,
          26.62,
          26.41,
          30.115,
          27,
          21.755,
          36,
          30.875,
          26.4,
          28.975,
          37.905,
          22.77,
          33.63,
          27.645,
          22.8,
          27.83,
          37.43,
          38.17,
          34.58,
          35.2,
          27.1,
          26.03,
          25.175,
          31.825,
          32.3,
          29,
          39.7,
          19.475,
          36.1,
          26.7,
          36.48,
          28.88,
          34.2,
          33.33,
          32.3,
          39.805,
          34.32,
          28.88,
          24.4,
          41.14,
          35.97,
          27.6,
          29.26,
          27.7,
          36.955,
          36.86,
          22.515,
          29.92,
          41.8,
          27.6,
          23.18,
          20.9,
          31.92,
          28.5,
          44.22,
          22.895,
          33.1,
          24.795,
          26.18,
          35.97,
          22.3,
          42.24,
          26.51,
          35.815,
          41.42,
          36.575,
          30.14,
          25.84,
          30.8,
          42.94,
          21.01,
          22.515,
          34.43,
          31.46,
          24.225,
          37.1,
          26.125,
          35.53,
          33.7,
          17.67,
          31.13,
          29.81,
          24.32,
          31.825,
          31.79,
          28.025,
          30.78,
          21.85,
          33.1,
          25.84,
          23.845,
          34.39,
          33.82,
          35.97,
          31.5,
          28.31,
          23.465,
          31.35,
          31.1,
          24.7,
          32.78,
          29.81,
          30.495,
          32.45,
          34.2,
          50.38,
          24.1,
          32.775,
          30.78,
          32.3,
          35.53,
          23.75,
          23.845,
          29.6,
          33.11,
          24.13,
          32.23,
          28.1,
          47.6,
          28,
          33.535,
          19.855,
          25.4,
          29.9,
          37.29,
          43.7,
          23.655,
          24.3,
          36.2,
          29.48,
          24.86,
          30.1,
          21.85,
          28.12,
          27.1,
          33.44,
          28.8,
          29.5,
          34.8,
          27.36,
          22.135,
          37.05,
          26.695,
          28.93,
          28.975,
          30.02,
          39.5,
          33.63,
          26.885,
          29.04,
          24.035,
          38.94,
          32.11,
          44,
          20.045,
          25.555,
          40.26,
          22.515,
          22.515,
          40.92,
          27.265,
          36.85,
          35.1,
          29.355,
          32.585,
          32.34,
          39.8,
          24.6,
          28.31,
          31.73,
          26.695,
          27.5,
          24.605,
          33.99,
          26.885,
          22.895,
          28.2,
          34.21,
          25,
          33.2,
          31,
          35.815,
          23.2,
          32.11,
          23.4,
          20.1,
          39.16,
          34.21,
          46.53,
          32.5,
          25.8,
          35.3,
          37.18,
          27.5,
          29.735,
          24.225,
          26.18,
          29.48,
          23.21,
          46.09,
          40.185,
          22.61,
          39.93,
          35.8,
          35.8,
          34.2,
          31.255,
          29.7,
          18.335,
          42.9,
          28.405,
          30.2,
          27.835,
          39.49,
          30.8,
          26.79,
          34.96,
          36.67,
          39.615,
          25.9,
          35.2,
          24.795,
          36.765,
          27.1,
          24.795,
          25.365,
          25.745,
          34.32,
          28.16,
          23.56,
          20.235,
          40.5,
          35.42,
          22.895,
          40.15,
          29.15,
          39.995,
          29.92,
          25.46,
          21.375,
          25.9,
          30.59,
          30.115,
          25.8,
          30.115,
          27.645,
          34.675,
          20.52,
          19.8,
          27.835,
          31.6,
          28.27,
          20.045,
          23.275,
          34.1,
          36.85,
          36.29,
          26.885,
          22.99,
          32.7,
          25.8,
          29.6,
          19.19,
          31.73,
          29.26,
          28.215,
          24.985,
          27.74,
          22.8,
          20.13,
          33.33,
          32.3,
          27.6,
          25.46,
          24.605,
          34.2,
          35.815,
          32.68,
          37,
          31.02,
          36.08,
          23.32,
          45.32,
          34.6,
          26.03,
          18.715,
          31.6,
          17.29,
          23.655,
          35.2,
          27.93,
          21.565,
          38.38,
          23,
          37.07,
          30.495,
          28.88,
          27.265,
          28.025,
          23.085,
          30.685,
          25.8,
          35.245,
          24.7,
          25.08,
          52.58,
          22.515,
          30.9,
          36.955,
          26.41,
          29.83,
          29.8,
          21.47,
          27.645,
          28.9,
          31.79,
          39.49,
          33.82,
          32.01,
          27.94,
          41.14,
          28.595,
          25.6,
          25.3,
          37.29,
          42.655,
          21.66,
          31.9,
          37.07,
          31.445,
          31.255,
          28.88,
          18.335,
          29.59,
          32,
          26.03,
          31.68,
          33.66,
          21.78,
          27.835,
          19.95,
          31.5,
          30.495,
          18.3,
          28.975,
          31.54,
          47.74,
          22.1,
          36.19,
          29.83,
          32.7,
          30.4,
          33.7,
          31.35,
          34.96,
          33.77,
          30.875,
          33.99,
          19.095,
          28.6,
          38.94,
          36.08,
          29.8,
          31.24,
          29.925,
          26.22,
          30,
          20.35,
          32.3,
          38.39,
          25.85,
          26.315,
          24.51,
          32.67,
          29.64,
          33.33,
          35.75,
          19.95,
          31.4,
          38.17,
          36.86,
          32.395,
          42.75,
          25.08,
          29.9,
          35.86,
          32.8,
          18.6,
          23.87,
          45.9,
          40.28,
          18.335,
          33.82,
          28.12,
          25,
          22.23,
          30.25,
          32.49,
          37.07,
          32.6,
          24.86,
          32.34,
          32.3,
          32.775,
          32.8,
          31.92,
          21.5,
          34.1,
          30.305,
          36.48,
          32.56,
          35.815,
          27.93,
          22.135,
          44.88,
          23.18,
          30.59,
          41.1,
          34.58,
          42.13,
          38.83,
          28.215,
          28.31,
          26.125,
          40.37,
          24.6,
          35.2,
          34.105,
          27.36,
          26.7,
          41.91,
          29.26,
          32.11,
          27.1,
          24.13,
          27.4,
          34.865,
          29.81,
          41.325,
          29.925,
          30.3,
          27.36,
          28.49,
          23.56,
          35.625,
          32.68,
          25.27,
          28,
          32.775,
          21.755,
          32.395,
          36.575,
          21.755,
          27.93,
          30.02,
          33.55,
          29.355,
          25.8,
          24.32,
          40.375,
          32.11,
          32.3,
          27.28,
          17.86,
          34.8,
          33.4,
          25.555,
          37.1,
          30.875,
          34.1,
          21.47,
          33.3,
          31.255,
          39.14,
          25.08,
          37.29,
          34.6,
          30.21,
          21.945,
          24.97,
          25.3,
          24.42,
          23.94,
          39.82,
          16.815,
          37.18,
          34.43,
          30.305,
          34.485,
          21.8,
          24.605,
          23.3,
          27.83,
          31.065,
          21.66,
          28.215,
          22.705,
          42.13,
          41.8,
          36.96,
          21.28,
          33.11,
          33.33,
          24.3,
          25.7,
          29.4,
          39.82,
          33.63,
          29.83,
          19.8,
          27.3,
          29.3,
          27.72,
          37.9,
          36.385,
          27.645,
          37.715,
          23.18,
          20.52,
          37.1,
          28.05,
          29.9,
          33.345,
          23.76,
          30.5,
          31.065,
          33.3,
          27.5,
          33.915,
          34.485,
          25.52,
          27.61,
          27.06,
          23.7,
          30.4,
          29.735,
          29.925,
          26.79,
          33.33,
          27.645,
          21.66,
          30.03,
          36.3,
          24.32,
          17.29,
          25.9,
          39.4,
          34.32,
          19.95,
          34.9,
          23.21,
          25.745,
          25.175,
          22,
          26.125,
          26.51,
          27.455,
          25.745,
          30.36,
          30.875,
          20.8,
          27.8,
          24.605,
          27.72,
          21.85,
          28.12,
          30.2,
          32.2,
          26.315,
          26.695,
          42.9,
          34.7,
          23.655,
          28.31,
          20.6,
          53.13,
          39.71,
          26.315,
          31.065,
          26.695,
          38.83,
          40.37,
          25.935,
          33.535,
          32.87,
          30.03,
          24.225,
          38.6,
          25.74,
          33.4,
          44.7,
          30.97,
          31.92,
          36.85,
          25.8,
          29.07
         ],
         "xaxis": "x",
         "y": [
          "Body Mass Index Distribution",
          "Body Mass Index Distribution",
          "Body Mass Index Distribution",
          "Body Mass Index Distribution",
          "Body Mass Index Distribution",
          "Body Mass Index Distribution",
          "Body Mass Index Distribution",
          "Body Mass Index Distribution",
          "Body Mass Index Distribution",
          "Body Mass Index Distribution",
          "Body Mass Index Distribution",
          "Body Mass Index Distribution",
          "Body Mass Index Distribution",
          "Body Mass Index Distribution",
          "Body Mass Index Distribution",
          "Body Mass Index Distribution",
          "Body Mass Index Distribution",
          "Body Mass Index Distribution",
          "Body Mass Index Distribution",
          "Body Mass Index Distribution",
          "Body Mass Index Distribution",
          "Body Mass Index Distribution",
          "Body Mass Index Distribution",
          "Body Mass Index Distribution",
          "Body Mass Index Distribution",
          "Body Mass Index Distribution",
          "Body Mass Index Distribution",
          "Body Mass Index Distribution",
          "Body Mass Index Distribution",
          "Body Mass Index Distribution",
          "Body Mass Index Distribution",
          "Body Mass Index Distribution",
          "Body Mass Index Distribution",
          "Body Mass Index Distribution",
          "Body Mass Index Distribution",
          "Body Mass Index Distribution",
          "Body Mass Index Distribution",
          "Body Mass Index Distribution",
          "Body Mass Index Distribution",
          "Body Mass Index Distribution",
          "Body Mass Index Distribution",
          "Body Mass Index Distribution",
          "Body Mass Index Distribution",
          "Body Mass Index Distribution",
          "Body Mass Index Distribution",
          "Body Mass Index Distribution",
          "Body Mass Index Distribution",
          "Body Mass Index Distribution",
          "Body Mass Index Distribution",
          "Body Mass Index Distribution",
          "Body Mass Index Distribution",
          "Body Mass Index Distribution",
          "Body Mass Index Distribution",
          "Body Mass Index Distribution",
          "Body Mass Index Distribution",
          "Body Mass Index Distribution",
          "Body Mass Index Distribution",
          "Body Mass Index Distribution",
          "Body Mass Index Distribution",
          "Body Mass Index Distribution",
          "Body Mass Index Distribution",
          "Body Mass Index Distribution",
          "Body Mass Index Distribution",
          "Body Mass Index Distribution",
          "Body Mass Index Distribution",
          "Body Mass Index Distribution",
          "Body Mass Index Distribution",
          "Body Mass Index Distribution",
          "Body Mass Index Distribution",
          "Body Mass Index Distribution",
          "Body Mass Index Distribution",
          "Body Mass Index Distribution",
          "Body Mass Index Distribution",
          "Body Mass Index Distribution",
          "Body Mass Index Distribution",
          "Body Mass Index Distribution",
          "Body Mass Index Distribution",
          "Body Mass Index Distribution",
          "Body Mass Index Distribution",
          "Body Mass Index Distribution",
          "Body Mass Index Distribution",
          "Body Mass Index Distribution",
          "Body Mass Index Distribution",
          "Body Mass Index Distribution",
          "Body Mass Index Distribution",
          "Body Mass Index Distribution",
          "Body Mass Index Distribution",
          "Body Mass Index Distribution",
          "Body Mass Index Distribution",
          "Body Mass Index Distribution",
          "Body Mass Index Distribution",
          "Body Mass Index Distribution",
          "Body Mass Index Distribution",
          "Body Mass Index Distribution",
          "Body Mass Index Distribution",
          "Body Mass Index Distribution",
          "Body Mass Index Distribution",
          "Body Mass Index Distribution",
          "Body Mass Index Distribution",
          "Body Mass Index Distribution",
          "Body Mass Index Distribution",
          "Body Mass Index Distribution",
          "Body Mass Index Distribution",
          "Body Mass Index Distribution",
          "Body Mass Index Distribution",
          "Body Mass Index Distribution",
          "Body Mass Index Distribution",
          "Body Mass Index Distribution",
          "Body Mass Index Distribution",
          "Body Mass Index Distribution",
          "Body Mass Index Distribution",
          "Body Mass Index Distribution",
          "Body Mass Index Distribution",
          "Body Mass Index Distribution",
          "Body Mass Index Distribution",
          "Body Mass Index Distribution",
          "Body Mass Index Distribution",
          "Body Mass Index Distribution",
          "Body Mass Index Distribution",
          "Body Mass Index Distribution",
          "Body Mass Index Distribution",
          "Body Mass Index Distribution",
          "Body Mass Index Distribution",
          "Body Mass Index Distribution",
          "Body Mass Index Distribution",
          "Body Mass Index Distribution",
          "Body Mass Index Distribution",
          "Body Mass Index Distribution",
          "Body Mass Index Distribution",
          "Body Mass Index Distribution",
          "Body Mass Index Distribution",
          "Body Mass Index Distribution",
          "Body Mass Index Distribution",
          "Body Mass Index Distribution",
          "Body Mass Index Distribution",
          "Body Mass Index Distribution",
          "Body Mass Index Distribution",
          "Body Mass Index Distribution",
          "Body Mass Index Distribution",
          "Body Mass Index Distribution",
          "Body Mass Index Distribution",
          "Body Mass Index Distribution",
          "Body Mass Index Distribution",
          "Body Mass Index Distribution",
          "Body Mass Index Distribution",
          "Body Mass Index Distribution",
          "Body Mass Index Distribution",
          "Body Mass Index Distribution",
          "Body Mass Index Distribution",
          "Body Mass Index Distribution",
          "Body Mass Index Distribution",
          "Body Mass Index Distribution",
          "Body Mass Index Distribution",
          "Body Mass Index Distribution",
          "Body Mass Index Distribution",
          "Body Mass Index Distribution",
          "Body Mass Index Distribution",
          "Body Mass Index Distribution",
          "Body Mass Index Distribution",
          "Body Mass Index Distribution",
          "Body Mass Index Distribution",
          "Body Mass Index Distribution",
          "Body Mass Index Distribution",
          "Body Mass Index Distribution",
          "Body Mass Index Distribution",
          "Body Mass Index Distribution",
          "Body Mass Index Distribution",
          "Body Mass Index Distribution",
          "Body Mass Index Distribution",
          "Body Mass Index Distribution",
          "Body Mass Index Distribution",
          "Body Mass Index Distribution",
          "Body Mass Index Distribution",
          "Body Mass Index Distribution",
          "Body Mass Index Distribution",
          "Body Mass Index Distribution",
          "Body Mass Index Distribution",
          "Body Mass Index Distribution",
          "Body Mass Index Distribution",
          "Body Mass Index Distribution",
          "Body Mass Index Distribution",
          "Body Mass Index Distribution",
          "Body Mass Index Distribution",
          "Body Mass Index Distribution",
          "Body Mass Index Distribution",
          "Body Mass Index Distribution",
          "Body Mass Index Distribution",
          "Body Mass Index Distribution",
          "Body Mass Index Distribution",
          "Body Mass Index Distribution",
          "Body Mass Index Distribution",
          "Body Mass Index Distribution",
          "Body Mass Index Distribution",
          "Body Mass Index Distribution",
          "Body Mass Index Distribution",
          "Body Mass Index Distribution",
          "Body Mass Index Distribution",
          "Body Mass Index Distribution",
          "Body Mass Index Distribution",
          "Body Mass Index Distribution",
          "Body Mass Index Distribution",
          "Body Mass Index Distribution",
          "Body Mass Index Distribution",
          "Body Mass Index Distribution",
          "Body Mass Index Distribution",
          "Body Mass Index Distribution",
          "Body Mass Index Distribution",
          "Body Mass Index Distribution",
          "Body Mass Index Distribution",
          "Body Mass Index Distribution",
          "Body Mass Index Distribution",
          "Body Mass Index Distribution",
          "Body Mass Index Distribution",
          "Body Mass Index Distribution",
          "Body Mass Index Distribution",
          "Body Mass Index Distribution",
          "Body Mass Index Distribution",
          "Body Mass Index Distribution",
          "Body Mass Index Distribution",
          "Body Mass Index Distribution",
          "Body Mass Index Distribution",
          "Body Mass Index Distribution",
          "Body Mass Index Distribution",
          "Body Mass Index Distribution",
          "Body Mass Index Distribution",
          "Body Mass Index Distribution",
          "Body Mass Index Distribution",
          "Body Mass Index Distribution",
          "Body Mass Index Distribution",
          "Body Mass Index Distribution",
          "Body Mass Index Distribution",
          "Body Mass Index Distribution",
          "Body Mass Index Distribution",
          "Body Mass Index Distribution",
          "Body Mass Index Distribution",
          "Body Mass Index Distribution",
          "Body Mass Index Distribution",
          "Body Mass Index Distribution",
          "Body Mass Index Distribution",
          "Body Mass Index Distribution",
          "Body Mass Index Distribution",
          "Body Mass Index Distribution",
          "Body Mass Index Distribution",
          "Body Mass Index Distribution",
          "Body Mass Index Distribution",
          "Body Mass Index Distribution",
          "Body Mass Index Distribution",
          "Body Mass Index Distribution",
          "Body Mass Index Distribution",
          "Body Mass Index Distribution",
          "Body Mass Index Distribution",
          "Body Mass Index Distribution",
          "Body Mass Index Distribution",
          "Body Mass Index Distribution",
          "Body Mass Index Distribution",
          "Body Mass Index Distribution",
          "Body Mass Index Distribution",
          "Body Mass Index Distribution",
          "Body Mass Index Distribution",
          "Body Mass Index Distribution",
          "Body Mass Index Distribution",
          "Body Mass Index Distribution",
          "Body Mass Index Distribution",
          "Body Mass Index Distribution",
          "Body Mass Index Distribution",
          "Body Mass Index Distribution",
          "Body Mass Index Distribution",
          "Body Mass Index Distribution",
          "Body Mass Index Distribution",
          "Body Mass Index Distribution",
          "Body Mass Index Distribution",
          "Body Mass Index Distribution",
          "Body Mass Index Distribution",
          "Body Mass Index Distribution",
          "Body Mass Index Distribution",
          "Body Mass Index Distribution",
          "Body Mass Index Distribution",
          "Body Mass Index Distribution",
          "Body Mass Index Distribution",
          "Body Mass Index Distribution",
          "Body Mass Index Distribution",
          "Body Mass Index Distribution",
          "Body Mass Index Distribution",
          "Body Mass Index Distribution",
          "Body Mass Index Distribution",
          "Body Mass Index Distribution",
          "Body Mass Index Distribution",
          "Body Mass Index Distribution",
          "Body Mass Index Distribution",
          "Body Mass Index Distribution",
          "Body Mass Index Distribution",
          "Body Mass Index Distribution",
          "Body Mass Index Distribution",
          "Body Mass Index Distribution",
          "Body Mass Index Distribution",
          "Body Mass Index Distribution",
          "Body Mass Index Distribution",
          "Body Mass Index Distribution",
          "Body Mass Index Distribution",
          "Body Mass Index Distribution",
          "Body Mass Index Distribution",
          "Body Mass Index Distribution",
          "Body Mass Index Distribution",
          "Body Mass Index Distribution",
          "Body Mass Index Distribution",
          "Body Mass Index Distribution",
          "Body Mass Index Distribution",
          "Body Mass Index Distribution",
          "Body Mass Index Distribution",
          "Body Mass Index Distribution",
          "Body Mass Index Distribution",
          "Body Mass Index Distribution",
          "Body Mass Index Distribution",
          "Body Mass Index Distribution",
          "Body Mass Index Distribution",
          "Body Mass Index Distribution",
          "Body Mass Index Distribution",
          "Body Mass Index Distribution",
          "Body Mass Index Distribution",
          "Body Mass Index Distribution",
          "Body Mass Index Distribution",
          "Body Mass Index Distribution",
          "Body Mass Index Distribution",
          "Body Mass Index Distribution",
          "Body Mass Index Distribution",
          "Body Mass Index Distribution",
          "Body Mass Index Distribution",
          "Body Mass Index Distribution",
          "Body Mass Index Distribution",
          "Body Mass Index Distribution",
          "Body Mass Index Distribution",
          "Body Mass Index Distribution",
          "Body Mass Index Distribution",
          "Body Mass Index Distribution",
          "Body Mass Index Distribution",
          "Body Mass Index Distribution",
          "Body Mass Index Distribution",
          "Body Mass Index Distribution",
          "Body Mass Index Distribution",
          "Body Mass Index Distribution",
          "Body Mass Index Distribution",
          "Body Mass Index Distribution",
          "Body Mass Index Distribution",
          "Body Mass Index Distribution",
          "Body Mass Index Distribution",
          "Body Mass Index Distribution",
          "Body Mass Index Distribution",
          "Body Mass Index Distribution",
          "Body Mass Index Distribution",
          "Body Mass Index Distribution",
          "Body Mass Index Distribution",
          "Body Mass Index Distribution",
          "Body Mass Index Distribution",
          "Body Mass Index Distribution",
          "Body Mass Index Distribution",
          "Body Mass Index Distribution",
          "Body Mass Index Distribution",
          "Body Mass Index Distribution",
          "Body Mass Index Distribution",
          "Body Mass Index Distribution",
          "Body Mass Index Distribution",
          "Body Mass Index Distribution",
          "Body Mass Index Distribution",
          "Body Mass Index Distribution",
          "Body Mass Index Distribution",
          "Body Mass Index Distribution",
          "Body Mass Index Distribution",
          "Body Mass Index Distribution",
          "Body Mass Index Distribution",
          "Body Mass Index Distribution",
          "Body Mass Index Distribution",
          "Body Mass Index Distribution",
          "Body Mass Index Distribution",
          "Body Mass Index Distribution",
          "Body Mass Index Distribution",
          "Body Mass Index Distribution",
          "Body Mass Index Distribution",
          "Body Mass Index Distribution",
          "Body Mass Index Distribution",
          "Body Mass Index Distribution",
          "Body Mass Index Distribution",
          "Body Mass Index Distribution",
          "Body Mass Index Distribution",
          "Body Mass Index Distribution",
          "Body Mass Index Distribution",
          "Body Mass Index Distribution",
          "Body Mass Index Distribution",
          "Body Mass Index Distribution",
          "Body Mass Index Distribution",
          "Body Mass Index Distribution",
          "Body Mass Index Distribution",
          "Body Mass Index Distribution",
          "Body Mass Index Distribution",
          "Body Mass Index Distribution",
          "Body Mass Index Distribution",
          "Body Mass Index Distribution",
          "Body Mass Index Distribution",
          "Body Mass Index Distribution",
          "Body Mass Index Distribution",
          "Body Mass Index Distribution",
          "Body Mass Index Distribution",
          "Body Mass Index Distribution",
          "Body Mass Index Distribution",
          "Body Mass Index Distribution",
          "Body Mass Index Distribution",
          "Body Mass Index Distribution",
          "Body Mass Index Distribution",
          "Body Mass Index Distribution",
          "Body Mass Index Distribution",
          "Body Mass Index Distribution",
          "Body Mass Index Distribution",
          "Body Mass Index Distribution",
          "Body Mass Index Distribution",
          "Body Mass Index Distribution",
          "Body Mass Index Distribution",
          "Body Mass Index Distribution",
          "Body Mass Index Distribution",
          "Body Mass Index Distribution",
          "Body Mass Index Distribution",
          "Body Mass Index Distribution",
          "Body Mass Index Distribution",
          "Body Mass Index Distribution",
          "Body Mass Index Distribution",
          "Body Mass Index Distribution",
          "Body Mass Index Distribution",
          "Body Mass Index Distribution",
          "Body Mass Index Distribution",
          "Body Mass Index Distribution",
          "Body Mass Index Distribution",
          "Body Mass Index Distribution",
          "Body Mass Index Distribution",
          "Body Mass Index Distribution",
          "Body Mass Index Distribution",
          "Body Mass Index Distribution",
          "Body Mass Index Distribution",
          "Body Mass Index Distribution",
          "Body Mass Index Distribution",
          "Body Mass Index Distribution",
          "Body Mass Index Distribution",
          "Body Mass Index Distribution",
          "Body Mass Index Distribution",
          "Body Mass Index Distribution",
          "Body Mass Index Distribution",
          "Body Mass Index Distribution",
          "Body Mass Index Distribution",
          "Body Mass Index Distribution",
          "Body Mass Index Distribution",
          "Body Mass Index Distribution",
          "Body Mass Index Distribution",
          "Body Mass Index Distribution",
          "Body Mass Index Distribution",
          "Body Mass Index Distribution",
          "Body Mass Index Distribution",
          "Body Mass Index Distribution",
          "Body Mass Index Distribution",
          "Body Mass Index Distribution",
          "Body Mass Index Distribution",
          "Body Mass Index Distribution",
          "Body Mass Index Distribution",
          "Body Mass Index Distribution",
          "Body Mass Index Distribution",
          "Body Mass Index Distribution",
          "Body Mass Index Distribution",
          "Body Mass Index Distribution",
          "Body Mass Index Distribution",
          "Body Mass Index Distribution",
          "Body Mass Index Distribution",
          "Body Mass Index Distribution",
          "Body Mass Index Distribution",
          "Body Mass Index Distribution",
          "Body Mass Index Distribution",
          "Body Mass Index Distribution",
          "Body Mass Index Distribution",
          "Body Mass Index Distribution",
          "Body Mass Index Distribution",
          "Body Mass Index Distribution",
          "Body Mass Index Distribution",
          "Body Mass Index Distribution",
          "Body Mass Index Distribution",
          "Body Mass Index Distribution",
          "Body Mass Index Distribution",
          "Body Mass Index Distribution",
          "Body Mass Index Distribution",
          "Body Mass Index Distribution",
          "Body Mass Index Distribution",
          "Body Mass Index Distribution",
          "Body Mass Index Distribution",
          "Body Mass Index Distribution",
          "Body Mass Index Distribution",
          "Body Mass Index Distribution",
          "Body Mass Index Distribution",
          "Body Mass Index Distribution",
          "Body Mass Index Distribution",
          "Body Mass Index Distribution",
          "Body Mass Index Distribution",
          "Body Mass Index Distribution",
          "Body Mass Index Distribution",
          "Body Mass Index Distribution",
          "Body Mass Index Distribution",
          "Body Mass Index Distribution",
          "Body Mass Index Distribution",
          "Body Mass Index Distribution",
          "Body Mass Index Distribution",
          "Body Mass Index Distribution",
          "Body Mass Index Distribution",
          "Body Mass Index Distribution",
          "Body Mass Index Distribution",
          "Body Mass Index Distribution",
          "Body Mass Index Distribution",
          "Body Mass Index Distribution",
          "Body Mass Index Distribution",
          "Body Mass Index Distribution",
          "Body Mass Index Distribution",
          "Body Mass Index Distribution",
          "Body Mass Index Distribution",
          "Body Mass Index Distribution",
          "Body Mass Index Distribution",
          "Body Mass Index Distribution",
          "Body Mass Index Distribution",
          "Body Mass Index Distribution",
          "Body Mass Index Distribution",
          "Body Mass Index Distribution",
          "Body Mass Index Distribution",
          "Body Mass Index Distribution",
          "Body Mass Index Distribution",
          "Body Mass Index Distribution",
          "Body Mass Index Distribution",
          "Body Mass Index Distribution",
          "Body Mass Index Distribution",
          "Body Mass Index Distribution",
          "Body Mass Index Distribution",
          "Body Mass Index Distribution",
          "Body Mass Index Distribution",
          "Body Mass Index Distribution",
          "Body Mass Index Distribution",
          "Body Mass Index Distribution",
          "Body Mass Index Distribution",
          "Body Mass Index Distribution",
          "Body Mass Index Distribution",
          "Body Mass Index Distribution",
          "Body Mass Index Distribution",
          "Body Mass Index Distribution",
          "Body Mass Index Distribution",
          "Body Mass Index Distribution",
          "Body Mass Index Distribution",
          "Body Mass Index Distribution",
          "Body Mass Index Distribution",
          "Body Mass Index Distribution",
          "Body Mass Index Distribution",
          "Body Mass Index Distribution",
          "Body Mass Index Distribution",
          "Body Mass Index Distribution",
          "Body Mass Index Distribution",
          "Body Mass Index Distribution",
          "Body Mass Index Distribution",
          "Body Mass Index Distribution",
          "Body Mass Index Distribution",
          "Body Mass Index Distribution",
          "Body Mass Index Distribution",
          "Body Mass Index Distribution",
          "Body Mass Index Distribution",
          "Body Mass Index Distribution",
          "Body Mass Index Distribution",
          "Body Mass Index Distribution",
          "Body Mass Index Distribution",
          "Body Mass Index Distribution",
          "Body Mass Index Distribution",
          "Body Mass Index Distribution",
          "Body Mass Index Distribution",
          "Body Mass Index Distribution",
          "Body Mass Index Distribution",
          "Body Mass Index Distribution",
          "Body Mass Index Distribution",
          "Body Mass Index Distribution",
          "Body Mass Index Distribution",
          "Body Mass Index Distribution",
          "Body Mass Index Distribution",
          "Body Mass Index Distribution",
          "Body Mass Index Distribution",
          "Body Mass Index Distribution",
          "Body Mass Index Distribution",
          "Body Mass Index Distribution",
          "Body Mass Index Distribution",
          "Body Mass Index Distribution",
          "Body Mass Index Distribution",
          "Body Mass Index Distribution",
          "Body Mass Index Distribution",
          "Body Mass Index Distribution",
          "Body Mass Index Distribution",
          "Body Mass Index Distribution",
          "Body Mass Index Distribution",
          "Body Mass Index Distribution",
          "Body Mass Index Distribution",
          "Body Mass Index Distribution",
          "Body Mass Index Distribution",
          "Body Mass Index Distribution",
          "Body Mass Index Distribution",
          "Body Mass Index Distribution",
          "Body Mass Index Distribution",
          "Body Mass Index Distribution",
          "Body Mass Index Distribution",
          "Body Mass Index Distribution",
          "Body Mass Index Distribution",
          "Body Mass Index Distribution",
          "Body Mass Index Distribution",
          "Body Mass Index Distribution",
          "Body Mass Index Distribution",
          "Body Mass Index Distribution",
          "Body Mass Index Distribution",
          "Body Mass Index Distribution",
          "Body Mass Index Distribution",
          "Body Mass Index Distribution",
          "Body Mass Index Distribution",
          "Body Mass Index Distribution",
          "Body Mass Index Distribution",
          "Body Mass Index Distribution",
          "Body Mass Index Distribution",
          "Body Mass Index Distribution",
          "Body Mass Index Distribution",
          "Body Mass Index Distribution",
          "Body Mass Index Distribution",
          "Body Mass Index Distribution",
          "Body Mass Index Distribution",
          "Body Mass Index Distribution",
          "Body Mass Index Distribution",
          "Body Mass Index Distribution",
          "Body Mass Index Distribution",
          "Body Mass Index Distribution",
          "Body Mass Index Distribution",
          "Body Mass Index Distribution",
          "Body Mass Index Distribution",
          "Body Mass Index Distribution",
          "Body Mass Index Distribution",
          "Body Mass Index Distribution",
          "Body Mass Index Distribution",
          "Body Mass Index Distribution",
          "Body Mass Index Distribution",
          "Body Mass Index Distribution",
          "Body Mass Index Distribution",
          "Body Mass Index Distribution",
          "Body Mass Index Distribution",
          "Body Mass Index Distribution",
          "Body Mass Index Distribution",
          "Body Mass Index Distribution",
          "Body Mass Index Distribution",
          "Body Mass Index Distribution",
          "Body Mass Index Distribution",
          "Body Mass Index Distribution",
          "Body Mass Index Distribution",
          "Body Mass Index Distribution",
          "Body Mass Index Distribution",
          "Body Mass Index Distribution",
          "Body Mass Index Distribution",
          "Body Mass Index Distribution",
          "Body Mass Index Distribution",
          "Body Mass Index Distribution",
          "Body Mass Index Distribution",
          "Body Mass Index Distribution",
          "Body Mass Index Distribution",
          "Body Mass Index Distribution",
          "Body Mass Index Distribution",
          "Body Mass Index Distribution",
          "Body Mass Index Distribution",
          "Body Mass Index Distribution",
          "Body Mass Index Distribution",
          "Body Mass Index Distribution",
          "Body Mass Index Distribution",
          "Body Mass Index Distribution",
          "Body Mass Index Distribution",
          "Body Mass Index Distribution",
          "Body Mass Index Distribution",
          "Body Mass Index Distribution",
          "Body Mass Index Distribution",
          "Body Mass Index Distribution",
          "Body Mass Index Distribution",
          "Body Mass Index Distribution",
          "Body Mass Index Distribution",
          "Body Mass Index Distribution",
          "Body Mass Index Distribution",
          "Body Mass Index Distribution",
          "Body Mass Index Distribution",
          "Body Mass Index Distribution",
          "Body Mass Index Distribution",
          "Body Mass Index Distribution",
          "Body Mass Index Distribution",
          "Body Mass Index Distribution",
          "Body Mass Index Distribution",
          "Body Mass Index Distribution",
          "Body Mass Index Distribution",
          "Body Mass Index Distribution",
          "Body Mass Index Distribution",
          "Body Mass Index Distribution",
          "Body Mass Index Distribution",
          "Body Mass Index Distribution",
          "Body Mass Index Distribution",
          "Body Mass Index Distribution",
          "Body Mass Index Distribution",
          "Body Mass Index Distribution",
          "Body Mass Index Distribution",
          "Body Mass Index Distribution",
          "Body Mass Index Distribution",
          "Body Mass Index Distribution",
          "Body Mass Index Distribution",
          "Body Mass Index Distribution",
          "Body Mass Index Distribution",
          "Body Mass Index Distribution",
          "Body Mass Index Distribution",
          "Body Mass Index Distribution",
          "Body Mass Index Distribution",
          "Body Mass Index Distribution",
          "Body Mass Index Distribution",
          "Body Mass Index Distribution",
          "Body Mass Index Distribution",
          "Body Mass Index Distribution",
          "Body Mass Index Distribution",
          "Body Mass Index Distribution",
          "Body Mass Index Distribution",
          "Body Mass Index Distribution",
          "Body Mass Index Distribution",
          "Body Mass Index Distribution",
          "Body Mass Index Distribution",
          "Body Mass Index Distribution",
          "Body Mass Index Distribution",
          "Body Mass Index Distribution",
          "Body Mass Index Distribution",
          "Body Mass Index Distribution",
          "Body Mass Index Distribution",
          "Body Mass Index Distribution",
          "Body Mass Index Distribution",
          "Body Mass Index Distribution",
          "Body Mass Index Distribution",
          "Body Mass Index Distribution",
          "Body Mass Index Distribution",
          "Body Mass Index Distribution",
          "Body Mass Index Distribution",
          "Body Mass Index Distribution",
          "Body Mass Index Distribution",
          "Body Mass Index Distribution",
          "Body Mass Index Distribution",
          "Body Mass Index Distribution",
          "Body Mass Index Distribution",
          "Body Mass Index Distribution",
          "Body Mass Index Distribution",
          "Body Mass Index Distribution",
          "Body Mass Index Distribution",
          "Body Mass Index Distribution",
          "Body Mass Index Distribution",
          "Body Mass Index Distribution",
          "Body Mass Index Distribution",
          "Body Mass Index Distribution",
          "Body Mass Index Distribution",
          "Body Mass Index Distribution",
          "Body Mass Index Distribution",
          "Body Mass Index Distribution",
          "Body Mass Index Distribution",
          "Body Mass Index Distribution",
          "Body Mass Index Distribution",
          "Body Mass Index Distribution",
          "Body Mass Index Distribution",
          "Body Mass Index Distribution",
          "Body Mass Index Distribution",
          "Body Mass Index Distribution",
          "Body Mass Index Distribution",
          "Body Mass Index Distribution",
          "Body Mass Index Distribution",
          "Body Mass Index Distribution",
          "Body Mass Index Distribution",
          "Body Mass Index Distribution",
          "Body Mass Index Distribution",
          "Body Mass Index Distribution",
          "Body Mass Index Distribution",
          "Body Mass Index Distribution",
          "Body Mass Index Distribution",
          "Body Mass Index Distribution",
          "Body Mass Index Distribution",
          "Body Mass Index Distribution",
          "Body Mass Index Distribution",
          "Body Mass Index Distribution",
          "Body Mass Index Distribution",
          "Body Mass Index Distribution",
          "Body Mass Index Distribution",
          "Body Mass Index Distribution",
          "Body Mass Index Distribution",
          "Body Mass Index Distribution",
          "Body Mass Index Distribution",
          "Body Mass Index Distribution",
          "Body Mass Index Distribution",
          "Body Mass Index Distribution",
          "Body Mass Index Distribution",
          "Body Mass Index Distribution",
          "Body Mass Index Distribution",
          "Body Mass Index Distribution",
          "Body Mass Index Distribution",
          "Body Mass Index Distribution",
          "Body Mass Index Distribution",
          "Body Mass Index Distribution",
          "Body Mass Index Distribution",
          "Body Mass Index Distribution",
          "Body Mass Index Distribution",
          "Body Mass Index Distribution",
          "Body Mass Index Distribution",
          "Body Mass Index Distribution",
          "Body Mass Index Distribution",
          "Body Mass Index Distribution",
          "Body Mass Index Distribution",
          "Body Mass Index Distribution",
          "Body Mass Index Distribution",
          "Body Mass Index Distribution",
          "Body Mass Index Distribution",
          "Body Mass Index Distribution",
          "Body Mass Index Distribution",
          "Body Mass Index Distribution",
          "Body Mass Index Distribution",
          "Body Mass Index Distribution",
          "Body Mass Index Distribution",
          "Body Mass Index Distribution",
          "Body Mass Index Distribution",
          "Body Mass Index Distribution",
          "Body Mass Index Distribution",
          "Body Mass Index Distribution",
          "Body Mass Index Distribution",
          "Body Mass Index Distribution",
          "Body Mass Index Distribution",
          "Body Mass Index Distribution",
          "Body Mass Index Distribution",
          "Body Mass Index Distribution",
          "Body Mass Index Distribution",
          "Body Mass Index Distribution",
          "Body Mass Index Distribution",
          "Body Mass Index Distribution",
          "Body Mass Index Distribution",
          "Body Mass Index Distribution",
          "Body Mass Index Distribution",
          "Body Mass Index Distribution",
          "Body Mass Index Distribution",
          "Body Mass Index Distribution",
          "Body Mass Index Distribution",
          "Body Mass Index Distribution",
          "Body Mass Index Distribution",
          "Body Mass Index Distribution",
          "Body Mass Index Distribution",
          "Body Mass Index Distribution",
          "Body Mass Index Distribution",
          "Body Mass Index Distribution",
          "Body Mass Index Distribution",
          "Body Mass Index Distribution",
          "Body Mass Index Distribution",
          "Body Mass Index Distribution",
          "Body Mass Index Distribution",
          "Body Mass Index Distribution",
          "Body Mass Index Distribution",
          "Body Mass Index Distribution",
          "Body Mass Index Distribution",
          "Body Mass Index Distribution",
          "Body Mass Index Distribution",
          "Body Mass Index Distribution",
          "Body Mass Index Distribution",
          "Body Mass Index Distribution",
          "Body Mass Index Distribution",
          "Body Mass Index Distribution",
          "Body Mass Index Distribution",
          "Body Mass Index Distribution",
          "Body Mass Index Distribution",
          "Body Mass Index Distribution",
          "Body Mass Index Distribution",
          "Body Mass Index Distribution",
          "Body Mass Index Distribution",
          "Body Mass Index Distribution",
          "Body Mass Index Distribution",
          "Body Mass Index Distribution",
          "Body Mass Index Distribution",
          "Body Mass Index Distribution",
          "Body Mass Index Distribution",
          "Body Mass Index Distribution",
          "Body Mass Index Distribution",
          "Body Mass Index Distribution",
          "Body Mass Index Distribution",
          "Body Mass Index Distribution",
          "Body Mass Index Distribution",
          "Body Mass Index Distribution",
          "Body Mass Index Distribution",
          "Body Mass Index Distribution",
          "Body Mass Index Distribution",
          "Body Mass Index Distribution",
          "Body Mass Index Distribution",
          "Body Mass Index Distribution",
          "Body Mass Index Distribution",
          "Body Mass Index Distribution",
          "Body Mass Index Distribution",
          "Body Mass Index Distribution",
          "Body Mass Index Distribution",
          "Body Mass Index Distribution",
          "Body Mass Index Distribution",
          "Body Mass Index Distribution",
          "Body Mass Index Distribution",
          "Body Mass Index Distribution",
          "Body Mass Index Distribution",
          "Body Mass Index Distribution",
          "Body Mass Index Distribution",
          "Body Mass Index Distribution",
          "Body Mass Index Distribution",
          "Body Mass Index Distribution",
          "Body Mass Index Distribution",
          "Body Mass Index Distribution",
          "Body Mass Index Distribution",
          "Body Mass Index Distribution",
          "Body Mass Index Distribution",
          "Body Mass Index Distribution",
          "Body Mass Index Distribution",
          "Body Mass Index Distribution",
          "Body Mass Index Distribution",
          "Body Mass Index Distribution",
          "Body Mass Index Distribution",
          "Body Mass Index Distribution",
          "Body Mass Index Distribution",
          "Body Mass Index Distribution",
          "Body Mass Index Distribution",
          "Body Mass Index Distribution",
          "Body Mass Index Distribution",
          "Body Mass Index Distribution",
          "Body Mass Index Distribution",
          "Body Mass Index Distribution",
          "Body Mass Index Distribution",
          "Body Mass Index Distribution",
          "Body Mass Index Distribution",
          "Body Mass Index Distribution",
          "Body Mass Index Distribution",
          "Body Mass Index Distribution",
          "Body Mass Index Distribution",
          "Body Mass Index Distribution",
          "Body Mass Index Distribution",
          "Body Mass Index Distribution",
          "Body Mass Index Distribution",
          "Body Mass Index Distribution",
          "Body Mass Index Distribution",
          "Body Mass Index Distribution",
          "Body Mass Index Distribution",
          "Body Mass Index Distribution",
          "Body Mass Index Distribution",
          "Body Mass Index Distribution",
          "Body Mass Index Distribution",
          "Body Mass Index Distribution",
          "Body Mass Index Distribution",
          "Body Mass Index Distribution",
          "Body Mass Index Distribution",
          "Body Mass Index Distribution",
          "Body Mass Index Distribution",
          "Body Mass Index Distribution",
          "Body Mass Index Distribution",
          "Body Mass Index Distribution",
          "Body Mass Index Distribution",
          "Body Mass Index Distribution",
          "Body Mass Index Distribution",
          "Body Mass Index Distribution",
          "Body Mass Index Distribution",
          "Body Mass Index Distribution",
          "Body Mass Index Distribution",
          "Body Mass Index Distribution",
          "Body Mass Index Distribution",
          "Body Mass Index Distribution",
          "Body Mass Index Distribution",
          "Body Mass Index Distribution",
          "Body Mass Index Distribution",
          "Body Mass Index Distribution",
          "Body Mass Index Distribution",
          "Body Mass Index Distribution",
          "Body Mass Index Distribution",
          "Body Mass Index Distribution",
          "Body Mass Index Distribution",
          "Body Mass Index Distribution",
          "Body Mass Index Distribution",
          "Body Mass Index Distribution",
          "Body Mass Index Distribution",
          "Body Mass Index Distribution",
          "Body Mass Index Distribution",
          "Body Mass Index Distribution",
          "Body Mass Index Distribution",
          "Body Mass Index Distribution",
          "Body Mass Index Distribution",
          "Body Mass Index Distribution",
          "Body Mass Index Distribution",
          "Body Mass Index Distribution",
          "Body Mass Index Distribution",
          "Body Mass Index Distribution",
          "Body Mass Index Distribution",
          "Body Mass Index Distribution",
          "Body Mass Index Distribution",
          "Body Mass Index Distribution",
          "Body Mass Index Distribution",
          "Body Mass Index Distribution",
          "Body Mass Index Distribution",
          "Body Mass Index Distribution",
          "Body Mass Index Distribution",
          "Body Mass Index Distribution",
          "Body Mass Index Distribution",
          "Body Mass Index Distribution",
          "Body Mass Index Distribution",
          "Body Mass Index Distribution",
          "Body Mass Index Distribution",
          "Body Mass Index Distribution",
          "Body Mass Index Distribution",
          "Body Mass Index Distribution",
          "Body Mass Index Distribution",
          "Body Mass Index Distribution",
          "Body Mass Index Distribution",
          "Body Mass Index Distribution",
          "Body Mass Index Distribution",
          "Body Mass Index Distribution",
          "Body Mass Index Distribution",
          "Body Mass Index Distribution",
          "Body Mass Index Distribution",
          "Body Mass Index Distribution",
          "Body Mass Index Distribution",
          "Body Mass Index Distribution",
          "Body Mass Index Distribution",
          "Body Mass Index Distribution",
          "Body Mass Index Distribution",
          "Body Mass Index Distribution",
          "Body Mass Index Distribution",
          "Body Mass Index Distribution",
          "Body Mass Index Distribution",
          "Body Mass Index Distribution",
          "Body Mass Index Distribution",
          "Body Mass Index Distribution",
          "Body Mass Index Distribution",
          "Body Mass Index Distribution",
          "Body Mass Index Distribution",
          "Body Mass Index Distribution",
          "Body Mass Index Distribution",
          "Body Mass Index Distribution",
          "Body Mass Index Distribution",
          "Body Mass Index Distribution",
          "Body Mass Index Distribution",
          "Body Mass Index Distribution",
          "Body Mass Index Distribution",
          "Body Mass Index Distribution",
          "Body Mass Index Distribution",
          "Body Mass Index Distribution",
          "Body Mass Index Distribution",
          "Body Mass Index Distribution",
          "Body Mass Index Distribution",
          "Body Mass Index Distribution",
          "Body Mass Index Distribution",
          "Body Mass Index Distribution",
          "Body Mass Index Distribution",
          "Body Mass Index Distribution",
          "Body Mass Index Distribution",
          "Body Mass Index Distribution",
          "Body Mass Index Distribution",
          "Body Mass Index Distribution",
          "Body Mass Index Distribution",
          "Body Mass Index Distribution",
          "Body Mass Index Distribution",
          "Body Mass Index Distribution",
          "Body Mass Index Distribution",
          "Body Mass Index Distribution",
          "Body Mass Index Distribution",
          "Body Mass Index Distribution",
          "Body Mass Index Distribution",
          "Body Mass Index Distribution",
          "Body Mass Index Distribution",
          "Body Mass Index Distribution",
          "Body Mass Index Distribution",
          "Body Mass Index Distribution",
          "Body Mass Index Distribution",
          "Body Mass Index Distribution",
          "Body Mass Index Distribution",
          "Body Mass Index Distribution",
          "Body Mass Index Distribution",
          "Body Mass Index Distribution",
          "Body Mass Index Distribution",
          "Body Mass Index Distribution",
          "Body Mass Index Distribution",
          "Body Mass Index Distribution",
          "Body Mass Index Distribution",
          "Body Mass Index Distribution",
          "Body Mass Index Distribution",
          "Body Mass Index Distribution",
          "Body Mass Index Distribution",
          "Body Mass Index Distribution",
          "Body Mass Index Distribution",
          "Body Mass Index Distribution",
          "Body Mass Index Distribution",
          "Body Mass Index Distribution",
          "Body Mass Index Distribution",
          "Body Mass Index Distribution",
          "Body Mass Index Distribution",
          "Body Mass Index Distribution",
          "Body Mass Index Distribution",
          "Body Mass Index Distribution",
          "Body Mass Index Distribution",
          "Body Mass Index Distribution",
          "Body Mass Index Distribution",
          "Body Mass Index Distribution",
          "Body Mass Index Distribution",
          "Body Mass Index Distribution",
          "Body Mass Index Distribution",
          "Body Mass Index Distribution",
          "Body Mass Index Distribution",
          "Body Mass Index Distribution",
          "Body Mass Index Distribution",
          "Body Mass Index Distribution",
          "Body Mass Index Distribution",
          "Body Mass Index Distribution",
          "Body Mass Index Distribution",
          "Body Mass Index Distribution",
          "Body Mass Index Distribution",
          "Body Mass Index Distribution",
          "Body Mass Index Distribution",
          "Body Mass Index Distribution",
          "Body Mass Index Distribution",
          "Body Mass Index Distribution",
          "Body Mass Index Distribution",
          "Body Mass Index Distribution",
          "Body Mass Index Distribution",
          "Body Mass Index Distribution",
          "Body Mass Index Distribution",
          "Body Mass Index Distribution",
          "Body Mass Index Distribution",
          "Body Mass Index Distribution",
          "Body Mass Index Distribution",
          "Body Mass Index Distribution",
          "Body Mass Index Distribution",
          "Body Mass Index Distribution",
          "Body Mass Index Distribution",
          "Body Mass Index Distribution",
          "Body Mass Index Distribution",
          "Body Mass Index Distribution",
          "Body Mass Index Distribution",
          "Body Mass Index Distribution",
          "Body Mass Index Distribution",
          "Body Mass Index Distribution",
          "Body Mass Index Distribution",
          "Body Mass Index Distribution",
          "Body Mass Index Distribution",
          "Body Mass Index Distribution",
          "Body Mass Index Distribution",
          "Body Mass Index Distribution",
          "Body Mass Index Distribution",
          "Body Mass Index Distribution",
          "Body Mass Index Distribution",
          "Body Mass Index Distribution",
          "Body Mass Index Distribution",
          "Body Mass Index Distribution",
          "Body Mass Index Distribution",
          "Body Mass Index Distribution",
          "Body Mass Index Distribution",
          "Body Mass Index Distribution",
          "Body Mass Index Distribution",
          "Body Mass Index Distribution",
          "Body Mass Index Distribution",
          "Body Mass Index Distribution",
          "Body Mass Index Distribution",
          "Body Mass Index Distribution",
          "Body Mass Index Distribution",
          "Body Mass Index Distribution",
          "Body Mass Index Distribution",
          "Body Mass Index Distribution",
          "Body Mass Index Distribution",
          "Body Mass Index Distribution",
          "Body Mass Index Distribution",
          "Body Mass Index Distribution",
          "Body Mass Index Distribution",
          "Body Mass Index Distribution",
          "Body Mass Index Distribution",
          "Body Mass Index Distribution",
          "Body Mass Index Distribution",
          "Body Mass Index Distribution",
          "Body Mass Index Distribution",
          "Body Mass Index Distribution",
          "Body Mass Index Distribution",
          "Body Mass Index Distribution",
          "Body Mass Index Distribution",
          "Body Mass Index Distribution",
          "Body Mass Index Distribution",
          "Body Mass Index Distribution",
          "Body Mass Index Distribution",
          "Body Mass Index Distribution",
          "Body Mass Index Distribution",
          "Body Mass Index Distribution",
          "Body Mass Index Distribution",
          "Body Mass Index Distribution",
          "Body Mass Index Distribution",
          "Body Mass Index Distribution",
          "Body Mass Index Distribution",
          "Body Mass Index Distribution",
          "Body Mass Index Distribution",
          "Body Mass Index Distribution",
          "Body Mass Index Distribution",
          "Body Mass Index Distribution",
          "Body Mass Index Distribution",
          "Body Mass Index Distribution",
          "Body Mass Index Distribution",
          "Body Mass Index Distribution",
          "Body Mass Index Distribution",
          "Body Mass Index Distribution",
          "Body Mass Index Distribution",
          "Body Mass Index Distribution",
          "Body Mass Index Distribution",
          "Body Mass Index Distribution",
          "Body Mass Index Distribution",
          "Body Mass Index Distribution",
          "Body Mass Index Distribution",
          "Body Mass Index Distribution",
          "Body Mass Index Distribution",
          "Body Mass Index Distribution",
          "Body Mass Index Distribution",
          "Body Mass Index Distribution",
          "Body Mass Index Distribution",
          "Body Mass Index Distribution",
          "Body Mass Index Distribution",
          "Body Mass Index Distribution",
          "Body Mass Index Distribution",
          "Body Mass Index Distribution",
          "Body Mass Index Distribution",
          "Body Mass Index Distribution",
          "Body Mass Index Distribution",
          "Body Mass Index Distribution",
          "Body Mass Index Distribution",
          "Body Mass Index Distribution",
          "Body Mass Index Distribution",
          "Body Mass Index Distribution",
          "Body Mass Index Distribution",
          "Body Mass Index Distribution",
          "Body Mass Index Distribution",
          "Body Mass Index Distribution",
          "Body Mass Index Distribution",
          "Body Mass Index Distribution",
          "Body Mass Index Distribution",
          "Body Mass Index Distribution",
          "Body Mass Index Distribution",
          "Body Mass Index Distribution",
          "Body Mass Index Distribution",
          "Body Mass Index Distribution",
          "Body Mass Index Distribution",
          "Body Mass Index Distribution",
          "Body Mass Index Distribution",
          "Body Mass Index Distribution",
          "Body Mass Index Distribution",
          "Body Mass Index Distribution",
          "Body Mass Index Distribution",
          "Body Mass Index Distribution",
          "Body Mass Index Distribution",
          "Body Mass Index Distribution",
          "Body Mass Index Distribution",
          "Body Mass Index Distribution",
          "Body Mass Index Distribution",
          "Body Mass Index Distribution",
          "Body Mass Index Distribution",
          "Body Mass Index Distribution",
          "Body Mass Index Distribution",
          "Body Mass Index Distribution",
          "Body Mass Index Distribution",
          "Body Mass Index Distribution",
          "Body Mass Index Distribution",
          "Body Mass Index Distribution",
          "Body Mass Index Distribution",
          "Body Mass Index Distribution",
          "Body Mass Index Distribution",
          "Body Mass Index Distribution",
          "Body Mass Index Distribution",
          "Body Mass Index Distribution",
          "Body Mass Index Distribution",
          "Body Mass Index Distribution",
          "Body Mass Index Distribution",
          "Body Mass Index Distribution",
          "Body Mass Index Distribution",
          "Body Mass Index Distribution",
          "Body Mass Index Distribution",
          "Body Mass Index Distribution",
          "Body Mass Index Distribution",
          "Body Mass Index Distribution",
          "Body Mass Index Distribution",
          "Body Mass Index Distribution",
          "Body Mass Index Distribution",
          "Body Mass Index Distribution",
          "Body Mass Index Distribution",
          "Body Mass Index Distribution",
          "Body Mass Index Distribution",
          "Body Mass Index Distribution",
          "Body Mass Index Distribution",
          "Body Mass Index Distribution",
          "Body Mass Index Distribution",
          "Body Mass Index Distribution",
          "Body Mass Index Distribution",
          "Body Mass Index Distribution",
          "Body Mass Index Distribution",
          "Body Mass Index Distribution",
          "Body Mass Index Distribution",
          "Body Mass Index Distribution",
          "Body Mass Index Distribution",
          "Body Mass Index Distribution",
          "Body Mass Index Distribution",
          "Body Mass Index Distribution",
          "Body Mass Index Distribution",
          "Body Mass Index Distribution",
          "Body Mass Index Distribution",
          "Body Mass Index Distribution",
          "Body Mass Index Distribution",
          "Body Mass Index Distribution",
          "Body Mass Index Distribution",
          "Body Mass Index Distribution",
          "Body Mass Index Distribution",
          "Body Mass Index Distribution",
          "Body Mass Index Distribution",
          "Body Mass Index Distribution",
          "Body Mass Index Distribution",
          "Body Mass Index Distribution",
          "Body Mass Index Distribution",
          "Body Mass Index Distribution",
          "Body Mass Index Distribution",
          "Body Mass Index Distribution",
          "Body Mass Index Distribution",
          "Body Mass Index Distribution",
          "Body Mass Index Distribution",
          "Body Mass Index Distribution",
          "Body Mass Index Distribution",
          "Body Mass Index Distribution",
          "Body Mass Index Distribution",
          "Body Mass Index Distribution",
          "Body Mass Index Distribution",
          "Body Mass Index Distribution",
          "Body Mass Index Distribution",
          "Body Mass Index Distribution",
          "Body Mass Index Distribution",
          "Body Mass Index Distribution",
          "Body Mass Index Distribution",
          "Body Mass Index Distribution",
          "Body Mass Index Distribution",
          "Body Mass Index Distribution",
          "Body Mass Index Distribution",
          "Body Mass Index Distribution",
          "Body Mass Index Distribution",
          "Body Mass Index Distribution",
          "Body Mass Index Distribution",
          "Body Mass Index Distribution",
          "Body Mass Index Distribution",
          "Body Mass Index Distribution"
         ],
         "yaxis": "y2"
        }
       ],
       "layout": {
        "barmode": "overlay",
        "hovermode": "closest",
        "legend": {
         "traceorder": "reversed"
        },
        "template": {
         "data": {
          "bar": [
           {
            "error_x": {
             "color": "#2a3f5f"
            },
            "error_y": {
             "color": "#2a3f5f"
            },
            "marker": {
             "line": {
              "color": "#E5ECF6",
              "width": 0.5
             },
             "pattern": {
              "fillmode": "overlay",
              "size": 10,
              "solidity": 0.2
             }
            },
            "type": "bar"
           }
          ],
          "barpolar": [
           {
            "marker": {
             "line": {
              "color": "#E5ECF6",
              "width": 0.5
             },
             "pattern": {
              "fillmode": "overlay",
              "size": 10,
              "solidity": 0.2
             }
            },
            "type": "barpolar"
           }
          ],
          "carpet": [
           {
            "aaxis": {
             "endlinecolor": "#2a3f5f",
             "gridcolor": "white",
             "linecolor": "white",
             "minorgridcolor": "white",
             "startlinecolor": "#2a3f5f"
            },
            "baxis": {
             "endlinecolor": "#2a3f5f",
             "gridcolor": "white",
             "linecolor": "white",
             "minorgridcolor": "white",
             "startlinecolor": "#2a3f5f"
            },
            "type": "carpet"
           }
          ],
          "choropleth": [
           {
            "colorbar": {
             "outlinewidth": 0,
             "ticks": ""
            },
            "type": "choropleth"
           }
          ],
          "contour": [
           {
            "colorbar": {
             "outlinewidth": 0,
             "ticks": ""
            },
            "colorscale": [
             [
              0,
              "#0d0887"
             ],
             [
              0.1111111111111111,
              "#46039f"
             ],
             [
              0.2222222222222222,
              "#7201a8"
             ],
             [
              0.3333333333333333,
              "#9c179e"
             ],
             [
              0.4444444444444444,
              "#bd3786"
             ],
             [
              0.5555555555555556,
              "#d8576b"
             ],
             [
              0.6666666666666666,
              "#ed7953"
             ],
             [
              0.7777777777777778,
              "#fb9f3a"
             ],
             [
              0.8888888888888888,
              "#fdca26"
             ],
             [
              1,
              "#f0f921"
             ]
            ],
            "type": "contour"
           }
          ],
          "contourcarpet": [
           {
            "colorbar": {
             "outlinewidth": 0,
             "ticks": ""
            },
            "type": "contourcarpet"
           }
          ],
          "heatmap": [
           {
            "colorbar": {
             "outlinewidth": 0,
             "ticks": ""
            },
            "colorscale": [
             [
              0,
              "#0d0887"
             ],
             [
              0.1111111111111111,
              "#46039f"
             ],
             [
              0.2222222222222222,
              "#7201a8"
             ],
             [
              0.3333333333333333,
              "#9c179e"
             ],
             [
              0.4444444444444444,
              "#bd3786"
             ],
             [
              0.5555555555555556,
              "#d8576b"
             ],
             [
              0.6666666666666666,
              "#ed7953"
             ],
             [
              0.7777777777777778,
              "#fb9f3a"
             ],
             [
              0.8888888888888888,
              "#fdca26"
             ],
             [
              1,
              "#f0f921"
             ]
            ],
            "type": "heatmap"
           }
          ],
          "histogram": [
           {
            "marker": {
             "pattern": {
              "fillmode": "overlay",
              "size": 10,
              "solidity": 0.2
             }
            },
            "type": "histogram"
           }
          ],
          "histogram2d": [
           {
            "colorbar": {
             "outlinewidth": 0,
             "ticks": ""
            },
            "colorscale": [
             [
              0,
              "#0d0887"
             ],
             [
              0.1111111111111111,
              "#46039f"
             ],
             [
              0.2222222222222222,
              "#7201a8"
             ],
             [
              0.3333333333333333,
              "#9c179e"
             ],
             [
              0.4444444444444444,
              "#bd3786"
             ],
             [
              0.5555555555555556,
              "#d8576b"
             ],
             [
              0.6666666666666666,
              "#ed7953"
             ],
             [
              0.7777777777777778,
              "#fb9f3a"
             ],
             [
              0.8888888888888888,
              "#fdca26"
             ],
             [
              1,
              "#f0f921"
             ]
            ],
            "type": "histogram2d"
           }
          ],
          "histogram2dcontour": [
           {
            "colorbar": {
             "outlinewidth": 0,
             "ticks": ""
            },
            "colorscale": [
             [
              0,
              "#0d0887"
             ],
             [
              0.1111111111111111,
              "#46039f"
             ],
             [
              0.2222222222222222,
              "#7201a8"
             ],
             [
              0.3333333333333333,
              "#9c179e"
             ],
             [
              0.4444444444444444,
              "#bd3786"
             ],
             [
              0.5555555555555556,
              "#d8576b"
             ],
             [
              0.6666666666666666,
              "#ed7953"
             ],
             [
              0.7777777777777778,
              "#fb9f3a"
             ],
             [
              0.8888888888888888,
              "#fdca26"
             ],
             [
              1,
              "#f0f921"
             ]
            ],
            "type": "histogram2dcontour"
           }
          ],
          "mesh3d": [
           {
            "colorbar": {
             "outlinewidth": 0,
             "ticks": ""
            },
            "type": "mesh3d"
           }
          ],
          "parcoords": [
           {
            "line": {
             "colorbar": {
              "outlinewidth": 0,
              "ticks": ""
             }
            },
            "type": "parcoords"
           }
          ],
          "pie": [
           {
            "automargin": true,
            "type": "pie"
           }
          ],
          "scatter": [
           {
            "fillpattern": {
             "fillmode": "overlay",
             "size": 10,
             "solidity": 0.2
            },
            "type": "scatter"
           }
          ],
          "scatter3d": [
           {
            "line": {
             "colorbar": {
              "outlinewidth": 0,
              "ticks": ""
             }
            },
            "marker": {
             "colorbar": {
              "outlinewidth": 0,
              "ticks": ""
             }
            },
            "type": "scatter3d"
           }
          ],
          "scattercarpet": [
           {
            "marker": {
             "colorbar": {
              "outlinewidth": 0,
              "ticks": ""
             }
            },
            "type": "scattercarpet"
           }
          ],
          "scattergeo": [
           {
            "marker": {
             "colorbar": {
              "outlinewidth": 0,
              "ticks": ""
             }
            },
            "type": "scattergeo"
           }
          ],
          "scattergl": [
           {
            "marker": {
             "colorbar": {
              "outlinewidth": 0,
              "ticks": ""
             }
            },
            "type": "scattergl"
           }
          ],
          "scattermap": [
           {
            "marker": {
             "colorbar": {
              "outlinewidth": 0,
              "ticks": ""
             }
            },
            "type": "scattermap"
           }
          ],
          "scattermapbox": [
           {
            "marker": {
             "colorbar": {
              "outlinewidth": 0,
              "ticks": ""
             }
            },
            "type": "scattermapbox"
           }
          ],
          "scatterpolar": [
           {
            "marker": {
             "colorbar": {
              "outlinewidth": 0,
              "ticks": ""
             }
            },
            "type": "scatterpolar"
           }
          ],
          "scatterpolargl": [
           {
            "marker": {
             "colorbar": {
              "outlinewidth": 0,
              "ticks": ""
             }
            },
            "type": "scatterpolargl"
           }
          ],
          "scatterternary": [
           {
            "marker": {
             "colorbar": {
              "outlinewidth": 0,
              "ticks": ""
             }
            },
            "type": "scatterternary"
           }
          ],
          "surface": [
           {
            "colorbar": {
             "outlinewidth": 0,
             "ticks": ""
            },
            "colorscale": [
             [
              0,
              "#0d0887"
             ],
             [
              0.1111111111111111,
              "#46039f"
             ],
             [
              0.2222222222222222,
              "#7201a8"
             ],
             [
              0.3333333333333333,
              "#9c179e"
             ],
             [
              0.4444444444444444,
              "#bd3786"
             ],
             [
              0.5555555555555556,
              "#d8576b"
             ],
             [
              0.6666666666666666,
              "#ed7953"
             ],
             [
              0.7777777777777778,
              "#fb9f3a"
             ],
             [
              0.8888888888888888,
              "#fdca26"
             ],
             [
              1,
              "#f0f921"
             ]
            ],
            "type": "surface"
           }
          ],
          "table": [
           {
            "cells": {
             "fill": {
              "color": "#EBF0F8"
             },
             "line": {
              "color": "white"
             }
            },
            "header": {
             "fill": {
              "color": "#C8D4E3"
             },
             "line": {
              "color": "white"
             }
            },
            "type": "table"
           }
          ]
         },
         "layout": {
          "annotationdefaults": {
           "arrowcolor": "#2a3f5f",
           "arrowhead": 0,
           "arrowwidth": 1
          },
          "autotypenumbers": "strict",
          "coloraxis": {
           "colorbar": {
            "outlinewidth": 0,
            "ticks": ""
           }
          },
          "colorscale": {
           "diverging": [
            [
             0,
             "#8e0152"
            ],
            [
             0.1,
             "#c51b7d"
            ],
            [
             0.2,
             "#de77ae"
            ],
            [
             0.3,
             "#f1b6da"
            ],
            [
             0.4,
             "#fde0ef"
            ],
            [
             0.5,
             "#f7f7f7"
            ],
            [
             0.6,
             "#e6f5d0"
            ],
            [
             0.7,
             "#b8e186"
            ],
            [
             0.8,
             "#7fbc41"
            ],
            [
             0.9,
             "#4d9221"
            ],
            [
             1,
             "#276419"
            ]
           ],
           "sequential": [
            [
             0,
             "#0d0887"
            ],
            [
             0.1111111111111111,
             "#46039f"
            ],
            [
             0.2222222222222222,
             "#7201a8"
            ],
            [
             0.3333333333333333,
             "#9c179e"
            ],
            [
             0.4444444444444444,
             "#bd3786"
            ],
            [
             0.5555555555555556,
             "#d8576b"
            ],
            [
             0.6666666666666666,
             "#ed7953"
            ],
            [
             0.7777777777777778,
             "#fb9f3a"
            ],
            [
             0.8888888888888888,
             "#fdca26"
            ],
            [
             1,
             "#f0f921"
            ]
           ],
           "sequentialminus": [
            [
             0,
             "#0d0887"
            ],
            [
             0.1111111111111111,
             "#46039f"
            ],
            [
             0.2222222222222222,
             "#7201a8"
            ],
            [
             0.3333333333333333,
             "#9c179e"
            ],
            [
             0.4444444444444444,
             "#bd3786"
            ],
            [
             0.5555555555555556,
             "#d8576b"
            ],
            [
             0.6666666666666666,
             "#ed7953"
            ],
            [
             0.7777777777777778,
             "#fb9f3a"
            ],
            [
             0.8888888888888888,
             "#fdca26"
            ],
            [
             1,
             "#f0f921"
            ]
           ]
          },
          "colorway": [
           "#636efa",
           "#EF553B",
           "#00cc96",
           "#ab63fa",
           "#FFA15A",
           "#19d3f3",
           "#FF6692",
           "#B6E880",
           "#FF97FF",
           "#FECB52"
          ],
          "font": {
           "color": "#2a3f5f"
          },
          "geo": {
           "bgcolor": "white",
           "lakecolor": "white",
           "landcolor": "#E5ECF6",
           "showlakes": true,
           "showland": true,
           "subunitcolor": "white"
          },
          "hoverlabel": {
           "align": "left"
          },
          "hovermode": "closest",
          "mapbox": {
           "style": "light"
          },
          "paper_bgcolor": "white",
          "plot_bgcolor": "#E5ECF6",
          "polar": {
           "angularaxis": {
            "gridcolor": "white",
            "linecolor": "white",
            "ticks": ""
           },
           "bgcolor": "#E5ECF6",
           "radialaxis": {
            "gridcolor": "white",
            "linecolor": "white",
            "ticks": ""
           }
          },
          "scene": {
           "xaxis": {
            "backgroundcolor": "#E5ECF6",
            "gridcolor": "white",
            "gridwidth": 2,
            "linecolor": "white",
            "showbackground": true,
            "ticks": "",
            "zerolinecolor": "white"
           },
           "yaxis": {
            "backgroundcolor": "#E5ECF6",
            "gridcolor": "white",
            "gridwidth": 2,
            "linecolor": "white",
            "showbackground": true,
            "ticks": "",
            "zerolinecolor": "white"
           },
           "zaxis": {
            "backgroundcolor": "#E5ECF6",
            "gridcolor": "white",
            "gridwidth": 2,
            "linecolor": "white",
            "showbackground": true,
            "ticks": "",
            "zerolinecolor": "white"
           }
          },
          "shapedefaults": {
           "line": {
            "color": "#2a3f5f"
           }
          },
          "ternary": {
           "aaxis": {
            "gridcolor": "white",
            "linecolor": "white",
            "ticks": ""
           },
           "baxis": {
            "gridcolor": "white",
            "linecolor": "white",
            "ticks": ""
           },
           "bgcolor": "#E5ECF6",
           "caxis": {
            "gridcolor": "white",
            "linecolor": "white",
            "ticks": ""
           }
          },
          "title": {
           "x": 0.05
          },
          "xaxis": {
           "automargin": true,
           "gridcolor": "white",
           "linecolor": "white",
           "ticks": "",
           "title": {
            "standoff": 15
           },
           "zerolinecolor": "white",
           "zerolinewidth": 2
          },
          "yaxis": {
           "automargin": true,
           "gridcolor": "white",
           "linecolor": "white",
           "ticks": "",
           "title": {
            "standoff": 15
           },
           "zerolinecolor": "white",
           "zerolinewidth": 2
          }
         }
        },
        "title": {
         "text": "Normal Distribution"
        },
        "xaxis": {
         "anchor": "y2",
         "domain": [
          0,
          1
         ],
         "zeroline": false
        },
        "yaxis": {
         "anchor": "free",
         "domain": [
          0.35,
          1
         ],
         "position": 0
        },
        "yaxis2": {
         "anchor": "x",
         "domain": [
          0,
          0.25
         ],
         "dtick": 1,
         "showticklabels": false
        }
       }
      },
      "text/html": [
       "<div>            <script src=\"https://cdnjs.cloudflare.com/ajax/libs/mathjax/2.7.5/MathJax.js?config=TeX-AMS-MML_SVG\"></script><script type=\"text/javascript\">if (window.MathJax && window.MathJax.Hub && window.MathJax.Hub.Config) {window.MathJax.Hub.Config({SVG: {font: \"STIX-Web\"}});}</script>                <script type=\"text/javascript\">window.PlotlyConfig = {MathJaxConfig: 'local'};</script>\n",
       "        <script charset=\"utf-8\" src=\"https://cdn.plot.ly/plotly-3.1.1.min.js\" integrity=\"sha256-HUEFyfiTnZJxCxur99FjbKYTvKSzwDaD3/x5TqHpFu4=\" crossorigin=\"anonymous\"></script>                <div id=\"1b140c9b-0779-40c6-bb38-aa8057b54cc3\" class=\"plotly-graph-div\" style=\"height:525px; width:100%;\"></div>            <script type=\"text/javascript\">                window.PLOTLYENV=window.PLOTLYENV || {};                                if (document.getElementById(\"1b140c9b-0779-40c6-bb38-aa8057b54cc3\")) {                    Plotly.newPlot(                        \"1b140c9b-0779-40c6-bb38-aa8057b54cc3\",                        [{\"autobinx\":false,\"histnorm\":\"probability density\",\"legendgroup\":\"Body Mass Index Distribution\",\"marker\":{\"color\":\"#FA5858\"},\"name\":\"Body Mass Index Distribution\",\"opacity\":0.7,\"x\":[27.9,33.77,33.0,22.705,28.88,25.74,33.44,27.74,29.83,25.84,26.22,26.29,34.4,39.82,42.13,24.6,30.78,23.845,40.3,35.3,36.005,32.4,34.1,31.92,28.025,27.72,23.085,32.775,17.385,36.3,35.6,26.315,28.6,28.31,36.4,20.425,32.965,20.8,36.67,39.9,26.6,36.63,21.78,30.8,37.05,37.3,38.665,34.77,24.53,35.2,35.625,33.63,28.0,34.43,28.69,36.955,31.825,31.68,22.88,37.335,27.36,33.66,24.7,25.935,22.42,28.9,39.1,26.315,36.19,23.98,24.75,28.5,28.1,32.01,27.4,34.01,29.59,35.53,39.805,32.965,26.885,38.285,37.62,41.23,34.8,22.895,31.16,27.2,27.74,26.98,39.49,24.795,29.83,34.77,31.3,37.62,30.8,38.28,19.95,19.3,31.6,25.46,30.115,29.92,27.5,28.025,28.4,30.875,27.94,35.09,33.63,29.7,30.8,35.72,32.205,28.595,49.06,27.94,27.17,23.37,37.1,23.75,28.975,31.35,33.915,28.785,28.3,37.4,17.765,34.7,26.505,22.04,35.9,25.555,28.785,28.05,34.1,25.175,31.9,36.0,22.42,32.49,25.3,29.735,28.69,38.83,30.495,37.73,37.43,28.4,24.13,29.7,37.145,23.37,25.46,39.52,24.42,25.175,35.53,27.83,26.6,36.85,39.6,29.8,29.64,28.215,37.0,33.155,31.825,18.905,41.47,30.3,15.96,34.8,33.345,37.7,27.835,29.2,28.9,33.155,28.595,38.28,19.95,26.41,30.69,41.895,29.92,30.9,32.2,32.11,31.57,26.2,25.74,26.6,34.43,30.59,32.8,28.6,18.05,39.33,32.11,32.23,24.035,36.08,22.3,28.88,26.4,27.74,31.8,41.23,33.0,30.875,28.5,26.73,30.9,37.1,26.6,23.1,29.92,23.21,33.7,33.25,30.8,34.8,24.64,33.88,38.06,41.91,31.635,25.46,36.195,27.83,17.8,27.5,24.51,22.22,26.73,38.39,29.07,38.06,36.67,22.135,26.8,35.3,27.74,30.02,38.06,35.86,20.9,28.975,17.29,32.2,34.21,30.3,31.825,25.365,33.63,40.15,24.415,31.92,25.2,26.84,24.32,36.955,38.06,42.35,19.8,32.395,30.2,25.84,29.37,34.2,37.05,27.455,27.55,26.6,20.615,24.3,31.79,21.56,28.12,40.565,27.645,32.395,31.2,26.62,48.07,26.22,36.765,26.4,33.4,29.64,45.54,28.82,26.8,22.99,27.7,25.41,34.39,28.88,27.55,22.61,37.51,33.0,38.0,33.345,27.5,33.33,34.865,33.06,26.6,24.7,35.97,35.86,31.4,33.25,32.205,32.775,27.645,37.335,25.27,29.64,30.8,40.945,27.2,34.105,23.21,36.48,33.8,36.7,36.385,27.36,31.16,28.785,35.72,34.5,25.74,27.55,32.3,27.72,27.6,30.02,27.55,36.765,41.47,29.26,35.75,33.345,29.92,27.835,23.18,25.6,27.7,35.245,38.28,27.6,43.89,29.83,41.91,20.79,32.3,30.5,21.7,26.4,21.89,30.78,32.3,24.985,32.015,30.4,21.09,22.23,33.155,32.9,33.33,28.31,24.89,40.15,30.115,31.46,17.955,30.685,33.0,43.34,22.135,34.4,39.05,25.365,22.61,30.21,35.625,37.43,31.445,31.35,32.3,19.855,34.4,31.02,25.6,38.17,20.6,47.52,32.965,32.3,20.4,38.38,24.31,23.6,21.12,30.03,17.48,20.235,17.195,23.9,35.15,35.64,34.1,22.6,39.16,26.98,33.88,35.86,32.775,30.59,30.2,24.31,27.265,29.165,16.815,30.4,33.1,20.235,26.9,30.5,28.595,33.11,31.73,28.9,46.75,29.45,32.68,33.5,43.01,36.52,26.695,33.1,29.64,25.65,29.6,38.6,29.6,24.13,23.4,29.735,46.53,37.4,30.14,30.495,39.6,33.0,36.63,30.0,38.095,25.935,25.175,28.38,28.7,33.82,24.32,24.09,32.67,30.115,29.8,33.345,25.1,28.31,28.5,35.625,36.85,32.56,41.325,37.51,31.35,39.5,34.3,31.065,21.47,28.7,38.06,31.16,32.9,25.08,25.08,43.4,25.7,27.93,23.6,28.7,23.98,39.2,34.4,26.03,23.21,30.25,28.93,30.875,31.35,23.75,25.27,28.7,32.11,33.66,22.42,30.4,28.3,35.7,35.31,30.495,31.0,30.875,27.36,44.22,33.915,37.73,26.07,33.88,30.59,25.8,39.425,25.46,42.13,31.73,29.7,36.19,40.48,28.025,38.9,30.2,28.05,31.35,38.0,31.79,36.3,47.41,30.21,25.84,35.435,46.7,28.595,46.2,30.8,28.93,21.4,31.73,41.325,23.8,33.44,34.21,34.105,35.53,19.95,32.68,30.5,44.77,32.12,30.495,40.565,30.59,31.9,40.565,29.1,37.29,43.12,36.86,34.295,27.17,26.84,38.095,30.2,23.465,25.46,30.59,45.43,23.65,20.7,28.27,20.235,30.21,35.91,30.69,29.0,19.57,31.13,21.85,40.26,33.725,29.48,33.25,32.6,37.525,39.16,31.635,25.3,39.05,28.31,34.1,25.175,23.655,26.98,37.8,29.37,34.8,33.155,19.0,33.0,36.63,28.595,25.6,33.11,37.1,31.4,34.1,21.3,33.535,28.785,26.03,28.88,42.46,38.0,38.95,36.1,29.3,35.53,22.705,39.7,38.19,24.51,38.095,26.41,33.66,42.4,28.31,33.915,34.96,35.31,30.78,26.22,23.37,28.5,32.965,42.68,39.6,31.13,36.3,35.2,25.3,42.4,33.155,35.91,28.785,46.53,23.98,31.54,33.66,22.99,38.06,28.7,32.775,32.015,29.81,31.57,31.16,29.7,31.02,43.89,21.375,40.81,31.35,36.1,23.18,17.4,20.3,35.3,24.32,18.5,26.41,26.125,41.69,24.1,31.13,27.36,36.2,32.395,23.655,34.8,40.185,32.3,35.75,33.725,39.27,34.87,44.745,41.47,26.41,29.545,32.9,38.06,28.69,30.495,27.74,35.2,23.54,30.685,40.47,22.6,28.9,22.61,24.32,36.67,33.44,40.66,36.6,37.4,35.4,27.075,39.05,28.405,21.755,40.28,36.08,24.42,21.4,30.1,27.265,32.1,34.77,38.39,23.7,31.73,35.5,24.035,29.15,34.105,26.62,26.41,30.115,27.0,21.755,36.0,30.875,26.4,28.975,37.905,22.77,33.63,27.645,22.8,27.83,37.43,38.17,34.58,35.2,27.1,26.03,25.175,31.825,32.3,29.0,39.7,19.475,36.1,26.7,36.48,28.88,34.2,33.33,32.3,39.805,34.32,28.88,24.4,41.14,35.97,27.6,29.26,27.7,36.955,36.86,22.515,29.92,41.8,27.6,23.18,20.9,31.92,28.5,44.22,22.895,33.1,24.795,26.18,35.97,22.3,42.24,26.51,35.815,41.42,36.575,30.14,25.84,30.8,42.94,21.01,22.515,34.43,31.46,24.225,37.1,26.125,35.53,33.7,17.67,31.13,29.81,24.32,31.825,31.79,28.025,30.78,21.85,33.1,25.84,23.845,34.39,33.82,35.97,31.5,28.31,23.465,31.35,31.1,24.7,32.78,29.81,30.495,32.45,34.2,50.38,24.1,32.775,30.78,32.3,35.53,23.75,23.845,29.6,33.11,24.13,32.23,28.1,47.6,28.0,33.535,19.855,25.4,29.9,37.29,43.7,23.655,24.3,36.2,29.48,24.86,30.1,21.85,28.12,27.1,33.44,28.8,29.5,34.8,27.36,22.135,37.05,26.695,28.93,28.975,30.02,39.5,33.63,26.885,29.04,24.035,38.94,32.11,44.0,20.045,25.555,40.26,22.515,22.515,40.92,27.265,36.85,35.1,29.355,32.585,32.34,39.8,24.6,28.31,31.73,26.695,27.5,24.605,33.99,26.885,22.895,28.2,34.21,25.0,33.2,31.0,35.815,23.2,32.11,23.4,20.1,39.16,34.21,46.53,32.5,25.8,35.3,37.18,27.5,29.735,24.225,26.18,29.48,23.21,46.09,40.185,22.61,39.93,35.8,35.8,34.2,31.255,29.7,18.335,42.9,28.405,30.2,27.835,39.49,30.8,26.79,34.96,36.67,39.615,25.9,35.2,24.795,36.765,27.1,24.795,25.365,25.745,34.32,28.16,23.56,20.235,40.5,35.42,22.895,40.15,29.15,39.995,29.92,25.46,21.375,25.9,30.59,30.115,25.8,30.115,27.645,34.675,20.52,19.8,27.835,31.6,28.27,20.045,23.275,34.1,36.85,36.29,26.885,22.99,32.7,25.8,29.6,19.19,31.73,29.26,28.215,24.985,27.74,22.8,20.13,33.33,32.3,27.6,25.46,24.605,34.2,35.815,32.68,37.0,31.02,36.08,23.32,45.32,34.6,26.03,18.715,31.6,17.29,23.655,35.2,27.93,21.565,38.38,23.0,37.07,30.495,28.88,27.265,28.025,23.085,30.685,25.8,35.245,24.7,25.08,52.58,22.515,30.9,36.955,26.41,29.83,29.8,21.47,27.645,28.9,31.79,39.49,33.82,32.01,27.94,41.14,28.595,25.6,25.3,37.29,42.655,21.66,31.9,37.07,31.445,31.255,28.88,18.335,29.59,32.0,26.03,31.68,33.66,21.78,27.835,19.95,31.5,30.495,18.3,28.975,31.54,47.74,22.1,36.19,29.83,32.7,30.4,33.7,31.35,34.96,33.77,30.875,33.99,19.095,28.6,38.94,36.08,29.8,31.24,29.925,26.22,30.0,20.35,32.3,38.39,25.85,26.315,24.51,32.67,29.64,33.33,35.75,19.95,31.4,38.17,36.86,32.395,42.75,25.08,29.9,35.86,32.8,18.6,23.87,45.9,40.28,18.335,33.82,28.12,25.0,22.23,30.25,32.49,37.07,32.6,24.86,32.34,32.3,32.775,32.8,31.92,21.5,34.1,30.305,36.48,32.56,35.815,27.93,22.135,44.88,23.18,30.59,41.1,34.58,42.13,38.83,28.215,28.31,26.125,40.37,24.6,35.2,34.105,27.36,26.7,41.91,29.26,32.11,27.1,24.13,27.4,34.865,29.81,41.325,29.925,30.3,27.36,28.49,23.56,35.625,32.68,25.27,28.0,32.775,21.755,32.395,36.575,21.755,27.93,30.02,33.55,29.355,25.8,24.32,40.375,32.11,32.3,27.28,17.86,34.8,33.4,25.555,37.1,30.875,34.1,21.47,33.3,31.255,39.14,25.08,37.29,34.6,30.21,21.945,24.97,25.3,24.42,23.94,39.82,16.815,37.18,34.43,30.305,34.485,21.8,24.605,23.3,27.83,31.065,21.66,28.215,22.705,42.13,41.8,36.96,21.28,33.11,33.33,24.3,25.7,29.4,39.82,33.63,29.83,19.8,27.3,29.3,27.72,37.9,36.385,27.645,37.715,23.18,20.52,37.1,28.05,29.9,33.345,23.76,30.5,31.065,33.3,27.5,33.915,34.485,25.52,27.61,27.06,23.7,30.4,29.735,29.925,26.79,33.33,27.645,21.66,30.03,36.3,24.32,17.29,25.9,39.4,34.32,19.95,34.9,23.21,25.745,25.175,22.0,26.125,26.51,27.455,25.745,30.36,30.875,20.8,27.8,24.605,27.72,21.85,28.12,30.2,32.2,26.315,26.695,42.9,34.7,23.655,28.31,20.6,53.13,39.71,26.315,31.065,26.695,38.83,40.37,25.935,33.535,32.87,30.03,24.225,38.6,25.74,33.4,44.7,30.97,31.92,36.85,25.8,29.07],\"xaxis\":\"x\",\"xbins\":{\"end\":53.13,\"size\":1.0,\"start\":15.96},\"yaxis\":\"y\",\"type\":\"histogram\"},{\"legendgroup\":\"Body Mass Index Distribution\",\"marker\":{\"color\":\"#FA5858\"},\"mode\":\"lines\",\"name\":\"Body Mass Index Distribution\",\"showlegend\":false,\"x\":[15.96,16.03434,16.10868,16.183020000000003,16.257360000000002,16.3317,16.40604,16.48038,16.55472,16.629060000000003,16.703400000000002,16.77774,16.85208,16.92642,17.00076,17.075100000000003,17.149440000000002,17.22378,17.29812,17.37246,17.4468,17.521140000000003,17.595480000000002,17.66982,17.74416,17.8185,17.89284,17.96718,18.041520000000002,18.11586,18.1902,18.26454,18.33888,18.413220000000003,18.487560000000002,18.5619,18.63624,18.71058,18.78492,18.859260000000003,18.933600000000002,19.00794,19.08228,19.15662,19.23096,19.305300000000003,19.379640000000002,19.45398,19.52832,19.60266,19.677,19.75134,19.825680000000002,19.90002,19.97436,20.0487,20.12304,20.197380000000003,20.271720000000002,20.34606,20.4204,20.49474,20.56908,20.64342,20.717760000000002,20.7921,20.86644,20.940780000000004,21.01512,21.089460000000003,21.163800000000002,21.23814,21.31248,21.38682,21.46116,21.5355,21.609840000000002,21.68418,21.75852,21.83286,21.907200000000003,21.981540000000003,22.055880000000002,22.13022,22.20456,22.2789,22.35324,22.42758,22.501920000000002,22.57626,22.6506,22.72494,22.799280000000003,22.873620000000003,22.947960000000002,23.0223,23.09664,23.17098,23.24532,23.319660000000002,23.394000000000002,23.46834,23.54268,23.61702,23.691360000000003,23.765700000000002,23.840040000000002,23.91438,23.98872,24.06306,24.1374,24.21174,24.28608,24.36042,24.43476,24.509100000000004,24.583440000000003,24.657780000000002,24.732120000000002,24.80646,24.8808,24.95514,25.02948,25.10382,25.17816,25.2525,25.32684,25.401180000000004,25.475520000000003,25.549860000000002,25.624200000000002,25.69854,25.77288,25.84722,25.921560000000003,25.9959,26.07024,26.14458,26.21892,26.293260000000004,26.367600000000003,26.441940000000002,26.516280000000002,26.59062,26.66496,26.7393,26.81364,26.887980000000002,26.96232,27.03666,27.111,27.185340000000004,27.259680000000003,27.334020000000002,27.408360000000002,27.4827,27.55704,27.63138,27.70572,27.780060000000002,27.854400000000002,27.92874,28.00308,28.07742,28.151760000000003,28.226100000000002,28.300440000000002,28.37478,28.44912,28.52346,28.5978,28.672140000000002,28.746480000000002,28.82082,28.89516,28.9695,29.043840000000003,29.118180000000002,29.192520000000002,29.26686,29.3412,29.41554,29.48988,29.564220000000002,29.638560000000002,29.712900000000005,29.78724,29.86158,29.935920000000003,30.010260000000002,30.084600000000002,30.15894,30.23328,30.30762,30.38196,30.456300000000002,30.530640000000002,30.604980000000005,30.679320000000004,30.75366,30.828000000000003,30.902340000000002,30.97668,31.05102,31.12536,31.1997,31.27404,31.348380000000002,31.42272,31.497060000000005,31.571400000000004,31.645740000000004,31.720080000000003,31.794420000000002,31.86876,31.9431,32.01744,32.09178,32.16612000000001,32.24046,32.314800000000005,32.38914,32.463480000000004,32.537819999999996,32.61216,32.6865,32.76084,32.83518,32.90952,32.98386,33.0582,33.132540000000006,33.20688,33.281220000000005,33.35556,33.4299,33.50424,33.57858,33.65292,33.72726,33.80160000000001,33.87594,33.95028000000001,34.02462,34.098960000000005,34.1733,34.247640000000004,34.321979999999996,34.39632,34.47066,34.545,34.61934,34.69368,34.76802,34.84236,34.916700000000006,34.99104,35.065380000000005,35.13972,35.21406,35.2884,35.36274,35.43708,35.51142,35.58576000000001,35.6601,35.734440000000006,35.80878,35.883120000000005,35.95746,36.031800000000004,36.106139999999996,36.18048,36.25482,36.32916,36.4035,36.47784,36.55218,36.62652,36.700860000000006,36.7752,36.849540000000005,36.92388,36.99822,37.07256,37.1469,37.22124,37.29558,37.36992000000001,37.44426,37.518600000000006,37.59294,37.667280000000005,37.741620000000005,37.815960000000004,37.890299999999996,37.96464,38.038979999999995,38.11332,38.18766,38.262,38.33634,38.41068,38.485020000000006,38.55936,38.633700000000005,38.70804,38.78238,38.85672,38.93106,39.0054,39.07974,39.15408000000001,39.22842,39.302760000000006,39.3771,39.451440000000005,39.525780000000005,39.600120000000004,39.67446,39.7488,39.823139999999995,39.89748,39.97182,40.04616,40.1205,40.19484,40.269180000000006,40.34352,40.417860000000005,40.4922,40.56654,40.64088,40.71522,40.78956,40.8639,40.93824000000001,41.01258,41.086920000000006,41.16126,41.235600000000005,41.309940000000005,41.384280000000004,41.45862,41.53296,41.6073,41.68164,41.75598,41.83032,41.90466,41.979,42.053340000000006,42.12768,42.202020000000005,42.27636,42.3507,42.42504,42.49938,42.57372,42.64806,42.72240000000001,42.79674,42.871080000000006,42.94542,43.019760000000005,43.094100000000005,43.168440000000004,43.24278,43.31712,43.39146,43.4658,43.54014000000001,43.61448,43.68882,43.76316,43.837500000000006,43.91184,43.986180000000004,44.06052,44.13486,44.2092,44.28354,44.35788,44.43222,44.50656000000001,44.5809,44.655240000000006,44.72958,44.803920000000005,44.878260000000004,44.952600000000004,45.02694,45.10128,45.17562,45.24996,45.32430000000001,45.39864,45.47298,45.54732,45.621660000000006,45.696,45.770340000000004,45.84468,45.91902,45.99336,46.0677,46.14204,46.21638,46.29072,46.36506,46.439400000000006,46.51374,46.588080000000005,46.662420000000004,46.736760000000004,46.8111,46.88544,46.95978,47.03412,47.10846000000001,47.1828,47.25714000000001,47.33148,47.405820000000006,47.48016,47.554500000000004,47.62884,47.70318,47.77752,47.85186,47.9262,48.00054,48.07488,48.14922,48.22356,48.297900000000006,48.372240000000005,48.446580000000004,48.520920000000004,48.59526,48.6696,48.74394,48.81828,48.89262,48.96696,49.04130000000001,49.11564,49.189980000000006,49.26432,49.338660000000004,49.413000000000004,49.48734,49.56168,49.63602,49.71036,49.78470000000001,49.85904,49.93338000000001,50.00772,50.082060000000006,50.156400000000005,50.23074,50.305080000000004,50.379419999999996,50.45376,50.5281,50.60244,50.67678,50.75112,50.82546,50.899800000000006,50.97414,51.048480000000005,51.12282,51.197160000000004,51.2715,51.34584,51.42018,51.49452,51.56886,51.64320000000001,51.71754,51.791880000000006,51.866220000000006,51.940560000000005,52.014900000000004,52.089240000000004,52.16358,52.23792,52.31226,52.3866,52.46094,52.53528,52.60962000000001,52.68396,52.758300000000006,52.83264,52.906980000000004,52.981320000000004,53.05566],\"xaxis\":\"x\",\"y\":{\"dtype\":\"f8\",\"bdata\":\"QU+70mDwZD\\u002f7R\\u002fnv4yxmP9EeiYORcmc\\u002fwnXqGg7BaD++oICP+BdqP6NwZmTrdms\\u002fY2qwQH7dbD9TMsyAR0tuP5Wb9tjdv28\\u002f6JsSAW2dcD9g1yA17F1xP0emHHA9IXI\\u002fIhQXGjXncj9\\u002fIAbiq69zP9UZc3Z\\u002fenQ\\u002fwO7lLJNHdT9Tr6SU0BZ2Pw+VsvEn6HY\\u002fUtBinZC7dz8XJk9KCZF4P4KSDiqYaHk\\u002fYKih80pCej9MsC3KNh57P9q2SAR4\\u002fHs\\u002fJIfD1DHdfD92oYbWjcB9P5gcuH27pn4\\u002fFrP1cO+Pfz\\u002f\\u002f7\\u002flmMT6AP6aLoi4ptoA\\u002fEcOz3P4vgT\\u002fe0Lw206uBP0ESDojHKYI\\u002fssqIL\\u002f2pgj963gswlSyDPypjo8WvsYM\\u002fWcd6AWw5hD+naV5u58OEPzcuW789UYU\\u002ftrzCiYjhhT90mYsL33SGPz+Hr\\u002f5VC4c\\u002ffgDTef+khz9QlSje6kGIP44tLdIk4og\\u002f5eqISLeFiT8FCRaSqSyKP9igzXkA14o\\u002fFmYjab6Eiz9Vti6T4zWMP0Cr4SRu6ow\\u002ft99+eFqijT+EeHxKo12OP39pDu5BHI8\\u002fWkaqfy7ejz9niP0JsFGQP+cE9XDmtZA\\u002fj2pMM7UbkT8bqzPBFoORP3tCMUcF7JE\\u002fY2vftHpWkj\\u002flVKO\\u002fcMKSP0GYdOHgL5M\\u002fMGDrU8Sekz+CJ+kHFA+UP\\u002fDhSZrIgJQ\\u002flCshRtrzlD9vPRjVQGiVP9KWjY7z3ZU\\u002fBGAeJulUlj+WhkOqF82WP\\u002f+iqXN0Rpc\\u002fFCXjFfTAlz\\u002fHgghSijyYP8C0ygsquZg\\u002fVdNpQcU2mT+ZxOwGTbWZP4Vb4ISxNJo\\u002fUbzM+uG0mj9V\\u002fHfFzDWbPxZ59Whft5s\\u002fANlqnoY5nD9spl5lLrycP3RmURhCP50\\u002flmNRhKzCnT+OWSsDWEaeP2cIz5cuyp4\\u002fLYh2DBpOnz+7DxoSBNKfP07ZWzDrKqA\\u002ftKf7a71soD9WINvPba6gP\\u002fkaBqTx76A\\u002fvkYxdD4xoT99pqAeSnKhP94IQOIKs6E\\u002fsszKa3fzoT\\u002fauubhhjOiP+FVHPAwc6I\\u002fdoOd0G2yoj\\u002fgq9FUNvGiP+0upOyDL6M\\u002fTyiXrFBtoz8azaBSl6qjP3cO3UlT56M\\u002fNIgfrYAjpD8pBnNIHF+kP3ETlJkjmqQ\\u002fUhNzz5TUpD+2asjIbg6lP+5XwhGxR6U\\u002fMmfQ4FuApT+9MowScLilPy99uiTv76U\\u002fDAlbMNsmpj8kFrniNl2mPyt5anUFk6Y\\u002fQicopUrIpj93DGmnCv2mP2l7px5KMac\\u002fc5M6DQ5lpz\\u002fR76\\u002fGW5inP2rdlt84y6c\\u002fyke1G6v9pz94h6dauC+oPzQU94JmYag\\u002fhaLAa7uSqD8TGhDFvMOoP2+oJ\\u002f9v9Kg\\u002f4pH2MNokqT8ApxP+\\u002f1SpP0rrnXzlhKk\\u002f6lNzG460qT8o9jiJ\\u002fOOpP5nkuJwyE6o\\u002fv8gfPzFCqj+pcKZY+HCqP3GyMcCGn6o\\u002fudtsLtrNqj+mO9g07\\u002fuqP9w6NjnBKas\\u002fj\\u002futdUpXqz\\u002fCE+P9g4SrPwr9Jsllsas\\u002fLxLLwebdqz+fFnrZ\\u002fAmsP5pLXyKdNaw\\u002fM+2\\u002f7LtgrD+IwIvoTIusPycdS0pDtaw\\u002fB7O18pHerD8NNyaYKwetPwgEDfECL60\\u002f12J33gpWrT+EMbuVNnytP6hzV8h5oa0\\u002fCxwiycjFrT\\u002fXIuqtGOmtP8NlymxfC64\\u002fumWF9JMsrj\\u002fA\\u002fmI\\u002frkyuP728LmCna64\\u002fX1seiXmJrj9LDpMMIKauP\\u002fII1FeXwa4\\u002fmvoL6Nzbrj9fb\\u002fw57\\u002fSuP63m\\u002f7TNDK8\\u002fbakUkngjrz9J78W\\u002f8DivP\\u002fiu3cM3Ta8\\u002fm+XWm09grz9Yqw2dOnKvP5vmp1X7gq8\\u002fcuEmb5SSrz+8zn+TCKGvP6n4f1Varq8\\u002ftckhHYy6rz+yHFMYoMWvPw6OhDCYz68\\u002fJS8uBXbYrz9Dh0nrOuCvP6ehlPHn5q8\\u002fzIZH6X3srz+DV75y\\u002ffCvP8mJdw1n9K8\\u002f\\u002f7SoKrv2rz9815VB+vevPw27x+Qk+K8\\u002fD6Q21zv3rz88434gQPWvP4pGPR8z8q8\\u002fkFbBmBburz8CU1rF7OivP9UsoVi44q8\\u002f61REhXzbrz\\u002fL\\u002fAD8PNOvP+0hn+X9ya8\\u002fFg\\u002fx18O\\u002frz9LkwLGk7SvP9OnzutyqK8\\u002fH1L6tWabrz85\\u002fzemdI2vP2NZFjWifq8\\u002fpKoXsvRurz8KlgIjcV6vP3iqaSMcTa8\\u002ftLpsxfk6rz\\u002fR27R0DSivPz97otxZFK8\\u002fLXKU0uD\\u002frj+\\u002fyBdFo+quPz2ssjCh1K4\\u002fzafamtm9rj\\u002f0fX+TSqauPwP5aT3xja4\\u002fCdmB3cl0rj+ruuDwz1quPy2jakn+P64\\u002f8tt4ME8krj\\u002fXD\\u002fqOvAeuP4o2RBpA6q0\\u002fqKmyhNPLrT\\u002fBow2xcKytPxcNoecRjK0\\u002f723XC7JqrT\\u002f0kyPRTEitPzMpAO7eJK0\\u002f90nQS2YArT9oA3cy4tqsPwZZjW5TtKw\\u002fcKk2cbyMrD\\u002fye7FoIWSsP+9Z5lCIOqw\\u002fgpRe+\\u002fgPrD8b2TgOfeSrP\\u002fli4PkfuKs\\u002fblx85e6Kqz8xpz6S+FyrPwqw6jVNLqs\\u002fphYdTf7+qj930gpmHs+qPxkHmeTAnqo\\u002f5BTVwPltqj8XrvVA3TyqP4k2KbB\\u002fC6o\\u002fOK6KE\\u002fXZqT9uj6TeUKipP4Lc76ildqk\\u002f0Qy95QRFqT\\u002fnfeyffhOpPz+4zDoh4qg\\u002fzHFeOfmwqD+mTSENEYCoP9Raae1wT6g\\u002f4yYVuB4fqD8MhU\\u002fcHe+nP737109vv6c\\u002fqA4ajxGQpz8bXyeoAGGnP2X3c1A2Mqc\\u002faBEABaoDpz\\u002fiWmg0UdWmP44ZJnIfp6Y\\u002fN5YcsgZ5pj\\u002fqu2mL90qmP02WTYHhHKY\\u002f\\u002fgDgULPupT8Q3zVCW8ClP3UCiHvHkaU\\u002f97HlVOZipT9zqPuqpjOlP\\u002fVRfi\\u002f4A6U\\u002f\\u002fd7StcvTpD9iGaZ6E6OkP1leOWXDcaQ\\u002fHyVNQdE\\u002fpD9KarTwNA2kP0t1xJPo2aM\\u002f6Pv\\u002fp+iloz+ss4ocNHGjP6IlIlzMO6M\\u002fuhmJTLUFoz9UTYND9c6iPxSCrvGUl6I\\u002fcF6zQ59foj9IVnM6ISeiP\\u002fgIALsp7qE\\u002f4pNLV8m0oT9VlJ8QEnuhP\\u002fKFARUXQaE\\u002fjFq+eOwGoT8xSGTtpsygPx2ueHdbkqA\\u002f3nc4JB9YoD\\u002fNqKvABh6gP0ukkSZNyJ8\\u002fcvemMiRVnz\\u002frnxKSt+KeP2JtK7MpcZ4\\u002fgQtGI5oAnj\\u002fgg3g6JZGdP165FtfjIp0\\u002fcmKtKeu1nD8eZOyRTEqcP8UTnIwV4Js\\u002fMMxksk93mz8YA9\\u002fGABCbP\\u002fR7Fdcqqpo\\u002fENBcZsxFmj99xSSo4OKZPzsTMsVfgZk\\u002fuT6DKj8hmT8sCgLgccKYP2TuDOXoZJg\\u002fmqzZkJMImD\\u002fXCLP0X62XP0wDID47U5c\\u002fZL4ZFxL6lj8G9pUC0aGWP0dW1bNkSpY\\u002fEPgVX7rzlT\\u002fFSYECwJ2VPzVEaKZkSJU\\u002f9zkflJjzlD+BUgqDTZ+UP3EJq7t2S5Q\\u002fLFu8MAn4kz\\u002fvEaWO+6STP5WRvEFGUpM\\u002fiGENdOP\\u002fkj+LhmgDz62SPx\\u002fRvHAGXJI\\u002fEgK9yYgKkj\\u002f84u6NVrmRP8AVRJBxaJE\\u002fnrpb1twXkT81joJ2nMeQPwl5dnW1d5A\\u002fiZbbpC0okD9k52gGF7KPP1SvHTysFI8\\u002fpufl7Sl4jj8NSvvWn9yNP\\u002fdT0UEeQo0\\u002fMxo95rWojD\\u002foHqnOdxCMP+hTCER1eYs\\u002fYhYBwL\\u002fjij\\u002f6GpfkaE+KP9v6cniCvIk\\u002fyg\\u002fIZh4riT9Z5MXBTpuIP0CuecYlDYg\\u002fRbUF4bWAhz8Hjx+wEfaGP1fN2QZMbYY\\u002fEPXY63fmhT+ADjWVqGGFPwlgb2Dx3oQ\\u002funYNxmVehD9Y\\u002fJVIGeCDP8aM114fZIM\\u002fQ2WMWYvqgj84GZZEcHOCP6psMcTg\\u002foE\\u002fZQ2j7u6MgT+VePkirB2BP5xklt0osYA\\u002fWDtCi3RHgD\\u002f3AC23OsF\\u002fP5H2ICdg+X4\\u002fLvQ4wm83fj8jy8dgfHt9P717OweVxXw\\u002fliQlnMQVfD9ktealEWx7PyL2HBF+yHo\\u002fKuqwAAcrej+DDU6opJN5P0njzDFKAnk\\u002frNPzreV2eD9SlcQQYPF3P2UfYzmdcXc\\u002fYAh9BXz3dj\\u002fDyvVv1oJ2P1vQfbqBE3Y\\u002fHJOfoU6pdT+qX7eaCUR1Pxo8Nxt743Q\\u002fcrOI6GeHdD\\u002fHetFvkS90P2WT1SS223M\\u002fh0Qp55GLcz+Uld5s3j5zP6Jx1LFT9XI\\u002fNvXIaqiucj9ZWEx7kmpyP2pArm3HKHI\\u002fXPL76\\u002fzocT9Q5SI56apxPyqoSKlDbnE\\u002fTiFnGMUycT+qFzteKPhwP4EGk74qvnA\\u002fvL8NVYyEcD+AsVt7EEtwP0UPGyl+EXA\\u002f+uzdmECvbz9UVfg0jDpvP5POBq6GxG4\\u002fDFPDJOFMbj\\u002fniKS6VtNtP8AUyuOsV20\\u002f5FloorPZbD+JBQOrRVlsP++TAnFI1ms\\u002f1thxG6xQaz+vi\\u002fRha8hqP+niTVKLPWo\\u002fmlEV\\u002fxqwaT\\u002fiRH4YMyBpP+IgXXD1jWg\\u002feFzWaoz5Zz\\u002fvX2NdKmNnP5pgEt4Iy2Y\\u002fVdoZBWgxZj+bZQSjjZZlP5ae3W3E+mQ\\u002fd9njJ1teZD8E31PCo8FjP7Fr637yJGM\\u002fy268Ep2IYj\\u002f4\\u002fN3M+exhP02ncMNeUmE\\u002fMcxKCSG5YD+n+3bukyFgP5i79poQGF8\\u002fUS5MzpfxXT930LGcUdBcPwPhDcrJtFs\\u002f\\u002fraX1oKfWj8gcGpC9ZBZP2aLDfeOiVg\\u002fFV7l1rKJVz875+BxuJFWP0B8JN7roVU\\u002fOgLkso26VD+WwB4j09tTP97HfDXmBVM\\u002fbdQsFuY4Uj80Q1N\\u002f53RRP6zSYDT1uVA\\u002fBm6DjBAIUD\\u002f1yqkQZL5OP7l25t2Tfk0\\u002f\\u002fniX3YFQTD8m+ih98TNLP3tMa3aZKEo\\u002fk6B2\\u002fyQuST+pZJ7pNERIPzjKWKtgakc\\u002f49D3UTegRj\\u002fKRxZZQOVFP5OupWb8OEU\\u002f5aaS6+WaRD\\u002fWmvWpcQpEP06ztSIPh0M\\u002frpVe7SgQQz8S9Kf9JKVCP8OOy9pkRUI\\u002fxbg+zUXwQT+OibQHIaVBPxydc9BLY0E\\u002fgq0EsBcqQT+k0w6q0vhAPzRZ3ITHzkA\\u002fjoiCIz6rQD96ngP2e41APwzSAILEdEA\\u002fcwS5BVpgQD8FhiU2fk9AP7VmEBhzQUA\\u002f0EUG83s1QD943g9c3ipAP1nqNFXjIEA\\u002fk0nxfdgWQD9dEwVQEQxAP8fjy8bQ\\u002fz8\\u002f23kxZ4HjPz9E18LADcI\\u002fPymjD8dkmj8\\u002f\\u002fy7Vao1rPz+2ZX+0qDQ\\u002fP+J2YqTz9D4\\u002fJVz5zcirPj8IMaykoVg+Pz4GGHIX+z0\\u002feAp+7+OSPT+dztV94R89Pw==\"},\"yaxis\":\"y\",\"type\":\"scatter\"},{\"legendgroup\":\"Body Mass Index Distribution\",\"marker\":{\"color\":\"#FA5858\",\"symbol\":\"line-ns-open\"},\"mode\":\"markers\",\"name\":\"Body Mass Index Distribution\",\"showlegend\":false,\"x\":[27.9,33.77,33.0,22.705,28.88,25.74,33.44,27.74,29.83,25.84,26.22,26.29,34.4,39.82,42.13,24.6,30.78,23.845,40.3,35.3,36.005,32.4,34.1,31.92,28.025,27.72,23.085,32.775,17.385,36.3,35.6,26.315,28.6,28.31,36.4,20.425,32.965,20.8,36.67,39.9,26.6,36.63,21.78,30.8,37.05,37.3,38.665,34.77,24.53,35.2,35.625,33.63,28.0,34.43,28.69,36.955,31.825,31.68,22.88,37.335,27.36,33.66,24.7,25.935,22.42,28.9,39.1,26.315,36.19,23.98,24.75,28.5,28.1,32.01,27.4,34.01,29.59,35.53,39.805,32.965,26.885,38.285,37.62,41.23,34.8,22.895,31.16,27.2,27.74,26.98,39.49,24.795,29.83,34.77,31.3,37.62,30.8,38.28,19.95,19.3,31.6,25.46,30.115,29.92,27.5,28.025,28.4,30.875,27.94,35.09,33.63,29.7,30.8,35.72,32.205,28.595,49.06,27.94,27.17,23.37,37.1,23.75,28.975,31.35,33.915,28.785,28.3,37.4,17.765,34.7,26.505,22.04,35.9,25.555,28.785,28.05,34.1,25.175,31.9,36.0,22.42,32.49,25.3,29.735,28.69,38.83,30.495,37.73,37.43,28.4,24.13,29.7,37.145,23.37,25.46,39.52,24.42,25.175,35.53,27.83,26.6,36.85,39.6,29.8,29.64,28.215,37.0,33.155,31.825,18.905,41.47,30.3,15.96,34.8,33.345,37.7,27.835,29.2,28.9,33.155,28.595,38.28,19.95,26.41,30.69,41.895,29.92,30.9,32.2,32.11,31.57,26.2,25.74,26.6,34.43,30.59,32.8,28.6,18.05,39.33,32.11,32.23,24.035,36.08,22.3,28.88,26.4,27.74,31.8,41.23,33.0,30.875,28.5,26.73,30.9,37.1,26.6,23.1,29.92,23.21,33.7,33.25,30.8,34.8,24.64,33.88,38.06,41.91,31.635,25.46,36.195,27.83,17.8,27.5,24.51,22.22,26.73,38.39,29.07,38.06,36.67,22.135,26.8,35.3,27.74,30.02,38.06,35.86,20.9,28.975,17.29,32.2,34.21,30.3,31.825,25.365,33.63,40.15,24.415,31.92,25.2,26.84,24.32,36.955,38.06,42.35,19.8,32.395,30.2,25.84,29.37,34.2,37.05,27.455,27.55,26.6,20.615,24.3,31.79,21.56,28.12,40.565,27.645,32.395,31.2,26.62,48.07,26.22,36.765,26.4,33.4,29.64,45.54,28.82,26.8,22.99,27.7,25.41,34.39,28.88,27.55,22.61,37.51,33.0,38.0,33.345,27.5,33.33,34.865,33.06,26.6,24.7,35.97,35.86,31.4,33.25,32.205,32.775,27.645,37.335,25.27,29.64,30.8,40.945,27.2,34.105,23.21,36.48,33.8,36.7,36.385,27.36,31.16,28.785,35.72,34.5,25.74,27.55,32.3,27.72,27.6,30.02,27.55,36.765,41.47,29.26,35.75,33.345,29.92,27.835,23.18,25.6,27.7,35.245,38.28,27.6,43.89,29.83,41.91,20.79,32.3,30.5,21.7,26.4,21.89,30.78,32.3,24.985,32.015,30.4,21.09,22.23,33.155,32.9,33.33,28.31,24.89,40.15,30.115,31.46,17.955,30.685,33.0,43.34,22.135,34.4,39.05,25.365,22.61,30.21,35.625,37.43,31.445,31.35,32.3,19.855,34.4,31.02,25.6,38.17,20.6,47.52,32.965,32.3,20.4,38.38,24.31,23.6,21.12,30.03,17.48,20.235,17.195,23.9,35.15,35.64,34.1,22.6,39.16,26.98,33.88,35.86,32.775,30.59,30.2,24.31,27.265,29.165,16.815,30.4,33.1,20.235,26.9,30.5,28.595,33.11,31.73,28.9,46.75,29.45,32.68,33.5,43.01,36.52,26.695,33.1,29.64,25.65,29.6,38.6,29.6,24.13,23.4,29.735,46.53,37.4,30.14,30.495,39.6,33.0,36.63,30.0,38.095,25.935,25.175,28.38,28.7,33.82,24.32,24.09,32.67,30.115,29.8,33.345,25.1,28.31,28.5,35.625,36.85,32.56,41.325,37.51,31.35,39.5,34.3,31.065,21.47,28.7,38.06,31.16,32.9,25.08,25.08,43.4,25.7,27.93,23.6,28.7,23.98,39.2,34.4,26.03,23.21,30.25,28.93,30.875,31.35,23.75,25.27,28.7,32.11,33.66,22.42,30.4,28.3,35.7,35.31,30.495,31.0,30.875,27.36,44.22,33.915,37.73,26.07,33.88,30.59,25.8,39.425,25.46,42.13,31.73,29.7,36.19,40.48,28.025,38.9,30.2,28.05,31.35,38.0,31.79,36.3,47.41,30.21,25.84,35.435,46.7,28.595,46.2,30.8,28.93,21.4,31.73,41.325,23.8,33.44,34.21,34.105,35.53,19.95,32.68,30.5,44.77,32.12,30.495,40.565,30.59,31.9,40.565,29.1,37.29,43.12,36.86,34.295,27.17,26.84,38.095,30.2,23.465,25.46,30.59,45.43,23.65,20.7,28.27,20.235,30.21,35.91,30.69,29.0,19.57,31.13,21.85,40.26,33.725,29.48,33.25,32.6,37.525,39.16,31.635,25.3,39.05,28.31,34.1,25.175,23.655,26.98,37.8,29.37,34.8,33.155,19.0,33.0,36.63,28.595,25.6,33.11,37.1,31.4,34.1,21.3,33.535,28.785,26.03,28.88,42.46,38.0,38.95,36.1,29.3,35.53,22.705,39.7,38.19,24.51,38.095,26.41,33.66,42.4,28.31,33.915,34.96,35.31,30.78,26.22,23.37,28.5,32.965,42.68,39.6,31.13,36.3,35.2,25.3,42.4,33.155,35.91,28.785,46.53,23.98,31.54,33.66,22.99,38.06,28.7,32.775,32.015,29.81,31.57,31.16,29.7,31.02,43.89,21.375,40.81,31.35,36.1,23.18,17.4,20.3,35.3,24.32,18.5,26.41,26.125,41.69,24.1,31.13,27.36,36.2,32.395,23.655,34.8,40.185,32.3,35.75,33.725,39.27,34.87,44.745,41.47,26.41,29.545,32.9,38.06,28.69,30.495,27.74,35.2,23.54,30.685,40.47,22.6,28.9,22.61,24.32,36.67,33.44,40.66,36.6,37.4,35.4,27.075,39.05,28.405,21.755,40.28,36.08,24.42,21.4,30.1,27.265,32.1,34.77,38.39,23.7,31.73,35.5,24.035,29.15,34.105,26.62,26.41,30.115,27.0,21.755,36.0,30.875,26.4,28.975,37.905,22.77,33.63,27.645,22.8,27.83,37.43,38.17,34.58,35.2,27.1,26.03,25.175,31.825,32.3,29.0,39.7,19.475,36.1,26.7,36.48,28.88,34.2,33.33,32.3,39.805,34.32,28.88,24.4,41.14,35.97,27.6,29.26,27.7,36.955,36.86,22.515,29.92,41.8,27.6,23.18,20.9,31.92,28.5,44.22,22.895,33.1,24.795,26.18,35.97,22.3,42.24,26.51,35.815,41.42,36.575,30.14,25.84,30.8,42.94,21.01,22.515,34.43,31.46,24.225,37.1,26.125,35.53,33.7,17.67,31.13,29.81,24.32,31.825,31.79,28.025,30.78,21.85,33.1,25.84,23.845,34.39,33.82,35.97,31.5,28.31,23.465,31.35,31.1,24.7,32.78,29.81,30.495,32.45,34.2,50.38,24.1,32.775,30.78,32.3,35.53,23.75,23.845,29.6,33.11,24.13,32.23,28.1,47.6,28.0,33.535,19.855,25.4,29.9,37.29,43.7,23.655,24.3,36.2,29.48,24.86,30.1,21.85,28.12,27.1,33.44,28.8,29.5,34.8,27.36,22.135,37.05,26.695,28.93,28.975,30.02,39.5,33.63,26.885,29.04,24.035,38.94,32.11,44.0,20.045,25.555,40.26,22.515,22.515,40.92,27.265,36.85,35.1,29.355,32.585,32.34,39.8,24.6,28.31,31.73,26.695,27.5,24.605,33.99,26.885,22.895,28.2,34.21,25.0,33.2,31.0,35.815,23.2,32.11,23.4,20.1,39.16,34.21,46.53,32.5,25.8,35.3,37.18,27.5,29.735,24.225,26.18,29.48,23.21,46.09,40.185,22.61,39.93,35.8,35.8,34.2,31.255,29.7,18.335,42.9,28.405,30.2,27.835,39.49,30.8,26.79,34.96,36.67,39.615,25.9,35.2,24.795,36.765,27.1,24.795,25.365,25.745,34.32,28.16,23.56,20.235,40.5,35.42,22.895,40.15,29.15,39.995,29.92,25.46,21.375,25.9,30.59,30.115,25.8,30.115,27.645,34.675,20.52,19.8,27.835,31.6,28.27,20.045,23.275,34.1,36.85,36.29,26.885,22.99,32.7,25.8,29.6,19.19,31.73,29.26,28.215,24.985,27.74,22.8,20.13,33.33,32.3,27.6,25.46,24.605,34.2,35.815,32.68,37.0,31.02,36.08,23.32,45.32,34.6,26.03,18.715,31.6,17.29,23.655,35.2,27.93,21.565,38.38,23.0,37.07,30.495,28.88,27.265,28.025,23.085,30.685,25.8,35.245,24.7,25.08,52.58,22.515,30.9,36.955,26.41,29.83,29.8,21.47,27.645,28.9,31.79,39.49,33.82,32.01,27.94,41.14,28.595,25.6,25.3,37.29,42.655,21.66,31.9,37.07,31.445,31.255,28.88,18.335,29.59,32.0,26.03,31.68,33.66,21.78,27.835,19.95,31.5,30.495,18.3,28.975,31.54,47.74,22.1,36.19,29.83,32.7,30.4,33.7,31.35,34.96,33.77,30.875,33.99,19.095,28.6,38.94,36.08,29.8,31.24,29.925,26.22,30.0,20.35,32.3,38.39,25.85,26.315,24.51,32.67,29.64,33.33,35.75,19.95,31.4,38.17,36.86,32.395,42.75,25.08,29.9,35.86,32.8,18.6,23.87,45.9,40.28,18.335,33.82,28.12,25.0,22.23,30.25,32.49,37.07,32.6,24.86,32.34,32.3,32.775,32.8,31.92,21.5,34.1,30.305,36.48,32.56,35.815,27.93,22.135,44.88,23.18,30.59,41.1,34.58,42.13,38.83,28.215,28.31,26.125,40.37,24.6,35.2,34.105,27.36,26.7,41.91,29.26,32.11,27.1,24.13,27.4,34.865,29.81,41.325,29.925,30.3,27.36,28.49,23.56,35.625,32.68,25.27,28.0,32.775,21.755,32.395,36.575,21.755,27.93,30.02,33.55,29.355,25.8,24.32,40.375,32.11,32.3,27.28,17.86,34.8,33.4,25.555,37.1,30.875,34.1,21.47,33.3,31.255,39.14,25.08,37.29,34.6,30.21,21.945,24.97,25.3,24.42,23.94,39.82,16.815,37.18,34.43,30.305,34.485,21.8,24.605,23.3,27.83,31.065,21.66,28.215,22.705,42.13,41.8,36.96,21.28,33.11,33.33,24.3,25.7,29.4,39.82,33.63,29.83,19.8,27.3,29.3,27.72,37.9,36.385,27.645,37.715,23.18,20.52,37.1,28.05,29.9,33.345,23.76,30.5,31.065,33.3,27.5,33.915,34.485,25.52,27.61,27.06,23.7,30.4,29.735,29.925,26.79,33.33,27.645,21.66,30.03,36.3,24.32,17.29,25.9,39.4,34.32,19.95,34.9,23.21,25.745,25.175,22.0,26.125,26.51,27.455,25.745,30.36,30.875,20.8,27.8,24.605,27.72,21.85,28.12,30.2,32.2,26.315,26.695,42.9,34.7,23.655,28.31,20.6,53.13,39.71,26.315,31.065,26.695,38.83,40.37,25.935,33.535,32.87,30.03,24.225,38.6,25.74,33.4,44.7,30.97,31.92,36.85,25.8,29.07],\"xaxis\":\"x\",\"y\":[\"Body Mass Index Distribution\",\"Body Mass Index Distribution\",\"Body Mass Index Distribution\",\"Body Mass Index Distribution\",\"Body Mass Index Distribution\",\"Body Mass Index Distribution\",\"Body Mass Index Distribution\",\"Body Mass Index Distribution\",\"Body Mass Index Distribution\",\"Body Mass Index Distribution\",\"Body Mass Index Distribution\",\"Body Mass Index Distribution\",\"Body Mass Index Distribution\",\"Body Mass Index Distribution\",\"Body Mass Index Distribution\",\"Body Mass Index Distribution\",\"Body Mass Index Distribution\",\"Body Mass Index Distribution\",\"Body Mass Index Distribution\",\"Body Mass Index Distribution\",\"Body Mass Index Distribution\",\"Body Mass Index Distribution\",\"Body Mass Index Distribution\",\"Body Mass Index Distribution\",\"Body Mass Index Distribution\",\"Body Mass Index Distribution\",\"Body Mass Index Distribution\",\"Body Mass Index Distribution\",\"Body Mass Index Distribution\",\"Body Mass Index Distribution\",\"Body Mass Index Distribution\",\"Body Mass Index Distribution\",\"Body Mass Index Distribution\",\"Body Mass Index Distribution\",\"Body Mass Index Distribution\",\"Body Mass Index Distribution\",\"Body Mass Index Distribution\",\"Body Mass Index Distribution\",\"Body Mass Index Distribution\",\"Body Mass Index Distribution\",\"Body Mass Index Distribution\",\"Body Mass Index Distribution\",\"Body Mass Index Distribution\",\"Body Mass Index Distribution\",\"Body Mass Index Distribution\",\"Body Mass Index Distribution\",\"Body Mass Index Distribution\",\"Body Mass Index Distribution\",\"Body Mass Index Distribution\",\"Body Mass Index Distribution\",\"Body Mass Index Distribution\",\"Body Mass Index Distribution\",\"Body Mass Index Distribution\",\"Body Mass Index Distribution\",\"Body Mass Index Distribution\",\"Body Mass Index Distribution\",\"Body Mass Index Distribution\",\"Body Mass Index Distribution\",\"Body Mass Index Distribution\",\"Body Mass Index Distribution\",\"Body Mass Index Distribution\",\"Body Mass Index Distribution\",\"Body Mass Index Distribution\",\"Body Mass Index Distribution\",\"Body Mass Index Distribution\",\"Body Mass Index Distribution\",\"Body Mass Index Distribution\",\"Body Mass Index Distribution\",\"Body Mass Index Distribution\",\"Body Mass Index Distribution\",\"Body Mass Index Distribution\",\"Body Mass Index Distribution\",\"Body Mass Index Distribution\",\"Body Mass Index Distribution\",\"Body Mass Index Distribution\",\"Body Mass Index Distribution\",\"Body Mass Index Distribution\",\"Body Mass Index Distribution\",\"Body Mass Index Distribution\",\"Body Mass Index Distribution\",\"Body Mass Index Distribution\",\"Body Mass Index Distribution\",\"Body Mass Index Distribution\",\"Body Mass Index Distribution\",\"Body Mass Index Distribution\",\"Body Mass Index Distribution\",\"Body Mass Index Distribution\",\"Body Mass Index Distribution\",\"Body Mass Index Distribution\",\"Body Mass Index Distribution\",\"Body Mass Index Distribution\",\"Body Mass Index Distribution\",\"Body Mass Index Distribution\",\"Body Mass Index Distribution\",\"Body Mass Index Distribution\",\"Body Mass Index Distribution\",\"Body Mass Index Distribution\",\"Body Mass Index Distribution\",\"Body Mass Index Distribution\",\"Body Mass Index Distribution\",\"Body Mass Index Distribution\",\"Body Mass Index Distribution\",\"Body Mass Index Distribution\",\"Body Mass Index Distribution\",\"Body Mass Index Distribution\",\"Body Mass Index Distribution\",\"Body Mass Index Distribution\",\"Body Mass Index Distribution\",\"Body Mass Index Distribution\",\"Body Mass Index Distribution\",\"Body Mass Index Distribution\",\"Body Mass Index Distribution\",\"Body Mass Index Distribution\",\"Body Mass Index Distribution\",\"Body Mass Index Distribution\",\"Body Mass Index Distribution\",\"Body Mass Index Distribution\",\"Body Mass Index Distribution\",\"Body Mass Index Distribution\",\"Body Mass Index Distribution\",\"Body Mass Index Distribution\",\"Body Mass Index Distribution\",\"Body Mass Index Distribution\",\"Body Mass Index Distribution\",\"Body Mass Index Distribution\",\"Body Mass Index Distribution\",\"Body Mass Index Distribution\",\"Body Mass Index Distribution\",\"Body Mass Index Distribution\",\"Body Mass Index Distribution\",\"Body Mass Index Distribution\",\"Body Mass Index Distribution\",\"Body Mass Index Distribution\",\"Body Mass Index Distribution\",\"Body Mass Index Distribution\",\"Body Mass Index Distribution\",\"Body Mass Index Distribution\",\"Body Mass Index Distribution\",\"Body Mass Index Distribution\",\"Body Mass Index Distribution\",\"Body Mass Index Distribution\",\"Body Mass Index Distribution\",\"Body Mass Index Distribution\",\"Body Mass Index Distribution\",\"Body Mass Index Distribution\",\"Body Mass Index Distribution\",\"Body Mass Index Distribution\",\"Body Mass Index Distribution\",\"Body Mass Index Distribution\",\"Body Mass Index Distribution\",\"Body Mass Index Distribution\",\"Body Mass Index Distribution\",\"Body Mass Index Distribution\",\"Body Mass Index Distribution\",\"Body Mass Index Distribution\",\"Body Mass Index Distribution\",\"Body Mass Index Distribution\",\"Body Mass Index Distribution\",\"Body Mass Index Distribution\",\"Body Mass Index Distribution\",\"Body Mass Index Distribution\",\"Body Mass Index Distribution\",\"Body Mass Index Distribution\",\"Body Mass Index Distribution\",\"Body Mass Index Distribution\",\"Body Mass Index Distribution\",\"Body Mass Index Distribution\",\"Body Mass Index Distribution\",\"Body Mass Index Distribution\",\"Body Mass Index Distribution\",\"Body Mass Index Distribution\",\"Body Mass Index Distribution\",\"Body Mass Index Distribution\",\"Body Mass Index Distribution\",\"Body Mass Index Distribution\",\"Body Mass Index Distribution\",\"Body Mass Index Distribution\",\"Body Mass Index Distribution\",\"Body Mass Index Distribution\",\"Body Mass Index Distribution\",\"Body Mass Index Distribution\",\"Body Mass Index Distribution\",\"Body Mass Index Distribution\",\"Body Mass Index Distribution\",\"Body Mass Index Distribution\",\"Body Mass Index Distribution\",\"Body Mass Index Distribution\",\"Body Mass Index Distribution\",\"Body Mass Index Distribution\",\"Body Mass Index Distribution\",\"Body Mass Index Distribution\",\"Body Mass Index Distribution\",\"Body Mass Index Distribution\",\"Body Mass Index Distribution\",\"Body Mass Index Distribution\",\"Body Mass Index Distribution\",\"Body Mass Index Distribution\",\"Body Mass Index Distribution\",\"Body Mass Index Distribution\",\"Body Mass Index Distribution\",\"Body Mass Index Distribution\",\"Body Mass Index Distribution\",\"Body Mass Index Distribution\",\"Body Mass Index Distribution\",\"Body Mass Index Distribution\",\"Body Mass Index Distribution\",\"Body Mass Index Distribution\",\"Body Mass Index Distribution\",\"Body Mass Index Distribution\",\"Body Mass Index Distribution\",\"Body Mass Index Distribution\",\"Body Mass Index Distribution\",\"Body Mass Index Distribution\",\"Body Mass Index Distribution\",\"Body Mass Index Distribution\",\"Body Mass Index Distribution\",\"Body Mass Index Distribution\",\"Body Mass Index Distribution\",\"Body Mass Index Distribution\",\"Body Mass Index Distribution\",\"Body Mass Index Distribution\",\"Body Mass Index Distribution\",\"Body Mass Index Distribution\",\"Body Mass Index Distribution\",\"Body Mass Index Distribution\",\"Body Mass Index Distribution\",\"Body Mass Index Distribution\",\"Body Mass Index Distribution\",\"Body Mass Index Distribution\",\"Body Mass Index Distribution\",\"Body Mass Index Distribution\",\"Body Mass Index Distribution\",\"Body Mass Index Distribution\",\"Body Mass Index Distribution\",\"Body Mass Index Distribution\",\"Body Mass Index Distribution\",\"Body Mass Index Distribution\",\"Body Mass Index Distribution\",\"Body Mass Index Distribution\",\"Body Mass Index Distribution\",\"Body Mass Index Distribution\",\"Body Mass Index Distribution\",\"Body Mass Index Distribution\",\"Body Mass Index Distribution\",\"Body Mass Index Distribution\",\"Body Mass Index Distribution\",\"Body Mass Index Distribution\",\"Body Mass Index Distribution\",\"Body Mass Index Distribution\",\"Body Mass Index Distribution\",\"Body Mass Index Distribution\",\"Body Mass Index Distribution\",\"Body Mass Index Distribution\",\"Body Mass Index Distribution\",\"Body Mass Index Distribution\",\"Body Mass Index Distribution\",\"Body Mass Index Distribution\",\"Body Mass Index Distribution\",\"Body Mass Index Distribution\",\"Body Mass Index Distribution\",\"Body Mass Index Distribution\",\"Body Mass Index Distribution\",\"Body Mass Index Distribution\",\"Body Mass Index Distribution\",\"Body Mass Index Distribution\",\"Body Mass Index Distribution\",\"Body Mass Index Distribution\",\"Body Mass Index Distribution\",\"Body Mass Index Distribution\",\"Body Mass Index Distribution\",\"Body Mass Index Distribution\",\"Body Mass Index Distribution\",\"Body Mass Index Distribution\",\"Body Mass Index Distribution\",\"Body Mass Index Distribution\",\"Body Mass Index Distribution\",\"Body Mass Index Distribution\",\"Body Mass Index Distribution\",\"Body Mass Index Distribution\",\"Body Mass Index Distribution\",\"Body Mass Index Distribution\",\"Body Mass Index Distribution\",\"Body Mass Index Distribution\",\"Body Mass Index Distribution\",\"Body Mass Index Distribution\",\"Body Mass Index Distribution\",\"Body Mass Index Distribution\",\"Body Mass Index Distribution\",\"Body Mass Index Distribution\",\"Body Mass Index Distribution\",\"Body Mass Index Distribution\",\"Body Mass Index Distribution\",\"Body Mass Index Distribution\",\"Body Mass Index Distribution\",\"Body Mass Index Distribution\",\"Body Mass Index Distribution\",\"Body Mass Index Distribution\",\"Body Mass Index Distribution\",\"Body Mass Index Distribution\",\"Body Mass Index Distribution\",\"Body Mass Index Distribution\",\"Body Mass Index Distribution\",\"Body Mass Index Distribution\",\"Body Mass Index Distribution\",\"Body Mass Index Distribution\",\"Body Mass Index Distribution\",\"Body Mass Index Distribution\",\"Body Mass Index Distribution\",\"Body Mass Index Distribution\",\"Body Mass Index Distribution\",\"Body Mass Index Distribution\",\"Body Mass Index Distribution\",\"Body Mass Index Distribution\",\"Body Mass Index Distribution\",\"Body Mass Index Distribution\",\"Body Mass Index Distribution\",\"Body Mass Index Distribution\",\"Body Mass Index Distribution\",\"Body Mass Index Distribution\",\"Body Mass Index Distribution\",\"Body Mass Index Distribution\",\"Body Mass Index Distribution\",\"Body Mass Index Distribution\",\"Body Mass Index Distribution\",\"Body Mass Index Distribution\",\"Body Mass Index Distribution\",\"Body Mass Index Distribution\",\"Body Mass Index Distribution\",\"Body Mass Index Distribution\",\"Body Mass Index Distribution\",\"Body Mass Index Distribution\",\"Body Mass Index Distribution\",\"Body Mass Index Distribution\",\"Body Mass Index Distribution\",\"Body Mass Index Distribution\",\"Body Mass Index Distribution\",\"Body Mass Index Distribution\",\"Body Mass Index Distribution\",\"Body Mass Index Distribution\",\"Body Mass Index Distribution\",\"Body Mass Index Distribution\",\"Body Mass Index Distribution\",\"Body Mass Index Distribution\",\"Body Mass Index Distribution\",\"Body Mass Index Distribution\",\"Body Mass Index Distribution\",\"Body Mass Index Distribution\",\"Body Mass Index Distribution\",\"Body Mass Index Distribution\",\"Body Mass Index Distribution\",\"Body Mass Index Distribution\",\"Body Mass Index Distribution\",\"Body Mass Index Distribution\",\"Body Mass Index Distribution\",\"Body Mass Index Distribution\",\"Body Mass Index Distribution\",\"Body Mass Index Distribution\",\"Body Mass Index Distribution\",\"Body Mass Index Distribution\",\"Body Mass Index Distribution\",\"Body Mass Index Distribution\",\"Body Mass Index Distribution\",\"Body Mass Index Distribution\",\"Body Mass Index Distribution\",\"Body Mass Index Distribution\",\"Body Mass Index Distribution\",\"Body Mass Index Distribution\",\"Body Mass Index Distribution\",\"Body Mass Index Distribution\",\"Body Mass Index Distribution\",\"Body Mass Index Distribution\",\"Body Mass Index Distribution\",\"Body Mass Index Distribution\",\"Body Mass Index Distribution\",\"Body Mass Index Distribution\",\"Body Mass Index Distribution\",\"Body Mass Index Distribution\",\"Body Mass Index Distribution\",\"Body Mass Index Distribution\",\"Body Mass Index Distribution\",\"Body Mass Index Distribution\",\"Body Mass Index Distribution\",\"Body Mass Index Distribution\",\"Body Mass Index Distribution\",\"Body Mass Index Distribution\",\"Body Mass Index Distribution\",\"Body Mass Index Distribution\",\"Body Mass Index Distribution\",\"Body Mass Index Distribution\",\"Body Mass Index Distribution\",\"Body Mass Index Distribution\",\"Body Mass Index Distribution\",\"Body Mass Index Distribution\",\"Body Mass Index Distribution\",\"Body Mass Index Distribution\",\"Body Mass Index Distribution\",\"Body Mass Index Distribution\",\"Body Mass Index Distribution\",\"Body Mass Index Distribution\",\"Body Mass Index Distribution\",\"Body Mass Index Distribution\",\"Body Mass Index Distribution\",\"Body Mass Index Distribution\",\"Body Mass Index Distribution\",\"Body Mass Index Distribution\",\"Body Mass Index Distribution\",\"Body Mass Index Distribution\",\"Body Mass Index Distribution\",\"Body Mass Index Distribution\",\"Body Mass Index Distribution\",\"Body Mass Index Distribution\",\"Body Mass Index Distribution\",\"Body Mass Index Distribution\",\"Body Mass Index Distribution\",\"Body Mass Index Distribution\",\"Body Mass Index Distribution\",\"Body Mass Index Distribution\",\"Body Mass Index Distribution\",\"Body Mass Index Distribution\",\"Body Mass Index Distribution\",\"Body Mass Index Distribution\",\"Body Mass Index Distribution\",\"Body Mass Index Distribution\",\"Body Mass Index Distribution\",\"Body Mass Index Distribution\",\"Body Mass Index Distribution\",\"Body Mass Index Distribution\",\"Body Mass Index Distribution\",\"Body Mass Index Distribution\",\"Body Mass Index Distribution\",\"Body Mass Index Distribution\",\"Body Mass Index Distribution\",\"Body Mass Index Distribution\",\"Body Mass Index Distribution\",\"Body Mass Index Distribution\",\"Body Mass Index Distribution\",\"Body Mass Index Distribution\",\"Body Mass Index Distribution\",\"Body Mass Index Distribution\",\"Body Mass Index Distribution\",\"Body Mass Index Distribution\",\"Body Mass Index Distribution\",\"Body Mass Index Distribution\",\"Body Mass Index Distribution\",\"Body Mass Index Distribution\",\"Body Mass Index Distribution\",\"Body Mass Index Distribution\",\"Body Mass Index Distribution\",\"Body Mass Index Distribution\",\"Body Mass Index Distribution\",\"Body Mass Index Distribution\",\"Body Mass Index Distribution\",\"Body Mass Index Distribution\",\"Body Mass Index Distribution\",\"Body Mass Index Distribution\",\"Body Mass Index Distribution\",\"Body Mass Index Distribution\",\"Body Mass Index Distribution\",\"Body Mass Index Distribution\",\"Body Mass Index Distribution\",\"Body Mass Index Distribution\",\"Body Mass Index Distribution\",\"Body Mass Index Distribution\",\"Body Mass Index Distribution\",\"Body Mass Index Distribution\",\"Body Mass Index Distribution\",\"Body Mass Index Distribution\",\"Body Mass Index Distribution\",\"Body Mass Index Distribution\",\"Body Mass Index Distribution\",\"Body Mass Index Distribution\",\"Body Mass Index Distribution\",\"Body Mass Index Distribution\",\"Body Mass Index Distribution\",\"Body Mass Index Distribution\",\"Body Mass Index Distribution\",\"Body Mass Index Distribution\",\"Body Mass Index Distribution\",\"Body Mass Index Distribution\",\"Body Mass Index Distribution\",\"Body Mass Index Distribution\",\"Body Mass Index Distribution\",\"Body Mass Index Distribution\",\"Body Mass Index Distribution\",\"Body Mass Index Distribution\",\"Body Mass Index Distribution\",\"Body Mass Index Distribution\",\"Body Mass Index Distribution\",\"Body Mass Index Distribution\",\"Body Mass Index Distribution\",\"Body Mass Index Distribution\",\"Body Mass Index Distribution\",\"Body Mass Index Distribution\",\"Body Mass Index Distribution\",\"Body Mass Index Distribution\",\"Body Mass Index Distribution\",\"Body Mass Index Distribution\",\"Body Mass Index Distribution\",\"Body Mass Index Distribution\",\"Body Mass Index Distribution\",\"Body Mass Index Distribution\",\"Body Mass Index Distribution\",\"Body Mass Index Distribution\",\"Body Mass Index Distribution\",\"Body Mass Index Distribution\",\"Body Mass Index Distribution\",\"Body Mass Index Distribution\",\"Body Mass Index Distribution\",\"Body Mass Index Distribution\",\"Body Mass Index Distribution\",\"Body Mass Index Distribution\",\"Body Mass Index Distribution\",\"Body Mass Index Distribution\",\"Body Mass Index Distribution\",\"Body Mass Index Distribution\",\"Body Mass Index Distribution\",\"Body Mass Index Distribution\",\"Body Mass Index Distribution\",\"Body Mass Index Distribution\",\"Body Mass Index Distribution\",\"Body Mass Index Distribution\",\"Body Mass Index Distribution\",\"Body Mass Index Distribution\",\"Body Mass Index Distribution\",\"Body Mass Index Distribution\",\"Body Mass Index Distribution\",\"Body Mass Index Distribution\",\"Body Mass Index Distribution\",\"Body Mass Index Distribution\",\"Body Mass Index Distribution\",\"Body Mass Index Distribution\",\"Body Mass Index Distribution\",\"Body Mass Index Distribution\",\"Body Mass Index Distribution\",\"Body Mass Index Distribution\",\"Body Mass Index Distribution\",\"Body Mass Index Distribution\",\"Body Mass Index Distribution\",\"Body Mass Index Distribution\",\"Body Mass Index Distribution\",\"Body Mass Index Distribution\",\"Body Mass Index Distribution\",\"Body Mass Index Distribution\",\"Body Mass Index Distribution\",\"Body Mass Index Distribution\",\"Body Mass Index Distribution\",\"Body Mass Index Distribution\",\"Body Mass Index Distribution\",\"Body Mass Index Distribution\",\"Body Mass Index Distribution\",\"Body Mass Index Distribution\",\"Body Mass Index Distribution\",\"Body Mass Index Distribution\",\"Body Mass Index Distribution\",\"Body Mass Index Distribution\",\"Body Mass Index Distribution\",\"Body Mass Index Distribution\",\"Body Mass Index Distribution\",\"Body Mass Index Distribution\",\"Body Mass Index Distribution\",\"Body Mass Index Distribution\",\"Body Mass Index Distribution\",\"Body Mass Index Distribution\",\"Body Mass Index Distribution\",\"Body Mass Index Distribution\",\"Body Mass Index Distribution\",\"Body Mass Index Distribution\",\"Body Mass Index Distribution\",\"Body Mass Index Distribution\",\"Body Mass Index Distribution\",\"Body Mass Index Distribution\",\"Body Mass Index Distribution\",\"Body Mass Index Distribution\",\"Body Mass Index Distribution\",\"Body Mass Index Distribution\",\"Body Mass Index Distribution\",\"Body Mass Index Distribution\",\"Body Mass Index Distribution\",\"Body Mass Index Distribution\",\"Body Mass Index Distribution\",\"Body Mass Index Distribution\",\"Body Mass Index Distribution\",\"Body Mass Index Distribution\",\"Body Mass Index Distribution\",\"Body Mass Index Distribution\",\"Body Mass Index Distribution\",\"Body Mass Index Distribution\",\"Body Mass Index Distribution\",\"Body Mass Index Distribution\",\"Body Mass Index Distribution\",\"Body Mass Index Distribution\",\"Body Mass Index Distribution\",\"Body Mass Index Distribution\",\"Body Mass Index Distribution\",\"Body Mass Index Distribution\",\"Body Mass Index Distribution\",\"Body Mass Index Distribution\",\"Body Mass Index Distribution\",\"Body Mass Index Distribution\",\"Body Mass Index Distribution\",\"Body Mass Index Distribution\",\"Body Mass Index Distribution\",\"Body Mass Index Distribution\",\"Body Mass Index Distribution\",\"Body Mass Index Distribution\",\"Body Mass Index Distribution\",\"Body Mass Index Distribution\",\"Body Mass Index Distribution\",\"Body Mass Index Distribution\",\"Body Mass Index Distribution\",\"Body Mass Index Distribution\",\"Body Mass Index Distribution\",\"Body Mass Index Distribution\",\"Body Mass Index Distribution\",\"Body Mass Index Distribution\",\"Body Mass Index Distribution\",\"Body Mass Index Distribution\",\"Body Mass Index Distribution\",\"Body Mass Index Distribution\",\"Body Mass Index Distribution\",\"Body Mass Index Distribution\",\"Body Mass Index Distribution\",\"Body Mass Index Distribution\",\"Body Mass Index Distribution\",\"Body Mass Index Distribution\",\"Body Mass Index Distribution\",\"Body Mass Index Distribution\",\"Body Mass Index Distribution\",\"Body Mass Index Distribution\",\"Body Mass Index Distribution\",\"Body Mass Index Distribution\",\"Body Mass Index Distribution\",\"Body Mass Index Distribution\",\"Body Mass Index Distribution\",\"Body Mass Index Distribution\",\"Body Mass Index Distribution\",\"Body Mass Index Distribution\",\"Body Mass Index Distribution\",\"Body Mass Index Distribution\",\"Body Mass Index Distribution\",\"Body Mass Index Distribution\",\"Body Mass Index Distribution\",\"Body Mass Index Distribution\",\"Body Mass Index Distribution\",\"Body Mass Index Distribution\",\"Body Mass Index Distribution\",\"Body Mass Index Distribution\",\"Body Mass Index Distribution\",\"Body Mass Index Distribution\",\"Body Mass Index Distribution\",\"Body Mass Index Distribution\",\"Body Mass Index Distribution\",\"Body Mass Index Distribution\",\"Body Mass Index Distribution\",\"Body Mass Index Distribution\",\"Body Mass Index Distribution\",\"Body Mass Index Distribution\",\"Body Mass Index Distribution\",\"Body Mass Index Distribution\",\"Body Mass Index Distribution\",\"Body Mass Index Distribution\",\"Body Mass Index Distribution\",\"Body Mass Index Distribution\",\"Body Mass Index Distribution\",\"Body Mass Index Distribution\",\"Body Mass Index Distribution\",\"Body Mass Index Distribution\",\"Body Mass Index Distribution\",\"Body Mass Index Distribution\",\"Body Mass Index Distribution\",\"Body Mass Index Distribution\",\"Body Mass Index Distribution\",\"Body Mass Index Distribution\",\"Body Mass Index Distribution\",\"Body Mass Index Distribution\",\"Body Mass Index Distribution\",\"Body Mass Index Distribution\",\"Body Mass Index Distribution\",\"Body Mass Index Distribution\",\"Body Mass Index Distribution\",\"Body Mass Index Distribution\",\"Body Mass Index Distribution\",\"Body Mass Index Distribution\",\"Body Mass Index Distribution\",\"Body Mass Index Distribution\",\"Body Mass Index Distribution\",\"Body Mass Index Distribution\",\"Body Mass Index Distribution\",\"Body Mass Index Distribution\",\"Body Mass Index Distribution\",\"Body Mass Index Distribution\",\"Body Mass Index Distribution\",\"Body Mass Index Distribution\",\"Body Mass Index Distribution\",\"Body Mass Index Distribution\",\"Body Mass Index Distribution\",\"Body Mass Index Distribution\",\"Body Mass Index Distribution\",\"Body Mass Index Distribution\",\"Body Mass Index Distribution\",\"Body Mass Index Distribution\",\"Body Mass Index Distribution\",\"Body Mass Index Distribution\",\"Body Mass Index Distribution\",\"Body Mass Index Distribution\",\"Body Mass Index Distribution\",\"Body Mass Index Distribution\",\"Body Mass Index Distribution\",\"Body Mass Index Distribution\",\"Body Mass Index Distribution\",\"Body Mass Index Distribution\",\"Body Mass Index Distribution\",\"Body Mass Index Distribution\",\"Body Mass Index Distribution\",\"Body Mass Index Distribution\",\"Body Mass Index Distribution\",\"Body Mass Index Distribution\",\"Body Mass Index Distribution\",\"Body Mass Index Distribution\",\"Body Mass Index Distribution\",\"Body Mass Index Distribution\",\"Body Mass Index Distribution\",\"Body Mass Index Distribution\",\"Body Mass Index Distribution\",\"Body Mass Index Distribution\",\"Body Mass Index Distribution\",\"Body Mass Index Distribution\",\"Body Mass Index Distribution\",\"Body Mass Index Distribution\",\"Body Mass Index Distribution\",\"Body Mass Index Distribution\",\"Body Mass Index Distribution\",\"Body Mass Index Distribution\",\"Body Mass Index Distribution\",\"Body Mass Index Distribution\",\"Body Mass Index Distribution\",\"Body Mass Index Distribution\",\"Body Mass Index Distribution\",\"Body Mass Index Distribution\",\"Body Mass Index Distribution\",\"Body Mass Index Distribution\",\"Body Mass Index Distribution\",\"Body Mass Index Distribution\",\"Body Mass Index Distribution\",\"Body Mass Index Distribution\",\"Body Mass Index Distribution\",\"Body Mass Index Distribution\",\"Body Mass Index Distribution\",\"Body Mass Index Distribution\",\"Body Mass Index Distribution\",\"Body Mass Index Distribution\",\"Body Mass Index Distribution\",\"Body Mass Index Distribution\",\"Body Mass Index Distribution\",\"Body Mass Index Distribution\",\"Body Mass Index Distribution\",\"Body Mass Index Distribution\",\"Body Mass Index Distribution\",\"Body Mass Index Distribution\",\"Body Mass Index Distribution\",\"Body Mass Index Distribution\",\"Body Mass Index Distribution\",\"Body Mass Index Distribution\",\"Body Mass Index Distribution\",\"Body Mass Index Distribution\",\"Body Mass Index Distribution\",\"Body Mass Index Distribution\",\"Body Mass Index Distribution\",\"Body Mass Index Distribution\",\"Body Mass Index Distribution\",\"Body Mass Index Distribution\",\"Body Mass Index Distribution\",\"Body Mass Index Distribution\",\"Body Mass Index Distribution\",\"Body Mass Index Distribution\",\"Body Mass Index Distribution\",\"Body Mass Index Distribution\",\"Body Mass Index Distribution\",\"Body Mass Index Distribution\",\"Body Mass Index Distribution\",\"Body Mass Index Distribution\",\"Body Mass Index Distribution\",\"Body Mass Index Distribution\",\"Body Mass Index Distribution\",\"Body Mass Index Distribution\",\"Body Mass Index Distribution\",\"Body Mass Index Distribution\",\"Body Mass Index Distribution\",\"Body Mass Index Distribution\",\"Body Mass Index Distribution\",\"Body Mass Index Distribution\",\"Body Mass Index Distribution\",\"Body Mass Index Distribution\",\"Body Mass Index Distribution\",\"Body Mass Index Distribution\",\"Body Mass Index Distribution\",\"Body Mass Index Distribution\",\"Body Mass Index Distribution\",\"Body Mass Index Distribution\",\"Body Mass Index Distribution\",\"Body Mass Index Distribution\",\"Body Mass Index Distribution\",\"Body Mass Index Distribution\",\"Body Mass Index Distribution\",\"Body Mass Index Distribution\",\"Body Mass Index Distribution\",\"Body Mass Index Distribution\",\"Body Mass Index Distribution\",\"Body Mass Index Distribution\",\"Body Mass Index Distribution\",\"Body Mass Index Distribution\",\"Body Mass Index Distribution\",\"Body Mass Index Distribution\",\"Body Mass Index Distribution\",\"Body Mass Index Distribution\",\"Body Mass Index Distribution\",\"Body Mass Index Distribution\",\"Body Mass Index Distribution\",\"Body Mass Index Distribution\",\"Body Mass Index Distribution\",\"Body Mass Index Distribution\",\"Body Mass Index Distribution\",\"Body Mass Index Distribution\",\"Body Mass Index Distribution\",\"Body Mass Index Distribution\",\"Body Mass Index Distribution\",\"Body Mass Index Distribution\",\"Body Mass Index Distribution\",\"Body Mass Index Distribution\",\"Body Mass Index Distribution\",\"Body Mass Index Distribution\",\"Body Mass Index Distribution\",\"Body Mass Index Distribution\",\"Body Mass Index Distribution\",\"Body Mass Index Distribution\",\"Body Mass Index Distribution\",\"Body Mass Index Distribution\",\"Body Mass Index Distribution\",\"Body Mass Index Distribution\",\"Body Mass Index Distribution\",\"Body Mass Index Distribution\",\"Body Mass Index Distribution\",\"Body Mass Index Distribution\",\"Body Mass Index Distribution\",\"Body Mass Index Distribution\",\"Body Mass Index Distribution\",\"Body Mass Index Distribution\",\"Body Mass Index Distribution\",\"Body Mass Index Distribution\",\"Body Mass Index Distribution\",\"Body Mass Index Distribution\",\"Body Mass Index Distribution\",\"Body Mass Index Distribution\",\"Body Mass Index Distribution\",\"Body Mass Index Distribution\",\"Body Mass Index Distribution\",\"Body Mass Index Distribution\",\"Body Mass Index Distribution\",\"Body Mass Index Distribution\",\"Body Mass Index Distribution\",\"Body Mass Index Distribution\",\"Body Mass Index Distribution\",\"Body Mass Index Distribution\",\"Body Mass Index Distribution\",\"Body Mass Index Distribution\",\"Body Mass Index Distribution\",\"Body Mass Index Distribution\",\"Body Mass Index Distribution\",\"Body Mass Index Distribution\",\"Body Mass Index Distribution\",\"Body Mass Index Distribution\",\"Body Mass Index Distribution\",\"Body Mass Index Distribution\",\"Body Mass Index Distribution\",\"Body Mass Index Distribution\",\"Body Mass Index Distribution\",\"Body Mass Index Distribution\",\"Body Mass Index Distribution\",\"Body Mass Index Distribution\",\"Body Mass Index Distribution\",\"Body Mass Index Distribution\",\"Body Mass Index Distribution\",\"Body Mass Index Distribution\",\"Body Mass Index Distribution\",\"Body Mass Index Distribution\",\"Body Mass Index Distribution\",\"Body Mass Index Distribution\",\"Body Mass Index Distribution\",\"Body Mass Index Distribution\",\"Body Mass Index Distribution\",\"Body Mass Index Distribution\",\"Body Mass Index Distribution\",\"Body Mass Index Distribution\",\"Body Mass Index Distribution\",\"Body Mass Index Distribution\",\"Body Mass Index Distribution\",\"Body Mass Index Distribution\",\"Body Mass Index Distribution\",\"Body Mass Index Distribution\",\"Body Mass Index Distribution\",\"Body Mass Index Distribution\",\"Body Mass Index Distribution\",\"Body Mass Index Distribution\",\"Body Mass Index Distribution\",\"Body Mass Index Distribution\",\"Body Mass Index Distribution\",\"Body Mass Index Distribution\",\"Body Mass Index Distribution\",\"Body Mass Index Distribution\",\"Body Mass Index Distribution\",\"Body Mass Index Distribution\",\"Body Mass Index Distribution\",\"Body Mass Index Distribution\",\"Body Mass Index Distribution\",\"Body Mass Index Distribution\",\"Body Mass Index Distribution\",\"Body Mass Index Distribution\",\"Body Mass Index Distribution\",\"Body Mass Index Distribution\",\"Body Mass Index Distribution\",\"Body Mass Index Distribution\",\"Body Mass Index Distribution\",\"Body Mass Index Distribution\",\"Body Mass Index Distribution\",\"Body Mass Index Distribution\",\"Body Mass Index Distribution\",\"Body Mass Index Distribution\",\"Body Mass Index Distribution\",\"Body Mass Index Distribution\",\"Body Mass Index Distribution\",\"Body Mass Index Distribution\",\"Body Mass Index Distribution\",\"Body Mass Index Distribution\",\"Body Mass Index Distribution\",\"Body Mass Index Distribution\",\"Body Mass Index Distribution\",\"Body Mass Index Distribution\",\"Body Mass Index Distribution\",\"Body Mass Index Distribution\",\"Body Mass Index Distribution\",\"Body Mass Index Distribution\",\"Body Mass Index Distribution\",\"Body Mass Index Distribution\",\"Body Mass Index Distribution\",\"Body Mass Index Distribution\",\"Body Mass Index Distribution\",\"Body Mass Index Distribution\",\"Body Mass Index Distribution\",\"Body Mass Index Distribution\",\"Body Mass Index Distribution\",\"Body Mass Index Distribution\",\"Body Mass Index Distribution\",\"Body Mass Index Distribution\",\"Body Mass Index Distribution\",\"Body Mass Index Distribution\",\"Body Mass Index Distribution\",\"Body Mass Index Distribution\",\"Body Mass Index Distribution\",\"Body Mass Index Distribution\",\"Body Mass Index Distribution\",\"Body Mass Index Distribution\",\"Body Mass Index Distribution\",\"Body Mass Index Distribution\",\"Body Mass Index Distribution\",\"Body Mass Index Distribution\",\"Body Mass Index Distribution\",\"Body Mass Index Distribution\",\"Body Mass Index Distribution\",\"Body Mass Index Distribution\",\"Body Mass Index Distribution\",\"Body Mass Index Distribution\",\"Body Mass Index Distribution\",\"Body Mass Index Distribution\",\"Body Mass Index Distribution\",\"Body Mass Index Distribution\",\"Body Mass Index Distribution\",\"Body Mass Index Distribution\",\"Body Mass Index Distribution\",\"Body Mass Index Distribution\",\"Body Mass Index Distribution\",\"Body Mass Index Distribution\",\"Body Mass Index Distribution\",\"Body Mass Index Distribution\",\"Body Mass Index Distribution\",\"Body Mass Index Distribution\",\"Body Mass Index Distribution\",\"Body Mass Index Distribution\",\"Body Mass Index Distribution\",\"Body Mass Index Distribution\",\"Body Mass Index Distribution\",\"Body Mass Index Distribution\",\"Body Mass Index Distribution\",\"Body Mass Index Distribution\",\"Body Mass Index Distribution\",\"Body Mass Index Distribution\",\"Body Mass Index Distribution\",\"Body Mass Index Distribution\",\"Body Mass Index Distribution\",\"Body Mass Index Distribution\",\"Body Mass Index Distribution\",\"Body Mass Index Distribution\",\"Body Mass Index Distribution\",\"Body Mass Index Distribution\",\"Body Mass Index Distribution\",\"Body Mass Index Distribution\",\"Body Mass Index Distribution\",\"Body Mass Index Distribution\",\"Body Mass Index Distribution\",\"Body Mass Index Distribution\",\"Body Mass Index Distribution\",\"Body Mass Index Distribution\",\"Body Mass Index Distribution\",\"Body Mass Index Distribution\",\"Body Mass Index Distribution\",\"Body Mass Index Distribution\",\"Body Mass Index Distribution\",\"Body Mass Index Distribution\",\"Body Mass Index Distribution\",\"Body Mass Index Distribution\",\"Body Mass Index Distribution\",\"Body Mass Index Distribution\",\"Body Mass Index Distribution\",\"Body Mass Index Distribution\",\"Body Mass Index Distribution\",\"Body Mass Index Distribution\",\"Body Mass Index Distribution\",\"Body Mass Index Distribution\",\"Body Mass Index Distribution\",\"Body Mass Index Distribution\",\"Body Mass Index Distribution\",\"Body Mass Index Distribution\",\"Body Mass Index Distribution\",\"Body Mass Index Distribution\",\"Body Mass Index Distribution\",\"Body Mass Index Distribution\",\"Body Mass Index Distribution\",\"Body Mass Index Distribution\",\"Body Mass Index Distribution\",\"Body Mass Index Distribution\",\"Body Mass Index Distribution\",\"Body Mass Index Distribution\",\"Body Mass Index Distribution\",\"Body Mass Index Distribution\",\"Body Mass Index Distribution\",\"Body Mass Index Distribution\",\"Body Mass Index Distribution\",\"Body Mass Index Distribution\",\"Body Mass Index Distribution\",\"Body Mass Index Distribution\",\"Body Mass Index Distribution\",\"Body Mass Index Distribution\",\"Body Mass Index Distribution\",\"Body Mass Index Distribution\",\"Body Mass Index Distribution\",\"Body Mass Index Distribution\",\"Body Mass Index Distribution\",\"Body Mass Index Distribution\",\"Body Mass Index Distribution\",\"Body Mass Index Distribution\",\"Body Mass Index Distribution\",\"Body Mass Index Distribution\",\"Body Mass Index Distribution\",\"Body Mass Index Distribution\",\"Body Mass Index Distribution\",\"Body Mass Index Distribution\",\"Body Mass Index Distribution\",\"Body Mass Index Distribution\",\"Body Mass Index Distribution\",\"Body Mass Index Distribution\",\"Body Mass Index Distribution\",\"Body Mass Index Distribution\",\"Body Mass Index Distribution\",\"Body Mass Index Distribution\",\"Body Mass Index Distribution\",\"Body Mass Index Distribution\",\"Body Mass Index Distribution\",\"Body Mass Index Distribution\",\"Body Mass Index Distribution\",\"Body Mass Index Distribution\",\"Body Mass Index Distribution\",\"Body Mass Index Distribution\",\"Body Mass Index Distribution\",\"Body Mass Index Distribution\",\"Body Mass Index Distribution\",\"Body Mass Index Distribution\",\"Body Mass Index Distribution\",\"Body Mass Index Distribution\",\"Body Mass Index Distribution\",\"Body Mass Index Distribution\",\"Body Mass Index Distribution\",\"Body Mass Index Distribution\",\"Body Mass Index Distribution\",\"Body Mass Index Distribution\",\"Body Mass Index Distribution\",\"Body Mass Index Distribution\",\"Body Mass Index Distribution\",\"Body Mass Index Distribution\",\"Body Mass Index Distribution\",\"Body Mass Index Distribution\",\"Body Mass Index Distribution\",\"Body Mass Index Distribution\",\"Body Mass Index Distribution\",\"Body Mass Index Distribution\",\"Body Mass Index Distribution\",\"Body Mass Index Distribution\",\"Body Mass Index Distribution\",\"Body Mass Index Distribution\",\"Body Mass Index Distribution\",\"Body Mass Index Distribution\",\"Body Mass Index Distribution\",\"Body Mass Index Distribution\",\"Body Mass Index Distribution\",\"Body Mass Index Distribution\",\"Body Mass Index Distribution\",\"Body Mass Index Distribution\",\"Body Mass Index Distribution\",\"Body Mass Index Distribution\",\"Body Mass Index Distribution\",\"Body Mass Index Distribution\",\"Body Mass Index Distribution\",\"Body Mass Index Distribution\",\"Body Mass Index Distribution\",\"Body Mass Index Distribution\",\"Body Mass Index Distribution\",\"Body Mass Index Distribution\",\"Body Mass Index Distribution\",\"Body Mass Index Distribution\",\"Body Mass Index Distribution\",\"Body Mass Index Distribution\",\"Body Mass Index Distribution\",\"Body Mass Index Distribution\",\"Body Mass Index Distribution\",\"Body Mass Index Distribution\",\"Body Mass Index Distribution\",\"Body Mass Index Distribution\",\"Body Mass Index Distribution\",\"Body Mass Index Distribution\",\"Body Mass Index Distribution\",\"Body Mass Index Distribution\",\"Body Mass Index Distribution\",\"Body Mass Index Distribution\",\"Body Mass Index Distribution\",\"Body Mass Index Distribution\",\"Body Mass Index Distribution\",\"Body Mass Index Distribution\",\"Body Mass Index Distribution\",\"Body Mass Index Distribution\",\"Body Mass Index Distribution\",\"Body Mass Index Distribution\",\"Body Mass Index Distribution\",\"Body Mass Index Distribution\",\"Body Mass Index Distribution\",\"Body Mass Index Distribution\",\"Body Mass Index Distribution\",\"Body Mass Index Distribution\",\"Body Mass Index Distribution\",\"Body Mass Index Distribution\",\"Body Mass Index Distribution\",\"Body Mass Index Distribution\",\"Body Mass Index Distribution\",\"Body Mass Index Distribution\",\"Body Mass Index Distribution\",\"Body Mass Index Distribution\",\"Body Mass Index Distribution\",\"Body Mass Index Distribution\",\"Body Mass Index Distribution\",\"Body Mass Index Distribution\",\"Body Mass Index Distribution\",\"Body Mass Index Distribution\",\"Body Mass Index Distribution\",\"Body Mass Index Distribution\",\"Body Mass Index Distribution\",\"Body Mass Index Distribution\",\"Body Mass Index Distribution\",\"Body Mass Index Distribution\",\"Body Mass Index Distribution\",\"Body Mass Index Distribution\",\"Body Mass Index Distribution\",\"Body Mass Index Distribution\",\"Body Mass Index Distribution\",\"Body Mass Index Distribution\",\"Body Mass Index Distribution\",\"Body Mass Index Distribution\",\"Body Mass Index Distribution\",\"Body Mass Index Distribution\",\"Body Mass Index Distribution\",\"Body Mass Index Distribution\",\"Body Mass Index Distribution\",\"Body Mass Index Distribution\",\"Body Mass Index Distribution\",\"Body Mass Index Distribution\",\"Body Mass Index Distribution\",\"Body Mass Index Distribution\",\"Body Mass Index Distribution\",\"Body Mass Index Distribution\",\"Body Mass Index Distribution\",\"Body Mass Index Distribution\",\"Body Mass Index Distribution\",\"Body Mass Index Distribution\",\"Body Mass Index Distribution\",\"Body Mass Index Distribution\",\"Body Mass Index Distribution\",\"Body Mass Index Distribution\",\"Body Mass Index Distribution\",\"Body Mass Index Distribution\",\"Body Mass Index Distribution\",\"Body Mass Index Distribution\",\"Body Mass Index Distribution\",\"Body Mass Index Distribution\",\"Body Mass Index Distribution\",\"Body Mass Index Distribution\",\"Body Mass Index Distribution\",\"Body Mass Index Distribution\",\"Body Mass Index Distribution\",\"Body Mass Index Distribution\",\"Body Mass Index Distribution\",\"Body Mass Index Distribution\",\"Body Mass Index Distribution\",\"Body Mass Index Distribution\",\"Body Mass Index Distribution\",\"Body Mass Index Distribution\",\"Body Mass Index Distribution\",\"Body Mass Index Distribution\",\"Body Mass Index Distribution\",\"Body Mass Index Distribution\",\"Body Mass Index Distribution\",\"Body Mass Index Distribution\",\"Body Mass Index Distribution\",\"Body Mass Index Distribution\",\"Body Mass Index Distribution\",\"Body Mass Index Distribution\",\"Body Mass Index Distribution\",\"Body Mass Index Distribution\",\"Body Mass Index Distribution\",\"Body Mass Index Distribution\",\"Body Mass Index Distribution\",\"Body Mass Index Distribution\",\"Body Mass Index Distribution\",\"Body Mass Index Distribution\",\"Body Mass Index Distribution\",\"Body Mass Index Distribution\",\"Body Mass Index Distribution\",\"Body Mass Index Distribution\",\"Body Mass Index Distribution\",\"Body Mass Index Distribution\",\"Body Mass Index Distribution\",\"Body Mass Index Distribution\",\"Body Mass Index Distribution\",\"Body Mass Index Distribution\",\"Body Mass Index Distribution\",\"Body Mass Index Distribution\",\"Body Mass Index Distribution\",\"Body Mass Index Distribution\",\"Body Mass Index Distribution\",\"Body Mass Index Distribution\",\"Body Mass Index Distribution\",\"Body Mass Index Distribution\",\"Body Mass Index Distribution\",\"Body Mass Index Distribution\",\"Body Mass Index Distribution\",\"Body Mass Index Distribution\",\"Body Mass Index Distribution\",\"Body Mass Index Distribution\",\"Body Mass Index Distribution\",\"Body Mass Index Distribution\",\"Body Mass Index Distribution\",\"Body Mass Index Distribution\",\"Body Mass Index Distribution\",\"Body Mass Index Distribution\",\"Body Mass Index Distribution\",\"Body Mass Index Distribution\",\"Body Mass Index Distribution\",\"Body Mass Index Distribution\",\"Body Mass Index Distribution\",\"Body Mass Index Distribution\",\"Body Mass Index Distribution\",\"Body Mass Index Distribution\",\"Body Mass Index Distribution\",\"Body Mass Index Distribution\",\"Body Mass Index Distribution\",\"Body Mass Index Distribution\",\"Body Mass Index Distribution\",\"Body Mass Index Distribution\",\"Body Mass Index Distribution\",\"Body Mass Index Distribution\",\"Body Mass Index Distribution\",\"Body Mass Index Distribution\",\"Body Mass Index Distribution\",\"Body Mass Index Distribution\",\"Body Mass Index Distribution\",\"Body Mass Index Distribution\",\"Body Mass Index Distribution\",\"Body Mass Index Distribution\",\"Body Mass Index Distribution\",\"Body Mass Index Distribution\",\"Body Mass Index Distribution\",\"Body Mass Index Distribution\",\"Body Mass Index Distribution\",\"Body Mass Index Distribution\",\"Body Mass Index Distribution\",\"Body Mass Index Distribution\",\"Body Mass Index Distribution\",\"Body Mass Index Distribution\",\"Body Mass Index Distribution\",\"Body Mass Index Distribution\",\"Body Mass Index Distribution\",\"Body Mass Index Distribution\",\"Body Mass Index Distribution\",\"Body Mass Index Distribution\",\"Body Mass Index Distribution\",\"Body Mass Index Distribution\",\"Body Mass Index Distribution\",\"Body Mass Index Distribution\",\"Body Mass Index Distribution\",\"Body Mass Index Distribution\",\"Body Mass Index Distribution\",\"Body Mass Index Distribution\",\"Body Mass Index Distribution\",\"Body Mass Index Distribution\",\"Body Mass Index Distribution\",\"Body Mass Index Distribution\",\"Body Mass Index Distribution\",\"Body Mass Index Distribution\",\"Body Mass Index Distribution\",\"Body Mass Index Distribution\",\"Body Mass Index Distribution\",\"Body Mass Index Distribution\",\"Body Mass Index Distribution\",\"Body Mass Index Distribution\",\"Body Mass Index Distribution\",\"Body Mass Index Distribution\",\"Body Mass Index Distribution\",\"Body Mass Index Distribution\",\"Body Mass Index Distribution\",\"Body Mass Index Distribution\",\"Body Mass Index Distribution\",\"Body Mass Index Distribution\",\"Body Mass Index Distribution\"],\"yaxis\":\"y2\",\"type\":\"scatter\"}],                        {\"barmode\":\"overlay\",\"hovermode\":\"closest\",\"legend\":{\"traceorder\":\"reversed\"},\"template\":{\"data\":{\"barpolar\":[{\"marker\":{\"line\":{\"color\":\"#E5ECF6\",\"width\":0.5},\"pattern\":{\"fillmode\":\"overlay\",\"size\":10,\"solidity\":0.2}},\"type\":\"barpolar\"}],\"bar\":[{\"error_x\":{\"color\":\"#2a3f5f\"},\"error_y\":{\"color\":\"#2a3f5f\"},\"marker\":{\"line\":{\"color\":\"#E5ECF6\",\"width\":0.5},\"pattern\":{\"fillmode\":\"overlay\",\"size\":10,\"solidity\":0.2}},\"type\":\"bar\"}],\"carpet\":[{\"aaxis\":{\"endlinecolor\":\"#2a3f5f\",\"gridcolor\":\"white\",\"linecolor\":\"white\",\"minorgridcolor\":\"white\",\"startlinecolor\":\"#2a3f5f\"},\"baxis\":{\"endlinecolor\":\"#2a3f5f\",\"gridcolor\":\"white\",\"linecolor\":\"white\",\"minorgridcolor\":\"white\",\"startlinecolor\":\"#2a3f5f\"},\"type\":\"carpet\"}],\"choropleth\":[{\"colorbar\":{\"outlinewidth\":0,\"ticks\":\"\"},\"type\":\"choropleth\"}],\"contourcarpet\":[{\"colorbar\":{\"outlinewidth\":0,\"ticks\":\"\"},\"type\":\"contourcarpet\"}],\"contour\":[{\"colorbar\":{\"outlinewidth\":0,\"ticks\":\"\"},\"colorscale\":[[0.0,\"#0d0887\"],[0.1111111111111111,\"#46039f\"],[0.2222222222222222,\"#7201a8\"],[0.3333333333333333,\"#9c179e\"],[0.4444444444444444,\"#bd3786\"],[0.5555555555555556,\"#d8576b\"],[0.6666666666666666,\"#ed7953\"],[0.7777777777777778,\"#fb9f3a\"],[0.8888888888888888,\"#fdca26\"],[1.0,\"#f0f921\"]],\"type\":\"contour\"}],\"heatmap\":[{\"colorbar\":{\"outlinewidth\":0,\"ticks\":\"\"},\"colorscale\":[[0.0,\"#0d0887\"],[0.1111111111111111,\"#46039f\"],[0.2222222222222222,\"#7201a8\"],[0.3333333333333333,\"#9c179e\"],[0.4444444444444444,\"#bd3786\"],[0.5555555555555556,\"#d8576b\"],[0.6666666666666666,\"#ed7953\"],[0.7777777777777778,\"#fb9f3a\"],[0.8888888888888888,\"#fdca26\"],[1.0,\"#f0f921\"]],\"type\":\"heatmap\"}],\"histogram2dcontour\":[{\"colorbar\":{\"outlinewidth\":0,\"ticks\":\"\"},\"colorscale\":[[0.0,\"#0d0887\"],[0.1111111111111111,\"#46039f\"],[0.2222222222222222,\"#7201a8\"],[0.3333333333333333,\"#9c179e\"],[0.4444444444444444,\"#bd3786\"],[0.5555555555555556,\"#d8576b\"],[0.6666666666666666,\"#ed7953\"],[0.7777777777777778,\"#fb9f3a\"],[0.8888888888888888,\"#fdca26\"],[1.0,\"#f0f921\"]],\"type\":\"histogram2dcontour\"}],\"histogram2d\":[{\"colorbar\":{\"outlinewidth\":0,\"ticks\":\"\"},\"colorscale\":[[0.0,\"#0d0887\"],[0.1111111111111111,\"#46039f\"],[0.2222222222222222,\"#7201a8\"],[0.3333333333333333,\"#9c179e\"],[0.4444444444444444,\"#bd3786\"],[0.5555555555555556,\"#d8576b\"],[0.6666666666666666,\"#ed7953\"],[0.7777777777777778,\"#fb9f3a\"],[0.8888888888888888,\"#fdca26\"],[1.0,\"#f0f921\"]],\"type\":\"histogram2d\"}],\"histogram\":[{\"marker\":{\"pattern\":{\"fillmode\":\"overlay\",\"size\":10,\"solidity\":0.2}},\"type\":\"histogram\"}],\"mesh3d\":[{\"colorbar\":{\"outlinewidth\":0,\"ticks\":\"\"},\"type\":\"mesh3d\"}],\"parcoords\":[{\"line\":{\"colorbar\":{\"outlinewidth\":0,\"ticks\":\"\"}},\"type\":\"parcoords\"}],\"pie\":[{\"automargin\":true,\"type\":\"pie\"}],\"scatter3d\":[{\"line\":{\"colorbar\":{\"outlinewidth\":0,\"ticks\":\"\"}},\"marker\":{\"colorbar\":{\"outlinewidth\":0,\"ticks\":\"\"}},\"type\":\"scatter3d\"}],\"scattercarpet\":[{\"marker\":{\"colorbar\":{\"outlinewidth\":0,\"ticks\":\"\"}},\"type\":\"scattercarpet\"}],\"scattergeo\":[{\"marker\":{\"colorbar\":{\"outlinewidth\":0,\"ticks\":\"\"}},\"type\":\"scattergeo\"}],\"scattergl\":[{\"marker\":{\"colorbar\":{\"outlinewidth\":0,\"ticks\":\"\"}},\"type\":\"scattergl\"}],\"scattermapbox\":[{\"marker\":{\"colorbar\":{\"outlinewidth\":0,\"ticks\":\"\"}},\"type\":\"scattermapbox\"}],\"scattermap\":[{\"marker\":{\"colorbar\":{\"outlinewidth\":0,\"ticks\":\"\"}},\"type\":\"scattermap\"}],\"scatterpolargl\":[{\"marker\":{\"colorbar\":{\"outlinewidth\":0,\"ticks\":\"\"}},\"type\":\"scatterpolargl\"}],\"scatterpolar\":[{\"marker\":{\"colorbar\":{\"outlinewidth\":0,\"ticks\":\"\"}},\"type\":\"scatterpolar\"}],\"scatter\":[{\"fillpattern\":{\"fillmode\":\"overlay\",\"size\":10,\"solidity\":0.2},\"type\":\"scatter\"}],\"scatterternary\":[{\"marker\":{\"colorbar\":{\"outlinewidth\":0,\"ticks\":\"\"}},\"type\":\"scatterternary\"}],\"surface\":[{\"colorbar\":{\"outlinewidth\":0,\"ticks\":\"\"},\"colorscale\":[[0.0,\"#0d0887\"],[0.1111111111111111,\"#46039f\"],[0.2222222222222222,\"#7201a8\"],[0.3333333333333333,\"#9c179e\"],[0.4444444444444444,\"#bd3786\"],[0.5555555555555556,\"#d8576b\"],[0.6666666666666666,\"#ed7953\"],[0.7777777777777778,\"#fb9f3a\"],[0.8888888888888888,\"#fdca26\"],[1.0,\"#f0f921\"]],\"type\":\"surface\"}],\"table\":[{\"cells\":{\"fill\":{\"color\":\"#EBF0F8\"},\"line\":{\"color\":\"white\"}},\"header\":{\"fill\":{\"color\":\"#C8D4E3\"},\"line\":{\"color\":\"white\"}},\"type\":\"table\"}]},\"layout\":{\"annotationdefaults\":{\"arrowcolor\":\"#2a3f5f\",\"arrowhead\":0,\"arrowwidth\":1},\"autotypenumbers\":\"strict\",\"coloraxis\":{\"colorbar\":{\"outlinewidth\":0,\"ticks\":\"\"}},\"colorscale\":{\"diverging\":[[0,\"#8e0152\"],[0.1,\"#c51b7d\"],[0.2,\"#de77ae\"],[0.3,\"#f1b6da\"],[0.4,\"#fde0ef\"],[0.5,\"#f7f7f7\"],[0.6,\"#e6f5d0\"],[0.7,\"#b8e186\"],[0.8,\"#7fbc41\"],[0.9,\"#4d9221\"],[1,\"#276419\"]],\"sequential\":[[0.0,\"#0d0887\"],[0.1111111111111111,\"#46039f\"],[0.2222222222222222,\"#7201a8\"],[0.3333333333333333,\"#9c179e\"],[0.4444444444444444,\"#bd3786\"],[0.5555555555555556,\"#d8576b\"],[0.6666666666666666,\"#ed7953\"],[0.7777777777777778,\"#fb9f3a\"],[0.8888888888888888,\"#fdca26\"],[1.0,\"#f0f921\"]],\"sequentialminus\":[[0.0,\"#0d0887\"],[0.1111111111111111,\"#46039f\"],[0.2222222222222222,\"#7201a8\"],[0.3333333333333333,\"#9c179e\"],[0.4444444444444444,\"#bd3786\"],[0.5555555555555556,\"#d8576b\"],[0.6666666666666666,\"#ed7953\"],[0.7777777777777778,\"#fb9f3a\"],[0.8888888888888888,\"#fdca26\"],[1.0,\"#f0f921\"]]},\"colorway\":[\"#636efa\",\"#EF553B\",\"#00cc96\",\"#ab63fa\",\"#FFA15A\",\"#19d3f3\",\"#FF6692\",\"#B6E880\",\"#FF97FF\",\"#FECB52\"],\"font\":{\"color\":\"#2a3f5f\"},\"geo\":{\"bgcolor\":\"white\",\"lakecolor\":\"white\",\"landcolor\":\"#E5ECF6\",\"showlakes\":true,\"showland\":true,\"subunitcolor\":\"white\"},\"hoverlabel\":{\"align\":\"left\"},\"hovermode\":\"closest\",\"mapbox\":{\"style\":\"light\"},\"paper_bgcolor\":\"white\",\"plot_bgcolor\":\"#E5ECF6\",\"polar\":{\"angularaxis\":{\"gridcolor\":\"white\",\"linecolor\":\"white\",\"ticks\":\"\"},\"bgcolor\":\"#E5ECF6\",\"radialaxis\":{\"gridcolor\":\"white\",\"linecolor\":\"white\",\"ticks\":\"\"}},\"scene\":{\"xaxis\":{\"backgroundcolor\":\"#E5ECF6\",\"gridcolor\":\"white\",\"gridwidth\":2,\"linecolor\":\"white\",\"showbackground\":true,\"ticks\":\"\",\"zerolinecolor\":\"white\"},\"yaxis\":{\"backgroundcolor\":\"#E5ECF6\",\"gridcolor\":\"white\",\"gridwidth\":2,\"linecolor\":\"white\",\"showbackground\":true,\"ticks\":\"\",\"zerolinecolor\":\"white\"},\"zaxis\":{\"backgroundcolor\":\"#E5ECF6\",\"gridcolor\":\"white\",\"gridwidth\":2,\"linecolor\":\"white\",\"showbackground\":true,\"ticks\":\"\",\"zerolinecolor\":\"white\"}},\"shapedefaults\":{\"line\":{\"color\":\"#2a3f5f\"}},\"ternary\":{\"aaxis\":{\"gridcolor\":\"white\",\"linecolor\":\"white\",\"ticks\":\"\"},\"baxis\":{\"gridcolor\":\"white\",\"linecolor\":\"white\",\"ticks\":\"\"},\"bgcolor\":\"#E5ECF6\",\"caxis\":{\"gridcolor\":\"white\",\"linecolor\":\"white\",\"ticks\":\"\"}},\"title\":{\"x\":0.05},\"xaxis\":{\"automargin\":true,\"gridcolor\":\"white\",\"linecolor\":\"white\",\"ticks\":\"\",\"title\":{\"standoff\":15},\"zerolinecolor\":\"white\",\"zerolinewidth\":2},\"yaxis\":{\"automargin\":true,\"gridcolor\":\"white\",\"linecolor\":\"white\",\"ticks\":\"\",\"title\":{\"standoff\":15},\"zerolinecolor\":\"white\",\"zerolinewidth\":2}}},\"title\":{\"text\":\"Normal Distribution\"},\"xaxis\":{\"anchor\":\"y2\",\"domain\":[0.0,1.0],\"zeroline\":false},\"yaxis\":{\"anchor\":\"free\",\"domain\":[0.35,1],\"position\":0.0},\"yaxis2\":{\"anchor\":\"x\",\"domain\":[0,0.25],\"dtick\":1,\"showticklabels\":false}},                        {\"responsive\": true}                    ).then(function(){\n",
       "                            \n",
       "var gd = document.getElementById('1b140c9b-0779-40c6-bb38-aa8057b54cc3');\n",
       "var x = new MutationObserver(function (mutations, observer) {{\n",
       "        var display = window.getComputedStyle(gd).display;\n",
       "        if (!display || display === 'none') {{\n",
       "            console.log([gd, 'removed!']);\n",
       "            Plotly.purge(gd);\n",
       "            observer.disconnect();\n",
       "        }}\n",
       "}});\n",
       "\n",
       "// Listen for the removal of the full notebook cells\n",
       "var notebookContainer = gd.closest('#notebook-container');\n",
       "if (notebookContainer) {{\n",
       "    x.observe(notebookContainer, {childList: true});\n",
       "}}\n",
       "\n",
       "// Listen for the clearing of the current output cell\n",
       "var outputEl = gd.closest('.output');\n",
       "if (outputEl) {{\n",
       "    x.observe(outputEl, {childList: true});\n",
       "}}\n",
       "\n",
       "                        })                };            </script>        </div>"
      ]
     },
     "metadata": {},
     "output_type": "display_data"
    }
   ],
   "source": [
    "bmi = [df[\"bmi\"].values.tolist()]\n",
    "group_labels = ['Body Mass Index Distribution']\n",
    "\n",
    "colors = ['#FA5858']\n",
    "\n",
    "fig = ff.create_distplot(bmi, group_labels, colors=colors)\n",
    "# Add title\n",
    "fig['layout'].update(title='Normal Distribution')\n",
    "\n",
    "iplot(fig, filename='Basic Distplot')"
   ]
  },
  {
   "cell_type": "code",
   "execution_count": 8,
   "metadata": {
    "_kg_hide-input": true,
    "_uuid": "0bab9ea41fac06a7746bafe22790ae600241b7cc",
    "trusted": true
   },
   "outputs": [
    {
     "data": {
      "application/vnd.plotly.v1+json": {
       "config": {
        "linkText": "Export to plot.ly",
        "plotlyServerURL": "https://plot.ly",
        "showLink": false
       },
       "data": [
        {
         "colorscale": [
          [
           0,
           "#440154"
          ],
          [
           0.1111111111111111,
           "#482878"
          ],
          [
           0.2222222222222222,
           "#3e4989"
          ],
          [
           0.3333333333333333,
           "#31688e"
          ],
          [
           0.4444444444444444,
           "#26828e"
          ],
          [
           0.5555555555555556,
           "#1f9e89"
          ],
          [
           0.6666666666666666,
           "#35b779"
          ],
          [
           0.7777777777777778,
           "#6ece58"
          ],
          [
           0.8888888888888888,
           "#b5de2b"
          ],
          [
           1,
           "#fde725"
          ]
         ],
         "hoverinfo": "text",
         "text": {
          "bdata": "AAAAAAAA8D96k5/1Pfm7PyPqzh9/vqU/3tXlQvMi0z/OM4+NB7SRv3qTn/U9+bs/AAAAAAAA8D9Cxg+uViGKP1p3TKM8Y8k/7NbOSirUyD8j6s4ff76lP0LGD65WIYo/AAAAAAAA8D/za3/wVGixPy2Xt8eBWKS/3tXlQvMi0z9ad0yjPGPJP/Nrf/BUaLE/AAAAAAAA8D8DCoDh6lipP84zj40HtJG/7NbOSirUyD8tl7fHgVikvwMKgOHqWKk/AAAAAAAA8D8=",
          "dtype": "f8",
          "shape": "5, 5"
         },
         "type": "heatmap",
         "x": [
          "age",
          "bmi",
          "children",
          "charges",
          "AQI"
         ],
         "y": [
          "age",
          "bmi",
          "children",
          "charges",
          "AQI"
         ],
         "z": {
          "bdata": "AAAAAAAA8D96k5/1Pfm7PyPqzh9/vqU/3tXlQvMi0z/OM4+NB7SRv3qTn/U9+bs/AAAAAAAA8D9Cxg+uViGKP1p3TKM8Y8k/7NbOSirUyD8j6s4ff76lP0LGD65WIYo/AAAAAAAA8D/za3/wVGixPy2Xt8eBWKS/3tXlQvMi0z9ad0yjPGPJP/Nrf/BUaLE/AAAAAAAA8D8DCoDh6lipP84zj40HtJG/7NbOSirUyD8tl7fHgVikvwMKgOHqWKk/AAAAAAAA8D8=",
          "dtype": "f8",
          "shape": "5, 5"
         },
         "zmax": 1,
         "zmin": -1
        }
       ],
       "layout": {
        "template": {
         "data": {
          "bar": [
           {
            "error_x": {
             "color": "#2a3f5f"
            },
            "error_y": {
             "color": "#2a3f5f"
            },
            "marker": {
             "line": {
              "color": "#E5ECF6",
              "width": 0.5
             },
             "pattern": {
              "fillmode": "overlay",
              "size": 10,
              "solidity": 0.2
             }
            },
            "type": "bar"
           }
          ],
          "barpolar": [
           {
            "marker": {
             "line": {
              "color": "#E5ECF6",
              "width": 0.5
             },
             "pattern": {
              "fillmode": "overlay",
              "size": 10,
              "solidity": 0.2
             }
            },
            "type": "barpolar"
           }
          ],
          "carpet": [
           {
            "aaxis": {
             "endlinecolor": "#2a3f5f",
             "gridcolor": "white",
             "linecolor": "white",
             "minorgridcolor": "white",
             "startlinecolor": "#2a3f5f"
            },
            "baxis": {
             "endlinecolor": "#2a3f5f",
             "gridcolor": "white",
             "linecolor": "white",
             "minorgridcolor": "white",
             "startlinecolor": "#2a3f5f"
            },
            "type": "carpet"
           }
          ],
          "choropleth": [
           {
            "colorbar": {
             "outlinewidth": 0,
             "ticks": ""
            },
            "type": "choropleth"
           }
          ],
          "contour": [
           {
            "colorbar": {
             "outlinewidth": 0,
             "ticks": ""
            },
            "colorscale": [
             [
              0,
              "#0d0887"
             ],
             [
              0.1111111111111111,
              "#46039f"
             ],
             [
              0.2222222222222222,
              "#7201a8"
             ],
             [
              0.3333333333333333,
              "#9c179e"
             ],
             [
              0.4444444444444444,
              "#bd3786"
             ],
             [
              0.5555555555555556,
              "#d8576b"
             ],
             [
              0.6666666666666666,
              "#ed7953"
             ],
             [
              0.7777777777777778,
              "#fb9f3a"
             ],
             [
              0.8888888888888888,
              "#fdca26"
             ],
             [
              1,
              "#f0f921"
             ]
            ],
            "type": "contour"
           }
          ],
          "contourcarpet": [
           {
            "colorbar": {
             "outlinewidth": 0,
             "ticks": ""
            },
            "type": "contourcarpet"
           }
          ],
          "heatmap": [
           {
            "colorbar": {
             "outlinewidth": 0,
             "ticks": ""
            },
            "colorscale": [
             [
              0,
              "#0d0887"
             ],
             [
              0.1111111111111111,
              "#46039f"
             ],
             [
              0.2222222222222222,
              "#7201a8"
             ],
             [
              0.3333333333333333,
              "#9c179e"
             ],
             [
              0.4444444444444444,
              "#bd3786"
             ],
             [
              0.5555555555555556,
              "#d8576b"
             ],
             [
              0.6666666666666666,
              "#ed7953"
             ],
             [
              0.7777777777777778,
              "#fb9f3a"
             ],
             [
              0.8888888888888888,
              "#fdca26"
             ],
             [
              1,
              "#f0f921"
             ]
            ],
            "type": "heatmap"
           }
          ],
          "histogram": [
           {
            "marker": {
             "pattern": {
              "fillmode": "overlay",
              "size": 10,
              "solidity": 0.2
             }
            },
            "type": "histogram"
           }
          ],
          "histogram2d": [
           {
            "colorbar": {
             "outlinewidth": 0,
             "ticks": ""
            },
            "colorscale": [
             [
              0,
              "#0d0887"
             ],
             [
              0.1111111111111111,
              "#46039f"
             ],
             [
              0.2222222222222222,
              "#7201a8"
             ],
             [
              0.3333333333333333,
              "#9c179e"
             ],
             [
              0.4444444444444444,
              "#bd3786"
             ],
             [
              0.5555555555555556,
              "#d8576b"
             ],
             [
              0.6666666666666666,
              "#ed7953"
             ],
             [
              0.7777777777777778,
              "#fb9f3a"
             ],
             [
              0.8888888888888888,
              "#fdca26"
             ],
             [
              1,
              "#f0f921"
             ]
            ],
            "type": "histogram2d"
           }
          ],
          "histogram2dcontour": [
           {
            "colorbar": {
             "outlinewidth": 0,
             "ticks": ""
            },
            "colorscale": [
             [
              0,
              "#0d0887"
             ],
             [
              0.1111111111111111,
              "#46039f"
             ],
             [
              0.2222222222222222,
              "#7201a8"
             ],
             [
              0.3333333333333333,
              "#9c179e"
             ],
             [
              0.4444444444444444,
              "#bd3786"
             ],
             [
              0.5555555555555556,
              "#d8576b"
             ],
             [
              0.6666666666666666,
              "#ed7953"
             ],
             [
              0.7777777777777778,
              "#fb9f3a"
             ],
             [
              0.8888888888888888,
              "#fdca26"
             ],
             [
              1,
              "#f0f921"
             ]
            ],
            "type": "histogram2dcontour"
           }
          ],
          "mesh3d": [
           {
            "colorbar": {
             "outlinewidth": 0,
             "ticks": ""
            },
            "type": "mesh3d"
           }
          ],
          "parcoords": [
           {
            "line": {
             "colorbar": {
              "outlinewidth": 0,
              "ticks": ""
             }
            },
            "type": "parcoords"
           }
          ],
          "pie": [
           {
            "automargin": true,
            "type": "pie"
           }
          ],
          "scatter": [
           {
            "fillpattern": {
             "fillmode": "overlay",
             "size": 10,
             "solidity": 0.2
            },
            "type": "scatter"
           }
          ],
          "scatter3d": [
           {
            "line": {
             "colorbar": {
              "outlinewidth": 0,
              "ticks": ""
             }
            },
            "marker": {
             "colorbar": {
              "outlinewidth": 0,
              "ticks": ""
             }
            },
            "type": "scatter3d"
           }
          ],
          "scattercarpet": [
           {
            "marker": {
             "colorbar": {
              "outlinewidth": 0,
              "ticks": ""
             }
            },
            "type": "scattercarpet"
           }
          ],
          "scattergeo": [
           {
            "marker": {
             "colorbar": {
              "outlinewidth": 0,
              "ticks": ""
             }
            },
            "type": "scattergeo"
           }
          ],
          "scattergl": [
           {
            "marker": {
             "colorbar": {
              "outlinewidth": 0,
              "ticks": ""
             }
            },
            "type": "scattergl"
           }
          ],
          "scattermap": [
           {
            "marker": {
             "colorbar": {
              "outlinewidth": 0,
              "ticks": ""
             }
            },
            "type": "scattermap"
           }
          ],
          "scattermapbox": [
           {
            "marker": {
             "colorbar": {
              "outlinewidth": 0,
              "ticks": ""
             }
            },
            "type": "scattermapbox"
           }
          ],
          "scatterpolar": [
           {
            "marker": {
             "colorbar": {
              "outlinewidth": 0,
              "ticks": ""
             }
            },
            "type": "scatterpolar"
           }
          ],
          "scatterpolargl": [
           {
            "marker": {
             "colorbar": {
              "outlinewidth": 0,
              "ticks": ""
             }
            },
            "type": "scatterpolargl"
           }
          ],
          "scatterternary": [
           {
            "marker": {
             "colorbar": {
              "outlinewidth": 0,
              "ticks": ""
             }
            },
            "type": "scatterternary"
           }
          ],
          "surface": [
           {
            "colorbar": {
             "outlinewidth": 0,
             "ticks": ""
            },
            "colorscale": [
             [
              0,
              "#0d0887"
             ],
             [
              0.1111111111111111,
              "#46039f"
             ],
             [
              0.2222222222222222,
              "#7201a8"
             ],
             [
              0.3333333333333333,
              "#9c179e"
             ],
             [
              0.4444444444444444,
              "#bd3786"
             ],
             [
              0.5555555555555556,
              "#d8576b"
             ],
             [
              0.6666666666666666,
              "#ed7953"
             ],
             [
              0.7777777777777778,
              "#fb9f3a"
             ],
             [
              0.8888888888888888,
              "#fdca26"
             ],
             [
              1,
              "#f0f921"
             ]
            ],
            "type": "surface"
           }
          ],
          "table": [
           {
            "cells": {
             "fill": {
              "color": "#EBF0F8"
             },
             "line": {
              "color": "white"
             }
            },
            "header": {
             "fill": {
              "color": "#C8D4E3"
             },
             "line": {
              "color": "white"
             }
            },
            "type": "table"
           }
          ]
         },
         "layout": {
          "annotationdefaults": {
           "arrowcolor": "#2a3f5f",
           "arrowhead": 0,
           "arrowwidth": 1
          },
          "autotypenumbers": "strict",
          "coloraxis": {
           "colorbar": {
            "outlinewidth": 0,
            "ticks": ""
           }
          },
          "colorscale": {
           "diverging": [
            [
             0,
             "#8e0152"
            ],
            [
             0.1,
             "#c51b7d"
            ],
            [
             0.2,
             "#de77ae"
            ],
            [
             0.3,
             "#f1b6da"
            ],
            [
             0.4,
             "#fde0ef"
            ],
            [
             0.5,
             "#f7f7f7"
            ],
            [
             0.6,
             "#e6f5d0"
            ],
            [
             0.7,
             "#b8e186"
            ],
            [
             0.8,
             "#7fbc41"
            ],
            [
             0.9,
             "#4d9221"
            ],
            [
             1,
             "#276419"
            ]
           ],
           "sequential": [
            [
             0,
             "#0d0887"
            ],
            [
             0.1111111111111111,
             "#46039f"
            ],
            [
             0.2222222222222222,
             "#7201a8"
            ],
            [
             0.3333333333333333,
             "#9c179e"
            ],
            [
             0.4444444444444444,
             "#bd3786"
            ],
            [
             0.5555555555555556,
             "#d8576b"
            ],
            [
             0.6666666666666666,
             "#ed7953"
            ],
            [
             0.7777777777777778,
             "#fb9f3a"
            ],
            [
             0.8888888888888888,
             "#fdca26"
            ],
            [
             1,
             "#f0f921"
            ]
           ],
           "sequentialminus": [
            [
             0,
             "#0d0887"
            ],
            [
             0.1111111111111111,
             "#46039f"
            ],
            [
             0.2222222222222222,
             "#7201a8"
            ],
            [
             0.3333333333333333,
             "#9c179e"
            ],
            [
             0.4444444444444444,
             "#bd3786"
            ],
            [
             0.5555555555555556,
             "#d8576b"
            ],
            [
             0.6666666666666666,
             "#ed7953"
            ],
            [
             0.7777777777777778,
             "#fb9f3a"
            ],
            [
             0.8888888888888888,
             "#fdca26"
            ],
            [
             1,
             "#f0f921"
            ]
           ]
          },
          "colorway": [
           "#636efa",
           "#EF553B",
           "#00cc96",
           "#ab63fa",
           "#FFA15A",
           "#19d3f3",
           "#FF6692",
           "#B6E880",
           "#FF97FF",
           "#FECB52"
          ],
          "font": {
           "color": "#2a3f5f"
          },
          "geo": {
           "bgcolor": "white",
           "lakecolor": "white",
           "landcolor": "#E5ECF6",
           "showlakes": true,
           "showland": true,
           "subunitcolor": "white"
          },
          "hoverlabel": {
           "align": "left"
          },
          "hovermode": "closest",
          "mapbox": {
           "style": "light"
          },
          "paper_bgcolor": "white",
          "plot_bgcolor": "#E5ECF6",
          "polar": {
           "angularaxis": {
            "gridcolor": "white",
            "linecolor": "white",
            "ticks": ""
           },
           "bgcolor": "#E5ECF6",
           "radialaxis": {
            "gridcolor": "white",
            "linecolor": "white",
            "ticks": ""
           }
          },
          "scene": {
           "xaxis": {
            "backgroundcolor": "#E5ECF6",
            "gridcolor": "white",
            "gridwidth": 2,
            "linecolor": "white",
            "showbackground": true,
            "ticks": "",
            "zerolinecolor": "white"
           },
           "yaxis": {
            "backgroundcolor": "#E5ECF6",
            "gridcolor": "white",
            "gridwidth": 2,
            "linecolor": "white",
            "showbackground": true,
            "ticks": "",
            "zerolinecolor": "white"
           },
           "zaxis": {
            "backgroundcolor": "#E5ECF6",
            "gridcolor": "white",
            "gridwidth": 2,
            "linecolor": "white",
            "showbackground": true,
            "ticks": "",
            "zerolinecolor": "white"
           }
          },
          "shapedefaults": {
           "line": {
            "color": "#2a3f5f"
           }
          },
          "ternary": {
           "aaxis": {
            "gridcolor": "white",
            "linecolor": "white",
            "ticks": ""
           },
           "baxis": {
            "gridcolor": "white",
            "linecolor": "white",
            "ticks": ""
           },
           "bgcolor": "#E5ECF6",
           "caxis": {
            "gridcolor": "white",
            "linecolor": "white",
            "ticks": ""
           }
          },
          "title": {
           "x": 0.05
          },
          "xaxis": {
           "automargin": true,
           "gridcolor": "white",
           "linecolor": "white",
           "ticks": "",
           "title": {
            "standoff": 15
           },
           "zerolinecolor": "white",
           "zerolinewidth": 2
          },
          "yaxis": {
           "automargin": true,
           "gridcolor": "white",
           "linecolor": "white",
           "ticks": "",
           "title": {
            "standoff": 15
           },
           "zerolinecolor": "white",
           "zerolinewidth": 2
          }
         }
        },
        "title": {
         "text": "Correlation Heatmap"
        },
        "xaxis": {
         "tickangle": -45
        },
        "yaxis": {
         "autorange": "reversed"
        }
       }
      },
      "text/html": [
       "<div>            <script src=\"https://cdnjs.cloudflare.com/ajax/libs/mathjax/2.7.5/MathJax.js?config=TeX-AMS-MML_SVG\"></script><script type=\"text/javascript\">if (window.MathJax && window.MathJax.Hub && window.MathJax.Hub.Config) {window.MathJax.Hub.Config({SVG: {font: \"STIX-Web\"}});}</script>                <script type=\"text/javascript\">window.PlotlyConfig = {MathJaxConfig: 'local'};</script>\n",
       "        <script charset=\"utf-8\" src=\"https://cdn.plot.ly/plotly-3.1.1.min.js\" integrity=\"sha256-HUEFyfiTnZJxCxur99FjbKYTvKSzwDaD3/x5TqHpFu4=\" crossorigin=\"anonymous\"></script>                <div id=\"7822fb92-5021-465c-997c-72f707200254\" class=\"plotly-graph-div\" style=\"height:525px; width:100%;\"></div>            <script type=\"text/javascript\">                window.PLOTLYENV=window.PLOTLYENV || {};                                if (document.getElementById(\"7822fb92-5021-465c-997c-72f707200254\")) {                    Plotly.newPlot(                        \"7822fb92-5021-465c-997c-72f707200254\",                        [{\"colorscale\":[[0.0,\"#440154\"],[0.1111111111111111,\"#482878\"],[0.2222222222222222,\"#3e4989\"],[0.3333333333333333,\"#31688e\"],[0.4444444444444444,\"#26828e\"],[0.5555555555555556,\"#1f9e89\"],[0.6666666666666666,\"#35b779\"],[0.7777777777777778,\"#6ece58\"],[0.8888888888888888,\"#b5de2b\"],[1.0,\"#fde725\"]],\"hoverinfo\":\"text\",\"text\":{\"dtype\":\"f8\",\"bdata\":\"AAAAAAAA8D96k5\\u002f1Pfm7PyPqzh9\\u002fvqU\\u002f3tXlQvMi0z\\u002fOM4+NB7SRv3qTn\\u002fU9+bs\\u002fAAAAAAAA8D9Cxg+uViGKP1p3TKM8Y8k\\u002f7NbOSirUyD8j6s4ff76lP0LGD65WIYo\\u002fAAAAAAAA8D\\u002fza3\\u002fwVGixPy2Xt8eBWKS\\u002f3tXlQvMi0z9ad0yjPGPJP\\u002fNrf\\u002fBUaLE\\u002fAAAAAAAA8D8DCoDh6lipP84zj40HtJG\\u002f7NbOSirUyD8tl7fHgVikvwMKgOHqWKk\\u002fAAAAAAAA8D8=\",\"shape\":\"5, 5\"},\"x\":[\"age\",\"bmi\",\"children\",\"charges\",\"AQI\"],\"y\":[\"age\",\"bmi\",\"children\",\"charges\",\"AQI\"],\"z\":{\"dtype\":\"f8\",\"bdata\":\"AAAAAAAA8D96k5\\u002f1Pfm7PyPqzh9\\u002fvqU\\u002f3tXlQvMi0z\\u002fOM4+NB7SRv3qTn\\u002fU9+bs\\u002fAAAAAAAA8D9Cxg+uViGKP1p3TKM8Y8k\\u002f7NbOSirUyD8j6s4ff76lP0LGD65WIYo\\u002fAAAAAAAA8D\\u002fza3\\u002fwVGixPy2Xt8eBWKS\\u002f3tXlQvMi0z9ad0yjPGPJP\\u002fNrf\\u002fBUaLE\\u002fAAAAAAAA8D8DCoDh6lipP84zj40HtJG\\u002f7NbOSirUyD8tl7fHgVikvwMKgOHqWKk\\u002fAAAAAAAA8D8=\",\"shape\":\"5, 5\"},\"zmax\":1,\"zmin\":-1,\"type\":\"heatmap\"}],                        {\"template\":{\"data\":{\"barpolar\":[{\"marker\":{\"line\":{\"color\":\"#E5ECF6\",\"width\":0.5},\"pattern\":{\"fillmode\":\"overlay\",\"size\":10,\"solidity\":0.2}},\"type\":\"barpolar\"}],\"bar\":[{\"error_x\":{\"color\":\"#2a3f5f\"},\"error_y\":{\"color\":\"#2a3f5f\"},\"marker\":{\"line\":{\"color\":\"#E5ECF6\",\"width\":0.5},\"pattern\":{\"fillmode\":\"overlay\",\"size\":10,\"solidity\":0.2}},\"type\":\"bar\"}],\"carpet\":[{\"aaxis\":{\"endlinecolor\":\"#2a3f5f\",\"gridcolor\":\"white\",\"linecolor\":\"white\",\"minorgridcolor\":\"white\",\"startlinecolor\":\"#2a3f5f\"},\"baxis\":{\"endlinecolor\":\"#2a3f5f\",\"gridcolor\":\"white\",\"linecolor\":\"white\",\"minorgridcolor\":\"white\",\"startlinecolor\":\"#2a3f5f\"},\"type\":\"carpet\"}],\"choropleth\":[{\"colorbar\":{\"outlinewidth\":0,\"ticks\":\"\"},\"type\":\"choropleth\"}],\"contourcarpet\":[{\"colorbar\":{\"outlinewidth\":0,\"ticks\":\"\"},\"type\":\"contourcarpet\"}],\"contour\":[{\"colorbar\":{\"outlinewidth\":0,\"ticks\":\"\"},\"colorscale\":[[0.0,\"#0d0887\"],[0.1111111111111111,\"#46039f\"],[0.2222222222222222,\"#7201a8\"],[0.3333333333333333,\"#9c179e\"],[0.4444444444444444,\"#bd3786\"],[0.5555555555555556,\"#d8576b\"],[0.6666666666666666,\"#ed7953\"],[0.7777777777777778,\"#fb9f3a\"],[0.8888888888888888,\"#fdca26\"],[1.0,\"#f0f921\"]],\"type\":\"contour\"}],\"heatmap\":[{\"colorbar\":{\"outlinewidth\":0,\"ticks\":\"\"},\"colorscale\":[[0.0,\"#0d0887\"],[0.1111111111111111,\"#46039f\"],[0.2222222222222222,\"#7201a8\"],[0.3333333333333333,\"#9c179e\"],[0.4444444444444444,\"#bd3786\"],[0.5555555555555556,\"#d8576b\"],[0.6666666666666666,\"#ed7953\"],[0.7777777777777778,\"#fb9f3a\"],[0.8888888888888888,\"#fdca26\"],[1.0,\"#f0f921\"]],\"type\":\"heatmap\"}],\"histogram2dcontour\":[{\"colorbar\":{\"outlinewidth\":0,\"ticks\":\"\"},\"colorscale\":[[0.0,\"#0d0887\"],[0.1111111111111111,\"#46039f\"],[0.2222222222222222,\"#7201a8\"],[0.3333333333333333,\"#9c179e\"],[0.4444444444444444,\"#bd3786\"],[0.5555555555555556,\"#d8576b\"],[0.6666666666666666,\"#ed7953\"],[0.7777777777777778,\"#fb9f3a\"],[0.8888888888888888,\"#fdca26\"],[1.0,\"#f0f921\"]],\"type\":\"histogram2dcontour\"}],\"histogram2d\":[{\"colorbar\":{\"outlinewidth\":0,\"ticks\":\"\"},\"colorscale\":[[0.0,\"#0d0887\"],[0.1111111111111111,\"#46039f\"],[0.2222222222222222,\"#7201a8\"],[0.3333333333333333,\"#9c179e\"],[0.4444444444444444,\"#bd3786\"],[0.5555555555555556,\"#d8576b\"],[0.6666666666666666,\"#ed7953\"],[0.7777777777777778,\"#fb9f3a\"],[0.8888888888888888,\"#fdca26\"],[1.0,\"#f0f921\"]],\"type\":\"histogram2d\"}],\"histogram\":[{\"marker\":{\"pattern\":{\"fillmode\":\"overlay\",\"size\":10,\"solidity\":0.2}},\"type\":\"histogram\"}],\"mesh3d\":[{\"colorbar\":{\"outlinewidth\":0,\"ticks\":\"\"},\"type\":\"mesh3d\"}],\"parcoords\":[{\"line\":{\"colorbar\":{\"outlinewidth\":0,\"ticks\":\"\"}},\"type\":\"parcoords\"}],\"pie\":[{\"automargin\":true,\"type\":\"pie\"}],\"scatter3d\":[{\"line\":{\"colorbar\":{\"outlinewidth\":0,\"ticks\":\"\"}},\"marker\":{\"colorbar\":{\"outlinewidth\":0,\"ticks\":\"\"}},\"type\":\"scatter3d\"}],\"scattercarpet\":[{\"marker\":{\"colorbar\":{\"outlinewidth\":0,\"ticks\":\"\"}},\"type\":\"scattercarpet\"}],\"scattergeo\":[{\"marker\":{\"colorbar\":{\"outlinewidth\":0,\"ticks\":\"\"}},\"type\":\"scattergeo\"}],\"scattergl\":[{\"marker\":{\"colorbar\":{\"outlinewidth\":0,\"ticks\":\"\"}},\"type\":\"scattergl\"}],\"scattermapbox\":[{\"marker\":{\"colorbar\":{\"outlinewidth\":0,\"ticks\":\"\"}},\"type\":\"scattermapbox\"}],\"scattermap\":[{\"marker\":{\"colorbar\":{\"outlinewidth\":0,\"ticks\":\"\"}},\"type\":\"scattermap\"}],\"scatterpolargl\":[{\"marker\":{\"colorbar\":{\"outlinewidth\":0,\"ticks\":\"\"}},\"type\":\"scatterpolargl\"}],\"scatterpolar\":[{\"marker\":{\"colorbar\":{\"outlinewidth\":0,\"ticks\":\"\"}},\"type\":\"scatterpolar\"}],\"scatter\":[{\"fillpattern\":{\"fillmode\":\"overlay\",\"size\":10,\"solidity\":0.2},\"type\":\"scatter\"}],\"scatterternary\":[{\"marker\":{\"colorbar\":{\"outlinewidth\":0,\"ticks\":\"\"}},\"type\":\"scatterternary\"}],\"surface\":[{\"colorbar\":{\"outlinewidth\":0,\"ticks\":\"\"},\"colorscale\":[[0.0,\"#0d0887\"],[0.1111111111111111,\"#46039f\"],[0.2222222222222222,\"#7201a8\"],[0.3333333333333333,\"#9c179e\"],[0.4444444444444444,\"#bd3786\"],[0.5555555555555556,\"#d8576b\"],[0.6666666666666666,\"#ed7953\"],[0.7777777777777778,\"#fb9f3a\"],[0.8888888888888888,\"#fdca26\"],[1.0,\"#f0f921\"]],\"type\":\"surface\"}],\"table\":[{\"cells\":{\"fill\":{\"color\":\"#EBF0F8\"},\"line\":{\"color\":\"white\"}},\"header\":{\"fill\":{\"color\":\"#C8D4E3\"},\"line\":{\"color\":\"white\"}},\"type\":\"table\"}]},\"layout\":{\"annotationdefaults\":{\"arrowcolor\":\"#2a3f5f\",\"arrowhead\":0,\"arrowwidth\":1},\"autotypenumbers\":\"strict\",\"coloraxis\":{\"colorbar\":{\"outlinewidth\":0,\"ticks\":\"\"}},\"colorscale\":{\"diverging\":[[0,\"#8e0152\"],[0.1,\"#c51b7d\"],[0.2,\"#de77ae\"],[0.3,\"#f1b6da\"],[0.4,\"#fde0ef\"],[0.5,\"#f7f7f7\"],[0.6,\"#e6f5d0\"],[0.7,\"#b8e186\"],[0.8,\"#7fbc41\"],[0.9,\"#4d9221\"],[1,\"#276419\"]],\"sequential\":[[0.0,\"#0d0887\"],[0.1111111111111111,\"#46039f\"],[0.2222222222222222,\"#7201a8\"],[0.3333333333333333,\"#9c179e\"],[0.4444444444444444,\"#bd3786\"],[0.5555555555555556,\"#d8576b\"],[0.6666666666666666,\"#ed7953\"],[0.7777777777777778,\"#fb9f3a\"],[0.8888888888888888,\"#fdca26\"],[1.0,\"#f0f921\"]],\"sequentialminus\":[[0.0,\"#0d0887\"],[0.1111111111111111,\"#46039f\"],[0.2222222222222222,\"#7201a8\"],[0.3333333333333333,\"#9c179e\"],[0.4444444444444444,\"#bd3786\"],[0.5555555555555556,\"#d8576b\"],[0.6666666666666666,\"#ed7953\"],[0.7777777777777778,\"#fb9f3a\"],[0.8888888888888888,\"#fdca26\"],[1.0,\"#f0f921\"]]},\"colorway\":[\"#636efa\",\"#EF553B\",\"#00cc96\",\"#ab63fa\",\"#FFA15A\",\"#19d3f3\",\"#FF6692\",\"#B6E880\",\"#FF97FF\",\"#FECB52\"],\"font\":{\"color\":\"#2a3f5f\"},\"geo\":{\"bgcolor\":\"white\",\"lakecolor\":\"white\",\"landcolor\":\"#E5ECF6\",\"showlakes\":true,\"showland\":true,\"subunitcolor\":\"white\"},\"hoverlabel\":{\"align\":\"left\"},\"hovermode\":\"closest\",\"mapbox\":{\"style\":\"light\"},\"paper_bgcolor\":\"white\",\"plot_bgcolor\":\"#E5ECF6\",\"polar\":{\"angularaxis\":{\"gridcolor\":\"white\",\"linecolor\":\"white\",\"ticks\":\"\"},\"bgcolor\":\"#E5ECF6\",\"radialaxis\":{\"gridcolor\":\"white\",\"linecolor\":\"white\",\"ticks\":\"\"}},\"scene\":{\"xaxis\":{\"backgroundcolor\":\"#E5ECF6\",\"gridcolor\":\"white\",\"gridwidth\":2,\"linecolor\":\"white\",\"showbackground\":true,\"ticks\":\"\",\"zerolinecolor\":\"white\"},\"yaxis\":{\"backgroundcolor\":\"#E5ECF6\",\"gridcolor\":\"white\",\"gridwidth\":2,\"linecolor\":\"white\",\"showbackground\":true,\"ticks\":\"\",\"zerolinecolor\":\"white\"},\"zaxis\":{\"backgroundcolor\":\"#E5ECF6\",\"gridcolor\":\"white\",\"gridwidth\":2,\"linecolor\":\"white\",\"showbackground\":true,\"ticks\":\"\",\"zerolinecolor\":\"white\"}},\"shapedefaults\":{\"line\":{\"color\":\"#2a3f5f\"}},\"ternary\":{\"aaxis\":{\"gridcolor\":\"white\",\"linecolor\":\"white\",\"ticks\":\"\"},\"baxis\":{\"gridcolor\":\"white\",\"linecolor\":\"white\",\"ticks\":\"\"},\"bgcolor\":\"#E5ECF6\",\"caxis\":{\"gridcolor\":\"white\",\"linecolor\":\"white\",\"ticks\":\"\"}},\"title\":{\"x\":0.05},\"xaxis\":{\"automargin\":true,\"gridcolor\":\"white\",\"linecolor\":\"white\",\"ticks\":\"\",\"title\":{\"standoff\":15},\"zerolinecolor\":\"white\",\"zerolinewidth\":2},\"yaxis\":{\"automargin\":true,\"gridcolor\":\"white\",\"linecolor\":\"white\",\"ticks\":\"\",\"title\":{\"standoff\":15},\"zerolinecolor\":\"white\",\"zerolinewidth\":2}}},\"title\":{\"text\":\"Correlation Heatmap\"},\"xaxis\":{\"tickangle\":-45},\"yaxis\":{\"autorange\":\"reversed\"}},                        {\"responsive\": true}                    ).then(function(){\n",
       "                            \n",
       "var gd = document.getElementById('7822fb92-5021-465c-997c-72f707200254');\n",
       "var x = new MutationObserver(function (mutations, observer) {{\n",
       "        var display = window.getComputedStyle(gd).display;\n",
       "        if (!display || display === 'none') {{\n",
       "            console.log([gd, 'removed!']);\n",
       "            Plotly.purge(gd);\n",
       "            observer.disconnect();\n",
       "        }}\n",
       "}});\n",
       "\n",
       "// Listen for the removal of the full notebook cells\n",
       "var notebookContainer = gd.closest('#notebook-container');\n",
       "if (notebookContainer) {{\n",
       "    x.observe(notebookContainer, {childList: true});\n",
       "}}\n",
       "\n",
       "// Listen for the clearing of the current output cell\n",
       "var outputEl = gd.closest('.output');\n",
       "if (outputEl) {{\n",
       "    x.observe(outputEl, {childList: true});\n",
       "}}\n",
       "\n",
       "                        })                };            </script>        </div>"
      ]
     },
     "metadata": {},
     "output_type": "display_data"
    }
   ],
   "source": [
    "import plotly.graph_objects as go\n",
    "from plotly.offline import iplot\n",
    "\n",
    "numeric_df = df.select_dtypes(include='number')\n",
    "\n",
    "corr = numeric_df.corr()\n",
    "\n",
    "hm = go.Heatmap(\n",
    "    z=corr.values,\n",
    "    x=corr.columns.tolist(),  \n",
    "    y=corr.columns.tolist(),  \n",
    "    colorscale='Viridis',\n",
    "    zmin=-1, zmax=1,\n",
    "    text=corr.values,\n",
    "    hoverinfo='text'\n",
    ")\n",
    "\n",
    "layout = go.Layout(\n",
    "    title=\"Correlation Heatmap\",\n",
    "    xaxis=dict(tickangle=-45),\n",
    "    yaxis=dict(autorange='reversed')\n",
    ")\n",
    "\n",
    "fig = go.Figure(data=[hm], layout=layout)\n",
    "iplot(fig, filename='labelled-heatmap')\n"
   ]
  },
  {
   "cell_type": "code",
   "execution_count": null,
   "metadata": {
    "_kg_hide-input": true,
    "_uuid": "1c7be215a60ae55f95ff48164648183b0ad2cecd",
    "trusted": true
   },
   "outputs": [
    {
     "ename": "ValueError",
     "evalue": "Invalid property specified for object of type plotly.graph_objs.layout.XAxis: 'titlefont'\n\nDid you mean \"tickfont\"?\n\n    Valid properties:\n        anchor\n            If set to an opposite-letter axis id (e.g. `x2`, `y`),\n            this axis is bound to the corresponding opposite-letter\n            axis. If set to \"free\", this axis' position is\n            determined by `position`.\n        automargin\n            Determines whether long tick labels automatically grow\n            the figure margins.\n        autorange\n            Determines whether or not the range of this axis is\n            computed in relation to the input data. See `rangemode`\n            for more info. If `range` is provided and it has a\n            value for both the lower and upper bound, `autorange`\n            is set to False. Using \"min\" applies autorange only to\n            set the minimum. Using \"max\" applies autorange only to\n            set the maximum. Using *min reversed* applies autorange\n            only to set the minimum on a reversed axis. Using *max\n            reversed* applies autorange only to set the maximum on\n            a reversed axis. Using \"reversed\" applies autorange on\n            both ends and reverses the axis direction.\n        autorangeoptions\n            :class:`plotly.graph_objects.layout.xaxis.Autorangeopti\n            ons` instance or dict with compatible properties\n        autotickangles\n            When `tickangle` is set to \"auto\", it will be set to\n            the first angle in this array that is large enough to\n            prevent label overlap.\n        autotypenumbers\n            Using \"strict\" a numeric string in trace data is not\n            converted to a number. Using *convert types* a numeric\n            string in trace data may be treated as a number during\n            automatic axis `type` detection. Defaults to\n            layout.autotypenumbers.\n        calendar\n            Sets the calendar system to use for `range` and `tick0`\n            if this is a date axis. This does not set the calendar\n            for interpreting data on this axis, that's specified in\n            the trace or via the global `layout.calendar`\n        categoryarray\n            Sets the order in which categories on this axis appear.\n            Only has an effect if `categoryorder` is set to\n            \"array\". Used with `categoryorder`.\n        categoryarraysrc\n            Sets the source reference on Chart Studio Cloud for\n            `categoryarray`.\n        categoryorder\n            Specifies the ordering logic for the case of\n            categorical variables. By default, plotly uses \"trace\",\n            which specifies the order that is present in the data\n            supplied. Set `categoryorder` to *category ascending*\n            or *category descending* if order should be determined\n            by the alphanumerical order of the category names. Set\n            `categoryorder` to \"array\" to derive the ordering from\n            the attribute `categoryarray`. If a category is not\n            found in the `categoryarray` array, the sorting\n            behavior for that attribute will be identical to the\n            \"trace\" mode. The unspecified categories will follow\n            the categories in `categoryarray`. Set `categoryorder`\n            to *total ascending* or *total descending* if order\n            should be determined by the numerical order of the\n            values. Similarly, the order can be determined by the\n            min, max, sum, mean, geometric mean or median of all\n            the values.\n        color\n            Sets default for all colors associated with this axis\n            all at once: line, font, tick, and grid colors. Grid\n            color is lightened by blending this with the plot\n            background Individual pieces can override this.\n        constrain\n            If this axis needs to be compressed (either due to its\n            own `scaleanchor` and `scaleratio` or those of the\n            other axis), determines how that happens: by increasing\n            the \"range\", or by decreasing the \"domain\". Default is\n            \"domain\" for axes containing image traces, \"range\"\n            otherwise.\n        constraintoward\n            If this axis needs to be compressed (either due to its\n            own `scaleanchor` and `scaleratio` or those of the\n            other axis), determines which direction we push the\n            originally specified plot area. Options are \"left\",\n            \"center\" (default), and \"right\" for x axes, and \"top\",\n            \"middle\" (default), and \"bottom\" for y axes.\n        dividercolor\n            Sets the color of the dividers Only has an effect on\n            \"multicategory\" axes.\n        dividerwidth\n            Sets the width (in px) of the dividers Only has an\n            effect on \"multicategory\" axes.\n        domain\n            Sets the domain of this axis (in plot fraction).\n        dtick\n            Sets the step in-between ticks on this axis. Use with\n            `tick0`. Must be a positive number, or special strings\n            available to \"log\" and \"date\" axes. If the axis `type`\n            is \"log\", then ticks are set every 10^(n*dtick) where n\n            is the tick number. For example, to set a tick mark at\n            1, 10, 100, 1000, ... set dtick to 1. To set tick marks\n            at 1, 100, 10000, ... set dtick to 2. To set tick marks\n            at 1, 5, 25, 125, 625, 3125, ... set dtick to\n            log_10(5), or 0.69897000433. \"log\" has several special\n            values; \"L<f>\", where `f` is a positive number, gives\n            ticks linearly spaced in value (but not position). For\n            example `tick0` = 0.1, `dtick` = \"L0.5\" will put ticks\n            at 0.1, 0.6, 1.1, 1.6 etc. To show powers of 10 plus\n            small digits between, use \"D1\" (all digits) or \"D2\"\n            (only 2 and 5). `tick0` is ignored for \"D1\" and \"D2\".\n            If the axis `type` is \"date\", then you must convert the\n            time to milliseconds. For example, to set the interval\n            between ticks to one day, set `dtick` to 86400000.0.\n            \"date\" also has special values \"M<n>\" gives ticks\n            spaced by a number of months. `n` must be a positive\n            integer. To set ticks on the 15th of every third month,\n            set `tick0` to \"2000-01-15\" and `dtick` to \"M3\". To set\n            ticks every 4 years, set `dtick` to \"M48\"\n        exponentformat\n            Determines a formatting rule for the tick exponents.\n            For example, consider the number 1,000,000,000. If\n            \"none\", it appears as 1,000,000,000. If \"e\", 1e+9. If\n            \"E\", 1E+9. If \"power\", 1x10^9 (with 9 in a super\n            script). If \"SI\", 1G. If \"B\", 1B.\n        fixedrange\n            Determines whether or not this axis is zoom-able. If\n            true, then zoom is disabled.\n        gridcolor\n            Sets the color of the grid lines.\n        griddash\n            Sets the dash style of lines. Set to a dash type string\n            (\"solid\", \"dot\", \"dash\", \"longdash\", \"dashdot\", or\n            \"longdashdot\") or a dash length list in px (eg\n            \"5px,10px,2px,2px\").\n        gridwidth\n            Sets the width (in px) of the grid lines.\n        hoverformat\n            Sets the hover text formatting rule using d3 formatting\n            mini-languages which are very similar to those in\n            Python. For numbers, see:\n            https://github.com/d3/d3-format/tree/v1.4.5#d3-format.\n            And for dates see: https://github.com/d3/d3-time-\n            format/tree/v2.2.3#locale_format. We add two items to\n            d3's date formatter: \"%h\" for half of the year as a\n            decimal number as well as \"%{n}f\" for fractional\n            seconds with n digits. For example, *2016-10-13\n            09:15:23.456* with tickformat \"%H~%M~%S.%2f\" would\n            display \"09~15~23.46\"\n        insiderange\n            Could be used to set the desired inside range of this\n            axis (excluding the labels) when `ticklabelposition` of\n            the anchored axis has \"inside\". Not implemented for\n            axes with `type` \"log\". This would be ignored when\n            `range` is provided.\n        labelalias\n            Replacement text for specific tick or hover labels. For\n            example using {US: 'USA', CA: 'Canada'} changes US to\n            USA and CA to Canada. The labels we would have shown\n            must match the keys exactly, after adding any\n            tickprefix or ticksuffix. For negative numbers the\n            minus sign symbol used (U+2212) is wider than the\n            regular ascii dash. That means you need to use −1\n            instead of -1. labelalias can be used with any axis\n            type, and both keys (if needed) and values (if desired)\n            can include html-like tags or MathJax.\n        layer\n            Sets the layer on which this axis is displayed. If\n            *above traces*, this axis is displayed above all the\n            subplot's traces If *below traces*, this axis is\n            displayed below all the subplot's traces, but above the\n            grid lines. Useful when used together with scatter-like\n            traces with `cliponaxis` set to False to show markers\n            and/or text nodes above this axis.\n        linecolor\n            Sets the axis line color.\n        linewidth\n            Sets the width (in px) of the axis line.\n        matches\n            If set to another axis id (e.g. `x2`, `y`), the range\n            of this axis will match the range of the corresponding\n            axis in data-coordinates space. Moreover, matching axes\n            share auto-range values, category lists and histogram\n            auto-bins. Note that setting axes simultaneously in\n            both a `scaleanchor` and a `matches` constraint is\n            currently forbidden. Moreover, note that matching axes\n            must have the same `type`.\n        maxallowed\n            Determines the maximum range of this axis.\n        minallowed\n            Determines the minimum range of this axis.\n        minexponent\n            Hide SI prefix for 10^n if |n| is below this number.\n            This only has an effect when `tickformat` is \"SI\" or\n            \"B\".\n        minor\n            :class:`plotly.graph_objects.layout.xaxis.Minor`\n            instance or dict with compatible properties\n        minorloglabels\n            Determines how minor log labels are displayed. If\n            *small digits*, small digits i.e. 2 or 5 are displayed.\n            If \"complete\", complete digits are displayed. If\n            \"none\", no labels are displayed.\n        mirror\n            Determines if the axis lines or/and ticks are mirrored\n            to the opposite side of the plotting area. If True, the\n            axis lines are mirrored. If \"ticks\", the axis lines and\n            ticks are mirrored. If False, mirroring is disable. If\n            \"all\", axis lines are mirrored on all shared-axes\n            subplots. If \"allticks\", axis lines and ticks are\n            mirrored on all shared-axes subplots.\n        modebardisable\n            Disables certain modebar buttons for this axis.\n            \"autoscale\" disables the autoscale buttons, \"zoominout\"\n            disables the zoom-in and zoom-out buttons.\n        nticks\n            Specifies the maximum number of ticks for the\n            particular axis. The actual number of ticks will be\n            chosen automatically to be less than or equal to\n            `nticks`. Has an effect only if `tickmode` is set to\n            \"auto\".\n        overlaying\n            If set a same-letter axis id, this axis is overlaid on\n            top of the corresponding same-letter axis, with traces\n            and axes visible for both axes. If False, this axis\n            does not overlay any same-letter axes. In this case,\n            for axes with overlapping domains only the highest-\n            numbered axis will be visible.\n        position\n            Sets the position of this axis in the plotting space\n            (in normalized coordinates). Only has an effect if\n            `anchor` is set to \"free\".\n        range\n            Sets the range of this axis. If the axis `type` is\n            \"log\", then you must take the log of your desired range\n            (e.g. to set the range from 1 to 100, set the range\n            from 0 to 2). If the axis `type` is \"date\", it should\n            be date strings, like date data, though Date objects\n            and unix milliseconds will be accepted and converted to\n            strings. If the axis `type` is \"category\", it should be\n            numbers, using the scale where each category is\n            assigned a serial number from zero in the order it\n            appears. Leaving either or both elements `null` impacts\n            the default `autorange`.\n        rangebreaks\n            A tuple of\n            :class:`plotly.graph_objects.layout.xaxis.Rangebreak`\n            instances or dicts with compatible properties\n        rangebreakdefaults\n            When used in a template (as\n            layout.template.layout.xaxis.rangebreakdefaults), sets\n            the default property values to use for elements of\n            layout.xaxis.rangebreaks\n        rangemode\n            If \"normal\", the range is computed in relation to the\n            extrema of the input data. If \"tozero\", the range\n            extends to 0, regardless of the input data If\n            \"nonnegative\", the range is non-negative, regardless of\n            the input data. Applies only to linear axes.\n        rangeselector\n            :class:`plotly.graph_objects.layout.xaxis.Rangeselector\n            ` instance or dict with compatible properties\n        rangeslider\n            :class:`plotly.graph_objects.layout.xaxis.Rangeslider`\n            instance or dict with compatible properties\n        scaleanchor\n            If set to another axis id (e.g. `x2`, `y`), the range\n            of this axis changes together with the range of the\n            corresponding axis such that the scale of pixels per\n            unit is in a constant ratio. Both axes are still\n            zoomable, but when you zoom one, the other will zoom\n            the same amount, keeping a fixed midpoint. `constrain`\n            and `constraintoward` determine how we enforce the\n            constraint. You can chain these, ie `yaxis:\n            {scaleanchor: *x*}, xaxis2: {scaleanchor: *y*}` but you\n            can only link axes of the same `type`. The linked axis\n            can have the opposite letter (to constrain the aspect\n            ratio) or the same letter (to match scales across\n            subplots). Loops (`yaxis: {scaleanchor: *x*}, xaxis:\n            {scaleanchor: *y*}` or longer) are redundant and the\n            last constraint encountered will be ignored to avoid\n            possible inconsistent constraints via `scaleratio`.\n            Note that setting axes simultaneously in both a\n            `scaleanchor` and a `matches` constraint is currently\n            forbidden. Setting `false` allows to remove a default\n            constraint (occasionally, you may need to prevent a\n            default `scaleanchor` constraint from being applied,\n            eg. when having an image trace `yaxis: {scaleanchor:\n            \"x\"}` is set automatically in order for pixels to be\n            rendered as squares, setting `yaxis: {scaleanchor:\n            false}` allows to remove the constraint).\n        scaleratio\n            If this axis is linked to another by `scaleanchor`,\n            this determines the pixel to unit scale ratio. For\n            example, if this value is 10, then every unit on this\n            axis spans 10 times the number of pixels as a unit on\n            the linked axis. Use this for example to create an\n            elevation profile where the vertical scale is\n            exaggerated a fixed amount with respect to the\n            horizontal.\n        separatethousands\n            If \"true\", even 4-digit integers are separated\n        showdividers\n            Determines whether or not a dividers are drawn between\n            the category levels of this axis. Only has an effect on\n            \"multicategory\" axes.\n        showexponent\n            If \"all\", all exponents are shown besides their\n            significands. If \"first\", only the exponent of the\n            first tick is shown. If \"last\", only the exponent of\n            the last tick is shown. If \"none\", no exponents appear.\n        showgrid\n            Determines whether or not grid lines are drawn. If\n            True, the grid lines are drawn at every tick mark.\n        showline\n            Determines whether or not a line bounding this axis is\n            drawn.\n        showspikes\n            Determines whether or not spikes (aka droplines) are\n            drawn for this axis. Note: This only takes affect when\n            hovermode = closest\n        showticklabels\n            Determines whether or not the tick labels are drawn.\n        showtickprefix\n            If \"all\", all tick labels are displayed with a prefix.\n            If \"first\", only the first tick is displayed with a\n            prefix. If \"last\", only the last tick is displayed with\n            a suffix. If \"none\", tick prefixes are hidden.\n        showticksuffix\n            Same as `showtickprefix` but for tick suffixes.\n        side\n            Determines whether a x (y) axis is positioned at the\n            \"bottom\" (\"left\") or \"top\" (\"right\") of the plotting\n            area.\n        spikecolor\n            Sets the spike color. If undefined, will use the series\n            color\n        spikedash\n            Sets the dash style of lines. Set to a dash type string\n            (\"solid\", \"dot\", \"dash\", \"longdash\", \"dashdot\", or\n            \"longdashdot\") or a dash length list in px (eg\n            \"5px,10px,2px,2px\").\n        spikemode\n            Determines the drawing mode for the spike line If\n            \"toaxis\", the line is drawn from the data point to the\n            axis the  series is plotted on. If \"across\", the line\n            is drawn across the entire plot area, and supercedes\n            \"toaxis\". If \"marker\", then a marker dot is drawn on\n            the axis the series is plotted on\n        spikesnap\n            Determines whether spikelines are stuck to the cursor\n            or to the closest datapoints.\n        spikethickness\n            Sets the width (in px) of the zero line.\n        tick0\n            Sets the placement of the first tick on this axis. Use\n            with `dtick`. If the axis `type` is \"log\", then you\n            must take the log of your starting tick (e.g. to set\n            the starting tick to 100, set the `tick0` to 2) except\n            when `dtick`=*L<f>* (see `dtick` for more info). If the\n            axis `type` is \"date\", it should be a date string, like\n            date data. If the axis `type` is \"category\", it should\n            be a number, using the scale where each category is\n            assigned a serial number from zero in the order it\n            appears.\n        tickangle\n            Sets the angle of the tick labels with respect to the\n            horizontal. For example, a `tickangle` of -90 draws the\n            tick labels vertically.\n        tickcolor\n            Sets the tick color.\n        tickfont\n            Sets the tick font.\n        tickformat\n            Sets the tick label formatting rule using d3 formatting\n            mini-languages which are very similar to those in\n            Python. For numbers, see:\n            https://github.com/d3/d3-format/tree/v1.4.5#d3-format.\n            And for dates see: https://github.com/d3/d3-time-\n            format/tree/v2.2.3#locale_format. We add two items to\n            d3's date formatter: \"%h\" for half of the year as a\n            decimal number as well as \"%{n}f\" for fractional\n            seconds with n digits. For example, *2016-10-13\n            09:15:23.456* with tickformat \"%H~%M~%S.%2f\" would\n            display \"09~15~23.46\"\n        tickformatstops\n            A tuple of :class:`plotly.graph_objects.layout.xaxis.Ti\n            ckformatstop` instances or dicts with compatible\n            properties\n        tickformatstopdefaults\n            When used in a template (as\n            layout.template.layout.xaxis.tickformatstopdefaults),\n            sets the default property values to use for elements of\n            layout.xaxis.tickformatstops\n        ticklabelindex\n            Only for axes with `type` \"date\" or \"linear\". Instead\n            of drawing the major tick label, draw the label for the\n            minor tick that is n positions away from the major\n            tick. E.g. to always draw the label for the minor tick\n            before each major tick, choose `ticklabelindex` -1.\n            This is useful for date axes with `ticklabelmode`\n            \"period\" if you want to label the period that ends with\n            each major tick instead of the period that begins\n            there.\n        ticklabelindexsrc\n            Sets the source reference on Chart Studio Cloud for\n            `ticklabelindex`.\n        ticklabelmode\n            Determines where tick labels are drawn with respect to\n            their corresponding ticks and grid lines. Only has an\n            effect for axes of `type` \"date\" When set to \"period\",\n            tick labels are drawn in the middle of the period\n            between ticks.\n        ticklabeloverflow\n            Determines how we handle tick labels that would\n            overflow either the graph div or the domain of the\n            axis. The default value for inside tick labels is *hide\n            past domain*. Otherwise on \"category\" and\n            \"multicategory\" axes the default is \"allow\". In other\n            cases the default is *hide past div*.\n        ticklabelposition\n            Determines where tick labels are drawn with respect to\n            the axis. Please note that top or bottom has no effect\n            on x axes or when `ticklabelmode` is set to \"period\" or\n            when `tickson` is set to \"boundaries\". Similarly, left\n            or right has no effect on y axes or when\n            `ticklabelmode` is set to \"period\" or when `tickson` is\n            set to \"boundaries\". Has no effect on \"multicategory\"\n            axes. When used on axes linked by `matches` or\n            `scaleanchor`, no extra padding for inside labels would\n            be added by autorange, so that the scales could match.\n        ticklabelshift\n            Shifts the tick labels by the specified number of\n            pixels in parallel to the axis. Positive values move\n            the labels in the positive direction of the axis.\n        ticklabelstandoff\n            Sets the standoff distance (in px) between the axis\n            tick labels and their default position. A positive\n            `ticklabelstandoff` moves the labels farther away from\n            the plot area if `ticklabelposition` is \"outside\", and\n            deeper into the plot area if `ticklabelposition` is\n            \"inside\". A negative `ticklabelstandoff` works in the\n            opposite direction, moving outside ticks towards the\n            plot area and inside ticks towards the outside. If the\n            negative value is large enough, inside ticks can even\n            end up outside and vice versa.\n        ticklabelstep\n            Sets the spacing between tick labels as compared to the\n            spacing between ticks. A value of 1 (default) means\n            each tick gets a label. A value of 2 means shows every\n            2nd label. A larger value n means only every nth tick\n            is labeled. `tick0` determines which labels are shown.\n            Not implemented for axes with `type` \"log\" or\n            \"multicategory\", or when `tickmode` is \"array\".\n        ticklen\n            Sets the tick length (in px).\n        tickmode\n            Sets the tick mode for this axis. If \"auto\", the number\n            of ticks is set via `nticks`. If \"linear\", the\n            placement of the ticks is determined by a starting\n            position `tick0` and a tick step `dtick` (\"linear\" is\n            the default value if `tick0` and `dtick` are provided).\n            If \"array\", the placement of the ticks is set via\n            `tickvals` and the tick text is `ticktext`. (\"array\" is\n            the default value if `tickvals` is provided). If\n            \"sync\", the number of ticks will sync with the\n            overlayed axis set by `overlaying` property.\n        tickprefix\n            Sets a tick label prefix.\n        ticks\n            Determines whether ticks are drawn or not. If \"\", this\n            axis' ticks are not drawn. If \"outside\" (\"inside\"),\n            this axis' are drawn outside (inside) the axis lines.\n        tickson\n            Determines where ticks and grid lines are drawn with\n            respect to their corresponding tick labels. Only has an\n            effect for axes of `type` \"category\" or\n            \"multicategory\". When set to \"boundaries\", ticks and\n            grid lines are drawn half a category to the left/bottom\n            of labels.\n        ticksuffix\n            Sets a tick label suffix.\n        ticktext\n            Sets the text displayed at the ticks position via\n            `tickvals`. Only has an effect if `tickmode` is set to\n            \"array\". Used with `tickvals`.\n        ticktextsrc\n            Sets the source reference on Chart Studio Cloud for\n            `ticktext`.\n        tickvals\n            Sets the values at which ticks on this axis appear.\n            Only has an effect if `tickmode` is set to \"array\".\n            Used with `ticktext`.\n        tickvalssrc\n            Sets the source reference on Chart Studio Cloud for\n            `tickvals`.\n        tickwidth\n            Sets the tick width (in px).\n        title\n            :class:`plotly.graph_objects.layout.xaxis.Title`\n            instance or dict with compatible properties\n        type\n            Sets the axis type. By default, plotly attempts to\n            determined the axis type by looking into the data of\n            the traces that referenced the axis in question.\n        uirevision\n            Controls persistence of user-driven changes in axis\n            `range`, `autorange`, and `title` if in `editable:\n            true` configuration. Defaults to `layout.uirevision`.\n        unifiedhovertitle\n            :class:`plotly.graph_objects.layout.xaxis.Unifiedhovert\n            itle` instance or dict with compatible properties\n        visible\n            A single toggle to hide the axis while preserving\n            interaction like dragging. Default is true when a\n            cheater plot is present on the axis, otherwise false\n        zeroline\n            Determines whether or not a line is drawn at along the\n            0 value of this axis. If True, the zero line is drawn\n            on top of the grid lines.\n        zerolinecolor\n            Sets the line color of the zero line.\n        zerolinelayer\n            Sets the layer on which this zeroline is displayed. If\n            *above traces*, this zeroline is displayed above all\n            the subplot's traces If *below traces*, this zeroline\n            is displayed below all the subplot's traces, but above\n            the grid lines. Limitation: \"zerolinelayer\" currently\n            has no effect if the \"zorder\" property is set on any\n            trace.\n        zerolinewidth\n            Sets the width (in px) of the zero line.\n        \nDid you mean \"tickfont\"?\n\nBad property path:\ntitlefont\n^^^^^^^^^",
     "output_type": "error",
     "traceback": [
      "\u001b[31m---------------------------------------------------------------------------\u001b[39m",
      "\u001b[31mValueError\u001b[39m                                Traceback (most recent call last)",
      "\u001b[36mCell\u001b[39m\u001b[36m \u001b[39m\u001b[32mIn[9]\u001b[39m\u001b[32m, line 36\u001b[39m\n\u001b[32m     22\u001b[39m trace2 = go.Box(\n\u001b[32m     23\u001b[39m     y=elders,\n\u001b[32m     24\u001b[39m     name = \u001b[33m'\u001b[39m\u001b[33mElders\u001b[39m\u001b[33m'\u001b[39m,\n\u001b[32m   (...)\u001b[39m\u001b[32m     28\u001b[39m     )\n\u001b[32m     29\u001b[39m )\n\u001b[32m     34\u001b[39m data = [trace0, trace1, trace2]\n\u001b[32m---> \u001b[39m\u001b[32m36\u001b[39m layout = \u001b[43mgo\u001b[49m\u001b[43m.\u001b[49m\u001b[43mLayout\u001b[49m\u001b[43m(\u001b[49m\u001b[43mtitle\u001b[49m\u001b[43m=\u001b[49m\u001b[33;43m\"\u001b[39;49m\u001b[33;43mBody Mass Index <br> by Age Category\u001b[39;49m\u001b[33;43m\"\u001b[39;49m\u001b[43m,\u001b[49m\u001b[43m \u001b[49m\u001b[43mxaxis\u001b[49m\u001b[43m=\u001b[49m\u001b[38;5;28;43mdict\u001b[39;49m\u001b[43m(\u001b[49m\u001b[43mtitle\u001b[49m\u001b[43m=\u001b[49m\u001b[33;43m\"\u001b[39;49m\u001b[33;43mAge Category\u001b[39;49m\u001b[33;43m\"\u001b[39;49m\u001b[43m,\u001b[49m\u001b[43m \u001b[49m\u001b[43mtitlefont\u001b[49m\u001b[43m=\u001b[49m\u001b[38;5;28;43mdict\u001b[39;49m\u001b[43m(\u001b[49m\u001b[43msize\u001b[49m\u001b[43m=\u001b[49m\u001b[32;43m16\u001b[39;49m\u001b[43m)\u001b[49m\u001b[43m)\u001b[49m\u001b[43m,\u001b[49m\n\u001b[32m     37\u001b[39m \u001b[43m                  \u001b[49m\u001b[43myaxis\u001b[49m\u001b[43m=\u001b[49m\u001b[38;5;28;43mdict\u001b[39;49m\u001b[43m(\u001b[49m\u001b[43mtitle\u001b[49m\u001b[43m=\u001b[49m\u001b[33;43m\"\u001b[39;49m\u001b[33;43mBody Mass Index\u001b[39;49m\u001b[33;43m\"\u001b[39;49m\u001b[43m,\u001b[49m\u001b[43m \u001b[49m\u001b[43mtitlefont\u001b[49m\u001b[43m=\u001b[49m\u001b[38;5;28;43mdict\u001b[39;49m\u001b[43m(\u001b[49m\u001b[43msize\u001b[49m\u001b[43m=\u001b[49m\u001b[32;43m16\u001b[39;49m\u001b[43m)\u001b[49m\u001b[43m)\u001b[49m\u001b[43m)\u001b[49m\n\u001b[32m     39\u001b[39m fig = go.Figure(data=data, layout=layout)\n\u001b[32m     40\u001b[39m iplot(fig)\n",
      "\u001b[36mFile \u001b[39m\u001b[32m/media/SSD_OP/Data/5th-Sem/Medical-Insurance-Cost-Prediction/venv/lib/python3.12/site-packages/plotly/graph_objs/_layout.py:3504\u001b[39m, in \u001b[36mLayout.__init__\u001b[39m\u001b[34m(self, arg, activeselection, activeshape, annotations, annotationdefaults, autosize, autotypenumbers, barcornerradius, bargap, bargroupgap, barmode, barnorm, boxgap, boxgroupgap, boxmode, calendar, clickmode, coloraxis, colorscale, colorway, computed, datarevision, dragmode, editrevision, extendfunnelareacolors, extendiciclecolors, extendpiecolors, extendsunburstcolors, extendtreemapcolors, font, funnelareacolorway, funnelgap, funnelgroupgap, funnelmode, geo, grid, height, hiddenlabels, hiddenlabelssrc, hidesources, hoverdistance, hoverlabel, hovermode, hoversubplots, iciclecolorway, images, imagedefaults, legend, map, mapbox, margin, meta, metasrc, minreducedheight, minreducedwidth, modebar, newselection, newshape, paper_bgcolor, piecolorway, plot_bgcolor, polar, scattergap, scattermode, scene, selectdirection, selectionrevision, selections, selectiondefaults, separators, shapes, shapedefaults, showlegend, sliders, sliderdefaults, smith, spikedistance, sunburstcolorway, template, ternary, title, transition, treemapcolorway, uirevision, uniformtext, updatemenus, updatemenudefaults, violingap, violingroupgap, violinmode, waterfallgap, waterfallgroupgap, waterfallmode, width, xaxis, yaxis, **kwargs)\u001b[39m\n\u001b[32m   3502\u001b[39m \u001b[38;5;28mself\u001b[39m._set_property(\u001b[33m\"\u001b[39m\u001b[33mwaterfallmode\u001b[39m\u001b[33m\"\u001b[39m, arg, waterfallmode)\n\u001b[32m   3503\u001b[39m \u001b[38;5;28mself\u001b[39m._set_property(\u001b[33m\"\u001b[39m\u001b[33mwidth\u001b[39m\u001b[33m\"\u001b[39m, arg, width)\n\u001b[32m-> \u001b[39m\u001b[32m3504\u001b[39m \u001b[38;5;28;43mself\u001b[39;49m\u001b[43m.\u001b[49m\u001b[43m_set_property\u001b[49m\u001b[43m(\u001b[49m\u001b[33;43m\"\u001b[39;49m\u001b[33;43mxaxis\u001b[39;49m\u001b[33;43m\"\u001b[39;49m\u001b[43m,\u001b[49m\u001b[43m \u001b[49m\u001b[43marg\u001b[49m\u001b[43m,\u001b[49m\u001b[43m \u001b[49m\u001b[43mxaxis\u001b[49m\u001b[43m)\u001b[49m\n\u001b[32m   3505\u001b[39m \u001b[38;5;28mself\u001b[39m._set_property(\u001b[33m\"\u001b[39m\u001b[33myaxis\u001b[39m\u001b[33m\"\u001b[39m, arg, yaxis)\n\u001b[32m   3506\u001b[39m \u001b[38;5;28mself\u001b[39m._process_kwargs(**\u001b[38;5;28mdict\u001b[39m(arg, **kwargs))\n",
      "\u001b[36mFile \u001b[39m\u001b[32m/media/SSD_OP/Data/5th-Sem/Medical-Insurance-Cost-Prediction/venv/lib/python3.12/site-packages/plotly/basedatatypes.py:4403\u001b[39m, in \u001b[36mBasePlotlyType._set_property\u001b[39m\u001b[34m(self, name, arg, provided)\u001b[39m\n\u001b[32m   4397\u001b[39m \u001b[38;5;28;01mdef\u001b[39;00m\u001b[38;5;250m \u001b[39m\u001b[34m_set_property\u001b[39m(\u001b[38;5;28mself\u001b[39m, name, arg, provided):\n\u001b[32m   4398\u001b[39m \u001b[38;5;250m    \u001b[39m\u001b[33;03m\"\"\"\u001b[39;00m\n\u001b[32m   4399\u001b[39m \u001b[33;03m    Initialize a property of this object using the provided value\u001b[39;00m\n\u001b[32m   4400\u001b[39m \u001b[33;03m    or a value popped from the arguments dictionary. If neither\u001b[39;00m\n\u001b[32m   4401\u001b[39m \u001b[33;03m    is available, do not set the property.\u001b[39;00m\n\u001b[32m   4402\u001b[39m \u001b[33;03m    \"\"\"\u001b[39;00m\n\u001b[32m-> \u001b[39m\u001b[32m4403\u001b[39m     \u001b[43m_set_property_provided_value\u001b[49m\u001b[43m(\u001b[49m\u001b[38;5;28;43mself\u001b[39;49m\u001b[43m,\u001b[49m\u001b[43m \u001b[49m\u001b[43mname\u001b[49m\u001b[43m,\u001b[49m\u001b[43m \u001b[49m\u001b[43marg\u001b[49m\u001b[43m,\u001b[49m\u001b[43m \u001b[49m\u001b[43mprovided\u001b[49m\u001b[43m)\u001b[49m\n",
      "\u001b[36mFile \u001b[39m\u001b[32m/media/SSD_OP/Data/5th-Sem/Medical-Insurance-Cost-Prediction/venv/lib/python3.12/site-packages/plotly/basedatatypes.py:398\u001b[39m, in \u001b[36m_set_property_provided_value\u001b[39m\u001b[34m(obj, name, arg, provided)\u001b[39m\n\u001b[32m    396\u001b[39m val = provided \u001b[38;5;28;01mif\u001b[39;00m provided \u001b[38;5;129;01mis\u001b[39;00m \u001b[38;5;129;01mnot\u001b[39;00m \u001b[38;5;28;01mNone\u001b[39;00m \u001b[38;5;28;01melse\u001b[39;00m val\n\u001b[32m    397\u001b[39m \u001b[38;5;28;01mif\u001b[39;00m val \u001b[38;5;129;01mis\u001b[39;00m \u001b[38;5;129;01mnot\u001b[39;00m \u001b[38;5;28;01mNone\u001b[39;00m:\n\u001b[32m--> \u001b[39m\u001b[32m398\u001b[39m     \u001b[43mobj\u001b[49m\u001b[43m[\u001b[49m\u001b[43mname\u001b[49m\u001b[43m]\u001b[49m = val\n",
      "\u001b[36mFile \u001b[39m\u001b[32m/media/SSD_OP/Data/5th-Sem/Medical-Insurance-Cost-Prediction/venv/lib/python3.12/site-packages/plotly/basedatatypes.py:5967\u001b[39m, in \u001b[36mBaseLayoutType.__setitem__\u001b[39m\u001b[34m(self, prop, value)\u001b[39m\n\u001b[32m   5964\u001b[39m match = \u001b[38;5;28mself\u001b[39m._subplot_re_match(prop)\n\u001b[32m   5965\u001b[39m \u001b[38;5;28;01mif\u001b[39;00m match \u001b[38;5;129;01mis\u001b[39;00m \u001b[38;5;28;01mNone\u001b[39;00m:\n\u001b[32m   5966\u001b[39m     \u001b[38;5;66;03m# Set as ordinary property\u001b[39;00m\n\u001b[32m-> \u001b[39m\u001b[32m5967\u001b[39m     \u001b[38;5;28;43msuper\u001b[39;49m\u001b[43m(\u001b[49m\u001b[43mBaseLayoutHierarchyType\u001b[49m\u001b[43m,\u001b[49m\u001b[43m \u001b[49m\u001b[38;5;28;43mself\u001b[39;49m\u001b[43m)\u001b[49m\u001b[43m.\u001b[49m\u001b[34;43m__setitem__\u001b[39;49m\u001b[43m(\u001b[49m\u001b[43mprop\u001b[49m\u001b[43m,\u001b[49m\u001b[43m \u001b[49m\u001b[43mvalue\u001b[49m\u001b[43m)\u001b[49m\n\u001b[32m   5968\u001b[39m \u001b[38;5;28;01melse\u001b[39;00m:\n\u001b[32m   5969\u001b[39m     \u001b[38;5;66;03m# Set as subplotid property\u001b[39;00m\n\u001b[32m   5970\u001b[39m     \u001b[38;5;28mself\u001b[39m._set_subplotid_prop(prop, value)\n",
      "\u001b[36mFile \u001b[39m\u001b[32m/media/SSD_OP/Data/5th-Sem/Medical-Insurance-Cost-Prediction/venv/lib/python3.12/site-packages/plotly/basedatatypes.py:4924\u001b[39m, in \u001b[36mBasePlotlyType.__setitem__\u001b[39m\u001b[34m(self, prop, value)\u001b[39m\n\u001b[32m   4922\u001b[39m \u001b[38;5;66;03m# ### Handle compound property ###\u001b[39;00m\n\u001b[32m   4923\u001b[39m \u001b[38;5;28;01mif\u001b[39;00m \u001b[38;5;28misinstance\u001b[39m(validator, CompoundValidator):\n\u001b[32m-> \u001b[39m\u001b[32m4924\u001b[39m     \u001b[38;5;28;43mself\u001b[39;49m\u001b[43m.\u001b[49m\u001b[43m_set_compound_prop\u001b[49m\u001b[43m(\u001b[49m\u001b[43mprop\u001b[49m\u001b[43m,\u001b[49m\u001b[43m \u001b[49m\u001b[43mvalue\u001b[49m\u001b[43m)\u001b[49m\n\u001b[32m   4926\u001b[39m \u001b[38;5;66;03m# ### Handle compound array property ###\u001b[39;00m\n\u001b[32m   4927\u001b[39m \u001b[38;5;28;01melif\u001b[39;00m \u001b[38;5;28misinstance\u001b[39m(validator, (CompoundArrayValidator, BaseDataValidator)):\n",
      "\u001b[36mFile \u001b[39m\u001b[32m/media/SSD_OP/Data/5th-Sem/Medical-Insurance-Cost-Prediction/venv/lib/python3.12/site-packages/plotly/basedatatypes.py:5335\u001b[39m, in \u001b[36mBasePlotlyType._set_compound_prop\u001b[39m\u001b[34m(self, prop, val)\u001b[39m\n\u001b[32m   5332\u001b[39m \u001b[38;5;66;03m# Import value\u001b[39;00m\n\u001b[32m   5333\u001b[39m \u001b[38;5;66;03m# ------------\u001b[39;00m\n\u001b[32m   5334\u001b[39m validator = \u001b[38;5;28mself\u001b[39m._get_validator(prop)\n\u001b[32m-> \u001b[39m\u001b[32m5335\u001b[39m val = \u001b[43mvalidator\u001b[49m\u001b[43m.\u001b[49m\u001b[43mvalidate_coerce\u001b[49m\u001b[43m(\u001b[49m\u001b[43mval\u001b[49m\u001b[43m,\u001b[49m\u001b[43m \u001b[49m\u001b[43mskip_invalid\u001b[49m\u001b[43m=\u001b[49m\u001b[38;5;28;43mself\u001b[39;49m\u001b[43m.\u001b[49m\u001b[43m_skip_invalid\u001b[49m\u001b[43m)\u001b[49m\n\u001b[32m   5337\u001b[39m \u001b[38;5;66;03m# Save deep copies of current and new states\u001b[39;00m\n\u001b[32m   5338\u001b[39m \u001b[38;5;66;03m# ------------------------------------------\u001b[39;00m\n\u001b[32m   5339\u001b[39m curr_val = \u001b[38;5;28mself\u001b[39m._compound_props.get(prop, \u001b[38;5;28;01mNone\u001b[39;00m)\n",
      "\u001b[36mFile \u001b[39m\u001b[32m/media/SSD_OP/Data/5th-Sem/Medical-Insurance-Cost-Prediction/venv/lib/python3.12/site-packages/_plotly_utils/basevalidators.py:2425\u001b[39m, in \u001b[36mCompoundValidator.validate_coerce\u001b[39m\u001b[34m(self, v, skip_invalid, _validate)\u001b[39m\n\u001b[32m   2422\u001b[39m     v = \u001b[38;5;28mself\u001b[39m.data_class()\n\u001b[32m   2424\u001b[39m \u001b[38;5;28;01melif\u001b[39;00m \u001b[38;5;28misinstance\u001b[39m(v, \u001b[38;5;28mdict\u001b[39m):\n\u001b[32m-> \u001b[39m\u001b[32m2425\u001b[39m     v = \u001b[38;5;28;43mself\u001b[39;49m\u001b[43m.\u001b[49m\u001b[43mdata_class\u001b[49m\u001b[43m(\u001b[49m\u001b[43mv\u001b[49m\u001b[43m,\u001b[49m\u001b[43m \u001b[49m\u001b[43mskip_invalid\u001b[49m\u001b[43m=\u001b[49m\u001b[43mskip_invalid\u001b[49m\u001b[43m,\u001b[49m\u001b[43m \u001b[49m\u001b[43m_validate\u001b[49m\u001b[43m=\u001b[49m\u001b[43m_validate\u001b[49m\u001b[43m)\u001b[49m\n\u001b[32m   2427\u001b[39m \u001b[38;5;28;01melif\u001b[39;00m \u001b[38;5;28misinstance\u001b[39m(v, \u001b[38;5;28mself\u001b[39m.data_class):\n\u001b[32m   2428\u001b[39m     \u001b[38;5;66;03m# Copy object\u001b[39;00m\n\u001b[32m   2429\u001b[39m     v = \u001b[38;5;28mself\u001b[39m.data_class(v)\n",
      "\u001b[36mFile \u001b[39m\u001b[32m/media/SSD_OP/Data/5th-Sem/Medical-Insurance-Cost-Prediction/venv/lib/python3.12/site-packages/plotly/graph_objs/layout/_xaxis.py:3557\u001b[39m, in \u001b[36mXAxis.__init__\u001b[39m\u001b[34m(self, arg, anchor, automargin, autorange, autorangeoptions, autotickangles, autotypenumbers, calendar, categoryarray, categoryarraysrc, categoryorder, color, constrain, constraintoward, dividercolor, dividerwidth, domain, dtick, exponentformat, fixedrange, gridcolor, griddash, gridwidth, hoverformat, insiderange, labelalias, layer, linecolor, linewidth, matches, maxallowed, minallowed, minexponent, minor, minorloglabels, mirror, modebardisable, nticks, overlaying, position, range, rangebreaks, rangebreakdefaults, rangemode, rangeselector, rangeslider, scaleanchor, scaleratio, separatethousands, showdividers, showexponent, showgrid, showline, showspikes, showticklabels, showtickprefix, showticksuffix, side, spikecolor, spikedash, spikemode, spikesnap, spikethickness, tick0, tickangle, tickcolor, tickfont, tickformat, tickformatstops, tickformatstopdefaults, ticklabelindex, ticklabelindexsrc, ticklabelmode, ticklabeloverflow, ticklabelposition, ticklabelshift, ticklabelstandoff, ticklabelstep, ticklen, tickmode, tickprefix, ticks, tickson, ticksuffix, ticktext, ticktextsrc, tickvals, tickvalssrc, tickwidth, title, type, uirevision, unifiedhovertitle, visible, zeroline, zerolinecolor, zerolinelayer, zerolinewidth, **kwargs)\u001b[39m\n\u001b[32m   3555\u001b[39m \u001b[38;5;28mself\u001b[39m._set_property(\u001b[33m\"\u001b[39m\u001b[33mzerolinelayer\u001b[39m\u001b[33m\"\u001b[39m, arg, zerolinelayer)\n\u001b[32m   3556\u001b[39m \u001b[38;5;28mself\u001b[39m._set_property(\u001b[33m\"\u001b[39m\u001b[33mzerolinewidth\u001b[39m\u001b[33m\"\u001b[39m, arg, zerolinewidth)\n\u001b[32m-> \u001b[39m\u001b[32m3557\u001b[39m \u001b[38;5;28;43mself\u001b[39;49m\u001b[43m.\u001b[49m\u001b[43m_process_kwargs\u001b[49m\u001b[43m(\u001b[49m\u001b[43m*\u001b[49m\u001b[43m*\u001b[49m\u001b[38;5;28;43mdict\u001b[39;49m\u001b[43m(\u001b[49m\u001b[43marg\u001b[49m\u001b[43m,\u001b[49m\u001b[43m \u001b[49m\u001b[43m*\u001b[49m\u001b[43m*\u001b[49m\u001b[43mkwargs\u001b[49m\u001b[43m)\u001b[49m\u001b[43m)\u001b[49m\n\u001b[32m   3558\u001b[39m \u001b[38;5;28mself\u001b[39m._skip_invalid = \u001b[38;5;28;01mFalse\u001b[39;00m\n",
      "\u001b[36mFile \u001b[39m\u001b[32m/media/SSD_OP/Data/5th-Sem/Medical-Insurance-Cost-Prediction/venv/lib/python3.12/site-packages/plotly/basedatatypes.py:4451\u001b[39m, in \u001b[36mBasePlotlyType._process_kwargs\u001b[39m\u001b[34m(self, **kwargs)\u001b[39m\n\u001b[32m   4449\u001b[39m     \u001b[38;5;28mself\u001b[39m[k] = v\n\u001b[32m   4450\u001b[39m \u001b[38;5;28;01melif\u001b[39;00m \u001b[38;5;129;01mnot\u001b[39;00m \u001b[38;5;28mself\u001b[39m._skip_invalid:\n\u001b[32m-> \u001b[39m\u001b[32m4451\u001b[39m     \u001b[38;5;28;01mraise\u001b[39;00m err\n",
      "\u001b[31mValueError\u001b[39m: Invalid property specified for object of type plotly.graph_objs.layout.XAxis: 'titlefont'\n\nDid you mean \"tickfont\"?\n\n    Valid properties:\n        anchor\n            If set to an opposite-letter axis id (e.g. `x2`, `y`),\n            this axis is bound to the corresponding opposite-letter\n            axis. If set to \"free\", this axis' position is\n            determined by `position`.\n        automargin\n            Determines whether long tick labels automatically grow\n            the figure margins.\n        autorange\n            Determines whether or not the range of this axis is\n            computed in relation to the input data. See `rangemode`\n            for more info. If `range` is provided and it has a\n            value for both the lower and upper bound, `autorange`\n            is set to False. Using \"min\" applies autorange only to\n            set the minimum. Using \"max\" applies autorange only to\n            set the maximum. Using *min reversed* applies autorange\n            only to set the minimum on a reversed axis. Using *max\n            reversed* applies autorange only to set the maximum on\n            a reversed axis. Using \"reversed\" applies autorange on\n            both ends and reverses the axis direction.\n        autorangeoptions\n            :class:`plotly.graph_objects.layout.xaxis.Autorangeopti\n            ons` instance or dict with compatible properties\n        autotickangles\n            When `tickangle` is set to \"auto\", it will be set to\n            the first angle in this array that is large enough to\n            prevent label overlap.\n        autotypenumbers\n            Using \"strict\" a numeric string in trace data is not\n            converted to a number. Using *convert types* a numeric\n            string in trace data may be treated as a number during\n            automatic axis `type` detection. Defaults to\n            layout.autotypenumbers.\n        calendar\n            Sets the calendar system to use for `range` and `tick0`\n            if this is a date axis. This does not set the calendar\n            for interpreting data on this axis, that's specified in\n            the trace or via the global `layout.calendar`\n        categoryarray\n            Sets the order in which categories on this axis appear.\n            Only has an effect if `categoryorder` is set to\n            \"array\". Used with `categoryorder`.\n        categoryarraysrc\n            Sets the source reference on Chart Studio Cloud for\n            `categoryarray`.\n        categoryorder\n            Specifies the ordering logic for the case of\n            categorical variables. By default, plotly uses \"trace\",\n            which specifies the order that is present in the data\n            supplied. Set `categoryorder` to *category ascending*\n            or *category descending* if order should be determined\n            by the alphanumerical order of the category names. Set\n            `categoryorder` to \"array\" to derive the ordering from\n            the attribute `categoryarray`. If a category is not\n            found in the `categoryarray` array, the sorting\n            behavior for that attribute will be identical to the\n            \"trace\" mode. The unspecified categories will follow\n            the categories in `categoryarray`. Set `categoryorder`\n            to *total ascending* or *total descending* if order\n            should be determined by the numerical order of the\n            values. Similarly, the order can be determined by the\n            min, max, sum, mean, geometric mean or median of all\n            the values.\n        color\n            Sets default for all colors associated with this axis\n            all at once: line, font, tick, and grid colors. Grid\n            color is lightened by blending this with the plot\n            background Individual pieces can override this.\n        constrain\n            If this axis needs to be compressed (either due to its\n            own `scaleanchor` and `scaleratio` or those of the\n            other axis), determines how that happens: by increasing\n            the \"range\", or by decreasing the \"domain\". Default is\n            \"domain\" for axes containing image traces, \"range\"\n            otherwise.\n        constraintoward\n            If this axis needs to be compressed (either due to its\n            own `scaleanchor` and `scaleratio` or those of the\n            other axis), determines which direction we push the\n            originally specified plot area. Options are \"left\",\n            \"center\" (default), and \"right\" for x axes, and \"top\",\n            \"middle\" (default), and \"bottom\" for y axes.\n        dividercolor\n            Sets the color of the dividers Only has an effect on\n            \"multicategory\" axes.\n        dividerwidth\n            Sets the width (in px) of the dividers Only has an\n            effect on \"multicategory\" axes.\n        domain\n            Sets the domain of this axis (in plot fraction).\n        dtick\n            Sets the step in-between ticks on this axis. Use with\n            `tick0`. Must be a positive number, or special strings\n            available to \"log\" and \"date\" axes. If the axis `type`\n            is \"log\", then ticks are set every 10^(n*dtick) where n\n            is the tick number. For example, to set a tick mark at\n            1, 10, 100, 1000, ... set dtick to 1. To set tick marks\n            at 1, 100, 10000, ... set dtick to 2. To set tick marks\n            at 1, 5, 25, 125, 625, 3125, ... set dtick to\n            log_10(5), or 0.69897000433. \"log\" has several special\n            values; \"L<f>\", where `f` is a positive number, gives\n            ticks linearly spaced in value (but not position). For\n            example `tick0` = 0.1, `dtick` = \"L0.5\" will put ticks\n            at 0.1, 0.6, 1.1, 1.6 etc. To show powers of 10 plus\n            small digits between, use \"D1\" (all digits) or \"D2\"\n            (only 2 and 5). `tick0` is ignored for \"D1\" and \"D2\".\n            If the axis `type` is \"date\", then you must convert the\n            time to milliseconds. For example, to set the interval\n            between ticks to one day, set `dtick` to 86400000.0.\n            \"date\" also has special values \"M<n>\" gives ticks\n            spaced by a number of months. `n` must be a positive\n            integer. To set ticks on the 15th of every third month,\n            set `tick0` to \"2000-01-15\" and `dtick` to \"M3\". To set\n            ticks every 4 years, set `dtick` to \"M48\"\n        exponentformat\n            Determines a formatting rule for the tick exponents.\n            For example, consider the number 1,000,000,000. If\n            \"none\", it appears as 1,000,000,000. If \"e\", 1e+9. If\n            \"E\", 1E+9. If \"power\", 1x10^9 (with 9 in a super\n            script). If \"SI\", 1G. If \"B\", 1B.\n        fixedrange\n            Determines whether or not this axis is zoom-able. If\n            true, then zoom is disabled.\n        gridcolor\n            Sets the color of the grid lines.\n        griddash\n            Sets the dash style of lines. Set to a dash type string\n            (\"solid\", \"dot\", \"dash\", \"longdash\", \"dashdot\", or\n            \"longdashdot\") or a dash length list in px (eg\n            \"5px,10px,2px,2px\").\n        gridwidth\n            Sets the width (in px) of the grid lines.\n        hoverformat\n            Sets the hover text formatting rule using d3 formatting\n            mini-languages which are very similar to those in\n            Python. For numbers, see:\n            https://github.com/d3/d3-format/tree/v1.4.5#d3-format.\n            And for dates see: https://github.com/d3/d3-time-\n            format/tree/v2.2.3#locale_format. We add two items to\n            d3's date formatter: \"%h\" for half of the year as a\n            decimal number as well as \"%{n}f\" for fractional\n            seconds with n digits. For example, *2016-10-13\n            09:15:23.456* with tickformat \"%H~%M~%S.%2f\" would\n            display \"09~15~23.46\"\n        insiderange\n            Could be used to set the desired inside range of this\n            axis (excluding the labels) when `ticklabelposition` of\n            the anchored axis has \"inside\". Not implemented for\n            axes with `type` \"log\". This would be ignored when\n            `range` is provided.\n        labelalias\n            Replacement text for specific tick or hover labels. For\n            example using {US: 'USA', CA: 'Canada'} changes US to\n            USA and CA to Canada. The labels we would have shown\n            must match the keys exactly, after adding any\n            tickprefix or ticksuffix. For negative numbers the\n            minus sign symbol used (U+2212) is wider than the\n            regular ascii dash. That means you need to use −1\n            instead of -1. labelalias can be used with any axis\n            type, and both keys (if needed) and values (if desired)\n            can include html-like tags or MathJax.\n        layer\n            Sets the layer on which this axis is displayed. If\n            *above traces*, this axis is displayed above all the\n            subplot's traces If *below traces*, this axis is\n            displayed below all the subplot's traces, but above the\n            grid lines. Useful when used together with scatter-like\n            traces with `cliponaxis` set to False to show markers\n            and/or text nodes above this axis.\n        linecolor\n            Sets the axis line color.\n        linewidth\n            Sets the width (in px) of the axis line.\n        matches\n            If set to another axis id (e.g. `x2`, `y`), the range\n            of this axis will match the range of the corresponding\n            axis in data-coordinates space. Moreover, matching axes\n            share auto-range values, category lists and histogram\n            auto-bins. Note that setting axes simultaneously in\n            both a `scaleanchor` and a `matches` constraint is\n            currently forbidden. Moreover, note that matching axes\n            must have the same `type`.\n        maxallowed\n            Determines the maximum range of this axis.\n        minallowed\n            Determines the minimum range of this axis.\n        minexponent\n            Hide SI prefix for 10^n if |n| is below this number.\n            This only has an effect when `tickformat` is \"SI\" or\n            \"B\".\n        minor\n            :class:`plotly.graph_objects.layout.xaxis.Minor`\n            instance or dict with compatible properties\n        minorloglabels\n            Determines how minor log labels are displayed. If\n            *small digits*, small digits i.e. 2 or 5 are displayed.\n            If \"complete\", complete digits are displayed. If\n            \"none\", no labels are displayed.\n        mirror\n            Determines if the axis lines or/and ticks are mirrored\n            to the opposite side of the plotting area. If True, the\n            axis lines are mirrored. If \"ticks\", the axis lines and\n            ticks are mirrored. If False, mirroring is disable. If\n            \"all\", axis lines are mirrored on all shared-axes\n            subplots. If \"allticks\", axis lines and ticks are\n            mirrored on all shared-axes subplots.\n        modebardisable\n            Disables certain modebar buttons for this axis.\n            \"autoscale\" disables the autoscale buttons, \"zoominout\"\n            disables the zoom-in and zoom-out buttons.\n        nticks\n            Specifies the maximum number of ticks for the\n            particular axis. The actual number of ticks will be\n            chosen automatically to be less than or equal to\n            `nticks`. Has an effect only if `tickmode` is set to\n            \"auto\".\n        overlaying\n            If set a same-letter axis id, this axis is overlaid on\n            top of the corresponding same-letter axis, with traces\n            and axes visible for both axes. If False, this axis\n            does not overlay any same-letter axes. In this case,\n            for axes with overlapping domains only the highest-\n            numbered axis will be visible.\n        position\n            Sets the position of this axis in the plotting space\n            (in normalized coordinates). Only has an effect if\n            `anchor` is set to \"free\".\n        range\n            Sets the range of this axis. If the axis `type` is\n            \"log\", then you must take the log of your desired range\n            (e.g. to set the range from 1 to 100, set the range\n            from 0 to 2). If the axis `type` is \"date\", it should\n            be date strings, like date data, though Date objects\n            and unix milliseconds will be accepted and converted to\n            strings. If the axis `type` is \"category\", it should be\n            numbers, using the scale where each category is\n            assigned a serial number from zero in the order it\n            appears. Leaving either or both elements `null` impacts\n            the default `autorange`.\n        rangebreaks\n            A tuple of\n            :class:`plotly.graph_objects.layout.xaxis.Rangebreak`\n            instances or dicts with compatible properties\n        rangebreakdefaults\n            When used in a template (as\n            layout.template.layout.xaxis.rangebreakdefaults), sets\n            the default property values to use for elements of\n            layout.xaxis.rangebreaks\n        rangemode\n            If \"normal\", the range is computed in relation to the\n            extrema of the input data. If \"tozero\", the range\n            extends to 0, regardless of the input data If\n            \"nonnegative\", the range is non-negative, regardless of\n            the input data. Applies only to linear axes.\n        rangeselector\n            :class:`plotly.graph_objects.layout.xaxis.Rangeselector\n            ` instance or dict with compatible properties\n        rangeslider\n            :class:`plotly.graph_objects.layout.xaxis.Rangeslider`\n            instance or dict with compatible properties\n        scaleanchor\n            If set to another axis id (e.g. `x2`, `y`), the range\n            of this axis changes together with the range of the\n            corresponding axis such that the scale of pixels per\n            unit is in a constant ratio. Both axes are still\n            zoomable, but when you zoom one, the other will zoom\n            the same amount, keeping a fixed midpoint. `constrain`\n            and `constraintoward` determine how we enforce the\n            constraint. You can chain these, ie `yaxis:\n            {scaleanchor: *x*}, xaxis2: {scaleanchor: *y*}` but you\n            can only link axes of the same `type`. The linked axis\n            can have the opposite letter (to constrain the aspect\n            ratio) or the same letter (to match scales across\n            subplots). Loops (`yaxis: {scaleanchor: *x*}, xaxis:\n            {scaleanchor: *y*}` or longer) are redundant and the\n            last constraint encountered will be ignored to avoid\n            possible inconsistent constraints via `scaleratio`.\n            Note that setting axes simultaneously in both a\n            `scaleanchor` and a `matches` constraint is currently\n            forbidden. Setting `false` allows to remove a default\n            constraint (occasionally, you may need to prevent a\n            default `scaleanchor` constraint from being applied,\n            eg. when having an image trace `yaxis: {scaleanchor:\n            \"x\"}` is set automatically in order for pixels to be\n            rendered as squares, setting `yaxis: {scaleanchor:\n            false}` allows to remove the constraint).\n        scaleratio\n            If this axis is linked to another by `scaleanchor`,\n            this determines the pixel to unit scale ratio. For\n            example, if this value is 10, then every unit on this\n            axis spans 10 times the number of pixels as a unit on\n            the linked axis. Use this for example to create an\n            elevation profile where the vertical scale is\n            exaggerated a fixed amount with respect to the\n            horizontal.\n        separatethousands\n            If \"true\", even 4-digit integers are separated\n        showdividers\n            Determines whether or not a dividers are drawn between\n            the category levels of this axis. Only has an effect on\n            \"multicategory\" axes.\n        showexponent\n            If \"all\", all exponents are shown besides their\n            significands. If \"first\", only the exponent of the\n            first tick is shown. If \"last\", only the exponent of\n            the last tick is shown. If \"none\", no exponents appear.\n        showgrid\n            Determines whether or not grid lines are drawn. If\n            True, the grid lines are drawn at every tick mark.\n        showline\n            Determines whether or not a line bounding this axis is\n            drawn.\n        showspikes\n            Determines whether or not spikes (aka droplines) are\n            drawn for this axis. Note: This only takes affect when\n            hovermode = closest\n        showticklabels\n            Determines whether or not the tick labels are drawn.\n        showtickprefix\n            If \"all\", all tick labels are displayed with a prefix.\n            If \"first\", only the first tick is displayed with a\n            prefix. If \"last\", only the last tick is displayed with\n            a suffix. If \"none\", tick prefixes are hidden.\n        showticksuffix\n            Same as `showtickprefix` but for tick suffixes.\n        side\n            Determines whether a x (y) axis is positioned at the\n            \"bottom\" (\"left\") or \"top\" (\"right\") of the plotting\n            area.\n        spikecolor\n            Sets the spike color. If undefined, will use the series\n            color\n        spikedash\n            Sets the dash style of lines. Set to a dash type string\n            (\"solid\", \"dot\", \"dash\", \"longdash\", \"dashdot\", or\n            \"longdashdot\") or a dash length list in px (eg\n            \"5px,10px,2px,2px\").\n        spikemode\n            Determines the drawing mode for the spike line If\n            \"toaxis\", the line is drawn from the data point to the\n            axis the  series is plotted on. If \"across\", the line\n            is drawn across the entire plot area, and supercedes\n            \"toaxis\". If \"marker\", then a marker dot is drawn on\n            the axis the series is plotted on\n        spikesnap\n            Determines whether spikelines are stuck to the cursor\n            or to the closest datapoints.\n        spikethickness\n            Sets the width (in px) of the zero line.\n        tick0\n            Sets the placement of the first tick on this axis. Use\n            with `dtick`. If the axis `type` is \"log\", then you\n            must take the log of your starting tick (e.g. to set\n            the starting tick to 100, set the `tick0` to 2) except\n            when `dtick`=*L<f>* (see `dtick` for more info). If the\n            axis `type` is \"date\", it should be a date string, like\n            date data. If the axis `type` is \"category\", it should\n            be a number, using the scale where each category is\n            assigned a serial number from zero in the order it\n            appears.\n        tickangle\n            Sets the angle of the tick labels with respect to the\n            horizontal. For example, a `tickangle` of -90 draws the\n            tick labels vertically.\n        tickcolor\n            Sets the tick color.\n        tickfont\n            Sets the tick font.\n        tickformat\n            Sets the tick label formatting rule using d3 formatting\n            mini-languages which are very similar to those in\n            Python. For numbers, see:\n            https://github.com/d3/d3-format/tree/v1.4.5#d3-format.\n            And for dates see: https://github.com/d3/d3-time-\n            format/tree/v2.2.3#locale_format. We add two items to\n            d3's date formatter: \"%h\" for half of the year as a\n            decimal number as well as \"%{n}f\" for fractional\n            seconds with n digits. For example, *2016-10-13\n            09:15:23.456* with tickformat \"%H~%M~%S.%2f\" would\n            display \"09~15~23.46\"\n        tickformatstops\n            A tuple of :class:`plotly.graph_objects.layout.xaxis.Ti\n            ckformatstop` instances or dicts with compatible\n            properties\n        tickformatstopdefaults\n            When used in a template (as\n            layout.template.layout.xaxis.tickformatstopdefaults),\n            sets the default property values to use for elements of\n            layout.xaxis.tickformatstops\n        ticklabelindex\n            Only for axes with `type` \"date\" or \"linear\". Instead\n            of drawing the major tick label, draw the label for the\n            minor tick that is n positions away from the major\n            tick. E.g. to always draw the label for the minor tick\n            before each major tick, choose `ticklabelindex` -1.\n            This is useful for date axes with `ticklabelmode`\n            \"period\" if you want to label the period that ends with\n            each major tick instead of the period that begins\n            there.\n        ticklabelindexsrc\n            Sets the source reference on Chart Studio Cloud for\n            `ticklabelindex`.\n        ticklabelmode\n            Determines where tick labels are drawn with respect to\n            their corresponding ticks and grid lines. Only has an\n            effect for axes of `type` \"date\" When set to \"period\",\n            tick labels are drawn in the middle of the period\n            between ticks.\n        ticklabeloverflow\n            Determines how we handle tick labels that would\n            overflow either the graph div or the domain of the\n            axis. The default value for inside tick labels is *hide\n            past domain*. Otherwise on \"category\" and\n            \"multicategory\" axes the default is \"allow\". In other\n            cases the default is *hide past div*.\n        ticklabelposition\n            Determines where tick labels are drawn with respect to\n            the axis. Please note that top or bottom has no effect\n            on x axes or when `ticklabelmode` is set to \"period\" or\n            when `tickson` is set to \"boundaries\". Similarly, left\n            or right has no effect on y axes or when\n            `ticklabelmode` is set to \"period\" or when `tickson` is\n            set to \"boundaries\". Has no effect on \"multicategory\"\n            axes. When used on axes linked by `matches` or\n            `scaleanchor`, no extra padding for inside labels would\n            be added by autorange, so that the scales could match.\n        ticklabelshift\n            Shifts the tick labels by the specified number of\n            pixels in parallel to the axis. Positive values move\n            the labels in the positive direction of the axis.\n        ticklabelstandoff\n            Sets the standoff distance (in px) between the axis\n            tick labels and their default position. A positive\n            `ticklabelstandoff` moves the labels farther away from\n            the plot area if `ticklabelposition` is \"outside\", and\n            deeper into the plot area if `ticklabelposition` is\n            \"inside\". A negative `ticklabelstandoff` works in the\n            opposite direction, moving outside ticks towards the\n            plot area and inside ticks towards the outside. If the\n            negative value is large enough, inside ticks can even\n            end up outside and vice versa.\n        ticklabelstep\n            Sets the spacing between tick labels as compared to the\n            spacing between ticks. A value of 1 (default) means\n            each tick gets a label. A value of 2 means shows every\n            2nd label. A larger value n means only every nth tick\n            is labeled. `tick0` determines which labels are shown.\n            Not implemented for axes with `type` \"log\" or\n            \"multicategory\", or when `tickmode` is \"array\".\n        ticklen\n            Sets the tick length (in px).\n        tickmode\n            Sets the tick mode for this axis. If \"auto\", the number\n            of ticks is set via `nticks`. If \"linear\", the\n            placement of the ticks is determined by a starting\n            position `tick0` and a tick step `dtick` (\"linear\" is\n            the default value if `tick0` and `dtick` are provided).\n            If \"array\", the placement of the ticks is set via\n            `tickvals` and the tick text is `ticktext`. (\"array\" is\n            the default value if `tickvals` is provided). If\n            \"sync\", the number of ticks will sync with the\n            overlayed axis set by `overlaying` property.\n        tickprefix\n            Sets a tick label prefix.\n        ticks\n            Determines whether ticks are drawn or not. If \"\", this\n            axis' ticks are not drawn. If \"outside\" (\"inside\"),\n            this axis' are drawn outside (inside) the axis lines.\n        tickson\n            Determines where ticks and grid lines are drawn with\n            respect to their corresponding tick labels. Only has an\n            effect for axes of `type` \"category\" or\n            \"multicategory\". When set to \"boundaries\", ticks and\n            grid lines are drawn half a category to the left/bottom\n            of labels.\n        ticksuffix\n            Sets a tick label suffix.\n        ticktext\n            Sets the text displayed at the ticks position via\n            `tickvals`. Only has an effect if `tickmode` is set to\n            \"array\". Used with `tickvals`.\n        ticktextsrc\n            Sets the source reference on Chart Studio Cloud for\n            `ticktext`.\n        tickvals\n            Sets the values at which ticks on this axis appear.\n            Only has an effect if `tickmode` is set to \"array\".\n            Used with `ticktext`.\n        tickvalssrc\n            Sets the source reference on Chart Studio Cloud for\n            `tickvals`.\n        tickwidth\n            Sets the tick width (in px).\n        title\n            :class:`plotly.graph_objects.layout.xaxis.Title`\n            instance or dict with compatible properties\n        type\n            Sets the axis type. By default, plotly attempts to\n            determined the axis type by looking into the data of\n            the traces that referenced the axis in question.\n        uirevision\n            Controls persistence of user-driven changes in axis\n            `range`, `autorange`, and `title` if in `editable:\n            true` configuration. Defaults to `layout.uirevision`.\n        unifiedhovertitle\n            :class:`plotly.graph_objects.layout.xaxis.Unifiedhovert\n            itle` instance or dict with compatible properties\n        visible\n            A single toggle to hide the axis while preserving\n            interaction like dragging. Default is true when a\n            cheater plot is present on the axis, otherwise false\n        zeroline\n            Determines whether or not a line is drawn at along the\n            0 value of this axis. If True, the zero line is drawn\n            on top of the grid lines.\n        zerolinecolor\n            Sets the line color of the zero line.\n        zerolinelayer\n            Sets the layer on which this zeroline is displayed. If\n            *above traces*, this zeroline is displayed above all\n            the subplot's traces If *below traces*, this zeroline\n            is displayed below all the subplot's traces, but above\n            the grid lines. Limitation: \"zerolinelayer\" currently\n            has no effect if the \"zorder\" property is set on any\n            trace.\n        zerolinewidth\n            Sets the width (in px) of the zero line.\n        \nDid you mean \"tickfont\"?\n\nBad property path:\ntitlefont\n^^^^^^^^^"
     ]
    }
   ],
   "source": [
    "young_adults = df[\"bmi\"].loc[df[\"age_cat\"] == \"Young Adult\"].values\n",
    "senior_adult = df[\"bmi\"].loc[df[\"age_cat\"] == \"Senior Adult\"].values\n",
    "elders = df[\"bmi\"].loc[df[\"age_cat\"] == \"Elder\"].values\n",
    "\n",
    "trace0 = go.Box(\n",
    "    y=young_adults,\n",
    "    name = 'Young Adults',\n",
    "    boxmean= True,\n",
    "    marker = dict(\n",
    "        color = 'rgb(214, 12, 140)',\n",
    "    )\n",
    ")\n",
    "trace1 = go.Box(\n",
    "    y=senior_adult,\n",
    "    name = 'Senior Adults',\n",
    "    boxmean= True,\n",
    "    marker = dict(\n",
    "        color = 'rgb(0, 128, 128)',\n",
    "    )\n",
    ")\n",
    "\n",
    "trace2 = go.Box(\n",
    "    y=elders,\n",
    "    name = 'Elders',\n",
    "    boxmean= True,\n",
    "    marker = dict(\n",
    "        color = 'rgb(247, 186, 166)',\n",
    "    )\n",
    ")\n",
    "\n",
    "\n",
    "\n",
    "\n",
    "data = [trace0, trace1, trace2]\n",
    "\n",
    "layout = go.Layout(\n",
    "    title=\"Body Mass Index <br> by Age Category\",\n",
    "    xaxis=dict(\n",
    "        title=dict(\n",
    "            text=\"Age Category\",\n",
    "            font=dict(size=16)\n",
    "        )\n",
    "    ),\n",
    "    yaxis=dict(\n",
    "        title=dict(\n",
    "            text=\"Body Mass Index\",\n",
    "            font=dict(size=16)\n",
    "        )\n",
    "    )\n",
    ")\n",
    "\n",
    "fig = go.Figure(data=data, layout=layout)\n",
    "iplot(fig)\n"
   ]
  },
  {
   "cell_type": "markdown",
   "metadata": {
    "_uuid": "dd59bc833e62eaf37e715bb894d1b7367fff7a65"
   },
   "source": [
    "\n"
   ]
  },
  {
   "cell_type": "markdown",
   "metadata": {
    "_uuid": "7c0effd289fe435fc90c52c65e032cbd388a3f50"
   },
   "source": [
    "<h4> Comparing Independent Categorical Variables (ANOVA) </h4>\n",
    "<a id=\"ANOVA\"></a>\n",
    "<ul>\n",
    "    <li> <b> P-value: </b>The p-value being higher than 0.05 tells us that we take the Null hypothesis, meaning that there is no a significant change between the three age categories when it comes to Body Mass Index.</li>\n",
    "    </ul>"
   ]
  },
  {
   "cell_type": "code",
   "execution_count": null,
   "metadata": {
    "_kg_hide-input": true,
    "_uuid": "777321da108a782727a50d1d7c686877afd5c88d",
    "trusted": true
   },
   "outputs": [],
   "source": [
    "import statsmodels.api as sm\n",
    "from statsmodels.formula.api import ols\n",
    "\n",
    "\n",
    "moore_lm = ols(\"bmi ~ age_cat\", data=df).fit()\n",
    "print(moore_lm.summary())"
   ]
  },
  {
   "cell_type": "code",
   "execution_count": null,
   "metadata": {
    "_kg_hide-input": true,
    "_uuid": "5eded1df647e10cf64edf99ac96f73e5d8a5f0f2",
    "trusted": true
   },
   "outputs": [],
   "source": [
    "import plotly.plotly as py\n",
    "import plotly.graph_objs as go\n",
    "\n",
    "ya_smoker = df[\"bmi\"].loc[(df[\"age_cat\"] == \"Young Adult\") & (df[\"smoker\"] == \"yes\")].values\n",
    "sa_smoker = df[\"bmi\"].loc[(df[\"age_cat\"] == \"Senior Adult\") & (df[\"smoker\"] == \"yes\")].values\n",
    "e_smoker = df[\"bmi\"].loc[(df[\"age_cat\"] == \"Elder\") & (df[\"smoker\"] == \"yes\")].values\n",
    "\n",
    "# Non-Smokers\n",
    "ya_nonsmoker = df[\"bmi\"].loc[(df[\"age_cat\"] == \"Young Adult\") & (df[\"smoker\"] == \"no\")].values\n",
    "sa_nonsmoker = df[\"bmi\"].loc[(df[\"age_cat\"] == \"Senior Adult\") & (df[\"smoker\"] == \"no\")].values\n",
    "e_nonsmoker = df[\"bmi\"].loc[(df[\"age_cat\"] == \"Elder\") & (df[\"smoker\"] == \"no\")].values\n",
    "\n",
    "x_data = ['Young A. Smoker', 'Young A. Non-Smoker',\n",
    "          'Senior A. Smoker', 'Senior A. Non-Smoker',\n",
    "          'Elder Smoker', 'Elder Non-Smoker',]\n",
    "\n",
    "y0 = ya_smoker\n",
    "y1 = ya_nonsmoker\n",
    "y2 = sa_smoker\n",
    "y3 = sa_nonsmoker\n",
    "y4 = e_smoker\n",
    "y5 = e_nonsmoker\n",
    "\n",
    "y_data = [y0,y1,y2,y3,y4,y5]\n",
    "\n",
    "colors = ['rgba(251, 43, 43, 0.5)', 'rgba(125, 251, 137, 0.5)', \n",
    "          'rgba(251, 43, 43, 0.5)', 'rgba(125, 251, 137, 0.5)', \n",
    "          'rgba(251, 43, 43, 0.5)', 'rgba(125, 251, 137, 0.5)']\n",
    "\n",
    "traces = []\n",
    "\n",
    "for xd, yd, cls in zip(x_data, y_data, colors):\n",
    "        traces.append(go.Box(\n",
    "            y=yd,\n",
    "            name=xd,\n",
    "            boxpoints='all',\n",
    "            jitter=0.5,\n",
    "            whiskerwidth=0.2,\n",
    "            fillcolor=cls,\n",
    "            marker=dict(\n",
    "                size=2,\n",
    "            ),\n",
    "            line=dict(width=1),\n",
    "        ))\n",
    "\n",
    "layout = go.Layout(\n",
    "    title='Body Mass Index of Smokers Status by Age Category',\n",
    "    xaxis=dict(\n",
    "    title=\"Status\",\n",
    "    titlefont=dict(\n",
    "    size=16)),\n",
    "    yaxis=dict(\n",
    "        title=\"Body Mass Index\",\n",
    "        autorange=True,\n",
    "        showgrid=True,\n",
    "        zeroline=True,\n",
    "        dtick=5,\n",
    "        gridcolor='rgb(255, 255, 255)',\n",
    "        gridwidth=1,\n",
    "        zerolinecolor='rgb(255, 255, 255)',\n",
    "        zerolinewidth=2,\n",
    "        titlefont=dict(\n",
    "        size=16)\n",
    "    ),\n",
    "    margin=dict(\n",
    "        l=40,\n",
    "        r=30,\n",
    "        b=80,\n",
    "        t=100,\n",
    "    ),\n",
    "    paper_bgcolor='rgb(255, 255, 255)',\n",
    "    plot_bgcolor='rgb(255, 243, 192)',\n",
    "    showlegend=False\n",
    ")\n",
    "\n",
    "fig = go.Figure(data=traces, layout=layout)\n",
    "iplot(fig)"
   ]
  },
  {
   "cell_type": "markdown",
   "metadata": {
    "_uuid": "edf258b59f8ba1c2b807e6b727bfc8424afff644",
    "trusted": true
   },
   "source": [
    "### Who got charged more on Average by Age?\n",
    "<a id=\"charged_age\"></a>\n",
    "<ul> \n",
    "    <li><b>Patient Charge Mean: </b> For <b>young adults </b> it is 7,944, for <b> Senior Adults </b> it is 14,785  and for the <b>elder</b> it is 18,795. </li>\n",
    "     <li><b>Patient Charge Median: </b> For <b>young adults </b> it is 4,252, for <b> Senior Adults </b> it is 9,565  and for the <b>elder</b> it is 13,429. </li>\n",
    "    <li> <b> Mean and the Median:</b> Sometimes we must be careful when using the mean since it is prone to be affected by outliers.</li>\n",
    "    </ul>"
   ]
  },
  {
   "cell_type": "code",
   "execution_count": null,
   "metadata": {
    "_kg_hide-input": true,
    "_uuid": "536c613a2a1c381fe5bbebc902d0b00b318a5585",
    "trusted": true
   },
   "outputs": [],
   "source": [
    "# Mean could be affected easily by outliers or extreme cases.\n",
    "# Means\n",
    "avg_ya_charge = df[\"charges\"].loc[df[\"age_cat\"] == \"Young Adult\"].mean()\n",
    "avg_sa_charge = df[\"charges\"].loc[df[\"age_cat\"] == \"Senior Adult\"].mean()\n",
    "avg_e_charge = df[\"charges\"].loc[df[\"age_cat\"] == \"Elder\"].mean()\n",
    "\n",
    "# Median\n",
    "med_ya_charge = df[\"charges\"].loc[df[\"age_cat\"] == \"Young Adult\"].median()\n",
    "med_sa_charge = df[\"charges\"].loc[df[\"age_cat\"] == \"Senior Adult\"].median()\n",
    "med_e_charge = df[\"charges\"].loc[df[\"age_cat\"] == \"Elder\"].median()\n",
    "\n",
    "average_plot = go.Bar(\n",
    "    x=['Young Adults', 'Senior Adults', 'Elder'],\n",
    "    y=[avg_ya_charge, avg_sa_charge, avg_e_charge],\n",
    "    name='Mean',\n",
    "    marker=dict(\n",
    "        color=\"#F5B041\"\n",
    "    )\n",
    ")\n",
    "med_plot = go.Bar(\n",
    "    x=['Young Adults', 'Senior Adults', 'Elder'],\n",
    "    y=[med_ya_charge, med_sa_charge, med_e_charge],\n",
    "    name='Median',\n",
    "    marker=dict(\n",
    "        color=\"#48C9B0\"\n",
    "    )\n",
    ")\n",
    "\n",
    "\n",
    "fig = tools.make_subplots(rows=1, cols=2, specs=[[{}, {}]],\n",
    "                          subplot_titles=('Average Charge by Age','Median Charge by Age'),\n",
    "                         shared_yaxes=True, print_grid=False)\n",
    "\n",
    "\n",
    "fig.append_trace(average_plot, 1, 1)\n",
    "fig.append_trace(med_plot, 1, 2)\n",
    "\n",
    "\n",
    "fig['layout'].update(showlegend=True, title='Age Charges', xaxis=dict(title=\"Age Category\"), yaxis=dict(title=\"Patient Charges\"), bargap=0.15)\n",
    "iplot(fig, filename='custom-sized-subplot-with-subplot-titles')"
   ]
  },
  {
   "cell_type": "markdown",
   "metadata": {
    "_uuid": "6e098c3cc4bb6dd0e025da1ac3dce9a1fc5072e4"
   },
   "source": [
    "### Weight Status:\n",
    "https://www.cancer.org/cancer/cancer-causes/diet-physical-activity/body-weight-and-cancer-risk/adult-bmi.html\n",
    "\n",
    "<h4>Turning BMI into Categorical Variables: </h4>\n",
    "<a id=\"bmi_cat\"></a>\n",
    "<ul>\n",
    "    <li><b>Under Weight: </b> Body Mass Index (BMI) $<$ 18.5  </li>\n",
    "    <li><b>Normal Weight: </b>  Body Mass Index (BMI) $\\geq$ 18.5 and  Body Mass Index (BMI) $<$ 24.9 </li>\n",
    "    <li><b>Overweight: </b>  Body Mass Index (BMI) $\\geq$ 25 and  Body Mass Index (BMI) $<$ 29.9</li>\n",
    "    <li><b>Obese: </b>  Body Mass Index (BMI) $>$ 30 </li>\n",
    "    </ul>"
   ]
  },
  {
   "cell_type": "code",
   "execution_count": null,
   "metadata": {
    "_kg_hide-input": true,
    "_uuid": "0100ae1f9fcc2294860b0d8c29f876d2c18d832f",
    "trusted": true
   },
   "outputs": [],
   "source": [
    "df[\"weight_condition\"] = np.nan\n",
    "lst = [df]\n",
    "\n",
    "for col in lst:\n",
    "    col.loc[col[\"bmi\"] < 18.5, \"weight_condition\"] = \"Underweight\"\n",
    "    col.loc[(col[\"bmi\"] >= 18.5) & (col[\"bmi\"] < 24.986), \"weight_condition\"] = \"Normal Weight\"\n",
    "    col.loc[(col[\"bmi\"] >= 25) & (col[\"bmi\"] < 29.926), \"weight_condition\"] = \"Overweight\"\n",
    "    col.loc[col[\"bmi\"] >= 30, \"weight_condition\"] = \"Obese\"\n",
    "    \n",
    "df.head()"
   ]
  },
  {
   "cell_type": "code",
   "execution_count": null,
   "metadata": {
    "_kg_hide-input": true,
    "_uuid": "4bd0deba0dd09ac627ea6194b6b863a6ec879966",
    "trusted": true
   },
   "outputs": [],
   "source": [
    "# Create subpplots\n",
    "f, (ax1, ax2, ax3) = plt.subplots(ncols=3, figsize=(18,8))\n",
    "\n",
    "# I wonder if the cluster that is on the top is from obese people\n",
    "sns.stripplot(x=\"age_cat\", y=\"charges\", data=df, ax=ax1, linewidth=1, palette=\"Reds\")\n",
    "ax1.set_title(\"Relationship between Charges and Age\")\n",
    "\n",
    "\n",
    "sns.stripplot(x=\"age_cat\", y=\"charges\", hue=\"weight_condition\", data=df, ax=ax2, linewidth=1, palette=\"Set2\")\n",
    "ax2.set_title(\"Relationship of Weight Condition, Age and Charges\")\n",
    "\n",
    "sns.stripplot(x=\"smoker\", y=\"charges\", hue=\"weight_condition\", data=df, ax=ax3, linewidth=1, palette=\"Set2\")\n",
    "ax3.legend_.remove()\n",
    "ax3.set_title(\"Relationship between Smokers and Charges\")\n",
    "\n",
    "plt.show()"
   ]
  },
  {
   "cell_type": "code",
   "execution_count": null,
   "metadata": {
    "_uuid": "6d58d34154b464a8cd6455cd639103098ab98226",
    "trusted": true
   },
   "outputs": [],
   "source": [
    "# Make sure we don't have any null values\n",
    "df[df.isnull().any(axis=1)]"
   ]
  },
  {
   "cell_type": "markdown",
   "metadata": {
    "_uuid": "b5bfd92c34651e6ea02cb52f93259d0015dadc00"
   },
   "source": [
    "<h3> Weight Status vs Charges</h3>\n",
    "<a id=\"weight_charges\"></a>\n",
    "\n",
    "<ul>\n",
    "    <li> <b>Overweight: </b> Notice how there are two groups of people that get significantly charged more than the other group of overweight people. </li>\n",
    "    <li><b>Obese: </b> Same thing goes with the obese group, were a significant group is charged more than the other group. </li>\n",
    "    </ul>\n",
    "    \n",
    "**    Hmmm, might the smoking status have to do with this phenomenon?**<br> Let's find out!"
   ]
  },
  {
   "cell_type": "code",
   "execution_count": null,
   "metadata": {
    "_kg_hide-input": true,
    "_uuid": "5b04bcd46dcb732f8c11e49ba62388eeec4008ae",
    "trusted": true
   },
   "outputs": [],
   "source": [
    "fig = ff.create_facet_grid(\n",
    "    df,\n",
    "    x='age',\n",
    "    y='charges',\n",
    "    color_name='weight_condition',\n",
    "    show_boxes=False,\n",
    "    marker={'size': 10, 'opacity': 1.0},\n",
    "    colormap={'Underweight': 'rgb(208, 246, 130)', 'Normal Weight': 'rgb(166, 246, 130)',\n",
    "             'Overweight': 'rgb(251, 232, 238)', 'Obese': 'rgb(253, 45, 28)'}\n",
    ")\n",
    "251, 232, 238\n",
    "\n",
    "\n",
    "fig['layout'].update(title=\"Weight Status vs Charges\", width=800, height=600, plot_bgcolor='rgb(251, 251, 251)', \n",
    "                     paper_bgcolor='rgb(255, 255, 255)')\n",
    "\n",
    "\n",
    "iplot(fig, filename='facet - custom colormap')"
   ]
  },
  {
   "cell_type": "code",
   "execution_count": null,
   "metadata": {
    "_kg_hide-input": true,
    "_uuid": "f4ef78746793d14889479cc4d958a479aee1e232",
    "trusted": true
   },
   "outputs": [],
   "source": [
    "# First find the average or median of the charges obese people paid.\n",
    "\n",
    "obese_avg = df[\"charges\"].loc[df[\"weight_condition\"] == \"Obese\"].mean()\n",
    "\n",
    "df[\"charge_status\"] = np.nan\n",
    "lst = [df]\n",
    "\n",
    "\n",
    "for col in lst:\n",
    "    col.loc[col[\"charges\"] > obese_avg, \"charge_status\"] = \"Above Average\"\n",
    "    col.loc[col[\"charges\"] < obese_avg, \"charge_status\"] = \"Below Average\"\n",
    "    \n",
    "df.head()"
   ]
  },
  {
   "cell_type": "code",
   "execution_count": null,
   "metadata": {
    "_kg_hide-input": true,
    "_uuid": "24e090f4c1d2edcbac5452ece0efe49b235558c8",
    "trusted": true
   },
   "outputs": [],
   "source": [
    "# No Nulls\n",
    "df[\"charge_status\"].isnull().sum()"
   ]
  },
  {
   "cell_type": "markdown",
   "metadata": {
    "_uuid": "9ba9b92023caf0a4315bf4eba9212d429d9a907f"
   },
   "source": [
    "<h3> Obesity and the Impact of Smoking to the Wallet: </h3>\n",
    "<a id=\"obese_smoker\"> </a>\n",
    "<ul> \n",
    "    <li> Notice in the <b> charges </b> box how smoking looks to have a certain impact on medical costs.</li>\n",
    "    <li> Let's find out how much of a difference there is between the group of <b> obese </b> patients that smoke compared to the group of <b> obese </b> patients that don't smoke.</li>\n",
    "    </ul>"
   ]
  },
  {
   "cell_type": "code",
   "execution_count": null,
   "metadata": {
    "_kg_hide-input": true,
    "_uuid": "a01f702d12a684401f0c4de0a714d9ac054caf6c",
    "trusted": true
   },
   "outputs": [],
   "source": [
    "import seaborn as sns\n",
    "sns.set(style=\"ticks\")\n",
    "pal = [\"#FA5858\", \"#58D3F7\"]\n",
    "\n",
    "sns.pairplot(df, hue=\"smoker\", palette=pal)\n",
    "plt.title(\"Smokers\")"
   ]
  },
  {
   "cell_type": "code",
   "execution_count": null,
   "metadata": {
    "_kg_hide-input": true,
    "_uuid": "83c5ce81dcb4fc96c48cb202aa201e908609b870",
    "trusted": true
   },
   "outputs": [],
   "source": [
    "# What Percentage of Obese that Smoked Paid aBove Average from the total obese patients?\n",
    "# 79% of Obese were non-smokers while the 21% left were smokers\n",
    "total_obese = len(df.loc[df[\"weight_condition\"] == \"Obese\"])\n",
    "\n",
    "obese_smoker_prop = len(df.loc[(df[\"weight_condition\"] == \"Obese\") & (df[\"smoker\"] == \"yes\")])/total_obese\n",
    "obese_smoker_prop = round(obese_smoker_prop, 2)\n",
    "\n",
    "obese_nonsmoker_prop = len(df.loc[(df[\"weight_condition\"] == \"Obese\") & (df[\"smoker\"] == \"no\")])/total_obese\n",
    "obese_nonsmoker_prop = round(obese_nonsmoker_prop, 2)\n",
    "\n",
    "\n",
    "# Average charge by obese_smokers and obese_nonsmoker\n",
    "charge_obese_smoker = df.loc[(df[\"weight_condition\"] == \"Obese\") & (df[\"smoker\"] == \"yes\")].mean()\n",
    "charge_obese_nonsmoker = df.loc[(df[\"weight_condition\"] == \"Obese\") & (df[\"smoker\"] == \"no\")].mean()"
   ]
  },
  {
   "cell_type": "markdown",
   "metadata": {
    "_uuid": "1f3a5e40aea004444659779785cad0712fa1f1d4"
   },
   "source": [
    "<h4>Distribution of Charges (Obese Smoker vs Obese non-Smoker) </h4>\n",
    "<a id=\"obesevsnonobese_smokers\"></a>\n",
    "<ul> \n",
    "    <li><b>Violin Plots: </b> We will be using violin plots to <b>compare the distributions of patients of the obese group who are smokers and non-smokers. </b> </li>\n",
    "    <li><b> Obese smokers distribution: </b> Most obese smokers pay around 40k in medical costs! </li>\n",
    "    <li> <b>Obese non-smokers distribution: </b> Most obese non-smokers pay 8k in medical costs. </li>\n",
    "    <li> <b> Smoking a factor to the wallet </b> Smoking is defninitely a big factor for obese patients when it comes to medical cost. A difference of more than 30k!</li>\n",
    "    </ul>"
   ]
  },
  {
   "cell_type": "code",
   "execution_count": null,
   "metadata": {
    "_kg_hide-input": true,
    "_uuid": "9e2af84d5685c0358c55d67fe7c73383e375943f",
    "trusted": true
   },
   "outputs": [],
   "source": [
    "\n",
    "pointspossmoker = [-0.9,-1.1,-0.6,-0.3]\n",
    "pointposnonsmoker = [0.45,0.55,1,0.4]\n",
    "showLegend = [True,False,False,False]\n",
    "\n",
    "data = []\n",
    "for i in range(0,len(pd.unique(df['weight_condition']))):\n",
    "    male = {\n",
    "            \"type\": 'violin',\n",
    "            \"x\": df['weight_condition'][ (df['smoker'] == 'yes') & (df['weight_condition'] == pd.unique(df['weight_condition'])[i]) ],\n",
    "            \"y\": df['charges'][ (df['smoker'] == 'yes') & (df['weight_condition'] == pd.unique(df['weight_condition'])[i]) ],\n",
    "            \"legendgroup\": 'Smoker',\n",
    "            \"scalegroup\": 'Smoker',\n",
    "            \"name\": 'Smoker',\n",
    "            \"side\": 'negative',\n",
    "            \"box\": {\n",
    "                \"visible\": True\n",
    "            },\n",
    "            \"points\": 'all',\n",
    "            \"pointpos\": pointspossmoker[i],\n",
    "            \"jitter\": 0,\n",
    "            \"scalemode\": 'count',\n",
    "            \"meanline\": {\n",
    "                \"visible\": True\n",
    "            },\n",
    "            \"line\": {\n",
    "                \"color\": '#DF0101'\n",
    "            },\n",
    "            \"marker\": {\n",
    "                \"line\": {\n",
    "                    \"width\": 2,\n",
    "                    \"color\": '#F78181'\n",
    "                }\n",
    "            },\n",
    "            \"span\": [\n",
    "                0\n",
    "            ],\n",
    "            \"showlegend\": showLegend[i]\n",
    "        }\n",
    "    data.append(male)\n",
    "    female = {\n",
    "            \"type\": 'violin',\n",
    "            \"x\": df['weight_condition'] [ (df['smoker'] == 'no') & (df['weight_condition'] == pd.unique(df['weight_condition'])[i]) ],\n",
    "            \"y\": df['charges'] [ (df['smoker'] == 'no') & (df['weight_condition'] == pd.unique(df['weight_condition'])[i]) ],\n",
    "            \"legendgroup\": 'Non-Smoker',\n",
    "            \"scalegroup\": 'Non-Smoker',\n",
    "            \"name\": 'Non-Smoker',\n",
    "            \"side\": 'positive',\n",
    "            \"box\": {\n",
    "                \"visible\": True\n",
    "            },\n",
    "            \"points\": 'all',\n",
    "            \"pointpos\": pointposnonsmoker[i],\n",
    "            \"jitter\": 0,\n",
    "            \"scalemode\": 'count',\n",
    "            \"meanline\": {\n",
    "                \"visible\": True\n",
    "            },\n",
    "            \"line\": {\n",
    "                \"color\": '#00FF40'\n",
    "            },\n",
    "            \"marker\": {\n",
    "                \"line\": {\n",
    "                    \"width\": 2,\n",
    "                    \"color\": '#81F781'\n",
    "                }\n",
    "            },\n",
    "            \"span\": [\n",
    "                0\n",
    "            ],\n",
    "            \"showlegend\": showLegend[i]\n",
    "        }\n",
    "    data.append(female)\n",
    "        \n",
    "\n",
    "fig = {\n",
    "    \"data\": data,\n",
    "    \"layout\" : {\n",
    "        \"title\": \"Charges Distribution of Obese Patients<br><i>Group by Smoking Status\",\n",
    "        \"yaxis\": {\n",
    "            \"zeroline\": False,\n",
    "            \"title\": \"Patient Charges\",\n",
    "            \"titlefont\": {\n",
    "                \"size\": 16\n",
    "            }\n",
    "        },\n",
    "        \"violingap\": 0,\n",
    "        \"violingroupgap\": 0,\n",
    "        \"violinmode\": \"overlay\"\n",
    "    }\n",
    "}\n",
    "\n",
    "\n",
    "iplot(fig, filename='violin/advanced', validate = False)"
   ]
  },
  {
   "cell_type": "code",
   "execution_count": null,
   "metadata": {
    "_kg_hide-input": true,
    "_uuid": "0540e3fca71cc134cffff0a6b8be6d2dec08a7be",
    "trusted": true
   },
   "outputs": [],
   "source": [
    "# Hmmm we have to look closer into Obsese there is an obvious difference\n",
    "\n",
    "chargedist_sm = df[\"charges\"].loc[(df[\"weight_condition\"] == \"Obese\") & (df[\"smoker\"] == \"yes\")].values\n",
    "chargedist_nsm = df[\"charges\"].loc[(df[\"weight_condition\"] == \"Obese\") & (df[\"smoker\"] == \"no\")].values\n",
    "\n",
    "trace0 = go.Box(\n",
    "    y=chargedist_sm,\n",
    "    name = 'Obese Smokers',\n",
    "    marker = dict(\n",
    "        color = '#DF0101',\n",
    "    )\n",
    ")\n",
    "trace1 = go.Box(\n",
    "    y=chargedist_nsm,\n",
    "    name = 'Obese Non-Smokers',\n",
    "    marker = dict(\n",
    "        color = '#00FF40',\n",
    "    )\n",
    ")\n",
    "\n",
    "\n",
    "data = [trace0, trace1]\n",
    "\n",
    "\n",
    "layout = dict(title=\"Deeper Look into Obese condition by Smoking status\",\n",
    "             xaxis=dict(\n",
    "             title=\"Status\",\n",
    "             titlefont=dict(\n",
    "             size=16)),\n",
    "             yaxis=dict(title=\"Patient Charges\",\n",
    "                       titlefont=dict(size=16)),\n",
    "              )\n",
    "\n",
    "fig = go.Figure(data=data, layout=layout)\n",
    "iplot(fig)"
   ]
  },
  {
   "cell_type": "markdown",
   "metadata": {
    "_uuid": "e8bbca189ea741d6a51ab4b221588faa65143e4b"
   },
   "source": [
    "<h4>Separation in Charges between Obese Smokers vs Non-Obese Smokers </h4>\n",
    "<a id=\"separation\"></a>\n",
    "In this chart we can visualize how can <b> separate</b> obese smokers and obese non-smokers into different <b> clusters </b> of groups. Therefore, we can say that smoking is a <b>characteristic</b> that definitely affects patient's charges."
   ]
  },
  {
   "cell_type": "code",
   "execution_count": null,
   "metadata": {
    "_kg_hide-input": true,
    "_uuid": "e2cfc01e41283c9485ad64b2096a16f8d2f5b928",
    "trusted": true
   },
   "outputs": [],
   "source": [
    "# Create a Scatter Plot with all the Obese\n",
    "obese_smoker = df.loc[(df[\"weight_condition\"] == \"Obese\") & (df[\"smoker\"] == \"yes\")]\n",
    "obese_nonsmoker = df.loc[(df[\"weight_condition\"] == \"Obese\") & (df[\"smoker\"] == \"no\")]\n",
    "\n",
    "\n",
    "trace0 = go.Scatter(\n",
    "    x = obese_smoker[\"age\"].values,\n",
    "    y = obese_smoker[\"charges\"].values,\n",
    "    name = 'Smokers',\n",
    "    mode = 'markers',\n",
    "    marker = dict(\n",
    "        size = 10,\n",
    "        color = '#DF0101',\n",
    "        line = dict(\n",
    "            width = 2,\n",
    "            color = 'rgb(0, 0, 0)'\n",
    "        )\n",
    "    )\n",
    ")\n",
    "\n",
    "trace1 = go.Scatter(\n",
    "    x = obese_nonsmoker[\"age\"].values,\n",
    "    y = obese_nonsmoker[\"charges\"].values,\n",
    "    name = 'Non-Smokers',\n",
    "    mode = 'markers',\n",
    "    marker = dict(\n",
    "        size = 10,\n",
    "        color = '#00FF40',\n",
    "        line = dict(\n",
    "            width = 2,\n",
    "        )\n",
    "    )\n",
    ")\n",
    "\n",
    "data = [trace0, trace1]\n",
    "\n",
    "layout = dict(title = 'Clear Separation between Obese Smokers and Non-Smokers in Charges',\n",
    "              yaxis = dict(zeroline = False,\n",
    "                          title=\"Patient Charges\",\n",
    "                          titlefont=dict(size=16)),\n",
    "              xaxis = dict(zeroline = False,\n",
    "                          title=\"Age of the Patient\",\n",
    "                          titlefont=dict(\n",
    "                          size=16))\n",
    "             )\n",
    "\n",
    "fig = dict(data=data, layout=layout)\n",
    "iplot(fig, filename='styled-scatter')"
   ]
  },
  {
   "cell_type": "markdown",
   "metadata": {
    "_uuid": "ce5e6db5c5b2ea741159590197de516aeb25130c"
   },
   "source": [
    "<h2 align=\"center\"><b>Regional Analysis: </b></h2>\n",
    "<h3> Building a Contingency Table: </h3>\n",
    "<a id=\"building_contingency\">"
   ]
  },
  {
   "cell_type": "code",
   "execution_count": null,
   "metadata": {
    "_kg_hide-input": true,
    "_uuid": "58fb21d954701a70cc37e8038bb30f24d1b5b301",
    "trusted": true
   },
   "outputs": [],
   "source": [
    "# Cont table by weight condition and sex\n",
    "df.head()\n",
    "\n",
    "region_smoker = pd.crosstab(df['smoker'], df['region']).apply(lambda x: x/x.sum() * 100)\n",
    "region_smoker"
   ]
  },
  {
   "cell_type": "code",
   "execution_count": null,
   "metadata": {
    "_kg_hide-input": true,
    "_uuid": "5a4c091b1517caecaa4c1278d91e0a712afcdcb3",
    "trusted": true
   },
   "outputs": [],
   "source": [
    "plt.style.use('seaborn-whitegrid')\n",
    "\n",
    "ticks = df['age_cat'].unique()\n",
    "colors = ['#ff2424', '#90ee90']\n",
    "\n",
    "\n",
    "ax = sns.catplot(x=\"age_cat\", y=\"charges\", hue=\"smoker\",\n",
    "                 col=\"region\", aspect=.6,\n",
    "                 kind=\"swarm\", palette=colors, data=df);\n",
    "\n",
    "ax.set_xticklabels(labels = ticks, rotation=45)\n",
    "\n",
    "plt.show()"
   ]
  },
  {
   "cell_type": "code",
   "execution_count": null,
   "metadata": {
    "_kg_hide-input": true,
    "_uuid": "c8974c0df0884339df18fbbe771f03f6869805d1",
    "trusted": true
   },
   "outputs": [],
   "source": [
    "# Obesity per region\n",
    "region_weight = pd.crosstab(df['weight_condition'], df['region']).apply(lambda x: x/x.sum() * 100)\n",
    "region_weight = round(region_weight, 2)\n",
    "region_weight"
   ]
  },
  {
   "cell_type": "markdown",
   "metadata": {
    "_uuid": "4fbec3e4392eed86e9d93130c9cbd94098b04020"
   },
   "source": [
    "<h3>Average Patient Charge by Region: </h3>\n",
    "<a id=\"average_region\"></a>\n",
    "<ul>\n",
    "    <li><b> Median Patient Charges: </b> The <b>NorthEast</b> is the region that pays the most on average while the <b>SouthWest</b> is the one that pays </li>\n",
    "    <li><b>Obese group: </b> From the obese group, the Southwest is the region where obese patients pay the most..</li>\n",
    "    <li><b>Overweight: </b> From the obese group, the NorthWest is the region where obese patients pay the most.  </li>\n",
    "    <li><b>Normal Weight: </b> From the obese group, the SouthEast is the region where obese patients pay the most.  </li>\n",
    "    <li><b>Underweight: </b> From the obese group, the NorthWest is the region where obese patients pay the most.</li>\n",
    "    </ul>"
   ]
  },
  {
   "cell_type": "code",
   "execution_count": null,
   "metadata": {
    "_kg_hide-input": true,
    "_uuid": "11288a683829602dbd821002d7650fc14d727520",
    "trusted": true
   },
   "outputs": [],
   "source": [
    "df.head()\n",
    "\n",
    "\n",
    "# Average charge by Region\n",
    "df[\"region\"].unique()\n",
    "\n",
    "# Median Charges per Region\n",
    "southwest = np.median(df[\"charges\"].loc[df[\"region\"] == \"southwest\"].values)\n",
    "southeast = np.median(df[\"charges\"].loc[df[\"region\"] == \"southeast\"].values)\n",
    "northwest = np.median(df[\"charges\"].loc[df[\"region\"] == \"northwest\"].values)\n",
    "northeast = np.median(df[\"charges\"].loc[df[\"region\"] == \"northeast\"].values)\n",
    "\n",
    "lst = [southwest, southeast, northwest, northeast]\n",
    "\n",
    "data = [go.Scatterpolar(\n",
    "  r = [southwest, southeast, northwest, northeast],\n",
    "  theta = ['SouthWest', 'SouthEast', 'NorthWest', 'NorthEast'],\n",
    "  fill = 'toself'\n",
    ")]\n",
    "\n",
    "layout = go.Layout(\n",
    "    title=\"Median Charged to Patients by Region\",\n",
    "    paper_bgcolor = \"rgb(255, 255, 224)\",\n",
    "  polar = dict(\n",
    "    radialaxis = dict(\n",
    "      visible = True,\n",
    "      range = [0, max(lst)]\n",
    "    )\n",
    "  ),\n",
    "  showlegend = False\n",
    ")\n",
    "\n",
    "\n",
    "fig = go.Figure(data=data, layout=layout)\n",
    "iplot(fig, filename = \"radar/basic\")"
   ]
  },
  {
   "cell_type": "markdown",
   "metadata": {
    "_uuid": "05cf2312b514e37157254621fa73d75c7843eb95"
   },
   "source": [
    "<h4>Average Charge by Region depending on the Weight Condition: </h4>\n",
    "<a id=\"charge_condition\"></a>\n"
   ]
  },
  {
   "cell_type": "code",
   "execution_count": null,
   "metadata": {
    "_kg_hide-input": true,
    "_uuid": "9cd67393099c207ed75993b8a72cd3866ad89587",
    "trusted": true
   },
   "outputs": [],
   "source": [
    "# Weight Condition by Region Radar plots\n",
    "\n",
    "df[\"weight_condition\"].unique()\n",
    "\n",
    "# Average charges for overweight patients by region \n",
    "sw_overweight = np.mean(df[\"charges\"].loc[(df[\"region\"] == \"southwest\") & (df[\"weight_condition\"] == \"Overweight\")].values)\n",
    "se_overweight = np.mean(df[\"charges\"].loc[(df[\"region\"] == \"southeast\") & (df[\"weight_condition\"] == \"Overweight\")].values)\n",
    "nw_overweight = np.mean(df[\"charges\"].loc[(df[\"region\"] == \"northwest\") & (df[\"weight_condition\"] == \"Overweight\")].values)\n",
    "ne_overweight = np.mean(df[\"charges\"].loc[(df[\"region\"] == \"northeast\") & (df[\"weight_condition\"] == \"Overweight\")].values)\n",
    "\n",
    "# Obese\n",
    "sw_obese = np.mean(df[\"charges\"].loc[(df[\"region\"] == \"southwest\") & (df[\"weight_condition\"] == \"Obese\")].values)\n",
    "se_obese = np.mean(df[\"charges\"].loc[(df[\"region\"] == \"southeast\") & (df[\"weight_condition\"] == \"Obese\")].values)\n",
    "nw_obese = np.mean(df[\"charges\"].loc[(df[\"region\"] == \"northwest\") & (df[\"weight_condition\"] == \"Obese\")].values)\n",
    "ne_obese = np.mean(df[\"charges\"].loc[(df[\"region\"] == \"northeast\") & (df[\"weight_condition\"] == \"Obese\")].values)\n",
    "\n",
    "# Normal Weight\n",
    "sw_nw = np.mean(df[\"charges\"].loc[(df[\"region\"] == \"southwest\") & (df[\"weight_condition\"] == \"Normal Weight\")].values)\n",
    "se_nw = np.mean(df[\"charges\"].loc[(df[\"region\"] == \"southeast\") & (df[\"weight_condition\"] == \"Normal Weight\")].values)\n",
    "nw_nw = np.mean(df[\"charges\"].loc[(df[\"region\"] == \"northwest\") & (df[\"weight_condition\"] == \"Normal Weight\")].values)\n",
    "ne_nw = np.mean(df[\"charges\"].loc[(df[\"region\"] == \"northeast\") & (df[\"weight_condition\"] == \"Normal Weight\")].values)\n",
    "\n",
    "# Underweight\n",
    "sw_uw = np.mean(df[\"charges\"].loc[(df[\"region\"] == \"southwest\") & (df[\"weight_condition\"] == \"Underweight\")].values)\n",
    "se_uw = np.mean(df[\"charges\"].loc[(df[\"region\"] == \"southeast\") & (df[\"weight_condition\"] == \"Underweight\")].values)\n",
    "nw_uw = np.mean(df[\"charges\"].loc[(df[\"region\"] == \"northwest\") & (df[\"weight_condition\"] == \"Underweight\")].values)\n",
    "ne_uw = np.mean(df[\"charges\"].loc[(df[\"region\"] == \"northeast\") & (df[\"weight_condition\"] == \"Underweight\")].values)\n",
    "\n",
    "# Labels\n",
    "weight_labels = df[\"weight_condition\"].unique().tolist()\n",
    "\n",
    "# List per weight condition\n",
    "sw_weights = [sw_overweight, sw_obese, sw_nw, sw_uw]\n",
    "se_weights = [se_overweight, se_overweight, se_nw, se_uw]\n",
    "nw_weights = [nw_overweight, nw_overweight, nw_nw, nw_uw]\n",
    "ne_weights = [ne_overweight, ne_overweight, ne_nw, ne_uw]\n",
    "\n",
    "data = [\n",
    "    go.Scatterpolar(\n",
    "        mode=\"lines+markers\",\n",
    "        r = sw_weights,\n",
    "        theta = weight_labels,\n",
    "        fill = 'toself',\n",
    "        name=\"SouthWest\",\n",
    "        line=dict(\n",
    "            color=\"rgba(0, 128, 128, 0.95)\"\n",
    "        ),\n",
    "        marker=dict(\n",
    "            color=\"rgba(0, 74, 147, 1)\",\n",
    "            symbol=\"square\",\n",
    "            size=8\n",
    "        ),\n",
    "        subplot = \"polar\"\n",
    "    ),\n",
    "    go.Scatterpolar(\n",
    "        mode=\"lines+markers\",\n",
    "        r = se_weights,\n",
    "        theta = weight_labels,\n",
    "        fill = 'toself',\n",
    "        name=\"SouthEast\",\n",
    "        line=dict(\n",
    "            color=\"rgba(255, 72, 72, 0.95)\"\n",
    "        ),\n",
    "        marker=dict(\n",
    "            color=\"rgba(219, 0, 0, 1)\",\n",
    "            symbol=\"square\",\n",
    "            size=8\n",
    "        ),\n",
    "        subplot = \"polar2\"\n",
    "    ),\n",
    "    go.Scatterpolar(\n",
    "        mode=\"lines+markers\",\n",
    "        r = nw_weights,\n",
    "        theta = weight_labels,\n",
    "        fill = 'toself',\n",
    "        name=\"NorthWest\",\n",
    "        line=dict(\n",
    "            color=\"rgba(72, 255, 72, 0.95)\"\n",
    "        ),\n",
    "        marker=dict(\n",
    "            color=\"rgba(0, 147, 74, 1)\",\n",
    "            symbol=\"square\",\n",
    "            size=8\n",
    "        ),\n",
    "        subplot = \"polar3\"\n",
    "    ),\n",
    "       go.Scatterpolar(\n",
    "        mode=\"lines+markers\",\n",
    "        r = ne_weights,\n",
    "        theta = weight_labels,\n",
    "        fill = 'toself',\n",
    "        name=\"NorthEast\",\n",
    "        line=dict(\n",
    "            color=\"rgba(247, 133, 11, 0.95)\"\n",
    "        ),\n",
    "        marker=dict(\n",
    "            color=\"rgba(245, 168, 86, 1)\",\n",
    "            symbol=\"square\",\n",
    "            size=8\n",
    "        ),\n",
    "        subplot = \"polar4\"\n",
    "    )\n",
    "]\n",
    "\n",
    "layout = go.Layout(\n",
    "    title=\"Average Patient Charges <br> by Region <br>(Depending on the Patient's Weight Condition)\",\n",
    "    showlegend = False,\n",
    "     paper_bgcolor = \"rgb(252, 234, 161)\",\n",
    "    polar = dict(\n",
    "      domain = dict(\n",
    "        x = [0, 0.46],\n",
    "        y = [0.56, 1]\n",
    "      ),\n",
    "      radialaxis = dict(\n",
    "        tickfont = dict(\n",
    "          size = 6\n",
    "        )\n",
    "      ),\n",
    "      angularaxis = dict(\n",
    "        tickfont = dict(\n",
    "          size = 8\n",
    "        ),\n",
    "        rotation = 40,\n",
    "        direction = \"clockwise\"\n",
    "      )\n",
    "    ),\n",
    "    polar2 = dict(\n",
    "      domain = dict(\n",
    "        x = [0, 0.46],\n",
    "        y = [0, 0.44]\n",
    "      ),\n",
    "      radialaxis = dict(\n",
    "        tickfont = dict(\n",
    "          size = 6\n",
    "        )\n",
    "      ),\n",
    "      angularaxis = dict(\n",
    "        tickfont = dict(\n",
    "          size = 8\n",
    "        ),\n",
    "        rotation = 40,\n",
    "        direction = \"clockwise\"\n",
    "      ),\n",
    "    ),\n",
    "    polar3 = dict(\n",
    "      domain = dict(\n",
    "       x = [0.54, 1],\n",
    "        y = [0.56, 1]\n",
    "      ),\n",
    "      radialaxis = dict(\n",
    "        tickfont = dict(\n",
    "          size = 6\n",
    "        )\n",
    "      ),\n",
    "      angularaxis = dict(\n",
    "        tickfont = dict(\n",
    "          size = 8\n",
    "        ),\n",
    "        rotation = 40,\n",
    "        direction = \"clockwise\"\n",
    "      ),\n",
    "    ),\n",
    "        polar4 = dict(\n",
    "      domain = dict(\n",
    "        x = [0.54, 1],\n",
    "        y = [0, 0.44]\n",
    "      ),\n",
    "      radialaxis = dict(\n",
    "        tickfont = dict(\n",
    "          size = 6\n",
    "        )\n",
    "      ),\n",
    "      angularaxis = dict(\n",
    "        tickfont = dict(\n",
    "          size = 8\n",
    "        ),\n",
    "        rotation = 40,\n",
    "        direction = \"clockwise\"\n",
    "      ),\n",
    "    ))\n",
    "\n",
    "fig = go.Figure(data=data, layout=layout)\n",
    "fig['layout'].update(height=800, width=800)\n",
    "iplot(fig, filename='polar/directions')"
   ]
  },
  {
   "cell_type": "markdown",
   "metadata": {
    "_uuid": "b04773901ddd54994769cf7bbe53a78efa303b04"
   },
   "source": [
    "<h2 align=\"center\">Unsupervised Learning: </h2>\n",
    "<h3>Performing Clustering in a Manual Way: </h3>\n",
    "<a id=\"manual_cluster\"></a>\n",
    "In the first plot we will do a cluster analysis in a manual form and see what our eyes can discover. Here are the following results from the manual cluster analysis performed.\n",
    "<ul>\n",
    "    <li><b> Age and Charges: </b> We can see there is a slight increase in charges depending on the age of the patient. </li>\n",
    "    <li><b> Obese Clusters: </b> We can see that for each age group there are clusters of the obese group in the top part of charges. </li>\n",
    "    <li><b>Are these clusters Smokers? </b> As seen in the right chart, most of this clusters are definitely smokers.  </li>\n",
    "    \n",
    "</ul>\n",
    "\n",
    "This is somewhat the same as we have explored in the previous section, but I wanted to add the factor of <b> age </b> to see until what extent this variable patient's charges. Nevertheless, we can still confirm that being obese and a smoker is the <b>grand major </b> factor at least for the group of obese and overweight patients. <br><br>\n",
    "\n",
    "<b> Thanks to  Bhumika Bhatt for adding the factor of age with the combination of weight condition and smoking status </b>"
   ]
  },
  {
   "cell_type": "code",
   "execution_count": null,
   "metadata": {
    "_kg_hide-input": true,
    "_uuid": "467a4e2b53ad6ac53a5f1f900d01077af192cc79",
    "trusted": true
   },
   "outputs": [],
   "source": [
    "# Two subplots one with weight condition and the other with smoker.\n",
    "\n",
    "f, (ax1, ax2) = plt.subplots(ncols=2, figsize=(18,8))\n",
    "sns.scatterplot(x=\"bmi\", y=\"charges\", hue=\"weight_condition\", data=df, palette=\"Set1\", ax=ax1)\n",
    "ax1.set_title(\"Relationship between Charges and BMI by Weight Condition\")\n",
    "ax1.annotate('Obese Cluster \\n (Does this cluster has \\n the Smoking Attribute?)', xy=(37, 50000), xytext=(30, 60000),\n",
    "            arrowprops=dict(facecolor='black'),\n",
    "            fontsize=12)\n",
    "sns.scatterplot(x=\"bmi\", y=\"charges\", hue=\"smoker\", data=df, palette=\"Set1\", ax=ax2)\n",
    "ax2.set_title(\"Relationship between Charges and BMI by Smoking Condition\")\n",
    "ax2.annotate('Obese Smoker Cluster ', xy=(35, 48000), xytext=(20, 60000),\n",
    "            arrowprops=dict(facecolor='black'),\n",
    "            fontsize=12)\n",
    "ax2.annotate('The Impact of Smoking to \\n Charges on other \\n Weight Conditions ', xy=(25, 26000), xytext=(17, 40000),\n",
    "            arrowprops=dict(facecolor='black'),\n",
    "            fontsize=12)"
   ]
  },
  {
   "cell_type": "markdown",
   "metadata": {
    "_uuid": "dedef806ecb6799b4971611016ffdbb6b0cd5ba0"
   },
   "source": [
    "<h2 align=\"center\"> <b>Understanding KMeans Clustering: </b> </h2>\n",
    "<a id=\"Kmeans\"></a>\n",
    "<img src=\"https://media.giphy.com/media/12vVAGkaqHUqCQ/giphy.gif\"><br><br>\n",
    "\n",
    "\n",
    "<h3> Before We Start Explaining the Elbow Method and KMeans Neighbors.  </h3>\n",
    "The elbow method is mostly used in unsupervised learning algorithms to determine the <b> optimal number of clusters </b> that should be used to find specific unknown groups within our population. We used the <b>yellowbrick </b> library to implement a simple elbow method and to determine the appropiate number of clusters in our KMeans algorithm. <br><br>\n",
    "\n",
    "<h3>Terms to Know: </h3>\n",
    "<ul>\n",
    "    <li><b> Cluster Centroids: </b> The cluster centroid is the most representative point of a specific cluster. So, if we decide to find three clusters, we will have three cluster centroid. </li>\n",
    "    <li><b>Euclidean Distance: </b> Is the distance between two data points and this term is essential when gathering the distance between the cluster centroids and the data points.  </li>\n",
    "    <li><b> Elbow Method: </b> The elbow method is a technique used to choose the most optimal number of clusters. Remember, in Kmeans clustering we add the number of clusters in a manual way, so the elbow method is useful when using Kmeans. Why is it called the Elbow method? Because as more iterations run to find the optimal number of clusters, the line will take the shape of the arm and the optimal number of clusters is the point that is in the elbow part of the arm. </li>\n",
    "</ul>\n",
    "\n",
    "<h3> Euclidean Distance Formula: </h3>\n",
    "$\\LARGE d(x,y) = \\sqrt{(x_1 - x_2)^2 + (y_1 - y_2)^2}$<br>\n",
    "\n",
    "where: <br>\n",
    "$x_1$ = X-axis value of  data observation <br>\n",
    "$x_2$ = X-axis value of the cluster centroid <br>\n",
    "$y_1$ = Y-axis value of the data observation. <br>\n",
    "$y_2$ = Y-axis value of the cluster centroid. <br>\n",
    "\n",
    "<h3> Explaining the Elbow Method: </h3>\n",
    "The elbow method finds the average sum of squares distance between the cluster centroid and the data observations. As the number of cluster increases the average sum of squares decreases. Basically, as the number of clusters increases, the distance between the data points and the centroids decreases as well. Whenever, we see the \"elbow\" that is a rule of thumb to consider the optimal number of clusters.\n",
    "\n",
    "\n",
    "<h3 align=\"center\">How the Elbow Method Looks Like: </h3>\n",
    "<img src=\"https://media.licdn.com/dms/image/C4E12AQHnQ7zAvCnvZg/article-inline_image-shrink_1500_2232/0?e=1553126400&v=beta&t=_QjaAH2ydyzjy3qVwAvV9Zi1WictiLOEam9L6YuSdI4\" width=600>\n",
    "\n"
   ]
  },
  {
   "cell_type": "code",
   "execution_count": null,
   "metadata": {
    "_kg_hide-input": true,
    "_uuid": "7aed64f0a6be551c149c74c6d0acb0f90eca8dc2",
    "trusted": true
   },
   "outputs": [],
   "source": [
    "from sklearn.cluster import KMeans\n",
    "from yellowbrick.cluster import KElbowVisualizer\n",
    "\n",
    "fig = plt.figure(figsize=(12,8))\n",
    "\n",
    "# KNears Neighbors \n",
    "df.head()\n",
    "original_df.head()\n",
    "\n",
    "X = df[[\"bmi\", \"charges\"]]\n",
    "\n",
    "\n",
    "# Instantiate the clustering model and visualizer\n",
    "model = KMeans()\n",
    "visualizer = KElbowVisualizer(model, k=(2,6))\n",
    "\n",
    "visualizer.fit(X)    # Fit the data to the visualizer\n",
    "visualizer.poof()  "
   ]
  },
  {
   "cell_type": "code",
   "execution_count": null,
   "metadata": {
    "_kg_hide-input": true,
    "_uuid": "7301104e13d3109dada8479f6077451466b8275f",
    "trusted": true
   },
   "outputs": [],
   "source": [
    "import pandas as pd\n",
    "from sklearn.datasets import load_iris\n",
    "from sklearn.cluster import KMeans\n",
    "import matplotlib.pyplot as plt\n",
    "\n",
    "kmeans = KMeans(n_clusters=3)  \n",
    "kmeans.fit(X)"
   ]
  },
  {
   "cell_type": "code",
   "execution_count": null,
   "metadata": {
    "_kg_hide-input": true,
    "_uuid": "fec2ddbf93883a4b974e67a152dc8a50ef3a5bf0",
    "trusted": true
   },
   "outputs": [],
   "source": [
    "# Printing the Centroids\n",
    "print(kmeans.cluster_centers_)"
   ]
  },
  {
   "cell_type": "code",
   "execution_count": null,
   "metadata": {
    "_kg_hide-input": true,
    "_uuid": "6c85a46f6bcb7e4d832cccd0dcb4cf40234a32b8",
    "trusted": true
   },
   "outputs": [],
   "source": [
    "print(kmeans.labels_)"
   ]
  },
  {
   "cell_type": "code",
   "execution_count": null,
   "metadata": {
    "_kg_hide-input": true,
    "_uuid": "7386b98eb15e85d65a6709ce447b3479d9029786",
    "trusted": true
   },
   "outputs": [],
   "source": [
    "fig = plt.figure(figsize=(12,8))\n",
    "\n",
    "plt.scatter(X.values[:,0], X.values[:,1], c=kmeans.labels_, cmap=\"Set1_r\", s=25)\n",
    "plt.scatter(kmeans.cluster_centers_[:,0] ,kmeans.cluster_centers_[:,1], color='black', marker=\"x\", s=250)\n",
    "plt.title(\"Kmeans Clustering \\n Finding Unknown Groups in the Population\", fontsize=16)\n",
    "plt.show()"
   ]
  },
  {
   "cell_type": "markdown",
   "metadata": {
    "_uuid": "f7794edf613351c5aa6d8b9420723c26a1062a6b",
    "trusted": true
   },
   "source": [
    "<h2> Adding more Clusters with Hierarchical Clustering:</h2>\n",
    "<img src=\"https://www.saedsayad.com/images/Clustering_h1.png\" width=800><br><br>\n",
    "\n",
    "We use a dendogram as show above to show how two clusters are merged into one big cluster.\n",
    "\n",
    "<h3> Two types of Approaches: </b>\n",
    "<ul>\n",
    "    <li><b> Agglomerative (bottom-up):</b> Each observation starts as <b>one cluster.</b> Based on the distance of those clusters (in this case observations) it will <b> merge </b> into one cluster. For instance, let's say observation A (Cluster A) and observation B (Cluster B) are two different clusters that are within a close distance. So in essence, it combines the two nearest clusters into one bigger cluster. Remember, as with K-Means clustering each cluster is represented by the <b>centroid </b> which is the average position of the data points (observations). Then each centroid will merge either with other centroids from other clusters or with individual observations which are considered to be individual clusters.</li>\n",
    "    <li><b>Divisive (Top-Bottom): </b>  With this approach we start at the top with <b>one big cluster.</b> The cluster will be partitioned at a point where it splits the big cluster into two big ones and it will run K-means into each of the clusters splitting the data further down. This will get to a point where the observations cannot be split any more since each observation becomes its own cluster. If you want to understand more about K-means look at the previos example at the top of hierarchical clustering. In practice, the divisive method is not used as often as the Agglomerative method. </li>\n",
    "    \n",
    "</ul>\n",
    "    \n",
    "<h3> <b>What does the dendogram represent?</b> </h3>\n",
    "To make things simple starting from the bottom, each leaf means that two observations or clusters have been merged into one bigger cluster like we explained in the Agglomerative approach. In other words it shows the \"hierarchical\" relationship between the clusters.\n"
   ]
  },
  {
   "cell_type": "code",
   "execution_count": null,
   "metadata": {
    "_kg_hide-input": true,
    "_uuid": "987d1b23b07fe4b7cddbc1414240098b923ba39b",
    "trusted": true
   },
   "outputs": [],
   "source": [
    "from sklearn.cluster import AgglomerativeClustering\n",
    "\n",
    "X = df[[\"bmi\", \"charges\"]]\n",
    "\n",
    "agglomerative_clustering = AgglomerativeClustering(n_clusters=4).fit(X)\n",
    "agglomerative_clustering"
   ]
  },
  {
   "cell_type": "code",
   "execution_count": null,
   "metadata": {
    "_kg_hide-input": true,
    "_uuid": "d98eeb3eecc27e4973fa93853aa30bd85d2ab34c",
    "trusted": true
   },
   "outputs": [],
   "source": [
    "from scipy.cluster.hierarchy import dendrogram, linkage\n",
    "\n",
    "# 5% of the data \n",
    "sample_df = df.sample(frac=.05)\n",
    "\n",
    "sample_X = sample_df[[\"bmi\", \"charges\"]]\n",
    "\n",
    "sample_agglomerative_clustering = AgglomerativeClustering(n_clusters=4).fit(sample_X)\n",
    "sample_agglomerative_clustering\n",
    "\n",
    "\n",
    "linked = linkage(sample_agglomerative_clustering.children_, 'single')"
   ]
  },
  {
   "cell_type": "code",
   "execution_count": null,
   "metadata": {
    "_kg_hide-input": true,
    "_uuid": "dd537fef7c553b4126ffacb88274f2e2d25a59cf",
    "trusted": true
   },
   "outputs": [],
   "source": [
    "agglomerative_clustering.labels_"
   ]
  },
  {
   "cell_type": "code",
   "execution_count": null,
   "metadata": {
    "_kg_hide-input": true,
    "_uuid": "b62906f6599027deabd67918e5cd2e2bd0728aba",
    "trusted": true
   },
   "outputs": [],
   "source": [
    "print(plt.style.available)"
   ]
  },
  {
   "cell_type": "code",
   "execution_count": null,
   "metadata": {
    "_kg_hide-input": true,
    "_uuid": "63dc486ce52eb6d637437d3d33d3d955f8e2f4a7",
    "trusted": true
   },
   "outputs": [],
   "source": [
    "plt.style.use(\"Solarize_Light2\")\n",
    "\n",
    "fig, (ax1, ax2) = plt.subplots(ncols=2, figsize=(16,6))\n",
    "\n",
    "ax1.scatter(X.values[:,0], X.values[:,1], c=agglomerative_clustering.labels_, cmap=\"Set1_r\", s=25)\n",
    "ax1.set_title(\"Agglomerative Clustering\", fontsize=16)\n",
    "\n",
    "dendrogram(linked,  \n",
    "            orientation='top',\n",
    "            labels=sample_agglomerative_clustering.labels_,\n",
    "            distance_sort='descending',\n",
    "            show_leaf_counts=False,\n",
    "          ax=ax2)\n",
    "\n",
    "ax2.set_title(\"Dendogram on Agglomerative Clustering\")\n",
    "\n",
    "plt.show()"
   ]
  },
  {
   "cell_type": "markdown",
   "metadata": {
    "_uuid": "1ca84c59142226da5f9968781973bb59f910e122"
   },
   "source": [
    "<h3> "
   ]
  },
  {
   "cell_type": "markdown",
   "metadata": {
    "_uuid": "480615f5ffdcfc1ef22c2924898f3ee2259d1beb"
   },
   "source": [
    "<h3> Stress Levels (Will elaborate further on this new feature) </h3>\n"
   ]
  },
  {
   "cell_type": "code",
   "execution_count": null,
   "metadata": {
    "_kg_hide-input": true,
    "_uuid": "8a04ef5e9cfdb8aefae3f0803a48f0ad9973de77",
    "trusted": true
   },
   "outputs": [],
   "source": [
    "# BMI + Children / Age\n",
    "df[\"stress_level\"] = df[\"children\"] * df[\"age\"] / df[\"bmi\"]\n",
    "\n",
    "df.head()"
   ]
  },
  {
   "cell_type": "markdown",
   "metadata": {
    "_uuid": "83fa4e1fac3d584b668d30fe96923fe289b4c5ce"
   },
   "source": [
    "<h3> Correlations and Bivariate Analysis: </h3>\n",
    "<a id=\"correlations\"></a>"
   ]
  },
  {
   "cell_type": "code",
   "execution_count": null,
   "metadata": {
    "_kg_hide-input": true,
    "_uuid": "1724ba7389cb307460b015118532536fca2de385",
    "trusted": true
   },
   "outputs": [],
   "source": [
    "corr = df.corr()"
   ]
  },
  {
   "cell_type": "code",
   "execution_count": null,
   "metadata": {
    "_kg_hide-input": true,
    "_uuid": "d23af4877bd14f9f4662f13698996c11b44780d8",
    "trusted": true
   },
   "outputs": [],
   "source": [
    "\n",
    "\n",
    "mask = np.zeros_like(corr, dtype=np.bool)\n",
    "mask[np.triu_indices_from(mask)] = True\n",
    "\n",
    "# Set up the matplotlib figure\n",
    "f, ax = plt.subplots(figsize=(12, 10))\n",
    "\n",
    "# Generate a custom diverging colormap\n",
    "cmap = sns.diverging_palette(220, 10, as_cmap=True)\n",
    "\n",
    "# Draw the heatmap with the mask and correct aspect ratio\n",
    "sns.heatmap(corr, mask=mask, cmap=cmap, vmax=.3, center=0,\n",
    "            square=True, linewidths=.5, cbar_kws={\"shrink\": .5})\n",
    "\n",
    "plt.title(\"Diagonal Correlation Matrix\", fontsize=20)\n",
    "\n",
    "plt.show()"
   ]
  },
  {
   "cell_type": "code",
   "execution_count": null,
   "metadata": {
    "_kg_hide-input": true,
    "_uuid": "06136935732a6c9697f8eb32457a5c4586619987",
    "trusted": true
   },
   "outputs": [],
   "source": [
    "# pd.scatter_matrix(df, figsize=(12, 8))\n",
    "\n",
    "\n",
    "sns.pairplot(df,hue=\"charge_status\")\n",
    "plt.show()"
   ]
  },
  {
   "cell_type": "markdown",
   "metadata": {
    "_uuid": "b0edaae9c71c53d8b3f1865fe4d6db25c429f0be"
   },
   "source": [
    "<h3> Preprocessing our Data and using Pipelines: </h3>\n",
    "<a id=\"preprocess\"></a>\n",
    "In this section we will preprocess our data using what we call <b> Pipelines </b>. So why do we use pipelines? Although, in this example pipelines might not be necessarry if you want to automate various processes for instance, scaling the features, replacing missing values with the median and other processes pipelines are fantastic because they automatize the whole process.We will also use the class CategoricalEncoder from Scikit-Learn, they should already have it as a class but in this case I just copied the class from Scikit-Learn's library. Let's see how it works!"
   ]
  },
  {
   "cell_type": "code",
   "execution_count": null,
   "metadata": {
    "_kg_hide-input": false,
    "_kg_hide-output": false,
    "_uuid": "af00b9e6c2970839b8ddc7c2210fa47c8a47a297",
    "trusted": true
   },
   "outputs": [],
   "source": [
    "# In this section we will preprocess our data\n",
    "# First we should split our original data.\n",
    "\n",
    "from sklearn.model_selection import train_test_split\n",
    "\n",
    "# Shuffle our dataset before splitting\n",
    "\n",
    "original_df = original_df.sample(frac=1, random_state=1)\n",
    "\n",
    "X = original_df.drop(\"charges\", axis=1)\n",
    "y = original_df[\"charges\"]\n",
    "\n",
    "# Split into both training and testing\n",
    "X_train, X_test, y_train, y_test = train_test_split(X, y, test_size=0.2)"
   ]
  },
  {
   "cell_type": "code",
   "execution_count": null,
   "metadata": {
    "_kg_hide-input": false,
    "_uuid": "9d512dec968400c38e67dd91b78003e0522551db",
    "trusted": true
   },
   "outputs": [],
   "source": [
    "from sklearn.preprocessing import StandardScaler\n",
    "from sklearn.pipeline import Pipeline\n",
    "\n",
    "from sklearn.base import BaseEstimator, TransformerMixin\n",
    "from sklearn.utils import check_array\n",
    "from sklearn.preprocessing import LabelEncoder\n",
    "from scipy import sparse\n",
    "\n",
    "class CategoricalEncoder(BaseEstimator, TransformerMixin):\n",
    "    \"\"\"Encode categorical features as a numeric array.\n",
    "    The input to this transformer should be a matrix of integers or strings,\n",
    "    denoting the values taken on by categorical (discrete) features.\n",
    "    The features can be encoded using a one-hot aka one-of-K scheme\n",
    "    (``encoding='onehot'``, the default) or converted to ordinal integers\n",
    "    (``encoding='ordinal'``).\n",
    "    This encoding is needed for feeding categorical data to many scikit-learn\n",
    "    estimators, notably linear models and SVMs with the standard kernels.\n",
    "    Read more in the :ref:`User Guide <preprocessing_categorical_features>`.\n",
    "    Parameters\n",
    "    ----------\n",
    "    encoding : str, 'onehot', 'onehot-dense' or 'ordinal'\n",
    "        The type of encoding to use (default is 'onehot'):\n",
    "        - 'onehot': encode the features using a one-hot aka one-of-K scheme\n",
    "          (or also called 'dummy' encoding). This creates a binary column for\n",
    "          each category and returns a sparse matrix.\n",
    "        - 'onehot-dense': the same as 'onehot' but returns a dense array\n",
    "          instead of a sparse matrix.\n",
    "        - 'ordinal': encode the features as ordinal integers. This results in\n",
    "          a single column of integers (0 to n_categories - 1) per feature.\n",
    "    categories : 'auto' or a list of lists/arrays of values.\n",
    "        Categories (unique values) per feature:\n",
    "        - 'auto' : Determine categories automatically from the training data.\n",
    "        - list : ``categories[i]`` holds the categories expected in the ith\n",
    "          column. The passed categories are sorted before encoding the data\n",
    "          (used categories can be found in the ``categories_`` attribute).\n",
    "    dtype : number type, default np.float64\n",
    "        Desired dtype of output.\n",
    "    handle_unknown : 'error' (default) or 'ignore'\n",
    "        Whether to raise an error or ignore if a unknown categorical feature is\n",
    "        present during transform (default is to raise). When this is parameter\n",
    "        is set to 'ignore' and an unknown category is encountered during\n",
    "        transform, the resulting one-hot encoded columns for this feature\n",
    "        will be all zeros.\n",
    "        Ignoring unknown categories is not supported for\n",
    "        ``encoding='ordinal'``.\n",
    "    Attributes\n",
    "    ----------\n",
    "    categories_ : list of arrays\n",
    "        The categories of each feature determined during fitting. When\n",
    "        categories were specified manually, this holds the sorted categories\n",
    "        (in order corresponding with output of `transform`).\n",
    "    Examples\n",
    "    --------\n",
    "    Given a dataset with three features and two samples, we let the encoder\n",
    "    find the maximum value per feature and transform the data to a binary\n",
    "    one-hot encoding.\n",
    "    >>> from sklearn.preprocessing import CategoricalEncoder\n",
    "    >>> enc = CategoricalEncoder(handle_unknown='ignore')\n",
    "    >>> enc.fit([[0, 0, 3], [1, 1, 0], [0, 2, 1], [1, 0, 2]])\n",
    "    ... # doctest: +ELLIPSIS\n",
    "    CategoricalEncoder(categories='auto', dtype=<... 'numpy.float64'>,\n",
    "              encoding='onehot', handle_unknown='ignore')\n",
    "    >>> enc.transform([[0, 1, 1], [1, 0, 4]]).toarray()\n",
    "    array([[ 1.,  0.,  0.,  1.,  0.,  0.,  1.,  0.,  0.],\n",
    "           [ 0.,  1.,  1.,  0.,  0.,  0.,  0.,  0.,  0.]])\n",
    "    See also\n",
    "    --------\n",
    "    sklearn.preprocessing.OneHotEncoder : performs a one-hot encoding of\n",
    "      integer ordinal features. The ``OneHotEncoder assumes`` that input\n",
    "      features take on values in the range ``[0, max(feature)]`` instead of\n",
    "      using the unique values.\n",
    "    sklearn.feature_extraction.DictVectorizer : performs a one-hot encoding of\n",
    "      dictionary items (also handles string-valued features).\n",
    "    sklearn.feature_extraction.FeatureHasher : performs an approximate one-hot\n",
    "      encoding of dictionary items or strings.\n",
    "    \"\"\"\n",
    "\n",
    "    def __init__(self, encoding='onehot', categories='auto', dtype=np.float64,\n",
    "                 handle_unknown='error'):\n",
    "        self.encoding = encoding\n",
    "        self.categories = categories\n",
    "        self.dtype = dtype\n",
    "        self.handle_unknown = handle_unknown\n",
    "\n",
    "    def fit(self, X, y=None):\n",
    "        \"\"\"Fit the CategoricalEncoder to X.\n",
    "        Parameters\n",
    "        ----------\n",
    "        X : array-like, shape [n_samples, n_feature]\n",
    "            The data to determine the categories of each feature.\n",
    "        Returns\n",
    "        -------\n",
    "        self\n",
    "        \"\"\"\n",
    "\n",
    "        if self.encoding not in ['onehot', 'onehot-dense', 'ordinal']:\n",
    "            template = (\"encoding should be either 'onehot', 'onehot-dense' \"\n",
    "                        \"or 'ordinal', got %s\")\n",
    "            raise ValueError(template % self.handle_unknown)\n",
    "\n",
    "        if self.handle_unknown not in ['error', 'ignore']:\n",
    "            template = (\"handle_unknown should be either 'error' or \"\n",
    "                        \"'ignore', got %s\")\n",
    "            raise ValueError(template % self.handle_unknown)\n",
    "\n",
    "        if self.encoding == 'ordinal' and self.handle_unknown == 'ignore':\n",
    "            raise ValueError(\"handle_unknown='ignore' is not supported for\"\n",
    "                             \" encoding='ordinal'\")\n",
    "\n",
    "        X = check_array(X, dtype=np.object, accept_sparse='csc', copy=True)\n",
    "        n_samples, n_features = X.shape\n",
    "\n",
    "        self._label_encoders_ = [LabelEncoder() for _ in range(n_features)]\n",
    "\n",
    "        for i in range(n_features):\n",
    "            le = self._label_encoders_[i]\n",
    "            Xi = X[:, i]\n",
    "            if self.categories == 'auto':\n",
    "                le.fit(Xi)\n",
    "            else:\n",
    "                valid_mask = np.in1d(Xi, self.categories[i])\n",
    "                if not np.all(valid_mask):\n",
    "                    if self.handle_unknown == 'error':\n",
    "                        diff = np.unique(Xi[~valid_mask])\n",
    "                        msg = (\"Found unknown categories {0} in column {1}\"\n",
    "                               \" during fit\".format(diff, i))\n",
    "                        raise ValueError(msg)\n",
    "                le.classes_ = np.array(np.sort(self.categories[i]))\n",
    "\n",
    "        self.categories_ = [le.classes_ for le in self._label_encoders_]\n",
    "\n",
    "        return self\n",
    "\n",
    "    def transform(self, X):\n",
    "        \"\"\"Transform X using one-hot encoding.\n",
    "        Parameters\n",
    "        ----------\n",
    "        X : array-like, shape [n_samples, n_features]\n",
    "            The data to encode.\n",
    "        Returns\n",
    "        -------\n",
    "        X_out : sparse matrix or a 2-d array\n",
    "            Transformed input.\n",
    "        \"\"\"\n",
    "        X = check_array(X, accept_sparse='csc', dtype=np.object, copy=True)\n",
    "        n_samples, n_features = X.shape\n",
    "        X_int = np.zeros_like(X, dtype=np.int)\n",
    "        X_mask = np.ones_like(X, dtype=np.bool)\n",
    "\n",
    "        for i in range(n_features):\n",
    "            valid_mask = np.in1d(X[:, i], self.categories_[i])\n",
    "\n",
    "            if not np.all(valid_mask):\n",
    "                if self.handle_unknown == 'error':\n",
    "                    diff = np.unique(X[~valid_mask, i])\n",
    "                    msg = (\"Found unknown categories {0} in column {1}\"\n",
    "                           \" during transform\".format(diff, i))\n",
    "                    raise ValueError(msg)\n",
    "                else:\n",
    "                    # Set the problematic rows to an acceptable value and\n",
    "                    # continue `The rows are marked `X_mask` and will be\n",
    "                    # removed later.\n",
    "                    X_mask[:, i] = valid_mask\n",
    "                    X[:, i][~valid_mask] = self.categories_[i][0]\n",
    "            X_int[:, i] = self._label_encoders_[i].transform(X[:, i])\n",
    "\n",
    "        if self.encoding == 'ordinal':\n",
    "            return X_int.astype(self.dtype, copy=False)\n",
    "\n",
    "        mask = X_mask.ravel()\n",
    "        n_values = [cats.shape[0] for cats in self.categories_]\n",
    "        n_values = np.array([0] + n_values)\n",
    "        indices = np.cumsum(n_values)\n",
    "\n",
    "        column_indices = (X_int + indices[:-1]).ravel()[mask]\n",
    "        row_indices = np.repeat(np.arange(n_samples, dtype=np.int32),\n",
    "                                n_features)[mask]\n",
    "        data = np.ones(n_samples * n_features)[mask]\n",
    "\n",
    "        out = sparse.csc_matrix((data, (row_indices, column_indices)),\n",
    "                                shape=(n_samples, indices[-1]),\n",
    "                                dtype=self.dtype).tocsr()\n",
    "        if self.encoding == 'onehot-dense':\n",
    "            return out.toarray()\n",
    "        else:\n",
    "            return out"
   ]
  },
  {
   "cell_type": "code",
   "execution_count": null,
   "metadata": {
    "_kg_hide-input": false,
    "_kg_hide-output": false,
    "_uuid": "fe0373d7d146b5682b66e0ceb2ae151ed1cdecad",
    "trusted": true
   },
   "outputs": [],
   "source": [
    "from sklearn.base import BaseEstimator, TransformerMixin\n",
    "\n",
    "# A class to select numerical or categorical columns \n",
    "# since Scikit-Learn doesn't handle DataFrames yet\n",
    "class DataFrameSelector(BaseEstimator, TransformerMixin):\n",
    "    def __init__(self, attribute_names):\n",
    "        self.attribute_names = attribute_names\n",
    "    def fit(self, X, y=None):\n",
    "        return self\n",
    "    def transform(self, X):\n",
    "        return X[self.attribute_names]"
   ]
  },
  {
   "cell_type": "code",
   "execution_count": null,
   "metadata": {
    "_uuid": "e010932e6198724f58562d92e8bfbc9e1b7bc402",
    "trusted": true
   },
   "outputs": [],
   "source": [
    "from sklearn.pipeline import Pipeline\n",
    "from sklearn.preprocessing import StandardScaler\n",
    "from sklearn.pipeline import FeatureUnion\n",
    "\n",
    "# Children as categorical (ordinal varibale)\n",
    "X_train[\"children\"] = X_train[\"children\"].astype(\"object\") \n",
    "\n",
    "# Separate numerics and categorical values\n",
    "numerics = X_train.select_dtypes(exclude=\"object\")\n",
    "categoricals = X_train.select_dtypes(include=\"object\")\n",
    "\n",
    "# Pipelines\n",
    "numerical_pipeline = Pipeline([\n",
    "    (\"select_numeric\", DataFrameSelector(numerics.columns.tolist())),\n",
    "    (\"std_scaler\", StandardScaler()),\n",
    "])\n",
    "\n",
    "categorical_pipeline =  Pipeline([\n",
    "    (\"select_numeric\", DataFrameSelector(categoricals.columns.tolist())),\n",
    "    (\"std_scaler\", CategoricalEncoder(encoding=\"onehot-dense\")),\n",
    "])\n",
    "\n",
    "main_pipeline = FeatureUnion(transformer_list=[\n",
    "    ('num_pipeline', numerical_pipeline),\n",
    "    ('cat_pipeline', categorical_pipeline)\n",
    "])\n",
    "\n",
    "# Scale our features from our training data\n",
    "scaled_xtrain = main_pipeline.fit_transform(X_train)"
   ]
  },
  {
   "cell_type": "markdown",
   "metadata": {
    "_uuid": "cb42e088598c65c501e5e6aa09bf7117e2ee4863"
   },
   "source": [
    "<h2 align=\"center\">  Statistics: </h2>\n",
    "<h3>Linear Models: </h3>\n",
    "<a id=\"linear_models\"></a>\n",
    "In this section I used the statsmodels library to share with the community some important statistical measures I will give a brief definition to the concepts in which I consider are the most important in this case. <br>\n",
    "<b> Terms: </b>\n",
    "<ul> \n",
    "    <li><b>Adjusted R-Squared: </b> This tells us how close are our data points to the regression line (our predictions). The higher the adjusted squared, the higher the accuracy of our prediction line. </li>\n",
    "    <li><b>Skewness:</b> This tells us whether the distribution is symetric (at 0 or closer to 0), Right-Skewed which means that most of the values are to the left (Skewness statistic becomes larger) and Left skewed most observations are to the right (this means that the skewness statistic is in the negative zone.) </li>\n",
    "    <li><b> Kurtosis: </b> Is a statistical measure that helps us understand how skew is the distribution and the peakedness of our data. In this case we have a kurtosis greater than zero which means that the peak is wider with heavier tails, meaning there are some outliers in the observation. </li>\n",
    "    <li> <b>Skew:</b>  Our skewness is greater than zero which means that it is positive skew. Meaning that most observations are concentrated in the low section of the distribution.  </li>\n",
    "    <li><b>Collinearity: </b> Collinearity basically means that when two independent variables are highly correlated, it is hard to determine the real coefficients on each feature. Why is this important? Well, if we want to know how much weight that independent variable has towards predicting a specific value colinearity should be avoided.   </li>\n",
    "    </ul>\n",
    "    \n",
    "    \n",
    "  <h3>More on R-Square and Adjusted R-Square: </h3>  \n",
    "  <ul>\n",
    "    <li><b> What does R-Square assumes?</b> That every independent variable in the model explains the different levels of variations in the dependent variable (including the redundant independent variables.)  The more variables you add to the model, the more the R-Square will increase independently of how much significance the variable adds to the model.</li>\n",
    "    <li><b>Why Adjusted-R Squared?</b> To make things simple, adjusted-R Squared only uses the variables that adds significance to our model. This is one of the main reasons why we used adjusted R-squared rather than R-squared as a measure of performance of our model.  </li>\n",
    "</ul>\n",
    "    \n",
    "<h3>More on Collinearity: </h3>\n",
    "<ul> \n",
    "    <li><b>Does Collinearity affect the final value of our predictions?</b> The answer is no (well at least most of the time does not affect the value of the predictions) however,  collinearity prevents us from understanding the true coefficients of the independent variables which is important if we want to better understand how much weight the independent variables have towards a dependent variable. </li>\n",
    "    <li><b> What do we do to avoid collinearity?</b> First step, is to determine which variables are highly correlated and then decide which independent variable to choose for inclusion into our regression model. </li>\n",
    "    <li><b>Why is determining collinearity important?</b> When we find a high correlation between two features, this assumes that they are measuring the same label (output). So removing one of those features does not have a negative impact in the performance of our model and it makes our model simpler. Collinearity is solved by dropping those features that are highly correlated. </li>\n",
    "  </ul> \n",
    "  \n",
    "  \n",
    " <h3>Formulas: </h3>\n",
    "<b> R-Squared: </b><br>\n",
    "$\\LARGE R^2 = 1 - \\frac{SS Regression} {SS Total}$ <br><br>\n",
    "where: <br>\n",
    "SS Regression = Sum Squared Regression Error <br>\n",
    "SS Total = Sum Squared Total Error  <br><br>\n",
    "\n",
    "<b>Adjusted-R Squared: </b><br>\n",
    "$\\LARGE R^2 adjusted = 1 - \\frac{(1 - R^2) - (N - 1)}{N - p - 1}$ <br><br>\n",
    "\n",
    "where: <br>\n",
    "$R^2$ = Sample R-Squared <br>\n",
    "$p$ = Number of Predictors <br>\n",
    "$N$ = Total Sample Size <br><br>\n",
    "\n",
    "<b> Skeweness: </b><br>\n",
    "Skewness = $\\LARGE\\frac{\\sum(x_i - \\overline{x})}{(n - 1)v^\\frac{3}{2}}$<br><br>\n",
    "\n",
    "where: <br>\n",
    "$\\large V = \\frac{\\sum(x_i - \\overline{x})^2}{(n - 1)}$<br>\n",
    "$\\large x $= Predictor variable <br>\n",
    "$\\large n $= Number of Values<br>\n",
    "$\\large\\overline {x} $= Sample Mean $\n",
    "\n",
    "\n",
    "    \n",
    " <b>A Special Thanks Note: </b> A special thanks to <b> Piyush Rastogi </b>for bringing the collinearity issue to my attention. "
   ]
  },
  {
   "cell_type": "code",
   "execution_count": null,
   "metadata": {
    "_kg_hide-input": false,
    "_uuid": "5b69cae45fc7776d02579e36762a8a2790f256eb",
    "trusted": true
   },
   "outputs": [],
   "source": [
    "# Let's create the training set by combining the previous X_train and y_train.\n",
    "train = X_train.join(y_train, lsuffix='_X_train', rsuffix='_y_train')\n",
    "test = X_test.join(y_test, lsuffix='_X_test', rsuffix='_y_test')\n",
    "\n",
    "# Random seed\n",
    "np.random.seed(42)\n",
    "\n",
    "# Shuffle Randomly the training set\n",
    "train = train.sample(frac=1)\n",
    "train.head()"
   ]
  },
  {
   "cell_type": "code",
   "execution_count": null,
   "metadata": {
    "_kg_hide-input": true,
    "_uuid": "2ecfc3fb314122594a33821ae5180491ee88cbc8",
    "trusted": true
   },
   "outputs": [],
   "source": [
    "X_train = sm.add_constant(scaled_xtrain)\n",
    "y_train = y_train.values\n",
    "\n",
    "model = sm.OLS(y_train, X_train)\n",
    "results = model.fit()\n",
    "print(results.summary())"
   ]
  },
  {
   "cell_type": "code",
   "execution_count": null,
   "metadata": {
    "_kg_hide-input": true,
    "_uuid": "5e748463e0160bee429ad07d4a78b6a4ed70121f",
    "trusted": true
   },
   "outputs": [],
   "source": [
    "print('Parameters: ', results.params)\n",
    "print('R2: ', results.rsquared)"
   ]
  },
  {
   "cell_type": "code",
   "execution_count": null,
   "metadata": {
    "_kg_hide-input": true,
    "_uuid": "eb64c0051e1ee6acd640fead5a155fb301040144",
    "trusted": true
   },
   "outputs": [],
   "source": [
    "res = sm.OLS(y_train, X_train).fit()\n",
    "print(res.summary())"
   ]
  },
  {
   "cell_type": "code",
   "execution_count": null,
   "metadata": {
    "_kg_hide-input": true,
    "_uuid": "7e3b16fdfd3918bdb47c278edb15556ff5be5759",
    "trusted": true
   },
   "outputs": [],
   "source": [
    "print('Parameters: ', res.params)\n",
    "print('Standard errors: ', res.bse)\n",
    "print('Predicted values: ', res.predict())"
   ]
  },
  {
   "cell_type": "markdown",
   "metadata": {
    "_uuid": "814155a40f94795db45a7c9206cd239ac23ee1ea"
   },
   "source": [
    "<h3> Dealing with Collinearity </h3>\n",
    "<a id=\"collinearity\"></a>\n",
    "<b> What we will do: </b>\n",
    "<ul>\n",
    "    <li><b>Remove the stress level feature</b> These two features are highly correlated, doesen't suprise me because stress levels is directly derived from the amount of children a patient has.  Since children was in our original dataframe, we should delete the stress level feature and I am still not sure the stress level feature provides additional insight to the dataset (Still working on my feature engineering skills).</li>\n",
    "    <li> <b> Adding features manually: </b> We will add features manually into our linear model and see how well it performs, also this will allow us to avoid collinearity </i>\n",
    "    <li><b>Repetitive Process: </b> I know it is a repetitive process nevertheless, my intent is to show how to avoid collinearity in our model step by step.</li>\n",
    "    </ul>\n",
    "\n",
    "Key: The main issue was the creation of the stress level variable which by removing that feature we can guarantee that collinearity is removed from our model."
   ]
  },
  {
   "cell_type": "code",
   "execution_count": null,
   "metadata": {
    "_kg_hide-input": true,
    "_uuid": "c46bb14a682cfbb04f1d8e8e601537dc9f75bcb8",
    "trusted": true
   },
   "outputs": [],
   "source": [
    "# Drop the columns we created.\n",
    "\n",
    "df = df.drop(['weight_condition', 'charge_status', 'age_cat'], axis=1)"
   ]
  },
  {
   "cell_type": "code",
   "execution_count": null,
   "metadata": {
    "_kg_hide-input": true,
    "_uuid": "1014a532a86719d999e98d9b5f82a123aa80fc28",
    "trusted": true
   },
   "outputs": [],
   "source": [
    "# Drop the columns that are highly correlated.\n",
    "\n",
    "corr = df.corr()\n",
    "corr"
   ]
  },
  {
   "cell_type": "code",
   "execution_count": null,
   "metadata": {
    "_kg_hide-input": true,
    "_uuid": "4bc32c3acafc740d7d360ebf6c6fbe84e90fe3a8",
    "trusted": true
   },
   "outputs": [],
   "source": [
    "# Drop stress_level\n",
    "df.drop(['stress_level'], axis=1, inplace=True)"
   ]
  },
  {
   "cell_type": "code",
   "execution_count": null,
   "metadata": {
    "_kg_hide-input": true,
    "_uuid": "c11cb2287fb4d26ba6c7584c03b983ff1dbd34b4",
    "trusted": true
   },
   "outputs": [],
   "source": [
    "fig = plt.figure(figsize=(12,8))\n",
    "\n",
    "corr = df.corr()\n",
    "ax = sns.heatmap(corr, linewidths=.5, cmap=\"RdBu\", annot=True, fmt=\"g\")\n",
    "plt.title(\"Correlation Plot \\n to Decide which features to drop\", fontsize=16)\n",
    "plt.show()"
   ]
  },
  {
   "cell_type": "markdown",
   "metadata": {
    "_uuid": "9c28703b8bd99560250f4a62e0ef99d0a58c1f8b"
   },
   "source": [
    "<h2 align=\"center\">The Importance of Adding Smoking Status to our Model </h2>\n",
    "<a id=\"smoking_status\"></a>\n",
    "<h3>Model #1: Without the Smoking Feature: </h3>\n",
    "<ul>\n",
    "    <li><b>A low Adjusted R Squared:</b> We only have an adjusted R Square of 0.116, basically our model is not capturing any trend. </li>\n",
    "    <li><b>Components of our Model:</b> So only adding the Age and BMI features  to predict how much a Patient will be charged was not enough! </li>\n",
    "    <li><b>The importance of Exploratory Data Analysis:</b> Remember that in our exploratory analysis we didn't find any significant patterns with this features, so we should expect that model 1 will not perform as we would like to. But what if we add the smoking status? Remember, this feature was extremely useful in determining specific clusters in our sample population.  </li>\n",
    "</ul>\n",
    "\n",
    "<h3>Model #2: Adding the Smoking Feature: </h3>\n",
    "<ul> \n",
    "    <li><b>A higher Adjusted R Squared: </b> Just by adding the smoking feature we have an adjusted r squared of 0.747 as opposed to 0.116 without the smoking feature. </li>\n",
    "    <li><b>Adding the Smoking Feature: </b> Adding the smoking feature permits the model to have a better understanding of certain groups in our sample population. </li>\n",
    "    </ul>\n",
    "\n",
    "\n",
    "<b> Note: </b> Will give it some format throughout the weekend just wanted to show you two things: One how to avoid collinearity and two the importance of the smoker status of the patient towards determining how much they will be charged. All the other technicalities regarding the summary of the model I publish it in future kernel updates. "
   ]
  },
  {
   "cell_type": "code",
   "execution_count": null,
   "metadata": {
    "_kg_hide-input": true,
    "_uuid": "f06b375bae453fcc52cb557a72293fe70900dced",
    "trusted": true
   },
   "outputs": [],
   "source": [
    "model_without_smoking = ols(\"charges ~ bmi + age\", data=train).fit()\n",
    "print(model_without_smoking.summary())"
   ]
  },
  {
   "cell_type": "code",
   "execution_count": null,
   "metadata": {
    "_kg_hide-input": true,
    "_uuid": "333adabfd85b0a2f995fc0d5a4a69cbbe2f880dd",
    "trusted": true
   },
   "outputs": [],
   "source": [
    "# Age in out X-axis since it has a higher correlation with charges.\n",
    "fig = plt.figure(figsize=(12,8))\n",
    "fig = sm.graphics.plot_regress_exog(model_without_smoking, \"age\", fig=fig)"
   ]
  },
  {
   "cell_type": "code",
   "execution_count": null,
   "metadata": {
    "_kg_hide-input": true,
    "_uuid": "5f6df835ce93f347899851e5c58995fd16f950f8",
    "trusted": true
   },
   "outputs": [],
   "source": [
    "fig, ax = plt.subplots(figsize=(12, 8))\n",
    "fig = sm.graphics.plot_fit(model_without_smoking, \"age\", ax=ax)"
   ]
  },
  {
   "cell_type": "code",
   "execution_count": null,
   "metadata": {
    "_kg_hide-input": true,
    "_uuid": "56cc9fc948729062c10abf4219cd96ea7548de39",
    "trusted": true
   },
   "outputs": [],
   "source": [
    "model_with_smoking = ols(\"charges ~ smoker + bmi + age\", data=train).fit()\n",
    "print(model_with_smoking.summary())"
   ]
  },
  {
   "cell_type": "code",
   "execution_count": null,
   "metadata": {
    "_kg_hide-input": true,
    "_uuid": "e2237a6b7baa2d637683f1ae7e69e4b01ca18678",
    "trusted": true
   },
   "outputs": [],
   "source": [
    "# Age in out X-axis since it has a higher correlation with charges.\n",
    "fig = plt.figure(figsize=(12,8))\n",
    "fig = sm.graphics.plot_regress_exog(model_with_smoking, \"age\", fig=fig)"
   ]
  },
  {
   "cell_type": "code",
   "execution_count": null,
   "metadata": {
    "_kg_hide-input": true,
    "_uuid": "72a43d9224a735356c08b1b6b7f7c74f846a7576",
    "trusted": true
   },
   "outputs": [],
   "source": [
    "fig, ax = plt.subplots(figsize=(12, 8))\n",
    "fig = sm.graphics.plot_fit(model_with_smoking, \"age\", ax=ax)"
   ]
  },
  {
   "cell_type": "markdown",
   "metadata": {
    "_uuid": "78aba4506e8853495dcc26f45a1fa441f5c757f9"
   },
   "source": [
    "<h2> Dealing with Skewness </h2>\n",
    "<ul>\n",
    "    <li><b>Right-Skewness: </b> If the value is significantly greater than 0, the distribution should be more inclined to be more right skewed.</li>\n",
    "    <li><b>Symmetric: </b>  The closer the value of our skew is to 0, the more symetric is our distribution.</li>\n",
    "    <li><b>Left-Skewness:</b> If the value is significantly less than 0, the distribution should be more inclined to be left-skewed. </li>\n",
    "    </ul>\n",
    "    \n",
    "    \n",
    " <h3> How to find Skewness in our Distribution: </h3>   \n",
    " Coefficient of Skewness =$\\LARGE \\frac{\\overline{x} - z}{\\sigma}$<br><br>\n",
    " Where: <br>\n",
    " $\\overline{x}$ = Sample Mean <br>\n",
    " z = Mode <br>\n",
    " $\\sigma$ = Standard Deviation <br><br>\n",
    " \n",
    " <b> Standard Deviation: </b><br>\n",
    " $\\LARGE\\sigma{} = \\sqrt{\\frac{\\sum{x_i - \\overline{x}}}{n - 1}}$ <br>\n",
    " Where:<br>\n",
    " $\\large x_i$ = Observation <br>\n",
    " $\\large \\overline{x}$ = Sample Mean <br>\n",
    " $\\large n $ = Number of observations <br><br>\n",
    " \n",
    " <h3> Symmetric Distribution and Dealing with Outliers </h3>\n",
    "There are many reasons why we would prefer to have a scaled label but one of the main reasons is to scaled down some observations that might be considered outliers. I will further explain this topic but didn't feel like leaving this section empty. Will provide more specific details in the future."
   ]
  },
  {
   "cell_type": "code",
   "execution_count": null,
   "metadata": {
    "_kg_hide-input": true,
    "_uuid": "2a8fbe348604512cb7e3cd79ae4447db9a8fb449",
    "trusted": true
   },
   "outputs": [],
   "source": [
    "# Let's see the skewness of charges\n",
    "not_normalized = skew(df['charges'].values.tolist())\n",
    "normalized = skew(np.log(df['charges'].values.tolist()))\n",
    "\n",
    "\n",
    "trace0 = go.Bar(\n",
    "    x=['Not Normalized', 'Normalized'],\n",
    "    y=[not_normalized, normalized],\n",
    "    text=['Not Normalized Skewness', 'Normalized Skewness'],\n",
    "    marker=dict(\n",
    "        color='rgb(158,202,225)',\n",
    "        line=dict(\n",
    "            color='rgb(8,48,107)',\n",
    "            width=1.5,\n",
    "        )\n",
    "    ),\n",
    "    opacity=0.6\n",
    ")\n",
    "\n",
    "data = [trace0]\n",
    "layout = go.Layout(\n",
    "    title='Patient Charges Skewness \\n Normalized vs Not Normalized',\n",
    "    yaxis=dict(\n",
    "        title='Skewness Coeficient',\n",
    "        titlefont=dict(\n",
    "            size=16,\n",
    "            color='rgb(107, 107, 107)'\n",
    "        )\n",
    "))\n",
    "\n",
    "fig = go.Figure(data=data, layout=layout)\n",
    "\n",
    "iplot(fig, filename='bar-direct-labels')"
   ]
  },
  {
   "cell_type": "code",
   "execution_count": null,
   "metadata": {
    "_kg_hide-input": true,
    "_uuid": "761710e6612563f7620d35d1678f94a81423d6b2",
    "trusted": true
   },
   "outputs": [],
   "source": [
    "plt.style.use('dark_background')\n",
    "\n",
    "charges = df['charges'].values\n",
    "\n",
    "f, ((ax1, ax2), (ax3, ax4)) = plt.subplots(nrows=2, ncols=2, figsize=(20,18)) \n",
    "\n",
    "# Distribution of charges\n",
    "sns.distplot(train['charges'], ax=ax1)\n",
    "ax1.set_title(\"Distribution of Charges \\n (Right-Skewed)\", fontsize=16)\n",
    "\n",
    "\n",
    "# Scaling charges using a natural logarithm.\n",
    "sns.distplot(np.log(train['charges']), ax=ax2)\n",
    "ax2.set_title(\"Scaled Distribution of Charges \\n (Symmetric Distribution)\", fontsize=16)\n",
    "\n",
    "# Quantile plot \n",
    "stats.probplot(train[\"charges\"], plot=ax3)\n",
    "ax3.set_title(\"Probability Plot \\n (Unscaled)\", fontsize=16)\n",
    "\n",
    "stats.probplot(np.log(train[\"charges\"]), plot=ax4)\n",
    "ax4.set_title(\"Probability Plot \\n (Scaled using Natural Logarithm)\", fontsize=16)\n",
    "\n",
    "plt.show()"
   ]
  },
  {
   "cell_type": "markdown",
   "metadata": {
    "_uuid": "a936957e3149d4a1469dc9ea54906e29742b5188"
   },
   "source": [
    "### Using Our Model with a Symmetric Patient Charge's Distribution:\n",
    "---> To be Updated"
   ]
  },
  {
   "cell_type": "code",
   "execution_count": null,
   "metadata": {
    "_kg_hide-input": true,
    "_uuid": "eb3f622468b263f1f779a469b97cfd4b304e547a",
    "trusted": true
   },
   "outputs": [],
   "source": [
    "train['log_charges'] = np.log(train[\"charges\"])\n",
    "\n",
    "model_with_logcharges = ols(\"log_charges ~ smoker + bmi + age\", data=train).fit()\n",
    "print(model_with_smoking.summary())"
   ]
  },
  {
   "cell_type": "code",
   "execution_count": null,
   "metadata": {
    "_kg_hide-input": true,
    "_uuid": "445e56b76ebcef023d2a2db2d831e1c6f702c166",
    "trusted": true
   },
   "outputs": [],
   "source": [
    "# Using age to predict charges\n",
    "plt.style.use(\"dark_background\")\n",
    "\n",
    "fig = plt.figure(figsize=(12,8))\n",
    "fig = sm.graphics.plot_regress_exog(model_with_logcharges, \"age\", fig=fig)"
   ]
  },
  {
   "cell_type": "code",
   "execution_count": null,
   "metadata": {
    "_kg_hide-input": true,
    "_uuid": "c1974e66b4c43311529b629f43950daa501a2bf1",
    "trusted": true
   },
   "outputs": [],
   "source": [
    "fig, ax = plt.subplots(figsize=(12, 8))\n",
    "fig = sm.graphics.plot_fit(model_with_logcharges, \"age\", ax=ax)"
   ]
  },
  {
   "cell_type": "markdown",
   "metadata": {
    "_uuid": "1747fb7d1c6698bb105dc465d83f03ee7a952c9d"
   },
   "source": [
    "### Feature Engineering with Itertools (Up Next):"
   ]
  }
 ],
 "metadata": {
  "kernelspec": {
   "display_name": "venv (3.12.3)",
   "language": "python",
   "name": "python3"
  },
  "language_info": {
   "codemirror_mode": {
    "name": "ipython",
    "version": 3
   },
   "file_extension": ".py",
   "mimetype": "text/x-python",
   "name": "python",
   "nbconvert_exporter": "python",
   "pygments_lexer": "ipython3",
   "version": "3.12.3"
  }
 },
 "nbformat": 4,
 "nbformat_minor": 1
}
