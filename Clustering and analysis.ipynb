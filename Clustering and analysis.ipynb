{
 "cells": [
  {
   "cell_type": "markdown",
   "metadata": {
    "_uuid": "ea43cbf5edca54c14b0097d7ff1506cd6cef2f0d"
   },
   "source": [
    "<a id=\"import\"></a>"
   ]
  },
  {
   "cell_type": "code",
   "execution_count": 1,
   "metadata": {
    "_cell_guid": "b1076dfc-b9ad-4769-8c92-a6c4dae69d19",
    "_kg_hide-input": true,
    "_uuid": "8f2839f25d086af736a60e9eeb907d3b93b6e0e5",
    "trusted": true
   },
   "outputs": [
    {
     "data": {
      "text/html": [
       "        <script type=\"text/javascript\">\n",
       "        window.PlotlyConfig = {MathJaxConfig: 'local'};\n",
       "        if (window.MathJax && window.MathJax.Hub && window.MathJax.Hub.Config) {window.MathJax.Hub.Config({SVG: {font: \"STIX-Web\"}});}\n",
       "        </script>\n",
       "        <script type=\"module\">import \"https://cdn.plot.ly/plotly-3.1.1.min\"</script>\n",
       "        "
      ]
     },
     "metadata": {},
     "output_type": "display_data"
    },
    {
     "name": "stderr",
     "output_type": "stream",
     "text": [
      "/tmp/ipykernel_9046/3485993053.py:16: DeprecationWarning:\n",
      "\n",
      "Please import `pearsonr` from the `scipy.stats` namespace; the `scipy.stats.stats` namespace is deprecated and will be removed in SciPy 2.0.0.\n",
      "\n"
     ]
    }
   ],
   "source": [
    "import numpy as np\n",
    "import pandas as pd\n",
    "\n",
    "import plotly.graph_objs as go\n",
    "import plotly.figure_factory as ff\n",
    "from plotly.subplots import make_subplots\n",
    "from plotly.offline import init_notebook_mode, iplot\n",
    "init_notebook_mode(connected=True)\n",
    "\n",
    "import matplotlib.pyplot as plt\n",
    "import seaborn as sns\n",
    "from string import ascii_letters\n",
    "\n",
    "from scipy.stats import norm\n",
    "from scipy.stats import skew\n",
    "from scipy.stats.stats import pearsonr\n",
    "from scipy import stats\n",
    "\n",
    "import statsmodels.api as sm\n",
    "from statsmodels.sandbox.regression.predstd import wls_prediction_std\n",
    "\n",
    "import warnings\n",
    "warnings.filterwarnings(\"ignore\")"
   ]
  },
  {
   "cell_type": "code",
   "execution_count": 2,
   "metadata": {
    "_kg_hide-input": true,
    "_uuid": "c24db7fa2a282ff39644edd6610d17d0ccca49fe",
    "trusted": true
   },
   "outputs": [],
   "source": [
    "df = pd.read_csv(\"data/Insurance.csv\")\n",
    "df.head()\n",
    "\n",
    "original_df = df.copy()"
   ]
  },
  {
   "cell_type": "code",
   "execution_count": 3,
   "metadata": {
    "_kg_hide-input": true,
    "_uuid": "18141c201905560777376b3ff616585b40c65475",
    "trusted": true
   },
   "outputs": [
    {
     "data": {
      "application/vnd.plotly.v1+json": {
       "config": {
        "linkText": "Export to plot.ly",
        "plotlyServerURL": "https://plot.ly",
        "showLink": false
       },
       "data": [
        {
         "histnorm": "probability",
         "marker": {
          "color": "#FA5858"
         },
         "name": "Charges Distribution",
         "type": "histogram",
         "x": {
          "bdata": "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",
          "dtype": "f8"
         },
         "xaxis": "x",
         "yaxis": "y"
        },
        {
         "histnorm": "probability",
         "marker": {
          "color": "#58FA82"
         },
         "name": "Charges Distribution using Log",
         "type": "histogram",
         "x": {
          "bdata": "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",
          "dtype": "f8"
         },
         "xaxis": "x2",
         "yaxis": "y2"
        }
       ],
       "layout": {
        "annotations": [
         {
          "font": {
           "size": 16
          },
          "showarrow": false,
          "text": "Charge Distribution",
          "x": 0.5,
          "xanchor": "center",
          "xref": "paper",
          "y": 1,
          "yanchor": "bottom",
          "yref": "paper"
         },
         {
          "font": {
           "size": 16
          },
          "showarrow": false,
          "text": "Log Charge Distribution",
          "x": 0.5,
          "xanchor": "center",
          "xref": "paper",
          "y": 0.375,
          "yanchor": "bottom",
          "yref": "paper"
         }
        ],
        "bargap": 0.05,
        "showlegend": true,
        "template": {
         "data": {
          "bar": [
           {
            "error_x": {
             "color": "#2a3f5f"
            },
            "error_y": {
             "color": "#2a3f5f"
            },
            "marker": {
             "line": {
              "color": "#E5ECF6",
              "width": 0.5
             },
             "pattern": {
              "fillmode": "overlay",
              "size": 10,
              "solidity": 0.2
             }
            },
            "type": "bar"
           }
          ],
          "barpolar": [
           {
            "marker": {
             "line": {
              "color": "#E5ECF6",
              "width": 0.5
             },
             "pattern": {
              "fillmode": "overlay",
              "size": 10,
              "solidity": 0.2
             }
            },
            "type": "barpolar"
           }
          ],
          "carpet": [
           {
            "aaxis": {
             "endlinecolor": "#2a3f5f",
             "gridcolor": "white",
             "linecolor": "white",
             "minorgridcolor": "white",
             "startlinecolor": "#2a3f5f"
            },
            "baxis": {
             "endlinecolor": "#2a3f5f",
             "gridcolor": "white",
             "linecolor": "white",
             "minorgridcolor": "white",
             "startlinecolor": "#2a3f5f"
            },
            "type": "carpet"
           }
          ],
          "choropleth": [
           {
            "colorbar": {
             "outlinewidth": 0,
             "ticks": ""
            },
            "type": "choropleth"
           }
          ],
          "contour": [
           {
            "colorbar": {
             "outlinewidth": 0,
             "ticks": ""
            },
            "colorscale": [
             [
              0,
              "#0d0887"
             ],
             [
              0.1111111111111111,
              "#46039f"
             ],
             [
              0.2222222222222222,
              "#7201a8"
             ],
             [
              0.3333333333333333,
              "#9c179e"
             ],
             [
              0.4444444444444444,
              "#bd3786"
             ],
             [
              0.5555555555555556,
              "#d8576b"
             ],
             [
              0.6666666666666666,
              "#ed7953"
             ],
             [
              0.7777777777777778,
              "#fb9f3a"
             ],
             [
              0.8888888888888888,
              "#fdca26"
             ],
             [
              1,
              "#f0f921"
             ]
            ],
            "type": "contour"
           }
          ],
          "contourcarpet": [
           {
            "colorbar": {
             "outlinewidth": 0,
             "ticks": ""
            },
            "type": "contourcarpet"
           }
          ],
          "heatmap": [
           {
            "colorbar": {
             "outlinewidth": 0,
             "ticks": ""
            },
            "colorscale": [
             [
              0,
              "#0d0887"
             ],
             [
              0.1111111111111111,
              "#46039f"
             ],
             [
              0.2222222222222222,
              "#7201a8"
             ],
             [
              0.3333333333333333,
              "#9c179e"
             ],
             [
              0.4444444444444444,
              "#bd3786"
             ],
             [
              0.5555555555555556,
              "#d8576b"
             ],
             [
              0.6666666666666666,
              "#ed7953"
             ],
             [
              0.7777777777777778,
              "#fb9f3a"
             ],
             [
              0.8888888888888888,
              "#fdca26"
             ],
             [
              1,
              "#f0f921"
             ]
            ],
            "type": "heatmap"
           }
          ],
          "histogram": [
           {
            "marker": {
             "pattern": {
              "fillmode": "overlay",
              "size": 10,
              "solidity": 0.2
             }
            },
            "type": "histogram"
           }
          ],
          "histogram2d": [
           {
            "colorbar": {
             "outlinewidth": 0,
             "ticks": ""
            },
            "colorscale": [
             [
              0,
              "#0d0887"
             ],
             [
              0.1111111111111111,
              "#46039f"
             ],
             [
              0.2222222222222222,
              "#7201a8"
             ],
             [
              0.3333333333333333,
              "#9c179e"
             ],
             [
              0.4444444444444444,
              "#bd3786"
             ],
             [
              0.5555555555555556,
              "#d8576b"
             ],
             [
              0.6666666666666666,
              "#ed7953"
             ],
             [
              0.7777777777777778,
              "#fb9f3a"
             ],
             [
              0.8888888888888888,
              "#fdca26"
             ],
             [
              1,
              "#f0f921"
             ]
            ],
            "type": "histogram2d"
           }
          ],
          "histogram2dcontour": [
           {
            "colorbar": {
             "outlinewidth": 0,
             "ticks": ""
            },
            "colorscale": [
             [
              0,
              "#0d0887"
             ],
             [
              0.1111111111111111,
              "#46039f"
             ],
             [
              0.2222222222222222,
              "#7201a8"
             ],
             [
              0.3333333333333333,
              "#9c179e"
             ],
             [
              0.4444444444444444,
              "#bd3786"
             ],
             [
              0.5555555555555556,
              "#d8576b"
             ],
             [
              0.6666666666666666,
              "#ed7953"
             ],
             [
              0.7777777777777778,
              "#fb9f3a"
             ],
             [
              0.8888888888888888,
              "#fdca26"
             ],
             [
              1,
              "#f0f921"
             ]
            ],
            "type": "histogram2dcontour"
           }
          ],
          "mesh3d": [
           {
            "colorbar": {
             "outlinewidth": 0,
             "ticks": ""
            },
            "type": "mesh3d"
           }
          ],
          "parcoords": [
           {
            "line": {
             "colorbar": {
              "outlinewidth": 0,
              "ticks": ""
             }
            },
            "type": "parcoords"
           }
          ],
          "pie": [
           {
            "automargin": true,
            "type": "pie"
           }
          ],
          "scatter": [
           {
            "fillpattern": {
             "fillmode": "overlay",
             "size": 10,
             "solidity": 0.2
            },
            "type": "scatter"
           }
          ],
          "scatter3d": [
           {
            "line": {
             "colorbar": {
              "outlinewidth": 0,
              "ticks": ""
             }
            },
            "marker": {
             "colorbar": {
              "outlinewidth": 0,
              "ticks": ""
             }
            },
            "type": "scatter3d"
           }
          ],
          "scattercarpet": [
           {
            "marker": {
             "colorbar": {
              "outlinewidth": 0,
              "ticks": ""
             }
            },
            "type": "scattercarpet"
           }
          ],
          "scattergeo": [
           {
            "marker": {
             "colorbar": {
              "outlinewidth": 0,
              "ticks": ""
             }
            },
            "type": "scattergeo"
           }
          ],
          "scattergl": [
           {
            "marker": {
             "colorbar": {
              "outlinewidth": 0,
              "ticks": ""
             }
            },
            "type": "scattergl"
           }
          ],
          "scattermap": [
           {
            "marker": {
             "colorbar": {
              "outlinewidth": 0,
              "ticks": ""
             }
            },
            "type": "scattermap"
           }
          ],
          "scattermapbox": [
           {
            "marker": {
             "colorbar": {
              "outlinewidth": 0,
              "ticks": ""
             }
            },
            "type": "scattermapbox"
           }
          ],
          "scatterpolar": [
           {
            "marker": {
             "colorbar": {
              "outlinewidth": 0,
              "ticks": ""
             }
            },
            "type": "scatterpolar"
           }
          ],
          "scatterpolargl": [
           {
            "marker": {
             "colorbar": {
              "outlinewidth": 0,
              "ticks": ""
             }
            },
            "type": "scatterpolargl"
           }
          ],
          "scatterternary": [
           {
            "marker": {
             "colorbar": {
              "outlinewidth": 0,
              "ticks": ""
             }
            },
            "type": "scatterternary"
           }
          ],
          "surface": [
           {
            "colorbar": {
             "outlinewidth": 0,
             "ticks": ""
            },
            "colorscale": [
             [
              0,
              "#0d0887"
             ],
             [
              0.1111111111111111,
              "#46039f"
             ],
             [
              0.2222222222222222,
              "#7201a8"
             ],
             [
              0.3333333333333333,
              "#9c179e"
             ],
             [
              0.4444444444444444,
              "#bd3786"
             ],
             [
              0.5555555555555556,
              "#d8576b"
             ],
             [
              0.6666666666666666,
              "#ed7953"
             ],
             [
              0.7777777777777778,
              "#fb9f3a"
             ],
             [
              0.8888888888888888,
              "#fdca26"
             ],
             [
              1,
              "#f0f921"
             ]
            ],
            "type": "surface"
           }
          ],
          "table": [
           {
            "cells": {
             "fill": {
              "color": "#EBF0F8"
             },
             "line": {
              "color": "white"
             }
            },
            "header": {
             "fill": {
              "color": "#C8D4E3"
             },
             "line": {
              "color": "white"
             }
            },
            "type": "table"
           }
          ]
         },
         "layout": {
          "annotationdefaults": {
           "arrowcolor": "#2a3f5f",
           "arrowhead": 0,
           "arrowwidth": 1
          },
          "autotypenumbers": "strict",
          "coloraxis": {
           "colorbar": {
            "outlinewidth": 0,
            "ticks": ""
           }
          },
          "colorscale": {
           "diverging": [
            [
             0,
             "#8e0152"
            ],
            [
             0.1,
             "#c51b7d"
            ],
            [
             0.2,
             "#de77ae"
            ],
            [
             0.3,
             "#f1b6da"
            ],
            [
             0.4,
             "#fde0ef"
            ],
            [
             0.5,
             "#f7f7f7"
            ],
            [
             0.6,
             "#e6f5d0"
            ],
            [
             0.7,
             "#b8e186"
            ],
            [
             0.8,
             "#7fbc41"
            ],
            [
             0.9,
             "#4d9221"
            ],
            [
             1,
             "#276419"
            ]
           ],
           "sequential": [
            [
             0,
             "#0d0887"
            ],
            [
             0.1111111111111111,
             "#46039f"
            ],
            [
             0.2222222222222222,
             "#7201a8"
            ],
            [
             0.3333333333333333,
             "#9c179e"
            ],
            [
             0.4444444444444444,
             "#bd3786"
            ],
            [
             0.5555555555555556,
             "#d8576b"
            ],
            [
             0.6666666666666666,
             "#ed7953"
            ],
            [
             0.7777777777777778,
             "#fb9f3a"
            ],
            [
             0.8888888888888888,
             "#fdca26"
            ],
            [
             1,
             "#f0f921"
            ]
           ],
           "sequentialminus": [
            [
             0,
             "#0d0887"
            ],
            [
             0.1111111111111111,
             "#46039f"
            ],
            [
             0.2222222222222222,
             "#7201a8"
            ],
            [
             0.3333333333333333,
             "#9c179e"
            ],
            [
             0.4444444444444444,
             "#bd3786"
            ],
            [
             0.5555555555555556,
             "#d8576b"
            ],
            [
             0.6666666666666666,
             "#ed7953"
            ],
            [
             0.7777777777777778,
             "#fb9f3a"
            ],
            [
             0.8888888888888888,
             "#fdca26"
            ],
            [
             1,
             "#f0f921"
            ]
           ]
          },
          "colorway": [
           "#636efa",
           "#EF553B",
           "#00cc96",
           "#ab63fa",
           "#FFA15A",
           "#19d3f3",
           "#FF6692",
           "#B6E880",
           "#FF97FF",
           "#FECB52"
          ],
          "font": {
           "color": "#2a3f5f"
          },
          "geo": {
           "bgcolor": "white",
           "lakecolor": "white",
           "landcolor": "#E5ECF6",
           "showlakes": true,
           "showland": true,
           "subunitcolor": "white"
          },
          "hoverlabel": {
           "align": "left"
          },
          "hovermode": "closest",
          "mapbox": {
           "style": "light"
          },
          "paper_bgcolor": "white",
          "plot_bgcolor": "#E5ECF6",
          "polar": {
           "angularaxis": {
            "gridcolor": "white",
            "linecolor": "white",
            "ticks": ""
           },
           "bgcolor": "#E5ECF6",
           "radialaxis": {
            "gridcolor": "white",
            "linecolor": "white",
            "ticks": ""
           }
          },
          "scene": {
           "xaxis": {
            "backgroundcolor": "#E5ECF6",
            "gridcolor": "white",
            "gridwidth": 2,
            "linecolor": "white",
            "showbackground": true,
            "ticks": "",
            "zerolinecolor": "white"
           },
           "yaxis": {
            "backgroundcolor": "#E5ECF6",
            "gridcolor": "white",
            "gridwidth": 2,
            "linecolor": "white",
            "showbackground": true,
            "ticks": "",
            "zerolinecolor": "white"
           },
           "zaxis": {
            "backgroundcolor": "#E5ECF6",
            "gridcolor": "white",
            "gridwidth": 2,
            "linecolor": "white",
            "showbackground": true,
            "ticks": "",
            "zerolinecolor": "white"
           }
          },
          "shapedefaults": {
           "line": {
            "color": "#2a3f5f"
           }
          },
          "ternary": {
           "aaxis": {
            "gridcolor": "white",
            "linecolor": "white",
            "ticks": ""
           },
           "baxis": {
            "gridcolor": "white",
            "linecolor": "white",
            "ticks": ""
           },
           "bgcolor": "#E5ECF6",
           "caxis": {
            "gridcolor": "white",
            "linecolor": "white",
            "ticks": ""
           }
          },
          "title": {
           "x": 0.05
          },
          "xaxis": {
           "automargin": true,
           "gridcolor": "white",
           "linecolor": "white",
           "ticks": "",
           "title": {
            "standoff": 15
           },
           "zerolinecolor": "white",
           "zerolinewidth": 2
          },
          "yaxis": {
           "automargin": true,
           "gridcolor": "white",
           "linecolor": "white",
           "ticks": "",
           "title": {
            "standoff": 15
           },
           "zerolinecolor": "white",
           "zerolinewidth": 2
          }
         }
        },
        "title": {
         "text": "Charge Distribution"
        },
        "xaxis": {
         "anchor": "y",
         "domain": [
          0,
          1
         ]
        },
        "xaxis2": {
         "anchor": "y2",
         "domain": [
          0,
          1
         ]
        },
        "yaxis": {
         "anchor": "x",
         "domain": [
          0.625,
          1
         ]
        },
        "yaxis2": {
         "anchor": "x2",
         "domain": [
          0,
          0.375
         ]
        }
       }
      },
      "text/html": [
       "<div>            <script src=\"https://cdnjs.cloudflare.com/ajax/libs/mathjax/2.7.5/MathJax.js?config=TeX-AMS-MML_SVG\"></script><script type=\"text/javascript\">if (window.MathJax && window.MathJax.Hub && window.MathJax.Hub.Config) {window.MathJax.Hub.Config({SVG: {font: \"STIX-Web\"}});}</script>                <script type=\"text/javascript\">window.PlotlyConfig = {MathJaxConfig: 'local'};</script>\n",
       "        <script charset=\"utf-8\" src=\"https://cdn.plot.ly/plotly-3.1.1.min.js\" integrity=\"sha256-HUEFyfiTnZJxCxur99FjbKYTvKSzwDaD3/x5TqHpFu4=\" crossorigin=\"anonymous\"></script>                <div id=\"bcd33d52-7d2d-42a2-a096-ace7a08a19fe\" class=\"plotly-graph-div\" style=\"height:525px; width:100%;\"></div>            <script type=\"text/javascript\">                window.PLOTLYENV=window.PLOTLYENV || {};                                if (document.getElementById(\"bcd33d52-7d2d-42a2-a096-ace7a08a19fe\")) {                    Plotly.newPlot(                        \"bcd33d52-7d2d-42a2-a096-ace7a08a19fe\",                        [{\"histnorm\":\"probability\",\"marker\":{\"color\":\"#FA5858\"},\"name\":\"Charges Distribution\",\"x\":{\"dtype\":\"f8\",\"bdata\":\"YOXQIjt90EBTliGONfaaQMHKoUV2YbFAy2d5Hh541UAUP8bctTWuQGPuWkI+Wa1A3EYDeEsYwEDcaABvgXG8QHicoiNpBrlAixpMw8g+3EAdyeU\\u002fpEKlQJXUCWguKNtAHVpkO1+LnECJ0t7gW6nFQAYSFD94V+NAnMQgsPK0nEB1ApoIqxbFQELPZtVXtqJAexSuRzG1xEDn+6nxrvzhQKyL22hs1slA2\\u002fl+arw1sEAGgZVDC8SRQKTfvg68aOJAK4cW2eY7uEAawFsgkVjLQKH4MebqOcxAc2iR7VD2x0DaG3xhYq6lQAAAAADg5uJAUI2XbjJg4UBL6gQ0YSyhQOkmMQjMT7JAJLn8hwzlykC8kXnkUf\\u002foQI\\u002fC9Si8ZZlAV1uxvxh+zkCamZmZmfyhQPwYc9fIa+NAO99PjauF50C0yHa+H8ynQHrHKTrCVbNAp3nHKXqAuECq8dJNwqm4QESLbOerv7dAhiAHJZIl1EDc14FztoKqQDSitDfYyatAKcsQx\\u002fKqyECDwMqhpebiQOf7qfFCRqFAZMxdS6j3q0AhsHJoEQTXQApoImzSbeJAt2J\\u002f2a17v0BwzojSDzHnQDMzMzOvk8pAfdCzWeW\\u002f4EBTBaOSMrPWQI0o7Q2GZbdAE2HD0xvPwEDf4AuTqZixQFjnGJCndd1AeqUsQ6QlsEBiodY037vMQGDl0CLbPJtAqMZLN4nNy0DLEMe6YPW4QIMvTKYaILdABaOSOsk\\u002f0UDP91PjcTDQQJHtfD91j7pAc2iR7dzuxkBIv30dUFXHQMl2vp\\u002faLr5A9wZfmFQuxkD129eB09auQLprCfng8ZdAtFn1uQqGpUCoNc07Bqu5QCSX\\u002f5A2WbFAO3DOiEr\\u002fvkBjf9k9pSXiQOLplbLUjMVAVOOlm5Bz40CWIY51o5rUQLyWkA9eR+VADAIrh5agxUCDL0ymqlq\\u002fQKCJsOFJpcVAImx4euWrn0C4rwPnEF\\u002fFQIqO5PI7et1Aqz5XWwFhtkApXI\\u002fCYRfnQGkAb4HEba1AXI\\u002fC9aikx0DDZKpgJPnDQN0kBoEp49VA9P3UeFnmzkCYbhKDICq4QIY41sUteqxAYTJVMDbY1EDYgXNGjDfeQH0\\u002fNV7ai7NAqvHSTRgm0UA\\u002fNV66CTeiQJ7vp8abSq5ANBE2PD1mpkBGlPYG8fnmQH\\u002fZPXmgJMVA\\u002fKnx0q00x0Cq8dJNwiayQJwzorR3yaJAPE7RkShwxkBNSkG3\\u002f4zdQA8LtaapOsZA\\u002fmX35PGo0kBJnYAmqszAQMRCrWluHrpAwcqhRVY8vkBoke18f6aaQNnO91PzoqFA\\u002fKnx0o9Q40BJLv8hgcHDQGaIY13McqpA7FG4HkWu0ECgGi\\u002fdRNHCQNDVVuyL999A4XoUrmfCt0AtIR\\u002f0uAfJQCzUmuYtmMpAEFg5tMjNxUDpSC7\\u002fQYKZQBpR2htsMqNAc2iR7VzXoEBU46WbxLWTQFYOLbK99p9A9u6P966u2kBYObTIdu2gQIVf6uf5u9pAeJyiIxlFq0DhehSuH4fSQNNNYhB4u9FAHhZqTX9C1EDiWBe3QRK0QA+cM6IR4uNA5BQdyc1Kw0BE+u3r2GfFQH9qvHQTypxAv30dODcFtED2KFyPom2+QIqO5PJXvrhAQBNhwy9\\u002f00DdtYR8MKW7QAn5oGezJLtAqaROQOu51ECNl24SF0\\u002fOQBzr4jbICuJAfERMiVhJ00C+nxovLdnUQPT91HivpuFAsp3vp0ZpxECq8dJNIiC0QJjdk4clpLNALv8h\\u002fYpTxEB7FK5Hod6yQDLmriXM8LdAHVpkO48+pUCEns2q59uyQNCzWfWxLspASOF6FK60v0AjSnuDL3uaQOkmMQgMfrRAu7iNBuBOpkBmZmZmDtfnQOVhodbcN7lANV66SQxixEDLoUW2ozvBQET67eskrcBAxty1hPDrxkDnHafoSH+ZQB+F61HYSq9AwoanV3r7vEAf9GxWbTO+QOQUHckqXeVAdy0hH\\u002fQbr0Cyne+nps20QHWTGAT2d7pAaCJseOo6s0AibHh6zYbIQFYOLbLdE7NAVcGopE6zoECe76fGK4bHQLprCfngxZFAg1FJnUCemUCkcD0KtxG2QDEIrBxqosBAH4XrUSDWwkDswDkjwhrNQLyWkA9apaBAZ9XnapNTwUAoDwu1GmrJQCntDb68IeJAFK5H4Rrru0AFNBE2vPGwQMHKoUWm78ZAutqK\\u002fQV+1ED0\\u002fdR4eRzLQF+YTBUc0rlA4XoUrkfwnkDD9Shct+K\\u002fQC2yne9no6tAlPYGX8iKs0DZzvdTA6TAQIPAyqHFy7xAXrpJDNI5xEC28\\u002f3UeGejQHctIR\\u002f0gapAJGJKJHF+2EBqvHSTeJSzQKjGSzdxosRAGy\\u002fdJIaFtEDhehSuc\\u002fvgQOELk6niDtNAmN2Th5Vpx0DgnBGl\\u002fQKlQLoUV5XVqNdAi\\u002f1l9yy+vEBZF7fRoATCQLG\\u002f7J6kE71A4umVsqRYy0BxPQrXI\\u002f+aQIts5\\u002fvpFshAGsBbIDE2ukDSAN4CEf3SQF8HzhkRP5lAaQBvgTRvsUDeAgmKK\\u002fLQQInS3uCr8LtAApoIG\\u002fTN4kClLEMcE+q0QKG+ZU4EK+FAokW2890cvEAOvjCZytTcQDRo6J8e59dAAd4CCVq0yEBYqDXNuwufQEw3iUFgoJxA\\u002fKnx0h2Rr0A0gLdAug7JQClcj8IpGedA6Ugu\\u002f5ec5UA5tMh2vqSwQARWDi0lEeRAat5xiqp7yUCJ0t7gJXLlQLpJDAL7GLVAQYLixwyAxkAf9GxWyXrgQK5H4XqUHsdAGsBbIFGv0EBTliGOdUnYQEVHcvlsr+FAIlSp2b\\u002f700CLbOf744jmQCGwcmjhxtBAuK8D51B\\u002fzECwcmiRDRG9QDsBTYQ9IcJA+1xtxb7dmkBCYOXQGu3kQHE9CtezYbxAnl4py9TIwkBYObTIVrajQPhT46Xr+cJAB1+YTGXnpUCmm8Qg8MygQO\\u002fJw0JlQMlAWRe30ZA\\u002fw0DYgXNG5M7VQCgPC7WltOdAT6+UZSCNsECTqYJRjTPHQClcj8L1zMJAGlHaGxw+vkB\\u002f+zpwdmzCQFafq60Y2MtANjy9Uhlj50AtW+uLNGLZQKjGSzcJyKhATGw+rnPN00DeAgmKB5DkQET67euA2aBAL90kBkGErkBuowG8RaKaQDVeukns1M9AqmBUUqt21UDarPpcS+viQH2utmK\\u002fEMJASOF6FL5aukAPnDOiWErYQCxlGeLA9MdAwcqhRXb9sEAj2\\u002fl+GrPIQMl2vp+W\\u002fNJAVz7L82q000BlGeJYBzewQDAqqRNMVMdAGJXUCShFvkAnMQisPH7AQC\\u002fdJAaBJZtA9GxWfZCR5ECwA+eMaLy\\u002fQC2yne\\u002fbAuFAI9v5fmL9wkCKsOHpoUHBQAisHFqIYcRAcF8HzjH9vEBqTfOOmzuyQBTQRNjAHrNAiJ0pdOoX2ECuR+F6dFThQGgibHgml8ZA30+Nly5kpkCcoiO5NMi5QNSa5h3H06tAArwFEhDh5EBcj8L1AGfnQB+F61FI3MFAGCZTBbKw50BCz2bVZ9LXQCS5\\u002fIeEOspAJLn8hzDFxkBfJLTlJLLSQFg5tMhm\\u002f8pAvJaQD0q3x0BkO99P1TjLQHe+nxrjd+RAWMoyxFEUwEBk6UMXzoLSQBIUP8YMFMpAvHSTGIzQyUAU0ETY7E7LQJXUCWiacMVAbHh6pUwouEBaZDvf\\u002fxmzQCSX\\u002f5A6R8BAfoy5awlmtUDXEvJB746ZQBHHurhNG8dAbxKDwApywUAtsp3vZ8SrQPVKWYZwOshAtvP91ISay0AHfH4YwwbYQOPHmLsOeMFAZapgVCrKwkD4wmSqILWcQMKGp1cKHplAWmQ735+dw0C4HoXrEY+yQOOlm8RACstAK4cW2Y5LpEBhw9MrBdmoQJayDHEsGcNAuB6F6yE7ykAnwoanD1G\\u002fQIiFWtNEtL9A2\\u002fl+arwzq0D99nXghDPKQOLplbKkfsdAt9EA3mrXvUC6SQwCp57hQJVliGMdvpVAc9cS8n2c0UCBJsKG+ybVQM\\u002f3U+PHneJAHhZqTe0R0EBZ+tAFP17aQNXnaitKT81AvsEXJvan5ECXHHdKX0vUQM9m1efq1rZADeAtkEQ3wEAOLbKdb7eTQCcxCKw0KMdAU9DtJSmT3UCdEaW9odGoQPOOU3QUCrJAf2q8dG\\u002f4xECoV8oyJLSgQOM2GsAHgsFA5dAi2xElwkA9CtejgGHCQEI+6Nm0Zr1A8tJNYgClwEA5C3vanzLQQPCnxks3Rs1Aq8\\u002fVVqx+mUB1kxgEZhjCQNxGA3jrk79AysNCrVWyzEAUrkfhug7EQM\\u002f3U+NleKlA7uvAOXNCxkBHcvkPGVmwQM\\u002f3U+PVrcBAINJvX4f8uUBkzF1L6NSvQGaIY11cVZlAzTtO0bMi00B\\u002f+zpw0jvMQGq8dJMY2LNAsHJokc2toEBGJXUCurG8QD81Xrp52sFA46WbxBAs0kDmriXkIynMQNJvXweeRdxANxrAWyjl5kDcRgN448DmQIPAyqGqGuNATRWMSspOpUDXo3A9KoTBQM6qz9VuHsNARiV1AhKbuUB7FRkdvJu8QMPTK2XpvqhAYVRSJzBd0kC5cCAkvYrWQM6I0t5oKrNAAiuHFrlRt0Bcj8L1GK\\u002fIQAFNhA2Xk7BA8IXJVOkvy0By+Q\\u002fpl52hQGq8dJPYJrdA2\\u002fl+akSYyECDwMqhpaKmQMpUwahEgrJARIts5+sa4kDyQc9mlfWRQLvtQnP5n9tAMLsnD1V\\u002f2UDdJAaBFbG8QIqO5PJ\\u002f3chAbxKDwAJfxkBt5\\u002fup8Ra3QGIQWDlUmrJACKwcWkRYvUBLyAc9e4CvQPp+arx0xp5ArIvbaCCmm0D129eBY06yQLu4jQZASdVAGlHaG\\u002fw0x0BiodY0YyDHQPp+ary0tMRAUrgehasCvkBMpgpGvUbEQF66SQwCoNVAImx4eim\\u002fzUCWIY51tc7FQOxRuB4lgJlA\\u002fyH99n0Q00AQWDm0WNTJQDcawFuwschAZ9Xnaju+1kDiWBe3MTKhQOC+DpwTgqNAPL1SlvE2oUCPwvUo3EGbQADjGTSyY9RAukkMApPJ2ED0bFZ9KjHcQJPjTulwKeFAmpmZmcnMo0CHFtnON\\u002fmXQB3J5T8kgZxAj8L1KJhhzkCI9NvXWSzCQC\\u002fdJAbBWJlAEFg5tAhMw0DLoUW2g63CQF3+Q\\u002foF+7BAi\\u002f1l96xdyEA5tMh2vpeTQGDI6lak3udA2qz6XP1uxEBqvHSTGFObQNwuNNdF8NdA7zhFR\\u002fIooUDByqFFBo\\u002fIQFg5tMiGhdFAejarPhe8nkCDwMqhpUOzQIcW2c73W79AiIVa04wJwEBI4XoUbk\\u002fKQH0\\u002fNV62rOFACYofY161ukCUh4Vah7LVQBKDwMoVyd9Axf6ye2JWt0BGtvP93Iy6QPT91HiJpqRAiUFg5TAKqEB5WKg1bcinQHE9CtejX8ZASL99HYD5xkDtnjws1ISjQCsYldSpSMJABFYOLTKhk0DXo3A9ipbUQD0K16NgMcZArkfhehIT20A17zhFu27AQHE9CtfDeLRA+n5qvIQjrkCtUQ\\u002fRJA7ZQHUCmghbNK9AGCZTBSdFw0BxGw3gnRW1QPZdEfyyrOJA78nDQlFtxkBEozuI637XQDMzMzODQsNAH4XrUXRLwEDcaABvAbCaQCSX\\u002f5BwxOdAAG+BBL1ty0AhsHJo8T7JQBZNZyetw9JAQKTfvo4Dy0DFILByILO3QOOlm8RgVLdAukkMAos8wUCuR+F6jBTAQIleRrGCtNpAnMQgsHI0uEAoDwu1xuCnQDEIrByaH8tADAdCsk0j70CjI7n8v\\u002fvDQNuK\\u002fWXPP9dAUdobfLGJqUDP91PjNYnGQPRsVn0+G6lA9ihcj+Zk5kA730+NRyfKQDlFR3LZCa9Ad76fGo9OyUCk374O1NnFQAq6vaS5ddFAAiuHFlkPrkDcRgN4S0fAQBpR2htcvq5A9+Rhoe2F40Bd3EYDuLmZQNnO91Pr9MFAUPwYc\\u002fdVxUAGgZVDC3yjQCJseHpdscFAaQBvgYTipUDi6ZWy3KCgQG1Wfa6O5bhAveMUHblYvEDLoUW2c5DGQOJYF7fAUOZA3SQGgZVirUDmriXk41ahQBgmUwWjkbJAVfZdEQDh3kAeFmpNB9TJQACRfvty38dAVHQkl\\u002f8DmkCH4SNiYpnsQHE9CtdD\\u002fsJAxyk6kvsMqUBGlPYG\\u002fzjJQINRSZ1AnplAB1+YTEXUuEBEwCFUjzbRQCUGgZVDa5NAYTJVMJqrskA2qz5XayquQAHeAgn8dOVADwu1ptGhykC1N\\u002fjC1Fi3QGq8dJM4IcdAzojS3gh2wEB0JJf\\u002f8AykQDeJQWCN\\u002f81Adk8eFipNtkAEVg4t\\u002fjvBQOwvuydP2L1AxSCwctjatUBMN4lBgBG9QKoOuRn\\u002fV+BAxY8xdy2EmUDarPpcEevBQK5H4XpEn8VAH4XrUZBqz0CitDf4Pg\\u002fRQC2yne\\u002fHIcJAsHJokT3Nq0Dl8h\\u002fSsRPZQEi\\u002ffR0YU7FAGy\\u002fdJC4p40DdtYR82LHAQAaBlUOLq7lAMZkqGGU\\u002foUA\\u002fNV66CWG6QOF6FK5HYJ1AqoJRSTv75EC0WfW5DsXGQLpJDAKjwtZAlWWIY\\u002fvQ4EBQjZdu0uzEQNV46SaxlqxAWmQ738ee40ApXI\\u002fCFe\\u002fBQCzUmuY65+BAa5p3nM6wx0DnjCjt7TCtQGUZ4liXXLpAcjPcgFsfxkDl0CLb+TLGQCcxCKzu\\u002fORANV66Seyyw0D2KFyPQueeQEMc6+JWTapAMuauJVwFvEA1XrpJrFfCQE2EDU93JcxA2PD0SjkqpUDHgOz1wlTYQPjCZKpUrdNA5q4l5JNKyUDufD81Pgq6QInvxKxuAuBA+aBns+6ryUC8BRIUn3KxQCNnYU+JXdJA3GgAb5HOw0D3deCckeu3QCBB8WMkHsBAxSCwcujAmkDSb18HekfIQCegibBxJMNAukkMAtupxECcM6K0TyzAQLx0kxjEp8BAF9nO90Pqx0BCYOXQ2hbYQM\\u002f3U+OlpKpAEhQ\\u002fxmy1r0BeY5eoEMbZQHRGlPYyHcxAhJ7Nqp8juUCwOJz5G6zVQMWPMXeNHLRAF0hQ\\u002fJjBkUBSSZ2AemfaQIY41sUNyORAfT81Xrr\\u002fwECDwMqhaojjQA8LtabGUeZAIEHxYzxkuUB24JwRleWyQBTQRNgwz65AYOXQIrsvsUCP5PIfUim4QGlv8IUfj+ZAexSuR8k2vECvJeSD5mLIQCuHFtlQhuZAdZMYBMYlyEAdyeU\\u002fZNbDQD81XrqJMqRA16NwPQppk0CuR+F6\\u002fJTjQCBB8WO8Q8NAg8DKoQWeskDuWkI+MPbFQGQ730+lMb5Ab4EExb8+tUCqfToeJZ\\u002fZQIv9ZffO\\u002fuBAvJaQDzpwoEDD9ShcL4S\\u002fQEymCkZ1dKJAn6ut2O9hokBoke18\\u002f\\u002fOrQDsBTYR9AqlAOnr83p6A3ECyne+nNKrjQH9qvHQfcMVArrZifzlZq0BTliGONZKfQF5LyAfZosJA+Q\\u002fptyeQwkBSSZ2AVgm1QD2bVZ93ccFAPzVeugn\\u002ftECjkjoBDa7lQMiYu5Y4DMRAvsEXJjvht0AnoImwAV21QFyPwvUo\\u002fppAwOyePJy9w0A4Z0RpazvAQBsN4C3QAZ9AL90kBgEzo0A1XrpJfLnHQM6qz9V+r8JATx4Wak2cyUDtDb4wETDFQGrecYrO48dAGeJYF9dJw0CR7Xw\\u002fRQDGQPyp8dKtWclA0SLb+f68k0C+nxovEb3DQLTIdr6N\\u002fONAsVBrmq8IukChZ7PqbUTQQLaEfNAzU6FAPujZrFp9ukDQ1Vbsf+jSQKAaL920qMNAZDvfT+2KsEBHA3gLoHPCQNv5fmqcW8tAwoanV\\u002fK3wkBrmnecYLzjQPT91HipOKtAwFsgQaOr4UCnrnyWLsXlQFtCPug9zsBAy6FFtp\\u002fR0UCsrdhfzR7lQFInoImwW61At9EA3po9wUC8lpAPLlvDQMUDyqbs7MZABaOSOiFtmUC8dJMYdLbAQGIQWDkE7adAO99Pjc8U00ArhxbZbsmdQCV1AppEwctA1QloIuQcx0BfDOVEG7rQQKOSOgFFp7NAPQrXo9Axv0Bbsb\\u002fsWobWQE0VjEq6NLVADXGsi3m64UCoV8oyhKuuQFyPwvXo4aJA001iEDiY0kCNKO0Nnv2nQPp+aryIw8FAcT0K108hx0AlBoGVw36\\u002fQAisHFqkirtAF9nO94P3y0B1kxgEPhW7QL\\u002fxtWdSSdtAcT0K12PHxUBLAtTUmv7IQE+vlGUgVdFAVg4tsr1dvEC5jQbwPqDEQFCNl26ySrtAOGdEaWcYvUAFo5I6YS63QJwzorTnRsNA\\u002fKnx0s3U0UD5D+m3L+uRQGx4eqUUVcJAiUFg5RDy10AQ6bevg\\u002f6wQLByaJEtDrlA3GgAb5XiyEAwTKYKRvWdQEp7gy+UWbRAAJF++\\u002fpIykCamZmZOR62QOOlm8SgkZNA097gC9NXpUAIrBxa9LLUQCzUmuZ9KbxAaJHtfK\\u002fh0UCtad5xKqqwQHgLJCiGb7JAXrpJDBIkx0BX7C+7IXzRQCxlGeK4hrtATfOOU+z0y0Bcj8L1KG6gQERpb\\u002fAV8eJARPrt64BfnEDgvg6c2zO+QDl\\u002fEwovz9tAy6FFtsOxoECdgCbCBq6RQJ\\u002fNqs+V26lAKVyPwnVjwkBO0ZFc\\u002fti4QAMJih\\u002fbgsVAwTkjSuNMsUBj7lpCTtC1QJwzorS3V51A3SQGgYU1pkDVeOkmMRusQLByaJFT2tZAAtnr3ezr6kC6SQwC6xW9QDBMpgrm8aRAuECC4odXmUDUK2UZmg3AQE8eFmrNdchAK4cW2Ypiz0DiWBe3u2TlQARWDi1oSdRAXkvIB61V40DfT42XfuW3QOOlm8TgKMpAayv2l12StEDecYqOvG+yQJm7lpD378ZAHHxhMnUBtUDecYqOVPi7QPhT46U7MrFAjErqBNzExkCx4emVSgK5QNEi2\\u002fkWp8hAaJHtfD\\u002fZl0CHFtnO9xHIQDcawFugluFAIR\\u002f0bHrj2kDT3uALB6zDQGq8dJMe+uVAPzVeullIw0B6pSxDHAyjQJhuEoNAPKdAc2iR7dC0xEDlYaHWxDLiQMP1KFzPk8tANe84RfWP5EDRItv51ujGQH4dOGe6itdATDeJQWBNnUBkXdxGxQHkQNXnaiv+5M5A+rg2VIrK0UACK4cWuWrFQAisHFowhOZAO99PjRfvu0Ay5q4l2PbHQOauJeQLUrVA6SYxCDwnwUDb+X5qXMi5QMxdS8jH1ZFAPQrXoxCcxkBjf9k9zaTJQP7UeOmmJ7FAEFg5tOiEwEAAkX77uoCqQHh6pSzjTrdAsp3vpwbBukDl0CLbkV3BQJJc\\u002fkM6BKVAMLsnDxeH2UCgibDhyf25QI\\u002fC9Sg8irhAy6FFtvOnuEDjpZvEIOaqQJVliGMdyqVAr5RliLMzpECamZmZ45XmQL7BFyb7DbNAIv32dexB00CLbOf7m5TaQKOSOgEtmLRA2c73U2NKmkAXSFD8kFTHQET67eu+pNxAB\\u002fAWSNBLvEDwhclUdVvEQBWMSupUleVA4C2QoIB5ykAv3SQG8YPJQIBIv32DVdNAdCSX\\u002fyBboUAbnl4pS4qZQIBIv32tiqBAFvvL7m34wECgibDhMcTnQDbNO05JNbJAtvP91Mi9v0CsHFpkS7LIQNIA3gIx1LFAak3zjuvuskB\\u002f2T15uNG9QLbz\\u002fdQIoc1AJQaBlRMW0UD\\u002fIf32FZ6kQEVHcvmVeOBAnYAmwloXzEDufD81\\u002fsq9QAHeAgmCibRAMLsnD6tSo0CaCBuelEPVQPZdEfyrH+FAz\\u002fdT4\\u002fV4yUB2Tx4WOn20QA4tsp2PRcpA9ihcj0JLykCNl24SQ3C1QJAxdy1p4LBAw\\u002fUoXG9quECzJEBNVb3YQNnO91Mjw6ZAPzVeuimAx0B0RpT2Zk\\u002fKQMBbIEHBkbhAGsBbICHepkA1XrpJTF64QI\\u002fC9Sh8uMNACKwcWiS0vEB+HThnZEGyQIts5\\u002fvp5MdAyZOkaypb30Dl0CLb5YLBQBrAWyABAKJAC0YlddKHwkDmP6TffoeRQHxhMlXIpsJA1sVtNPBSoUC\\u002fDpwz4nGZQOhqK\\u002fZvW8lAPQrXoxDNxkDTTWIQGPi7QOxRuB7pEONA+1xtxcbWuEBkO99PXXfTQG3F\\u002frJvh8ZAVOOlm9ws50DOqs\\u002fVLq+xQPT91HjRCuNAx7q4jWiK00D9h\\u002fTbd0euQD0K16PwgeRAcxHfifGgyEDrc7UVRwnkQK1RD9E6zdtAv30dODdUpUAhsHJokTKqQGZmZmZWRcxAfdCzWUmOwkBnYU87xtjZQNNNYhBYirJAryXkg9hn10D0bFZ9Bl69QOLplbK8n6lA0LNZ9WnKwEB6xyk6UufEQDcawFtggLNAvsEXJqO\\u002fo0AxCKwcWn2bQE7RkVw+JaJA9bnaimGFz0ACK4cWKXy+QKabxCDQraZADJOpglX0wkB+jLlrCRmzQHbDtkVH69hAK4cW2VaUsUDb+X5q\\u002fL\\u002fSQPuWOV0aZ9BAqmBUUg8zs0B7FK5Hoci9QOlILv8FbcBAdk8eFgyt20BSuB6F06axQKMBvAXydcxAuB6F69FlqkDlYaHW3Oi7QMHKoUU2w8NAbAn5oHdstUAPC7WmHwnQQG3n+6l5Mr9Ag8DKoYX6vEAX2c73+x\\u002fLQLu4jQbAl7lAOUVHctGTtEBeS8gHcfTQQP7UeOka1eBAzczMzMzTnkDY2CWqC7zUQO\\u002fJw0LF2cBAqaROQGNRsUDEsS5uQ1axQNUJaCLOVNhAvhOzXl6y1kBmiGNd3HLDQIPAyqGFJsBAkQ96Nu9T0kCIaHQHidzhQFpkO9+fHsFAqMZLN4kHtUBGlPYGf67HQLivA+d8KqVAMQisHNonr0AFo5I6pWfIQIzWUdW8aNlARIts50svwUDmP6TfcmHhQApoImxknORAIo51cRu8mkDZX3ZP7rzAQJHtfD+1kJ9A78nDQrkQ0EDmeXB32BbVQPCnxks3PcNAz2bV5\\u002frdukADeAskUivVQFYOLbL5sOVAn82qz4UpsEBVMCqp79nKQL3jFB0JS8lAvp8aLz2fx0DDZKpgjk3iQPaX3ZOwZeNAPZtVn6uVoUDJsIo3avfVQBBYObS2wtNALSEf9MyimkC+wRcmeljgQMUgsHLosqhAIEHxYwhBxkCuR+F6NF7VQKvP1VYMnbxAKe0Nvqy65UALtaZ5VxSsQPhT46XzZeNAPujZrCJXv0A4Z0RpRx3MQGfV52oDJMJA8KfGS1+32ECeXinL8DKqQKhXyjJAscRA5\\u002fup8cIqwEAmAWpqU4LRQAdfmEz1YaNAQYLix7husUAr9pfdU\\u002faeQLG\\u002f7J4ckcZA0NVW7Efp50AW+8vuMZS5QKJFtvPdTLZAtMh2vn+Fu0A\\u002fV1uxF4nBQIj029dpfbZA2qz6XO0GzEAnMQisbFjFQFInoIn2d+NA2V92TzpLy0AaUdobHNadQJSHhVpToMdADeAtkCTKyUD2l92T19KxQNv5fmqss8BAgSbChodsoEA\\u002fxty1BO7gQH4dOGfEnM1An5PeNwY2x0C8BRIUZ2axQKRwPQrn37ZAObTIdv7Yr0CqglFJ4VXNQD0K16PQk9JAtvP91CwWxUBJLv8hnSzGQN5xio50CsNAYOXQIouoxED3Bl+YglnkQC0hH\\u002fREC8ZAKVyPwvUOrEDHSzeJcY7gQESLbOerEcZATDeJQTDRsUAHzhlRJszlQAu1pnmHKppAEyf3O2SB1kAXt9EAPjapQJYhjnUTYtBAz\\u002fdT47X6xUDiWBe30R6rQB3J5T+kMcZA4umVsibx00B6Nqs+dzHEQB+F61EUjsFAR3L5D\\u002fl+xEAZBFYOLbCmQMHKoUWuzsBAcT0K1zN8xkCfzarPp3vkQLTIdr47nddAOiNKeyvAtEBfB84ZMbiiQAYSFD++G8VAr5RliDMDwkA3GsBbkqPhQIts5\\u002ftXseJA7nw\\u002fNW49tkD6fmq8yK7gQF5LyAeVTcBAeAskKK7I5kC77UJz33XSQPLSTWIG+eNAt2J\\u002f2U3Xy0AhsHJoUfPDQNc07ziFzLZA0hitoy4LzEAMAiuHlgObQMoyxLEmw8BAYOXQItvarECzJEBNQTnUQFkXt9GEg8NAkq6ZfFU200ClLEMcy6bFQFTjpZuEx71AHhZqTZPQqEDdJAaBtfCsQCswZHVXBOJAl\\u002f+QfgOswUAIrBxahBK\\u002fQNttF5p\\u002fe9pAlIeFWhPCuEBCYOXQMs\\u002fCQIts5\\u002fuNDMZAtOVcitqt6UDu68A5I6uhQBSuR+H6E8VAYOXQIrtbt0D7OnDOeDehQGfV52rr5cdASS7\\u002fIan940B5WKg1df61QE7RkVyWg8VAYqHWNDc8vECJ0t7gV2XjQGiz6nMJLcxAs3vysHA3o0DfT42XriuvQFkXt9FAL75AwaikTjAEtEBivrwAy4TSQMPTK2WpMaFAQfFjzI3xu0DsUbge\\u002fWu0QL4wmSpAc8VAMQisHHqxsUBxPQrXoz6yQCBj7lpa4LdAswxxrKvG0EBmZmZmpvPVQFfsL7vPqsVAcvkP6dc5uUBoImx46lGxQLbz\\u002fdS41KBAxEKtaepT10BCYOXQ4mC5QJhMFYz6pqZA4L4OnJfl0kBI4XoUxuK9QEjhehReRaZARIts5\\u002fuRpED\\u002fsnvysHPCQEvIBz0P5tFAw9MrZenNwEAAAAAAK0viQDBMpgpmCstAW0I+6NVC1UBWfa62VqPJQDm0yHZmz7RAecxAZbzOykCDUUmdlG3JQK5H4XqY78BAjnVxGxUmsEDg88MIrWXSQFRSJ6BxQ+BAZmZmZtZDtkDF\\u002frJ7mvm4QK5H4Xq0RrNAIv32dcA2uEBOYhBYnQ7BQPH0SlmmDqBA4XoUrgd2w0D99nXg3MvRQOviNhqA\\u002fLNAoFT7dNMF4kBKDAIr78HiQO\\u002fJw0I30tNAdZMYBJYdyECR7Xw\\u002fXf20QLbWFwnBAtdAescpOtKZmkCsHFpkaxvFQJkqGJUk6K5AT0ATYQctyUAdOGdEqSe1QCKOdXE7tK9ABoGVQ7NX5EDQs1n1KXG9QBpR2hs0brJAj+TyH4LBuUA3iUFgVX3AQJWCbi9rg9lAKcsQx3rKukADeAskqLuyQDojSnuL8LlAAwmKHwP6u0Bb07zjHLHEQLU3+MIgUcdAw7tcxKxO7UAe+YOB1bHTQECk377aX8hAUI2XbsIoxkC94xQd4aHAQF1txf4iF6VA2qz6XO04zEDnHafoLODHQLWmeceBSbtAvAUSFN9MqUDZzvdTuxTnQBx8YTI1NehArfpcbUXIsECfPCzUOseoQGRd3EbDv5FAObTIdl7vtUAbL90k5sbBQDVeukksq7dALGUZ4tiHmUBDHOvi8FziQC7\\u002fIf0aNtJA9ihcj0Jmk0Db+X5qbLTPQBLaci5p6s5Am+Ydpyg\\u002fsUDZzvdTA0q5QMX+snteVsZAPZtVn\\u002fcUxkDsL7sn5VvdQPwYc9fi6sNAGlHaGzzAsUBQjZduUpqpQHsUrkcxcrpAaJHtfL+pvED7OnDOdEHEQET67eugS9pAj8L1KDzoxEAoDwu1wbngQJzEILDyYZ1AZmZmZqbTwECSy39ID7mpQB6n6Eiem6dAY+5aQipHzED1udqKDYuyQLdif9nVpNBA16NwPapnxUA3iUFg5WulQHh6pSwLBbFAzczMzILv1UAtIR\\u002f0HF2wQDJ3LSHXLcBAKA8Ltez110Dkg57NuuXLQGEyVTBq4ZpAj8L1KHwl50C62or9VavAQHZxGw1AKa1A5\\u002fup8XJgtUAxCKwcErniQIy5awl567tApHA9Cufdu0BzaJHtlAHhQJAxdy1hrZdArK3YX\\u002fIqwkDpJjEIkE3HQIXrUbges55AF9nO97OzmkDOiNLecPSwQBsN4C14jbRANKK0N6gtpUCPcFrwG5DuQGIQWDnFz+ZA5\\u002fup8ZIRqUB4eqUst3jiQGEyVTDYwtRAiIVa0zxBo0DRItv5pnnPQFXBqKQe+NRAiUFg5ZSN4EB1kxgE9tu6QET67evoHLtAnRGlvWnbsUCq8dJNQrixQFCNl26yxeFA0m9fB3hT0kAczvxqKgTGQJHtfD+1DptAcF8HztktkkCRm+EGLgrTQGfV52qzIbxAXf5D+gUxtUB88rBQVXHbQB3J5T+sWslAMEymCgxv5UDG3LWE5I+wQBniWBerq8lAaLPqcwWKu0BYqDXN81DCQBjPoKHv3tVAfT81XpoqxEAcfGEylarIQMjvbfr3FcVA4XoUrtdJxkAzxLEuRrTEQNXnaiv2O6FA3SQGgVV3mUDhehSux1+fQDC7Jw9XddxA\"},\"xaxis\":\"x\",\"yaxis\":\"y\",\"type\":\"histogram\"},{\"histnorm\":\"probability\",\"marker\":{\"color\":\"#58FA82\"},\"name\":\"Charges Distribution using Log\",\"x\":{\"dtype\":\"f8\",\"bdata\":\"ROsn+eV3I0DVcZyELtAdQEUT0mATzSBAAaXH3AX\\u002fI0DX916FOIUgQAhgD7hpdiBAVM9Bkp0IIkBfABd6Q8khQMXsLTe1hyFAq2BJo3eLJEBfkrKBr6IfQJVyU41ZdyRAGhypx5cKHkDUhKTBsqAiQDrPfbN7LCVAwh3uC2cQHkAUCZLW+JIiQK8QwIz1Hx9AZ7+4pKSJIkDwwEd+TgclQCJX8Zv1+iJAUg\\u002f\\u002fnV6pIEAHFpmlBiUcQPZE\\u002fKEuEyVAm+CUFUN3IUDZwM9vAhgjQJizDDQ7KCNA5rv5zWDUIkCWGGw4wrYfQDWyH8K0ICVAkrScq5r1JEC0brsvFMgeQLF4S6jK5yBA279Ri30PI0BAFF6f0K8lQEaTDob5kh1AJv6YAMZPI0DSJ\\u002fO9dvceQL9aiVyULiVAR1Kp5auQJUCuKr3LDwsgQARCutahAyFArVz38+N8IUD7qTTEP4AhQOZjIcvnbCFA5IK3y3jeI0AnF0qgV0IgQGB9iP1xWiBAmOxWpDzjIkBqRQ6VriAlQOn+A+wWzh5AlpuNYbtdIEBTaHXloyIkQGduNgy8EyVAKBXYA0D9IUC6nuUwbYklQIDksF1nCSNAsfZj+c\\u002fiJEAZlMBukBskQGj52LxBZSFA8\\u002frWzNceIkAgBeR2Y9MgQFCdtP4EoSRA\\u002fXxbR2GnIEAMWJqEWzEjQOz9ggac2h1APDNoXH4gI0Cl6ItEWIYhQP+cQrhJXyFAE96Q9PeOI0BuN\\u002fXCf24jQCj3oLsxpiFA1jNyJOe9IkCJgkqywsYiQDyBFnSo5yFAWvJ5oNSsIkAQ5WEUx48gQIOM1cqqVh1A6xI25UmvH0DT1VWWspQhQH0zlSggzCBAZCpjXEn1IUDavjJS1wslQFCjnLcOniJA3vLEUGEvJUBb7yei9ukjQAkcI0NaXSVARdjBR+OfIkDAzWoKJvshQINGm4NSoCJAb\\u002fHM5Ap1HkCVDCXgypkiQCbjSJBUoSRAmxB1+HxOIUC07hkHNYclQL8L2EnPdyBAXdU3V4TNIkDsWTqgJnciQGkv+yDmCCRAm0JL7JBWI0C0LQ8Dy3UhQOQJ+FH7ZiBAEm8j1efvI0A\\u002flNo4BK4kQKIk3IIyCSFAcKc+JvuLI0C0lzW8YAQfQN1NKjqahiBAuLtQ8iDYH0CYOfmepoQlQHKrp0xLlCJAnZMOpvTDIkDydSksSuMgQDQXRAYKJB9A6A1xYruyIkAoe0YWmqIkQK5sR\\u002fvwrSJAS1utOTi3I0DFH2lVjR4iQKqry5+cnSFAiYL794zoIUAuYNt9ScQdQHOnnpNU4x5A7j1PtsQrJUBQ5RyTjHEiQKMx7ugjQSBAxmbA4899I0BLzErToVgiQIJm73vXyiRACZtAtiJtIUCyTQI9tOoiQKLodO69CSNAOj2x5QykIkAzW4sFdZcdQE6eHSQlOh9AHaQMOBW0HkAFxBD9Xo8cQGwY+Klzfh5AWJ9SqFJuJEA5kC2YUbkeQMHS33pRbyRAlKZ5Cs1QIEBsNaPslLMjQNO\\u002fbrYcnSNA6lwG3VXhI0BndKaoxBYhQPJa+jGeOiVADB5lnWNlIkCV1HMVnZoiQNn8Cp9XEx5AIKKQkncVIUCb25cdzeshQI2quGbqgSFA0bKPra7NI0CM4QYQsbohQHvb3opPsSFAU9\\u002feo\\u002f3sI0ANDZFUrkwjQLin9DLfCCVA5b8fGiHII0AKRniH\\u002f+8jQB+Kkmun\\u002fSRAftmxCUKCIkAIV6AtJhghQF+pvFKtCyFAZhlgvh+AIkCZ3d6rKPcgQDy8jKUGcSFAoCaz0eqhH0BXi9a13vYgQHriTD2\\u002fASNA03ZrvdsAIkDEx2L5w70dQPy8nNdlISFA50taqfLTH0BZd5WKi5clQIqA0ReliyFA+9iDmoyBIkCqOUChmCsiQNZDqiTJGiJAwqdn26W9IkAFhj+m\\u002fZYdQI6KEz0\\u002flyBAx2uR1d\\u002fSIUAqmTwB9uchQNpb8r9lXyVA4L5zwT2UIEA6\\u002f0jNGykhQHphNABspCFA2eEWGNkAIUCHE6lATOAiQM8xAkDF\\u002fCBAyl6vsnurHkAbXLBs7soiQPNbnGFwJRxAtMQHaNabHUDyRGg+WkchQLkYfU1\\u002fGSJAqxAq6yVZIkBdR0516zcjQLjSiZwiqB5Ac05P3l0uIkDEnKlggfIiQE0aSQJpCyVAcXHQkbm\\u002fIUBXkw0cDsAgQBIcUrP4vSJAOQiJoC3nI0BLknh3mBMjQLkmcOm7lyFAVm9OmxFdHkADSwgOwQMiQJ+7jderVyBAOxP2eBYJIUBlCJp+sBkiQMLpCliSzyFAri4JN5Z9IkDjUPC9I0UfQIRX\\u002fPZIQiBAL4SdyoFCJEAfwwkPFAohQKTNvTjUhyJAqrJ5hSAiIUDyZ+Dy3+kkQJSBYeMHwiNAZSV6wH7IIkAAtz21o5YfQDX7geTCMCRAD6jFX6DOIUCR9aMSaEIiQI2LXAqK1CFATQA+3gMYI0B\\u002f2PJ8gdEdQCQvyHoX1yJAm0jzkW2fIUDAp5ZNKMAjQIV8eM3djB1Ay90EmafOIEBEY7if44UjQFua75wfwCFAIAeJ9Q8eJUCsRy991SshQNitHTRy7yRAucVQAEfDIUBFDtb8+pUkQIQNoOL\\u002fNSRA2M\\u002fOq\\u002f\\u002fjIkDyQZawnGAeQM9X1jGIDR5AGpeb\\u002frebIEAlSHpzQ+siQHE7YoRchyVAo1i1D01lJUAm9ffL4rYgQP7rWd1UPyVA+EG4s+LzIkDfSEObW2ElQDoF28dMMCFAM0v7fyW0IkBZ6QI8ftokQJiSqygMwiJA5OLzBPB9I0DrBEuUKT4kQKioXrOk\\u002fiRATUgFok3aI0DeUl\\u002fktnolQHL6KR7BgCNAZDuRBiAtI0CX++hsXNQhQDWMqZmSRSJAd19Gu4vMHUBitoI1zFQlQOpBi7MmyCFAGIriCrxXIkC1LtMGRVUfQNdRG0PvXCJArd+RIDnBH0A3f2CUmrEeQIYPVWg27yJAWV3zBTlkIkAYh9AXCwckQOeXzHemlCVADJw0PQq0IECloQTI28MiQOTRv4csWCJANPE0\\u002fKroIUCMwSXnzU0iQId5v7BAISNA4IEbOrmNJUCzpGRVxlQkQFSjnZ7OHyBA\\u002fNjuB6bVI0CaKPHs0kslQKvOdVeXtB5ANcR++WSKIEClokIUp8MdQKNuLJLHZSNAmCzMUOP+I0DE1LJpLCElQB5bQAHAQyJAzDHilTWiIUDjEw5HPD4kQIj9H2k\\u002f1CJA7yL\\u002f+W\\u002fBIEAwwbbM5eMiQFdHbGkbwCNAx\\u002fAbKh3TI0B7dglxh6kgQC0IzWesxiJAiOJlOiLpIUAD6+0EIRUiQLmrqKIs1x1A6HrOI\\u002flLJUBJbn97WAEiQAtmvhS\\u002f6iRAn960skxdIkChvDWQSiwiQHU0Qah\\u002fgSJA8\\u002fMuKP7SIUB9+l3wlOUgQPAxkx3p\\u002fSBAQPhM9RA6JEDdcyc4QPQkQNrl\\u002fBoytiJA2+sz4sLXH0Dnjghi95YhQNOYj+EoWyBA74g8P6VTJUBJt22vDo4lQOCh5pHoPSJAV3sNFlGUJUC17MFvQzQkQKXUJzqmAiNAV2MQbkG6IkBsRS9lNLgjQMuE30NyESNAFcXIJBfPIkCAW2bvrhUjQEfi3mh4SSVAWSYtDB8IIkDL27+GHbMjQHyoZia1\\u002fyJAaBIVHYH6IkBHai\\u002fKTRcjQBlxjFhumyJAuLluSKR1IUBgj5HBaf0gQCRR0SlqDiJAX50\\u002flY03IUCQMLJpcZkdQGHQgZTDwSJAIpQHEt8xIkBadQy\\u002fDVogQDrkIGAI2iJAnHmZes8cI0D+sjzsozgkQCgC33+PMiJAYSStZuBXIkBtnPlzbRAeQFDuqM6ehx1Axf9bYudtIkCExyP0p+4gQA5X7eU\\u002fEiNAEMg4KhxzH0CbzDkOLSEgQOB00803YCJANjxaOrICI0AuugoYifohQLXBrRnVACJAS5Cnp4ZPIEDdL5eJHQIjQHyuxHtKyiJAsFjDy9ThIUC3kVIzvvwkQJHLp77f8xxArEx4OJuZI0CE7OuEaPcjQOUCjLrpGCVAvDlXCLdqI0BlzooCQmgkQFI83FWEOyNAHMIUeSVOJUCKCST1NeIjQEXosULrWCFAkVzcLXMMIkDbVNmhtY8cQHBv+SfhwiJAKnnqzQSjJEAmkbS5lCAgQHPAhbUe4CBAlVd\\u002fxBiQIkD1ubjXrqseQBWsOHezMyJAQhu9s\\u002f5FIkAFf2D2nEwiQMYblJE42iFA3IK4584ZIkAadoGsxG4jQNUE8rvlOiNA2LHrFeWWHUDe4smpmEQiQIoHZaTJ\\u002fiFA80qEd7EwI0BfFjjaTnkiQOzJzKXYLSBADsqGOaSuIkD5dRHQtq0gQKdkel3eGiJAAtGJWgKbIUC34RDy\\u002fp8gQFROiX9kkB1ATEdsMhvEI0CbUG6+XSgjQPqjFJPwECFA5JBo\\u002fCmqHkDRQxRuws0hQHqvUcK0PSJAIpKeJKipI0BCFqyFCicjQONtJ3HziyRATtxKqNaCJUAUt+cOqX8lQCWwITIoJiVACb9x\\u002ffekH0DH\\u002fuXg8TMiQKKUYbnEYCJAd+Jl93OTIUAqQnxvOcwhQKCHRPgRHyBA2pOt6givI0ArDxOx\\u002fBckQI3W\\u002f+Ag\\u002fyBA+ygkto9jIUBnDJS7kuMiQOodngfStCBA\\u002fSUNBgcVI0DSyAVaHeIeQBI0yubeXyFAVzxXU7jhIkDmdigU3OIfQEoUZk1G7SBA6f\\u002fYZ6gKJUBHwOecHjAcQPHcc9EYgCRAgPHahhBXJED7yKD2ts0hQGb8tLNR5yJAqw9nhDOxIkDVdrfBfl4hQC\\u002fuwTLe7yBAxF733zzZIUDKAx3nqZogQDkb1aelVx5AxIKkFvTpHUAZO2pGo+cgQNUrAl6j+iNA5DU\\u002fZfvDIkD8jJMuNMIiQBjHOp2YiSJAxYchzbjkIUDR90rW3H4iQJbnbLy5AiRA+xevKRhDI0Amnb2cIqQiQAIUoDEglx1AY3pDCzPCI0A9h\\u002fZxzPoiQCD\\u002fGXnI4yJA7rrsFIkcJEBlJ\\u002fWobskeQFd3A\\u002fqbSh9AIspDVYnKHkCInT0VWNsdQAme3C6a5CNAFDhx9ZpIJECWJTuMgIokQAYukTND7yRALuq2lNBZH0DNBhR35FcdQIXJsYQoCR5AIuaDi+ZNI0CWyIP\\u002fy0YiQH4bU57tkB1ALPoKQoRlIkCemmNc0VQiQGN8eHcmwSBAFKmn4+7cIkA8lTJ8QokcQOq0qFoumCVAmqKGSNGCIkDZnlbO3t0dQKY1\\u002fMzDNiRAcTZlY0fHHkDtIyfG9+AiQLnaN9v9liNAI3KyikxWHkBceERawQEhQJEdT0o7+yFAHoaGrscGIkDJYrTQPQQjQICdBSBW\\u002fiRAX7ZVgAqpIUBS\\u002fnqBbwQkQHGOajbtxyRAK9hABvZjIUCBPm+0\\u002f6UhQLTc2NHihB9AXzIJaUAQIEBFXuA4wAogQMVR9upBsSJAQRTmatS+IkBbBgtnLEsfQBUuRzznSSJAVteSBTCLHEDZfHm\\u002fkOkjQLocTPEarSJAHXMm+Mp1JEBQUPPKPhMiQB9ZM87hICFAjy7E1gOEIEAVR9m1G04kQNa268DOlSBAWcBmi81kIkCwxjYf+y8hQDoDF2KDGiVA+INginqyIkA9XU6zNC0kQLmOSmKHZCJA77oDAe8OIkDMa1+NtsUdQGkr9Rz7lSVA6qOYO44ZI0Bkcs3zGO8iQM2jvqYTuiNA3ZlrD8ERI0AXXaEP2WshQFjt9v3JYyFAOl93eLMrIkAtW69ZJggiQDAJaGzCbiRAwSL7gqV2IUD4eVdgywwgQHF4SITTEyNAbv8qakcgJkBX+Jd1aXciQH\\u002fhqjLOJyRAWBrQ2jMvIEDC6FjJ9bQiQKp165N6JiBAGykxn4J3JUCOsS8lLgEjQABCaHQTkyBA5QJ2RVXwIkBt6UxrJ6UiQBkaF08vlSNAl6BVu6yCIEBi+3E9bA4iQAgPUUAwjiBApOFgyUMxJUCBfYr9HaAdQG0bTe2oQCJASI9FsvCYIkC6oMogX0kfQODXinYUOSJA0i1z+lTAH0BdrVBGDqceQOn+o1IThSFA3tFGnYTHIUCpRGI0mrUiQMHYDiu1dSVAkziFkgx3IECDZDjL7tEeQL4KRb\\u002fu7iBABnr1cRy5JEAiMlskxvoiQOzg8Ep30iJA0PxPIpqrHUALanjsu\\u002fQlQEPf2W1kXSJANeZTa1clIEAp5OBKoO4iQLTEB2jWmx1AtF8nV6+DIUAjY+TP5Y0jQEyrKGcjgBxAfA7YvrjxIEAmvZwEeYQgQA6tFE+fYSVANKNSYncKI0DXK1yvK2QhQAGODaJGwiJAIlTYJCIUIkDgB1agsWYfQBc3YclnRyNA61XVP7ZMIUAgpN8goysiQDTLWBjk4SFAvTwoEFtCIUCHlwtRZNQhQCOQBeBA1iRAYZ+qE8KXHUCAdFW7jz8iQCI57QPEnyJAoVaXkA1fI0D3pbIuT4kjQFRSft6hRSJAmq9ri7BaIEAGiEgXjU4kQMrNkXJryyBA04ADmKwnJUCd92JoWRsiQGyDyPO8lCFABfbAkH\\u002fMHkC3s37Vr6IhQLzDEXgAKB5AWPIJZSVWJUADYfB1ProiQJxAAzTsHCRAmxTnONnkJEADf5Pq\\u002fI4iQBbrZ\\u002ff6aCBA4OVj780zJUDM1CJ4AkAiQOFDPtt85yRAjjoUIIvOIkBQVVKIqHMgQO+w\\u002f35ZoiFAs6T3jHqrIkA4d8XQP60iQE6B5eNOViVAB4+2IRJwIkCMmurk5lseQIxYTsBMPiBAWm5zLprBIUCRPPXfiksiQJsCPrTHJiNABY3rxxSeH0DnJpyhFz8kQPB5T+Nk0iNAdozBsgTwIkDCp9tHEJwhQK1BuZ6syyRABGT34qj3IkC1DfviC88gQD+7UqASryNAmqJms95yIkA\\u002fbxnHlnAhQPasi3NXCSJAxKXXSz7IHUChMFiXG9siQGUtVJplYSJA8KAyCYyIIkBbukzIGAsiQL3TeuojGiJAWXbFEF\\u002fTIkB8t1Vo+jkkQG1l9GLlRCBA3hvElAOeIEC1gj88lVwkQKykeDwxJiNAO69figmKIUCg2Ljv1wMkQI+k1wjLFyFAFDnsmXkkHEAfn7wn9WgkQLexNok+USVA16+zbpgkIkBMC8IGhTElQGC0UKTMdSVAuKNj6SaPIUC32xYt5fcgQJ8H20BIjyBAc1QkKFLHIECkuNTtuXUhQPEMO2xEeyVArXxFNB7FIUAOZL6hXN0iQEiII2F8eiVAi\\u002fit7FLYIkD\\u002fqW7HqHMiQKs0oLgqbh9A9XHfGa5\\u002fHEBztNkXzjIlQDKWEOenZCJA9A\\u002fTzEPwIED9vdNCvqciQGQxR83X5yFA8caLKt4zIUC4x0fKjVkkQH+yoxtF6iRAlgSk\\u002f0mbHkAPnFRFyv0hQPvrohLHER9AFfoKYMENH0C2vwhfeF0gQJ\\u002fTVsuAJCBAdy4\\u002fphuQJEDx4m689zQlQJR+ReBimyJAGuw2YEZSIEBsB\\u002fQOy3EeQIRtr6KsUyJAm5oSE6pRIkCinMOc0C4hQBfktDPOMSJAB\\u002fC2r9UtIUCh5L776WYlQOD7ucoOeSJAQAP2ULlvIUAFlDtXtTYhQETLO1Bc0R1AvzhEnSdxIkAZlWsz9gwiQGgDp0ZVXx5ATuQLK0Q6H0B+82mMRs8iQB4D5KYHVSJAHCpsyXD2IkBStIULYJUiQMkowLfU0iJA\\u002fuetCUplIkAXSMkYqagiQLaY9Q028SJAVh7kPNaQHECpZI6GGXEiQLhEzWxGPSVAJyaOqfGbIUAffV9F9nAjQBPkdOoU0R5Ao3CbSNSkIUAIOYeS\\u002fL0jQKlTjlIIbyJAa\\u002fgeLsazIEDCPADNlE4iQIGDUms7GCNAHaKXBO9VIkCBC\\u002foB0DYlQBQI9lbjTyBA65qT\\u002fTb+JEBN3l4fC2klQFHggmS9HiJAFqN82pqfI0C1hKyMhlklQFhw\\u002f2OUdiBA9qXpAtMrIkAwfA6BFWciQPmd0tq7vSJA7gR8gSOUHUCIrqKl5hsiQFE7+pLRDSBATwkg+qbCI0D4lhGIODYeQD+x9D6cHyNAIlmkwObBIkD1mLiyOn8jQHd9trT+CyFA5+aTP4n4IUAeA0EWmRckQA0NXG7sMiFA1H6iMOT\\u002fJEBVyC4P9owgQLwIW+c6KR9Ag+SwfGy1I0DtuP9XNA8gQJekpzAhOyJAmzMFpUjCIkB6HJYscv0hQKSdmXjEuCFAY\\u002fxjKIEjI0AsG0GgK7AhQMsmNOHIeSRAjcioqnajIkAdrsuZ+ekiQJEu\\u002f95vkSNAJhiTN9\\u002fHIUAteii2nYciQOyoFU4atCFAsA2s2N3UIUBP4stnhWAhQJqLqxr8ZCJAlje6MvafI0DmUcgdzS0cQLyWYH5CSyJARdLcJeo2JEDCi+Cvj8EgQF0IzwhUiCFArBfiV7rnIkAuJodZFzweQEYL1YHTHSFAv1HSPsADI0B3B+AmfEghQGXWXqQCiBxAiunqyqmmH0B1MgV8UewjQMaIMbosxCFAD902jWehI0AUiN16ibcgQFsW7sM+6yBAPCW+sYXCIkCZRz0L65UjQIDi2JR7uCFA+RemsFEjI0CAySY4yZoeQCNvDAzJISVAzf1eTm0EHkBfS6RO\\u002fechQBFOeeOAgyRAvRXIFh2rHkBIx\\u002fx+DiAcQOai3nqTNSBAzjgyetNMIkBWq9ixEIQhQEptbYMhnSJAHuaG5rPKIEDO21LpY0EhQCyRFtTVJh5ABT5ARmTPH0AwqwFORGAgQGnvlQcAHyRALw5RwsjVJUCxvc4XstQhQHd+m2Vhkx9A7XpjMryQHUAbNr35SAciQPY3uuLo3iJArmDcxYpeI0D5w5fzGmAlQIUu2l0E4iNARco6NUwsJUCtgx6yFHAhQAFjXG9NASNAQK8ehWAjIUB2bbWqROsgQKeW9cn\\u002fvSJARPxBrhAuIUA71fPiq8AhQHy7J6ycxyBAhRm4ATq6IkC8ApjoYIchQDcibofs4iJAqB\\u002fXVYtSHUAReJhQrtYiQDqpd8XU+yRAfqdr00NyJEDEs2\\u002fJXm8iQNNKez\\u002fibSVAzVcYfSJlIkDUA0eCITIfQNYiQ4Km\\u002fR9A4mdVVpuJIkDkrg4QSQ0lQOS8QvtSHCNAts0NJtFLJUBmImOZYL0iQGuFjsI1LiRAFwm1rWwlHkDcTgoAzD0lQI7rG3F6ViNAoLnqKM+eI0AMlSLZ4ZoiQDQgHgZMeiVAIVTgqgLAIUA9zhQXbNQiQNuCFGeuNSFAGQAZ+zgpIkBjR0Z2+pYhQI\\u002fS2PYCKRxAqQOecqG2IkCm8NuXGvciQMguOUFhxiBAqgT2+e8VIkDIuhhWMUIgQAFlGnBRYyFAGQTmx+mpIUAFdYvbhC8iQLOU6vnflh9A0+QEN6xXJECCcDEsG5shQPRaeLKvfSFAGo6KPxqAIUBY4861yUkgQHl+86rcux9AdfN\\u002fsWVuH0BQpWDk3XslQMi2SDcn\\u002fCBAWojC6lvHI0DRPO1eXWwkQLwMKgzxIyFAnGe1Ml62HUAByhVQssYiQGrwpPqikiRAW6TBO5vGIUA4oB355oAiQDzcgOegZCVAMw+BAG4HI0ASvtLciPQiQEVwR7ljySNAU1v0\\u002fujSHkAzwH9nt5gdQD4ut420oR5AZ0MRa7wjIkBTc5DW9ZUlQKCMGE\\u002fj5CBAFllqrm4BIkC0Il4H1eMiQFg+5Dsc2iBAyWnX7+H4IECeJEoEc+EhQNGAfpQQQSNAeXgABhyKI0AQwPhpP4MfQEDAgtg52iRAA3s5wcYlI0BJrbhz\\u002f+AhQBPsc+GDIiFAm7F5k9dAH0AxQM3sGvojQGe472wf7iRAnVk2VKzzIkAoFLtZUSEhQEcFdp99AyNAA2g\\u002fpOwDI0C1ou8CgjghQNx+sJMBviBAf8AyihZ7IUBijCvenUckQM9eW9WV6B9AcnKBmGvKIkCs+jVGPQQjQOF3c39MfiFApusDSVHtH0DAl17HF3ohQCGHkZ2icCJAoMSIhe3NIUDkK4NGN+YgQG423XHs0iJAWPaqkPbAJEAEFNPVzDMiQAcdZXw4+B5AjJCyCMRQIkD1kpVETRccQNADbbEYVCJAJ19ATgXRHkADuRTj4pQdQN1fJ5BZ8SJAblWZZPK6IkCQZZiPp8AhQNyP3ngiJSVADV9GAOODIUBtU5Aa4cwjQHcu8XjNtCJAadYUbxCJJUDsuIoc8dUgQC+p6cN+JCVAXvNVCtXOI0A2yzwjZYYgQCZRWKJzSiVARQaK0WziIkAaMU\\u002f5iz4lQJo6j+hcgyRAbxrJmPylH0B3ar6TQjwgQHH1ATAKKSNA+M1ThnZRIkCgAIVfCF4kQLgqJ4Il7iBA1nYb6zwrJEDNnXdOodkhQIjqXA\\u002ftMCBAI8IfuEgeIkCP3JRAdo4iQDelnYsFCCFAbFK3midXH0CuREKaCeQdQJPLWnd2AB9AtNv+4sFgI0Cm3f9MwewhQH9kNbvU5B9Avow6clhcIkDBdgTzT\\u002f0gQFt7Q0xRSyRAFtQMneXSIEB3HfDqrrkjQLNInhM1dSNAQt+9wgcAIUC1H0HW1uAhQA2RwI8JEyJAgc7C4gqBJEAaUmHx\\u002ftQgQCN5J493LCNA4ibobShAIEAOvbZwkL8hQOugP9K4cSJA1KGrWic4IUDuiNNAnmkjQEraqxWU+CFA0oJA8s7SIUA+Lm272hMjQBSwOY8xkyFAH9e0qoQjIUB4rxk8KIYjQGd5mbJW5SRA5w4sSGFZHkBbPc8pMu0jQCtrHygcICJATJZHATnLIEDa4BsTycsgQGEnvYwYPyRAs6sovH0bJEAzPTRohmkiQFkLsGBhCiJApy8SqgauI0AmF7cwuAMlQOCGhrs3KCJAwuLIv6QuIUCohWMsWc4iQOL5644hnh9AEN5tbwGVIEDLyGo3wN0iQKoJTAdKVSRA0iw2ZikqIkCT04SMv\\u002fUkQHPfvGQGTSVAzG\\u002fSeobHHUBZozrvrBwiQHB\\u002f6FyacR5Az0yHsJBqI0CxRIlV4fUjQKcNxYH6YyJAWPJ+txKsIUDxvw990fcjQEkxcwgvZyVAJwKfSNynIEBjgjjRqQ4jQJnxu\\u002fcN8CJAULYV5Q7NIkCDs76MOBAlQIOEzJXzLSVAXRRYYVDgHkDeEb4JvwokQCPMChmQ1CNA\\u002f2reYrvDHUCMiYjuT9YkQNOqYF8ZHiBAhrvKnoOuIkBSP\\u002fBumvwjQAl1VfBQzCFAFBH1xhNoJUCVp750x18gQNpbHID6LSVAcFioXez6IUBtyduwMiYjQIRHyuPgRSJAAKK5cSJHJECYQeTbSTwgQKlZ5SVDiSJAfHx1tecKIkCj5dRLoJYjQKU0\\u002f5oARB9AluZdZ5nOIECKQlKx2V0eQFDe1CyptSJAm04qXBKZJUCh30lr6pIhQAWB4WuvTCFAdhbS02S4IUB\\u002fHOHUgTQiQJ8lFU4FUSFAQiOgAJskI0BnSHaqK5kiQIQ3YgjVLyVAJ3gIcwgXI0C9q6336zceQP4YyHEmzSJAfbRMBwL6IkAev3J69dkgQIdQ+HORGyJAqPcLk2OaHkAf7VRQSugkQJ4ko9HGQCNApaa6UxLEIkAB2L7WpM0gQL\\u002fz4IW0WSFAPw4UqUCgIEBRR4Bo9zsjQKjw2SrztCNA\\u002f05v3uySIkAz4+b+rKwiQOoVr6GsXiJAYoDuhWuIIkDtBBFXfkYlQFbr486oqSJAm7ceSmVfIEBB54OI39wkQEts\\u002fWs9qiJAUTvt98XZIEBVQYTjrmklQD\\u002fsml+CsR1A4uxpNigXJEAwwIMAoCggQO0\\u002fvBGYdCNAHUKMpCeoIkD5NGBd\\u002fE0gQJe0CwkhrSJAMjV\\u002fzz3ZI0A89l+NwnwiQEexAFsTNSJAWV01KWGEIkA4g1pnP+UfQFrYo8PKHiJAyerP682zIkDJHKej1kklQJtZhprHLyRAtRswl88nIUDx246yWiAfQL\\u002fwy\\u002f5zkyJABmQXhT9CIkBYj\\u002f4RTf0kQOEv9KgCGyVAwXVvh0xLIUDkt0bbw+AkQNSNF9gxDyJA++aARViAJUDY0JdXt7EjQFqtOf\\u002frPCVAQZ3oHjIhI0Bn5m0+kXYiQMi04PkBWCFA64uwtegkI0DK8DkmKtIdQK9gbxFrHSJAT8t9FLptIEA1uKUWbOAjQP5ckTU8ayJAQzjhaifGI0A\\u002fH3UadqAiQHC0NrjD4CFAoTc+7n4gIEBIjCFEPW8gQOjH1k0oCCVAzksignk4IkCPwrKKhvYhQBIE3sh4aiRAOt9mmjeCIUD24Dt6aVgiQF3UKajGqSJAUULCkpe9JUC3FAKAL+UeQOlLBI+3kiJAf66xQ2tkIUBNFjTAqMoeQGdhpf0B0yJA+wqox2I9JUD6DDG4mkUhQEGjtOsynSJAFC3PsYDFIUATfnRw6i0lQMFvzVlRJyNAj2wPqzA7H0Ck8WFcQJUgQF43mTmv5yFA54IxTl0VIUALuPF\\u002fVLMjQFQn0fJOyR5AinGkyC\\u002fAIUDcZVThoR8hQAp+EY6tmyJAnfMzgzPWIEDdQTQQ6uUgQN+E4XymbyFAVjw\\u002ftrqAI0C+U1NBZwokQMtRuxXVoCJAVr42Tc2LIUAJbcOeSMsgQNnvwZZ0sx5AFwBFOIgpJECFPaNY444hQI70n\\u002fef4x9As5zN0a29I0B3hLt+l+IhQGDq0t890h9AsXF+q+WAH0DTKwKilk4iQOTSgbvkoSNAlPurVbMeIkCSoe+59Q8lQLjPsKdCEiNApdaC\\u002fAj6I0D1RT9h\\u002ffYiQJQorthGKSFAj8S0E9QNI0CYwvJjx\\u002fIiQGE4SKGxIiJAu0hRQW+nIEB98EtZ9a8jQIPvtW+70yRAnH0V8t9LIUDIOFvsroYhQEkaJZoSAiFAP7L8O9Z2IUDvJJ8LWCYiQC5jtAhEgx5AxLzZz9lpIkAt3lY29Z4jQPMTiH+YFCFA0UjFelIIJUDXuWdLyBwlQHZjsCUh1iNA4afINaXXIkBSnnfdrC0hQJie2amGIiRAU1e182HCHUDV1gklbJMiQNDT30LmkCBAZEGBI63tIkDh3EGSsDEhQHciOVLwnSBAJUOQy1BGJUASCQ6N7tohQNWkPxYa6yBAl0PsTnKWIUDurfr3BBUiQBF3AI9iVyRAX9uakp6qIUDELwVGcPMgQIQSpgYWmiFAyaasq8rAIUDWhzm8P4kiQH+radVmxiJAR0oE+EEBJkAKB\\u002fcC2tIjQMKkMqoc3SJAQh9r+FOsIkDNKnrUbhkiQO14I653mh9Ax5bOPCkoI0CGiULehtIiQIE5PvoDtCFAEPfav2oqIEB2fvpA+oYlQPCK7yRinyVA+66YLSO7IEAHgz\\u002f2vR8gQE1GacQPJBxAHZg9\\u002fjpEIUAXvokjgjsiQG63Tx4tayFA+8AETVWYHUDjt6M25hElQA0Kl7bCqiNAPPtbZht\\u002fHEBON\\u002ffIu2MjQEfrhzPUViNARdkK9hzJIEBA8iMUFY0hQJIWx5ZtsCJAADt+3ImqIkDV3m6JRJ8kQCHeIqy4dSJAEnx8393XIEAx+IzQgDAgQAvYiF78oyFAJ43y\\u002fDPNIUAp35VdV34iQJsjjgHYZiRAllbmoYyOIkCvmB8tFOIkQP+OLps6KB5Anp7yDWIfIkDoj2cQ5jIgQLKe8gT4BiBAymsdSCspI0DExF4VOe4gQD\\u002fAPPutfCNA\\u002f1XcuJiaIkDz65QGa6ofQNkYmkBUwiBAJJE+rgYKJECv8+SANK4gQGi9hi1JCyJA3qFsoDw3JEAj5iQkOyIjQErLdI8XzR1AqlOBXG2IJUDtKKmckRoiQISx+sUhcyBAKAEF0Qc3IUBts8Yi1hslQBkYh1DAvyFA6nIFOce+IUDM8w2hmOokQHSxzu8oSx1AL+WRbqRGIkCBbGuFGMYiQPrT53whVR5AoecQYkTGHUDNgGXXX8AgQI20\\u002fZrmIiFA0smC1rqeH0DgYat5vBYmQAHz7ID3gCVAcr+iObUlIEDZwuBY6hQlQOBPNvHZ7SNAU8oEOjo9H0DHRnE8A2AjQA9gTj\\u002f18iNAL2Og4MTcJEAAWM877KshQKt+NoC8sCFAzVbCdOvaIEAoYMie99YgQDGSuOMnASVAquttqPmtI0ALvoO2A6kiQCgsClTP0x1A3BHYXpM8HEDkGwxpicEjQJRJ7gGfwyFAbz1S9pIyIUDsSveBtXwkQBWsMiBK8SJABp7RjRFhJUBisDbHX7QgQIjrhJ6j9yJA8GqF7ri4IUBqZQElz0oiQG2RuDuDCCRAikQabhR8IkA0ou8NNeMiQEArFNvnkiJAo75OJk6vIkBG5W3vjYkiQO9\\u002fSqazyx5Adqj+I76VHUBs4EdHYmseQFN+O9tQjyRA\"},\"xaxis\":\"x2\",\"yaxis\":\"y2\",\"type\":\"histogram\"}],                        {\"annotations\":[{\"font\":{\"size\":16},\"showarrow\":false,\"text\":\"Charge Distribution\",\"x\":0.5,\"xanchor\":\"center\",\"xref\":\"paper\",\"y\":1.0,\"yanchor\":\"bottom\",\"yref\":\"paper\"},{\"font\":{\"size\":16},\"showarrow\":false,\"text\":\"Log Charge Distribution\",\"x\":0.5,\"xanchor\":\"center\",\"xref\":\"paper\",\"y\":0.375,\"yanchor\":\"bottom\",\"yref\":\"paper\"}],\"bargap\":0.05,\"showlegend\":true,\"template\":{\"data\":{\"barpolar\":[{\"marker\":{\"line\":{\"color\":\"#E5ECF6\",\"width\":0.5},\"pattern\":{\"fillmode\":\"overlay\",\"size\":10,\"solidity\":0.2}},\"type\":\"barpolar\"}],\"bar\":[{\"error_x\":{\"color\":\"#2a3f5f\"},\"error_y\":{\"color\":\"#2a3f5f\"},\"marker\":{\"line\":{\"color\":\"#E5ECF6\",\"width\":0.5},\"pattern\":{\"fillmode\":\"overlay\",\"size\":10,\"solidity\":0.2}},\"type\":\"bar\"}],\"carpet\":[{\"aaxis\":{\"endlinecolor\":\"#2a3f5f\",\"gridcolor\":\"white\",\"linecolor\":\"white\",\"minorgridcolor\":\"white\",\"startlinecolor\":\"#2a3f5f\"},\"baxis\":{\"endlinecolor\":\"#2a3f5f\",\"gridcolor\":\"white\",\"linecolor\":\"white\",\"minorgridcolor\":\"white\",\"startlinecolor\":\"#2a3f5f\"},\"type\":\"carpet\"}],\"choropleth\":[{\"colorbar\":{\"outlinewidth\":0,\"ticks\":\"\"},\"type\":\"choropleth\"}],\"contourcarpet\":[{\"colorbar\":{\"outlinewidth\":0,\"ticks\":\"\"},\"type\":\"contourcarpet\"}],\"contour\":[{\"colorbar\":{\"outlinewidth\":0,\"ticks\":\"\"},\"colorscale\":[[0.0,\"#0d0887\"],[0.1111111111111111,\"#46039f\"],[0.2222222222222222,\"#7201a8\"],[0.3333333333333333,\"#9c179e\"],[0.4444444444444444,\"#bd3786\"],[0.5555555555555556,\"#d8576b\"],[0.6666666666666666,\"#ed7953\"],[0.7777777777777778,\"#fb9f3a\"],[0.8888888888888888,\"#fdca26\"],[1.0,\"#f0f921\"]],\"type\":\"contour\"}],\"heatmap\":[{\"colorbar\":{\"outlinewidth\":0,\"ticks\":\"\"},\"colorscale\":[[0.0,\"#0d0887\"],[0.1111111111111111,\"#46039f\"],[0.2222222222222222,\"#7201a8\"],[0.3333333333333333,\"#9c179e\"],[0.4444444444444444,\"#bd3786\"],[0.5555555555555556,\"#d8576b\"],[0.6666666666666666,\"#ed7953\"],[0.7777777777777778,\"#fb9f3a\"],[0.8888888888888888,\"#fdca26\"],[1.0,\"#f0f921\"]],\"type\":\"heatmap\"}],\"histogram2dcontour\":[{\"colorbar\":{\"outlinewidth\":0,\"ticks\":\"\"},\"colorscale\":[[0.0,\"#0d0887\"],[0.1111111111111111,\"#46039f\"],[0.2222222222222222,\"#7201a8\"],[0.3333333333333333,\"#9c179e\"],[0.4444444444444444,\"#bd3786\"],[0.5555555555555556,\"#d8576b\"],[0.6666666666666666,\"#ed7953\"],[0.7777777777777778,\"#fb9f3a\"],[0.8888888888888888,\"#fdca26\"],[1.0,\"#f0f921\"]],\"type\":\"histogram2dcontour\"}],\"histogram2d\":[{\"colorbar\":{\"outlinewidth\":0,\"ticks\":\"\"},\"colorscale\":[[0.0,\"#0d0887\"],[0.1111111111111111,\"#46039f\"],[0.2222222222222222,\"#7201a8\"],[0.3333333333333333,\"#9c179e\"],[0.4444444444444444,\"#bd3786\"],[0.5555555555555556,\"#d8576b\"],[0.6666666666666666,\"#ed7953\"],[0.7777777777777778,\"#fb9f3a\"],[0.8888888888888888,\"#fdca26\"],[1.0,\"#f0f921\"]],\"type\":\"histogram2d\"}],\"histogram\":[{\"marker\":{\"pattern\":{\"fillmode\":\"overlay\",\"size\":10,\"solidity\":0.2}},\"type\":\"histogram\"}],\"mesh3d\":[{\"colorbar\":{\"outlinewidth\":0,\"ticks\":\"\"},\"type\":\"mesh3d\"}],\"parcoords\":[{\"line\":{\"colorbar\":{\"outlinewidth\":0,\"ticks\":\"\"}},\"type\":\"parcoords\"}],\"pie\":[{\"automargin\":true,\"type\":\"pie\"}],\"scatter3d\":[{\"line\":{\"colorbar\":{\"outlinewidth\":0,\"ticks\":\"\"}},\"marker\":{\"colorbar\":{\"outlinewidth\":0,\"ticks\":\"\"}},\"type\":\"scatter3d\"}],\"scattercarpet\":[{\"marker\":{\"colorbar\":{\"outlinewidth\":0,\"ticks\":\"\"}},\"type\":\"scattercarpet\"}],\"scattergeo\":[{\"marker\":{\"colorbar\":{\"outlinewidth\":0,\"ticks\":\"\"}},\"type\":\"scattergeo\"}],\"scattergl\":[{\"marker\":{\"colorbar\":{\"outlinewidth\":0,\"ticks\":\"\"}},\"type\":\"scattergl\"}],\"scattermapbox\":[{\"marker\":{\"colorbar\":{\"outlinewidth\":0,\"ticks\":\"\"}},\"type\":\"scattermapbox\"}],\"scattermap\":[{\"marker\":{\"colorbar\":{\"outlinewidth\":0,\"ticks\":\"\"}},\"type\":\"scattermap\"}],\"scatterpolargl\":[{\"marker\":{\"colorbar\":{\"outlinewidth\":0,\"ticks\":\"\"}},\"type\":\"scatterpolargl\"}],\"scatterpolar\":[{\"marker\":{\"colorbar\":{\"outlinewidth\":0,\"ticks\":\"\"}},\"type\":\"scatterpolar\"}],\"scatter\":[{\"fillpattern\":{\"fillmode\":\"overlay\",\"size\":10,\"solidity\":0.2},\"type\":\"scatter\"}],\"scatterternary\":[{\"marker\":{\"colorbar\":{\"outlinewidth\":0,\"ticks\":\"\"}},\"type\":\"scatterternary\"}],\"surface\":[{\"colorbar\":{\"outlinewidth\":0,\"ticks\":\"\"},\"colorscale\":[[0.0,\"#0d0887\"],[0.1111111111111111,\"#46039f\"],[0.2222222222222222,\"#7201a8\"],[0.3333333333333333,\"#9c179e\"],[0.4444444444444444,\"#bd3786\"],[0.5555555555555556,\"#d8576b\"],[0.6666666666666666,\"#ed7953\"],[0.7777777777777778,\"#fb9f3a\"],[0.8888888888888888,\"#fdca26\"],[1.0,\"#f0f921\"]],\"type\":\"surface\"}],\"table\":[{\"cells\":{\"fill\":{\"color\":\"#EBF0F8\"},\"line\":{\"color\":\"white\"}},\"header\":{\"fill\":{\"color\":\"#C8D4E3\"},\"line\":{\"color\":\"white\"}},\"type\":\"table\"}]},\"layout\":{\"annotationdefaults\":{\"arrowcolor\":\"#2a3f5f\",\"arrowhead\":0,\"arrowwidth\":1},\"autotypenumbers\":\"strict\",\"coloraxis\":{\"colorbar\":{\"outlinewidth\":0,\"ticks\":\"\"}},\"colorscale\":{\"diverging\":[[0,\"#8e0152\"],[0.1,\"#c51b7d\"],[0.2,\"#de77ae\"],[0.3,\"#f1b6da\"],[0.4,\"#fde0ef\"],[0.5,\"#f7f7f7\"],[0.6,\"#e6f5d0\"],[0.7,\"#b8e186\"],[0.8,\"#7fbc41\"],[0.9,\"#4d9221\"],[1,\"#276419\"]],\"sequential\":[[0.0,\"#0d0887\"],[0.1111111111111111,\"#46039f\"],[0.2222222222222222,\"#7201a8\"],[0.3333333333333333,\"#9c179e\"],[0.4444444444444444,\"#bd3786\"],[0.5555555555555556,\"#d8576b\"],[0.6666666666666666,\"#ed7953\"],[0.7777777777777778,\"#fb9f3a\"],[0.8888888888888888,\"#fdca26\"],[1.0,\"#f0f921\"]],\"sequentialminus\":[[0.0,\"#0d0887\"],[0.1111111111111111,\"#46039f\"],[0.2222222222222222,\"#7201a8\"],[0.3333333333333333,\"#9c179e\"],[0.4444444444444444,\"#bd3786\"],[0.5555555555555556,\"#d8576b\"],[0.6666666666666666,\"#ed7953\"],[0.7777777777777778,\"#fb9f3a\"],[0.8888888888888888,\"#fdca26\"],[1.0,\"#f0f921\"]]},\"colorway\":[\"#636efa\",\"#EF553B\",\"#00cc96\",\"#ab63fa\",\"#FFA15A\",\"#19d3f3\",\"#FF6692\",\"#B6E880\",\"#FF97FF\",\"#FECB52\"],\"font\":{\"color\":\"#2a3f5f\"},\"geo\":{\"bgcolor\":\"white\",\"lakecolor\":\"white\",\"landcolor\":\"#E5ECF6\",\"showlakes\":true,\"showland\":true,\"subunitcolor\":\"white\"},\"hoverlabel\":{\"align\":\"left\"},\"hovermode\":\"closest\",\"mapbox\":{\"style\":\"light\"},\"paper_bgcolor\":\"white\",\"plot_bgcolor\":\"#E5ECF6\",\"polar\":{\"angularaxis\":{\"gridcolor\":\"white\",\"linecolor\":\"white\",\"ticks\":\"\"},\"bgcolor\":\"#E5ECF6\",\"radialaxis\":{\"gridcolor\":\"white\",\"linecolor\":\"white\",\"ticks\":\"\"}},\"scene\":{\"xaxis\":{\"backgroundcolor\":\"#E5ECF6\",\"gridcolor\":\"white\",\"gridwidth\":2,\"linecolor\":\"white\",\"showbackground\":true,\"ticks\":\"\",\"zerolinecolor\":\"white\"},\"yaxis\":{\"backgroundcolor\":\"#E5ECF6\",\"gridcolor\":\"white\",\"gridwidth\":2,\"linecolor\":\"white\",\"showbackground\":true,\"ticks\":\"\",\"zerolinecolor\":\"white\"},\"zaxis\":{\"backgroundcolor\":\"#E5ECF6\",\"gridcolor\":\"white\",\"gridwidth\":2,\"linecolor\":\"white\",\"showbackground\":true,\"ticks\":\"\",\"zerolinecolor\":\"white\"}},\"shapedefaults\":{\"line\":{\"color\":\"#2a3f5f\"}},\"ternary\":{\"aaxis\":{\"gridcolor\":\"white\",\"linecolor\":\"white\",\"ticks\":\"\"},\"baxis\":{\"gridcolor\":\"white\",\"linecolor\":\"white\",\"ticks\":\"\"},\"bgcolor\":\"#E5ECF6\",\"caxis\":{\"gridcolor\":\"white\",\"linecolor\":\"white\",\"ticks\":\"\"}},\"title\":{\"x\":0.05},\"xaxis\":{\"automargin\":true,\"gridcolor\":\"white\",\"linecolor\":\"white\",\"ticks\":\"\",\"title\":{\"standoff\":15},\"zerolinecolor\":\"white\",\"zerolinewidth\":2},\"yaxis\":{\"automargin\":true,\"gridcolor\":\"white\",\"linecolor\":\"white\",\"ticks\":\"\",\"title\":{\"standoff\":15},\"zerolinecolor\":\"white\",\"zerolinewidth\":2}}},\"title\":{\"text\":\"Charge Distribution\"},\"xaxis\":{\"anchor\":\"y\",\"domain\":[0.0,1.0]},\"yaxis\":{\"anchor\":\"x\",\"domain\":[0.625,1.0]},\"xaxis2\":{\"anchor\":\"y2\",\"domain\":[0.0,1.0]},\"yaxis2\":{\"anchor\":\"x2\",\"domain\":[0.0,0.375]}},                        {\"responsive\": true}                    ).then(function(){\n",
       "                            \n",
       "var gd = document.getElementById('bcd33d52-7d2d-42a2-a096-ace7a08a19fe');\n",
       "var x = new MutationObserver(function (mutations, observer) {{\n",
       "        var display = window.getComputedStyle(gd).display;\n",
       "        if (!display || display === 'none') {{\n",
       "            console.log([gd, 'removed!']);\n",
       "            Plotly.purge(gd);\n",
       "            observer.disconnect();\n",
       "        }}\n",
       "}});\n",
       "\n",
       "// Listen for the removal of the full notebook cells\n",
       "var notebookContainer = gd.closest('#notebook-container');\n",
       "if (notebookContainer) {{\n",
       "    x.observe(notebookContainer, {childList: true});\n",
       "}}\n",
       "\n",
       "// Listen for the clearing of the current output cell\n",
       "var outputEl = gd.closest('.output');\n",
       "if (outputEl) {{\n",
       "    x.observe(outputEl, {childList: true});\n",
       "}}\n",
       "\n",
       "                        })                };            </script>        </div>"
      ]
     },
     "metadata": {},
     "output_type": "display_data"
    }
   ],
   "source": [
    "charge_dist = df[\"charges\"].values\n",
    "logcharge = np.log(df[\"charges\"])\n",
    "\n",
    "\n",
    "trace0 = go.Histogram(\n",
    "    x=charge_dist,\n",
    "    histnorm='probability',\n",
    "    name=\"Charges Distribution\",\n",
    "    marker = dict(\n",
    "        color = '#FA5858',\n",
    "    )\n",
    ")\n",
    "trace1 = go.Histogram(\n",
    "    x=logcharge,\n",
    "    histnorm='probability',\n",
    "    name=\"Charges Distribution using Log\",\n",
    "    marker = dict(\n",
    "        color = '#58FA82',\n",
    "    )\n",
    ")\n",
    "\n",
    "fig = make_subplots(rows=2, cols=1,\n",
    "                          subplot_titles=('Charge Distribution','Log Charge Distribution'),\n",
    "                         print_grid=False)\n",
    "\n",
    "\n",
    "\n",
    "fig.append_trace(trace0, 1, 1)\n",
    "fig.append_trace(trace1, 2, 1)\n",
    "\n",
    "\n",
    "fig['layout'].update(showlegend=True, title='Charge Distribution', bargap=0.05)\n",
    "iplot(fig, filename='custom-sized-subplot-with-subplot-titles')"
   ]
  },
  {
   "cell_type": "code",
   "execution_count": 4,
   "metadata": {
    "_kg_hide-input": true,
    "_uuid": "3761d4571cc41a856bca688edfae1f991958203d",
    "trusted": true
   },
   "outputs": [
    {
     "data": {
      "application/vnd.plotly.v1+json": {
       "config": {
        "linkText": "Export to plot.ly",
        "plotlyServerURL": "https://plot.ly",
        "showLink": false
       },
       "data": [
        {
         "hoverinfo": "label+percent",
         "labels": [
          "Young Adult",
          "Senior Adult",
          "Elder"
         ],
         "marker": {
          "colors": [
           "#ff9999",
           "#b3d9ff",
           " #e6ffb3"
          ],
          "line": {
           "color": "#000000",
           "width": 2
          }
         },
         "textfont": {
          "size": 20
         },
         "textinfo": "value",
         "type": "pie",
         "values": [
          574,
          548,
          216
         ]
        }
       ],
       "layout": {
        "template": {
         "data": {
          "bar": [
           {
            "error_x": {
             "color": "#2a3f5f"
            },
            "error_y": {
             "color": "#2a3f5f"
            },
            "marker": {
             "line": {
              "color": "#E5ECF6",
              "width": 0.5
             },
             "pattern": {
              "fillmode": "overlay",
              "size": 10,
              "solidity": 0.2
             }
            },
            "type": "bar"
           }
          ],
          "barpolar": [
           {
            "marker": {
             "line": {
              "color": "#E5ECF6",
              "width": 0.5
             },
             "pattern": {
              "fillmode": "overlay",
              "size": 10,
              "solidity": 0.2
             }
            },
            "type": "barpolar"
           }
          ],
          "carpet": [
           {
            "aaxis": {
             "endlinecolor": "#2a3f5f",
             "gridcolor": "white",
             "linecolor": "white",
             "minorgridcolor": "white",
             "startlinecolor": "#2a3f5f"
            },
            "baxis": {
             "endlinecolor": "#2a3f5f",
             "gridcolor": "white",
             "linecolor": "white",
             "minorgridcolor": "white",
             "startlinecolor": "#2a3f5f"
            },
            "type": "carpet"
           }
          ],
          "choropleth": [
           {
            "colorbar": {
             "outlinewidth": 0,
             "ticks": ""
            },
            "type": "choropleth"
           }
          ],
          "contour": [
           {
            "colorbar": {
             "outlinewidth": 0,
             "ticks": ""
            },
            "colorscale": [
             [
              0,
              "#0d0887"
             ],
             [
              0.1111111111111111,
              "#46039f"
             ],
             [
              0.2222222222222222,
              "#7201a8"
             ],
             [
              0.3333333333333333,
              "#9c179e"
             ],
             [
              0.4444444444444444,
              "#bd3786"
             ],
             [
              0.5555555555555556,
              "#d8576b"
             ],
             [
              0.6666666666666666,
              "#ed7953"
             ],
             [
              0.7777777777777778,
              "#fb9f3a"
             ],
             [
              0.8888888888888888,
              "#fdca26"
             ],
             [
              1,
              "#f0f921"
             ]
            ],
            "type": "contour"
           }
          ],
          "contourcarpet": [
           {
            "colorbar": {
             "outlinewidth": 0,
             "ticks": ""
            },
            "type": "contourcarpet"
           }
          ],
          "heatmap": [
           {
            "colorbar": {
             "outlinewidth": 0,
             "ticks": ""
            },
            "colorscale": [
             [
              0,
              "#0d0887"
             ],
             [
              0.1111111111111111,
              "#46039f"
             ],
             [
              0.2222222222222222,
              "#7201a8"
             ],
             [
              0.3333333333333333,
              "#9c179e"
             ],
             [
              0.4444444444444444,
              "#bd3786"
             ],
             [
              0.5555555555555556,
              "#d8576b"
             ],
             [
              0.6666666666666666,
              "#ed7953"
             ],
             [
              0.7777777777777778,
              "#fb9f3a"
             ],
             [
              0.8888888888888888,
              "#fdca26"
             ],
             [
              1,
              "#f0f921"
             ]
            ],
            "type": "heatmap"
           }
          ],
          "histogram": [
           {
            "marker": {
             "pattern": {
              "fillmode": "overlay",
              "size": 10,
              "solidity": 0.2
             }
            },
            "type": "histogram"
           }
          ],
          "histogram2d": [
           {
            "colorbar": {
             "outlinewidth": 0,
             "ticks": ""
            },
            "colorscale": [
             [
              0,
              "#0d0887"
             ],
             [
              0.1111111111111111,
              "#46039f"
             ],
             [
              0.2222222222222222,
              "#7201a8"
             ],
             [
              0.3333333333333333,
              "#9c179e"
             ],
             [
              0.4444444444444444,
              "#bd3786"
             ],
             [
              0.5555555555555556,
              "#d8576b"
             ],
             [
              0.6666666666666666,
              "#ed7953"
             ],
             [
              0.7777777777777778,
              "#fb9f3a"
             ],
             [
              0.8888888888888888,
              "#fdca26"
             ],
             [
              1,
              "#f0f921"
             ]
            ],
            "type": "histogram2d"
           }
          ],
          "histogram2dcontour": [
           {
            "colorbar": {
             "outlinewidth": 0,
             "ticks": ""
            },
            "colorscale": [
             [
              0,
              "#0d0887"
             ],
             [
              0.1111111111111111,
              "#46039f"
             ],
             [
              0.2222222222222222,
              "#7201a8"
             ],
             [
              0.3333333333333333,
              "#9c179e"
             ],
             [
              0.4444444444444444,
              "#bd3786"
             ],
             [
              0.5555555555555556,
              "#d8576b"
             ],
             [
              0.6666666666666666,
              "#ed7953"
             ],
             [
              0.7777777777777778,
              "#fb9f3a"
             ],
             [
              0.8888888888888888,
              "#fdca26"
             ],
             [
              1,
              "#f0f921"
             ]
            ],
            "type": "histogram2dcontour"
           }
          ],
          "mesh3d": [
           {
            "colorbar": {
             "outlinewidth": 0,
             "ticks": ""
            },
            "type": "mesh3d"
           }
          ],
          "parcoords": [
           {
            "line": {
             "colorbar": {
              "outlinewidth": 0,
              "ticks": ""
             }
            },
            "type": "parcoords"
           }
          ],
          "pie": [
           {
            "automargin": true,
            "type": "pie"
           }
          ],
          "scatter": [
           {
            "fillpattern": {
             "fillmode": "overlay",
             "size": 10,
             "solidity": 0.2
            },
            "type": "scatter"
           }
          ],
          "scatter3d": [
           {
            "line": {
             "colorbar": {
              "outlinewidth": 0,
              "ticks": ""
             }
            },
            "marker": {
             "colorbar": {
              "outlinewidth": 0,
              "ticks": ""
             }
            },
            "type": "scatter3d"
           }
          ],
          "scattercarpet": [
           {
            "marker": {
             "colorbar": {
              "outlinewidth": 0,
              "ticks": ""
             }
            },
            "type": "scattercarpet"
           }
          ],
          "scattergeo": [
           {
            "marker": {
             "colorbar": {
              "outlinewidth": 0,
              "ticks": ""
             }
            },
            "type": "scattergeo"
           }
          ],
          "scattergl": [
           {
            "marker": {
             "colorbar": {
              "outlinewidth": 0,
              "ticks": ""
             }
            },
            "type": "scattergl"
           }
          ],
          "scattermap": [
           {
            "marker": {
             "colorbar": {
              "outlinewidth": 0,
              "ticks": ""
             }
            },
            "type": "scattermap"
           }
          ],
          "scattermapbox": [
           {
            "marker": {
             "colorbar": {
              "outlinewidth": 0,
              "ticks": ""
             }
            },
            "type": "scattermapbox"
           }
          ],
          "scatterpolar": [
           {
            "marker": {
             "colorbar": {
              "outlinewidth": 0,
              "ticks": ""
             }
            },
            "type": "scatterpolar"
           }
          ],
          "scatterpolargl": [
           {
            "marker": {
             "colorbar": {
              "outlinewidth": 0,
              "ticks": ""
             }
            },
            "type": "scatterpolargl"
           }
          ],
          "scatterternary": [
           {
            "marker": {
             "colorbar": {
              "outlinewidth": 0,
              "ticks": ""
             }
            },
            "type": "scatterternary"
           }
          ],
          "surface": [
           {
            "colorbar": {
             "outlinewidth": 0,
             "ticks": ""
            },
            "colorscale": [
             [
              0,
              "#0d0887"
             ],
             [
              0.1111111111111111,
              "#46039f"
             ],
             [
              0.2222222222222222,
              "#7201a8"
             ],
             [
              0.3333333333333333,
              "#9c179e"
             ],
             [
              0.4444444444444444,
              "#bd3786"
             ],
             [
              0.5555555555555556,
              "#d8576b"
             ],
             [
              0.6666666666666666,
              "#ed7953"
             ],
             [
              0.7777777777777778,
              "#fb9f3a"
             ],
             [
              0.8888888888888888,
              "#fdca26"
             ],
             [
              1,
              "#f0f921"
             ]
            ],
            "type": "surface"
           }
          ],
          "table": [
           {
            "cells": {
             "fill": {
              "color": "#EBF0F8"
             },
             "line": {
              "color": "white"
             }
            },
            "header": {
             "fill": {
              "color": "#C8D4E3"
             },
             "line": {
              "color": "white"
             }
            },
            "type": "table"
           }
          ]
         },
         "layout": {
          "annotationdefaults": {
           "arrowcolor": "#2a3f5f",
           "arrowhead": 0,
           "arrowwidth": 1
          },
          "autotypenumbers": "strict",
          "coloraxis": {
           "colorbar": {
            "outlinewidth": 0,
            "ticks": ""
           }
          },
          "colorscale": {
           "diverging": [
            [
             0,
             "#8e0152"
            ],
            [
             0.1,
             "#c51b7d"
            ],
            [
             0.2,
             "#de77ae"
            ],
            [
             0.3,
             "#f1b6da"
            ],
            [
             0.4,
             "#fde0ef"
            ],
            [
             0.5,
             "#f7f7f7"
            ],
            [
             0.6,
             "#e6f5d0"
            ],
            [
             0.7,
             "#b8e186"
            ],
            [
             0.8,
             "#7fbc41"
            ],
            [
             0.9,
             "#4d9221"
            ],
            [
             1,
             "#276419"
            ]
           ],
           "sequential": [
            [
             0,
             "#0d0887"
            ],
            [
             0.1111111111111111,
             "#46039f"
            ],
            [
             0.2222222222222222,
             "#7201a8"
            ],
            [
             0.3333333333333333,
             "#9c179e"
            ],
            [
             0.4444444444444444,
             "#bd3786"
            ],
            [
             0.5555555555555556,
             "#d8576b"
            ],
            [
             0.6666666666666666,
             "#ed7953"
            ],
            [
             0.7777777777777778,
             "#fb9f3a"
            ],
            [
             0.8888888888888888,
             "#fdca26"
            ],
            [
             1,
             "#f0f921"
            ]
           ],
           "sequentialminus": [
            [
             0,
             "#0d0887"
            ],
            [
             0.1111111111111111,
             "#46039f"
            ],
            [
             0.2222222222222222,
             "#7201a8"
            ],
            [
             0.3333333333333333,
             "#9c179e"
            ],
            [
             0.4444444444444444,
             "#bd3786"
            ],
            [
             0.5555555555555556,
             "#d8576b"
            ],
            [
             0.6666666666666666,
             "#ed7953"
            ],
            [
             0.7777777777777778,
             "#fb9f3a"
            ],
            [
             0.8888888888888888,
             "#fdca26"
            ],
            [
             1,
             "#f0f921"
            ]
           ]
          },
          "colorway": [
           "#636efa",
           "#EF553B",
           "#00cc96",
           "#ab63fa",
           "#FFA15A",
           "#19d3f3",
           "#FF6692",
           "#B6E880",
           "#FF97FF",
           "#FECB52"
          ],
          "font": {
           "color": "#2a3f5f"
          },
          "geo": {
           "bgcolor": "white",
           "lakecolor": "white",
           "landcolor": "#E5ECF6",
           "showlakes": true,
           "showland": true,
           "subunitcolor": "white"
          },
          "hoverlabel": {
           "align": "left"
          },
          "hovermode": "closest",
          "mapbox": {
           "style": "light"
          },
          "paper_bgcolor": "white",
          "plot_bgcolor": "#E5ECF6",
          "polar": {
           "angularaxis": {
            "gridcolor": "white",
            "linecolor": "white",
            "ticks": ""
           },
           "bgcolor": "#E5ECF6",
           "radialaxis": {
            "gridcolor": "white",
            "linecolor": "white",
            "ticks": ""
           }
          },
          "scene": {
           "xaxis": {
            "backgroundcolor": "#E5ECF6",
            "gridcolor": "white",
            "gridwidth": 2,
            "linecolor": "white",
            "showbackground": true,
            "ticks": "",
            "zerolinecolor": "white"
           },
           "yaxis": {
            "backgroundcolor": "#E5ECF6",
            "gridcolor": "white",
            "gridwidth": 2,
            "linecolor": "white",
            "showbackground": true,
            "ticks": "",
            "zerolinecolor": "white"
           },
           "zaxis": {
            "backgroundcolor": "#E5ECF6",
            "gridcolor": "white",
            "gridwidth": 2,
            "linecolor": "white",
            "showbackground": true,
            "ticks": "",
            "zerolinecolor": "white"
           }
          },
          "shapedefaults": {
           "line": {
            "color": "#2a3f5f"
           }
          },
          "ternary": {
           "aaxis": {
            "gridcolor": "white",
            "linecolor": "white",
            "ticks": ""
           },
           "baxis": {
            "gridcolor": "white",
            "linecolor": "white",
            "ticks": ""
           },
           "bgcolor": "#E5ECF6",
           "caxis": {
            "gridcolor": "white",
            "linecolor": "white",
            "ticks": ""
           }
          },
          "title": {
           "x": 0.05
          },
          "xaxis": {
           "automargin": true,
           "gridcolor": "white",
           "linecolor": "white",
           "ticks": "",
           "title": {
            "standoff": 15
           },
           "zerolinecolor": "white",
           "zerolinewidth": 2
          },
          "yaxis": {
           "automargin": true,
           "gridcolor": "white",
           "linecolor": "white",
           "ticks": "",
           "title": {
            "standoff": 15
           },
           "zerolinecolor": "white",
           "zerolinewidth": 2
          }
         }
        },
        "title": {
         "text": "Amount by Age Category"
        }
       }
      },
      "text/html": [
       "<div>            <script src=\"https://cdnjs.cloudflare.com/ajax/libs/mathjax/2.7.5/MathJax.js?config=TeX-AMS-MML_SVG\"></script><script type=\"text/javascript\">if (window.MathJax && window.MathJax.Hub && window.MathJax.Hub.Config) {window.MathJax.Hub.Config({SVG: {font: \"STIX-Web\"}});}</script>                <script type=\"text/javascript\">window.PlotlyConfig = {MathJaxConfig: 'local'};</script>\n",
       "        <script charset=\"utf-8\" src=\"https://cdn.plot.ly/plotly-3.1.1.min.js\" integrity=\"sha256-HUEFyfiTnZJxCxur99FjbKYTvKSzwDaD3/x5TqHpFu4=\" crossorigin=\"anonymous\"></script>                <div id=\"9ce578e0-84af-4be1-8070-cdb8fc96d721\" class=\"plotly-graph-div\" style=\"height:525px; width:100%;\"></div>            <script type=\"text/javascript\">                window.PLOTLYENV=window.PLOTLYENV || {};                                if (document.getElementById(\"9ce578e0-84af-4be1-8070-cdb8fc96d721\")) {                    Plotly.newPlot(                        \"9ce578e0-84af-4be1-8070-cdb8fc96d721\",                        [{\"hoverinfo\":\"label+percent\",\"labels\":[\"Young Adult\",\"Senior Adult\",\"Elder\"],\"marker\":{\"colors\":[\"#ff9999\",\"#b3d9ff\",\" #e6ffb3\"],\"line\":{\"color\":\"#000000\",\"width\":2}},\"textfont\":{\"size\":20},\"textinfo\":\"value\",\"values\":[574,548,216],\"type\":\"pie\"}],                        {\"template\":{\"data\":{\"barpolar\":[{\"marker\":{\"line\":{\"color\":\"#E5ECF6\",\"width\":0.5},\"pattern\":{\"fillmode\":\"overlay\",\"size\":10,\"solidity\":0.2}},\"type\":\"barpolar\"}],\"bar\":[{\"error_x\":{\"color\":\"#2a3f5f\"},\"error_y\":{\"color\":\"#2a3f5f\"},\"marker\":{\"line\":{\"color\":\"#E5ECF6\",\"width\":0.5},\"pattern\":{\"fillmode\":\"overlay\",\"size\":10,\"solidity\":0.2}},\"type\":\"bar\"}],\"carpet\":[{\"aaxis\":{\"endlinecolor\":\"#2a3f5f\",\"gridcolor\":\"white\",\"linecolor\":\"white\",\"minorgridcolor\":\"white\",\"startlinecolor\":\"#2a3f5f\"},\"baxis\":{\"endlinecolor\":\"#2a3f5f\",\"gridcolor\":\"white\",\"linecolor\":\"white\",\"minorgridcolor\":\"white\",\"startlinecolor\":\"#2a3f5f\"},\"type\":\"carpet\"}],\"choropleth\":[{\"colorbar\":{\"outlinewidth\":0,\"ticks\":\"\"},\"type\":\"choropleth\"}],\"contourcarpet\":[{\"colorbar\":{\"outlinewidth\":0,\"ticks\":\"\"},\"type\":\"contourcarpet\"}],\"contour\":[{\"colorbar\":{\"outlinewidth\":0,\"ticks\":\"\"},\"colorscale\":[[0.0,\"#0d0887\"],[0.1111111111111111,\"#46039f\"],[0.2222222222222222,\"#7201a8\"],[0.3333333333333333,\"#9c179e\"],[0.4444444444444444,\"#bd3786\"],[0.5555555555555556,\"#d8576b\"],[0.6666666666666666,\"#ed7953\"],[0.7777777777777778,\"#fb9f3a\"],[0.8888888888888888,\"#fdca26\"],[1.0,\"#f0f921\"]],\"type\":\"contour\"}],\"heatmap\":[{\"colorbar\":{\"outlinewidth\":0,\"ticks\":\"\"},\"colorscale\":[[0.0,\"#0d0887\"],[0.1111111111111111,\"#46039f\"],[0.2222222222222222,\"#7201a8\"],[0.3333333333333333,\"#9c179e\"],[0.4444444444444444,\"#bd3786\"],[0.5555555555555556,\"#d8576b\"],[0.6666666666666666,\"#ed7953\"],[0.7777777777777778,\"#fb9f3a\"],[0.8888888888888888,\"#fdca26\"],[1.0,\"#f0f921\"]],\"type\":\"heatmap\"}],\"histogram2dcontour\":[{\"colorbar\":{\"outlinewidth\":0,\"ticks\":\"\"},\"colorscale\":[[0.0,\"#0d0887\"],[0.1111111111111111,\"#46039f\"],[0.2222222222222222,\"#7201a8\"],[0.3333333333333333,\"#9c179e\"],[0.4444444444444444,\"#bd3786\"],[0.5555555555555556,\"#d8576b\"],[0.6666666666666666,\"#ed7953\"],[0.7777777777777778,\"#fb9f3a\"],[0.8888888888888888,\"#fdca26\"],[1.0,\"#f0f921\"]],\"type\":\"histogram2dcontour\"}],\"histogram2d\":[{\"colorbar\":{\"outlinewidth\":0,\"ticks\":\"\"},\"colorscale\":[[0.0,\"#0d0887\"],[0.1111111111111111,\"#46039f\"],[0.2222222222222222,\"#7201a8\"],[0.3333333333333333,\"#9c179e\"],[0.4444444444444444,\"#bd3786\"],[0.5555555555555556,\"#d8576b\"],[0.6666666666666666,\"#ed7953\"],[0.7777777777777778,\"#fb9f3a\"],[0.8888888888888888,\"#fdca26\"],[1.0,\"#f0f921\"]],\"type\":\"histogram2d\"}],\"histogram\":[{\"marker\":{\"pattern\":{\"fillmode\":\"overlay\",\"size\":10,\"solidity\":0.2}},\"type\":\"histogram\"}],\"mesh3d\":[{\"colorbar\":{\"outlinewidth\":0,\"ticks\":\"\"},\"type\":\"mesh3d\"}],\"parcoords\":[{\"line\":{\"colorbar\":{\"outlinewidth\":0,\"ticks\":\"\"}},\"type\":\"parcoords\"}],\"pie\":[{\"automargin\":true,\"type\":\"pie\"}],\"scatter3d\":[{\"line\":{\"colorbar\":{\"outlinewidth\":0,\"ticks\":\"\"}},\"marker\":{\"colorbar\":{\"outlinewidth\":0,\"ticks\":\"\"}},\"type\":\"scatter3d\"}],\"scattercarpet\":[{\"marker\":{\"colorbar\":{\"outlinewidth\":0,\"ticks\":\"\"}},\"type\":\"scattercarpet\"}],\"scattergeo\":[{\"marker\":{\"colorbar\":{\"outlinewidth\":0,\"ticks\":\"\"}},\"type\":\"scattergeo\"}],\"scattergl\":[{\"marker\":{\"colorbar\":{\"outlinewidth\":0,\"ticks\":\"\"}},\"type\":\"scattergl\"}],\"scattermapbox\":[{\"marker\":{\"colorbar\":{\"outlinewidth\":0,\"ticks\":\"\"}},\"type\":\"scattermapbox\"}],\"scattermap\":[{\"marker\":{\"colorbar\":{\"outlinewidth\":0,\"ticks\":\"\"}},\"type\":\"scattermap\"}],\"scatterpolargl\":[{\"marker\":{\"colorbar\":{\"outlinewidth\":0,\"ticks\":\"\"}},\"type\":\"scatterpolargl\"}],\"scatterpolar\":[{\"marker\":{\"colorbar\":{\"outlinewidth\":0,\"ticks\":\"\"}},\"type\":\"scatterpolar\"}],\"scatter\":[{\"fillpattern\":{\"fillmode\":\"overlay\",\"size\":10,\"solidity\":0.2},\"type\":\"scatter\"}],\"scatterternary\":[{\"marker\":{\"colorbar\":{\"outlinewidth\":0,\"ticks\":\"\"}},\"type\":\"scatterternary\"}],\"surface\":[{\"colorbar\":{\"outlinewidth\":0,\"ticks\":\"\"},\"colorscale\":[[0.0,\"#0d0887\"],[0.1111111111111111,\"#46039f\"],[0.2222222222222222,\"#7201a8\"],[0.3333333333333333,\"#9c179e\"],[0.4444444444444444,\"#bd3786\"],[0.5555555555555556,\"#d8576b\"],[0.6666666666666666,\"#ed7953\"],[0.7777777777777778,\"#fb9f3a\"],[0.8888888888888888,\"#fdca26\"],[1.0,\"#f0f921\"]],\"type\":\"surface\"}],\"table\":[{\"cells\":{\"fill\":{\"color\":\"#EBF0F8\"},\"line\":{\"color\":\"white\"}},\"header\":{\"fill\":{\"color\":\"#C8D4E3\"},\"line\":{\"color\":\"white\"}},\"type\":\"table\"}]},\"layout\":{\"annotationdefaults\":{\"arrowcolor\":\"#2a3f5f\",\"arrowhead\":0,\"arrowwidth\":1},\"autotypenumbers\":\"strict\",\"coloraxis\":{\"colorbar\":{\"outlinewidth\":0,\"ticks\":\"\"}},\"colorscale\":{\"diverging\":[[0,\"#8e0152\"],[0.1,\"#c51b7d\"],[0.2,\"#de77ae\"],[0.3,\"#f1b6da\"],[0.4,\"#fde0ef\"],[0.5,\"#f7f7f7\"],[0.6,\"#e6f5d0\"],[0.7,\"#b8e186\"],[0.8,\"#7fbc41\"],[0.9,\"#4d9221\"],[1,\"#276419\"]],\"sequential\":[[0.0,\"#0d0887\"],[0.1111111111111111,\"#46039f\"],[0.2222222222222222,\"#7201a8\"],[0.3333333333333333,\"#9c179e\"],[0.4444444444444444,\"#bd3786\"],[0.5555555555555556,\"#d8576b\"],[0.6666666666666666,\"#ed7953\"],[0.7777777777777778,\"#fb9f3a\"],[0.8888888888888888,\"#fdca26\"],[1.0,\"#f0f921\"]],\"sequentialminus\":[[0.0,\"#0d0887\"],[0.1111111111111111,\"#46039f\"],[0.2222222222222222,\"#7201a8\"],[0.3333333333333333,\"#9c179e\"],[0.4444444444444444,\"#bd3786\"],[0.5555555555555556,\"#d8576b\"],[0.6666666666666666,\"#ed7953\"],[0.7777777777777778,\"#fb9f3a\"],[0.8888888888888888,\"#fdca26\"],[1.0,\"#f0f921\"]]},\"colorway\":[\"#636efa\",\"#EF553B\",\"#00cc96\",\"#ab63fa\",\"#FFA15A\",\"#19d3f3\",\"#FF6692\",\"#B6E880\",\"#FF97FF\",\"#FECB52\"],\"font\":{\"color\":\"#2a3f5f\"},\"geo\":{\"bgcolor\":\"white\",\"lakecolor\":\"white\",\"landcolor\":\"#E5ECF6\",\"showlakes\":true,\"showland\":true,\"subunitcolor\":\"white\"},\"hoverlabel\":{\"align\":\"left\"},\"hovermode\":\"closest\",\"mapbox\":{\"style\":\"light\"},\"paper_bgcolor\":\"white\",\"plot_bgcolor\":\"#E5ECF6\",\"polar\":{\"angularaxis\":{\"gridcolor\":\"white\",\"linecolor\":\"white\",\"ticks\":\"\"},\"bgcolor\":\"#E5ECF6\",\"radialaxis\":{\"gridcolor\":\"white\",\"linecolor\":\"white\",\"ticks\":\"\"}},\"scene\":{\"xaxis\":{\"backgroundcolor\":\"#E5ECF6\",\"gridcolor\":\"white\",\"gridwidth\":2,\"linecolor\":\"white\",\"showbackground\":true,\"ticks\":\"\",\"zerolinecolor\":\"white\"},\"yaxis\":{\"backgroundcolor\":\"#E5ECF6\",\"gridcolor\":\"white\",\"gridwidth\":2,\"linecolor\":\"white\",\"showbackground\":true,\"ticks\":\"\",\"zerolinecolor\":\"white\"},\"zaxis\":{\"backgroundcolor\":\"#E5ECF6\",\"gridcolor\":\"white\",\"gridwidth\":2,\"linecolor\":\"white\",\"showbackground\":true,\"ticks\":\"\",\"zerolinecolor\":\"white\"}},\"shapedefaults\":{\"line\":{\"color\":\"#2a3f5f\"}},\"ternary\":{\"aaxis\":{\"gridcolor\":\"white\",\"linecolor\":\"white\",\"ticks\":\"\"},\"baxis\":{\"gridcolor\":\"white\",\"linecolor\":\"white\",\"ticks\":\"\"},\"bgcolor\":\"#E5ECF6\",\"caxis\":{\"gridcolor\":\"white\",\"linecolor\":\"white\",\"ticks\":\"\"}},\"title\":{\"x\":0.05},\"xaxis\":{\"automargin\":true,\"gridcolor\":\"white\",\"linecolor\":\"white\",\"ticks\":\"\",\"title\":{\"standoff\":15},\"zerolinecolor\":\"white\",\"zerolinewidth\":2},\"yaxis\":{\"automargin\":true,\"gridcolor\":\"white\",\"linecolor\":\"white\",\"ticks\":\"\",\"title\":{\"standoff\":15},\"zerolinecolor\":\"white\",\"zerolinewidth\":2}}},\"title\":{\"text\":\"Amount by Age Category\"}},                        {\"responsive\": true}                    ).then(function(){\n",
       "                            \n",
       "var gd = document.getElementById('9ce578e0-84af-4be1-8070-cdb8fc96d721');\n",
       "var x = new MutationObserver(function (mutations, observer) {{\n",
       "        var display = window.getComputedStyle(gd).display;\n",
       "        if (!display || display === 'none') {{\n",
       "            console.log([gd, 'removed!']);\n",
       "            Plotly.purge(gd);\n",
       "            observer.disconnect();\n",
       "        }}\n",
       "}});\n",
       "\n",
       "// Listen for the removal of the full notebook cells\n",
       "var notebookContainer = gd.closest('#notebook-container');\n",
       "if (notebookContainer) {{\n",
       "    x.observe(notebookContainer, {childList: true});\n",
       "}}\n",
       "\n",
       "// Listen for the clearing of the current output cell\n",
       "var outputEl = gd.closest('.output');\n",
       "if (outputEl) {{\n",
       "    x.observe(outputEl, {childList: true});\n",
       "}}\n",
       "\n",
       "                        })                };            </script>        </div>"
      ]
     },
     "metadata": {},
     "output_type": "display_data"
    }
   ],
   "source": [
    "df['age_cat'] = np.nan\n",
    "lst = [df]\n",
    "\n",
    "for col in lst:\n",
    "    col.loc[(col['age'] >= 18) & (col['age'] <= 35), 'age_cat'] = 'Young Adult'\n",
    "    col.loc[(col['age'] > 35) & (col['age'] <= 55), 'age_cat'] = 'Senior Adult'\n",
    "    col.loc[col['age'] > 55, 'age_cat'] = 'Elder'\n",
    "    \n",
    "    \n",
    "labels = df[\"age_cat\"].unique().tolist()\n",
    "amount = df[\"age_cat\"].value_counts().tolist()\n",
    "\n",
    "colors = [\"#ff9999\", \"#b3d9ff\", \" #e6ffb3\"]\n",
    "\n",
    "trace = go.Pie(labels=labels, values=amount,\n",
    "               hoverinfo='label+percent', textinfo='value', \n",
    "               textfont=dict(size=20),\n",
    "               marker=dict(colors=colors, \n",
    "                           line=dict(color='#000000', width=2)))\n",
    "\n",
    "data = [trace]\n",
    "layout = go.Layout(title=\"Amount by Age Category\")\n",
    "\n",
    "fig = go.Figure(data=data, layout=layout)\n",
    "iplot(fig, filename='basic_pie_chart')"
   ]
  },
  {
   "cell_type": "code",
   "execution_count": 5,
   "metadata": {
    "_kg_hide-input": true,
    "_uuid": "b6edb6e1f285aefc4222f13d949999a4d8d5c2bf",
    "trusted": true
   },
   "outputs": [
    {
     "data": {
      "application/vnd.plotly.v1+json": {
       "config": {
        "linkText": "Export to plot.ly",
        "plotlyServerURL": "https://plot.ly",
        "showLink": false
       },
       "data": [
        {
         "autobinx": false,
         "histnorm": "probability density",
         "legendgroup": "Body Mass Index Distribution",
         "marker": {
          "color": "#FA5858"
         },
         "name": "Body Mass Index Distribution",
         "opacity": 0.7,
         "type": "histogram",
         "x": [
          27.9,
          33.77,
          33,
          22.705,
          28.88,
          25.74,
          33.44,
          27.74,
          29.83,
          25.84,
          26.22,
          26.29,
          34.4,
          39.82,
          42.13,
          24.6,
          30.78,
          23.845,
          40.3,
          35.3,
          36.005,
          32.4,
          34.1,
          31.92,
          28.025,
          27.72,
          23.085,
          32.775,
          17.385,
          36.3,
          35.6,
          26.315,
          28.6,
          28.31,
          36.4,
          20.425,
          32.965,
          20.8,
          36.67,
          39.9,
          26.6,
          36.63,
          21.78,
          30.8,
          37.05,
          37.3,
          38.665,
          34.77,
          24.53,
          35.2,
          35.625,
          33.63,
          28,
          34.43,
          28.69,
          36.955,
          31.825,
          31.68,
          22.88,
          37.335,
          27.36,
          33.66,
          24.7,
          25.935,
          22.42,
          28.9,
          39.1,
          26.315,
          36.19,
          23.98,
          24.75,
          28.5,
          28.1,
          32.01,
          27.4,
          34.01,
          29.59,
          35.53,
          39.805,
          32.965,
          26.885,
          38.285,
          37.62,
          41.23,
          34.8,
          22.895,
          31.16,
          27.2,
          27.74,
          26.98,
          39.49,
          24.795,
          29.83,
          34.77,
          31.3,
          37.62,
          30.8,
          38.28,
          19.95,
          19.3,
          31.6,
          25.46,
          30.115,
          29.92,
          27.5,
          28.025,
          28.4,
          30.875,
          27.94,
          35.09,
          33.63,
          29.7,
          30.8,
          35.72,
          32.205,
          28.595,
          49.06,
          27.94,
          27.17,
          23.37,
          37.1,
          23.75,
          28.975,
          31.35,
          33.915,
          28.785,
          28.3,
          37.4,
          17.765,
          34.7,
          26.505,
          22.04,
          35.9,
          25.555,
          28.785,
          28.05,
          34.1,
          25.175,
          31.9,
          36,
          22.42,
          32.49,
          25.3,
          29.735,
          28.69,
          38.83,
          30.495,
          37.73,
          37.43,
          28.4,
          24.13,
          29.7,
          37.145,
          23.37,
          25.46,
          39.52,
          24.42,
          25.175,
          35.53,
          27.83,
          26.6,
          36.85,
          39.6,
          29.8,
          29.64,
          28.215,
          37,
          33.155,
          31.825,
          18.905,
          41.47,
          30.3,
          15.96,
          34.8,
          33.345,
          37.7,
          27.835,
          29.2,
          28.9,
          33.155,
          28.595,
          38.28,
          19.95,
          26.41,
          30.69,
          41.895,
          29.92,
          30.9,
          32.2,
          32.11,
          31.57,
          26.2,
          25.74,
          26.6,
          34.43,
          30.59,
          32.8,
          28.6,
          18.05,
          39.33,
          32.11,
          32.23,
          24.035,
          36.08,
          22.3,
          28.88,
          26.4,
          27.74,
          31.8,
          41.23,
          33,
          30.875,
          28.5,
          26.73,
          30.9,
          37.1,
          26.6,
          23.1,
          29.92,
          23.21,
          33.7,
          33.25,
          30.8,
          34.8,
          24.64,
          33.88,
          38.06,
          41.91,
          31.635,
          25.46,
          36.195,
          27.83,
          17.8,
          27.5,
          24.51,
          22.22,
          26.73,
          38.39,
          29.07,
          38.06,
          36.67,
          22.135,
          26.8,
          35.3,
          27.74,
          30.02,
          38.06,
          35.86,
          20.9,
          28.975,
          17.29,
          32.2,
          34.21,
          30.3,
          31.825,
          25.365,
          33.63,
          40.15,
          24.415,
          31.92,
          25.2,
          26.84,
          24.32,
          36.955,
          38.06,
          42.35,
          19.8,
          32.395,
          30.2,
          25.84,
          29.37,
          34.2,
          37.05,
          27.455,
          27.55,
          26.6,
          20.615,
          24.3,
          31.79,
          21.56,
          28.12,
          40.565,
          27.645,
          32.395,
          31.2,
          26.62,
          48.07,
          26.22,
          36.765,
          26.4,
          33.4,
          29.64,
          45.54,
          28.82,
          26.8,
          22.99,
          27.7,
          25.41,
          34.39,
          28.88,
          27.55,
          22.61,
          37.51,
          33,
          38,
          33.345,
          27.5,
          33.33,
          34.865,
          33.06,
          26.6,
          24.7,
          35.97,
          35.86,
          31.4,
          33.25,
          32.205,
          32.775,
          27.645,
          37.335,
          25.27,
          29.64,
          30.8,
          40.945,
          27.2,
          34.105,
          23.21,
          36.48,
          33.8,
          36.7,
          36.385,
          27.36,
          31.16,
          28.785,
          35.72,
          34.5,
          25.74,
          27.55,
          32.3,
          27.72,
          27.6,
          30.02,
          27.55,
          36.765,
          41.47,
          29.26,
          35.75,
          33.345,
          29.92,
          27.835,
          23.18,
          25.6,
          27.7,
          35.245,
          38.28,
          27.6,
          43.89,
          29.83,
          41.91,
          20.79,
          32.3,
          30.5,
          21.7,
          26.4,
          21.89,
          30.78,
          32.3,
          24.985,
          32.015,
          30.4,
          21.09,
          22.23,
          33.155,
          32.9,
          33.33,
          28.31,
          24.89,
          40.15,
          30.115,
          31.46,
          17.955,
          30.685,
          33,
          43.34,
          22.135,
          34.4,
          39.05,
          25.365,
          22.61,
          30.21,
          35.625,
          37.43,
          31.445,
          31.35,
          32.3,
          19.855,
          34.4,
          31.02,
          25.6,
          38.17,
          20.6,
          47.52,
          32.965,
          32.3,
          20.4,
          38.38,
          24.31,
          23.6,
          21.12,
          30.03,
          17.48,
          20.235,
          17.195,
          23.9,
          35.15,
          35.64,
          34.1,
          22.6,
          39.16,
          26.98,
          33.88,
          35.86,
          32.775,
          30.59,
          30.2,
          24.31,
          27.265,
          29.165,
          16.815,
          30.4,
          33.1,
          20.235,
          26.9,
          30.5,
          28.595,
          33.11,
          31.73,
          28.9,
          46.75,
          29.45,
          32.68,
          33.5,
          43.01,
          36.52,
          26.695,
          33.1,
          29.64,
          25.65,
          29.6,
          38.6,
          29.6,
          24.13,
          23.4,
          29.735,
          46.53,
          37.4,
          30.14,
          30.495,
          39.6,
          33,
          36.63,
          30,
          38.095,
          25.935,
          25.175,
          28.38,
          28.7,
          33.82,
          24.32,
          24.09,
          32.67,
          30.115,
          29.8,
          33.345,
          25.1,
          28.31,
          28.5,
          35.625,
          36.85,
          32.56,
          41.325,
          37.51,
          31.35,
          39.5,
          34.3,
          31.065,
          21.47,
          28.7,
          38.06,
          31.16,
          32.9,
          25.08,
          25.08,
          43.4,
          25.7,
          27.93,
          23.6,
          28.7,
          23.98,
          39.2,
          34.4,
          26.03,
          23.21,
          30.25,
          28.93,
          30.875,
          31.35,
          23.75,
          25.27,
          28.7,
          32.11,
          33.66,
          22.42,
          30.4,
          28.3,
          35.7,
          35.31,
          30.495,
          31,
          30.875,
          27.36,
          44.22,
          33.915,
          37.73,
          26.07,
          33.88,
          30.59,
          25.8,
          39.425,
          25.46,
          42.13,
          31.73,
          29.7,
          36.19,
          40.48,
          28.025,
          38.9,
          30.2,
          28.05,
          31.35,
          38,
          31.79,
          36.3,
          47.41,
          30.21,
          25.84,
          35.435,
          46.7,
          28.595,
          46.2,
          30.8,
          28.93,
          21.4,
          31.73,
          41.325,
          23.8,
          33.44,
          34.21,
          34.105,
          35.53,
          19.95,
          32.68,
          30.5,
          44.77,
          32.12,
          30.495,
          40.565,
          30.59,
          31.9,
          40.565,
          29.1,
          37.29,
          43.12,
          36.86,
          34.295,
          27.17,
          26.84,
          38.095,
          30.2,
          23.465,
          25.46,
          30.59,
          45.43,
          23.65,
          20.7,
          28.27,
          20.235,
          30.21,
          35.91,
          30.69,
          29,
          19.57,
          31.13,
          21.85,
          40.26,
          33.725,
          29.48,
          33.25,
          32.6,
          37.525,
          39.16,
          31.635,
          25.3,
          39.05,
          28.31,
          34.1,
          25.175,
          23.655,
          26.98,
          37.8,
          29.37,
          34.8,
          33.155,
          19,
          33,
          36.63,
          28.595,
          25.6,
          33.11,
          37.1,
          31.4,
          34.1,
          21.3,
          33.535,
          28.785,
          26.03,
          28.88,
          42.46,
          38,
          38.95,
          36.1,
          29.3,
          35.53,
          22.705,
          39.7,
          38.19,
          24.51,
          38.095,
          26.41,
          33.66,
          42.4,
          28.31,
          33.915,
          34.96,
          35.31,
          30.78,
          26.22,
          23.37,
          28.5,
          32.965,
          42.68,
          39.6,
          31.13,
          36.3,
          35.2,
          25.3,
          42.4,
          33.155,
          35.91,
          28.785,
          46.53,
          23.98,
          31.54,
          33.66,
          22.99,
          38.06,
          28.7,
          32.775,
          32.015,
          29.81,
          31.57,
          31.16,
          29.7,
          31.02,
          43.89,
          21.375,
          40.81,
          31.35,
          36.1,
          23.18,
          17.4,
          20.3,
          35.3,
          24.32,
          18.5,
          26.41,
          26.125,
          41.69,
          24.1,
          31.13,
          27.36,
          36.2,
          32.395,
          23.655,
          34.8,
          40.185,
          32.3,
          35.75,
          33.725,
          39.27,
          34.87,
          44.745,
          41.47,
          26.41,
          29.545,
          32.9,
          38.06,
          28.69,
          30.495,
          27.74,
          35.2,
          23.54,
          30.685,
          40.47,
          22.6,
          28.9,
          22.61,
          24.32,
          36.67,
          33.44,
          40.66,
          36.6,
          37.4,
          35.4,
          27.075,
          39.05,
          28.405,
          21.755,
          40.28,
          36.08,
          24.42,
          21.4,
          30.1,
          27.265,
          32.1,
          34.77,
          38.39,
          23.7,
          31.73,
          35.5,
          24.035,
          29.15,
          34.105,
          26.62,
          26.41,
          30.115,
          27,
          21.755,
          36,
          30.875,
          26.4,
          28.975,
          37.905,
          22.77,
          33.63,
          27.645,
          22.8,
          27.83,
          37.43,
          38.17,
          34.58,
          35.2,
          27.1,
          26.03,
          25.175,
          31.825,
          32.3,
          29,
          39.7,
          19.475,
          36.1,
          26.7,
          36.48,
          28.88,
          34.2,
          33.33,
          32.3,
          39.805,
          34.32,
          28.88,
          24.4,
          41.14,
          35.97,
          27.6,
          29.26,
          27.7,
          36.955,
          36.86,
          22.515,
          29.92,
          41.8,
          27.6,
          23.18,
          20.9,
          31.92,
          28.5,
          44.22,
          22.895,
          33.1,
          24.795,
          26.18,
          35.97,
          22.3,
          42.24,
          26.51,
          35.815,
          41.42,
          36.575,
          30.14,
          25.84,
          30.8,
          42.94,
          21.01,
          22.515,
          34.43,
          31.46,
          24.225,
          37.1,
          26.125,
          35.53,
          33.7,
          17.67,
          31.13,
          29.81,
          24.32,
          31.825,
          31.79,
          28.025,
          30.78,
          21.85,
          33.1,
          25.84,
          23.845,
          34.39,
          33.82,
          35.97,
          31.5,
          28.31,
          23.465,
          31.35,
          31.1,
          24.7,
          32.78,
          29.81,
          30.495,
          32.45,
          34.2,
          50.38,
          24.1,
          32.775,
          30.78,
          32.3,
          35.53,
          23.75,
          23.845,
          29.6,
          33.11,
          24.13,
          32.23,
          28.1,
          47.6,
          28,
          33.535,
          19.855,
          25.4,
          29.9,
          37.29,
          43.7,
          23.655,
          24.3,
          36.2,
          29.48,
          24.86,
          30.1,
          21.85,
          28.12,
          27.1,
          33.44,
          28.8,
          29.5,
          34.8,
          27.36,
          22.135,
          37.05,
          26.695,
          28.93,
          28.975,
          30.02,
          39.5,
          33.63,
          26.885,
          29.04,
          24.035,
          38.94,
          32.11,
          44,
          20.045,
          25.555,
          40.26,
          22.515,
          22.515,
          40.92,
          27.265,
          36.85,
          35.1,
          29.355,
          32.585,
          32.34,
          39.8,
          24.6,
          28.31,
          31.73,
          26.695,
          27.5,
          24.605,
          33.99,
          26.885,
          22.895,
          28.2,
          34.21,
          25,
          33.2,
          31,
          35.815,
          23.2,
          32.11,
          23.4,
          20.1,
          39.16,
          34.21,
          46.53,
          32.5,
          25.8,
          35.3,
          37.18,
          27.5,
          29.735,
          24.225,
          26.18,
          29.48,
          23.21,
          46.09,
          40.185,
          22.61,
          39.93,
          35.8,
          35.8,
          34.2,
          31.255,
          29.7,
          18.335,
          42.9,
          28.405,
          30.2,
          27.835,
          39.49,
          30.8,
          26.79,
          34.96,
          36.67,
          39.615,
          25.9,
          35.2,
          24.795,
          36.765,
          27.1,
          24.795,
          25.365,
          25.745,
          34.32,
          28.16,
          23.56,
          20.235,
          40.5,
          35.42,
          22.895,
          40.15,
          29.15,
          39.995,
          29.92,
          25.46,
          21.375,
          25.9,
          30.59,
          30.115,
          25.8,
          30.115,
          27.645,
          34.675,
          20.52,
          19.8,
          27.835,
          31.6,
          28.27,
          20.045,
          23.275,
          34.1,
          36.85,
          36.29,
          26.885,
          22.99,
          32.7,
          25.8,
          29.6,
          19.19,
          31.73,
          29.26,
          28.215,
          24.985,
          27.74,
          22.8,
          20.13,
          33.33,
          32.3,
          27.6,
          25.46,
          24.605,
          34.2,
          35.815,
          32.68,
          37,
          31.02,
          36.08,
          23.32,
          45.32,
          34.6,
          26.03,
          18.715,
          31.6,
          17.29,
          23.655,
          35.2,
          27.93,
          21.565,
          38.38,
          23,
          37.07,
          30.495,
          28.88,
          27.265,
          28.025,
          23.085,
          30.685,
          25.8,
          35.245,
          24.7,
          25.08,
          52.58,
          22.515,
          30.9,
          36.955,
          26.41,
          29.83,
          29.8,
          21.47,
          27.645,
          28.9,
          31.79,
          39.49,
          33.82,
          32.01,
          27.94,
          41.14,
          28.595,
          25.6,
          25.3,
          37.29,
          42.655,
          21.66,
          31.9,
          37.07,
          31.445,
          31.255,
          28.88,
          18.335,
          29.59,
          32,
          26.03,
          31.68,
          33.66,
          21.78,
          27.835,
          19.95,
          31.5,
          30.495,
          18.3,
          28.975,
          31.54,
          47.74,
          22.1,
          36.19,
          29.83,
          32.7,
          30.4,
          33.7,
          31.35,
          34.96,
          33.77,
          30.875,
          33.99,
          19.095,
          28.6,
          38.94,
          36.08,
          29.8,
          31.24,
          29.925,
          26.22,
          30,
          20.35,
          32.3,
          38.39,
          25.85,
          26.315,
          24.51,
          32.67,
          29.64,
          33.33,
          35.75,
          19.95,
          31.4,
          38.17,
          36.86,
          32.395,
          42.75,
          25.08,
          29.9,
          35.86,
          32.8,
          18.6,
          23.87,
          45.9,
          40.28,
          18.335,
          33.82,
          28.12,
          25,
          22.23,
          30.25,
          32.49,
          37.07,
          32.6,
          24.86,
          32.34,
          32.3,
          32.775,
          32.8,
          31.92,
          21.5,
          34.1,
          30.305,
          36.48,
          32.56,
          35.815,
          27.93,
          22.135,
          44.88,
          23.18,
          30.59,
          41.1,
          34.58,
          42.13,
          38.83,
          28.215,
          28.31,
          26.125,
          40.37,
          24.6,
          35.2,
          34.105,
          27.36,
          26.7,
          41.91,
          29.26,
          32.11,
          27.1,
          24.13,
          27.4,
          34.865,
          29.81,
          41.325,
          29.925,
          30.3,
          27.36,
          28.49,
          23.56,
          35.625,
          32.68,
          25.27,
          28,
          32.775,
          21.755,
          32.395,
          36.575,
          21.755,
          27.93,
          30.02,
          33.55,
          29.355,
          25.8,
          24.32,
          40.375,
          32.11,
          32.3,
          27.28,
          17.86,
          34.8,
          33.4,
          25.555,
          37.1,
          30.875,
          34.1,
          21.47,
          33.3,
          31.255,
          39.14,
          25.08,
          37.29,
          34.6,
          30.21,
          21.945,
          24.97,
          25.3,
          24.42,
          23.94,
          39.82,
          16.815,
          37.18,
          34.43,
          30.305,
          34.485,
          21.8,
          24.605,
          23.3,
          27.83,
          31.065,
          21.66,
          28.215,
          22.705,
          42.13,
          41.8,
          36.96,
          21.28,
          33.11,
          33.33,
          24.3,
          25.7,
          29.4,
          39.82,
          33.63,
          29.83,
          19.8,
          27.3,
          29.3,
          27.72,
          37.9,
          36.385,
          27.645,
          37.715,
          23.18,
          20.52,
          37.1,
          28.05,
          29.9,
          33.345,
          23.76,
          30.5,
          31.065,
          33.3,
          27.5,
          33.915,
          34.485,
          25.52,
          27.61,
          27.06,
          23.7,
          30.4,
          29.735,
          29.925,
          26.79,
          33.33,
          27.645,
          21.66,
          30.03,
          36.3,
          24.32,
          17.29,
          25.9,
          39.4,
          34.32,
          19.95,
          34.9,
          23.21,
          25.745,
          25.175,
          22,
          26.125,
          26.51,
          27.455,
          25.745,
          30.36,
          30.875,
          20.8,
          27.8,
          24.605,
          27.72,
          21.85,
          28.12,
          30.2,
          32.2,
          26.315,
          26.695,
          42.9,
          34.7,
          23.655,
          28.31,
          20.6,
          53.13,
          39.71,
          26.315,
          31.065,
          26.695,
          38.83,
          40.37,
          25.935,
          33.535,
          32.87,
          30.03,
          24.225,
          38.6,
          25.74,
          33.4,
          44.7,
          30.97,
          31.92,
          36.85,
          25.8,
          29.07
         ],
         "xaxis": "x",
         "xbins": {
          "end": 53.13,
          "size": 1,
          "start": 15.96
         },
         "yaxis": "y"
        },
        {
         "legendgroup": "Body Mass Index Distribution",
         "marker": {
          "color": "#FA5858"
         },
         "mode": "lines",
         "name": "Body Mass Index Distribution",
         "showlegend": false,
         "type": "scatter",
         "x": [
          15.96,
          16.03434,
          16.10868,
          16.183020000000003,
          16.257360000000002,
          16.3317,
          16.40604,
          16.48038,
          16.55472,
          16.629060000000003,
          16.703400000000002,
          16.77774,
          16.85208,
          16.92642,
          17.00076,
          17.075100000000003,
          17.149440000000002,
          17.22378,
          17.29812,
          17.37246,
          17.4468,
          17.521140000000003,
          17.595480000000002,
          17.66982,
          17.74416,
          17.8185,
          17.89284,
          17.96718,
          18.041520000000002,
          18.11586,
          18.1902,
          18.26454,
          18.33888,
          18.413220000000003,
          18.487560000000002,
          18.5619,
          18.63624,
          18.71058,
          18.78492,
          18.859260000000003,
          18.933600000000002,
          19.00794,
          19.08228,
          19.15662,
          19.23096,
          19.305300000000003,
          19.379640000000002,
          19.45398,
          19.52832,
          19.60266,
          19.677,
          19.75134,
          19.825680000000002,
          19.90002,
          19.97436,
          20.0487,
          20.12304,
          20.197380000000003,
          20.271720000000002,
          20.34606,
          20.4204,
          20.49474,
          20.56908,
          20.64342,
          20.717760000000002,
          20.7921,
          20.86644,
          20.940780000000004,
          21.01512,
          21.089460000000003,
          21.163800000000002,
          21.23814,
          21.31248,
          21.38682,
          21.46116,
          21.5355,
          21.609840000000002,
          21.68418,
          21.75852,
          21.83286,
          21.907200000000003,
          21.981540000000003,
          22.055880000000002,
          22.13022,
          22.20456,
          22.2789,
          22.35324,
          22.42758,
          22.501920000000002,
          22.57626,
          22.6506,
          22.72494,
          22.799280000000003,
          22.873620000000003,
          22.947960000000002,
          23.0223,
          23.09664,
          23.17098,
          23.24532,
          23.319660000000002,
          23.394000000000002,
          23.46834,
          23.54268,
          23.61702,
          23.691360000000003,
          23.765700000000002,
          23.840040000000002,
          23.91438,
          23.98872,
          24.06306,
          24.1374,
          24.21174,
          24.28608,
          24.36042,
          24.43476,
          24.509100000000004,
          24.583440000000003,
          24.657780000000002,
          24.732120000000002,
          24.80646,
          24.8808,
          24.95514,
          25.02948,
          25.10382,
          25.17816,
          25.2525,
          25.32684,
          25.401180000000004,
          25.475520000000003,
          25.549860000000002,
          25.624200000000002,
          25.69854,
          25.77288,
          25.84722,
          25.921560000000003,
          25.9959,
          26.07024,
          26.14458,
          26.21892,
          26.293260000000004,
          26.367600000000003,
          26.441940000000002,
          26.516280000000002,
          26.59062,
          26.66496,
          26.7393,
          26.81364,
          26.887980000000002,
          26.96232,
          27.03666,
          27.111,
          27.185340000000004,
          27.259680000000003,
          27.334020000000002,
          27.408360000000002,
          27.4827,
          27.55704,
          27.63138,
          27.70572,
          27.780060000000002,
          27.854400000000002,
          27.92874,
          28.00308,
          28.07742,
          28.151760000000003,
          28.226100000000002,
          28.300440000000002,
          28.37478,
          28.44912,
          28.52346,
          28.5978,
          28.672140000000002,
          28.746480000000002,
          28.82082,
          28.89516,
          28.9695,
          29.043840000000003,
          29.118180000000002,
          29.192520000000002,
          29.26686,
          29.3412,
          29.41554,
          29.48988,
          29.564220000000002,
          29.638560000000002,
          29.712900000000005,
          29.78724,
          29.86158,
          29.935920000000003,
          30.010260000000002,
          30.084600000000002,
          30.15894,
          30.23328,
          30.30762,
          30.38196,
          30.456300000000002,
          30.530640000000002,
          30.604980000000005,
          30.679320000000004,
          30.75366,
          30.828000000000003,
          30.902340000000002,
          30.97668,
          31.05102,
          31.12536,
          31.1997,
          31.27404,
          31.348380000000002,
          31.42272,
          31.497060000000005,
          31.571400000000004,
          31.645740000000004,
          31.720080000000003,
          31.794420000000002,
          31.86876,
          31.9431,
          32.01744,
          32.09178,
          32.16612000000001,
          32.24046,
          32.314800000000005,
          32.38914,
          32.463480000000004,
          32.537819999999996,
          32.61216,
          32.6865,
          32.76084,
          32.83518,
          32.90952,
          32.98386,
          33.0582,
          33.132540000000006,
          33.20688,
          33.281220000000005,
          33.35556,
          33.4299,
          33.50424,
          33.57858,
          33.65292,
          33.72726,
          33.80160000000001,
          33.87594,
          33.95028000000001,
          34.02462,
          34.098960000000005,
          34.1733,
          34.247640000000004,
          34.321979999999996,
          34.39632,
          34.47066,
          34.545,
          34.61934,
          34.69368,
          34.76802,
          34.84236,
          34.916700000000006,
          34.99104,
          35.065380000000005,
          35.13972,
          35.21406,
          35.2884,
          35.36274,
          35.43708,
          35.51142,
          35.58576000000001,
          35.6601,
          35.734440000000006,
          35.80878,
          35.883120000000005,
          35.95746,
          36.031800000000004,
          36.106139999999996,
          36.18048,
          36.25482,
          36.32916,
          36.4035,
          36.47784,
          36.55218,
          36.62652,
          36.700860000000006,
          36.7752,
          36.849540000000005,
          36.92388,
          36.99822,
          37.07256,
          37.1469,
          37.22124,
          37.29558,
          37.36992000000001,
          37.44426,
          37.518600000000006,
          37.59294,
          37.667280000000005,
          37.741620000000005,
          37.815960000000004,
          37.890299999999996,
          37.96464,
          38.038979999999995,
          38.11332,
          38.18766,
          38.262,
          38.33634,
          38.41068,
          38.485020000000006,
          38.55936,
          38.633700000000005,
          38.70804,
          38.78238,
          38.85672,
          38.93106,
          39.0054,
          39.07974,
          39.15408000000001,
          39.22842,
          39.302760000000006,
          39.3771,
          39.451440000000005,
          39.525780000000005,
          39.600120000000004,
          39.67446,
          39.7488,
          39.823139999999995,
          39.89748,
          39.97182,
          40.04616,
          40.1205,
          40.19484,
          40.269180000000006,
          40.34352,
          40.417860000000005,
          40.4922,
          40.56654,
          40.64088,
          40.71522,
          40.78956,
          40.8639,
          40.93824000000001,
          41.01258,
          41.086920000000006,
          41.16126,
          41.235600000000005,
          41.309940000000005,
          41.384280000000004,
          41.45862,
          41.53296,
          41.6073,
          41.68164,
          41.75598,
          41.83032,
          41.90466,
          41.979,
          42.053340000000006,
          42.12768,
          42.202020000000005,
          42.27636,
          42.3507,
          42.42504,
          42.49938,
          42.57372,
          42.64806,
          42.72240000000001,
          42.79674,
          42.871080000000006,
          42.94542,
          43.019760000000005,
          43.094100000000005,
          43.168440000000004,
          43.24278,
          43.31712,
          43.39146,
          43.4658,
          43.54014000000001,
          43.61448,
          43.68882,
          43.76316,
          43.837500000000006,
          43.91184,
          43.986180000000004,
          44.06052,
          44.13486,
          44.2092,
          44.28354,
          44.35788,
          44.43222,
          44.50656000000001,
          44.5809,
          44.655240000000006,
          44.72958,
          44.803920000000005,
          44.878260000000004,
          44.952600000000004,
          45.02694,
          45.10128,
          45.17562,
          45.24996,
          45.32430000000001,
          45.39864,
          45.47298,
          45.54732,
          45.621660000000006,
          45.696,
          45.770340000000004,
          45.84468,
          45.91902,
          45.99336,
          46.0677,
          46.14204,
          46.21638,
          46.29072,
          46.36506,
          46.439400000000006,
          46.51374,
          46.588080000000005,
          46.662420000000004,
          46.736760000000004,
          46.8111,
          46.88544,
          46.95978,
          47.03412,
          47.10846000000001,
          47.1828,
          47.25714000000001,
          47.33148,
          47.405820000000006,
          47.48016,
          47.554500000000004,
          47.62884,
          47.70318,
          47.77752,
          47.85186,
          47.9262,
          48.00054,
          48.07488,
          48.14922,
          48.22356,
          48.297900000000006,
          48.372240000000005,
          48.446580000000004,
          48.520920000000004,
          48.59526,
          48.6696,
          48.74394,
          48.81828,
          48.89262,
          48.96696,
          49.04130000000001,
          49.11564,
          49.189980000000006,
          49.26432,
          49.338660000000004,
          49.413000000000004,
          49.48734,
          49.56168,
          49.63602,
          49.71036,
          49.78470000000001,
          49.85904,
          49.93338000000001,
          50.00772,
          50.082060000000006,
          50.156400000000005,
          50.23074,
          50.305080000000004,
          50.379419999999996,
          50.45376,
          50.5281,
          50.60244,
          50.67678,
          50.75112,
          50.82546,
          50.899800000000006,
          50.97414,
          51.048480000000005,
          51.12282,
          51.197160000000004,
          51.2715,
          51.34584,
          51.42018,
          51.49452,
          51.56886,
          51.64320000000001,
          51.71754,
          51.791880000000006,
          51.866220000000006,
          51.940560000000005,
          52.014900000000004,
          52.089240000000004,
          52.16358,
          52.23792,
          52.31226,
          52.3866,
          52.46094,
          52.53528,
          52.60962000000001,
          52.68396,
          52.758300000000006,
          52.83264,
          52.906980000000004,
          52.981320000000004,
          53.05566
         ],
         "xaxis": "x",
         "y": {
          "bdata": "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",
          "dtype": "f8"
         },
         "yaxis": "y"
        },
        {
         "legendgroup": "Body Mass Index Distribution",
         "marker": {
          "color": "#FA5858",
          "symbol": "line-ns-open"
         },
         "mode": "markers",
         "name": "Body Mass Index Distribution",
         "showlegend": false,
         "type": "scatter",
         "x": [
          27.9,
          33.77,
          33,
          22.705,
          28.88,
          25.74,
          33.44,
          27.74,
          29.83,
          25.84,
          26.22,
          26.29,
          34.4,
          39.82,
          42.13,
          24.6,
          30.78,
          23.845,
          40.3,
          35.3,
          36.005,
          32.4,
          34.1,
          31.92,
          28.025,
          27.72,
          23.085,
          32.775,
          17.385,
          36.3,
          35.6,
          26.315,
          28.6,
          28.31,
          36.4,
          20.425,
          32.965,
          20.8,
          36.67,
          39.9,
          26.6,
          36.63,
          21.78,
          30.8,
          37.05,
          37.3,
          38.665,
          34.77,
          24.53,
          35.2,
          35.625,
          33.63,
          28,
          34.43,
          28.69,
          36.955,
          31.825,
          31.68,
          22.88,
          37.335,
          27.36,
          33.66,
          24.7,
          25.935,
          22.42,
          28.9,
          39.1,
          26.315,
          36.19,
          23.98,
          24.75,
          28.5,
          28.1,
          32.01,
          27.4,
          34.01,
          29.59,
          35.53,
          39.805,
          32.965,
          26.885,
          38.285,
          37.62,
          41.23,
          34.8,
          22.895,
          31.16,
          27.2,
          27.74,
          26.98,
          39.49,
          24.795,
          29.83,
          34.77,
          31.3,
          37.62,
          30.8,
          38.28,
          19.95,
          19.3,
          31.6,
          25.46,
          30.115,
          29.92,
          27.5,
          28.025,
          28.4,
          30.875,
          27.94,
          35.09,
          33.63,
          29.7,
          30.8,
          35.72,
          32.205,
          28.595,
          49.06,
          27.94,
          27.17,
          23.37,
          37.1,
          23.75,
          28.975,
          31.35,
          33.915,
          28.785,
          28.3,
          37.4,
          17.765,
          34.7,
          26.505,
          22.04,
          35.9,
          25.555,
          28.785,
          28.05,
          34.1,
          25.175,
          31.9,
          36,
          22.42,
          32.49,
          25.3,
          29.735,
          28.69,
          38.83,
          30.495,
          37.73,
          37.43,
          28.4,
          24.13,
          29.7,
          37.145,
          23.37,
          25.46,
          39.52,
          24.42,
          25.175,
          35.53,
          27.83,
          26.6,
          36.85,
          39.6,
          29.8,
          29.64,
          28.215,
          37,
          33.155,
          31.825,
          18.905,
          41.47,
          30.3,
          15.96,
          34.8,
          33.345,
          37.7,
          27.835,
          29.2,
          28.9,
          33.155,
          28.595,
          38.28,
          19.95,
          26.41,
          30.69,
          41.895,
          29.92,
          30.9,
          32.2,
          32.11,
          31.57,
          26.2,
          25.74,
          26.6,
          34.43,
          30.59,
          32.8,
          28.6,
          18.05,
          39.33,
          32.11,
          32.23,
          24.035,
          36.08,
          22.3,
          28.88,
          26.4,
          27.74,
          31.8,
          41.23,
          33,
          30.875,
          28.5,
          26.73,
          30.9,
          37.1,
          26.6,
          23.1,
          29.92,
          23.21,
          33.7,
          33.25,
          30.8,
          34.8,
          24.64,
          33.88,
          38.06,
          41.91,
          31.635,
          25.46,
          36.195,
          27.83,
          17.8,
          27.5,
          24.51,
          22.22,
          26.73,
          38.39,
          29.07,
          38.06,
          36.67,
          22.135,
          26.8,
          35.3,
          27.74,
          30.02,
          38.06,
          35.86,
          20.9,
          28.975,
          17.29,
          32.2,
          34.21,
          30.3,
          31.825,
          25.365,
          33.63,
          40.15,
          24.415,
          31.92,
          25.2,
          26.84,
          24.32,
          36.955,
          38.06,
          42.35,
          19.8,
          32.395,
          30.2,
          25.84,
          29.37,
          34.2,
          37.05,
          27.455,
          27.55,
          26.6,
          20.615,
          24.3,
          31.79,
          21.56,
          28.12,
          40.565,
          27.645,
          32.395,
          31.2,
          26.62,
          48.07,
          26.22,
          36.765,
          26.4,
          33.4,
          29.64,
          45.54,
          28.82,
          26.8,
          22.99,
          27.7,
          25.41,
          34.39,
          28.88,
          27.55,
          22.61,
          37.51,
          33,
          38,
          33.345,
          27.5,
          33.33,
          34.865,
          33.06,
          26.6,
          24.7,
          35.97,
          35.86,
          31.4,
          33.25,
          32.205,
          32.775,
          27.645,
          37.335,
          25.27,
          29.64,
          30.8,
          40.945,
          27.2,
          34.105,
          23.21,
          36.48,
          33.8,
          36.7,
          36.385,
          27.36,
          31.16,
          28.785,
          35.72,
          34.5,
          25.74,
          27.55,
          32.3,
          27.72,
          27.6,
          30.02,
          27.55,
          36.765,
          41.47,
          29.26,
          35.75,
          33.345,
          29.92,
          27.835,
          23.18,
          25.6,
          27.7,
          35.245,
          38.28,
          27.6,
          43.89,
          29.83,
          41.91,
          20.79,
          32.3,
          30.5,
          21.7,
          26.4,
          21.89,
          30.78,
          32.3,
          24.985,
          32.015,
          30.4,
          21.09,
          22.23,
          33.155,
          32.9,
          33.33,
          28.31,
          24.89,
          40.15,
          30.115,
          31.46,
          17.955,
          30.685,
          33,
          43.34,
          22.135,
          34.4,
          39.05,
          25.365,
          22.61,
          30.21,
          35.625,
          37.43,
          31.445,
          31.35,
          32.3,
          19.855,
          34.4,
          31.02,
          25.6,
          38.17,
          20.6,
          47.52,
          32.965,
          32.3,
          20.4,
          38.38,
          24.31,
          23.6,
          21.12,
          30.03,
          17.48,
          20.235,
          17.195,
          23.9,
          35.15,
          35.64,
          34.1,
          22.6,
          39.16,
          26.98,
          33.88,
          35.86,
          32.775,
          30.59,
          30.2,
          24.31,
          27.265,
          29.165,
          16.815,
          30.4,
          33.1,
          20.235,
          26.9,
          30.5,
          28.595,
          33.11,
          31.73,
          28.9,
          46.75,
          29.45,
          32.68,
          33.5,
          43.01,
          36.52,
          26.695,
          33.1,
          29.64,
          25.65,
          29.6,
          38.6,
          29.6,
          24.13,
          23.4,
          29.735,
          46.53,
          37.4,
          30.14,
          30.495,
          39.6,
          33,
          36.63,
          30,
          38.095,
          25.935,
          25.175,
          28.38,
          28.7,
          33.82,
          24.32,
          24.09,
          32.67,
          30.115,
          29.8,
          33.345,
          25.1,
          28.31,
          28.5,
          35.625,
          36.85,
          32.56,
          41.325,
          37.51,
          31.35,
          39.5,
          34.3,
          31.065,
          21.47,
          28.7,
          38.06,
          31.16,
          32.9,
          25.08,
          25.08,
          43.4,
          25.7,
          27.93,
          23.6,
          28.7,
          23.98,
          39.2,
          34.4,
          26.03,
          23.21,
          30.25,
          28.93,
          30.875,
          31.35,
          23.75,
          25.27,
          28.7,
          32.11,
          33.66,
          22.42,
          30.4,
          28.3,
          35.7,
          35.31,
          30.495,
          31,
          30.875,
          27.36,
          44.22,
          33.915,
          37.73,
          26.07,
          33.88,
          30.59,
          25.8,
          39.425,
          25.46,
          42.13,
          31.73,
          29.7,
          36.19,
          40.48,
          28.025,
          38.9,
          30.2,
          28.05,
          31.35,
          38,
          31.79,
          36.3,
          47.41,
          30.21,
          25.84,
          35.435,
          46.7,
          28.595,
          46.2,
          30.8,
          28.93,
          21.4,
          31.73,
          41.325,
          23.8,
          33.44,
          34.21,
          34.105,
          35.53,
          19.95,
          32.68,
          30.5,
          44.77,
          32.12,
          30.495,
          40.565,
          30.59,
          31.9,
          40.565,
          29.1,
          37.29,
          43.12,
          36.86,
          34.295,
          27.17,
          26.84,
          38.095,
          30.2,
          23.465,
          25.46,
          30.59,
          45.43,
          23.65,
          20.7,
          28.27,
          20.235,
          30.21,
          35.91,
          30.69,
          29,
          19.57,
          31.13,
          21.85,
          40.26,
          33.725,
          29.48,
          33.25,
          32.6,
          37.525,
          39.16,
          31.635,
          25.3,
          39.05,
          28.31,
          34.1,
          25.175,
          23.655,
          26.98,
          37.8,
          29.37,
          34.8,
          33.155,
          19,
          33,
          36.63,
          28.595,
          25.6,
          33.11,
          37.1,
          31.4,
          34.1,
          21.3,
          33.535,
          28.785,
          26.03,
          28.88,
          42.46,
          38,
          38.95,
          36.1,
          29.3,
          35.53,
          22.705,
          39.7,
          38.19,
          24.51,
          38.095,
          26.41,
          33.66,
          42.4,
          28.31,
          33.915,
          34.96,
          35.31,
          30.78,
          26.22,
          23.37,
          28.5,
          32.965,
          42.68,
          39.6,
          31.13,
          36.3,
          35.2,
          25.3,
          42.4,
          33.155,
          35.91,
          28.785,
          46.53,
          23.98,
          31.54,
          33.66,
          22.99,
          38.06,
          28.7,
          32.775,
          32.015,
          29.81,
          31.57,
          31.16,
          29.7,
          31.02,
          43.89,
          21.375,
          40.81,
          31.35,
          36.1,
          23.18,
          17.4,
          20.3,
          35.3,
          24.32,
          18.5,
          26.41,
          26.125,
          41.69,
          24.1,
          31.13,
          27.36,
          36.2,
          32.395,
          23.655,
          34.8,
          40.185,
          32.3,
          35.75,
          33.725,
          39.27,
          34.87,
          44.745,
          41.47,
          26.41,
          29.545,
          32.9,
          38.06,
          28.69,
          30.495,
          27.74,
          35.2,
          23.54,
          30.685,
          40.47,
          22.6,
          28.9,
          22.61,
          24.32,
          36.67,
          33.44,
          40.66,
          36.6,
          37.4,
          35.4,
          27.075,
          39.05,
          28.405,
          21.755,
          40.28,
          36.08,
          24.42,
          21.4,
          30.1,
          27.265,
          32.1,
          34.77,
          38.39,
          23.7,
          31.73,
          35.5,
          24.035,
          29.15,
          34.105,
          26.62,
          26.41,
          30.115,
          27,
          21.755,
          36,
          30.875,
          26.4,
          28.975,
          37.905,
          22.77,
          33.63,
          27.645,
          22.8,
          27.83,
          37.43,
          38.17,
          34.58,
          35.2,
          27.1,
          26.03,
          25.175,
          31.825,
          32.3,
          29,
          39.7,
          19.475,
          36.1,
          26.7,
          36.48,
          28.88,
          34.2,
          33.33,
          32.3,
          39.805,
          34.32,
          28.88,
          24.4,
          41.14,
          35.97,
          27.6,
          29.26,
          27.7,
          36.955,
          36.86,
          22.515,
          29.92,
          41.8,
          27.6,
          23.18,
          20.9,
          31.92,
          28.5,
          44.22,
          22.895,
          33.1,
          24.795,
          26.18,
          35.97,
          22.3,
          42.24,
          26.51,
          35.815,
          41.42,
          36.575,
          30.14,
          25.84,
          30.8,
          42.94,
          21.01,
          22.515,
          34.43,
          31.46,
          24.225,
          37.1,
          26.125,
          35.53,
          33.7,
          17.67,
          31.13,
          29.81,
          24.32,
          31.825,
          31.79,
          28.025,
          30.78,
          21.85,
          33.1,
          25.84,
          23.845,
          34.39,
          33.82,
          35.97,
          31.5,
          28.31,
          23.465,
          31.35,
          31.1,
          24.7,
          32.78,
          29.81,
          30.495,
          32.45,
          34.2,
          50.38,
          24.1,
          32.775,
          30.78,
          32.3,
          35.53,
          23.75,
          23.845,
          29.6,
          33.11,
          24.13,
          32.23,
          28.1,
          47.6,
          28,
          33.535,
          19.855,
          25.4,
          29.9,
          37.29,
          43.7,
          23.655,
          24.3,
          36.2,
          29.48,
          24.86,
          30.1,
          21.85,
          28.12,
          27.1,
          33.44,
          28.8,
          29.5,
          34.8,
          27.36,
          22.135,
          37.05,
          26.695,
          28.93,
          28.975,
          30.02,
          39.5,
          33.63,
          26.885,
          29.04,
          24.035,
          38.94,
          32.11,
          44,
          20.045,
          25.555,
          40.26,
          22.515,
          22.515,
          40.92,
          27.265,
          36.85,
          35.1,
          29.355,
          32.585,
          32.34,
          39.8,
          24.6,
          28.31,
          31.73,
          26.695,
          27.5,
          24.605,
          33.99,
          26.885,
          22.895,
          28.2,
          34.21,
          25,
          33.2,
          31,
          35.815,
          23.2,
          32.11,
          23.4,
          20.1,
          39.16,
          34.21,
          46.53,
          32.5,
          25.8,
          35.3,
          37.18,
          27.5,
          29.735,
          24.225,
          26.18,
          29.48,
          23.21,
          46.09,
          40.185,
          22.61,
          39.93,
          35.8,
          35.8,
          34.2,
          31.255,
          29.7,
          18.335,
          42.9,
          28.405,
          30.2,
          27.835,
          39.49,
          30.8,
          26.79,
          34.96,
          36.67,
          39.615,
          25.9,
          35.2,
          24.795,
          36.765,
          27.1,
          24.795,
          25.365,
          25.745,
          34.32,
          28.16,
          23.56,
          20.235,
          40.5,
          35.42,
          22.895,
          40.15,
          29.15,
          39.995,
          29.92,
          25.46,
          21.375,
          25.9,
          30.59,
          30.115,
          25.8,
          30.115,
          27.645,
          34.675,
          20.52,
          19.8,
          27.835,
          31.6,
          28.27,
          20.045,
          23.275,
          34.1,
          36.85,
          36.29,
          26.885,
          22.99,
          32.7,
          25.8,
          29.6,
          19.19,
          31.73,
          29.26,
          28.215,
          24.985,
          27.74,
          22.8,
          20.13,
          33.33,
          32.3,
          27.6,
          25.46,
          24.605,
          34.2,
          35.815,
          32.68,
          37,
          31.02,
          36.08,
          23.32,
          45.32,
          34.6,
          26.03,
          18.715,
          31.6,
          17.29,
          23.655,
          35.2,
          27.93,
          21.565,
          38.38,
          23,
          37.07,
          30.495,
          28.88,
          27.265,
          28.025,
          23.085,
          30.685,
          25.8,
          35.245,
          24.7,
          25.08,
          52.58,
          22.515,
          30.9,
          36.955,
          26.41,
          29.83,
          29.8,
          21.47,
          27.645,
          28.9,
          31.79,
          39.49,
          33.82,
          32.01,
          27.94,
          41.14,
          28.595,
          25.6,
          25.3,
          37.29,
          42.655,
          21.66,
          31.9,
          37.07,
          31.445,
          31.255,
          28.88,
          18.335,
          29.59,
          32,
          26.03,
          31.68,
          33.66,
          21.78,
          27.835,
          19.95,
          31.5,
          30.495,
          18.3,
          28.975,
          31.54,
          47.74,
          22.1,
          36.19,
          29.83,
          32.7,
          30.4,
          33.7,
          31.35,
          34.96,
          33.77,
          30.875,
          33.99,
          19.095,
          28.6,
          38.94,
          36.08,
          29.8,
          31.24,
          29.925,
          26.22,
          30,
          20.35,
          32.3,
          38.39,
          25.85,
          26.315,
          24.51,
          32.67,
          29.64,
          33.33,
          35.75,
          19.95,
          31.4,
          38.17,
          36.86,
          32.395,
          42.75,
          25.08,
          29.9,
          35.86,
          32.8,
          18.6,
          23.87,
          45.9,
          40.28,
          18.335,
          33.82,
          28.12,
          25,
          22.23,
          30.25,
          32.49,
          37.07,
          32.6,
          24.86,
          32.34,
          32.3,
          32.775,
          32.8,
          31.92,
          21.5,
          34.1,
          30.305,
          36.48,
          32.56,
          35.815,
          27.93,
          22.135,
          44.88,
          23.18,
          30.59,
          41.1,
          34.58,
          42.13,
          38.83,
          28.215,
          28.31,
          26.125,
          40.37,
          24.6,
          35.2,
          34.105,
          27.36,
          26.7,
          41.91,
          29.26,
          32.11,
          27.1,
          24.13,
          27.4,
          34.865,
          29.81,
          41.325,
          29.925,
          30.3,
          27.36,
          28.49,
          23.56,
          35.625,
          32.68,
          25.27,
          28,
          32.775,
          21.755,
          32.395,
          36.575,
          21.755,
          27.93,
          30.02,
          33.55,
          29.355,
          25.8,
          24.32,
          40.375,
          32.11,
          32.3,
          27.28,
          17.86,
          34.8,
          33.4,
          25.555,
          37.1,
          30.875,
          34.1,
          21.47,
          33.3,
          31.255,
          39.14,
          25.08,
          37.29,
          34.6,
          30.21,
          21.945,
          24.97,
          25.3,
          24.42,
          23.94,
          39.82,
          16.815,
          37.18,
          34.43,
          30.305,
          34.485,
          21.8,
          24.605,
          23.3,
          27.83,
          31.065,
          21.66,
          28.215,
          22.705,
          42.13,
          41.8,
          36.96,
          21.28,
          33.11,
          33.33,
          24.3,
          25.7,
          29.4,
          39.82,
          33.63,
          29.83,
          19.8,
          27.3,
          29.3,
          27.72,
          37.9,
          36.385,
          27.645,
          37.715,
          23.18,
          20.52,
          37.1,
          28.05,
          29.9,
          33.345,
          23.76,
          30.5,
          31.065,
          33.3,
          27.5,
          33.915,
          34.485,
          25.52,
          27.61,
          27.06,
          23.7,
          30.4,
          29.735,
          29.925,
          26.79,
          33.33,
          27.645,
          21.66,
          30.03,
          36.3,
          24.32,
          17.29,
          25.9,
          39.4,
          34.32,
          19.95,
          34.9,
          23.21,
          25.745,
          25.175,
          22,
          26.125,
          26.51,
          27.455,
          25.745,
          30.36,
          30.875,
          20.8,
          27.8,
          24.605,
          27.72,
          21.85,
          28.12,
          30.2,
          32.2,
          26.315,
          26.695,
          42.9,
          34.7,
          23.655,
          28.31,
          20.6,
          53.13,
          39.71,
          26.315,
          31.065,
          26.695,
          38.83,
          40.37,
          25.935,
          33.535,
          32.87,
          30.03,
          24.225,
          38.6,
          25.74,
          33.4,
          44.7,
          30.97,
          31.92,
          36.85,
          25.8,
          29.07
         ],
         "xaxis": "x",
         "y": [
          "Body Mass Index Distribution",
          "Body Mass Index Distribution",
          "Body Mass Index Distribution",
          "Body Mass Index Distribution",
          "Body Mass Index Distribution",
          "Body Mass Index Distribution",
          "Body Mass Index Distribution",
          "Body Mass Index Distribution",
          "Body Mass Index Distribution",
          "Body Mass Index Distribution",
          "Body Mass Index Distribution",
          "Body Mass Index Distribution",
          "Body Mass Index Distribution",
          "Body Mass Index Distribution",
          "Body Mass Index Distribution",
          "Body Mass Index Distribution",
          "Body Mass Index Distribution",
          "Body Mass Index Distribution",
          "Body Mass Index Distribution",
          "Body Mass Index Distribution",
          "Body Mass Index Distribution",
          "Body Mass Index Distribution",
          "Body Mass Index Distribution",
          "Body Mass Index Distribution",
          "Body Mass Index Distribution",
          "Body Mass Index Distribution",
          "Body Mass Index Distribution",
          "Body Mass Index Distribution",
          "Body Mass Index Distribution",
          "Body Mass Index Distribution",
          "Body Mass Index Distribution",
          "Body Mass Index Distribution",
          "Body Mass Index Distribution",
          "Body Mass Index Distribution",
          "Body Mass Index Distribution",
          "Body Mass Index Distribution",
          "Body Mass Index Distribution",
          "Body Mass Index Distribution",
          "Body Mass Index Distribution",
          "Body Mass Index Distribution",
          "Body Mass Index Distribution",
          "Body Mass Index Distribution",
          "Body Mass Index Distribution",
          "Body Mass Index Distribution",
          "Body Mass Index Distribution",
          "Body Mass Index Distribution",
          "Body Mass Index Distribution",
          "Body Mass Index Distribution",
          "Body Mass Index Distribution",
          "Body Mass Index Distribution",
          "Body Mass Index Distribution",
          "Body Mass Index Distribution",
          "Body Mass Index Distribution",
          "Body Mass Index Distribution",
          "Body Mass Index Distribution",
          "Body Mass Index Distribution",
          "Body Mass Index Distribution",
          "Body Mass Index Distribution",
          "Body Mass Index Distribution",
          "Body Mass Index Distribution",
          "Body Mass Index Distribution",
          "Body Mass Index Distribution",
          "Body Mass Index Distribution",
          "Body Mass Index Distribution",
          "Body Mass Index Distribution",
          "Body Mass Index Distribution",
          "Body Mass Index Distribution",
          "Body Mass Index Distribution",
          "Body Mass Index Distribution",
          "Body Mass Index Distribution",
          "Body Mass Index Distribution",
          "Body Mass Index Distribution",
          "Body Mass Index Distribution",
          "Body Mass Index Distribution",
          "Body Mass Index Distribution",
          "Body Mass Index Distribution",
          "Body Mass Index Distribution",
          "Body Mass Index Distribution",
          "Body Mass Index Distribution",
          "Body Mass Index Distribution",
          "Body Mass Index Distribution",
          "Body Mass Index Distribution",
          "Body Mass Index Distribution",
          "Body Mass Index Distribution",
          "Body Mass Index Distribution",
          "Body Mass Index Distribution",
          "Body Mass Index Distribution",
          "Body Mass Index Distribution",
          "Body Mass Index Distribution",
          "Body Mass Index Distribution",
          "Body Mass Index Distribution",
          "Body Mass Index Distribution",
          "Body Mass Index Distribution",
          "Body Mass Index Distribution",
          "Body Mass Index Distribution",
          "Body Mass Index Distribution",
          "Body Mass Index Distribution",
          "Body Mass Index Distribution",
          "Body Mass Index Distribution",
          "Body Mass Index Distribution",
          "Body Mass Index Distribution",
          "Body Mass Index Distribution",
          "Body Mass Index Distribution",
          "Body Mass Index Distribution",
          "Body Mass Index Distribution",
          "Body Mass Index Distribution",
          "Body Mass Index Distribution",
          "Body Mass Index Distribution",
          "Body Mass Index Distribution",
          "Body Mass Index Distribution",
          "Body Mass Index Distribution",
          "Body Mass Index Distribution",
          "Body Mass Index Distribution",
          "Body Mass Index Distribution",
          "Body Mass Index Distribution",
          "Body Mass Index Distribution",
          "Body Mass Index Distribution",
          "Body Mass Index Distribution",
          "Body Mass Index Distribution",
          "Body Mass Index Distribution",
          "Body Mass Index Distribution",
          "Body Mass Index Distribution",
          "Body Mass Index Distribution",
          "Body Mass Index Distribution",
          "Body Mass Index Distribution",
          "Body Mass Index Distribution",
          "Body Mass Index Distribution",
          "Body Mass Index Distribution",
          "Body Mass Index Distribution",
          "Body Mass Index Distribution",
          "Body Mass Index Distribution",
          "Body Mass Index Distribution",
          "Body Mass Index Distribution",
          "Body Mass Index Distribution",
          "Body Mass Index Distribution",
          "Body Mass Index Distribution",
          "Body Mass Index Distribution",
          "Body Mass Index Distribution",
          "Body Mass Index Distribution",
          "Body Mass Index Distribution",
          "Body Mass Index Distribution",
          "Body Mass Index Distribution",
          "Body Mass Index Distribution",
          "Body Mass Index Distribution",
          "Body Mass Index Distribution",
          "Body Mass Index Distribution",
          "Body Mass Index Distribution",
          "Body Mass Index Distribution",
          "Body Mass Index Distribution",
          "Body Mass Index Distribution",
          "Body Mass Index Distribution",
          "Body Mass Index Distribution",
          "Body Mass Index Distribution",
          "Body Mass Index Distribution",
          "Body Mass Index Distribution",
          "Body Mass Index Distribution",
          "Body Mass Index Distribution",
          "Body Mass Index Distribution",
          "Body Mass Index Distribution",
          "Body Mass Index Distribution",
          "Body Mass Index Distribution",
          "Body Mass Index Distribution",
          "Body Mass Index Distribution",
          "Body Mass Index Distribution",
          "Body Mass Index Distribution",
          "Body Mass Index Distribution",
          "Body Mass Index Distribution",
          "Body Mass Index Distribution",
          "Body Mass Index Distribution",
          "Body Mass Index Distribution",
          "Body Mass Index Distribution",
          "Body Mass Index Distribution",
          "Body Mass Index Distribution",
          "Body Mass Index Distribution",
          "Body Mass Index Distribution",
          "Body Mass Index Distribution",
          "Body Mass Index Distribution",
          "Body Mass Index Distribution",
          "Body Mass Index Distribution",
          "Body Mass Index Distribution",
          "Body Mass Index Distribution",
          "Body Mass Index Distribution",
          "Body Mass Index Distribution",
          "Body Mass Index Distribution",
          "Body Mass Index Distribution",
          "Body Mass Index Distribution",
          "Body Mass Index Distribution",
          "Body Mass Index Distribution",
          "Body Mass Index Distribution",
          "Body Mass Index Distribution",
          "Body Mass Index Distribution",
          "Body Mass Index Distribution",
          "Body Mass Index Distribution",
          "Body Mass Index Distribution",
          "Body Mass Index Distribution",
          "Body Mass Index Distribution",
          "Body Mass Index Distribution",
          "Body Mass Index Distribution",
          "Body Mass Index Distribution",
          "Body Mass Index Distribution",
          "Body Mass Index Distribution",
          "Body Mass Index Distribution",
          "Body Mass Index Distribution",
          "Body Mass Index Distribution",
          "Body Mass Index Distribution",
          "Body Mass Index Distribution",
          "Body Mass Index Distribution",
          "Body Mass Index Distribution",
          "Body Mass Index Distribution",
          "Body Mass Index Distribution",
          "Body Mass Index Distribution",
          "Body Mass Index Distribution",
          "Body Mass Index Distribution",
          "Body Mass Index Distribution",
          "Body Mass Index Distribution",
          "Body Mass Index Distribution",
          "Body Mass Index Distribution",
          "Body Mass Index Distribution",
          "Body Mass Index Distribution",
          "Body Mass Index Distribution",
          "Body Mass Index Distribution",
          "Body Mass Index Distribution",
          "Body Mass Index Distribution",
          "Body Mass Index Distribution",
          "Body Mass Index Distribution",
          "Body Mass Index Distribution",
          "Body Mass Index Distribution",
          "Body Mass Index Distribution",
          "Body Mass Index Distribution",
          "Body Mass Index Distribution",
          "Body Mass Index Distribution",
          "Body Mass Index Distribution",
          "Body Mass Index Distribution",
          "Body Mass Index Distribution",
          "Body Mass Index Distribution",
          "Body Mass Index Distribution",
          "Body Mass Index Distribution",
          "Body Mass Index Distribution",
          "Body Mass Index Distribution",
          "Body Mass Index Distribution",
          "Body Mass Index Distribution",
          "Body Mass Index Distribution",
          "Body Mass Index Distribution",
          "Body Mass Index Distribution",
          "Body Mass Index Distribution",
          "Body Mass Index Distribution",
          "Body Mass Index Distribution",
          "Body Mass Index Distribution",
          "Body Mass Index Distribution",
          "Body Mass Index Distribution",
          "Body Mass Index Distribution",
          "Body Mass Index Distribution",
          "Body Mass Index Distribution",
          "Body Mass Index Distribution",
          "Body Mass Index Distribution",
          "Body Mass Index Distribution",
          "Body Mass Index Distribution",
          "Body Mass Index Distribution",
          "Body Mass Index Distribution",
          "Body Mass Index Distribution",
          "Body Mass Index Distribution",
          "Body Mass Index Distribution",
          "Body Mass Index Distribution",
          "Body Mass Index Distribution",
          "Body Mass Index Distribution",
          "Body Mass Index Distribution",
          "Body Mass Index Distribution",
          "Body Mass Index Distribution",
          "Body Mass Index Distribution",
          "Body Mass Index Distribution",
          "Body Mass Index Distribution",
          "Body Mass Index Distribution",
          "Body Mass Index Distribution",
          "Body Mass Index Distribution",
          "Body Mass Index Distribution",
          "Body Mass Index Distribution",
          "Body Mass Index Distribution",
          "Body Mass Index Distribution",
          "Body Mass Index Distribution",
          "Body Mass Index Distribution",
          "Body Mass Index Distribution",
          "Body Mass Index Distribution",
          "Body Mass Index Distribution",
          "Body Mass Index Distribution",
          "Body Mass Index Distribution",
          "Body Mass Index Distribution",
          "Body Mass Index Distribution",
          "Body Mass Index Distribution",
          "Body Mass Index Distribution",
          "Body Mass Index Distribution",
          "Body Mass Index Distribution",
          "Body Mass Index Distribution",
          "Body Mass Index Distribution",
          "Body Mass Index Distribution",
          "Body Mass Index Distribution",
          "Body Mass Index Distribution",
          "Body Mass Index Distribution",
          "Body Mass Index Distribution",
          "Body Mass Index Distribution",
          "Body Mass Index Distribution",
          "Body Mass Index Distribution",
          "Body Mass Index Distribution",
          "Body Mass Index Distribution",
          "Body Mass Index Distribution",
          "Body Mass Index Distribution",
          "Body Mass Index Distribution",
          "Body Mass Index Distribution",
          "Body Mass Index Distribution",
          "Body Mass Index Distribution",
          "Body Mass Index Distribution",
          "Body Mass Index Distribution",
          "Body Mass Index Distribution",
          "Body Mass Index Distribution",
          "Body Mass Index Distribution",
          "Body Mass Index Distribution",
          "Body Mass Index Distribution",
          "Body Mass Index Distribution",
          "Body Mass Index Distribution",
          "Body Mass Index Distribution",
          "Body Mass Index Distribution",
          "Body Mass Index Distribution",
          "Body Mass Index Distribution",
          "Body Mass Index Distribution",
          "Body Mass Index Distribution",
          "Body Mass Index Distribution",
          "Body Mass Index Distribution",
          "Body Mass Index Distribution",
          "Body Mass Index Distribution",
          "Body Mass Index Distribution",
          "Body Mass Index Distribution",
          "Body Mass Index Distribution",
          "Body Mass Index Distribution",
          "Body Mass Index Distribution",
          "Body Mass Index Distribution",
          "Body Mass Index Distribution",
          "Body Mass Index Distribution",
          "Body Mass Index Distribution",
          "Body Mass Index Distribution",
          "Body Mass Index Distribution",
          "Body Mass Index Distribution",
          "Body Mass Index Distribution",
          "Body Mass Index Distribution",
          "Body Mass Index Distribution",
          "Body Mass Index Distribution",
          "Body Mass Index Distribution",
          "Body Mass Index Distribution",
          "Body Mass Index Distribution",
          "Body Mass Index Distribution",
          "Body Mass Index Distribution",
          "Body Mass Index Distribution",
          "Body Mass Index Distribution",
          "Body Mass Index Distribution",
          "Body Mass Index Distribution",
          "Body Mass Index Distribution",
          "Body Mass Index Distribution",
          "Body Mass Index Distribution",
          "Body Mass Index Distribution",
          "Body Mass Index Distribution",
          "Body Mass Index Distribution",
          "Body Mass Index Distribution",
          "Body Mass Index Distribution",
          "Body Mass Index Distribution",
          "Body Mass Index Distribution",
          "Body Mass Index Distribution",
          "Body Mass Index Distribution",
          "Body Mass Index Distribution",
          "Body Mass Index Distribution",
          "Body Mass Index Distribution",
          "Body Mass Index Distribution",
          "Body Mass Index Distribution",
          "Body Mass Index Distribution",
          "Body Mass Index Distribution",
          "Body Mass Index Distribution",
          "Body Mass Index Distribution",
          "Body Mass Index Distribution",
          "Body Mass Index Distribution",
          "Body Mass Index Distribution",
          "Body Mass Index Distribution",
          "Body Mass Index Distribution",
          "Body Mass Index Distribution",
          "Body Mass Index Distribution",
          "Body Mass Index Distribution",
          "Body Mass Index Distribution",
          "Body Mass Index Distribution",
          "Body Mass Index Distribution",
          "Body Mass Index Distribution",
          "Body Mass Index Distribution",
          "Body Mass Index Distribution",
          "Body Mass Index Distribution",
          "Body Mass Index Distribution",
          "Body Mass Index Distribution",
          "Body Mass Index Distribution",
          "Body Mass Index Distribution",
          "Body Mass Index Distribution",
          "Body Mass Index Distribution",
          "Body Mass Index Distribution",
          "Body Mass Index Distribution",
          "Body Mass Index Distribution",
          "Body Mass Index Distribution",
          "Body Mass Index Distribution",
          "Body Mass Index Distribution",
          "Body Mass Index Distribution",
          "Body Mass Index Distribution",
          "Body Mass Index Distribution",
          "Body Mass Index Distribution",
          "Body Mass Index Distribution",
          "Body Mass Index Distribution",
          "Body Mass Index Distribution",
          "Body Mass Index Distribution",
          "Body Mass Index Distribution",
          "Body Mass Index Distribution",
          "Body Mass Index Distribution",
          "Body Mass Index Distribution",
          "Body Mass Index Distribution",
          "Body Mass Index Distribution",
          "Body Mass Index Distribution",
          "Body Mass Index Distribution",
          "Body Mass Index Distribution",
          "Body Mass Index Distribution",
          "Body Mass Index Distribution",
          "Body Mass Index Distribution",
          "Body Mass Index Distribution",
          "Body Mass Index Distribution",
          "Body Mass Index Distribution",
          "Body Mass Index Distribution",
          "Body Mass Index Distribution",
          "Body Mass Index Distribution",
          "Body Mass Index Distribution",
          "Body Mass Index Distribution",
          "Body Mass Index Distribution",
          "Body Mass Index Distribution",
          "Body Mass Index Distribution",
          "Body Mass Index Distribution",
          "Body Mass Index Distribution",
          "Body Mass Index Distribution",
          "Body Mass Index Distribution",
          "Body Mass Index Distribution",
          "Body Mass Index Distribution",
          "Body Mass Index Distribution",
          "Body Mass Index Distribution",
          "Body Mass Index Distribution",
          "Body Mass Index Distribution",
          "Body Mass Index Distribution",
          "Body Mass Index Distribution",
          "Body Mass Index Distribution",
          "Body Mass Index Distribution",
          "Body Mass Index Distribution",
          "Body Mass Index Distribution",
          "Body Mass Index Distribution",
          "Body Mass Index Distribution",
          "Body Mass Index Distribution",
          "Body Mass Index Distribution",
          "Body Mass Index Distribution",
          "Body Mass Index Distribution",
          "Body Mass Index Distribution",
          "Body Mass Index Distribution",
          "Body Mass Index Distribution",
          "Body Mass Index Distribution",
          "Body Mass Index Distribution",
          "Body Mass Index Distribution",
          "Body Mass Index Distribution",
          "Body Mass Index Distribution",
          "Body Mass Index Distribution",
          "Body Mass Index Distribution",
          "Body Mass Index Distribution",
          "Body Mass Index Distribution",
          "Body Mass Index Distribution",
          "Body Mass Index Distribution",
          "Body Mass Index Distribution",
          "Body Mass Index Distribution",
          "Body Mass Index Distribution",
          "Body Mass Index Distribution",
          "Body Mass Index Distribution",
          "Body Mass Index Distribution",
          "Body Mass Index Distribution",
          "Body Mass Index Distribution",
          "Body Mass Index Distribution",
          "Body Mass Index Distribution",
          "Body Mass Index Distribution",
          "Body Mass Index Distribution",
          "Body Mass Index Distribution",
          "Body Mass Index Distribution",
          "Body Mass Index Distribution",
          "Body Mass Index Distribution",
          "Body Mass Index Distribution",
          "Body Mass Index Distribution",
          "Body Mass Index Distribution",
          "Body Mass Index Distribution",
          "Body Mass Index Distribution",
          "Body Mass Index Distribution",
          "Body Mass Index Distribution",
          "Body Mass Index Distribution",
          "Body Mass Index Distribution",
          "Body Mass Index Distribution",
          "Body Mass Index Distribution",
          "Body Mass Index Distribution",
          "Body Mass Index Distribution",
          "Body Mass Index Distribution",
          "Body Mass Index Distribution",
          "Body Mass Index Distribution",
          "Body Mass Index Distribution",
          "Body Mass Index Distribution",
          "Body Mass Index Distribution",
          "Body Mass Index Distribution",
          "Body Mass Index Distribution",
          "Body Mass Index Distribution",
          "Body Mass Index Distribution",
          "Body Mass Index Distribution",
          "Body Mass Index Distribution",
          "Body Mass Index Distribution",
          "Body Mass Index Distribution",
          "Body Mass Index Distribution",
          "Body Mass Index Distribution",
          "Body Mass Index Distribution",
          "Body Mass Index Distribution",
          "Body Mass Index Distribution",
          "Body Mass Index Distribution",
          "Body Mass Index Distribution",
          "Body Mass Index Distribution",
          "Body Mass Index Distribution",
          "Body Mass Index Distribution",
          "Body Mass Index Distribution",
          "Body Mass Index Distribution",
          "Body Mass Index Distribution",
          "Body Mass Index Distribution",
          "Body Mass Index Distribution",
          "Body Mass Index Distribution",
          "Body Mass Index Distribution",
          "Body Mass Index Distribution",
          "Body Mass Index Distribution",
          "Body Mass Index Distribution",
          "Body Mass Index Distribution",
          "Body Mass Index Distribution",
          "Body Mass Index Distribution",
          "Body Mass Index Distribution",
          "Body Mass Index Distribution",
          "Body Mass Index Distribution",
          "Body Mass Index Distribution",
          "Body Mass Index Distribution",
          "Body Mass Index Distribution",
          "Body Mass Index Distribution",
          "Body Mass Index Distribution",
          "Body Mass Index Distribution",
          "Body Mass Index Distribution",
          "Body Mass Index Distribution",
          "Body Mass Index Distribution",
          "Body Mass Index Distribution",
          "Body Mass Index Distribution",
          "Body Mass Index Distribution",
          "Body Mass Index Distribution",
          "Body Mass Index Distribution",
          "Body Mass Index Distribution",
          "Body Mass Index Distribution",
          "Body Mass Index Distribution",
          "Body Mass Index Distribution",
          "Body Mass Index Distribution",
          "Body Mass Index Distribution",
          "Body Mass Index Distribution",
          "Body Mass Index Distribution",
          "Body Mass Index Distribution",
          "Body Mass Index Distribution",
          "Body Mass Index Distribution",
          "Body Mass Index Distribution",
          "Body Mass Index Distribution",
          "Body Mass Index Distribution",
          "Body Mass Index Distribution",
          "Body Mass Index Distribution",
          "Body Mass Index Distribution",
          "Body Mass Index Distribution",
          "Body Mass Index Distribution",
          "Body Mass Index Distribution",
          "Body Mass Index Distribution",
          "Body Mass Index Distribution",
          "Body Mass Index Distribution",
          "Body Mass Index Distribution",
          "Body Mass Index Distribution",
          "Body Mass Index Distribution",
          "Body Mass Index Distribution",
          "Body Mass Index Distribution",
          "Body Mass Index Distribution",
          "Body Mass Index Distribution",
          "Body Mass Index Distribution",
          "Body Mass Index Distribution",
          "Body Mass Index Distribution",
          "Body Mass Index Distribution",
          "Body Mass Index Distribution",
          "Body Mass Index Distribution",
          "Body Mass Index Distribution",
          "Body Mass Index Distribution",
          "Body Mass Index Distribution",
          "Body Mass Index Distribution",
          "Body Mass Index Distribution",
          "Body Mass Index Distribution",
          "Body Mass Index Distribution",
          "Body Mass Index Distribution",
          "Body Mass Index Distribution",
          "Body Mass Index Distribution",
          "Body Mass Index Distribution",
          "Body Mass Index Distribution",
          "Body Mass Index Distribution",
          "Body Mass Index Distribution",
          "Body Mass Index Distribution",
          "Body Mass Index Distribution",
          "Body Mass Index Distribution",
          "Body Mass Index Distribution",
          "Body Mass Index Distribution",
          "Body Mass Index Distribution",
          "Body Mass Index Distribution",
          "Body Mass Index Distribution",
          "Body Mass Index Distribution",
          "Body Mass Index Distribution",
          "Body Mass Index Distribution",
          "Body Mass Index Distribution",
          "Body Mass Index Distribution",
          "Body Mass Index Distribution",
          "Body Mass Index Distribution",
          "Body Mass Index Distribution",
          "Body Mass Index Distribution",
          "Body Mass Index Distribution",
          "Body Mass Index Distribution",
          "Body Mass Index Distribution",
          "Body Mass Index Distribution",
          "Body Mass Index Distribution",
          "Body Mass Index Distribution",
          "Body Mass Index Distribution",
          "Body Mass Index Distribution",
          "Body Mass Index Distribution",
          "Body Mass Index Distribution",
          "Body Mass Index Distribution",
          "Body Mass Index Distribution",
          "Body Mass Index Distribution",
          "Body Mass Index Distribution",
          "Body Mass Index Distribution",
          "Body Mass Index Distribution",
          "Body Mass Index Distribution",
          "Body Mass Index Distribution",
          "Body Mass Index Distribution",
          "Body Mass Index Distribution",
          "Body Mass Index Distribution",
          "Body Mass Index Distribution",
          "Body Mass Index Distribution",
          "Body Mass Index Distribution",
          "Body Mass Index Distribution",
          "Body Mass Index Distribution",
          "Body Mass Index Distribution",
          "Body Mass Index Distribution",
          "Body Mass Index Distribution",
          "Body Mass Index Distribution",
          "Body Mass Index Distribution",
          "Body Mass Index Distribution",
          "Body Mass Index Distribution",
          "Body Mass Index Distribution",
          "Body Mass Index Distribution",
          "Body Mass Index Distribution",
          "Body Mass Index Distribution",
          "Body Mass Index Distribution",
          "Body Mass Index Distribution",
          "Body Mass Index Distribution",
          "Body Mass Index Distribution",
          "Body Mass Index Distribution",
          "Body Mass Index Distribution",
          "Body Mass Index Distribution",
          "Body Mass Index Distribution",
          "Body Mass Index Distribution",
          "Body Mass Index Distribution",
          "Body Mass Index Distribution",
          "Body Mass Index Distribution",
          "Body Mass Index Distribution",
          "Body Mass Index Distribution",
          "Body Mass Index Distribution",
          "Body Mass Index Distribution",
          "Body Mass Index Distribution",
          "Body Mass Index Distribution",
          "Body Mass Index Distribution",
          "Body Mass Index Distribution",
          "Body Mass Index Distribution",
          "Body Mass Index Distribution",
          "Body Mass Index Distribution",
          "Body Mass Index Distribution",
          "Body Mass Index Distribution",
          "Body Mass Index Distribution",
          "Body Mass Index Distribution",
          "Body Mass Index Distribution",
          "Body Mass Index Distribution",
          "Body Mass Index Distribution",
          "Body Mass Index Distribution",
          "Body Mass Index Distribution",
          "Body Mass Index Distribution",
          "Body Mass Index Distribution",
          "Body Mass Index Distribution",
          "Body Mass Index Distribution",
          "Body Mass Index Distribution",
          "Body Mass Index Distribution",
          "Body Mass Index Distribution",
          "Body Mass Index Distribution",
          "Body Mass Index Distribution",
          "Body Mass Index Distribution",
          "Body Mass Index Distribution",
          "Body Mass Index Distribution",
          "Body Mass Index Distribution",
          "Body Mass Index Distribution",
          "Body Mass Index Distribution",
          "Body Mass Index Distribution",
          "Body Mass Index Distribution",
          "Body Mass Index Distribution",
          "Body Mass Index Distribution",
          "Body Mass Index Distribution",
          "Body Mass Index Distribution",
          "Body Mass Index Distribution",
          "Body Mass Index Distribution",
          "Body Mass Index Distribution",
          "Body Mass Index Distribution",
          "Body Mass Index Distribution",
          "Body Mass Index Distribution",
          "Body Mass Index Distribution",
          "Body Mass Index Distribution",
          "Body Mass Index Distribution",
          "Body Mass Index Distribution",
          "Body Mass Index Distribution",
          "Body Mass Index Distribution",
          "Body Mass Index Distribution",
          "Body Mass Index Distribution",
          "Body Mass Index Distribution",
          "Body Mass Index Distribution",
          "Body Mass Index Distribution",
          "Body Mass Index Distribution",
          "Body Mass Index Distribution",
          "Body Mass Index Distribution",
          "Body Mass Index Distribution",
          "Body Mass Index Distribution",
          "Body Mass Index Distribution",
          "Body Mass Index Distribution",
          "Body Mass Index Distribution",
          "Body Mass Index Distribution",
          "Body Mass Index Distribution",
          "Body Mass Index Distribution",
          "Body Mass Index Distribution",
          "Body Mass Index Distribution",
          "Body Mass Index Distribution",
          "Body Mass Index Distribution",
          "Body Mass Index Distribution",
          "Body Mass Index Distribution",
          "Body Mass Index Distribution",
          "Body Mass Index Distribution",
          "Body Mass Index Distribution",
          "Body Mass Index Distribution",
          "Body Mass Index Distribution",
          "Body Mass Index Distribution",
          "Body Mass Index Distribution",
          "Body Mass Index Distribution",
          "Body Mass Index Distribution",
          "Body Mass Index Distribution",
          "Body Mass Index Distribution",
          "Body Mass Index Distribution",
          "Body Mass Index Distribution",
          "Body Mass Index Distribution",
          "Body Mass Index Distribution",
          "Body Mass Index Distribution",
          "Body Mass Index Distribution",
          "Body Mass Index Distribution",
          "Body Mass Index Distribution",
          "Body Mass Index Distribution",
          "Body Mass Index Distribution",
          "Body Mass Index Distribution",
          "Body Mass Index Distribution",
          "Body Mass Index Distribution",
          "Body Mass Index Distribution",
          "Body Mass Index Distribution",
          "Body Mass Index Distribution",
          "Body Mass Index Distribution",
          "Body Mass Index Distribution",
          "Body Mass Index Distribution",
          "Body Mass Index Distribution",
          "Body Mass Index Distribution",
          "Body Mass Index Distribution",
          "Body Mass Index Distribution",
          "Body Mass Index Distribution",
          "Body Mass Index Distribution",
          "Body Mass Index Distribution",
          "Body Mass Index Distribution",
          "Body Mass Index Distribution",
          "Body Mass Index Distribution",
          "Body Mass Index Distribution",
          "Body Mass Index Distribution",
          "Body Mass Index Distribution",
          "Body Mass Index Distribution",
          "Body Mass Index Distribution",
          "Body Mass Index Distribution",
          "Body Mass Index Distribution",
          "Body Mass Index Distribution",
          "Body Mass Index Distribution",
          "Body Mass Index Distribution",
          "Body Mass Index Distribution",
          "Body Mass Index Distribution",
          "Body Mass Index Distribution",
          "Body Mass Index Distribution",
          "Body Mass Index Distribution",
          "Body Mass Index Distribution",
          "Body Mass Index Distribution",
          "Body Mass Index Distribution",
          "Body Mass Index Distribution",
          "Body Mass Index Distribution",
          "Body Mass Index Distribution",
          "Body Mass Index Distribution",
          "Body Mass Index Distribution",
          "Body Mass Index Distribution",
          "Body Mass Index Distribution",
          "Body Mass Index Distribution",
          "Body Mass Index Distribution",
          "Body Mass Index Distribution",
          "Body Mass Index Distribution",
          "Body Mass Index Distribution",
          "Body Mass Index Distribution",
          "Body Mass Index Distribution",
          "Body Mass Index Distribution",
          "Body Mass Index Distribution",
          "Body Mass Index Distribution",
          "Body Mass Index Distribution",
          "Body Mass Index Distribution",
          "Body Mass Index Distribution",
          "Body Mass Index Distribution",
          "Body Mass Index Distribution",
          "Body Mass Index Distribution",
          "Body Mass Index Distribution",
          "Body Mass Index Distribution",
          "Body Mass Index Distribution",
          "Body Mass Index Distribution",
          "Body Mass Index Distribution",
          "Body Mass Index Distribution",
          "Body Mass Index Distribution",
          "Body Mass Index Distribution",
          "Body Mass Index Distribution",
          "Body Mass Index Distribution",
          "Body Mass Index Distribution",
          "Body Mass Index Distribution",
          "Body Mass Index Distribution",
          "Body Mass Index Distribution",
          "Body Mass Index Distribution",
          "Body Mass Index Distribution",
          "Body Mass Index Distribution",
          "Body Mass Index Distribution",
          "Body Mass Index Distribution",
          "Body Mass Index Distribution",
          "Body Mass Index Distribution",
          "Body Mass Index Distribution",
          "Body Mass Index Distribution",
          "Body Mass Index Distribution",
          "Body Mass Index Distribution",
          "Body Mass Index Distribution",
          "Body Mass Index Distribution",
          "Body Mass Index Distribution",
          "Body Mass Index Distribution",
          "Body Mass Index Distribution",
          "Body Mass Index Distribution",
          "Body Mass Index Distribution",
          "Body Mass Index Distribution",
          "Body Mass Index Distribution",
          "Body Mass Index Distribution",
          "Body Mass Index Distribution",
          "Body Mass Index Distribution",
          "Body Mass Index Distribution",
          "Body Mass Index Distribution",
          "Body Mass Index Distribution",
          "Body Mass Index Distribution",
          "Body Mass Index Distribution",
          "Body Mass Index Distribution",
          "Body Mass Index Distribution",
          "Body Mass Index Distribution",
          "Body Mass Index Distribution",
          "Body Mass Index Distribution",
          "Body Mass Index Distribution",
          "Body Mass Index Distribution",
          "Body Mass Index Distribution",
          "Body Mass Index Distribution",
          "Body Mass Index Distribution",
          "Body Mass Index Distribution",
          "Body Mass Index Distribution",
          "Body Mass Index Distribution",
          "Body Mass Index Distribution",
          "Body Mass Index Distribution",
          "Body Mass Index Distribution",
          "Body Mass Index Distribution",
          "Body Mass Index Distribution",
          "Body Mass Index Distribution",
          "Body Mass Index Distribution",
          "Body Mass Index Distribution",
          "Body Mass Index Distribution",
          "Body Mass Index Distribution",
          "Body Mass Index Distribution",
          "Body Mass Index Distribution",
          "Body Mass Index Distribution",
          "Body Mass Index Distribution",
          "Body Mass Index Distribution",
          "Body Mass Index Distribution",
          "Body Mass Index Distribution",
          "Body Mass Index Distribution",
          "Body Mass Index Distribution",
          "Body Mass Index Distribution",
          "Body Mass Index Distribution",
          "Body Mass Index Distribution",
          "Body Mass Index Distribution",
          "Body Mass Index Distribution",
          "Body Mass Index Distribution",
          "Body Mass Index Distribution",
          "Body Mass Index Distribution",
          "Body Mass Index Distribution",
          "Body Mass Index Distribution",
          "Body Mass Index Distribution",
          "Body Mass Index Distribution",
          "Body Mass Index Distribution",
          "Body Mass Index Distribution",
          "Body Mass Index Distribution",
          "Body Mass Index Distribution",
          "Body Mass Index Distribution",
          "Body Mass Index Distribution",
          "Body Mass Index Distribution",
          "Body Mass Index Distribution",
          "Body Mass Index Distribution",
          "Body Mass Index Distribution",
          "Body Mass Index Distribution",
          "Body Mass Index Distribution",
          "Body Mass Index Distribution",
          "Body Mass Index Distribution",
          "Body Mass Index Distribution",
          "Body Mass Index Distribution",
          "Body Mass Index Distribution",
          "Body Mass Index Distribution",
          "Body Mass Index Distribution",
          "Body Mass Index Distribution",
          "Body Mass Index Distribution",
          "Body Mass Index Distribution",
          "Body Mass Index Distribution",
          "Body Mass Index Distribution",
          "Body Mass Index Distribution",
          "Body Mass Index Distribution",
          "Body Mass Index Distribution",
          "Body Mass Index Distribution",
          "Body Mass Index Distribution",
          "Body Mass Index Distribution",
          "Body Mass Index Distribution",
          "Body Mass Index Distribution",
          "Body Mass Index Distribution",
          "Body Mass Index Distribution",
          "Body Mass Index Distribution",
          "Body Mass Index Distribution",
          "Body Mass Index Distribution",
          "Body Mass Index Distribution",
          "Body Mass Index Distribution",
          "Body Mass Index Distribution",
          "Body Mass Index Distribution",
          "Body Mass Index Distribution",
          "Body Mass Index Distribution",
          "Body Mass Index Distribution",
          "Body Mass Index Distribution",
          "Body Mass Index Distribution",
          "Body Mass Index Distribution",
          "Body Mass Index Distribution",
          "Body Mass Index Distribution",
          "Body Mass Index Distribution",
          "Body Mass Index Distribution",
          "Body Mass Index Distribution",
          "Body Mass Index Distribution",
          "Body Mass Index Distribution",
          "Body Mass Index Distribution",
          "Body Mass Index Distribution",
          "Body Mass Index Distribution",
          "Body Mass Index Distribution",
          "Body Mass Index Distribution",
          "Body Mass Index Distribution",
          "Body Mass Index Distribution",
          "Body Mass Index Distribution",
          "Body Mass Index Distribution",
          "Body Mass Index Distribution",
          "Body Mass Index Distribution",
          "Body Mass Index Distribution",
          "Body Mass Index Distribution",
          "Body Mass Index Distribution",
          "Body Mass Index Distribution",
          "Body Mass Index Distribution",
          "Body Mass Index Distribution",
          "Body Mass Index Distribution",
          "Body Mass Index Distribution",
          "Body Mass Index Distribution",
          "Body Mass Index Distribution",
          "Body Mass Index Distribution",
          "Body Mass Index Distribution",
          "Body Mass Index Distribution",
          "Body Mass Index Distribution",
          "Body Mass Index Distribution",
          "Body Mass Index Distribution",
          "Body Mass Index Distribution",
          "Body Mass Index Distribution",
          "Body Mass Index Distribution",
          "Body Mass Index Distribution",
          "Body Mass Index Distribution",
          "Body Mass Index Distribution",
          "Body Mass Index Distribution",
          "Body Mass Index Distribution",
          "Body Mass Index Distribution",
          "Body Mass Index Distribution",
          "Body Mass Index Distribution",
          "Body Mass Index Distribution",
          "Body Mass Index Distribution",
          "Body Mass Index Distribution",
          "Body Mass Index Distribution",
          "Body Mass Index Distribution",
          "Body Mass Index Distribution",
          "Body Mass Index Distribution",
          "Body Mass Index Distribution",
          "Body Mass Index Distribution",
          "Body Mass Index Distribution",
          "Body Mass Index Distribution",
          "Body Mass Index Distribution",
          "Body Mass Index Distribution",
          "Body Mass Index Distribution",
          "Body Mass Index Distribution",
          "Body Mass Index Distribution",
          "Body Mass Index Distribution",
          "Body Mass Index Distribution",
          "Body Mass Index Distribution",
          "Body Mass Index Distribution",
          "Body Mass Index Distribution",
          "Body Mass Index Distribution",
          "Body Mass Index Distribution",
          "Body Mass Index Distribution",
          "Body Mass Index Distribution",
          "Body Mass Index Distribution",
          "Body Mass Index Distribution",
          "Body Mass Index Distribution",
          "Body Mass Index Distribution",
          "Body Mass Index Distribution",
          "Body Mass Index Distribution",
          "Body Mass Index Distribution",
          "Body Mass Index Distribution",
          "Body Mass Index Distribution",
          "Body Mass Index Distribution",
          "Body Mass Index Distribution",
          "Body Mass Index Distribution",
          "Body Mass Index Distribution",
          "Body Mass Index Distribution",
          "Body Mass Index Distribution",
          "Body Mass Index Distribution",
          "Body Mass Index Distribution",
          "Body Mass Index Distribution",
          "Body Mass Index Distribution",
          "Body Mass Index Distribution",
          "Body Mass Index Distribution",
          "Body Mass Index Distribution",
          "Body Mass Index Distribution",
          "Body Mass Index Distribution",
          "Body Mass Index Distribution",
          "Body Mass Index Distribution",
          "Body Mass Index Distribution",
          "Body Mass Index Distribution",
          "Body Mass Index Distribution",
          "Body Mass Index Distribution",
          "Body Mass Index Distribution",
          "Body Mass Index Distribution",
          "Body Mass Index Distribution",
          "Body Mass Index Distribution",
          "Body Mass Index Distribution",
          "Body Mass Index Distribution",
          "Body Mass Index Distribution",
          "Body Mass Index Distribution",
          "Body Mass Index Distribution",
          "Body Mass Index Distribution",
          "Body Mass Index Distribution",
          "Body Mass Index Distribution",
          "Body Mass Index Distribution",
          "Body Mass Index Distribution",
          "Body Mass Index Distribution",
          "Body Mass Index Distribution",
          "Body Mass Index Distribution",
          "Body Mass Index Distribution",
          "Body Mass Index Distribution",
          "Body Mass Index Distribution",
          "Body Mass Index Distribution",
          "Body Mass Index Distribution",
          "Body Mass Index Distribution",
          "Body Mass Index Distribution",
          "Body Mass Index Distribution",
          "Body Mass Index Distribution",
          "Body Mass Index Distribution",
          "Body Mass Index Distribution",
          "Body Mass Index Distribution",
          "Body Mass Index Distribution",
          "Body Mass Index Distribution",
          "Body Mass Index Distribution",
          "Body Mass Index Distribution",
          "Body Mass Index Distribution",
          "Body Mass Index Distribution",
          "Body Mass Index Distribution",
          "Body Mass Index Distribution",
          "Body Mass Index Distribution",
          "Body Mass Index Distribution",
          "Body Mass Index Distribution",
          "Body Mass Index Distribution",
          "Body Mass Index Distribution",
          "Body Mass Index Distribution",
          "Body Mass Index Distribution",
          "Body Mass Index Distribution",
          "Body Mass Index Distribution",
          "Body Mass Index Distribution",
          "Body Mass Index Distribution",
          "Body Mass Index Distribution",
          "Body Mass Index Distribution",
          "Body Mass Index Distribution",
          "Body Mass Index Distribution",
          "Body Mass Index Distribution",
          "Body Mass Index Distribution",
          "Body Mass Index Distribution",
          "Body Mass Index Distribution",
          "Body Mass Index Distribution",
          "Body Mass Index Distribution",
          "Body Mass Index Distribution",
          "Body Mass Index Distribution",
          "Body Mass Index Distribution",
          "Body Mass Index Distribution",
          "Body Mass Index Distribution",
          "Body Mass Index Distribution",
          "Body Mass Index Distribution",
          "Body Mass Index Distribution",
          "Body Mass Index Distribution",
          "Body Mass Index Distribution",
          "Body Mass Index Distribution",
          "Body Mass Index Distribution",
          "Body Mass Index Distribution",
          "Body Mass Index Distribution",
          "Body Mass Index Distribution",
          "Body Mass Index Distribution",
          "Body Mass Index Distribution",
          "Body Mass Index Distribution",
          "Body Mass Index Distribution",
          "Body Mass Index Distribution",
          "Body Mass Index Distribution",
          "Body Mass Index Distribution",
          "Body Mass Index Distribution",
          "Body Mass Index Distribution",
          "Body Mass Index Distribution",
          "Body Mass Index Distribution",
          "Body Mass Index Distribution",
          "Body Mass Index Distribution",
          "Body Mass Index Distribution",
          "Body Mass Index Distribution",
          "Body Mass Index Distribution",
          "Body Mass Index Distribution",
          "Body Mass Index Distribution",
          "Body Mass Index Distribution",
          "Body Mass Index Distribution",
          "Body Mass Index Distribution",
          "Body Mass Index Distribution",
          "Body Mass Index Distribution",
          "Body Mass Index Distribution",
          "Body Mass Index Distribution",
          "Body Mass Index Distribution",
          "Body Mass Index Distribution",
          "Body Mass Index Distribution",
          "Body Mass Index Distribution",
          "Body Mass Index Distribution",
          "Body Mass Index Distribution",
          "Body Mass Index Distribution",
          "Body Mass Index Distribution",
          "Body Mass Index Distribution",
          "Body Mass Index Distribution",
          "Body Mass Index Distribution",
          "Body Mass Index Distribution",
          "Body Mass Index Distribution",
          "Body Mass Index Distribution",
          "Body Mass Index Distribution",
          "Body Mass Index Distribution",
          "Body Mass Index Distribution",
          "Body Mass Index Distribution",
          "Body Mass Index Distribution",
          "Body Mass Index Distribution",
          "Body Mass Index Distribution",
          "Body Mass Index Distribution",
          "Body Mass Index Distribution",
          "Body Mass Index Distribution",
          "Body Mass Index Distribution",
          "Body Mass Index Distribution",
          "Body Mass Index Distribution",
          "Body Mass Index Distribution",
          "Body Mass Index Distribution",
          "Body Mass Index Distribution",
          "Body Mass Index Distribution",
          "Body Mass Index Distribution",
          "Body Mass Index Distribution",
          "Body Mass Index Distribution",
          "Body Mass Index Distribution",
          "Body Mass Index Distribution",
          "Body Mass Index Distribution",
          "Body Mass Index Distribution",
          "Body Mass Index Distribution",
          "Body Mass Index Distribution",
          "Body Mass Index Distribution",
          "Body Mass Index Distribution",
          "Body Mass Index Distribution",
          "Body Mass Index Distribution",
          "Body Mass Index Distribution",
          "Body Mass Index Distribution",
          "Body Mass Index Distribution",
          "Body Mass Index Distribution",
          "Body Mass Index Distribution",
          "Body Mass Index Distribution",
          "Body Mass Index Distribution",
          "Body Mass Index Distribution",
          "Body Mass Index Distribution",
          "Body Mass Index Distribution",
          "Body Mass Index Distribution",
          "Body Mass Index Distribution",
          "Body Mass Index Distribution",
          "Body Mass Index Distribution",
          "Body Mass Index Distribution",
          "Body Mass Index Distribution",
          "Body Mass Index Distribution",
          "Body Mass Index Distribution",
          "Body Mass Index Distribution",
          "Body Mass Index Distribution",
          "Body Mass Index Distribution",
          "Body Mass Index Distribution",
          "Body Mass Index Distribution",
          "Body Mass Index Distribution",
          "Body Mass Index Distribution",
          "Body Mass Index Distribution",
          "Body Mass Index Distribution",
          "Body Mass Index Distribution",
          "Body Mass Index Distribution",
          "Body Mass Index Distribution",
          "Body Mass Index Distribution",
          "Body Mass Index Distribution",
          "Body Mass Index Distribution",
          "Body Mass Index Distribution",
          "Body Mass Index Distribution",
          "Body Mass Index Distribution",
          "Body Mass Index Distribution",
          "Body Mass Index Distribution",
          "Body Mass Index Distribution",
          "Body Mass Index Distribution",
          "Body Mass Index Distribution",
          "Body Mass Index Distribution",
          "Body Mass Index Distribution",
          "Body Mass Index Distribution",
          "Body Mass Index Distribution",
          "Body Mass Index Distribution",
          "Body Mass Index Distribution",
          "Body Mass Index Distribution",
          "Body Mass Index Distribution",
          "Body Mass Index Distribution",
          "Body Mass Index Distribution",
          "Body Mass Index Distribution",
          "Body Mass Index Distribution",
          "Body Mass Index Distribution",
          "Body Mass Index Distribution",
          "Body Mass Index Distribution",
          "Body Mass Index Distribution",
          "Body Mass Index Distribution",
          "Body Mass Index Distribution",
          "Body Mass Index Distribution",
          "Body Mass Index Distribution",
          "Body Mass Index Distribution",
          "Body Mass Index Distribution",
          "Body Mass Index Distribution",
          "Body Mass Index Distribution",
          "Body Mass Index Distribution",
          "Body Mass Index Distribution",
          "Body Mass Index Distribution",
          "Body Mass Index Distribution",
          "Body Mass Index Distribution",
          "Body Mass Index Distribution",
          "Body Mass Index Distribution",
          "Body Mass Index Distribution",
          "Body Mass Index Distribution",
          "Body Mass Index Distribution",
          "Body Mass Index Distribution",
          "Body Mass Index Distribution",
          "Body Mass Index Distribution",
          "Body Mass Index Distribution",
          "Body Mass Index Distribution",
          "Body Mass Index Distribution",
          "Body Mass Index Distribution",
          "Body Mass Index Distribution",
          "Body Mass Index Distribution",
          "Body Mass Index Distribution",
          "Body Mass Index Distribution",
          "Body Mass Index Distribution",
          "Body Mass Index Distribution",
          "Body Mass Index Distribution",
          "Body Mass Index Distribution",
          "Body Mass Index Distribution",
          "Body Mass Index Distribution",
          "Body Mass Index Distribution",
          "Body Mass Index Distribution",
          "Body Mass Index Distribution",
          "Body Mass Index Distribution",
          "Body Mass Index Distribution",
          "Body Mass Index Distribution",
          "Body Mass Index Distribution",
          "Body Mass Index Distribution",
          "Body Mass Index Distribution",
          "Body Mass Index Distribution",
          "Body Mass Index Distribution",
          "Body Mass Index Distribution",
          "Body Mass Index Distribution",
          "Body Mass Index Distribution",
          "Body Mass Index Distribution",
          "Body Mass Index Distribution",
          "Body Mass Index Distribution",
          "Body Mass Index Distribution",
          "Body Mass Index Distribution",
          "Body Mass Index Distribution",
          "Body Mass Index Distribution",
          "Body Mass Index Distribution",
          "Body Mass Index Distribution",
          "Body Mass Index Distribution",
          "Body Mass Index Distribution",
          "Body Mass Index Distribution",
          "Body Mass Index Distribution",
          "Body Mass Index Distribution",
          "Body Mass Index Distribution",
          "Body Mass Index Distribution",
          "Body Mass Index Distribution",
          "Body Mass Index Distribution",
          "Body Mass Index Distribution",
          "Body Mass Index Distribution",
          "Body Mass Index Distribution",
          "Body Mass Index Distribution",
          "Body Mass Index Distribution",
          "Body Mass Index Distribution",
          "Body Mass Index Distribution",
          "Body Mass Index Distribution",
          "Body Mass Index Distribution",
          "Body Mass Index Distribution",
          "Body Mass Index Distribution",
          "Body Mass Index Distribution",
          "Body Mass Index Distribution",
          "Body Mass Index Distribution",
          "Body Mass Index Distribution",
          "Body Mass Index Distribution"
         ],
         "yaxis": "y2"
        }
       ],
       "layout": {
        "barmode": "overlay",
        "hovermode": "closest",
        "legend": {
         "traceorder": "reversed"
        },
        "template": {
         "data": {
          "bar": [
           {
            "error_x": {
             "color": "#2a3f5f"
            },
            "error_y": {
             "color": "#2a3f5f"
            },
            "marker": {
             "line": {
              "color": "#E5ECF6",
              "width": 0.5
             },
             "pattern": {
              "fillmode": "overlay",
              "size": 10,
              "solidity": 0.2
             }
            },
            "type": "bar"
           }
          ],
          "barpolar": [
           {
            "marker": {
             "line": {
              "color": "#E5ECF6",
              "width": 0.5
             },
             "pattern": {
              "fillmode": "overlay",
              "size": 10,
              "solidity": 0.2
             }
            },
            "type": "barpolar"
           }
          ],
          "carpet": [
           {
            "aaxis": {
             "endlinecolor": "#2a3f5f",
             "gridcolor": "white",
             "linecolor": "white",
             "minorgridcolor": "white",
             "startlinecolor": "#2a3f5f"
            },
            "baxis": {
             "endlinecolor": "#2a3f5f",
             "gridcolor": "white",
             "linecolor": "white",
             "minorgridcolor": "white",
             "startlinecolor": "#2a3f5f"
            },
            "type": "carpet"
           }
          ],
          "choropleth": [
           {
            "colorbar": {
             "outlinewidth": 0,
             "ticks": ""
            },
            "type": "choropleth"
           }
          ],
          "contour": [
           {
            "colorbar": {
             "outlinewidth": 0,
             "ticks": ""
            },
            "colorscale": [
             [
              0,
              "#0d0887"
             ],
             [
              0.1111111111111111,
              "#46039f"
             ],
             [
              0.2222222222222222,
              "#7201a8"
             ],
             [
              0.3333333333333333,
              "#9c179e"
             ],
             [
              0.4444444444444444,
              "#bd3786"
             ],
             [
              0.5555555555555556,
              "#d8576b"
             ],
             [
              0.6666666666666666,
              "#ed7953"
             ],
             [
              0.7777777777777778,
              "#fb9f3a"
             ],
             [
              0.8888888888888888,
              "#fdca26"
             ],
             [
              1,
              "#f0f921"
             ]
            ],
            "type": "contour"
           }
          ],
          "contourcarpet": [
           {
            "colorbar": {
             "outlinewidth": 0,
             "ticks": ""
            },
            "type": "contourcarpet"
           }
          ],
          "heatmap": [
           {
            "colorbar": {
             "outlinewidth": 0,
             "ticks": ""
            },
            "colorscale": [
             [
              0,
              "#0d0887"
             ],
             [
              0.1111111111111111,
              "#46039f"
             ],
             [
              0.2222222222222222,
              "#7201a8"
             ],
             [
              0.3333333333333333,
              "#9c179e"
             ],
             [
              0.4444444444444444,
              "#bd3786"
             ],
             [
              0.5555555555555556,
              "#d8576b"
             ],
             [
              0.6666666666666666,
              "#ed7953"
             ],
             [
              0.7777777777777778,
              "#fb9f3a"
             ],
             [
              0.8888888888888888,
              "#fdca26"
             ],
             [
              1,
              "#f0f921"
             ]
            ],
            "type": "heatmap"
           }
          ],
          "histogram": [
           {
            "marker": {
             "pattern": {
              "fillmode": "overlay",
              "size": 10,
              "solidity": 0.2
             }
            },
            "type": "histogram"
           }
          ],
          "histogram2d": [
           {
            "colorbar": {
             "outlinewidth": 0,
             "ticks": ""
            },
            "colorscale": [
             [
              0,
              "#0d0887"
             ],
             [
              0.1111111111111111,
              "#46039f"
             ],
             [
              0.2222222222222222,
              "#7201a8"
             ],
             [
              0.3333333333333333,
              "#9c179e"
             ],
             [
              0.4444444444444444,
              "#bd3786"
             ],
             [
              0.5555555555555556,
              "#d8576b"
             ],
             [
              0.6666666666666666,
              "#ed7953"
             ],
             [
              0.7777777777777778,
              "#fb9f3a"
             ],
             [
              0.8888888888888888,
              "#fdca26"
             ],
             [
              1,
              "#f0f921"
             ]
            ],
            "type": "histogram2d"
           }
          ],
          "histogram2dcontour": [
           {
            "colorbar": {
             "outlinewidth": 0,
             "ticks": ""
            },
            "colorscale": [
             [
              0,
              "#0d0887"
             ],
             [
              0.1111111111111111,
              "#46039f"
             ],
             [
              0.2222222222222222,
              "#7201a8"
             ],
             [
              0.3333333333333333,
              "#9c179e"
             ],
             [
              0.4444444444444444,
              "#bd3786"
             ],
             [
              0.5555555555555556,
              "#d8576b"
             ],
             [
              0.6666666666666666,
              "#ed7953"
             ],
             [
              0.7777777777777778,
              "#fb9f3a"
             ],
             [
              0.8888888888888888,
              "#fdca26"
             ],
             [
              1,
              "#f0f921"
             ]
            ],
            "type": "histogram2dcontour"
           }
          ],
          "mesh3d": [
           {
            "colorbar": {
             "outlinewidth": 0,
             "ticks": ""
            },
            "type": "mesh3d"
           }
          ],
          "parcoords": [
           {
            "line": {
             "colorbar": {
              "outlinewidth": 0,
              "ticks": ""
             }
            },
            "type": "parcoords"
           }
          ],
          "pie": [
           {
            "automargin": true,
            "type": "pie"
           }
          ],
          "scatter": [
           {
            "fillpattern": {
             "fillmode": "overlay",
             "size": 10,
             "solidity": 0.2
            },
            "type": "scatter"
           }
          ],
          "scatter3d": [
           {
            "line": {
             "colorbar": {
              "outlinewidth": 0,
              "ticks": ""
             }
            },
            "marker": {
             "colorbar": {
              "outlinewidth": 0,
              "ticks": ""
             }
            },
            "type": "scatter3d"
           }
          ],
          "scattercarpet": [
           {
            "marker": {
             "colorbar": {
              "outlinewidth": 0,
              "ticks": ""
             }
            },
            "type": "scattercarpet"
           }
          ],
          "scattergeo": [
           {
            "marker": {
             "colorbar": {
              "outlinewidth": 0,
              "ticks": ""
             }
            },
            "type": "scattergeo"
           }
          ],
          "scattergl": [
           {
            "marker": {
             "colorbar": {
              "outlinewidth": 0,
              "ticks": ""
             }
            },
            "type": "scattergl"
           }
          ],
          "scattermap": [
           {
            "marker": {
             "colorbar": {
              "outlinewidth": 0,
              "ticks": ""
             }
            },
            "type": "scattermap"
           }
          ],
          "scattermapbox": [
           {
            "marker": {
             "colorbar": {
              "outlinewidth": 0,
              "ticks": ""
             }
            },
            "type": "scattermapbox"
           }
          ],
          "scatterpolar": [
           {
            "marker": {
             "colorbar": {
              "outlinewidth": 0,
              "ticks": ""
             }
            },
            "type": "scatterpolar"
           }
          ],
          "scatterpolargl": [
           {
            "marker": {
             "colorbar": {
              "outlinewidth": 0,
              "ticks": ""
             }
            },
            "type": "scatterpolargl"
           }
          ],
          "scatterternary": [
           {
            "marker": {
             "colorbar": {
              "outlinewidth": 0,
              "ticks": ""
             }
            },
            "type": "scatterternary"
           }
          ],
          "surface": [
           {
            "colorbar": {
             "outlinewidth": 0,
             "ticks": ""
            },
            "colorscale": [
             [
              0,
              "#0d0887"
             ],
             [
              0.1111111111111111,
              "#46039f"
             ],
             [
              0.2222222222222222,
              "#7201a8"
             ],
             [
              0.3333333333333333,
              "#9c179e"
             ],
             [
              0.4444444444444444,
              "#bd3786"
             ],
             [
              0.5555555555555556,
              "#d8576b"
             ],
             [
              0.6666666666666666,
              "#ed7953"
             ],
             [
              0.7777777777777778,
              "#fb9f3a"
             ],
             [
              0.8888888888888888,
              "#fdca26"
             ],
             [
              1,
              "#f0f921"
             ]
            ],
            "type": "surface"
           }
          ],
          "table": [
           {
            "cells": {
             "fill": {
              "color": "#EBF0F8"
             },
             "line": {
              "color": "white"
             }
            },
            "header": {
             "fill": {
              "color": "#C8D4E3"
             },
             "line": {
              "color": "white"
             }
            },
            "type": "table"
           }
          ]
         },
         "layout": {
          "annotationdefaults": {
           "arrowcolor": "#2a3f5f",
           "arrowhead": 0,
           "arrowwidth": 1
          },
          "autotypenumbers": "strict",
          "coloraxis": {
           "colorbar": {
            "outlinewidth": 0,
            "ticks": ""
           }
          },
          "colorscale": {
           "diverging": [
            [
             0,
             "#8e0152"
            ],
            [
             0.1,
             "#c51b7d"
            ],
            [
             0.2,
             "#de77ae"
            ],
            [
             0.3,
             "#f1b6da"
            ],
            [
             0.4,
             "#fde0ef"
            ],
            [
             0.5,
             "#f7f7f7"
            ],
            [
             0.6,
             "#e6f5d0"
            ],
            [
             0.7,
             "#b8e186"
            ],
            [
             0.8,
             "#7fbc41"
            ],
            [
             0.9,
             "#4d9221"
            ],
            [
             1,
             "#276419"
            ]
           ],
           "sequential": [
            [
             0,
             "#0d0887"
            ],
            [
             0.1111111111111111,
             "#46039f"
            ],
            [
             0.2222222222222222,
             "#7201a8"
            ],
            [
             0.3333333333333333,
             "#9c179e"
            ],
            [
             0.4444444444444444,
             "#bd3786"
            ],
            [
             0.5555555555555556,
             "#d8576b"
            ],
            [
             0.6666666666666666,
             "#ed7953"
            ],
            [
             0.7777777777777778,
             "#fb9f3a"
            ],
            [
             0.8888888888888888,
             "#fdca26"
            ],
            [
             1,
             "#f0f921"
            ]
           ],
           "sequentialminus": [
            [
             0,
             "#0d0887"
            ],
            [
             0.1111111111111111,
             "#46039f"
            ],
            [
             0.2222222222222222,
             "#7201a8"
            ],
            [
             0.3333333333333333,
             "#9c179e"
            ],
            [
             0.4444444444444444,
             "#bd3786"
            ],
            [
             0.5555555555555556,
             "#d8576b"
            ],
            [
             0.6666666666666666,
             "#ed7953"
            ],
            [
             0.7777777777777778,
             "#fb9f3a"
            ],
            [
             0.8888888888888888,
             "#fdca26"
            ],
            [
             1,
             "#f0f921"
            ]
           ]
          },
          "colorway": [
           "#636efa",
           "#EF553B",
           "#00cc96",
           "#ab63fa",
           "#FFA15A",
           "#19d3f3",
           "#FF6692",
           "#B6E880",
           "#FF97FF",
           "#FECB52"
          ],
          "font": {
           "color": "#2a3f5f"
          },
          "geo": {
           "bgcolor": "white",
           "lakecolor": "white",
           "landcolor": "#E5ECF6",
           "showlakes": true,
           "showland": true,
           "subunitcolor": "white"
          },
          "hoverlabel": {
           "align": "left"
          },
          "hovermode": "closest",
          "mapbox": {
           "style": "light"
          },
          "paper_bgcolor": "white",
          "plot_bgcolor": "#E5ECF6",
          "polar": {
           "angularaxis": {
            "gridcolor": "white",
            "linecolor": "white",
            "ticks": ""
           },
           "bgcolor": "#E5ECF6",
           "radialaxis": {
            "gridcolor": "white",
            "linecolor": "white",
            "ticks": ""
           }
          },
          "scene": {
           "xaxis": {
            "backgroundcolor": "#E5ECF6",
            "gridcolor": "white",
            "gridwidth": 2,
            "linecolor": "white",
            "showbackground": true,
            "ticks": "",
            "zerolinecolor": "white"
           },
           "yaxis": {
            "backgroundcolor": "#E5ECF6",
            "gridcolor": "white",
            "gridwidth": 2,
            "linecolor": "white",
            "showbackground": true,
            "ticks": "",
            "zerolinecolor": "white"
           },
           "zaxis": {
            "backgroundcolor": "#E5ECF6",
            "gridcolor": "white",
            "gridwidth": 2,
            "linecolor": "white",
            "showbackground": true,
            "ticks": "",
            "zerolinecolor": "white"
           }
          },
          "shapedefaults": {
           "line": {
            "color": "#2a3f5f"
           }
          },
          "ternary": {
           "aaxis": {
            "gridcolor": "white",
            "linecolor": "white",
            "ticks": ""
           },
           "baxis": {
            "gridcolor": "white",
            "linecolor": "white",
            "ticks": ""
           },
           "bgcolor": "#E5ECF6",
           "caxis": {
            "gridcolor": "white",
            "linecolor": "white",
            "ticks": ""
           }
          },
          "title": {
           "x": 0.05
          },
          "xaxis": {
           "automargin": true,
           "gridcolor": "white",
           "linecolor": "white",
           "ticks": "",
           "title": {
            "standoff": 15
           },
           "zerolinecolor": "white",
           "zerolinewidth": 2
          },
          "yaxis": {
           "automargin": true,
           "gridcolor": "white",
           "linecolor": "white",
           "ticks": "",
           "title": {
            "standoff": 15
           },
           "zerolinecolor": "white",
           "zerolinewidth": 2
          }
         }
        },
        "title": {
         "text": "Normal Distribution"
        },
        "xaxis": {
         "anchor": "y2",
         "domain": [
          0,
          1
         ],
         "zeroline": false
        },
        "yaxis": {
         "anchor": "free",
         "domain": [
          0.35,
          1
         ],
         "position": 0
        },
        "yaxis2": {
         "anchor": "x",
         "domain": [
          0,
          0.25
         ],
         "dtick": 1,
         "showticklabels": false
        }
       }
      },
      "text/html": [
       "<div>            <script src=\"https://cdnjs.cloudflare.com/ajax/libs/mathjax/2.7.5/MathJax.js?config=TeX-AMS-MML_SVG\"></script><script type=\"text/javascript\">if (window.MathJax && window.MathJax.Hub && window.MathJax.Hub.Config) {window.MathJax.Hub.Config({SVG: {font: \"STIX-Web\"}});}</script>                <script type=\"text/javascript\">window.PlotlyConfig = {MathJaxConfig: 'local'};</script>\n",
       "        <script charset=\"utf-8\" src=\"https://cdn.plot.ly/plotly-3.1.1.min.js\" integrity=\"sha256-HUEFyfiTnZJxCxur99FjbKYTvKSzwDaD3/x5TqHpFu4=\" crossorigin=\"anonymous\"></script>                <div id=\"cba12929-b610-4157-ad2f-fc4e951e96d2\" class=\"plotly-graph-div\" style=\"height:525px; width:100%;\"></div>            <script type=\"text/javascript\">                window.PLOTLYENV=window.PLOTLYENV || {};                                if (document.getElementById(\"cba12929-b610-4157-ad2f-fc4e951e96d2\")) {                    Plotly.newPlot(                        \"cba12929-b610-4157-ad2f-fc4e951e96d2\",                        [{\"autobinx\":false,\"histnorm\":\"probability density\",\"legendgroup\":\"Body Mass Index Distribution\",\"marker\":{\"color\":\"#FA5858\"},\"name\":\"Body Mass Index Distribution\",\"opacity\":0.7,\"x\":[27.9,33.77,33.0,22.705,28.88,25.74,33.44,27.74,29.83,25.84,26.22,26.29,34.4,39.82,42.13,24.6,30.78,23.845,40.3,35.3,36.005,32.4,34.1,31.92,28.025,27.72,23.085,32.775,17.385,36.3,35.6,26.315,28.6,28.31,36.4,20.425,32.965,20.8,36.67,39.9,26.6,36.63,21.78,30.8,37.05,37.3,38.665,34.77,24.53,35.2,35.625,33.63,28.0,34.43,28.69,36.955,31.825,31.68,22.88,37.335,27.36,33.66,24.7,25.935,22.42,28.9,39.1,26.315,36.19,23.98,24.75,28.5,28.1,32.01,27.4,34.01,29.59,35.53,39.805,32.965,26.885,38.285,37.62,41.23,34.8,22.895,31.16,27.2,27.74,26.98,39.49,24.795,29.83,34.77,31.3,37.62,30.8,38.28,19.95,19.3,31.6,25.46,30.115,29.92,27.5,28.025,28.4,30.875,27.94,35.09,33.63,29.7,30.8,35.72,32.205,28.595,49.06,27.94,27.17,23.37,37.1,23.75,28.975,31.35,33.915,28.785,28.3,37.4,17.765,34.7,26.505,22.04,35.9,25.555,28.785,28.05,34.1,25.175,31.9,36.0,22.42,32.49,25.3,29.735,28.69,38.83,30.495,37.73,37.43,28.4,24.13,29.7,37.145,23.37,25.46,39.52,24.42,25.175,35.53,27.83,26.6,36.85,39.6,29.8,29.64,28.215,37.0,33.155,31.825,18.905,41.47,30.3,15.96,34.8,33.345,37.7,27.835,29.2,28.9,33.155,28.595,38.28,19.95,26.41,30.69,41.895,29.92,30.9,32.2,32.11,31.57,26.2,25.74,26.6,34.43,30.59,32.8,28.6,18.05,39.33,32.11,32.23,24.035,36.08,22.3,28.88,26.4,27.74,31.8,41.23,33.0,30.875,28.5,26.73,30.9,37.1,26.6,23.1,29.92,23.21,33.7,33.25,30.8,34.8,24.64,33.88,38.06,41.91,31.635,25.46,36.195,27.83,17.8,27.5,24.51,22.22,26.73,38.39,29.07,38.06,36.67,22.135,26.8,35.3,27.74,30.02,38.06,35.86,20.9,28.975,17.29,32.2,34.21,30.3,31.825,25.365,33.63,40.15,24.415,31.92,25.2,26.84,24.32,36.955,38.06,42.35,19.8,32.395,30.2,25.84,29.37,34.2,37.05,27.455,27.55,26.6,20.615,24.3,31.79,21.56,28.12,40.565,27.645,32.395,31.2,26.62,48.07,26.22,36.765,26.4,33.4,29.64,45.54,28.82,26.8,22.99,27.7,25.41,34.39,28.88,27.55,22.61,37.51,33.0,38.0,33.345,27.5,33.33,34.865,33.06,26.6,24.7,35.97,35.86,31.4,33.25,32.205,32.775,27.645,37.335,25.27,29.64,30.8,40.945,27.2,34.105,23.21,36.48,33.8,36.7,36.385,27.36,31.16,28.785,35.72,34.5,25.74,27.55,32.3,27.72,27.6,30.02,27.55,36.765,41.47,29.26,35.75,33.345,29.92,27.835,23.18,25.6,27.7,35.245,38.28,27.6,43.89,29.83,41.91,20.79,32.3,30.5,21.7,26.4,21.89,30.78,32.3,24.985,32.015,30.4,21.09,22.23,33.155,32.9,33.33,28.31,24.89,40.15,30.115,31.46,17.955,30.685,33.0,43.34,22.135,34.4,39.05,25.365,22.61,30.21,35.625,37.43,31.445,31.35,32.3,19.855,34.4,31.02,25.6,38.17,20.6,47.52,32.965,32.3,20.4,38.38,24.31,23.6,21.12,30.03,17.48,20.235,17.195,23.9,35.15,35.64,34.1,22.6,39.16,26.98,33.88,35.86,32.775,30.59,30.2,24.31,27.265,29.165,16.815,30.4,33.1,20.235,26.9,30.5,28.595,33.11,31.73,28.9,46.75,29.45,32.68,33.5,43.01,36.52,26.695,33.1,29.64,25.65,29.6,38.6,29.6,24.13,23.4,29.735,46.53,37.4,30.14,30.495,39.6,33.0,36.63,30.0,38.095,25.935,25.175,28.38,28.7,33.82,24.32,24.09,32.67,30.115,29.8,33.345,25.1,28.31,28.5,35.625,36.85,32.56,41.325,37.51,31.35,39.5,34.3,31.065,21.47,28.7,38.06,31.16,32.9,25.08,25.08,43.4,25.7,27.93,23.6,28.7,23.98,39.2,34.4,26.03,23.21,30.25,28.93,30.875,31.35,23.75,25.27,28.7,32.11,33.66,22.42,30.4,28.3,35.7,35.31,30.495,31.0,30.875,27.36,44.22,33.915,37.73,26.07,33.88,30.59,25.8,39.425,25.46,42.13,31.73,29.7,36.19,40.48,28.025,38.9,30.2,28.05,31.35,38.0,31.79,36.3,47.41,30.21,25.84,35.435,46.7,28.595,46.2,30.8,28.93,21.4,31.73,41.325,23.8,33.44,34.21,34.105,35.53,19.95,32.68,30.5,44.77,32.12,30.495,40.565,30.59,31.9,40.565,29.1,37.29,43.12,36.86,34.295,27.17,26.84,38.095,30.2,23.465,25.46,30.59,45.43,23.65,20.7,28.27,20.235,30.21,35.91,30.69,29.0,19.57,31.13,21.85,40.26,33.725,29.48,33.25,32.6,37.525,39.16,31.635,25.3,39.05,28.31,34.1,25.175,23.655,26.98,37.8,29.37,34.8,33.155,19.0,33.0,36.63,28.595,25.6,33.11,37.1,31.4,34.1,21.3,33.535,28.785,26.03,28.88,42.46,38.0,38.95,36.1,29.3,35.53,22.705,39.7,38.19,24.51,38.095,26.41,33.66,42.4,28.31,33.915,34.96,35.31,30.78,26.22,23.37,28.5,32.965,42.68,39.6,31.13,36.3,35.2,25.3,42.4,33.155,35.91,28.785,46.53,23.98,31.54,33.66,22.99,38.06,28.7,32.775,32.015,29.81,31.57,31.16,29.7,31.02,43.89,21.375,40.81,31.35,36.1,23.18,17.4,20.3,35.3,24.32,18.5,26.41,26.125,41.69,24.1,31.13,27.36,36.2,32.395,23.655,34.8,40.185,32.3,35.75,33.725,39.27,34.87,44.745,41.47,26.41,29.545,32.9,38.06,28.69,30.495,27.74,35.2,23.54,30.685,40.47,22.6,28.9,22.61,24.32,36.67,33.44,40.66,36.6,37.4,35.4,27.075,39.05,28.405,21.755,40.28,36.08,24.42,21.4,30.1,27.265,32.1,34.77,38.39,23.7,31.73,35.5,24.035,29.15,34.105,26.62,26.41,30.115,27.0,21.755,36.0,30.875,26.4,28.975,37.905,22.77,33.63,27.645,22.8,27.83,37.43,38.17,34.58,35.2,27.1,26.03,25.175,31.825,32.3,29.0,39.7,19.475,36.1,26.7,36.48,28.88,34.2,33.33,32.3,39.805,34.32,28.88,24.4,41.14,35.97,27.6,29.26,27.7,36.955,36.86,22.515,29.92,41.8,27.6,23.18,20.9,31.92,28.5,44.22,22.895,33.1,24.795,26.18,35.97,22.3,42.24,26.51,35.815,41.42,36.575,30.14,25.84,30.8,42.94,21.01,22.515,34.43,31.46,24.225,37.1,26.125,35.53,33.7,17.67,31.13,29.81,24.32,31.825,31.79,28.025,30.78,21.85,33.1,25.84,23.845,34.39,33.82,35.97,31.5,28.31,23.465,31.35,31.1,24.7,32.78,29.81,30.495,32.45,34.2,50.38,24.1,32.775,30.78,32.3,35.53,23.75,23.845,29.6,33.11,24.13,32.23,28.1,47.6,28.0,33.535,19.855,25.4,29.9,37.29,43.7,23.655,24.3,36.2,29.48,24.86,30.1,21.85,28.12,27.1,33.44,28.8,29.5,34.8,27.36,22.135,37.05,26.695,28.93,28.975,30.02,39.5,33.63,26.885,29.04,24.035,38.94,32.11,44.0,20.045,25.555,40.26,22.515,22.515,40.92,27.265,36.85,35.1,29.355,32.585,32.34,39.8,24.6,28.31,31.73,26.695,27.5,24.605,33.99,26.885,22.895,28.2,34.21,25.0,33.2,31.0,35.815,23.2,32.11,23.4,20.1,39.16,34.21,46.53,32.5,25.8,35.3,37.18,27.5,29.735,24.225,26.18,29.48,23.21,46.09,40.185,22.61,39.93,35.8,35.8,34.2,31.255,29.7,18.335,42.9,28.405,30.2,27.835,39.49,30.8,26.79,34.96,36.67,39.615,25.9,35.2,24.795,36.765,27.1,24.795,25.365,25.745,34.32,28.16,23.56,20.235,40.5,35.42,22.895,40.15,29.15,39.995,29.92,25.46,21.375,25.9,30.59,30.115,25.8,30.115,27.645,34.675,20.52,19.8,27.835,31.6,28.27,20.045,23.275,34.1,36.85,36.29,26.885,22.99,32.7,25.8,29.6,19.19,31.73,29.26,28.215,24.985,27.74,22.8,20.13,33.33,32.3,27.6,25.46,24.605,34.2,35.815,32.68,37.0,31.02,36.08,23.32,45.32,34.6,26.03,18.715,31.6,17.29,23.655,35.2,27.93,21.565,38.38,23.0,37.07,30.495,28.88,27.265,28.025,23.085,30.685,25.8,35.245,24.7,25.08,52.58,22.515,30.9,36.955,26.41,29.83,29.8,21.47,27.645,28.9,31.79,39.49,33.82,32.01,27.94,41.14,28.595,25.6,25.3,37.29,42.655,21.66,31.9,37.07,31.445,31.255,28.88,18.335,29.59,32.0,26.03,31.68,33.66,21.78,27.835,19.95,31.5,30.495,18.3,28.975,31.54,47.74,22.1,36.19,29.83,32.7,30.4,33.7,31.35,34.96,33.77,30.875,33.99,19.095,28.6,38.94,36.08,29.8,31.24,29.925,26.22,30.0,20.35,32.3,38.39,25.85,26.315,24.51,32.67,29.64,33.33,35.75,19.95,31.4,38.17,36.86,32.395,42.75,25.08,29.9,35.86,32.8,18.6,23.87,45.9,40.28,18.335,33.82,28.12,25.0,22.23,30.25,32.49,37.07,32.6,24.86,32.34,32.3,32.775,32.8,31.92,21.5,34.1,30.305,36.48,32.56,35.815,27.93,22.135,44.88,23.18,30.59,41.1,34.58,42.13,38.83,28.215,28.31,26.125,40.37,24.6,35.2,34.105,27.36,26.7,41.91,29.26,32.11,27.1,24.13,27.4,34.865,29.81,41.325,29.925,30.3,27.36,28.49,23.56,35.625,32.68,25.27,28.0,32.775,21.755,32.395,36.575,21.755,27.93,30.02,33.55,29.355,25.8,24.32,40.375,32.11,32.3,27.28,17.86,34.8,33.4,25.555,37.1,30.875,34.1,21.47,33.3,31.255,39.14,25.08,37.29,34.6,30.21,21.945,24.97,25.3,24.42,23.94,39.82,16.815,37.18,34.43,30.305,34.485,21.8,24.605,23.3,27.83,31.065,21.66,28.215,22.705,42.13,41.8,36.96,21.28,33.11,33.33,24.3,25.7,29.4,39.82,33.63,29.83,19.8,27.3,29.3,27.72,37.9,36.385,27.645,37.715,23.18,20.52,37.1,28.05,29.9,33.345,23.76,30.5,31.065,33.3,27.5,33.915,34.485,25.52,27.61,27.06,23.7,30.4,29.735,29.925,26.79,33.33,27.645,21.66,30.03,36.3,24.32,17.29,25.9,39.4,34.32,19.95,34.9,23.21,25.745,25.175,22.0,26.125,26.51,27.455,25.745,30.36,30.875,20.8,27.8,24.605,27.72,21.85,28.12,30.2,32.2,26.315,26.695,42.9,34.7,23.655,28.31,20.6,53.13,39.71,26.315,31.065,26.695,38.83,40.37,25.935,33.535,32.87,30.03,24.225,38.6,25.74,33.4,44.7,30.97,31.92,36.85,25.8,29.07],\"xaxis\":\"x\",\"xbins\":{\"end\":53.13,\"size\":1.0,\"start\":15.96},\"yaxis\":\"y\",\"type\":\"histogram\"},{\"legendgroup\":\"Body Mass Index Distribution\",\"marker\":{\"color\":\"#FA5858\"},\"mode\":\"lines\",\"name\":\"Body Mass Index Distribution\",\"showlegend\":false,\"x\":[15.96,16.03434,16.10868,16.183020000000003,16.257360000000002,16.3317,16.40604,16.48038,16.55472,16.629060000000003,16.703400000000002,16.77774,16.85208,16.92642,17.00076,17.075100000000003,17.149440000000002,17.22378,17.29812,17.37246,17.4468,17.521140000000003,17.595480000000002,17.66982,17.74416,17.8185,17.89284,17.96718,18.041520000000002,18.11586,18.1902,18.26454,18.33888,18.413220000000003,18.487560000000002,18.5619,18.63624,18.71058,18.78492,18.859260000000003,18.933600000000002,19.00794,19.08228,19.15662,19.23096,19.305300000000003,19.379640000000002,19.45398,19.52832,19.60266,19.677,19.75134,19.825680000000002,19.90002,19.97436,20.0487,20.12304,20.197380000000003,20.271720000000002,20.34606,20.4204,20.49474,20.56908,20.64342,20.717760000000002,20.7921,20.86644,20.940780000000004,21.01512,21.089460000000003,21.163800000000002,21.23814,21.31248,21.38682,21.46116,21.5355,21.609840000000002,21.68418,21.75852,21.83286,21.907200000000003,21.981540000000003,22.055880000000002,22.13022,22.20456,22.2789,22.35324,22.42758,22.501920000000002,22.57626,22.6506,22.72494,22.799280000000003,22.873620000000003,22.947960000000002,23.0223,23.09664,23.17098,23.24532,23.319660000000002,23.394000000000002,23.46834,23.54268,23.61702,23.691360000000003,23.765700000000002,23.840040000000002,23.91438,23.98872,24.06306,24.1374,24.21174,24.28608,24.36042,24.43476,24.509100000000004,24.583440000000003,24.657780000000002,24.732120000000002,24.80646,24.8808,24.95514,25.02948,25.10382,25.17816,25.2525,25.32684,25.401180000000004,25.475520000000003,25.549860000000002,25.624200000000002,25.69854,25.77288,25.84722,25.921560000000003,25.9959,26.07024,26.14458,26.21892,26.293260000000004,26.367600000000003,26.441940000000002,26.516280000000002,26.59062,26.66496,26.7393,26.81364,26.887980000000002,26.96232,27.03666,27.111,27.185340000000004,27.259680000000003,27.334020000000002,27.408360000000002,27.4827,27.55704,27.63138,27.70572,27.780060000000002,27.854400000000002,27.92874,28.00308,28.07742,28.151760000000003,28.226100000000002,28.300440000000002,28.37478,28.44912,28.52346,28.5978,28.672140000000002,28.746480000000002,28.82082,28.89516,28.9695,29.043840000000003,29.118180000000002,29.192520000000002,29.26686,29.3412,29.41554,29.48988,29.564220000000002,29.638560000000002,29.712900000000005,29.78724,29.86158,29.935920000000003,30.010260000000002,30.084600000000002,30.15894,30.23328,30.30762,30.38196,30.456300000000002,30.530640000000002,30.604980000000005,30.679320000000004,30.75366,30.828000000000003,30.902340000000002,30.97668,31.05102,31.12536,31.1997,31.27404,31.348380000000002,31.42272,31.497060000000005,31.571400000000004,31.645740000000004,31.720080000000003,31.794420000000002,31.86876,31.9431,32.01744,32.09178,32.16612000000001,32.24046,32.314800000000005,32.38914,32.463480000000004,32.537819999999996,32.61216,32.6865,32.76084,32.83518,32.90952,32.98386,33.0582,33.132540000000006,33.20688,33.281220000000005,33.35556,33.4299,33.50424,33.57858,33.65292,33.72726,33.80160000000001,33.87594,33.95028000000001,34.02462,34.098960000000005,34.1733,34.247640000000004,34.321979999999996,34.39632,34.47066,34.545,34.61934,34.69368,34.76802,34.84236,34.916700000000006,34.99104,35.065380000000005,35.13972,35.21406,35.2884,35.36274,35.43708,35.51142,35.58576000000001,35.6601,35.734440000000006,35.80878,35.883120000000005,35.95746,36.031800000000004,36.106139999999996,36.18048,36.25482,36.32916,36.4035,36.47784,36.55218,36.62652,36.700860000000006,36.7752,36.849540000000005,36.92388,36.99822,37.07256,37.1469,37.22124,37.29558,37.36992000000001,37.44426,37.518600000000006,37.59294,37.667280000000005,37.741620000000005,37.815960000000004,37.890299999999996,37.96464,38.038979999999995,38.11332,38.18766,38.262,38.33634,38.41068,38.485020000000006,38.55936,38.633700000000005,38.70804,38.78238,38.85672,38.93106,39.0054,39.07974,39.15408000000001,39.22842,39.302760000000006,39.3771,39.451440000000005,39.525780000000005,39.600120000000004,39.67446,39.7488,39.823139999999995,39.89748,39.97182,40.04616,40.1205,40.19484,40.269180000000006,40.34352,40.417860000000005,40.4922,40.56654,40.64088,40.71522,40.78956,40.8639,40.93824000000001,41.01258,41.086920000000006,41.16126,41.235600000000005,41.309940000000005,41.384280000000004,41.45862,41.53296,41.6073,41.68164,41.75598,41.83032,41.90466,41.979,42.053340000000006,42.12768,42.202020000000005,42.27636,42.3507,42.42504,42.49938,42.57372,42.64806,42.72240000000001,42.79674,42.871080000000006,42.94542,43.019760000000005,43.094100000000005,43.168440000000004,43.24278,43.31712,43.39146,43.4658,43.54014000000001,43.61448,43.68882,43.76316,43.837500000000006,43.91184,43.986180000000004,44.06052,44.13486,44.2092,44.28354,44.35788,44.43222,44.50656000000001,44.5809,44.655240000000006,44.72958,44.803920000000005,44.878260000000004,44.952600000000004,45.02694,45.10128,45.17562,45.24996,45.32430000000001,45.39864,45.47298,45.54732,45.621660000000006,45.696,45.770340000000004,45.84468,45.91902,45.99336,46.0677,46.14204,46.21638,46.29072,46.36506,46.439400000000006,46.51374,46.588080000000005,46.662420000000004,46.736760000000004,46.8111,46.88544,46.95978,47.03412,47.10846000000001,47.1828,47.25714000000001,47.33148,47.405820000000006,47.48016,47.554500000000004,47.62884,47.70318,47.77752,47.85186,47.9262,48.00054,48.07488,48.14922,48.22356,48.297900000000006,48.372240000000005,48.446580000000004,48.520920000000004,48.59526,48.6696,48.74394,48.81828,48.89262,48.96696,49.04130000000001,49.11564,49.189980000000006,49.26432,49.338660000000004,49.413000000000004,49.48734,49.56168,49.63602,49.71036,49.78470000000001,49.85904,49.93338000000001,50.00772,50.082060000000006,50.156400000000005,50.23074,50.305080000000004,50.379419999999996,50.45376,50.5281,50.60244,50.67678,50.75112,50.82546,50.899800000000006,50.97414,51.048480000000005,51.12282,51.197160000000004,51.2715,51.34584,51.42018,51.49452,51.56886,51.64320000000001,51.71754,51.791880000000006,51.866220000000006,51.940560000000005,52.014900000000004,52.089240000000004,52.16358,52.23792,52.31226,52.3866,52.46094,52.53528,52.60962000000001,52.68396,52.758300000000006,52.83264,52.906980000000004,52.981320000000004,53.05566],\"xaxis\":\"x\",\"y\":{\"dtype\":\"f8\",\"bdata\":\"QU+70mDwZD\\u002f7R\\u002fnv4yxmP9EeiYORcmc\\u002fwnXqGg7BaD++oICP+BdqP6NwZmTrdms\\u002fY2qwQH7dbD9TMsyAR0tuP5Wb9tjdv28\\u002f6JsSAW2dcD9g1yA17F1xP0emHHA9IXI\\u002fIhQXGjXncj9\\u002fIAbiq69zP9UZc3Z\\u002fenQ\\u002fwO7lLJNHdT9Tr6SU0BZ2Pw+VsvEn6HY\\u002fUtBinZC7dz8XJk9KCZF4P4KSDiqYaHk\\u002fYKih80pCej9MsC3KNh57P9q2SAR4\\u002fHs\\u002fJIfD1DHdfD92oYbWjcB9P5gcuH27pn4\\u002fFrP1cO+Pfz\\u002f\\u002f7\\u002flmMT6AP6aLoi4ptoA\\u002fEcOz3P4vgT\\u002fe0Lw206uBP0ESDojHKYI\\u002fssqIL\\u002f2pgj963gswlSyDPypjo8WvsYM\\u002fWcd6AWw5hD+naV5u58OEPzcuW789UYU\\u002ftrzCiYjhhT90mYsL33SGPz+Hr\\u002f5VC4c\\u002ffgDTef+khz9QlSje6kGIP44tLdIk4og\\u002f5eqISLeFiT8FCRaSqSyKP9igzXkA14o\\u002fFmYjab6Eiz9Vti6T4zWMP0Cr4SRu6ow\\u002ft99+eFqijT+EeHxKo12OP39pDu5BHI8\\u002fWkaqfy7ejz9niP0JsFGQP+cE9XDmtZA\\u002fj2pMM7UbkT8bqzPBFoORP3tCMUcF7JE\\u002fY2vftHpWkj\\u002flVKO\\u002fcMKSP0GYdOHgL5M\\u002fMGDrU8Sekz+CJ+kHFA+UP\\u002fDhSZrIgJQ\\u002flCshRtrzlD9vPRjVQGiVP9KWjY7z3ZU\\u002fBGAeJulUlj+WhkOqF82WP\\u002f+iqXN0Rpc\\u002fFCXjFfTAlz\\u002fHgghSijyYP8C0ygsquZg\\u002fVdNpQcU2mT+ZxOwGTbWZP4Vb4ISxNJo\\u002fUbzM+uG0mj9V\\u002fHfFzDWbPxZ59Whft5s\\u002fANlqnoY5nD9spl5lLrycP3RmURhCP50\\u002flmNRhKzCnT+OWSsDWEaeP2cIz5cuyp4\\u002fLYh2DBpOnz+7DxoSBNKfP07ZWzDrKqA\\u002ftKf7a71soD9WINvPba6gP\\u002fkaBqTx76A\\u002fvkYxdD4xoT99pqAeSnKhP94IQOIKs6E\\u002fsszKa3fzoT\\u002fauubhhjOiP+FVHPAwc6I\\u002fdoOd0G2yoj\\u002fgq9FUNvGiP+0upOyDL6M\\u002fTyiXrFBtoz8azaBSl6qjP3cO3UlT56M\\u002fNIgfrYAjpD8pBnNIHF+kP3ETlJkjmqQ\\u002fUhNzz5TUpD+2asjIbg6lP+5XwhGxR6U\\u002fMmfQ4FuApT+9MowScLilPy99uiTv76U\\u002fDAlbMNsmpj8kFrniNl2mPyt5anUFk6Y\\u002fQicopUrIpj93DGmnCv2mP2l7px5KMac\\u002fc5M6DQ5lpz\\u002fR76\\u002fGW5inP2rdlt84y6c\\u002fyke1G6v9pz94h6dauC+oPzQU94JmYag\\u002fhaLAa7uSqD8TGhDFvMOoP2+oJ\\u002f9v9Kg\\u002f4pH2MNokqT8ApxP+\\u002f1SpP0rrnXzlhKk\\u002f6lNzG460qT8o9jiJ\\u002fOOpP5nkuJwyE6o\\u002fv8gfPzFCqj+pcKZY+HCqP3GyMcCGn6o\\u002fudtsLtrNqj+mO9g07\\u002fuqP9w6NjnBKas\\u002fj\\u002futdUpXqz\\u002fCE+P9g4SrPwr9Jsllsas\\u002fLxLLwebdqz+fFnrZ\\u002fAmsP5pLXyKdNaw\\u002fM+2\\u002f7LtgrD+IwIvoTIusPycdS0pDtaw\\u002fB7O18pHerD8NNyaYKwetPwgEDfECL60\\u002f12J33gpWrT+EMbuVNnytP6hzV8h5oa0\\u002fCxwiycjFrT\\u002fXIuqtGOmtP8NlymxfC64\\u002fumWF9JMsrj\\u002fA\\u002fmI\\u002frkyuP728LmCna64\\u002fX1seiXmJrj9LDpMMIKauP\\u002fII1FeXwa4\\u002fmvoL6Nzbrj9fb\\u002fw57\\u002fSuP63m\\u002f7TNDK8\\u002fbakUkngjrz9J78W\\u002f8DivP\\u002fiu3cM3Ta8\\u002fm+XWm09grz9Yqw2dOnKvP5vmp1X7gq8\\u002fcuEmb5SSrz+8zn+TCKGvP6n4f1Varq8\\u002ftckhHYy6rz+yHFMYoMWvPw6OhDCYz68\\u002fJS8uBXbYrz9Dh0nrOuCvP6ehlPHn5q8\\u002fzIZH6X3srz+DV75y\\u002ffCvP8mJdw1n9K8\\u002f\\u002f7SoKrv2rz9815VB+vevPw27x+Qk+K8\\u002fD6Q21zv3rz88434gQPWvP4pGPR8z8q8\\u002fkFbBmBburz8CU1rF7OivP9UsoVi44q8\\u002f61REhXzbrz\\u002fL\\u002fAD8PNOvP+0hn+X9ya8\\u002fFg\\u002fx18O\\u002frz9LkwLGk7SvP9OnzutyqK8\\u002fH1L6tWabrz85\\u002fzemdI2vP2NZFjWifq8\\u002fpKoXsvRurz8KlgIjcV6vP3iqaSMcTa8\\u002ftLpsxfk6rz\\u002fR27R0DSivPz97otxZFK8\\u002fLXKU0uD\\u002frj+\\u002fyBdFo+quPz2ssjCh1K4\\u002fzafamtm9rj\\u002f0fX+TSqauPwP5aT3xja4\\u002fCdmB3cl0rj+ruuDwz1quPy2jakn+P64\\u002f8tt4ME8krj\\u002fXD\\u002fqOvAeuP4o2RBpA6q0\\u002fqKmyhNPLrT\\u002fBow2xcKytPxcNoecRjK0\\u002f723XC7JqrT\\u002f0kyPRTEitPzMpAO7eJK0\\u002f90nQS2YArT9oA3cy4tqsPwZZjW5TtKw\\u002fcKk2cbyMrD\\u002fye7FoIWSsP+9Z5lCIOqw\\u002fgpRe+\\u002fgPrD8b2TgOfeSrP\\u002fli4PkfuKs\\u002fblx85e6Kqz8xpz6S+FyrPwqw6jVNLqs\\u002fphYdTf7+qj930gpmHs+qPxkHmeTAnqo\\u002f5BTVwPltqj8XrvVA3TyqP4k2KbB\\u002fC6o\\u002fOK6KE\\u002fXZqT9uj6TeUKipP4Lc76ildqk\\u002f0Qy95QRFqT\\u002fnfeyffhOpPz+4zDoh4qg\\u002fzHFeOfmwqD+mTSENEYCoP9Raae1wT6g\\u002f4yYVuB4fqD8MhU\\u002fcHe+nP737109vv6c\\u002fqA4ajxGQpz8bXyeoAGGnP2X3c1A2Mqc\\u002faBEABaoDpz\\u002fiWmg0UdWmP44ZJnIfp6Y\\u002fN5YcsgZ5pj\\u002fqu2mL90qmP02WTYHhHKY\\u002f\\u002fgDgULPupT8Q3zVCW8ClP3UCiHvHkaU\\u002f97HlVOZipT9zqPuqpjOlP\\u002fVRfi\\u002f4A6U\\u002f\\u002fd7StcvTpD9iGaZ6E6OkP1leOWXDcaQ\\u002fHyVNQdE\\u002fpD9KarTwNA2kP0t1xJPo2aM\\u002f6Pv\\u002fp+iloz+ss4ocNHGjP6IlIlzMO6M\\u002fuhmJTLUFoz9UTYND9c6iPxSCrvGUl6I\\u002fcF6zQ59foj9IVnM6ISeiP\\u002fgIALsp7qE\\u002f4pNLV8m0oT9VlJ8QEnuhP\\u002fKFARUXQaE\\u002fjFq+eOwGoT8xSGTtpsygPx2ueHdbkqA\\u002f3nc4JB9YoD\\u002fNqKvABh6gP0ukkSZNyJ8\\u002fcvemMiRVnz\\u002frnxKSt+KeP2JtK7MpcZ4\\u002fgQtGI5oAnj\\u002fgg3g6JZGdP165FtfjIp0\\u002fcmKtKeu1nD8eZOyRTEqcP8UTnIwV4Js\\u002fMMxksk93mz8YA9\\u002fGABCbP\\u002fR7Fdcqqpo\\u002fENBcZsxFmj99xSSo4OKZPzsTMsVfgZk\\u002fuT6DKj8hmT8sCgLgccKYP2TuDOXoZJg\\u002fmqzZkJMImD\\u002fXCLP0X62XP0wDID47U5c\\u002fZL4ZFxL6lj8G9pUC0aGWP0dW1bNkSpY\\u002fEPgVX7rzlT\\u002fFSYECwJ2VPzVEaKZkSJU\\u002f9zkflJjzlD+BUgqDTZ+UP3EJq7t2S5Q\\u002fLFu8MAn4kz\\u002fvEaWO+6STP5WRvEFGUpM\\u002fiGENdOP\\u002fkj+LhmgDz62SPx\\u002fRvHAGXJI\\u002fEgK9yYgKkj\\u002f84u6NVrmRP8AVRJBxaJE\\u002fnrpb1twXkT81joJ2nMeQPwl5dnW1d5A\\u002fiZbbpC0okD9k52gGF7KPP1SvHTysFI8\\u002fpufl7Sl4jj8NSvvWn9yNP\\u002fdT0UEeQo0\\u002fMxo95rWojD\\u002foHqnOdxCMP+hTCER1eYs\\u002fYhYBwL\\u002fjij\\u002f6GpfkaE+KP9v6cniCvIk\\u002fyg\\u002fIZh4riT9Z5MXBTpuIP0CuecYlDYg\\u002fRbUF4bWAhz8Hjx+wEfaGP1fN2QZMbYY\\u002fEPXY63fmhT+ADjWVqGGFPwlgb2Dx3oQ\\u002funYNxmVehD9Y\\u002fJVIGeCDP8aM114fZIM\\u002fQ2WMWYvqgj84GZZEcHOCP6psMcTg\\u002foE\\u002fZQ2j7u6MgT+VePkirB2BP5xklt0osYA\\u002fWDtCi3RHgD\\u002f3AC23OsF\\u002fP5H2ICdg+X4\\u002fLvQ4wm83fj8jy8dgfHt9P717OweVxXw\\u002fliQlnMQVfD9ktealEWx7PyL2HBF+yHo\\u002fKuqwAAcrej+DDU6opJN5P0njzDFKAnk\\u002frNPzreV2eD9SlcQQYPF3P2UfYzmdcXc\\u002fYAh9BXz3dj\\u002fDyvVv1oJ2P1vQfbqBE3Y\\u002fHJOfoU6pdT+qX7eaCUR1Pxo8Nxt743Q\\u002fcrOI6GeHdD\\u002fHetFvkS90P2WT1SS223M\\u002fh0Qp55GLcz+Uld5s3j5zP6Jx1LFT9XI\\u002fNvXIaqiucj9ZWEx7kmpyP2pArm3HKHI\\u002fXPL76\\u002fzocT9Q5SI56apxPyqoSKlDbnE\\u002fTiFnGMUycT+qFzteKPhwP4EGk74qvnA\\u002fvL8NVYyEcD+AsVt7EEtwP0UPGyl+EXA\\u002f+uzdmECvbz9UVfg0jDpvP5POBq6GxG4\\u002fDFPDJOFMbj\\u002fniKS6VtNtP8AUyuOsV20\\u002f5FloorPZbD+JBQOrRVlsP++TAnFI1ms\\u002f1thxG6xQaz+vi\\u002fRha8hqP+niTVKLPWo\\u002fmlEV\\u002fxqwaT\\u002fiRH4YMyBpP+IgXXD1jWg\\u002feFzWaoz5Zz\\u002fvX2NdKmNnP5pgEt4Iy2Y\\u002fVdoZBWgxZj+bZQSjjZZlP5ae3W3E+mQ\\u002fd9njJ1teZD8E31PCo8FjP7Fr637yJGM\\u002fy268Ep2IYj\\u002f4\\u002fN3M+exhP02ncMNeUmE\\u002fMcxKCSG5YD+n+3bukyFgP5i79poQGF8\\u002fUS5MzpfxXT930LGcUdBcPwPhDcrJtFs\\u002f\\u002fraX1oKfWj8gcGpC9ZBZP2aLDfeOiVg\\u002fFV7l1rKJVz875+BxuJFWP0B8JN7roVU\\u002fOgLkso26VD+WwB4j09tTP97HfDXmBVM\\u002fbdQsFuY4Uj80Q1N\\u002f53RRP6zSYDT1uVA\\u002fBm6DjBAIUD\\u002f1yqkQZL5OP7l25t2Tfk0\\u002f\\u002fniX3YFQTD8m+ih98TNLP3tMa3aZKEo\\u002fk6B2\\u002fyQuST+pZJ7pNERIPzjKWKtgakc\\u002f49D3UTegRj\\u002fKRxZZQOVFP5OupWb8OEU\\u002f5aaS6+WaRD\\u002fWmvWpcQpEP06ztSIPh0M\\u002frpVe7SgQQz8S9Kf9JKVCP8OOy9pkRUI\\u002fxbg+zUXwQT+OibQHIaVBPxydc9BLY0E\\u002fgq0EsBcqQT+k0w6q0vhAPzRZ3ITHzkA\\u002fjoiCIz6rQD96ngP2e41APwzSAILEdEA\\u002fcwS5BVpgQD8FhiU2fk9AP7VmEBhzQUA\\u002f0EUG83s1QD943g9c3ipAP1nqNFXjIEA\\u002fk0nxfdgWQD9dEwVQEQxAP8fjy8bQ\\u002fz8\\u002f23kxZ4HjPz9E18LADcI\\u002fPymjD8dkmj8\\u002f\\u002fy7Vao1rPz+2ZX+0qDQ\\u002fP+J2YqTz9D4\\u002fJVz5zcirPj8IMaykoVg+Pz4GGHIX+z0\\u002feAp+7+OSPT+dztV94R89Pw==\"},\"yaxis\":\"y\",\"type\":\"scatter\"},{\"legendgroup\":\"Body Mass Index Distribution\",\"marker\":{\"color\":\"#FA5858\",\"symbol\":\"line-ns-open\"},\"mode\":\"markers\",\"name\":\"Body Mass Index Distribution\",\"showlegend\":false,\"x\":[27.9,33.77,33.0,22.705,28.88,25.74,33.44,27.74,29.83,25.84,26.22,26.29,34.4,39.82,42.13,24.6,30.78,23.845,40.3,35.3,36.005,32.4,34.1,31.92,28.025,27.72,23.085,32.775,17.385,36.3,35.6,26.315,28.6,28.31,36.4,20.425,32.965,20.8,36.67,39.9,26.6,36.63,21.78,30.8,37.05,37.3,38.665,34.77,24.53,35.2,35.625,33.63,28.0,34.43,28.69,36.955,31.825,31.68,22.88,37.335,27.36,33.66,24.7,25.935,22.42,28.9,39.1,26.315,36.19,23.98,24.75,28.5,28.1,32.01,27.4,34.01,29.59,35.53,39.805,32.965,26.885,38.285,37.62,41.23,34.8,22.895,31.16,27.2,27.74,26.98,39.49,24.795,29.83,34.77,31.3,37.62,30.8,38.28,19.95,19.3,31.6,25.46,30.115,29.92,27.5,28.025,28.4,30.875,27.94,35.09,33.63,29.7,30.8,35.72,32.205,28.595,49.06,27.94,27.17,23.37,37.1,23.75,28.975,31.35,33.915,28.785,28.3,37.4,17.765,34.7,26.505,22.04,35.9,25.555,28.785,28.05,34.1,25.175,31.9,36.0,22.42,32.49,25.3,29.735,28.69,38.83,30.495,37.73,37.43,28.4,24.13,29.7,37.145,23.37,25.46,39.52,24.42,25.175,35.53,27.83,26.6,36.85,39.6,29.8,29.64,28.215,37.0,33.155,31.825,18.905,41.47,30.3,15.96,34.8,33.345,37.7,27.835,29.2,28.9,33.155,28.595,38.28,19.95,26.41,30.69,41.895,29.92,30.9,32.2,32.11,31.57,26.2,25.74,26.6,34.43,30.59,32.8,28.6,18.05,39.33,32.11,32.23,24.035,36.08,22.3,28.88,26.4,27.74,31.8,41.23,33.0,30.875,28.5,26.73,30.9,37.1,26.6,23.1,29.92,23.21,33.7,33.25,30.8,34.8,24.64,33.88,38.06,41.91,31.635,25.46,36.195,27.83,17.8,27.5,24.51,22.22,26.73,38.39,29.07,38.06,36.67,22.135,26.8,35.3,27.74,30.02,38.06,35.86,20.9,28.975,17.29,32.2,34.21,30.3,31.825,25.365,33.63,40.15,24.415,31.92,25.2,26.84,24.32,36.955,38.06,42.35,19.8,32.395,30.2,25.84,29.37,34.2,37.05,27.455,27.55,26.6,20.615,24.3,31.79,21.56,28.12,40.565,27.645,32.395,31.2,26.62,48.07,26.22,36.765,26.4,33.4,29.64,45.54,28.82,26.8,22.99,27.7,25.41,34.39,28.88,27.55,22.61,37.51,33.0,38.0,33.345,27.5,33.33,34.865,33.06,26.6,24.7,35.97,35.86,31.4,33.25,32.205,32.775,27.645,37.335,25.27,29.64,30.8,40.945,27.2,34.105,23.21,36.48,33.8,36.7,36.385,27.36,31.16,28.785,35.72,34.5,25.74,27.55,32.3,27.72,27.6,30.02,27.55,36.765,41.47,29.26,35.75,33.345,29.92,27.835,23.18,25.6,27.7,35.245,38.28,27.6,43.89,29.83,41.91,20.79,32.3,30.5,21.7,26.4,21.89,30.78,32.3,24.985,32.015,30.4,21.09,22.23,33.155,32.9,33.33,28.31,24.89,40.15,30.115,31.46,17.955,30.685,33.0,43.34,22.135,34.4,39.05,25.365,22.61,30.21,35.625,37.43,31.445,31.35,32.3,19.855,34.4,31.02,25.6,38.17,20.6,47.52,32.965,32.3,20.4,38.38,24.31,23.6,21.12,30.03,17.48,20.235,17.195,23.9,35.15,35.64,34.1,22.6,39.16,26.98,33.88,35.86,32.775,30.59,30.2,24.31,27.265,29.165,16.815,30.4,33.1,20.235,26.9,30.5,28.595,33.11,31.73,28.9,46.75,29.45,32.68,33.5,43.01,36.52,26.695,33.1,29.64,25.65,29.6,38.6,29.6,24.13,23.4,29.735,46.53,37.4,30.14,30.495,39.6,33.0,36.63,30.0,38.095,25.935,25.175,28.38,28.7,33.82,24.32,24.09,32.67,30.115,29.8,33.345,25.1,28.31,28.5,35.625,36.85,32.56,41.325,37.51,31.35,39.5,34.3,31.065,21.47,28.7,38.06,31.16,32.9,25.08,25.08,43.4,25.7,27.93,23.6,28.7,23.98,39.2,34.4,26.03,23.21,30.25,28.93,30.875,31.35,23.75,25.27,28.7,32.11,33.66,22.42,30.4,28.3,35.7,35.31,30.495,31.0,30.875,27.36,44.22,33.915,37.73,26.07,33.88,30.59,25.8,39.425,25.46,42.13,31.73,29.7,36.19,40.48,28.025,38.9,30.2,28.05,31.35,38.0,31.79,36.3,47.41,30.21,25.84,35.435,46.7,28.595,46.2,30.8,28.93,21.4,31.73,41.325,23.8,33.44,34.21,34.105,35.53,19.95,32.68,30.5,44.77,32.12,30.495,40.565,30.59,31.9,40.565,29.1,37.29,43.12,36.86,34.295,27.17,26.84,38.095,30.2,23.465,25.46,30.59,45.43,23.65,20.7,28.27,20.235,30.21,35.91,30.69,29.0,19.57,31.13,21.85,40.26,33.725,29.48,33.25,32.6,37.525,39.16,31.635,25.3,39.05,28.31,34.1,25.175,23.655,26.98,37.8,29.37,34.8,33.155,19.0,33.0,36.63,28.595,25.6,33.11,37.1,31.4,34.1,21.3,33.535,28.785,26.03,28.88,42.46,38.0,38.95,36.1,29.3,35.53,22.705,39.7,38.19,24.51,38.095,26.41,33.66,42.4,28.31,33.915,34.96,35.31,30.78,26.22,23.37,28.5,32.965,42.68,39.6,31.13,36.3,35.2,25.3,42.4,33.155,35.91,28.785,46.53,23.98,31.54,33.66,22.99,38.06,28.7,32.775,32.015,29.81,31.57,31.16,29.7,31.02,43.89,21.375,40.81,31.35,36.1,23.18,17.4,20.3,35.3,24.32,18.5,26.41,26.125,41.69,24.1,31.13,27.36,36.2,32.395,23.655,34.8,40.185,32.3,35.75,33.725,39.27,34.87,44.745,41.47,26.41,29.545,32.9,38.06,28.69,30.495,27.74,35.2,23.54,30.685,40.47,22.6,28.9,22.61,24.32,36.67,33.44,40.66,36.6,37.4,35.4,27.075,39.05,28.405,21.755,40.28,36.08,24.42,21.4,30.1,27.265,32.1,34.77,38.39,23.7,31.73,35.5,24.035,29.15,34.105,26.62,26.41,30.115,27.0,21.755,36.0,30.875,26.4,28.975,37.905,22.77,33.63,27.645,22.8,27.83,37.43,38.17,34.58,35.2,27.1,26.03,25.175,31.825,32.3,29.0,39.7,19.475,36.1,26.7,36.48,28.88,34.2,33.33,32.3,39.805,34.32,28.88,24.4,41.14,35.97,27.6,29.26,27.7,36.955,36.86,22.515,29.92,41.8,27.6,23.18,20.9,31.92,28.5,44.22,22.895,33.1,24.795,26.18,35.97,22.3,42.24,26.51,35.815,41.42,36.575,30.14,25.84,30.8,42.94,21.01,22.515,34.43,31.46,24.225,37.1,26.125,35.53,33.7,17.67,31.13,29.81,24.32,31.825,31.79,28.025,30.78,21.85,33.1,25.84,23.845,34.39,33.82,35.97,31.5,28.31,23.465,31.35,31.1,24.7,32.78,29.81,30.495,32.45,34.2,50.38,24.1,32.775,30.78,32.3,35.53,23.75,23.845,29.6,33.11,24.13,32.23,28.1,47.6,28.0,33.535,19.855,25.4,29.9,37.29,43.7,23.655,24.3,36.2,29.48,24.86,30.1,21.85,28.12,27.1,33.44,28.8,29.5,34.8,27.36,22.135,37.05,26.695,28.93,28.975,30.02,39.5,33.63,26.885,29.04,24.035,38.94,32.11,44.0,20.045,25.555,40.26,22.515,22.515,40.92,27.265,36.85,35.1,29.355,32.585,32.34,39.8,24.6,28.31,31.73,26.695,27.5,24.605,33.99,26.885,22.895,28.2,34.21,25.0,33.2,31.0,35.815,23.2,32.11,23.4,20.1,39.16,34.21,46.53,32.5,25.8,35.3,37.18,27.5,29.735,24.225,26.18,29.48,23.21,46.09,40.185,22.61,39.93,35.8,35.8,34.2,31.255,29.7,18.335,42.9,28.405,30.2,27.835,39.49,30.8,26.79,34.96,36.67,39.615,25.9,35.2,24.795,36.765,27.1,24.795,25.365,25.745,34.32,28.16,23.56,20.235,40.5,35.42,22.895,40.15,29.15,39.995,29.92,25.46,21.375,25.9,30.59,30.115,25.8,30.115,27.645,34.675,20.52,19.8,27.835,31.6,28.27,20.045,23.275,34.1,36.85,36.29,26.885,22.99,32.7,25.8,29.6,19.19,31.73,29.26,28.215,24.985,27.74,22.8,20.13,33.33,32.3,27.6,25.46,24.605,34.2,35.815,32.68,37.0,31.02,36.08,23.32,45.32,34.6,26.03,18.715,31.6,17.29,23.655,35.2,27.93,21.565,38.38,23.0,37.07,30.495,28.88,27.265,28.025,23.085,30.685,25.8,35.245,24.7,25.08,52.58,22.515,30.9,36.955,26.41,29.83,29.8,21.47,27.645,28.9,31.79,39.49,33.82,32.01,27.94,41.14,28.595,25.6,25.3,37.29,42.655,21.66,31.9,37.07,31.445,31.255,28.88,18.335,29.59,32.0,26.03,31.68,33.66,21.78,27.835,19.95,31.5,30.495,18.3,28.975,31.54,47.74,22.1,36.19,29.83,32.7,30.4,33.7,31.35,34.96,33.77,30.875,33.99,19.095,28.6,38.94,36.08,29.8,31.24,29.925,26.22,30.0,20.35,32.3,38.39,25.85,26.315,24.51,32.67,29.64,33.33,35.75,19.95,31.4,38.17,36.86,32.395,42.75,25.08,29.9,35.86,32.8,18.6,23.87,45.9,40.28,18.335,33.82,28.12,25.0,22.23,30.25,32.49,37.07,32.6,24.86,32.34,32.3,32.775,32.8,31.92,21.5,34.1,30.305,36.48,32.56,35.815,27.93,22.135,44.88,23.18,30.59,41.1,34.58,42.13,38.83,28.215,28.31,26.125,40.37,24.6,35.2,34.105,27.36,26.7,41.91,29.26,32.11,27.1,24.13,27.4,34.865,29.81,41.325,29.925,30.3,27.36,28.49,23.56,35.625,32.68,25.27,28.0,32.775,21.755,32.395,36.575,21.755,27.93,30.02,33.55,29.355,25.8,24.32,40.375,32.11,32.3,27.28,17.86,34.8,33.4,25.555,37.1,30.875,34.1,21.47,33.3,31.255,39.14,25.08,37.29,34.6,30.21,21.945,24.97,25.3,24.42,23.94,39.82,16.815,37.18,34.43,30.305,34.485,21.8,24.605,23.3,27.83,31.065,21.66,28.215,22.705,42.13,41.8,36.96,21.28,33.11,33.33,24.3,25.7,29.4,39.82,33.63,29.83,19.8,27.3,29.3,27.72,37.9,36.385,27.645,37.715,23.18,20.52,37.1,28.05,29.9,33.345,23.76,30.5,31.065,33.3,27.5,33.915,34.485,25.52,27.61,27.06,23.7,30.4,29.735,29.925,26.79,33.33,27.645,21.66,30.03,36.3,24.32,17.29,25.9,39.4,34.32,19.95,34.9,23.21,25.745,25.175,22.0,26.125,26.51,27.455,25.745,30.36,30.875,20.8,27.8,24.605,27.72,21.85,28.12,30.2,32.2,26.315,26.695,42.9,34.7,23.655,28.31,20.6,53.13,39.71,26.315,31.065,26.695,38.83,40.37,25.935,33.535,32.87,30.03,24.225,38.6,25.74,33.4,44.7,30.97,31.92,36.85,25.8,29.07],\"xaxis\":\"x\",\"y\":[\"Body Mass Index Distribution\",\"Body Mass Index Distribution\",\"Body Mass Index Distribution\",\"Body Mass Index Distribution\",\"Body Mass Index Distribution\",\"Body Mass Index Distribution\",\"Body Mass Index Distribution\",\"Body Mass Index Distribution\",\"Body Mass Index Distribution\",\"Body Mass Index Distribution\",\"Body Mass Index Distribution\",\"Body Mass Index Distribution\",\"Body Mass Index Distribution\",\"Body Mass Index Distribution\",\"Body Mass Index Distribution\",\"Body Mass Index Distribution\",\"Body Mass Index Distribution\",\"Body Mass Index Distribution\",\"Body Mass Index Distribution\",\"Body Mass Index Distribution\",\"Body Mass Index Distribution\",\"Body Mass Index Distribution\",\"Body Mass Index Distribution\",\"Body Mass Index Distribution\",\"Body Mass Index Distribution\",\"Body Mass Index Distribution\",\"Body Mass Index Distribution\",\"Body Mass Index Distribution\",\"Body Mass Index Distribution\",\"Body Mass Index Distribution\",\"Body Mass Index Distribution\",\"Body Mass Index Distribution\",\"Body Mass Index Distribution\",\"Body Mass Index Distribution\",\"Body Mass Index Distribution\",\"Body Mass Index Distribution\",\"Body Mass Index Distribution\",\"Body Mass Index Distribution\",\"Body Mass Index Distribution\",\"Body Mass Index Distribution\",\"Body Mass Index Distribution\",\"Body Mass Index Distribution\",\"Body Mass Index Distribution\",\"Body Mass Index Distribution\",\"Body Mass Index Distribution\",\"Body Mass Index Distribution\",\"Body Mass Index Distribution\",\"Body Mass Index Distribution\",\"Body Mass Index Distribution\",\"Body Mass Index Distribution\",\"Body Mass Index Distribution\",\"Body Mass Index Distribution\",\"Body Mass Index Distribution\",\"Body Mass Index Distribution\",\"Body Mass Index Distribution\",\"Body Mass Index Distribution\",\"Body Mass Index Distribution\",\"Body Mass Index Distribution\",\"Body Mass Index Distribution\",\"Body Mass Index Distribution\",\"Body Mass Index Distribution\",\"Body Mass Index Distribution\",\"Body Mass Index Distribution\",\"Body Mass Index Distribution\",\"Body Mass Index Distribution\",\"Body Mass Index Distribution\",\"Body Mass Index Distribution\",\"Body Mass Index Distribution\",\"Body Mass Index Distribution\",\"Body Mass Index Distribution\",\"Body Mass Index Distribution\",\"Body Mass Index Distribution\",\"Body Mass Index Distribution\",\"Body Mass Index Distribution\",\"Body Mass Index Distribution\",\"Body Mass Index Distribution\",\"Body Mass Index Distribution\",\"Body Mass Index Distribution\",\"Body Mass Index Distribution\",\"Body Mass Index Distribution\",\"Body Mass Index Distribution\",\"Body Mass Index Distribution\",\"Body Mass Index Distribution\",\"Body Mass Index Distribution\",\"Body Mass Index Distribution\",\"Body Mass Index Distribution\",\"Body Mass Index Distribution\",\"Body Mass Index Distribution\",\"Body Mass Index Distribution\",\"Body Mass Index Distribution\",\"Body Mass Index Distribution\",\"Body Mass Index Distribution\",\"Body Mass Index Distribution\",\"Body Mass Index Distribution\",\"Body Mass Index Distribution\",\"Body Mass Index Distribution\",\"Body Mass Index Distribution\",\"Body Mass Index Distribution\",\"Body Mass Index Distribution\",\"Body Mass Index Distribution\",\"Body Mass Index Distribution\",\"Body Mass Index Distribution\",\"Body Mass Index Distribution\",\"Body Mass Index Distribution\",\"Body Mass Index Distribution\",\"Body Mass Index Distribution\",\"Body Mass Index Distribution\",\"Body Mass Index Distribution\",\"Body Mass Index Distribution\",\"Body Mass Index Distribution\",\"Body Mass Index Distribution\",\"Body Mass Index Distribution\",\"Body Mass Index Distribution\",\"Body Mass Index Distribution\",\"Body Mass Index Distribution\",\"Body Mass Index Distribution\",\"Body Mass Index Distribution\",\"Body Mass Index Distribution\",\"Body Mass Index Distribution\",\"Body Mass Index Distribution\",\"Body Mass Index Distribution\",\"Body Mass Index Distribution\",\"Body Mass Index Distribution\",\"Body Mass Index Distribution\",\"Body Mass Index Distribution\",\"Body Mass Index Distribution\",\"Body Mass Index Distribution\",\"Body Mass Index Distribution\",\"Body Mass Index Distribution\",\"Body Mass Index Distribution\",\"Body Mass Index Distribution\",\"Body Mass Index Distribution\",\"Body Mass Index Distribution\",\"Body Mass Index Distribution\",\"Body Mass Index Distribution\",\"Body Mass Index Distribution\",\"Body Mass Index Distribution\",\"Body Mass Index Distribution\",\"Body Mass Index Distribution\",\"Body Mass Index Distribution\",\"Body Mass Index Distribution\",\"Body Mass Index Distribution\",\"Body Mass Index Distribution\",\"Body Mass Index Distribution\",\"Body Mass Index Distribution\",\"Body Mass Index Distribution\",\"Body Mass Index Distribution\",\"Body Mass Index Distribution\",\"Body Mass Index Distribution\",\"Body Mass Index Distribution\",\"Body Mass Index Distribution\",\"Body Mass Index Distribution\",\"Body Mass Index Distribution\",\"Body Mass Index Distribution\",\"Body Mass Index Distribution\",\"Body Mass Index Distribution\",\"Body Mass Index Distribution\",\"Body Mass Index Distribution\",\"Body Mass Index Distribution\",\"Body Mass Index Distribution\",\"Body Mass Index Distribution\",\"Body Mass Index Distribution\",\"Body Mass Index Distribution\",\"Body Mass Index Distribution\",\"Body Mass Index Distribution\",\"Body Mass Index Distribution\",\"Body Mass Index Distribution\",\"Body Mass Index Distribution\",\"Body Mass Index Distribution\",\"Body Mass Index Distribution\",\"Body Mass Index Distribution\",\"Body Mass Index Distribution\",\"Body Mass Index Distribution\",\"Body Mass Index Distribution\",\"Body Mass Index Distribution\",\"Body Mass Index Distribution\",\"Body Mass Index Distribution\",\"Body Mass Index Distribution\",\"Body Mass Index Distribution\",\"Body Mass Index Distribution\",\"Body Mass Index Distribution\",\"Body Mass Index Distribution\",\"Body Mass Index Distribution\",\"Body Mass Index Distribution\",\"Body Mass Index Distribution\",\"Body Mass Index Distribution\",\"Body Mass Index Distribution\",\"Body Mass Index Distribution\",\"Body Mass Index Distribution\",\"Body Mass Index Distribution\",\"Body Mass Index Distribution\",\"Body Mass Index Distribution\",\"Body Mass Index Distribution\",\"Body Mass Index Distribution\",\"Body Mass Index Distribution\",\"Body Mass Index Distribution\",\"Body Mass Index Distribution\",\"Body Mass Index Distribution\",\"Body Mass Index Distribution\",\"Body Mass Index Distribution\",\"Body Mass Index Distribution\",\"Body Mass Index Distribution\",\"Body Mass Index Distribution\",\"Body Mass Index Distribution\",\"Body Mass Index Distribution\",\"Body Mass Index Distribution\",\"Body Mass Index Distribution\",\"Body Mass Index Distribution\",\"Body Mass Index Distribution\",\"Body Mass Index Distribution\",\"Body Mass Index Distribution\",\"Body Mass Index Distribution\",\"Body Mass Index Distribution\",\"Body Mass Index Distribution\",\"Body Mass Index Distribution\",\"Body Mass Index Distribution\",\"Body Mass Index Distribution\",\"Body Mass Index Distribution\",\"Body Mass Index Distribution\",\"Body Mass Index Distribution\",\"Body Mass Index Distribution\",\"Body Mass Index Distribution\",\"Body Mass Index Distribution\",\"Body Mass Index Distribution\",\"Body Mass Index Distribution\",\"Body Mass Index Distribution\",\"Body Mass Index Distribution\",\"Body Mass Index Distribution\",\"Body Mass Index Distribution\",\"Body Mass Index Distribution\",\"Body Mass Index Distribution\",\"Body Mass Index Distribution\",\"Body Mass Index Distribution\",\"Body Mass Index Distribution\",\"Body Mass Index Distribution\",\"Body Mass Index Distribution\",\"Body Mass Index Distribution\",\"Body Mass Index Distribution\",\"Body Mass Index Distribution\",\"Body Mass Index Distribution\",\"Body Mass Index Distribution\",\"Body Mass Index Distribution\",\"Body Mass Index Distribution\",\"Body Mass Index Distribution\",\"Body Mass Index Distribution\",\"Body Mass Index Distribution\",\"Body Mass Index Distribution\",\"Body Mass Index Distribution\",\"Body Mass Index Distribution\",\"Body Mass Index Distribution\",\"Body Mass Index Distribution\",\"Body Mass Index Distribution\",\"Body Mass Index Distribution\",\"Body Mass Index Distribution\",\"Body Mass Index Distribution\",\"Body Mass Index Distribution\",\"Body Mass Index Distribution\",\"Body Mass Index Distribution\",\"Body Mass Index Distribution\",\"Body Mass Index Distribution\",\"Body Mass Index Distribution\",\"Body Mass Index Distribution\",\"Body Mass Index Distribution\",\"Body Mass Index Distribution\",\"Body Mass Index Distribution\",\"Body Mass Index Distribution\",\"Body Mass Index Distribution\",\"Body Mass Index Distribution\",\"Body Mass Index Distribution\",\"Body Mass Index Distribution\",\"Body Mass Index Distribution\",\"Body Mass Index Distribution\",\"Body Mass Index Distribution\",\"Body Mass Index Distribution\",\"Body Mass Index Distribution\",\"Body Mass Index Distribution\",\"Body Mass Index Distribution\",\"Body Mass Index Distribution\",\"Body Mass Index Distribution\",\"Body Mass Index Distribution\",\"Body Mass Index Distribution\",\"Body Mass Index Distribution\",\"Body Mass Index Distribution\",\"Body Mass Index Distribution\",\"Body Mass Index Distribution\",\"Body Mass Index Distribution\",\"Body Mass Index Distribution\",\"Body Mass Index Distribution\",\"Body Mass Index Distribution\",\"Body Mass Index Distribution\",\"Body Mass Index Distribution\",\"Body Mass Index Distribution\",\"Body Mass Index Distribution\",\"Body Mass Index Distribution\",\"Body Mass Index Distribution\",\"Body Mass Index Distribution\",\"Body Mass Index Distribution\",\"Body Mass Index Distribution\",\"Body Mass Index Distribution\",\"Body Mass Index Distribution\",\"Body Mass Index Distribution\",\"Body Mass Index Distribution\",\"Body Mass Index Distribution\",\"Body Mass Index Distribution\",\"Body Mass Index Distribution\",\"Body Mass Index Distribution\",\"Body Mass Index Distribution\",\"Body Mass Index Distribution\",\"Body Mass Index Distribution\",\"Body Mass Index Distribution\",\"Body Mass Index Distribution\",\"Body Mass Index Distribution\",\"Body Mass Index Distribution\",\"Body Mass Index Distribution\",\"Body Mass Index Distribution\",\"Body Mass Index Distribution\",\"Body Mass Index Distribution\",\"Body Mass Index Distribution\",\"Body Mass Index Distribution\",\"Body Mass Index Distribution\",\"Body Mass Index Distribution\",\"Body Mass Index Distribution\",\"Body Mass Index Distribution\",\"Body Mass Index Distribution\",\"Body Mass Index Distribution\",\"Body Mass Index Distribution\",\"Body Mass Index Distribution\",\"Body Mass Index Distribution\",\"Body Mass Index Distribution\",\"Body Mass Index Distribution\",\"Body Mass Index Distribution\",\"Body Mass Index Distribution\",\"Body Mass Index Distribution\",\"Body Mass Index Distribution\",\"Body Mass Index Distribution\",\"Body Mass Index Distribution\",\"Body Mass Index Distribution\",\"Body Mass Index Distribution\",\"Body Mass Index Distribution\",\"Body Mass Index Distribution\",\"Body Mass Index Distribution\",\"Body Mass Index Distribution\",\"Body Mass Index Distribution\",\"Body Mass Index Distribution\",\"Body Mass Index Distribution\",\"Body Mass Index Distribution\",\"Body Mass Index Distribution\",\"Body Mass Index Distribution\",\"Body Mass Index Distribution\",\"Body Mass Index Distribution\",\"Body Mass Index Distribution\",\"Body Mass Index Distribution\",\"Body Mass Index Distribution\",\"Body Mass Index Distribution\",\"Body Mass Index Distribution\",\"Body Mass Index Distribution\",\"Body Mass Index Distribution\",\"Body Mass Index Distribution\",\"Body Mass Index Distribution\",\"Body Mass Index Distribution\",\"Body Mass Index Distribution\",\"Body Mass Index Distribution\",\"Body Mass Index Distribution\",\"Body Mass Index Distribution\",\"Body Mass Index Distribution\",\"Body Mass Index Distribution\",\"Body Mass Index Distribution\",\"Body Mass Index Distribution\",\"Body Mass Index Distribution\",\"Body Mass Index Distribution\",\"Body Mass Index Distribution\",\"Body Mass Index Distribution\",\"Body Mass Index Distribution\",\"Body Mass Index Distribution\",\"Body Mass Index Distribution\",\"Body Mass Index Distribution\",\"Body Mass Index Distribution\",\"Body Mass Index Distribution\",\"Body Mass Index Distribution\",\"Body Mass Index Distribution\",\"Body Mass Index Distribution\",\"Body Mass Index Distribution\",\"Body Mass Index Distribution\",\"Body Mass Index Distribution\",\"Body Mass Index Distribution\",\"Body Mass Index Distribution\",\"Body Mass Index Distribution\",\"Body Mass Index Distribution\",\"Body Mass Index Distribution\",\"Body Mass Index Distribution\",\"Body Mass Index Distribution\",\"Body Mass Index Distribution\",\"Body Mass Index Distribution\",\"Body Mass Index Distribution\",\"Body Mass Index Distribution\",\"Body Mass Index Distribution\",\"Body Mass Index Distribution\",\"Body Mass Index Distribution\",\"Body Mass Index Distribution\",\"Body Mass Index Distribution\",\"Body Mass Index Distribution\",\"Body Mass Index Distribution\",\"Body Mass Index Distribution\",\"Body Mass Index Distribution\",\"Body Mass Index Distribution\",\"Body Mass Index Distribution\",\"Body Mass Index Distribution\",\"Body Mass Index Distribution\",\"Body Mass Index Distribution\",\"Body Mass Index Distribution\",\"Body Mass Index Distribution\",\"Body Mass Index Distribution\",\"Body Mass Index Distribution\",\"Body Mass Index Distribution\",\"Body Mass Index Distribution\",\"Body Mass Index Distribution\",\"Body Mass Index Distribution\",\"Body Mass Index Distribution\",\"Body Mass Index Distribution\",\"Body Mass Index Distribution\",\"Body Mass Index Distribution\",\"Body Mass Index Distribution\",\"Body Mass Index Distribution\",\"Body Mass Index Distribution\",\"Body Mass Index Distribution\",\"Body Mass Index Distribution\",\"Body Mass Index Distribution\",\"Body Mass Index Distribution\",\"Body Mass Index Distribution\",\"Body Mass Index Distribution\",\"Body Mass Index Distribution\",\"Body Mass Index Distribution\",\"Body Mass Index Distribution\",\"Body Mass Index Distribution\",\"Body Mass Index Distribution\",\"Body Mass Index Distribution\",\"Body Mass Index Distribution\",\"Body Mass Index Distribution\",\"Body Mass Index Distribution\",\"Body Mass Index Distribution\",\"Body Mass Index Distribution\",\"Body Mass Index Distribution\",\"Body Mass Index Distribution\",\"Body Mass Index Distribution\",\"Body Mass Index Distribution\",\"Body Mass Index Distribution\",\"Body Mass Index Distribution\",\"Body Mass Index Distribution\",\"Body Mass Index Distribution\",\"Body Mass Index Distribution\",\"Body Mass Index Distribution\",\"Body Mass Index Distribution\",\"Body Mass Index Distribution\",\"Body Mass Index Distribution\",\"Body Mass Index Distribution\",\"Body Mass Index Distribution\",\"Body Mass Index Distribution\",\"Body Mass Index Distribution\",\"Body Mass Index Distribution\",\"Body Mass Index Distribution\",\"Body Mass Index Distribution\",\"Body Mass Index Distribution\",\"Body Mass Index Distribution\",\"Body Mass Index Distribution\",\"Body Mass Index Distribution\",\"Body Mass Index Distribution\",\"Body Mass Index Distribution\",\"Body Mass Index Distribution\",\"Body Mass Index Distribution\",\"Body Mass Index Distribution\",\"Body Mass Index Distribution\",\"Body Mass Index Distribution\",\"Body Mass Index Distribution\",\"Body Mass Index Distribution\",\"Body Mass Index Distribution\",\"Body Mass Index Distribution\",\"Body Mass Index Distribution\",\"Body Mass Index Distribution\",\"Body Mass Index Distribution\",\"Body Mass Index Distribution\",\"Body Mass Index Distribution\",\"Body Mass Index Distribution\",\"Body Mass Index Distribution\",\"Body Mass Index Distribution\",\"Body Mass Index Distribution\",\"Body Mass Index Distribution\",\"Body Mass Index Distribution\",\"Body Mass Index Distribution\",\"Body Mass Index Distribution\",\"Body Mass Index Distribution\",\"Body Mass Index Distribution\",\"Body Mass Index Distribution\",\"Body Mass Index Distribution\",\"Body Mass Index Distribution\",\"Body Mass Index Distribution\",\"Body Mass Index Distribution\",\"Body Mass Index Distribution\",\"Body Mass Index Distribution\",\"Body Mass Index Distribution\",\"Body Mass Index Distribution\",\"Body Mass Index Distribution\",\"Body Mass Index Distribution\",\"Body Mass Index Distribution\",\"Body Mass Index Distribution\",\"Body Mass Index Distribution\",\"Body Mass Index Distribution\",\"Body Mass Index Distribution\",\"Body Mass Index Distribution\",\"Body Mass Index Distribution\",\"Body Mass Index Distribution\",\"Body Mass Index Distribution\",\"Body Mass Index Distribution\",\"Body Mass Index Distribution\",\"Body Mass Index Distribution\",\"Body Mass Index Distribution\",\"Body Mass Index Distribution\",\"Body Mass Index Distribution\",\"Body Mass Index Distribution\",\"Body Mass Index Distribution\",\"Body Mass Index Distribution\",\"Body Mass Index Distribution\",\"Body Mass Index Distribution\",\"Body Mass Index Distribution\",\"Body Mass Index Distribution\",\"Body Mass Index Distribution\",\"Body Mass Index Distribution\",\"Body Mass Index Distribution\",\"Body Mass Index Distribution\",\"Body Mass Index Distribution\",\"Body Mass Index Distribution\",\"Body Mass Index Distribution\",\"Body Mass Index Distribution\",\"Body Mass Index Distribution\",\"Body Mass Index Distribution\",\"Body Mass Index Distribution\",\"Body Mass Index Distribution\",\"Body Mass Index Distribution\",\"Body Mass Index Distribution\",\"Body Mass Index Distribution\",\"Body Mass Index Distribution\",\"Body Mass Index Distribution\",\"Body Mass Index Distribution\",\"Body Mass Index Distribution\",\"Body Mass Index Distribution\",\"Body Mass Index Distribution\",\"Body Mass Index Distribution\",\"Body Mass Index Distribution\",\"Body Mass Index Distribution\",\"Body Mass Index Distribution\",\"Body Mass Index Distribution\",\"Body Mass Index Distribution\",\"Body Mass Index Distribution\",\"Body Mass Index Distribution\",\"Body Mass Index Distribution\",\"Body Mass Index Distribution\",\"Body Mass Index Distribution\",\"Body Mass Index Distribution\",\"Body Mass Index Distribution\",\"Body Mass Index Distribution\",\"Body Mass Index Distribution\",\"Body Mass Index Distribution\",\"Body Mass Index Distribution\",\"Body Mass Index Distribution\",\"Body Mass Index Distribution\",\"Body Mass Index Distribution\",\"Body Mass Index Distribution\",\"Body Mass Index Distribution\",\"Body Mass Index Distribution\",\"Body Mass Index Distribution\",\"Body Mass Index Distribution\",\"Body Mass Index Distribution\",\"Body Mass Index Distribution\",\"Body Mass Index Distribution\",\"Body Mass Index Distribution\",\"Body Mass Index Distribution\",\"Body Mass Index Distribution\",\"Body Mass Index Distribution\",\"Body Mass Index Distribution\",\"Body Mass Index Distribution\",\"Body Mass Index Distribution\",\"Body Mass Index Distribution\",\"Body Mass Index Distribution\",\"Body Mass Index Distribution\",\"Body Mass Index Distribution\",\"Body Mass Index Distribution\",\"Body Mass Index Distribution\",\"Body Mass Index Distribution\",\"Body Mass Index Distribution\",\"Body Mass Index Distribution\",\"Body Mass Index Distribution\",\"Body Mass Index Distribution\",\"Body Mass Index Distribution\",\"Body Mass Index Distribution\",\"Body Mass Index Distribution\",\"Body Mass Index Distribution\",\"Body Mass Index Distribution\",\"Body Mass Index Distribution\",\"Body Mass Index Distribution\",\"Body Mass Index Distribution\",\"Body Mass Index Distribution\",\"Body Mass Index Distribution\",\"Body Mass Index Distribution\",\"Body Mass Index Distribution\",\"Body Mass Index Distribution\",\"Body Mass Index Distribution\",\"Body Mass Index Distribution\",\"Body Mass Index Distribution\",\"Body Mass Index Distribution\",\"Body Mass Index Distribution\",\"Body Mass Index Distribution\",\"Body Mass Index Distribution\",\"Body Mass Index Distribution\",\"Body Mass Index Distribution\",\"Body Mass Index Distribution\",\"Body Mass Index Distribution\",\"Body Mass Index Distribution\",\"Body Mass Index Distribution\",\"Body Mass Index Distribution\",\"Body Mass Index Distribution\",\"Body Mass Index Distribution\",\"Body Mass Index Distribution\",\"Body Mass Index Distribution\",\"Body Mass Index Distribution\",\"Body Mass Index Distribution\",\"Body Mass Index Distribution\",\"Body Mass Index Distribution\",\"Body Mass Index Distribution\",\"Body Mass Index Distribution\",\"Body Mass Index Distribution\",\"Body Mass Index Distribution\",\"Body Mass Index Distribution\",\"Body Mass Index Distribution\",\"Body Mass Index Distribution\",\"Body Mass Index Distribution\",\"Body Mass Index Distribution\",\"Body Mass Index Distribution\",\"Body Mass Index Distribution\",\"Body Mass Index Distribution\",\"Body Mass Index Distribution\",\"Body Mass Index Distribution\",\"Body Mass Index Distribution\",\"Body Mass Index Distribution\",\"Body Mass Index Distribution\",\"Body Mass Index Distribution\",\"Body Mass Index Distribution\",\"Body Mass Index Distribution\",\"Body Mass Index Distribution\",\"Body Mass Index Distribution\",\"Body Mass Index Distribution\",\"Body Mass Index Distribution\",\"Body Mass Index Distribution\",\"Body Mass Index Distribution\",\"Body Mass Index Distribution\",\"Body Mass Index Distribution\",\"Body Mass Index Distribution\",\"Body Mass Index Distribution\",\"Body Mass Index Distribution\",\"Body Mass Index Distribution\",\"Body Mass Index Distribution\",\"Body Mass Index Distribution\",\"Body Mass Index Distribution\",\"Body Mass Index Distribution\",\"Body Mass Index Distribution\",\"Body Mass Index Distribution\",\"Body Mass Index Distribution\",\"Body Mass Index Distribution\",\"Body Mass Index Distribution\",\"Body Mass Index Distribution\",\"Body Mass Index Distribution\",\"Body Mass Index Distribution\",\"Body Mass Index Distribution\",\"Body Mass Index Distribution\",\"Body Mass Index Distribution\",\"Body Mass Index Distribution\",\"Body Mass Index Distribution\",\"Body Mass Index Distribution\",\"Body Mass Index Distribution\",\"Body Mass Index Distribution\",\"Body Mass Index Distribution\",\"Body Mass Index Distribution\",\"Body Mass Index Distribution\",\"Body Mass Index Distribution\",\"Body Mass Index Distribution\",\"Body Mass Index Distribution\",\"Body Mass Index Distribution\",\"Body Mass Index Distribution\",\"Body Mass Index Distribution\",\"Body Mass Index Distribution\",\"Body Mass Index Distribution\",\"Body Mass Index Distribution\",\"Body Mass Index Distribution\",\"Body Mass Index Distribution\",\"Body Mass Index Distribution\",\"Body Mass Index Distribution\",\"Body Mass Index Distribution\",\"Body Mass Index Distribution\",\"Body Mass Index Distribution\",\"Body Mass Index Distribution\",\"Body Mass Index Distribution\",\"Body Mass Index Distribution\",\"Body Mass Index Distribution\",\"Body Mass Index Distribution\",\"Body Mass Index Distribution\",\"Body Mass Index Distribution\",\"Body Mass Index Distribution\",\"Body Mass Index Distribution\",\"Body Mass Index Distribution\",\"Body Mass Index Distribution\",\"Body Mass Index Distribution\",\"Body Mass Index Distribution\",\"Body Mass Index Distribution\",\"Body Mass Index Distribution\",\"Body Mass Index Distribution\",\"Body Mass Index Distribution\",\"Body Mass Index Distribution\",\"Body Mass Index Distribution\",\"Body Mass Index Distribution\",\"Body Mass Index Distribution\",\"Body Mass Index Distribution\",\"Body Mass Index Distribution\",\"Body Mass Index Distribution\",\"Body Mass Index Distribution\",\"Body Mass Index Distribution\",\"Body Mass Index Distribution\",\"Body Mass Index Distribution\",\"Body Mass Index Distribution\",\"Body Mass Index Distribution\",\"Body Mass Index Distribution\",\"Body Mass Index Distribution\",\"Body Mass Index Distribution\",\"Body Mass Index Distribution\",\"Body Mass Index Distribution\",\"Body Mass Index Distribution\",\"Body Mass Index Distribution\",\"Body Mass Index Distribution\",\"Body Mass Index Distribution\",\"Body Mass Index Distribution\",\"Body Mass Index Distribution\",\"Body Mass Index Distribution\",\"Body Mass Index Distribution\",\"Body Mass Index Distribution\",\"Body Mass Index Distribution\",\"Body Mass Index Distribution\",\"Body Mass Index Distribution\",\"Body Mass Index Distribution\",\"Body Mass Index Distribution\",\"Body Mass Index Distribution\",\"Body Mass Index Distribution\",\"Body Mass Index Distribution\",\"Body Mass Index Distribution\",\"Body Mass Index Distribution\",\"Body Mass Index Distribution\",\"Body Mass Index Distribution\",\"Body Mass Index Distribution\",\"Body Mass Index Distribution\",\"Body Mass Index Distribution\",\"Body Mass Index Distribution\",\"Body Mass Index Distribution\",\"Body Mass Index Distribution\",\"Body Mass Index Distribution\",\"Body Mass Index Distribution\",\"Body Mass Index Distribution\",\"Body Mass Index Distribution\",\"Body Mass Index Distribution\",\"Body Mass Index Distribution\",\"Body Mass Index Distribution\",\"Body Mass Index Distribution\",\"Body Mass Index Distribution\",\"Body Mass Index Distribution\",\"Body Mass Index Distribution\",\"Body Mass Index Distribution\",\"Body Mass Index Distribution\",\"Body Mass Index Distribution\",\"Body Mass Index Distribution\",\"Body Mass Index Distribution\",\"Body Mass Index Distribution\",\"Body Mass Index Distribution\",\"Body Mass Index Distribution\",\"Body Mass Index Distribution\",\"Body Mass Index Distribution\",\"Body Mass Index Distribution\",\"Body Mass Index Distribution\",\"Body Mass Index Distribution\",\"Body Mass Index Distribution\",\"Body Mass Index Distribution\",\"Body Mass Index Distribution\",\"Body Mass Index Distribution\",\"Body Mass Index Distribution\",\"Body Mass Index Distribution\",\"Body Mass Index Distribution\",\"Body Mass Index Distribution\",\"Body Mass Index Distribution\",\"Body Mass Index Distribution\",\"Body Mass Index Distribution\",\"Body Mass Index Distribution\",\"Body Mass Index Distribution\",\"Body Mass Index Distribution\",\"Body Mass Index Distribution\",\"Body Mass Index Distribution\",\"Body Mass Index Distribution\",\"Body Mass Index Distribution\",\"Body Mass Index Distribution\",\"Body Mass Index Distribution\",\"Body Mass Index Distribution\",\"Body Mass Index Distribution\",\"Body Mass Index Distribution\",\"Body Mass Index Distribution\",\"Body Mass Index Distribution\",\"Body Mass Index Distribution\",\"Body Mass Index Distribution\",\"Body Mass Index Distribution\",\"Body Mass Index Distribution\",\"Body Mass Index Distribution\",\"Body Mass Index Distribution\",\"Body Mass Index Distribution\",\"Body Mass Index Distribution\",\"Body Mass Index Distribution\",\"Body Mass Index Distribution\",\"Body Mass Index Distribution\",\"Body Mass Index Distribution\",\"Body Mass Index Distribution\",\"Body Mass Index Distribution\",\"Body Mass Index Distribution\",\"Body Mass Index Distribution\",\"Body Mass Index Distribution\",\"Body Mass Index Distribution\",\"Body Mass Index Distribution\",\"Body Mass Index Distribution\",\"Body Mass Index Distribution\",\"Body Mass Index Distribution\",\"Body Mass Index Distribution\",\"Body Mass Index Distribution\",\"Body Mass Index Distribution\",\"Body Mass Index Distribution\",\"Body Mass Index Distribution\",\"Body Mass Index Distribution\",\"Body Mass Index Distribution\",\"Body Mass Index Distribution\",\"Body Mass Index Distribution\",\"Body Mass Index Distribution\",\"Body Mass Index Distribution\",\"Body Mass Index Distribution\",\"Body Mass Index Distribution\",\"Body Mass Index Distribution\",\"Body Mass Index Distribution\",\"Body Mass Index Distribution\",\"Body Mass Index Distribution\",\"Body Mass Index Distribution\",\"Body Mass Index Distribution\",\"Body Mass Index Distribution\",\"Body Mass Index Distribution\",\"Body Mass Index Distribution\",\"Body Mass Index Distribution\",\"Body Mass Index Distribution\",\"Body Mass Index Distribution\",\"Body Mass Index Distribution\",\"Body Mass Index Distribution\",\"Body Mass Index Distribution\",\"Body Mass Index Distribution\",\"Body Mass Index Distribution\",\"Body Mass Index Distribution\",\"Body Mass Index Distribution\",\"Body Mass Index Distribution\",\"Body Mass Index Distribution\",\"Body Mass Index Distribution\",\"Body Mass Index Distribution\",\"Body Mass Index Distribution\",\"Body Mass Index Distribution\",\"Body Mass Index Distribution\",\"Body Mass Index Distribution\",\"Body Mass Index Distribution\",\"Body Mass Index Distribution\",\"Body Mass Index Distribution\",\"Body Mass Index Distribution\",\"Body Mass Index Distribution\",\"Body Mass Index Distribution\",\"Body Mass Index Distribution\",\"Body Mass Index Distribution\",\"Body Mass Index Distribution\",\"Body Mass Index Distribution\",\"Body Mass Index Distribution\",\"Body Mass Index Distribution\",\"Body Mass Index Distribution\",\"Body Mass Index Distribution\",\"Body Mass Index Distribution\",\"Body Mass Index Distribution\",\"Body Mass Index Distribution\",\"Body Mass Index Distribution\",\"Body Mass Index Distribution\",\"Body Mass Index Distribution\",\"Body Mass Index Distribution\",\"Body Mass Index Distribution\",\"Body Mass Index Distribution\",\"Body Mass Index Distribution\",\"Body Mass Index Distribution\",\"Body Mass Index Distribution\",\"Body Mass Index Distribution\",\"Body Mass Index Distribution\",\"Body Mass Index Distribution\",\"Body Mass Index Distribution\",\"Body Mass Index Distribution\",\"Body Mass Index Distribution\",\"Body Mass Index Distribution\",\"Body Mass Index Distribution\",\"Body Mass Index Distribution\",\"Body Mass Index Distribution\",\"Body Mass Index Distribution\",\"Body Mass Index Distribution\",\"Body Mass Index Distribution\",\"Body Mass Index Distribution\",\"Body Mass Index Distribution\",\"Body Mass Index Distribution\",\"Body Mass Index Distribution\",\"Body Mass Index Distribution\",\"Body Mass Index Distribution\",\"Body Mass Index Distribution\",\"Body Mass Index Distribution\",\"Body Mass Index Distribution\",\"Body Mass Index Distribution\",\"Body Mass Index Distribution\",\"Body Mass Index Distribution\",\"Body Mass Index Distribution\",\"Body Mass Index Distribution\",\"Body Mass Index Distribution\",\"Body Mass Index Distribution\",\"Body Mass Index Distribution\",\"Body Mass Index Distribution\",\"Body Mass Index Distribution\",\"Body Mass Index Distribution\",\"Body Mass Index Distribution\",\"Body Mass Index Distribution\",\"Body Mass Index Distribution\",\"Body Mass Index Distribution\",\"Body Mass Index Distribution\",\"Body Mass Index Distribution\",\"Body Mass Index Distribution\",\"Body Mass Index Distribution\",\"Body Mass Index Distribution\",\"Body Mass Index Distribution\",\"Body Mass Index Distribution\",\"Body Mass Index Distribution\",\"Body Mass Index Distribution\",\"Body Mass Index Distribution\",\"Body Mass Index Distribution\",\"Body Mass Index Distribution\",\"Body Mass Index Distribution\",\"Body Mass Index Distribution\",\"Body Mass Index Distribution\",\"Body Mass Index Distribution\",\"Body Mass Index Distribution\",\"Body Mass Index Distribution\",\"Body Mass Index Distribution\",\"Body Mass Index Distribution\",\"Body Mass Index Distribution\",\"Body Mass Index Distribution\",\"Body Mass Index Distribution\",\"Body Mass Index Distribution\",\"Body Mass Index Distribution\",\"Body Mass Index Distribution\",\"Body Mass Index Distribution\",\"Body Mass Index Distribution\",\"Body Mass Index Distribution\",\"Body Mass Index Distribution\",\"Body Mass Index Distribution\",\"Body Mass Index Distribution\",\"Body Mass Index Distribution\",\"Body Mass Index Distribution\",\"Body Mass Index Distribution\",\"Body Mass Index Distribution\",\"Body Mass Index Distribution\",\"Body Mass Index Distribution\",\"Body Mass Index Distribution\",\"Body Mass Index Distribution\",\"Body Mass Index Distribution\",\"Body Mass Index Distribution\",\"Body Mass Index Distribution\",\"Body Mass Index Distribution\",\"Body Mass Index Distribution\",\"Body Mass Index Distribution\",\"Body Mass Index Distribution\",\"Body Mass Index Distribution\",\"Body Mass Index Distribution\",\"Body Mass Index Distribution\",\"Body Mass Index Distribution\",\"Body Mass Index Distribution\",\"Body Mass Index Distribution\",\"Body Mass Index Distribution\",\"Body Mass Index Distribution\",\"Body Mass Index Distribution\",\"Body Mass Index Distribution\",\"Body Mass Index Distribution\",\"Body Mass Index Distribution\",\"Body Mass Index Distribution\",\"Body Mass Index Distribution\",\"Body Mass Index Distribution\",\"Body Mass Index Distribution\",\"Body Mass Index Distribution\",\"Body Mass Index Distribution\",\"Body Mass Index Distribution\",\"Body Mass Index Distribution\",\"Body Mass Index Distribution\",\"Body Mass Index Distribution\",\"Body Mass Index Distribution\",\"Body Mass Index Distribution\",\"Body Mass Index Distribution\",\"Body Mass Index Distribution\",\"Body Mass Index Distribution\",\"Body Mass Index Distribution\",\"Body Mass Index Distribution\",\"Body Mass Index Distribution\",\"Body Mass Index Distribution\",\"Body Mass Index Distribution\",\"Body Mass Index Distribution\",\"Body Mass Index Distribution\",\"Body Mass Index Distribution\",\"Body Mass Index Distribution\",\"Body Mass Index Distribution\",\"Body Mass Index Distribution\",\"Body Mass Index Distribution\",\"Body Mass Index Distribution\",\"Body Mass Index Distribution\",\"Body Mass Index Distribution\",\"Body Mass Index Distribution\",\"Body Mass Index Distribution\",\"Body Mass Index Distribution\",\"Body Mass Index Distribution\",\"Body Mass Index Distribution\",\"Body Mass Index Distribution\",\"Body Mass Index Distribution\",\"Body Mass Index Distribution\",\"Body Mass Index Distribution\",\"Body Mass Index Distribution\",\"Body Mass Index Distribution\",\"Body Mass Index Distribution\",\"Body Mass Index Distribution\",\"Body Mass Index Distribution\",\"Body Mass Index Distribution\",\"Body Mass Index Distribution\",\"Body Mass Index Distribution\",\"Body Mass Index Distribution\",\"Body Mass Index Distribution\",\"Body Mass Index Distribution\",\"Body Mass Index Distribution\",\"Body Mass Index Distribution\",\"Body Mass Index Distribution\",\"Body Mass Index Distribution\",\"Body Mass Index Distribution\",\"Body Mass Index Distribution\",\"Body Mass Index Distribution\",\"Body Mass Index Distribution\",\"Body Mass Index Distribution\",\"Body Mass Index Distribution\",\"Body Mass Index Distribution\",\"Body Mass Index Distribution\",\"Body Mass Index Distribution\",\"Body Mass Index Distribution\",\"Body Mass Index Distribution\",\"Body Mass Index Distribution\",\"Body Mass Index Distribution\",\"Body Mass Index Distribution\",\"Body Mass Index Distribution\",\"Body Mass Index Distribution\",\"Body Mass Index Distribution\",\"Body Mass Index Distribution\",\"Body Mass Index Distribution\",\"Body Mass Index Distribution\",\"Body Mass Index Distribution\",\"Body Mass Index Distribution\",\"Body Mass Index Distribution\",\"Body Mass Index Distribution\",\"Body Mass Index Distribution\",\"Body Mass Index Distribution\",\"Body Mass Index Distribution\",\"Body Mass Index Distribution\",\"Body Mass Index Distribution\",\"Body Mass Index Distribution\",\"Body Mass Index Distribution\",\"Body Mass Index Distribution\",\"Body Mass Index Distribution\",\"Body Mass Index Distribution\",\"Body Mass Index Distribution\",\"Body Mass Index Distribution\",\"Body Mass Index Distribution\",\"Body Mass Index Distribution\",\"Body Mass Index Distribution\",\"Body Mass Index Distribution\",\"Body Mass Index Distribution\",\"Body Mass Index Distribution\",\"Body Mass Index Distribution\",\"Body Mass Index Distribution\",\"Body Mass Index Distribution\",\"Body Mass Index Distribution\",\"Body Mass Index Distribution\",\"Body Mass Index Distribution\",\"Body Mass Index Distribution\",\"Body Mass Index Distribution\",\"Body Mass Index Distribution\",\"Body Mass Index Distribution\",\"Body Mass Index Distribution\",\"Body Mass Index Distribution\",\"Body Mass Index Distribution\",\"Body Mass Index Distribution\",\"Body Mass Index Distribution\",\"Body Mass Index Distribution\",\"Body Mass Index Distribution\",\"Body Mass Index Distribution\",\"Body Mass Index Distribution\",\"Body Mass Index Distribution\",\"Body Mass Index Distribution\",\"Body Mass Index Distribution\",\"Body Mass Index Distribution\",\"Body Mass Index Distribution\",\"Body Mass Index Distribution\",\"Body Mass Index Distribution\",\"Body Mass Index Distribution\",\"Body Mass Index Distribution\",\"Body Mass Index Distribution\",\"Body Mass Index Distribution\",\"Body Mass Index Distribution\",\"Body Mass Index Distribution\",\"Body Mass Index Distribution\",\"Body Mass Index Distribution\",\"Body Mass Index Distribution\",\"Body Mass Index Distribution\",\"Body Mass Index Distribution\",\"Body Mass Index Distribution\",\"Body Mass Index Distribution\",\"Body Mass Index Distribution\",\"Body Mass Index Distribution\",\"Body Mass Index Distribution\",\"Body Mass Index Distribution\",\"Body Mass Index Distribution\",\"Body Mass Index Distribution\",\"Body Mass Index Distribution\",\"Body Mass Index Distribution\",\"Body Mass Index Distribution\",\"Body Mass Index Distribution\",\"Body Mass Index Distribution\",\"Body Mass Index Distribution\",\"Body Mass Index Distribution\",\"Body Mass Index Distribution\",\"Body Mass Index Distribution\",\"Body Mass Index Distribution\",\"Body Mass Index Distribution\",\"Body Mass Index Distribution\",\"Body Mass Index Distribution\",\"Body Mass Index Distribution\",\"Body Mass Index Distribution\",\"Body Mass Index Distribution\",\"Body Mass Index Distribution\",\"Body Mass Index Distribution\",\"Body Mass Index Distribution\",\"Body Mass Index Distribution\",\"Body Mass Index Distribution\",\"Body Mass Index Distribution\",\"Body Mass Index Distribution\",\"Body Mass Index Distribution\",\"Body Mass Index Distribution\",\"Body Mass Index Distribution\",\"Body Mass Index Distribution\",\"Body Mass Index Distribution\",\"Body Mass Index Distribution\",\"Body Mass Index Distribution\",\"Body Mass Index Distribution\",\"Body Mass Index Distribution\",\"Body Mass Index Distribution\",\"Body Mass Index Distribution\",\"Body Mass Index Distribution\",\"Body Mass Index Distribution\",\"Body Mass Index Distribution\",\"Body Mass Index Distribution\",\"Body Mass Index Distribution\",\"Body Mass Index Distribution\",\"Body Mass Index Distribution\",\"Body Mass Index Distribution\",\"Body Mass Index Distribution\",\"Body Mass Index Distribution\",\"Body Mass Index Distribution\",\"Body Mass Index Distribution\",\"Body Mass Index Distribution\",\"Body Mass Index Distribution\",\"Body Mass Index Distribution\",\"Body Mass Index Distribution\",\"Body Mass Index Distribution\",\"Body Mass Index Distribution\",\"Body Mass Index Distribution\",\"Body Mass Index Distribution\",\"Body Mass Index Distribution\",\"Body Mass Index Distribution\",\"Body Mass Index Distribution\",\"Body Mass Index Distribution\",\"Body Mass Index Distribution\",\"Body Mass Index Distribution\",\"Body Mass Index Distribution\",\"Body Mass Index Distribution\",\"Body Mass Index Distribution\",\"Body Mass Index Distribution\",\"Body Mass Index Distribution\",\"Body Mass Index Distribution\",\"Body Mass Index Distribution\",\"Body Mass Index Distribution\",\"Body Mass Index Distribution\",\"Body Mass Index Distribution\",\"Body Mass Index Distribution\",\"Body Mass Index Distribution\",\"Body Mass Index Distribution\",\"Body Mass Index Distribution\",\"Body Mass Index Distribution\",\"Body Mass Index Distribution\",\"Body Mass Index Distribution\",\"Body Mass Index Distribution\",\"Body Mass Index Distribution\",\"Body Mass Index Distribution\",\"Body Mass Index Distribution\",\"Body Mass Index Distribution\",\"Body Mass Index Distribution\",\"Body Mass Index Distribution\",\"Body Mass Index Distribution\",\"Body Mass Index Distribution\",\"Body Mass Index Distribution\",\"Body Mass Index Distribution\",\"Body Mass Index Distribution\",\"Body Mass Index Distribution\",\"Body Mass Index Distribution\",\"Body Mass Index Distribution\",\"Body Mass Index Distribution\",\"Body Mass Index Distribution\",\"Body Mass Index Distribution\",\"Body Mass Index Distribution\",\"Body Mass Index Distribution\",\"Body Mass Index Distribution\",\"Body Mass Index Distribution\",\"Body Mass Index Distribution\",\"Body Mass Index Distribution\",\"Body Mass Index Distribution\",\"Body Mass Index Distribution\",\"Body Mass Index Distribution\",\"Body Mass Index Distribution\",\"Body Mass Index Distribution\",\"Body Mass Index Distribution\",\"Body Mass Index Distribution\",\"Body Mass Index Distribution\",\"Body Mass Index Distribution\",\"Body Mass Index Distribution\",\"Body Mass Index Distribution\",\"Body Mass Index Distribution\",\"Body Mass Index Distribution\",\"Body Mass Index Distribution\",\"Body Mass Index Distribution\",\"Body Mass Index Distribution\",\"Body Mass Index Distribution\",\"Body Mass Index Distribution\",\"Body Mass Index Distribution\",\"Body Mass Index Distribution\",\"Body Mass Index Distribution\",\"Body Mass Index Distribution\",\"Body Mass Index Distribution\",\"Body Mass Index Distribution\",\"Body Mass Index Distribution\",\"Body Mass Index Distribution\",\"Body Mass Index Distribution\",\"Body Mass Index Distribution\",\"Body Mass Index Distribution\",\"Body Mass Index Distribution\",\"Body Mass Index Distribution\",\"Body Mass Index Distribution\",\"Body Mass Index Distribution\",\"Body Mass Index Distribution\",\"Body Mass Index Distribution\",\"Body Mass Index Distribution\",\"Body Mass Index Distribution\",\"Body Mass Index Distribution\",\"Body Mass Index Distribution\",\"Body Mass Index Distribution\",\"Body Mass Index Distribution\",\"Body Mass Index Distribution\",\"Body Mass Index Distribution\",\"Body Mass Index Distribution\",\"Body Mass Index Distribution\",\"Body Mass Index Distribution\",\"Body Mass Index Distribution\",\"Body Mass Index Distribution\",\"Body Mass Index Distribution\",\"Body Mass Index Distribution\",\"Body Mass Index Distribution\",\"Body Mass Index Distribution\",\"Body Mass Index Distribution\",\"Body Mass Index Distribution\",\"Body Mass Index Distribution\",\"Body Mass Index Distribution\",\"Body Mass Index Distribution\",\"Body Mass Index Distribution\",\"Body Mass Index Distribution\",\"Body Mass Index Distribution\",\"Body Mass Index Distribution\",\"Body Mass Index Distribution\",\"Body Mass Index Distribution\",\"Body Mass Index Distribution\",\"Body Mass Index Distribution\",\"Body Mass Index Distribution\",\"Body Mass Index Distribution\",\"Body Mass Index Distribution\",\"Body Mass Index Distribution\",\"Body Mass Index Distribution\",\"Body Mass Index Distribution\",\"Body Mass Index Distribution\",\"Body Mass Index Distribution\",\"Body Mass Index Distribution\",\"Body Mass Index Distribution\",\"Body Mass Index Distribution\",\"Body Mass Index Distribution\",\"Body Mass Index Distribution\",\"Body Mass Index Distribution\",\"Body Mass Index Distribution\",\"Body Mass Index Distribution\",\"Body Mass Index Distribution\",\"Body Mass Index Distribution\",\"Body Mass Index Distribution\",\"Body Mass Index Distribution\",\"Body Mass Index Distribution\",\"Body Mass Index Distribution\",\"Body Mass Index Distribution\",\"Body Mass Index Distribution\",\"Body Mass Index Distribution\",\"Body Mass Index Distribution\",\"Body Mass Index Distribution\",\"Body Mass Index Distribution\",\"Body Mass Index Distribution\",\"Body Mass Index Distribution\",\"Body Mass Index Distribution\",\"Body Mass Index Distribution\",\"Body Mass Index Distribution\",\"Body Mass Index Distribution\",\"Body Mass Index Distribution\",\"Body Mass Index Distribution\",\"Body Mass Index Distribution\",\"Body Mass Index Distribution\",\"Body Mass Index Distribution\"],\"yaxis\":\"y2\",\"type\":\"scatter\"}],                        {\"barmode\":\"overlay\",\"hovermode\":\"closest\",\"legend\":{\"traceorder\":\"reversed\"},\"template\":{\"data\":{\"barpolar\":[{\"marker\":{\"line\":{\"color\":\"#E5ECF6\",\"width\":0.5},\"pattern\":{\"fillmode\":\"overlay\",\"size\":10,\"solidity\":0.2}},\"type\":\"barpolar\"}],\"bar\":[{\"error_x\":{\"color\":\"#2a3f5f\"},\"error_y\":{\"color\":\"#2a3f5f\"},\"marker\":{\"line\":{\"color\":\"#E5ECF6\",\"width\":0.5},\"pattern\":{\"fillmode\":\"overlay\",\"size\":10,\"solidity\":0.2}},\"type\":\"bar\"}],\"carpet\":[{\"aaxis\":{\"endlinecolor\":\"#2a3f5f\",\"gridcolor\":\"white\",\"linecolor\":\"white\",\"minorgridcolor\":\"white\",\"startlinecolor\":\"#2a3f5f\"},\"baxis\":{\"endlinecolor\":\"#2a3f5f\",\"gridcolor\":\"white\",\"linecolor\":\"white\",\"minorgridcolor\":\"white\",\"startlinecolor\":\"#2a3f5f\"},\"type\":\"carpet\"}],\"choropleth\":[{\"colorbar\":{\"outlinewidth\":0,\"ticks\":\"\"},\"type\":\"choropleth\"}],\"contourcarpet\":[{\"colorbar\":{\"outlinewidth\":0,\"ticks\":\"\"},\"type\":\"contourcarpet\"}],\"contour\":[{\"colorbar\":{\"outlinewidth\":0,\"ticks\":\"\"},\"colorscale\":[[0.0,\"#0d0887\"],[0.1111111111111111,\"#46039f\"],[0.2222222222222222,\"#7201a8\"],[0.3333333333333333,\"#9c179e\"],[0.4444444444444444,\"#bd3786\"],[0.5555555555555556,\"#d8576b\"],[0.6666666666666666,\"#ed7953\"],[0.7777777777777778,\"#fb9f3a\"],[0.8888888888888888,\"#fdca26\"],[1.0,\"#f0f921\"]],\"type\":\"contour\"}],\"heatmap\":[{\"colorbar\":{\"outlinewidth\":0,\"ticks\":\"\"},\"colorscale\":[[0.0,\"#0d0887\"],[0.1111111111111111,\"#46039f\"],[0.2222222222222222,\"#7201a8\"],[0.3333333333333333,\"#9c179e\"],[0.4444444444444444,\"#bd3786\"],[0.5555555555555556,\"#d8576b\"],[0.6666666666666666,\"#ed7953\"],[0.7777777777777778,\"#fb9f3a\"],[0.8888888888888888,\"#fdca26\"],[1.0,\"#f0f921\"]],\"type\":\"heatmap\"}],\"histogram2dcontour\":[{\"colorbar\":{\"outlinewidth\":0,\"ticks\":\"\"},\"colorscale\":[[0.0,\"#0d0887\"],[0.1111111111111111,\"#46039f\"],[0.2222222222222222,\"#7201a8\"],[0.3333333333333333,\"#9c179e\"],[0.4444444444444444,\"#bd3786\"],[0.5555555555555556,\"#d8576b\"],[0.6666666666666666,\"#ed7953\"],[0.7777777777777778,\"#fb9f3a\"],[0.8888888888888888,\"#fdca26\"],[1.0,\"#f0f921\"]],\"type\":\"histogram2dcontour\"}],\"histogram2d\":[{\"colorbar\":{\"outlinewidth\":0,\"ticks\":\"\"},\"colorscale\":[[0.0,\"#0d0887\"],[0.1111111111111111,\"#46039f\"],[0.2222222222222222,\"#7201a8\"],[0.3333333333333333,\"#9c179e\"],[0.4444444444444444,\"#bd3786\"],[0.5555555555555556,\"#d8576b\"],[0.6666666666666666,\"#ed7953\"],[0.7777777777777778,\"#fb9f3a\"],[0.8888888888888888,\"#fdca26\"],[1.0,\"#f0f921\"]],\"type\":\"histogram2d\"}],\"histogram\":[{\"marker\":{\"pattern\":{\"fillmode\":\"overlay\",\"size\":10,\"solidity\":0.2}},\"type\":\"histogram\"}],\"mesh3d\":[{\"colorbar\":{\"outlinewidth\":0,\"ticks\":\"\"},\"type\":\"mesh3d\"}],\"parcoords\":[{\"line\":{\"colorbar\":{\"outlinewidth\":0,\"ticks\":\"\"}},\"type\":\"parcoords\"}],\"pie\":[{\"automargin\":true,\"type\":\"pie\"}],\"scatter3d\":[{\"line\":{\"colorbar\":{\"outlinewidth\":0,\"ticks\":\"\"}},\"marker\":{\"colorbar\":{\"outlinewidth\":0,\"ticks\":\"\"}},\"type\":\"scatter3d\"}],\"scattercarpet\":[{\"marker\":{\"colorbar\":{\"outlinewidth\":0,\"ticks\":\"\"}},\"type\":\"scattercarpet\"}],\"scattergeo\":[{\"marker\":{\"colorbar\":{\"outlinewidth\":0,\"ticks\":\"\"}},\"type\":\"scattergeo\"}],\"scattergl\":[{\"marker\":{\"colorbar\":{\"outlinewidth\":0,\"ticks\":\"\"}},\"type\":\"scattergl\"}],\"scattermapbox\":[{\"marker\":{\"colorbar\":{\"outlinewidth\":0,\"ticks\":\"\"}},\"type\":\"scattermapbox\"}],\"scattermap\":[{\"marker\":{\"colorbar\":{\"outlinewidth\":0,\"ticks\":\"\"}},\"type\":\"scattermap\"}],\"scatterpolargl\":[{\"marker\":{\"colorbar\":{\"outlinewidth\":0,\"ticks\":\"\"}},\"type\":\"scatterpolargl\"}],\"scatterpolar\":[{\"marker\":{\"colorbar\":{\"outlinewidth\":0,\"ticks\":\"\"}},\"type\":\"scatterpolar\"}],\"scatter\":[{\"fillpattern\":{\"fillmode\":\"overlay\",\"size\":10,\"solidity\":0.2},\"type\":\"scatter\"}],\"scatterternary\":[{\"marker\":{\"colorbar\":{\"outlinewidth\":0,\"ticks\":\"\"}},\"type\":\"scatterternary\"}],\"surface\":[{\"colorbar\":{\"outlinewidth\":0,\"ticks\":\"\"},\"colorscale\":[[0.0,\"#0d0887\"],[0.1111111111111111,\"#46039f\"],[0.2222222222222222,\"#7201a8\"],[0.3333333333333333,\"#9c179e\"],[0.4444444444444444,\"#bd3786\"],[0.5555555555555556,\"#d8576b\"],[0.6666666666666666,\"#ed7953\"],[0.7777777777777778,\"#fb9f3a\"],[0.8888888888888888,\"#fdca26\"],[1.0,\"#f0f921\"]],\"type\":\"surface\"}],\"table\":[{\"cells\":{\"fill\":{\"color\":\"#EBF0F8\"},\"line\":{\"color\":\"white\"}},\"header\":{\"fill\":{\"color\":\"#C8D4E3\"},\"line\":{\"color\":\"white\"}},\"type\":\"table\"}]},\"layout\":{\"annotationdefaults\":{\"arrowcolor\":\"#2a3f5f\",\"arrowhead\":0,\"arrowwidth\":1},\"autotypenumbers\":\"strict\",\"coloraxis\":{\"colorbar\":{\"outlinewidth\":0,\"ticks\":\"\"}},\"colorscale\":{\"diverging\":[[0,\"#8e0152\"],[0.1,\"#c51b7d\"],[0.2,\"#de77ae\"],[0.3,\"#f1b6da\"],[0.4,\"#fde0ef\"],[0.5,\"#f7f7f7\"],[0.6,\"#e6f5d0\"],[0.7,\"#b8e186\"],[0.8,\"#7fbc41\"],[0.9,\"#4d9221\"],[1,\"#276419\"]],\"sequential\":[[0.0,\"#0d0887\"],[0.1111111111111111,\"#46039f\"],[0.2222222222222222,\"#7201a8\"],[0.3333333333333333,\"#9c179e\"],[0.4444444444444444,\"#bd3786\"],[0.5555555555555556,\"#d8576b\"],[0.6666666666666666,\"#ed7953\"],[0.7777777777777778,\"#fb9f3a\"],[0.8888888888888888,\"#fdca26\"],[1.0,\"#f0f921\"]],\"sequentialminus\":[[0.0,\"#0d0887\"],[0.1111111111111111,\"#46039f\"],[0.2222222222222222,\"#7201a8\"],[0.3333333333333333,\"#9c179e\"],[0.4444444444444444,\"#bd3786\"],[0.5555555555555556,\"#d8576b\"],[0.6666666666666666,\"#ed7953\"],[0.7777777777777778,\"#fb9f3a\"],[0.8888888888888888,\"#fdca26\"],[1.0,\"#f0f921\"]]},\"colorway\":[\"#636efa\",\"#EF553B\",\"#00cc96\",\"#ab63fa\",\"#FFA15A\",\"#19d3f3\",\"#FF6692\",\"#B6E880\",\"#FF97FF\",\"#FECB52\"],\"font\":{\"color\":\"#2a3f5f\"},\"geo\":{\"bgcolor\":\"white\",\"lakecolor\":\"white\",\"landcolor\":\"#E5ECF6\",\"showlakes\":true,\"showland\":true,\"subunitcolor\":\"white\"},\"hoverlabel\":{\"align\":\"left\"},\"hovermode\":\"closest\",\"mapbox\":{\"style\":\"light\"},\"paper_bgcolor\":\"white\",\"plot_bgcolor\":\"#E5ECF6\",\"polar\":{\"angularaxis\":{\"gridcolor\":\"white\",\"linecolor\":\"white\",\"ticks\":\"\"},\"bgcolor\":\"#E5ECF6\",\"radialaxis\":{\"gridcolor\":\"white\",\"linecolor\":\"white\",\"ticks\":\"\"}},\"scene\":{\"xaxis\":{\"backgroundcolor\":\"#E5ECF6\",\"gridcolor\":\"white\",\"gridwidth\":2,\"linecolor\":\"white\",\"showbackground\":true,\"ticks\":\"\",\"zerolinecolor\":\"white\"},\"yaxis\":{\"backgroundcolor\":\"#E5ECF6\",\"gridcolor\":\"white\",\"gridwidth\":2,\"linecolor\":\"white\",\"showbackground\":true,\"ticks\":\"\",\"zerolinecolor\":\"white\"},\"zaxis\":{\"backgroundcolor\":\"#E5ECF6\",\"gridcolor\":\"white\",\"gridwidth\":2,\"linecolor\":\"white\",\"showbackground\":true,\"ticks\":\"\",\"zerolinecolor\":\"white\"}},\"shapedefaults\":{\"line\":{\"color\":\"#2a3f5f\"}},\"ternary\":{\"aaxis\":{\"gridcolor\":\"white\",\"linecolor\":\"white\",\"ticks\":\"\"},\"baxis\":{\"gridcolor\":\"white\",\"linecolor\":\"white\",\"ticks\":\"\"},\"bgcolor\":\"#E5ECF6\",\"caxis\":{\"gridcolor\":\"white\",\"linecolor\":\"white\",\"ticks\":\"\"}},\"title\":{\"x\":0.05},\"xaxis\":{\"automargin\":true,\"gridcolor\":\"white\",\"linecolor\":\"white\",\"ticks\":\"\",\"title\":{\"standoff\":15},\"zerolinecolor\":\"white\",\"zerolinewidth\":2},\"yaxis\":{\"automargin\":true,\"gridcolor\":\"white\",\"linecolor\":\"white\",\"ticks\":\"\",\"title\":{\"standoff\":15},\"zerolinecolor\":\"white\",\"zerolinewidth\":2}}},\"title\":{\"text\":\"Normal Distribution\"},\"xaxis\":{\"anchor\":\"y2\",\"domain\":[0.0,1.0],\"zeroline\":false},\"yaxis\":{\"anchor\":\"free\",\"domain\":[0.35,1],\"position\":0.0},\"yaxis2\":{\"anchor\":\"x\",\"domain\":[0,0.25],\"dtick\":1,\"showticklabels\":false}},                        {\"responsive\": true}                    ).then(function(){\n",
       "                            \n",
       "var gd = document.getElementById('cba12929-b610-4157-ad2f-fc4e951e96d2');\n",
       "var x = new MutationObserver(function (mutations, observer) {{\n",
       "        var display = window.getComputedStyle(gd).display;\n",
       "        if (!display || display === 'none') {{\n",
       "            console.log([gd, 'removed!']);\n",
       "            Plotly.purge(gd);\n",
       "            observer.disconnect();\n",
       "        }}\n",
       "}});\n",
       "\n",
       "// Listen for the removal of the full notebook cells\n",
       "var notebookContainer = gd.closest('#notebook-container');\n",
       "if (notebookContainer) {{\n",
       "    x.observe(notebookContainer, {childList: true});\n",
       "}}\n",
       "\n",
       "// Listen for the clearing of the current output cell\n",
       "var outputEl = gd.closest('.output');\n",
       "if (outputEl) {{\n",
       "    x.observe(outputEl, {childList: true});\n",
       "}}\n",
       "\n",
       "                        })                };            </script>        </div>"
      ]
     },
     "metadata": {},
     "output_type": "display_data"
    }
   ],
   "source": [
    "bmi = [df[\"bmi\"].values.tolist()]\n",
    "group_labels = ['Body Mass Index Distribution']\n",
    "\n",
    "colors = ['#FA5858']\n",
    "\n",
    "fig = ff.create_distplot(bmi, group_labels, colors=colors)\n",
    "# Add title\n",
    "fig['layout'].update(title='Normal Distribution')\n",
    "\n",
    "iplot(fig, filename='Basic Distplot')"
   ]
  },
  {
   "cell_type": "code",
   "execution_count": 6,
   "metadata": {
    "_kg_hide-input": true,
    "_uuid": "0bab9ea41fac06a7746bafe22790ae600241b7cc",
    "trusted": true
   },
   "outputs": [
    {
     "data": {
      "application/vnd.plotly.v1+json": {
       "config": {
        "linkText": "Export to plot.ly",
        "plotlyServerURL": "https://plot.ly",
        "showLink": false
       },
       "data": [
        {
         "colorscale": [
          [
           0,
           "#440154"
          ],
          [
           0.1111111111111111,
           "#482878"
          ],
          [
           0.2222222222222222,
           "#3e4989"
          ],
          [
           0.3333333333333333,
           "#31688e"
          ],
          [
           0.4444444444444444,
           "#26828e"
          ],
          [
           0.5555555555555556,
           "#1f9e89"
          ],
          [
           0.6666666666666666,
           "#35b779"
          ],
          [
           0.7777777777777778,
           "#6ece58"
          ],
          [
           0.8888888888888888,
           "#b5de2b"
          ],
          [
           1,
           "#fde725"
          ]
         ],
         "hoverinfo": "text",
         "text": {
          "bdata": "AAAAAAAA8D96k5/1Pfm7PyPqzh9/vqU/3tXlQvMi0z/OM4+NB7SRv3qTn/U9+bs/AAAAAAAA8D9Cxg+uViGKP1p3TKM8Y8k/7NbOSirUyD8j6s4ff76lP0LGD65WIYo/AAAAAAAA8D/za3/wVGixPy2Xt8eBWKS/3tXlQvMi0z9ad0yjPGPJP/Nrf/BUaLE/AAAAAAAA8D8DCoDh6lipP84zj40HtJG/7NbOSirUyD8tl7fHgVikvwMKgOHqWKk/AAAAAAAA8D8=",
          "dtype": "f8",
          "shape": "5, 5"
         },
         "type": "heatmap",
         "x": [
          "age",
          "bmi",
          "children",
          "charges",
          "AQI"
         ],
         "y": [
          "age",
          "bmi",
          "children",
          "charges",
          "AQI"
         ],
         "z": {
          "bdata": "AAAAAAAA8D96k5/1Pfm7PyPqzh9/vqU/3tXlQvMi0z/OM4+NB7SRv3qTn/U9+bs/AAAAAAAA8D9Cxg+uViGKP1p3TKM8Y8k/7NbOSirUyD8j6s4ff76lP0LGD65WIYo/AAAAAAAA8D/za3/wVGixPy2Xt8eBWKS/3tXlQvMi0z9ad0yjPGPJP/Nrf/BUaLE/AAAAAAAA8D8DCoDh6lipP84zj40HtJG/7NbOSirUyD8tl7fHgVikvwMKgOHqWKk/AAAAAAAA8D8=",
          "dtype": "f8",
          "shape": "5, 5"
         },
         "zmax": 1,
         "zmin": -1
        }
       ],
       "layout": {
        "template": {
         "data": {
          "bar": [
           {
            "error_x": {
             "color": "#2a3f5f"
            },
            "error_y": {
             "color": "#2a3f5f"
            },
            "marker": {
             "line": {
              "color": "#E5ECF6",
              "width": 0.5
             },
             "pattern": {
              "fillmode": "overlay",
              "size": 10,
              "solidity": 0.2
             }
            },
            "type": "bar"
           }
          ],
          "barpolar": [
           {
            "marker": {
             "line": {
              "color": "#E5ECF6",
              "width": 0.5
             },
             "pattern": {
              "fillmode": "overlay",
              "size": 10,
              "solidity": 0.2
             }
            },
            "type": "barpolar"
           }
          ],
          "carpet": [
           {
            "aaxis": {
             "endlinecolor": "#2a3f5f",
             "gridcolor": "white",
             "linecolor": "white",
             "minorgridcolor": "white",
             "startlinecolor": "#2a3f5f"
            },
            "baxis": {
             "endlinecolor": "#2a3f5f",
             "gridcolor": "white",
             "linecolor": "white",
             "minorgridcolor": "white",
             "startlinecolor": "#2a3f5f"
            },
            "type": "carpet"
           }
          ],
          "choropleth": [
           {
            "colorbar": {
             "outlinewidth": 0,
             "ticks": ""
            },
            "type": "choropleth"
           }
          ],
          "contour": [
           {
            "colorbar": {
             "outlinewidth": 0,
             "ticks": ""
            },
            "colorscale": [
             [
              0,
              "#0d0887"
             ],
             [
              0.1111111111111111,
              "#46039f"
             ],
             [
              0.2222222222222222,
              "#7201a8"
             ],
             [
              0.3333333333333333,
              "#9c179e"
             ],
             [
              0.4444444444444444,
              "#bd3786"
             ],
             [
              0.5555555555555556,
              "#d8576b"
             ],
             [
              0.6666666666666666,
              "#ed7953"
             ],
             [
              0.7777777777777778,
              "#fb9f3a"
             ],
             [
              0.8888888888888888,
              "#fdca26"
             ],
             [
              1,
              "#f0f921"
             ]
            ],
            "type": "contour"
           }
          ],
          "contourcarpet": [
           {
            "colorbar": {
             "outlinewidth": 0,
             "ticks": ""
            },
            "type": "contourcarpet"
           }
          ],
          "heatmap": [
           {
            "colorbar": {
             "outlinewidth": 0,
             "ticks": ""
            },
            "colorscale": [
             [
              0,
              "#0d0887"
             ],
             [
              0.1111111111111111,
              "#46039f"
             ],
             [
              0.2222222222222222,
              "#7201a8"
             ],
             [
              0.3333333333333333,
              "#9c179e"
             ],
             [
              0.4444444444444444,
              "#bd3786"
             ],
             [
              0.5555555555555556,
              "#d8576b"
             ],
             [
              0.6666666666666666,
              "#ed7953"
             ],
             [
              0.7777777777777778,
              "#fb9f3a"
             ],
             [
              0.8888888888888888,
              "#fdca26"
             ],
             [
              1,
              "#f0f921"
             ]
            ],
            "type": "heatmap"
           }
          ],
          "histogram": [
           {
            "marker": {
             "pattern": {
              "fillmode": "overlay",
              "size": 10,
              "solidity": 0.2
             }
            },
            "type": "histogram"
           }
          ],
          "histogram2d": [
           {
            "colorbar": {
             "outlinewidth": 0,
             "ticks": ""
            },
            "colorscale": [
             [
              0,
              "#0d0887"
             ],
             [
              0.1111111111111111,
              "#46039f"
             ],
             [
              0.2222222222222222,
              "#7201a8"
             ],
             [
              0.3333333333333333,
              "#9c179e"
             ],
             [
              0.4444444444444444,
              "#bd3786"
             ],
             [
              0.5555555555555556,
              "#d8576b"
             ],
             [
              0.6666666666666666,
              "#ed7953"
             ],
             [
              0.7777777777777778,
              "#fb9f3a"
             ],
             [
              0.8888888888888888,
              "#fdca26"
             ],
             [
              1,
              "#f0f921"
             ]
            ],
            "type": "histogram2d"
           }
          ],
          "histogram2dcontour": [
           {
            "colorbar": {
             "outlinewidth": 0,
             "ticks": ""
            },
            "colorscale": [
             [
              0,
              "#0d0887"
             ],
             [
              0.1111111111111111,
              "#46039f"
             ],
             [
              0.2222222222222222,
              "#7201a8"
             ],
             [
              0.3333333333333333,
              "#9c179e"
             ],
             [
              0.4444444444444444,
              "#bd3786"
             ],
             [
              0.5555555555555556,
              "#d8576b"
             ],
             [
              0.6666666666666666,
              "#ed7953"
             ],
             [
              0.7777777777777778,
              "#fb9f3a"
             ],
             [
              0.8888888888888888,
              "#fdca26"
             ],
             [
              1,
              "#f0f921"
             ]
            ],
            "type": "histogram2dcontour"
           }
          ],
          "mesh3d": [
           {
            "colorbar": {
             "outlinewidth": 0,
             "ticks": ""
            },
            "type": "mesh3d"
           }
          ],
          "parcoords": [
           {
            "line": {
             "colorbar": {
              "outlinewidth": 0,
              "ticks": ""
             }
            },
            "type": "parcoords"
           }
          ],
          "pie": [
           {
            "automargin": true,
            "type": "pie"
           }
          ],
          "scatter": [
           {
            "fillpattern": {
             "fillmode": "overlay",
             "size": 10,
             "solidity": 0.2
            },
            "type": "scatter"
           }
          ],
          "scatter3d": [
           {
            "line": {
             "colorbar": {
              "outlinewidth": 0,
              "ticks": ""
             }
            },
            "marker": {
             "colorbar": {
              "outlinewidth": 0,
              "ticks": ""
             }
            },
            "type": "scatter3d"
           }
          ],
          "scattercarpet": [
           {
            "marker": {
             "colorbar": {
              "outlinewidth": 0,
              "ticks": ""
             }
            },
            "type": "scattercarpet"
           }
          ],
          "scattergeo": [
           {
            "marker": {
             "colorbar": {
              "outlinewidth": 0,
              "ticks": ""
             }
            },
            "type": "scattergeo"
           }
          ],
          "scattergl": [
           {
            "marker": {
             "colorbar": {
              "outlinewidth": 0,
              "ticks": ""
             }
            },
            "type": "scattergl"
           }
          ],
          "scattermap": [
           {
            "marker": {
             "colorbar": {
              "outlinewidth": 0,
              "ticks": ""
             }
            },
            "type": "scattermap"
           }
          ],
          "scattermapbox": [
           {
            "marker": {
             "colorbar": {
              "outlinewidth": 0,
              "ticks": ""
             }
            },
            "type": "scattermapbox"
           }
          ],
          "scatterpolar": [
           {
            "marker": {
             "colorbar": {
              "outlinewidth": 0,
              "ticks": ""
             }
            },
            "type": "scatterpolar"
           }
          ],
          "scatterpolargl": [
           {
            "marker": {
             "colorbar": {
              "outlinewidth": 0,
              "ticks": ""
             }
            },
            "type": "scatterpolargl"
           }
          ],
          "scatterternary": [
           {
            "marker": {
             "colorbar": {
              "outlinewidth": 0,
              "ticks": ""
             }
            },
            "type": "scatterternary"
           }
          ],
          "surface": [
           {
            "colorbar": {
             "outlinewidth": 0,
             "ticks": ""
            },
            "colorscale": [
             [
              0,
              "#0d0887"
             ],
             [
              0.1111111111111111,
              "#46039f"
             ],
             [
              0.2222222222222222,
              "#7201a8"
             ],
             [
              0.3333333333333333,
              "#9c179e"
             ],
             [
              0.4444444444444444,
              "#bd3786"
             ],
             [
              0.5555555555555556,
              "#d8576b"
             ],
             [
              0.6666666666666666,
              "#ed7953"
             ],
             [
              0.7777777777777778,
              "#fb9f3a"
             ],
             [
              0.8888888888888888,
              "#fdca26"
             ],
             [
              1,
              "#f0f921"
             ]
            ],
            "type": "surface"
           }
          ],
          "table": [
           {
            "cells": {
             "fill": {
              "color": "#EBF0F8"
             },
             "line": {
              "color": "white"
             }
            },
            "header": {
             "fill": {
              "color": "#C8D4E3"
             },
             "line": {
              "color": "white"
             }
            },
            "type": "table"
           }
          ]
         },
         "layout": {
          "annotationdefaults": {
           "arrowcolor": "#2a3f5f",
           "arrowhead": 0,
           "arrowwidth": 1
          },
          "autotypenumbers": "strict",
          "coloraxis": {
           "colorbar": {
            "outlinewidth": 0,
            "ticks": ""
           }
          },
          "colorscale": {
           "diverging": [
            [
             0,
             "#8e0152"
            ],
            [
             0.1,
             "#c51b7d"
            ],
            [
             0.2,
             "#de77ae"
            ],
            [
             0.3,
             "#f1b6da"
            ],
            [
             0.4,
             "#fde0ef"
            ],
            [
             0.5,
             "#f7f7f7"
            ],
            [
             0.6,
             "#e6f5d0"
            ],
            [
             0.7,
             "#b8e186"
            ],
            [
             0.8,
             "#7fbc41"
            ],
            [
             0.9,
             "#4d9221"
            ],
            [
             1,
             "#276419"
            ]
           ],
           "sequential": [
            [
             0,
             "#0d0887"
            ],
            [
             0.1111111111111111,
             "#46039f"
            ],
            [
             0.2222222222222222,
             "#7201a8"
            ],
            [
             0.3333333333333333,
             "#9c179e"
            ],
            [
             0.4444444444444444,
             "#bd3786"
            ],
            [
             0.5555555555555556,
             "#d8576b"
            ],
            [
             0.6666666666666666,
             "#ed7953"
            ],
            [
             0.7777777777777778,
             "#fb9f3a"
            ],
            [
             0.8888888888888888,
             "#fdca26"
            ],
            [
             1,
             "#f0f921"
            ]
           ],
           "sequentialminus": [
            [
             0,
             "#0d0887"
            ],
            [
             0.1111111111111111,
             "#46039f"
            ],
            [
             0.2222222222222222,
             "#7201a8"
            ],
            [
             0.3333333333333333,
             "#9c179e"
            ],
            [
             0.4444444444444444,
             "#bd3786"
            ],
            [
             0.5555555555555556,
             "#d8576b"
            ],
            [
             0.6666666666666666,
             "#ed7953"
            ],
            [
             0.7777777777777778,
             "#fb9f3a"
            ],
            [
             0.8888888888888888,
             "#fdca26"
            ],
            [
             1,
             "#f0f921"
            ]
           ]
          },
          "colorway": [
           "#636efa",
           "#EF553B",
           "#00cc96",
           "#ab63fa",
           "#FFA15A",
           "#19d3f3",
           "#FF6692",
           "#B6E880",
           "#FF97FF",
           "#FECB52"
          ],
          "font": {
           "color": "#2a3f5f"
          },
          "geo": {
           "bgcolor": "white",
           "lakecolor": "white",
           "landcolor": "#E5ECF6",
           "showlakes": true,
           "showland": true,
           "subunitcolor": "white"
          },
          "hoverlabel": {
           "align": "left"
          },
          "hovermode": "closest",
          "mapbox": {
           "style": "light"
          },
          "paper_bgcolor": "white",
          "plot_bgcolor": "#E5ECF6",
          "polar": {
           "angularaxis": {
            "gridcolor": "white",
            "linecolor": "white",
            "ticks": ""
           },
           "bgcolor": "#E5ECF6",
           "radialaxis": {
            "gridcolor": "white",
            "linecolor": "white",
            "ticks": ""
           }
          },
          "scene": {
           "xaxis": {
            "backgroundcolor": "#E5ECF6",
            "gridcolor": "white",
            "gridwidth": 2,
            "linecolor": "white",
            "showbackground": true,
            "ticks": "",
            "zerolinecolor": "white"
           },
           "yaxis": {
            "backgroundcolor": "#E5ECF6",
            "gridcolor": "white",
            "gridwidth": 2,
            "linecolor": "white",
            "showbackground": true,
            "ticks": "",
            "zerolinecolor": "white"
           },
           "zaxis": {
            "backgroundcolor": "#E5ECF6",
            "gridcolor": "white",
            "gridwidth": 2,
            "linecolor": "white",
            "showbackground": true,
            "ticks": "",
            "zerolinecolor": "white"
           }
          },
          "shapedefaults": {
           "line": {
            "color": "#2a3f5f"
           }
          },
          "ternary": {
           "aaxis": {
            "gridcolor": "white",
            "linecolor": "white",
            "ticks": ""
           },
           "baxis": {
            "gridcolor": "white",
            "linecolor": "white",
            "ticks": ""
           },
           "bgcolor": "#E5ECF6",
           "caxis": {
            "gridcolor": "white",
            "linecolor": "white",
            "ticks": ""
           }
          },
          "title": {
           "x": 0.05
          },
          "xaxis": {
           "automargin": true,
           "gridcolor": "white",
           "linecolor": "white",
           "ticks": "",
           "title": {
            "standoff": 15
           },
           "zerolinecolor": "white",
           "zerolinewidth": 2
          },
          "yaxis": {
           "automargin": true,
           "gridcolor": "white",
           "linecolor": "white",
           "ticks": "",
           "title": {
            "standoff": 15
           },
           "zerolinecolor": "white",
           "zerolinewidth": 2
          }
         }
        },
        "title": {
         "text": "Correlation Heatmap"
        },
        "xaxis": {
         "tickangle": -45
        },
        "yaxis": {
         "autorange": "reversed"
        }
       }
      },
      "text/html": [
       "<div>            <script src=\"https://cdnjs.cloudflare.com/ajax/libs/mathjax/2.7.5/MathJax.js?config=TeX-AMS-MML_SVG\"></script><script type=\"text/javascript\">if (window.MathJax && window.MathJax.Hub && window.MathJax.Hub.Config) {window.MathJax.Hub.Config({SVG: {font: \"STIX-Web\"}});}</script>                <script type=\"text/javascript\">window.PlotlyConfig = {MathJaxConfig: 'local'};</script>\n",
       "        <script charset=\"utf-8\" src=\"https://cdn.plot.ly/plotly-3.1.1.min.js\" integrity=\"sha256-HUEFyfiTnZJxCxur99FjbKYTvKSzwDaD3/x5TqHpFu4=\" crossorigin=\"anonymous\"></script>                <div id=\"0c5e453c-a1ee-4a17-994e-d4dabd5fdad8\" class=\"plotly-graph-div\" style=\"height:525px; width:100%;\"></div>            <script type=\"text/javascript\">                window.PLOTLYENV=window.PLOTLYENV || {};                                if (document.getElementById(\"0c5e453c-a1ee-4a17-994e-d4dabd5fdad8\")) {                    Plotly.newPlot(                        \"0c5e453c-a1ee-4a17-994e-d4dabd5fdad8\",                        [{\"colorscale\":[[0.0,\"#440154\"],[0.1111111111111111,\"#482878\"],[0.2222222222222222,\"#3e4989\"],[0.3333333333333333,\"#31688e\"],[0.4444444444444444,\"#26828e\"],[0.5555555555555556,\"#1f9e89\"],[0.6666666666666666,\"#35b779\"],[0.7777777777777778,\"#6ece58\"],[0.8888888888888888,\"#b5de2b\"],[1.0,\"#fde725\"]],\"hoverinfo\":\"text\",\"text\":{\"dtype\":\"f8\",\"bdata\":\"AAAAAAAA8D96k5\\u002f1Pfm7PyPqzh9\\u002fvqU\\u002f3tXlQvMi0z\\u002fOM4+NB7SRv3qTn\\u002fU9+bs\\u002fAAAAAAAA8D9Cxg+uViGKP1p3TKM8Y8k\\u002f7NbOSirUyD8j6s4ff76lP0LGD65WIYo\\u002fAAAAAAAA8D\\u002fza3\\u002fwVGixPy2Xt8eBWKS\\u002f3tXlQvMi0z9ad0yjPGPJP\\u002fNrf\\u002fBUaLE\\u002fAAAAAAAA8D8DCoDh6lipP84zj40HtJG\\u002f7NbOSirUyD8tl7fHgVikvwMKgOHqWKk\\u002fAAAAAAAA8D8=\",\"shape\":\"5, 5\"},\"x\":[\"age\",\"bmi\",\"children\",\"charges\",\"AQI\"],\"y\":[\"age\",\"bmi\",\"children\",\"charges\",\"AQI\"],\"z\":{\"dtype\":\"f8\",\"bdata\":\"AAAAAAAA8D96k5\\u002f1Pfm7PyPqzh9\\u002fvqU\\u002f3tXlQvMi0z\\u002fOM4+NB7SRv3qTn\\u002fU9+bs\\u002fAAAAAAAA8D9Cxg+uViGKP1p3TKM8Y8k\\u002f7NbOSirUyD8j6s4ff76lP0LGD65WIYo\\u002fAAAAAAAA8D\\u002fza3\\u002fwVGixPy2Xt8eBWKS\\u002f3tXlQvMi0z9ad0yjPGPJP\\u002fNrf\\u002fBUaLE\\u002fAAAAAAAA8D8DCoDh6lipP84zj40HtJG\\u002f7NbOSirUyD8tl7fHgVikvwMKgOHqWKk\\u002fAAAAAAAA8D8=\",\"shape\":\"5, 5\"},\"zmax\":1,\"zmin\":-1,\"type\":\"heatmap\"}],                        {\"template\":{\"data\":{\"barpolar\":[{\"marker\":{\"line\":{\"color\":\"#E5ECF6\",\"width\":0.5},\"pattern\":{\"fillmode\":\"overlay\",\"size\":10,\"solidity\":0.2}},\"type\":\"barpolar\"}],\"bar\":[{\"error_x\":{\"color\":\"#2a3f5f\"},\"error_y\":{\"color\":\"#2a3f5f\"},\"marker\":{\"line\":{\"color\":\"#E5ECF6\",\"width\":0.5},\"pattern\":{\"fillmode\":\"overlay\",\"size\":10,\"solidity\":0.2}},\"type\":\"bar\"}],\"carpet\":[{\"aaxis\":{\"endlinecolor\":\"#2a3f5f\",\"gridcolor\":\"white\",\"linecolor\":\"white\",\"minorgridcolor\":\"white\",\"startlinecolor\":\"#2a3f5f\"},\"baxis\":{\"endlinecolor\":\"#2a3f5f\",\"gridcolor\":\"white\",\"linecolor\":\"white\",\"minorgridcolor\":\"white\",\"startlinecolor\":\"#2a3f5f\"},\"type\":\"carpet\"}],\"choropleth\":[{\"colorbar\":{\"outlinewidth\":0,\"ticks\":\"\"},\"type\":\"choropleth\"}],\"contourcarpet\":[{\"colorbar\":{\"outlinewidth\":0,\"ticks\":\"\"},\"type\":\"contourcarpet\"}],\"contour\":[{\"colorbar\":{\"outlinewidth\":0,\"ticks\":\"\"},\"colorscale\":[[0.0,\"#0d0887\"],[0.1111111111111111,\"#46039f\"],[0.2222222222222222,\"#7201a8\"],[0.3333333333333333,\"#9c179e\"],[0.4444444444444444,\"#bd3786\"],[0.5555555555555556,\"#d8576b\"],[0.6666666666666666,\"#ed7953\"],[0.7777777777777778,\"#fb9f3a\"],[0.8888888888888888,\"#fdca26\"],[1.0,\"#f0f921\"]],\"type\":\"contour\"}],\"heatmap\":[{\"colorbar\":{\"outlinewidth\":0,\"ticks\":\"\"},\"colorscale\":[[0.0,\"#0d0887\"],[0.1111111111111111,\"#46039f\"],[0.2222222222222222,\"#7201a8\"],[0.3333333333333333,\"#9c179e\"],[0.4444444444444444,\"#bd3786\"],[0.5555555555555556,\"#d8576b\"],[0.6666666666666666,\"#ed7953\"],[0.7777777777777778,\"#fb9f3a\"],[0.8888888888888888,\"#fdca26\"],[1.0,\"#f0f921\"]],\"type\":\"heatmap\"}],\"histogram2dcontour\":[{\"colorbar\":{\"outlinewidth\":0,\"ticks\":\"\"},\"colorscale\":[[0.0,\"#0d0887\"],[0.1111111111111111,\"#46039f\"],[0.2222222222222222,\"#7201a8\"],[0.3333333333333333,\"#9c179e\"],[0.4444444444444444,\"#bd3786\"],[0.5555555555555556,\"#d8576b\"],[0.6666666666666666,\"#ed7953\"],[0.7777777777777778,\"#fb9f3a\"],[0.8888888888888888,\"#fdca26\"],[1.0,\"#f0f921\"]],\"type\":\"histogram2dcontour\"}],\"histogram2d\":[{\"colorbar\":{\"outlinewidth\":0,\"ticks\":\"\"},\"colorscale\":[[0.0,\"#0d0887\"],[0.1111111111111111,\"#46039f\"],[0.2222222222222222,\"#7201a8\"],[0.3333333333333333,\"#9c179e\"],[0.4444444444444444,\"#bd3786\"],[0.5555555555555556,\"#d8576b\"],[0.6666666666666666,\"#ed7953\"],[0.7777777777777778,\"#fb9f3a\"],[0.8888888888888888,\"#fdca26\"],[1.0,\"#f0f921\"]],\"type\":\"histogram2d\"}],\"histogram\":[{\"marker\":{\"pattern\":{\"fillmode\":\"overlay\",\"size\":10,\"solidity\":0.2}},\"type\":\"histogram\"}],\"mesh3d\":[{\"colorbar\":{\"outlinewidth\":0,\"ticks\":\"\"},\"type\":\"mesh3d\"}],\"parcoords\":[{\"line\":{\"colorbar\":{\"outlinewidth\":0,\"ticks\":\"\"}},\"type\":\"parcoords\"}],\"pie\":[{\"automargin\":true,\"type\":\"pie\"}],\"scatter3d\":[{\"line\":{\"colorbar\":{\"outlinewidth\":0,\"ticks\":\"\"}},\"marker\":{\"colorbar\":{\"outlinewidth\":0,\"ticks\":\"\"}},\"type\":\"scatter3d\"}],\"scattercarpet\":[{\"marker\":{\"colorbar\":{\"outlinewidth\":0,\"ticks\":\"\"}},\"type\":\"scattercarpet\"}],\"scattergeo\":[{\"marker\":{\"colorbar\":{\"outlinewidth\":0,\"ticks\":\"\"}},\"type\":\"scattergeo\"}],\"scattergl\":[{\"marker\":{\"colorbar\":{\"outlinewidth\":0,\"ticks\":\"\"}},\"type\":\"scattergl\"}],\"scattermapbox\":[{\"marker\":{\"colorbar\":{\"outlinewidth\":0,\"ticks\":\"\"}},\"type\":\"scattermapbox\"}],\"scattermap\":[{\"marker\":{\"colorbar\":{\"outlinewidth\":0,\"ticks\":\"\"}},\"type\":\"scattermap\"}],\"scatterpolargl\":[{\"marker\":{\"colorbar\":{\"outlinewidth\":0,\"ticks\":\"\"}},\"type\":\"scatterpolargl\"}],\"scatterpolar\":[{\"marker\":{\"colorbar\":{\"outlinewidth\":0,\"ticks\":\"\"}},\"type\":\"scatterpolar\"}],\"scatter\":[{\"fillpattern\":{\"fillmode\":\"overlay\",\"size\":10,\"solidity\":0.2},\"type\":\"scatter\"}],\"scatterternary\":[{\"marker\":{\"colorbar\":{\"outlinewidth\":0,\"ticks\":\"\"}},\"type\":\"scatterternary\"}],\"surface\":[{\"colorbar\":{\"outlinewidth\":0,\"ticks\":\"\"},\"colorscale\":[[0.0,\"#0d0887\"],[0.1111111111111111,\"#46039f\"],[0.2222222222222222,\"#7201a8\"],[0.3333333333333333,\"#9c179e\"],[0.4444444444444444,\"#bd3786\"],[0.5555555555555556,\"#d8576b\"],[0.6666666666666666,\"#ed7953\"],[0.7777777777777778,\"#fb9f3a\"],[0.8888888888888888,\"#fdca26\"],[1.0,\"#f0f921\"]],\"type\":\"surface\"}],\"table\":[{\"cells\":{\"fill\":{\"color\":\"#EBF0F8\"},\"line\":{\"color\":\"white\"}},\"header\":{\"fill\":{\"color\":\"#C8D4E3\"},\"line\":{\"color\":\"white\"}},\"type\":\"table\"}]},\"layout\":{\"annotationdefaults\":{\"arrowcolor\":\"#2a3f5f\",\"arrowhead\":0,\"arrowwidth\":1},\"autotypenumbers\":\"strict\",\"coloraxis\":{\"colorbar\":{\"outlinewidth\":0,\"ticks\":\"\"}},\"colorscale\":{\"diverging\":[[0,\"#8e0152\"],[0.1,\"#c51b7d\"],[0.2,\"#de77ae\"],[0.3,\"#f1b6da\"],[0.4,\"#fde0ef\"],[0.5,\"#f7f7f7\"],[0.6,\"#e6f5d0\"],[0.7,\"#b8e186\"],[0.8,\"#7fbc41\"],[0.9,\"#4d9221\"],[1,\"#276419\"]],\"sequential\":[[0.0,\"#0d0887\"],[0.1111111111111111,\"#46039f\"],[0.2222222222222222,\"#7201a8\"],[0.3333333333333333,\"#9c179e\"],[0.4444444444444444,\"#bd3786\"],[0.5555555555555556,\"#d8576b\"],[0.6666666666666666,\"#ed7953\"],[0.7777777777777778,\"#fb9f3a\"],[0.8888888888888888,\"#fdca26\"],[1.0,\"#f0f921\"]],\"sequentialminus\":[[0.0,\"#0d0887\"],[0.1111111111111111,\"#46039f\"],[0.2222222222222222,\"#7201a8\"],[0.3333333333333333,\"#9c179e\"],[0.4444444444444444,\"#bd3786\"],[0.5555555555555556,\"#d8576b\"],[0.6666666666666666,\"#ed7953\"],[0.7777777777777778,\"#fb9f3a\"],[0.8888888888888888,\"#fdca26\"],[1.0,\"#f0f921\"]]},\"colorway\":[\"#636efa\",\"#EF553B\",\"#00cc96\",\"#ab63fa\",\"#FFA15A\",\"#19d3f3\",\"#FF6692\",\"#B6E880\",\"#FF97FF\",\"#FECB52\"],\"font\":{\"color\":\"#2a3f5f\"},\"geo\":{\"bgcolor\":\"white\",\"lakecolor\":\"white\",\"landcolor\":\"#E5ECF6\",\"showlakes\":true,\"showland\":true,\"subunitcolor\":\"white\"},\"hoverlabel\":{\"align\":\"left\"},\"hovermode\":\"closest\",\"mapbox\":{\"style\":\"light\"},\"paper_bgcolor\":\"white\",\"plot_bgcolor\":\"#E5ECF6\",\"polar\":{\"angularaxis\":{\"gridcolor\":\"white\",\"linecolor\":\"white\",\"ticks\":\"\"},\"bgcolor\":\"#E5ECF6\",\"radialaxis\":{\"gridcolor\":\"white\",\"linecolor\":\"white\",\"ticks\":\"\"}},\"scene\":{\"xaxis\":{\"backgroundcolor\":\"#E5ECF6\",\"gridcolor\":\"white\",\"gridwidth\":2,\"linecolor\":\"white\",\"showbackground\":true,\"ticks\":\"\",\"zerolinecolor\":\"white\"},\"yaxis\":{\"backgroundcolor\":\"#E5ECF6\",\"gridcolor\":\"white\",\"gridwidth\":2,\"linecolor\":\"white\",\"showbackground\":true,\"ticks\":\"\",\"zerolinecolor\":\"white\"},\"zaxis\":{\"backgroundcolor\":\"#E5ECF6\",\"gridcolor\":\"white\",\"gridwidth\":2,\"linecolor\":\"white\",\"showbackground\":true,\"ticks\":\"\",\"zerolinecolor\":\"white\"}},\"shapedefaults\":{\"line\":{\"color\":\"#2a3f5f\"}},\"ternary\":{\"aaxis\":{\"gridcolor\":\"white\",\"linecolor\":\"white\",\"ticks\":\"\"},\"baxis\":{\"gridcolor\":\"white\",\"linecolor\":\"white\",\"ticks\":\"\"},\"bgcolor\":\"#E5ECF6\",\"caxis\":{\"gridcolor\":\"white\",\"linecolor\":\"white\",\"ticks\":\"\"}},\"title\":{\"x\":0.05},\"xaxis\":{\"automargin\":true,\"gridcolor\":\"white\",\"linecolor\":\"white\",\"ticks\":\"\",\"title\":{\"standoff\":15},\"zerolinecolor\":\"white\",\"zerolinewidth\":2},\"yaxis\":{\"automargin\":true,\"gridcolor\":\"white\",\"linecolor\":\"white\",\"ticks\":\"\",\"title\":{\"standoff\":15},\"zerolinecolor\":\"white\",\"zerolinewidth\":2}}},\"title\":{\"text\":\"Correlation Heatmap\"},\"xaxis\":{\"tickangle\":-45},\"yaxis\":{\"autorange\":\"reversed\"}},                        {\"responsive\": true}                    ).then(function(){\n",
       "                            \n",
       "var gd = document.getElementById('0c5e453c-a1ee-4a17-994e-d4dabd5fdad8');\n",
       "var x = new MutationObserver(function (mutations, observer) {{\n",
       "        var display = window.getComputedStyle(gd).display;\n",
       "        if (!display || display === 'none') {{\n",
       "            console.log([gd, 'removed!']);\n",
       "            Plotly.purge(gd);\n",
       "            observer.disconnect();\n",
       "        }}\n",
       "}});\n",
       "\n",
       "// Listen for the removal of the full notebook cells\n",
       "var notebookContainer = gd.closest('#notebook-container');\n",
       "if (notebookContainer) {{\n",
       "    x.observe(notebookContainer, {childList: true});\n",
       "}}\n",
       "\n",
       "// Listen for the clearing of the current output cell\n",
       "var outputEl = gd.closest('.output');\n",
       "if (outputEl) {{\n",
       "    x.observe(outputEl, {childList: true});\n",
       "}}\n",
       "\n",
       "                        })                };            </script>        </div>"
      ]
     },
     "metadata": {},
     "output_type": "display_data"
    }
   ],
   "source": [
    "import plotly.graph_objects as go\n",
    "from plotly.offline import iplot\n",
    "\n",
    "numeric_df = df.select_dtypes(include='number')\n",
    "\n",
    "corr = numeric_df.corr()\n",
    "\n",
    "hm = go.Heatmap(\n",
    "    z=corr.values,\n",
    "    x=corr.columns.tolist(),  \n",
    "    y=corr.columns.tolist(),  \n",
    "    colorscale='Viridis',\n",
    "    zmin=-1, zmax=1,\n",
    "    text=corr.values,\n",
    "    hoverinfo='text'\n",
    ")\n",
    "\n",
    "layout = go.Layout(\n",
    "    title=\"Correlation Heatmap\",\n",
    "    xaxis=dict(tickangle=-45),\n",
    "    yaxis=dict(autorange='reversed')\n",
    ")\n",
    "\n",
    "fig = go.Figure(data=[hm], layout=layout)\n",
    "iplot(fig, filename='labelled-heatmap')\n"
   ]
  },
  {
   "cell_type": "code",
   "execution_count": 7,
   "metadata": {
    "_kg_hide-input": true,
    "_uuid": "1c7be215a60ae55f95ff48164648183b0ad2cecd",
    "trusted": true
   },
   "outputs": [
    {
     "data": {
      "application/vnd.plotly.v1+json": {
       "config": {
        "linkText": "Export to plot.ly",
        "plotlyServerURL": "https://plot.ly",
        "showLink": false
       },
       "data": [
        {
         "boxmean": true,
         "marker": {
          "color": "rgb(214, 12, 140)"
         },
         "name": "Young Adults",
         "type": "box",
         "y": {
          "bdata": "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",
          "dtype": "f8"
         }
        },
        {
         "boxmean": true,
         "marker": {
          "color": "rgb(0, 128, 128)"
         },
         "name": "Senior Adults",
         "type": "box",
         "y": {
          "bdata": "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",
          "dtype": "f8"
         }
        },
        {
         "boxmean": true,
         "marker": {
          "color": "rgb(247, 186, 166)"
         },
         "name": "Elders",
         "type": "box",
         "y": {
          "bdata": "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",
          "dtype": "f8"
         }
        }
       ],
       "layout": {
        "template": {
         "data": {
          "bar": [
           {
            "error_x": {
             "color": "#2a3f5f"
            },
            "error_y": {
             "color": "#2a3f5f"
            },
            "marker": {
             "line": {
              "color": "#E5ECF6",
              "width": 0.5
             },
             "pattern": {
              "fillmode": "overlay",
              "size": 10,
              "solidity": 0.2
             }
            },
            "type": "bar"
           }
          ],
          "barpolar": [
           {
            "marker": {
             "line": {
              "color": "#E5ECF6",
              "width": 0.5
             },
             "pattern": {
              "fillmode": "overlay",
              "size": 10,
              "solidity": 0.2
             }
            },
            "type": "barpolar"
           }
          ],
          "carpet": [
           {
            "aaxis": {
             "endlinecolor": "#2a3f5f",
             "gridcolor": "white",
             "linecolor": "white",
             "minorgridcolor": "white",
             "startlinecolor": "#2a3f5f"
            },
            "baxis": {
             "endlinecolor": "#2a3f5f",
             "gridcolor": "white",
             "linecolor": "white",
             "minorgridcolor": "white",
             "startlinecolor": "#2a3f5f"
            },
            "type": "carpet"
           }
          ],
          "choropleth": [
           {
            "colorbar": {
             "outlinewidth": 0,
             "ticks": ""
            },
            "type": "choropleth"
           }
          ],
          "contour": [
           {
            "colorbar": {
             "outlinewidth": 0,
             "ticks": ""
            },
            "colorscale": [
             [
              0,
              "#0d0887"
             ],
             [
              0.1111111111111111,
              "#46039f"
             ],
             [
              0.2222222222222222,
              "#7201a8"
             ],
             [
              0.3333333333333333,
              "#9c179e"
             ],
             [
              0.4444444444444444,
              "#bd3786"
             ],
             [
              0.5555555555555556,
              "#d8576b"
             ],
             [
              0.6666666666666666,
              "#ed7953"
             ],
             [
              0.7777777777777778,
              "#fb9f3a"
             ],
             [
              0.8888888888888888,
              "#fdca26"
             ],
             [
              1,
              "#f0f921"
             ]
            ],
            "type": "contour"
           }
          ],
          "contourcarpet": [
           {
            "colorbar": {
             "outlinewidth": 0,
             "ticks": ""
            },
            "type": "contourcarpet"
           }
          ],
          "heatmap": [
           {
            "colorbar": {
             "outlinewidth": 0,
             "ticks": ""
            },
            "colorscale": [
             [
              0,
              "#0d0887"
             ],
             [
              0.1111111111111111,
              "#46039f"
             ],
             [
              0.2222222222222222,
              "#7201a8"
             ],
             [
              0.3333333333333333,
              "#9c179e"
             ],
             [
              0.4444444444444444,
              "#bd3786"
             ],
             [
              0.5555555555555556,
              "#d8576b"
             ],
             [
              0.6666666666666666,
              "#ed7953"
             ],
             [
              0.7777777777777778,
              "#fb9f3a"
             ],
             [
              0.8888888888888888,
              "#fdca26"
             ],
             [
              1,
              "#f0f921"
             ]
            ],
            "type": "heatmap"
           }
          ],
          "histogram": [
           {
            "marker": {
             "pattern": {
              "fillmode": "overlay",
              "size": 10,
              "solidity": 0.2
             }
            },
            "type": "histogram"
           }
          ],
          "histogram2d": [
           {
            "colorbar": {
             "outlinewidth": 0,
             "ticks": ""
            },
            "colorscale": [
             [
              0,
              "#0d0887"
             ],
             [
              0.1111111111111111,
              "#46039f"
             ],
             [
              0.2222222222222222,
              "#7201a8"
             ],
             [
              0.3333333333333333,
              "#9c179e"
             ],
             [
              0.4444444444444444,
              "#bd3786"
             ],
             [
              0.5555555555555556,
              "#d8576b"
             ],
             [
              0.6666666666666666,
              "#ed7953"
             ],
             [
              0.7777777777777778,
              "#fb9f3a"
             ],
             [
              0.8888888888888888,
              "#fdca26"
             ],
             [
              1,
              "#f0f921"
             ]
            ],
            "type": "histogram2d"
           }
          ],
          "histogram2dcontour": [
           {
            "colorbar": {
             "outlinewidth": 0,
             "ticks": ""
            },
            "colorscale": [
             [
              0,
              "#0d0887"
             ],
             [
              0.1111111111111111,
              "#46039f"
             ],
             [
              0.2222222222222222,
              "#7201a8"
             ],
             [
              0.3333333333333333,
              "#9c179e"
             ],
             [
              0.4444444444444444,
              "#bd3786"
             ],
             [
              0.5555555555555556,
              "#d8576b"
             ],
             [
              0.6666666666666666,
              "#ed7953"
             ],
             [
              0.7777777777777778,
              "#fb9f3a"
             ],
             [
              0.8888888888888888,
              "#fdca26"
             ],
             [
              1,
              "#f0f921"
             ]
            ],
            "type": "histogram2dcontour"
           }
          ],
          "mesh3d": [
           {
            "colorbar": {
             "outlinewidth": 0,
             "ticks": ""
            },
            "type": "mesh3d"
           }
          ],
          "parcoords": [
           {
            "line": {
             "colorbar": {
              "outlinewidth": 0,
              "ticks": ""
             }
            },
            "type": "parcoords"
           }
          ],
          "pie": [
           {
            "automargin": true,
            "type": "pie"
           }
          ],
          "scatter": [
           {
            "fillpattern": {
             "fillmode": "overlay",
             "size": 10,
             "solidity": 0.2
            },
            "type": "scatter"
           }
          ],
          "scatter3d": [
           {
            "line": {
             "colorbar": {
              "outlinewidth": 0,
              "ticks": ""
             }
            },
            "marker": {
             "colorbar": {
              "outlinewidth": 0,
              "ticks": ""
             }
            },
            "type": "scatter3d"
           }
          ],
          "scattercarpet": [
           {
            "marker": {
             "colorbar": {
              "outlinewidth": 0,
              "ticks": ""
             }
            },
            "type": "scattercarpet"
           }
          ],
          "scattergeo": [
           {
            "marker": {
             "colorbar": {
              "outlinewidth": 0,
              "ticks": ""
             }
            },
            "type": "scattergeo"
           }
          ],
          "scattergl": [
           {
            "marker": {
             "colorbar": {
              "outlinewidth": 0,
              "ticks": ""
             }
            },
            "type": "scattergl"
           }
          ],
          "scattermap": [
           {
            "marker": {
             "colorbar": {
              "outlinewidth": 0,
              "ticks": ""
             }
            },
            "type": "scattermap"
           }
          ],
          "scattermapbox": [
           {
            "marker": {
             "colorbar": {
              "outlinewidth": 0,
              "ticks": ""
             }
            },
            "type": "scattermapbox"
           }
          ],
          "scatterpolar": [
           {
            "marker": {
             "colorbar": {
              "outlinewidth": 0,
              "ticks": ""
             }
            },
            "type": "scatterpolar"
           }
          ],
          "scatterpolargl": [
           {
            "marker": {
             "colorbar": {
              "outlinewidth": 0,
              "ticks": ""
             }
            },
            "type": "scatterpolargl"
           }
          ],
          "scatterternary": [
           {
            "marker": {
             "colorbar": {
              "outlinewidth": 0,
              "ticks": ""
             }
            },
            "type": "scatterternary"
           }
          ],
          "surface": [
           {
            "colorbar": {
             "outlinewidth": 0,
             "ticks": ""
            },
            "colorscale": [
             [
              0,
              "#0d0887"
             ],
             [
              0.1111111111111111,
              "#46039f"
             ],
             [
              0.2222222222222222,
              "#7201a8"
             ],
             [
              0.3333333333333333,
              "#9c179e"
             ],
             [
              0.4444444444444444,
              "#bd3786"
             ],
             [
              0.5555555555555556,
              "#d8576b"
             ],
             [
              0.6666666666666666,
              "#ed7953"
             ],
             [
              0.7777777777777778,
              "#fb9f3a"
             ],
             [
              0.8888888888888888,
              "#fdca26"
             ],
             [
              1,
              "#f0f921"
             ]
            ],
            "type": "surface"
           }
          ],
          "table": [
           {
            "cells": {
             "fill": {
              "color": "#EBF0F8"
             },
             "line": {
              "color": "white"
             }
            },
            "header": {
             "fill": {
              "color": "#C8D4E3"
             },
             "line": {
              "color": "white"
             }
            },
            "type": "table"
           }
          ]
         },
         "layout": {
          "annotationdefaults": {
           "arrowcolor": "#2a3f5f",
           "arrowhead": 0,
           "arrowwidth": 1
          },
          "autotypenumbers": "strict",
          "coloraxis": {
           "colorbar": {
            "outlinewidth": 0,
            "ticks": ""
           }
          },
          "colorscale": {
           "diverging": [
            [
             0,
             "#8e0152"
            ],
            [
             0.1,
             "#c51b7d"
            ],
            [
             0.2,
             "#de77ae"
            ],
            [
             0.3,
             "#f1b6da"
            ],
            [
             0.4,
             "#fde0ef"
            ],
            [
             0.5,
             "#f7f7f7"
            ],
            [
             0.6,
             "#e6f5d0"
            ],
            [
             0.7,
             "#b8e186"
            ],
            [
             0.8,
             "#7fbc41"
            ],
            [
             0.9,
             "#4d9221"
            ],
            [
             1,
             "#276419"
            ]
           ],
           "sequential": [
            [
             0,
             "#0d0887"
            ],
            [
             0.1111111111111111,
             "#46039f"
            ],
            [
             0.2222222222222222,
             "#7201a8"
            ],
            [
             0.3333333333333333,
             "#9c179e"
            ],
            [
             0.4444444444444444,
             "#bd3786"
            ],
            [
             0.5555555555555556,
             "#d8576b"
            ],
            [
             0.6666666666666666,
             "#ed7953"
            ],
            [
             0.7777777777777778,
             "#fb9f3a"
            ],
            [
             0.8888888888888888,
             "#fdca26"
            ],
            [
             1,
             "#f0f921"
            ]
           ],
           "sequentialminus": [
            [
             0,
             "#0d0887"
            ],
            [
             0.1111111111111111,
             "#46039f"
            ],
            [
             0.2222222222222222,
             "#7201a8"
            ],
            [
             0.3333333333333333,
             "#9c179e"
            ],
            [
             0.4444444444444444,
             "#bd3786"
            ],
            [
             0.5555555555555556,
             "#d8576b"
            ],
            [
             0.6666666666666666,
             "#ed7953"
            ],
            [
             0.7777777777777778,
             "#fb9f3a"
            ],
            [
             0.8888888888888888,
             "#fdca26"
            ],
            [
             1,
             "#f0f921"
            ]
           ]
          },
          "colorway": [
           "#636efa",
           "#EF553B",
           "#00cc96",
           "#ab63fa",
           "#FFA15A",
           "#19d3f3",
           "#FF6692",
           "#B6E880",
           "#FF97FF",
           "#FECB52"
          ],
          "font": {
           "color": "#2a3f5f"
          },
          "geo": {
           "bgcolor": "white",
           "lakecolor": "white",
           "landcolor": "#E5ECF6",
           "showlakes": true,
           "showland": true,
           "subunitcolor": "white"
          },
          "hoverlabel": {
           "align": "left"
          },
          "hovermode": "closest",
          "mapbox": {
           "style": "light"
          },
          "paper_bgcolor": "white",
          "plot_bgcolor": "#E5ECF6",
          "polar": {
           "angularaxis": {
            "gridcolor": "white",
            "linecolor": "white",
            "ticks": ""
           },
           "bgcolor": "#E5ECF6",
           "radialaxis": {
            "gridcolor": "white",
            "linecolor": "white",
            "ticks": ""
           }
          },
          "scene": {
           "xaxis": {
            "backgroundcolor": "#E5ECF6",
            "gridcolor": "white",
            "gridwidth": 2,
            "linecolor": "white",
            "showbackground": true,
            "ticks": "",
            "zerolinecolor": "white"
           },
           "yaxis": {
            "backgroundcolor": "#E5ECF6",
            "gridcolor": "white",
            "gridwidth": 2,
            "linecolor": "white",
            "showbackground": true,
            "ticks": "",
            "zerolinecolor": "white"
           },
           "zaxis": {
            "backgroundcolor": "#E5ECF6",
            "gridcolor": "white",
            "gridwidth": 2,
            "linecolor": "white",
            "showbackground": true,
            "ticks": "",
            "zerolinecolor": "white"
           }
          },
          "shapedefaults": {
           "line": {
            "color": "#2a3f5f"
           }
          },
          "ternary": {
           "aaxis": {
            "gridcolor": "white",
            "linecolor": "white",
            "ticks": ""
           },
           "baxis": {
            "gridcolor": "white",
            "linecolor": "white",
            "ticks": ""
           },
           "bgcolor": "#E5ECF6",
           "caxis": {
            "gridcolor": "white",
            "linecolor": "white",
            "ticks": ""
           }
          },
          "title": {
           "x": 0.05
          },
          "xaxis": {
           "automargin": true,
           "gridcolor": "white",
           "linecolor": "white",
           "ticks": "",
           "title": {
            "standoff": 15
           },
           "zerolinecolor": "white",
           "zerolinewidth": 2
          },
          "yaxis": {
           "automargin": true,
           "gridcolor": "white",
           "linecolor": "white",
           "ticks": "",
           "title": {
            "standoff": 15
           },
           "zerolinecolor": "white",
           "zerolinewidth": 2
          }
         }
        },
        "title": {
         "text": "Body Mass Index <br> by Age Category"
        },
        "xaxis": {
         "title": {
          "font": {
           "size": 16
          },
          "text": "Age Category"
         }
        },
        "yaxis": {
         "title": {
          "font": {
           "size": 16
          },
          "text": "Body Mass Index"
         }
        }
       }
      },
      "text/html": [
       "<div>            <script src=\"https://cdnjs.cloudflare.com/ajax/libs/mathjax/2.7.5/MathJax.js?config=TeX-AMS-MML_SVG\"></script><script type=\"text/javascript\">if (window.MathJax && window.MathJax.Hub && window.MathJax.Hub.Config) {window.MathJax.Hub.Config({SVG: {font: \"STIX-Web\"}});}</script>                <script type=\"text/javascript\">window.PlotlyConfig = {MathJaxConfig: 'local'};</script>\n",
       "        <script charset=\"utf-8\" src=\"https://cdn.plot.ly/plotly-3.1.1.min.js\" integrity=\"sha256-HUEFyfiTnZJxCxur99FjbKYTvKSzwDaD3/x5TqHpFu4=\" crossorigin=\"anonymous\"></script>                <div id=\"2b368ff1-3a5e-473a-a9ee-0f7ed2cb7af4\" class=\"plotly-graph-div\" style=\"height:525px; width:100%;\"></div>            <script type=\"text/javascript\">                window.PLOTLYENV=window.PLOTLYENV || {};                                if (document.getElementById(\"2b368ff1-3a5e-473a-a9ee-0f7ed2cb7af4\")) {                    Plotly.newPlot(                        \"2b368ff1-3a5e-473a-a9ee-0f7ed2cb7af4\",                        [{\"boxmean\":true,\"marker\":{\"color\":\"rgb(214, 12, 140)\"},\"name\":\"Young Adults\",\"y\":{\"dtype\":\"f8\",\"bdata\":\"ZmZmZmbmO0DD9Shcj+JAQAAAAAAAgEBAFK5H4Xq0NkDhehSuR+E8QD0K16NwvTlAuB6F61E4OkAzMzMzMzNBQHE9CtejEEVAmpmZmZmZOEC4HoXrUdg3QGZmZmZmpkFAMzMzMzMzQEDNzMzMzAxBQOxRuB6F6z9Aw\\u002fUoXI9iMUBmZmZmZiZCQM3MzMzMzEFAcT0K16NQOkCamZmZmZk8QDMzMzMzM0JAzczMzMxsNEDNzMzMzMw0QPYoXI\\u002fCVUJAmpmZmZmZOkBxPQrXo1BCQIXrUbgeVUNAw\\u002fUoXI9iQUAAAAAAANBBQHE9Ctej0EBArkfhehSuP0B7FK5H4apCQBSuR+F61EBAj8L1KFzvOUDsUbgehWs2QGZmZmZm5jxAexSuR+H6N0AAAAAAAMA4QAAAAAAAgDxA16NwPQqXPUCkcD0K18NBQNejcD0K50NAw\\u002fUoXI\\u002fiOkCPwvUoXM9CQB+F61G4vkNAw\\u002fUoXI9iQUCPwvUoXM9CQPYoXI\\u002fCdTlAPQrXo3AdPkAAAAAAAIA7QGZmZmZmBjxAZmZmZmZmPEAAAAAAAOA+QHE9Ctej8DtAXI\\u002fC9SjcQUBxPQrXo\\u002fA7QAAAAAAAwDdAmpmZmZn5PEApXI\\u002fC9cg8QM3MzMzMTDxApHA9CtfDMUCuR+F6FI45QClcj8L1yDxAzczMzMwMPEDNzMzMzAxBQM3MzMzMLDlAAAAAAAAAQkDsUbgehWs2QB+F61G4PkBAzczMzMxMOUBcj8L1KLw9QHE9CtejsDxACtejcD1qQ0BmZmZmZmY8QOF6FK5HIThAw\\u002fUoXI+SQkDNzMzMzCw5QKRwPQrXw0FAzczMzMxsQkDNzMzMzMw9QAAAAAAAgEJApHA9CteTQEAzMzMzM9M\\u002fQEjhehSu5zJA7FG4HoXrL0BmZmZmZmZBQFyPwvUorEBApHA9CtcjQ0AzMzMzM\\u002fMzQOxRuB6F6z1AZmZmZmbmPkCuR+F6FA5AQD0K16NwvTlA16NwPQo3QUDXo3A9Cpc+QK5H4XoUDkBACtejcD0KQkDhehSuR+E8QD0K16NwvTtAAAAAAACAQEAAAAAAAIA8QHsUrkfhujpAmpmZmZkZN0DsUbgehes9QPYoXI\\u002fCNTdAmpmZmZnZQEDNzMzMzMw+QGZmZmZmZkFASOF6FK4HQ0DNzMzMzMwxQHsUrkfhujpAUrgehesxQ0BSuB6F6xE9QPYoXI\\u002fCVUJAw\\u002fUoXI8iNkCuR+F6FO5BQGZmZmZm5jRAmpmZmZn5PEAK16NwPUoxQM3MzMzMTD5A7FG4HoXrP0DXo3A9Ctc6QArXo3A9ekJAH4XrUbhePUDNzMzMzIw7QD0K16NwnTRAzczMzMxMOECF61G4HqU7QDMzMzMzs0BApHA9CtejPUCF61G4HsVGQFK4HoXr0TxAzczMzMzMOkA9CtejcP02QDMzMzMzsztAUrgehesxQUAAAAAAAIBAQFyPwvUorEBAAAAAAACAO0AK16NwPapAQDMzMzMzszhAZmZmZmZmP0B7FK5H4apCQIXrUbgeRTlApHA9CtejPUDNzMzMzMw+QDMzMzMzMztA9ihcj8I1N0CamZmZmZk7QMP1KFyPQj1AAAAAAADgQUD2KFyPwtU7QDMzMzMzsztAj8L1KFyfQUCkcD0K1yNDQBSuR+F69ERACtejcD3KNEAAAAAAAIA+QDMzMzMzszVAZmZmZmZmOkCkcD0K1+M1QGZmZmZmZj5AMzMzMzNzQEAK16NwPapAQI\\u002fC9ShcTzxAMzMzMzMTREAUrkfhevQxQOxRuB6Fq0VAMzMzMzMzQUBcj8L1KJw2QPYoXI\\u002fCNT5A16NwPQq3QkCF61G4HgU\\u002fQPYoXI\\u002fCFUNAZmZmZmZmNECPwvUoXE84QEjhehSuBz5AexSuR+F6MUBSuB6F6zExQGZmZmZm5jdAMzMzMzOTQUDXo3A9Cpc+QArXo3A9Kj1AcT0K16PQMEBmZmZmZmY+QM3MzMzMjEBAXI\\u002fC9Sg8NEC4HoXrUZg8QHsUrkfhuj9AZmZmZmbmPEAzMzMzM3M9QNejcD0KV0BAAAAAAADAQEDhehSuR4FFQM3MzMzMTENA4XoUrkchOEBmZmZmZmY3QFyPwvUovD1ApHA9CtdDR0DNzMzMzCw5QOF6FK5HYTxAUrgehetROEDXo3A9Chc4QPYoXI\\u002fCVUBAPQrXo3AdPkDNzMzMzMw9QAAAAAAAgDxAAAAAAADQQUDNzMzMzGxCQEjhehSuR0BAmpmZmZlZP0BxPQrXoxA\\u002fQDMzMzMzszxAMzMzMzNzQEAUrkfhehQ5QDMzMzMzszlArkfhehTuO0CamZmZmZk3QDMzMzMzM0FAAAAAAABAPkCamZmZmVk\\u002fQAAAAAAAwDdAhetRuB5FOUAUrkfhetRAQGZmZmZmZj5ASOF6FK6nQUAAAAAAAAA\\u002fQAAAAAAA4D5AXI\\u002fC9SgcRkBxPQrXo\\u002fBAQNejcD0Klz5A9ihcj8J1OUAzMzMzM3NDQAAAAAAAAENACtejcD3KP0BI4XoUrrdBQLgehetRmDxArkfhehTuPECamZmZmalEQM3MzMzMzDdAexSuR+EaQUA9CtejcA1BQKRwPQrXw0FAAAAAAACAPkCPwvUoXA9AQB+F61G4fj5AmpmZmZkZPUCF61G4HqVCQI\\u002fC9Shcj0VA16NwPQrXOkBcj8L1KAxDQNejcD0KdzdA16NwPQqXPkBmZmZmZqY3QDMzMzMzszRAhetRuB5FPEBcj8L1KDw0QPYoXI\\u002fCNT5A4XoUrkchP0CamZmZmdk1QAAAAAAAoEBAFK5H4XqUQ0CPwvUoXE88QM3MzMzMLDlAexSuR+H6OkBmZmZmZuZCQKRwPQrXk0BAAAAAAAAAM0AAAAAAAIBAQK5H4XoUjkBAZmZmZmZmP0AUrkfhesRAQEjhehSuBzpAexSuR+E6RUDNzMzMzEw9QKRwPQrXw0FAw\\u002fUoXI+COEBcj8L1KAxDQDMzMzMzM0VAexSuR+F6QUAAAAAAAIA8QDMzMzMzM0VApHA9CteTQEAK16NwPYo\\u002fQBSuR+F61EBAUrgeheuRP0ApXI\\u002fC9Sg\\u002fQGZmZmZmZjFAzczMzMxMNEAAAAAAAIAyQOF6FK5HIT9AXI\\u002fC9ShcO0DD9ShcjzJAQEjhehSupzdAZmZmZmZmQUBI4XoUrhdEQMP1KFyPokNAj8L1KFxvQUApXI\\u002fC9Wg6QDMzMzMzc0BAH4XrUbh+PkCamZmZmZlBQFyPwvUoPERAmpmZmZmZNkAzMzMzM7NBQGZmZmZmhkNA4XoUrkfBNUCkcD0K1yNEQOxRuB6FazhAmpmZmZkZPkAzMzMzM7M3QHsUrkfhuj9AAAAAAADAQUBmZmZmZiY9QB+F61G4njpAAAAAAAAAO0DhehSuR8E1QAAAAAAA4D5AmpmZmZn5PEBxPQrXo9BAQIXrUbgepTtA16NwPQq3QkD2KFyPwhVDQArXo3A9SkFAmpmZmZmZQUCamZmZmRk7QEjhehSuBzpA4XoUrkfhPEApXI\\u002fC9ShBQGZmZmZmZjhAUrgeheuRREDD9Shcj0I9QDMzMzMzsztArkfhehRuQkCkcD0K14M2QJqZmZmZmTtArkfhehQuN0AAAAAAAIA8QFyPwvUoHEZAhetRuB7lNkDsUbgehcs4QM3MzMzMTDZAH4XrUbgeRUDD9Shcj4I6QJqZmZmZSUJApHA9CtcjPkDXo3A9Ctc5QLgehetReEVApHA9CteDNkD2KFyPwnU\\u002fQJqZmZmZOThAzczMzMyMQkCkcD0K18NBQOxRuB6FqzFA4XoUrkchP0C4HoXrUdg3QNejcD0KdzdAmpmZmZkZP0CkcD0K12NAQHE9CtejMElAmpmZmZkZOECamZmZmZk9QOF6FK5HIThAPQrXo3AdQECF61G4HqVCQM3MzMzMTDhAexSuR+F6PUAfhetRuB48QLgehetRuEBAZmZmZmZmQUBcj8L1KFw7QMP1KFyPIjZAUrgeheuxOkCuR+F6FO48QAAAAAAAwENArkfhehSOOUDhehSuRyFEQKRwPQrXgzZApHA9CtdDO0B7FK5H4Vo9QHsUrkfhSkBAmpmZmZmZOECPwvUoXE88QHsUrkfhuj9AexSuR+GaOEAfhetRuP5AQHsUrkfhGkFAuB6F61HoQUBmZmZmZmY3QKRwPQrXQ0dA16NwPQqXQkCuR+F6FC46QPYoXI\\u002fCNTdASOF6FK4XREBcj8L1KJw2QDMzMzMzsz1ASOF6FK5nPED2KFyPwtU7QB+F61G4vkNACtejcD3KOkAfhetRuM5DQGZmZmZm5jlAmpmZmZkZO0AfhetRuL45QI\\u002fC9ShcjzdAXI\\u002fC9Sg8NEAAAAAAAEBEQPYoXI\\u002fCtUFAhetRuB7lNkBmZmZmZiY9QAAAAAAAYDVAZmZmZmbmOUDXo3A9Cpc+QD0K16NwHT5AZmZmZmZWQUCF61G4HoU0QM3MzMzMzDNA7FG4HoULNECF61G4HiVCQD0K16Nw\\u002fTZAmpmZmZlZQEDNzMzMzMw5QHsUrkfhuj9Aw\\u002fUoXI9CPUBcj8L1KPw4QHsUrkfhmjhAmpmZmZkZQUDXo3A9CldAQIXrUbgeBT9AUrgehetRN0DNzMzMzExBQEjhehSuBzpA16NwPQq3MkCuR+F6FO47QHE9CtejkDVAKVyPwvWIQkDhehSuR+E8QKRwPQrXQztAZmZmZmYGPED2KFyPwhU3QI\\u002fC9Shcrz5AzczMzMzMOUAK16NwPUpKQKRwPQrXgzZAuB6F61F4NUAfhetRuL5DQClcj8L16EBA4XoUrkcBQECamZmZmZk5QOF6FK5HQT9A16NwPQqXPUBI4XoUrgc6QK5H4XoUrj9ASOF6FK7HNUD2KFyPwtU7QAAAAAAAgD9AmpmZmZlZQEBmZmZmZmY+QJqZmZmZWT9Aw\\u002fUoXI\\u002fiQEAfhetRuP5AQLgehetRGDNAuB6F61F4Q0AAAAAAAAA+QHE9CtejUDpAw\\u002fUoXI+COEAK16NwPapAQAAAAAAA4EFAMzMzMzPzM0BmZmZmZmY\\u002fQMP1KFyPMkBAAAAAAABgRUCuR+F6FO5BQGZmZmZmZkBAmpmZmZmZMkAzMzMzM\\u002fNGQClcj8L16EBAexSuR+E6NkAAAAAAAEA+QB+F61G4PkBA7FG4HoXrP0CuR+F6FE4+QLgehetR6EFAcT0K16NwRkCuR+F6FC43QNejcD0Klz5AzczMzMyMREBxPQrXoxBFQArXo3A9akNA16NwPQo3PEAAAAAAACA6QJqZmZmZmThAmpmZmZmZQUBcj8L1KFw7QK5H4XoUDkBAmpmZmZkZO0AfhetRuG5BQI\\u002fC9Shczz1AzczMzMzsPUDNzMzMzEw+QD0K16NwfTxAAAAAAADQQUAAAAAAAAA8QDMzMzMzY0BA4XoUrkfBNUCuR+F6FO47QIXrUbgeBT5AzczMzMzMOUCuR+F6FA5AQEjhehSuRztAXI\\u002fC9SjcMUC4HoXrUXg1QOF6FK5HQT9AUrgeheuRQ0CF61G4HqVCQFK4HoXr8TVA7FG4HoVrOEApXI\\u002fC9ehDQM3MzMzMzDVAcT0K16MQP0BxPQrXoxBFQEjhehSuRzVArkfhehSOQEAK16NwPapAQM3MzMzMTDhAZmZmZmZmPUApXI\\u002fC9ehDQHE9Ctej0EBAFK5H4XrUPUDNzMzMzMwzQM3MzMzMTDtAuB6F61G4O0CF61G4HoU0QM3MzMzMjEJAcT0K16MQP0BmZmZmZqZAQIXrUbge9UBArkfhehQ+QUBcj8L1KJw7QI\\u002fC9ShcDztAZmZmZmZmPkBcj8L1KLw9QArXo3A9yjpAKVyPwvWoNUBI4XoUrgc+QArXo3A9SjFAMzMzMzOzQ0AzMzMzM3NBQPYoXI\\u002fCNTdAAAAAAAAANkAAAAAAACA6QMP1KFyPgjpAFK5H4Xp0O0AfhetRuL45QM3MzMzMzDRAuB6F61G4O0CamZmZmdk1QB+F61G4HjxAMzMzMzMzPkBSuB6F67E6QDMzMzMzc0VAmpmZmZlZQUBI4XoUrqc3QI\\u002fC9ShcTzxAmpmZmZmZNEBxPQrXo5BKQHsUrkfh2kNAcT0K16MQP0CPwvUoXO85QJqZmZmZOThAMzMzMzOzQEDsUbgehes\\u002fQM3MzMzMbEJAzczMzMzMOUA=\"},\"type\":\"box\"},{\"boxmean\":true,\"marker\":{\"color\":\"rgb(0, 128, 128)\"},\"name\":\"Senior Adults\",\"y\":{\"dtype\":\"f8\",\"bdata\":\"uB6F61G4QEA9CtejcL07QBSuR+F61D1ASOF6FK7HPkBmZmZmZgY8QDMzMzMzY0BASOF6FK7HNUDNzMzMzMw+QGZmZmZmhkJAZmZmZmamQkCamZmZmZlBQAAAAAAAADxA16NwPQo3QUBxPQrXo7A8QOF6FK5H4TZAXI\\u002fC9ShcO0BxPQrXo1A6QLgehetRGEJAmpmZmZkZPEBmZmZmZmY7QOxRuB6Fe0BAFK5H4XokQ0A9CtejcJ1EQGZmZmZmZkFAhetRuB7lNkA9CtejcL07QHsUrkfh+jpA7FG4HoXLOEDNzMzMzMw+QKRwPQrXI0NAzczMzMxMM0CamZmZmZk\\u002fQHE9Ctej0EBAMzMzMzOzPUDNzMzMzMw+QArXo3A9GkBA7FG4HoUrO0AfhetRuF43QM3MzMzMjEJAmpmZmZlZP0CF61G4HvVAQDMzMzMzs0JAmpmZmZlZQUAzMzMzM\\u002fNBQGZmZmZm5j9AH4XrUbh+PkA9CtejcN1CQNejcD0Kt0JAMzMzMzOzPUAfhetRuF43QPYoXI\\u002fCdTlAw\\u002fUoXI\\u002fCQ0DsUbgehWs4QBSuR+F61DtAmpmZmZmZOkDNzMzMzMxDQKRwPQrXoz1A16NwPQo3PEDNzMzMzEw+QPYoXI\\u002fC1TtAMzMzMzMzPUBmZmZmZuY8QKRwPQrXk0BAKVyPwvVoOkBxPQrXo7A+QMP1KFyP8kRAmpmZmZkZQEAzMzMzMzM6QGZmZmZmZkBAmpmZmZmZPEDNzMzMzAwyQD0K16NwHUBAzczMzMxMNkA9CtejcJ1EQAAAAAAA4D5AZmZmZmbmPkDNzMzMzIxCQJqZmZmZmTpAAAAAAACgQECkcD0K16M4QHE9Ctej8EBAw\\u002fUoXI+iP0D2KFyPwnU5QClcj8L1GEJAw\\u002fUoXI+COEC4HoXrUTg2QEjhehSuB0NAzczMzMzMOkBmZmZmZqZBQIXrUbgeBT5AexSuR+EaQUAzMzMzM9M\\u002fQD0K16NwXTlAMzMzMzMTREAK16NwPWo4QFK4HoXrUThASOF6FK4HQ0DNzMzMzCxFQM3MzMzMzDNAMzMzMzMzPkDXo3A9Ctc5QJqZmZmZGUFAZmZmZmaGQkAUrkfhenQ7QJqZmZmZmTpAj8L1KFyPNUAfhetRuB48QLgehetRSERAw\\u002fUoXI8yQEAzMzMzMzM\\u002fQB+F61G4njpAKVyPwvUISEBmZmZmZmY6QClcj8L1aDlA4XoUrkfhPEDNzMzMzIw7QFyPwvUonDZASOF6FK6HQECamZmZmZk6QFyPwvUo\\u002fEFArkfhehTuQUAAAAAAAKBAQArXo3A9GkBAMzMzMzNjQECF61G4HqU7QD0K16NwDUFAPQrXo3A9QkCamZmZmVlCQFyPwvUoXDtAXI\\u002fC9SjcQUBmZmZmZiZAQLgehetRuDtAXI\\u002fC9Si8REBcj8L1KKxAQOxRuB6F6z1AmpmZmZmZOUCamZmZmZk7QFK4HoXr8UVAFK5H4XrUPUBmZmZmZiZAQEjhehSuxz5AXI\\u002fC9Sj8OEBSuB6F6wFAQKRwPQrXk0BApHA9CtfjOECPwvUoXK8+QAAAAAAAgEBAw\\u002fUoXI8iNkA9CtejcF05QAAAAAAA0EFAUrgehetxP0CamZmZmVk\\u002fQGZmZmZmJkBAexSuR+HaM0AzMzMzMzNBQJqZmZmZmTRAw\\u002fUoXI\\u002fCR0BmZmZmZiZAQHE9CtejMENAmpmZmZmZN0AfhetRuB41QFyPwvUoPDRAUrgehevRQUDNzMzMzAxBQJqZmZmZmTZAMzMzMzNjQEAzMzMzMzM+QI\\u002fC9ShcTzhApHA9CtdDO0BmZmZmZuY6QAAAAAAAYEdAzczMzMyMQECamZmZmZk9QJqZmZmZmT1ApHA9CtcjPkAAAAAAAIBAQHE9CtejUEJAAAAAAAAAPkBcj8L1KKxAQJqZmZmZGTlA4XoUrkfBQkAAAAAAAMBDQGZmZmZmJkFAuB6F61F4NUBI4XoUrgdDQClcj8L1KD9AMzMzMzOzPEB7FK5H4fo3QEjhehSuBzpA9ihcj8I1N0CuR+F6FO48QAAAAAAA4D5A7FG4HoVrNkDNzMzMzEw8QB+F61G4fj5AXI\\u002fC9ShcO0CF61G4HvVAQD0K16Nw3UJAUrgehesROkDNzMzMzMw5QGZmZmZmtkNAuB6F61EYQkBmZmZmZgY8QDMzMzMzMz5AzczMzMwMPECamZmZmVk\\u002fQBSuR+F6tEdA9ihcj8I1PkDXo3A9Ctc5QJqZmZmZWUdAmpmZmZkZR0B7FK5H4bo\\u002fQLgehetRuEBAMzMzMzPzM0DXo3A9CldAQMP1KFyPYkZAuB6F61FIREDXo3A9Cpc+QGZmZmZm5j9AuB6F61FIREAzMzMzMzM+QNejcD0Kt0ZAcT0K16OwPkBSuB6F65EzQOF6FK5HIURAzczMzMzcQEB7FK5H4Xo9QM3MzMzMTEBAMzMzMzPDQkDD9Shcj6I\\u002fQM3MzMzMDEFAH4XrUbhePUBmZmZmZmZBQHE9CtejUEJAmpmZmZmZOUDNzMzMzIxCQM3MzMzMDEFAzczMzMxMNUDhehSuR+E8QJqZmZmZeUNAzczMzMwMQkAUrkfherQ2QJqZmZmZ2UNAKVyPwvVoOkCPwvUoXE88QEjhehSup0FASOF6FK7HPkC4HoXrUTg6QB+F61G4XjdA16NwPQpXRUDNzMzMzMxDQOF6FK5HIT9AZmZmZmYmQkDNzMzMzEw5QBSuR+F69EFApHA9CtdDR0BI4XoUrgdDQDMzMzMzszxAMzMzMzNjQECPwvUoXM89QDMzMzMzsz1AhetRuB4FP0BSuB6F6\\u002fFFQAAAAAAAYDVASOF6FK5nRECuR+F6FC43QGZmZmZmpkFAUrgehetROEApXI\\u002fC9Wg6QAAAAAAAIDpAuB6F61HYRECamZmZmRk4QJqZmZmZGUJAZmZmZmYmQEAAAAAAAOBBQI\\u002fC9ShcX0ZAXI\\u002fC9Si8REDsUbgehYs9QEjhehSuB0NAcT0K16OwPEA9CtejcL07QArXo3A9ijdAj8L1KFyvPkBcj8L1KJw2QPYoXI\\u002fCVUJAFK5H4XpUREDNzMzMzExCQDMzMzMzEztASOF6FK5nPEAK16NwPQpCQGZmZmZmZjVApHA9CtdDO0DD9Shcj2JBQFK4HoXrMUNAKVyPwvUIOEA9CtejcA1BQClcj8L1aDpAPQrXo3AdPkAAAAAAAABCQGZmZmZmZjpAzczMzMzMNkAUrkfhetQ7QM3MzMzMLDlAZmZmZmYmQEAAAAAAAAA9QJqZmZmZeTNAMzMzMzOzOkA9CtejcD1CQJqZmZmZGUFACtejcD2qQEBmZmZmZiZAQNejcD0K50NA4XoUrkfhPEBcj8L1KPxBQJqZmZmZmTtAZmZmZmbmREBmZmZmZuY0QOxRuB6F6z9ArkfhehQuOkC4HoXrUehBQPYoXI\\u002fCtURAzczMzMzMPkDD9ShcjwI1QNejcD0KN0FAAAAAAAAgOkCamZmZmdlAQI\\u002fC9Shczz1AZmZmZmYGPEBI4XoUrsc+QJqZmZmZ2TVA16NwPQrXOUApXI\\u002fC9ehAQFyPwvUo\\u002fEFAAAAAAACAP0AfhetRuH4+QJqZmZmZGUFAMzMzMzNjQEBI4XoUrsc+QKRwPQrXw0FAAAAAAADAN0C4HoXrUdg3QK5H4XoUjkBAzczMzMzMR0AAAAAAAAA8QBSuR+F6xEBAexSuR+HaM0BmZmZmZmY5QGZmZmZm5j1AmpmZmZkZQkBcj8L1KNw4QJqZmZmZGT5AmpmZmZnZNUCamZmZmRk7QM3MzMzMzDxAAAAAAACAPUBmZmZmZoZCQIXrUbgeBT5ACtejcD0KPUApXI\\u002fC9Qg4QLgehetReENA7FG4HoULNECkcD0K14M2QM3MzMzMbEJA7FG4HoUrQEAAAAAAAIA7QMP1KFyP4jpAhetRuB7lNkAAAAAAAAA\\u002fQDMzMzMzMzdArkfhehQOQEB7FK5H4RpBQAAAAAAAQEBAzczMzMzMOUBmZmZmZqZBQFyPwvUovD1AmpmZmZk5OEB7FK5H4Xo9QOxRuB6FC0dAZmZmZmbmQUCamZmZmRlBQOF6FK5HQT9AMzMzMzNzRUAzMzMzMzM+QM3MzMzMzD5AexSuR+F6QUD2KFyPwlVCQOxRuB6FyzhAUrgehethQkDsUbgehcs4QD0K16NwXTlAKVyPwvUoQUApXI\\u002fC9Sg8QDMzMzMzE0RAj8L1KFz\\u002fQ0DsUbgehes9QPYoXI\\u002fCdTlAzczMzMzMOUA9CtejcB0+QIXrUbgepTtA9ihcj8LVO0CamZmZmZk\\u002fQIXrUbgeRTxAZmZmZmZGN0DNzMzMzAxBQMP1KFyP4jpAmpmZmZmZPUBxPQrXozAzQNejcD0KNzxAPQrXo3C9O0DNzMzMzMw2QOF6FK5HITRAZmZmZmYmQECamZmZmZk7QLgehetR6EFAAAAAAACAQkAK16NwPQpCQClcj8L1qEZAmpmZmZmZP0AK16NwPUoxQEjhehSupzdAmpmZmZmZQUAAAAAAAAA3QB+F61G4fj5Aj8L1KFyfQUAzMzMzM7M4QBSuR+F6FDlAZmZmZmbmPkAK16NwPXpCQBSuR+F61D1AzczMzMzMPUCF61G4HqU7QGZmZmZm5jxACtejcD3KP0C4HoXrUZg8QM3MzMzMTDlAhetRuB6lQkCkcD0K11NFQGZmZmZm5j9AKVyPwvWIQkDhehSuR+E8QAAAAAAAAEBAMzMzMzPzM0DNzMzMzEwyQJqZmZmZ+TxAH4XrUbjeR0C4HoXrURhCQBSuR+F61D1AmpmZmZnZQEB7FK5H4XpBQAAAAAAA4D5AmpmZmZmZPEDNzMzMzMw9QD0K16NwPT9AzczMzMzsPUC4HoXrUTg6QJqZmZmZWTRAZmZmZmYmQEBSuB6F6zFDQJqZmZmZ2TlA9ihcj8JVQECkcD0K16M9QPYoXI\\u002fCFUNArkfhehRuQkBmZmZmZuY9QB+F61G43jdA9ihcj8JVMkAfhetRuB48QAAAAAAAADlAKVyPwvWIQkDNzMzMzExAQFyPwvUo3DhA7FG4HoUrQEBmZmZmZiZAQDMzMzMzY0BAAAAAAACANUDNzMzMzAxBQEjhehSuR0BArkfhehTuO0DD9ShcjyI2QArXo3A9SkFAj8L1KFxPPEA9CtejcA1BQDMzMzMzszpAw\\u002fUoXI9CPUDhehSuRyE4QGZmZmZmZjtAmpmZmZmpREBcj8L1KFw7QI\\u002fC9ShcjzdAhetRuB5FOUDhehSuR8E1QJqZmZmZSUJAZmZmZmbGQEB7FK5H4Vo9QFK4HoXrUThAAAAAAAAwREBmZmZmZiZAQDMzMzMzs0BArkfhehSOOUAAAAAAAOA+QM3MzMzMDEFAZmZmZmamQEAUrkfhehQ5QM3MzMzMTEFA9ihcj8I1PkC4HoXrUfg4QM3MzMzMTDlAcT0K16PwN0BxPQrXo9AwQNejcD0Kl0JArkfhehQ+QUB7FK5H4Zo4QBSuR+F61DtAFK5H4Xq0NkBmZmZmZuZEQDMzMzMzszlAzczMzMxMPUAzMzMzM\\u002fNCQOF6FK5HMUJAhetRuB6lO0DsUbgehdtCQK5H4XoULjdAzczMzMwMPEBmZmZmZuY9QFyPwvUorEBAAAAAAACAPkAAAAAAAIA7QIXrUbgehTlAzczMzMzsPUAK16NwPapAQIXrUbgepTtAUrgehetROEBmZmZmZuY5QClcj8L1KEFAMzMzMzPzM0AfhetRuL45QFyPwvUoXD5AzczMzMzMO0B7FK5H4Zo4QJqZmZmZGUBAcT0K16NQOkBxPQrXo1A6QI\\u002fC9ShcL0RAj8L1KFxvQEBI4XoUrgc+QM3MzMzMTENAmpmZmZlZRkC4HoXrUfg+QA==\"},\"type\":\"box\"},{\"boxmean\":true,\"marker\":{\"color\":\"rgb(247, 186, 166)\"},\"name\":\"Elders\",\"y\":{\"dtype\":\"f8\",\"bdata\":\"16NwPQrXOUAK16NwPUo6QClcj8L16ENAZmZmZmYmREBxPQrXowBCQLgehetRuDtA9ihcj8IVN0CPwvUoXE88QOxRuB6Fe0BAMzMzMzPzQ0BI4XoUroc4QArXo3A9ekJAMzMzMzPTP0AzMzMzM7M4QM3MzMzMjENA4XoUrkcBQEDhehSuRwFBQClcj8L1KD9AMzMzMzMzO0AUrkfhetQ9QM3MzMzMTD9AMzMzMzPzM0DsUbgehes9QOxRuB6Fi0FAuB6F61GYPEBI4XoUrodIQOF6FK5HgTpACtejcD0KNkBcj8L1KLxEQJqZmZmZ2UJAuB6F61GYPEBSuB6F65E\\u002fQJqZmZmZmTpACtejcD2qQ0ApXI\\u002fC9Qg4QGZmZmZmZjpAzczMzMzMP0AUrkfhevREQBSuR+F61DtAAAAAAACAO0A9CtejcL07QEjhehSuB0NAmpmZmZkZQEBxPQrXo9BAQDMzMzMzMzlAw\\u002fUoXI8yQEAK16NwPco\\u002fQLgehetRODpAUrgehethQkDhehSuR8FCQAAAAAAAAENAH4XrUbhuQUApXI\\u002fC9XhEQGZmZmZm5kBA4XoUrkcxQkApXI\\u002fC9Sg\\u002fQClcj8L1yDxAAAAAAABAQUA9CtejcL05QM3MzMzMjDtAhetRuB4FPkDNzMzMzIw7QFK4HoXrYUJArkfhehQuN0BmZmZmZiZAQNejcD0KFzVAexSuR+E6NkA9CtejcB0+QPYoXI\\u002fCdT9AZmZmZmaGQ0CamZmZmZk5QOxRuB6Fe0BAFK5H4XqUQ0B7FK5H4fo6QHE9Ctej8EBArkfhehTuQUAAAAAAAIA+QK5H4XoUjkBAw\\u002fUoXI9CQkBSuB6F67E6QKRwPQrXoz1AZmZmZmamOUAzMzMzM7NCQB+F61G4fj5AzczMzMzMQ0Bcj8L1KAxDQI\\u002fC9Shc7zlAMzMzMzOzPEApXI\\u002fC9ehAQI\\u002fC9ShcTzxAmpmZmZmpREAUrkfhehQ5QDMzMzMzs0VAmpmZmZmZQ0AzMzMzM7M8QK5H4XoUDkBAmpmZmZnZQUBxPQrXoxBFQHsUrkfhuj9AMzMzMzOzPUA9CtejcD1EQGZmZmZmJkJAzczMzMzMPkBmZmZmZmY1QK5H4XoUbkJA9ihcj8IlQUDsUbgehSs7QPYoXI\\u002fCdTlAFK5H4Xr0QUAAAAAAAAA9QM3MzMzMTDlAZmZmZmaGQ0BI4XoUrqc3QLgehetRmDxAKVyPwvXIPEAAAAAAAABDQLgehetRGENAFK5H4XrUQECF61G4HvVAQOxRuB6Fe0BAmpmZmZmZQUApXI\\u002fC9cg8QHsUrkfh+jdAPQrXo3D9NkBSuB6F6wFAQJqZmZmZWT9AzczMzMwMQkDNzMzMzNxAQGZmZmZm5jxAUrgehetROEC4HoXrUbhAQDMzMzMzs0JAzczMzMwMQECkcD0K1\\u002fNCQIXrUbgexTZAMzMzMzPTP0CamZmZmdlDQM3MzMzMDEJACtejcD16QkDsUbgehes9QM3MzMzMjEBAXI\\u002fC9Sj8QUBSuB6F61E4QDMzMzMz0z9ACtejcD3KP0DNzMzMzIxAQFK4HoXrMUFAj8L1KFxPPECamZmZmVk\\u002fQDMzMzMzszhAj8L1KFzPPUCamZmZmTlAQGZmZmZmJkBAmpmZmZkZPECamZmZmdlFQEjhehSupzdAmpmZmZn5PEBxPQrXo9BAQMP1KFyP4jpArkfhehQOQEAAAAAAAABGQPYoXI\\u002fCdURAzczMzMyMQUBmZmZmZuZDQFK4HoXrsTpAMzMzMzMzPEAAAAAAAAA5QJqZmZmZmUBAmpmZmZkZNEAUrkfhepRDQAAAAAAAgDtA16NwPQr3Q0BmZmZmZuZBQPYoXI\\u002fCVTJAmpmZmZmZQUDNzMzMzGxCQArXo3A9qkBA9ihcj8J1OUBxPQrXozBDQClcj8L1aDpAcT0K16PwO0BSuB6F65FEQClcj8L1qDVAUrgehetxP0D2KFyPwlUyQBSuR+F61EBAH4XrUbh+PkAK16NwPYo\\u002fQJqZmZmZGTZACtejcD0KQkAUrkfhehQ5QKRwPQrXI0RAZmZmZmZmQEA9CtejcD1CQI\\u002fC9ShcL0RAFK5H4Xr0REDXo3A9CldAQMP1KFyPMkBAZmZmZmZmQUDNzMzMzIxCQNejcD0KN0FArkfhehROPkDNzMzMzEw3QClcj8L1qDVA16NwPQo3PEB7FK5H4XpCQMP1KFyPwjdAMzMzMzOzN0BmZmZmZiZCQM3MzMzMLDlAAAAAAADgPkBSuB6F67E6QArXo3A9akNAFK5H4XrEQEA9CtejcL05QFK4HoXrET1A\"},\"type\":\"box\"}],                        {\"template\":{\"data\":{\"barpolar\":[{\"marker\":{\"line\":{\"color\":\"#E5ECF6\",\"width\":0.5},\"pattern\":{\"fillmode\":\"overlay\",\"size\":10,\"solidity\":0.2}},\"type\":\"barpolar\"}],\"bar\":[{\"error_x\":{\"color\":\"#2a3f5f\"},\"error_y\":{\"color\":\"#2a3f5f\"},\"marker\":{\"line\":{\"color\":\"#E5ECF6\",\"width\":0.5},\"pattern\":{\"fillmode\":\"overlay\",\"size\":10,\"solidity\":0.2}},\"type\":\"bar\"}],\"carpet\":[{\"aaxis\":{\"endlinecolor\":\"#2a3f5f\",\"gridcolor\":\"white\",\"linecolor\":\"white\",\"minorgridcolor\":\"white\",\"startlinecolor\":\"#2a3f5f\"},\"baxis\":{\"endlinecolor\":\"#2a3f5f\",\"gridcolor\":\"white\",\"linecolor\":\"white\",\"minorgridcolor\":\"white\",\"startlinecolor\":\"#2a3f5f\"},\"type\":\"carpet\"}],\"choropleth\":[{\"colorbar\":{\"outlinewidth\":0,\"ticks\":\"\"},\"type\":\"choropleth\"}],\"contourcarpet\":[{\"colorbar\":{\"outlinewidth\":0,\"ticks\":\"\"},\"type\":\"contourcarpet\"}],\"contour\":[{\"colorbar\":{\"outlinewidth\":0,\"ticks\":\"\"},\"colorscale\":[[0.0,\"#0d0887\"],[0.1111111111111111,\"#46039f\"],[0.2222222222222222,\"#7201a8\"],[0.3333333333333333,\"#9c179e\"],[0.4444444444444444,\"#bd3786\"],[0.5555555555555556,\"#d8576b\"],[0.6666666666666666,\"#ed7953\"],[0.7777777777777778,\"#fb9f3a\"],[0.8888888888888888,\"#fdca26\"],[1.0,\"#f0f921\"]],\"type\":\"contour\"}],\"heatmap\":[{\"colorbar\":{\"outlinewidth\":0,\"ticks\":\"\"},\"colorscale\":[[0.0,\"#0d0887\"],[0.1111111111111111,\"#46039f\"],[0.2222222222222222,\"#7201a8\"],[0.3333333333333333,\"#9c179e\"],[0.4444444444444444,\"#bd3786\"],[0.5555555555555556,\"#d8576b\"],[0.6666666666666666,\"#ed7953\"],[0.7777777777777778,\"#fb9f3a\"],[0.8888888888888888,\"#fdca26\"],[1.0,\"#f0f921\"]],\"type\":\"heatmap\"}],\"histogram2dcontour\":[{\"colorbar\":{\"outlinewidth\":0,\"ticks\":\"\"},\"colorscale\":[[0.0,\"#0d0887\"],[0.1111111111111111,\"#46039f\"],[0.2222222222222222,\"#7201a8\"],[0.3333333333333333,\"#9c179e\"],[0.4444444444444444,\"#bd3786\"],[0.5555555555555556,\"#d8576b\"],[0.6666666666666666,\"#ed7953\"],[0.7777777777777778,\"#fb9f3a\"],[0.8888888888888888,\"#fdca26\"],[1.0,\"#f0f921\"]],\"type\":\"histogram2dcontour\"}],\"histogram2d\":[{\"colorbar\":{\"outlinewidth\":0,\"ticks\":\"\"},\"colorscale\":[[0.0,\"#0d0887\"],[0.1111111111111111,\"#46039f\"],[0.2222222222222222,\"#7201a8\"],[0.3333333333333333,\"#9c179e\"],[0.4444444444444444,\"#bd3786\"],[0.5555555555555556,\"#d8576b\"],[0.6666666666666666,\"#ed7953\"],[0.7777777777777778,\"#fb9f3a\"],[0.8888888888888888,\"#fdca26\"],[1.0,\"#f0f921\"]],\"type\":\"histogram2d\"}],\"histogram\":[{\"marker\":{\"pattern\":{\"fillmode\":\"overlay\",\"size\":10,\"solidity\":0.2}},\"type\":\"histogram\"}],\"mesh3d\":[{\"colorbar\":{\"outlinewidth\":0,\"ticks\":\"\"},\"type\":\"mesh3d\"}],\"parcoords\":[{\"line\":{\"colorbar\":{\"outlinewidth\":0,\"ticks\":\"\"}},\"type\":\"parcoords\"}],\"pie\":[{\"automargin\":true,\"type\":\"pie\"}],\"scatter3d\":[{\"line\":{\"colorbar\":{\"outlinewidth\":0,\"ticks\":\"\"}},\"marker\":{\"colorbar\":{\"outlinewidth\":0,\"ticks\":\"\"}},\"type\":\"scatter3d\"}],\"scattercarpet\":[{\"marker\":{\"colorbar\":{\"outlinewidth\":0,\"ticks\":\"\"}},\"type\":\"scattercarpet\"}],\"scattergeo\":[{\"marker\":{\"colorbar\":{\"outlinewidth\":0,\"ticks\":\"\"}},\"type\":\"scattergeo\"}],\"scattergl\":[{\"marker\":{\"colorbar\":{\"outlinewidth\":0,\"ticks\":\"\"}},\"type\":\"scattergl\"}],\"scattermapbox\":[{\"marker\":{\"colorbar\":{\"outlinewidth\":0,\"ticks\":\"\"}},\"type\":\"scattermapbox\"}],\"scattermap\":[{\"marker\":{\"colorbar\":{\"outlinewidth\":0,\"ticks\":\"\"}},\"type\":\"scattermap\"}],\"scatterpolargl\":[{\"marker\":{\"colorbar\":{\"outlinewidth\":0,\"ticks\":\"\"}},\"type\":\"scatterpolargl\"}],\"scatterpolar\":[{\"marker\":{\"colorbar\":{\"outlinewidth\":0,\"ticks\":\"\"}},\"type\":\"scatterpolar\"}],\"scatter\":[{\"fillpattern\":{\"fillmode\":\"overlay\",\"size\":10,\"solidity\":0.2},\"type\":\"scatter\"}],\"scatterternary\":[{\"marker\":{\"colorbar\":{\"outlinewidth\":0,\"ticks\":\"\"}},\"type\":\"scatterternary\"}],\"surface\":[{\"colorbar\":{\"outlinewidth\":0,\"ticks\":\"\"},\"colorscale\":[[0.0,\"#0d0887\"],[0.1111111111111111,\"#46039f\"],[0.2222222222222222,\"#7201a8\"],[0.3333333333333333,\"#9c179e\"],[0.4444444444444444,\"#bd3786\"],[0.5555555555555556,\"#d8576b\"],[0.6666666666666666,\"#ed7953\"],[0.7777777777777778,\"#fb9f3a\"],[0.8888888888888888,\"#fdca26\"],[1.0,\"#f0f921\"]],\"type\":\"surface\"}],\"table\":[{\"cells\":{\"fill\":{\"color\":\"#EBF0F8\"},\"line\":{\"color\":\"white\"}},\"header\":{\"fill\":{\"color\":\"#C8D4E3\"},\"line\":{\"color\":\"white\"}},\"type\":\"table\"}]},\"layout\":{\"annotationdefaults\":{\"arrowcolor\":\"#2a3f5f\",\"arrowhead\":0,\"arrowwidth\":1},\"autotypenumbers\":\"strict\",\"coloraxis\":{\"colorbar\":{\"outlinewidth\":0,\"ticks\":\"\"}},\"colorscale\":{\"diverging\":[[0,\"#8e0152\"],[0.1,\"#c51b7d\"],[0.2,\"#de77ae\"],[0.3,\"#f1b6da\"],[0.4,\"#fde0ef\"],[0.5,\"#f7f7f7\"],[0.6,\"#e6f5d0\"],[0.7,\"#b8e186\"],[0.8,\"#7fbc41\"],[0.9,\"#4d9221\"],[1,\"#276419\"]],\"sequential\":[[0.0,\"#0d0887\"],[0.1111111111111111,\"#46039f\"],[0.2222222222222222,\"#7201a8\"],[0.3333333333333333,\"#9c179e\"],[0.4444444444444444,\"#bd3786\"],[0.5555555555555556,\"#d8576b\"],[0.6666666666666666,\"#ed7953\"],[0.7777777777777778,\"#fb9f3a\"],[0.8888888888888888,\"#fdca26\"],[1.0,\"#f0f921\"]],\"sequentialminus\":[[0.0,\"#0d0887\"],[0.1111111111111111,\"#46039f\"],[0.2222222222222222,\"#7201a8\"],[0.3333333333333333,\"#9c179e\"],[0.4444444444444444,\"#bd3786\"],[0.5555555555555556,\"#d8576b\"],[0.6666666666666666,\"#ed7953\"],[0.7777777777777778,\"#fb9f3a\"],[0.8888888888888888,\"#fdca26\"],[1.0,\"#f0f921\"]]},\"colorway\":[\"#636efa\",\"#EF553B\",\"#00cc96\",\"#ab63fa\",\"#FFA15A\",\"#19d3f3\",\"#FF6692\",\"#B6E880\",\"#FF97FF\",\"#FECB52\"],\"font\":{\"color\":\"#2a3f5f\"},\"geo\":{\"bgcolor\":\"white\",\"lakecolor\":\"white\",\"landcolor\":\"#E5ECF6\",\"showlakes\":true,\"showland\":true,\"subunitcolor\":\"white\"},\"hoverlabel\":{\"align\":\"left\"},\"hovermode\":\"closest\",\"mapbox\":{\"style\":\"light\"},\"paper_bgcolor\":\"white\",\"plot_bgcolor\":\"#E5ECF6\",\"polar\":{\"angularaxis\":{\"gridcolor\":\"white\",\"linecolor\":\"white\",\"ticks\":\"\"},\"bgcolor\":\"#E5ECF6\",\"radialaxis\":{\"gridcolor\":\"white\",\"linecolor\":\"white\",\"ticks\":\"\"}},\"scene\":{\"xaxis\":{\"backgroundcolor\":\"#E5ECF6\",\"gridcolor\":\"white\",\"gridwidth\":2,\"linecolor\":\"white\",\"showbackground\":true,\"ticks\":\"\",\"zerolinecolor\":\"white\"},\"yaxis\":{\"backgroundcolor\":\"#E5ECF6\",\"gridcolor\":\"white\",\"gridwidth\":2,\"linecolor\":\"white\",\"showbackground\":true,\"ticks\":\"\",\"zerolinecolor\":\"white\"},\"zaxis\":{\"backgroundcolor\":\"#E5ECF6\",\"gridcolor\":\"white\",\"gridwidth\":2,\"linecolor\":\"white\",\"showbackground\":true,\"ticks\":\"\",\"zerolinecolor\":\"white\"}},\"shapedefaults\":{\"line\":{\"color\":\"#2a3f5f\"}},\"ternary\":{\"aaxis\":{\"gridcolor\":\"white\",\"linecolor\":\"white\",\"ticks\":\"\"},\"baxis\":{\"gridcolor\":\"white\",\"linecolor\":\"white\",\"ticks\":\"\"},\"bgcolor\":\"#E5ECF6\",\"caxis\":{\"gridcolor\":\"white\",\"linecolor\":\"white\",\"ticks\":\"\"}},\"title\":{\"x\":0.05},\"xaxis\":{\"automargin\":true,\"gridcolor\":\"white\",\"linecolor\":\"white\",\"ticks\":\"\",\"title\":{\"standoff\":15},\"zerolinecolor\":\"white\",\"zerolinewidth\":2},\"yaxis\":{\"automargin\":true,\"gridcolor\":\"white\",\"linecolor\":\"white\",\"ticks\":\"\",\"title\":{\"standoff\":15},\"zerolinecolor\":\"white\",\"zerolinewidth\":2}}},\"title\":{\"text\":\"Body Mass Index \\u003cbr\\u003e by Age Category\"},\"xaxis\":{\"title\":{\"font\":{\"size\":16},\"text\":\"Age Category\"}},\"yaxis\":{\"title\":{\"font\":{\"size\":16},\"text\":\"Body Mass Index\"}}},                        {\"responsive\": true}                    ).then(function(){\n",
       "                            \n",
       "var gd = document.getElementById('2b368ff1-3a5e-473a-a9ee-0f7ed2cb7af4');\n",
       "var x = new MutationObserver(function (mutations, observer) {{\n",
       "        var display = window.getComputedStyle(gd).display;\n",
       "        if (!display || display === 'none') {{\n",
       "            console.log([gd, 'removed!']);\n",
       "            Plotly.purge(gd);\n",
       "            observer.disconnect();\n",
       "        }}\n",
       "}});\n",
       "\n",
       "// Listen for the removal of the full notebook cells\n",
       "var notebookContainer = gd.closest('#notebook-container');\n",
       "if (notebookContainer) {{\n",
       "    x.observe(notebookContainer, {childList: true});\n",
       "}}\n",
       "\n",
       "// Listen for the clearing of the current output cell\n",
       "var outputEl = gd.closest('.output');\n",
       "if (outputEl) {{\n",
       "    x.observe(outputEl, {childList: true});\n",
       "}}\n",
       "\n",
       "                        })                };            </script>        </div>"
      ]
     },
     "metadata": {},
     "output_type": "display_data"
    }
   ],
   "source": [
    "young_adults = df[\"bmi\"].loc[df[\"age_cat\"] == \"Young Adult\"].values\n",
    "senior_adult = df[\"bmi\"].loc[df[\"age_cat\"] == \"Senior Adult\"].values\n",
    "elders = df[\"bmi\"].loc[df[\"age_cat\"] == \"Elder\"].values\n",
    "\n",
    "trace0 = go.Box(\n",
    "    y=young_adults,\n",
    "    name = 'Young Adults',\n",
    "    boxmean= True,\n",
    "    marker = dict(\n",
    "        color = 'rgb(214, 12, 140)',\n",
    "    )\n",
    ")\n",
    "trace1 = go.Box(\n",
    "    y=senior_adult,\n",
    "    name = 'Senior Adults',\n",
    "    boxmean= True,\n",
    "    marker = dict(\n",
    "        color = 'rgb(0, 128, 128)',\n",
    "    )\n",
    ")\n",
    "\n",
    "trace2 = go.Box(\n",
    "    y=elders,\n",
    "    name = 'Elders',\n",
    "    boxmean= True,\n",
    "    marker = dict(\n",
    "        color = 'rgb(247, 186, 166)',\n",
    "    )\n",
    ")\n",
    "\n",
    "\n",
    " \n",
    "\n",
    "data = [trace0, trace1, trace2]\n",
    "\n",
    "layout = go.Layout(\n",
    "    title=\"Body Mass Index <br> by Age Category\",\n",
    "    xaxis=dict(\n",
    "        title=dict(\n",
    "            text=\"Age Category\",\n",
    "            font=dict(size=16)\n",
    "        )\n",
    "    ),\n",
    "    yaxis=dict(\n",
    "        title=dict(\n",
    "            text=\"Body Mass Index\",\n",
    "            font=dict(size=16)\n",
    "        )\n",
    "    )\n",
    ")\n",
    "\n",
    "fig = go.Figure(data=data, layout=layout)\n",
    "iplot(fig)\n"
   ]
  },
  {
   "cell_type": "code",
   "execution_count": 8,
   "metadata": {},
   "outputs": [
    {
     "name": "stdout",
     "output_type": "stream",
     "text": [
      "                            OLS Regression Results                            \n",
      "==============================================================================\n",
      "Dep. Variable:                    bmi   R-squared:                       0.009\n",
      "Model:                            OLS   Adj. R-squared:                  0.007\n",
      "Method:                 Least Squares   F-statistic:                     5.949\n",
      "Date:                Thu, 16 Oct 2025   Prob (F-statistic):            0.00268\n",
      "Time:                        10:54:54   Log-Likelihood:                -4311.2\n",
      "No. Observations:                1338   AIC:                             8628.\n",
      "Df Residuals:                    1335   BIC:                             8644.\n",
      "Df Model:                           2                                         \n",
      "Covariance Type:            nonrobust                                         \n",
      "===========================================================================================\n",
      "                              coef    std err          t      P>|t|      [0.025      0.975]\n",
      "-------------------------------------------------------------------------------------------\n",
      "Intercept                  31.7393      0.413     76.776      0.000      30.928      32.550\n",
      "age_cat[T.Senior Adult]    -0.9202      0.488     -1.885      0.060      -1.878       0.037\n",
      "age_cat[T.Young Adult]     -1.6295      0.485     -3.360      0.001      -2.581      -0.678\n",
      "==============================================================================\n",
      "Omnibus:                       19.635   Durbin-Watson:                   2.098\n",
      "Prob(Omnibus):                  0.000   Jarque-Bera (JB):               20.284\n",
      "Skew:                           0.301   Prob(JB):                     3.94e-05\n",
      "Kurtosis:                       2.981   Cond. No.                         5.27\n",
      "==============================================================================\n",
      "\n",
      "Notes:\n",
      "[1] Standard Errors assume that the covariance matrix of the errors is correctly specified.\n"
     ]
    }
   ],
   "source": [
    "import statsmodels.api as sm\n",
    "from statsmodels.formula.api import ols\n",
    "\n",
    "\n",
    "moore_lm = ols(\"bmi ~ age_cat\", data=df).fit()\n",
    "print(moore_lm.summary())"
   ]
  },
  {
   "cell_type": "code",
   "execution_count": 9,
   "metadata": {},
   "outputs": [
    {
     "data": {
      "text/html": [
       "        <script type=\"text/javascript\">\n",
       "        window.PlotlyConfig = {MathJaxConfig: 'local'};\n",
       "        if (window.MathJax && window.MathJax.Hub && window.MathJax.Hub.Config) {window.MathJax.Hub.Config({SVG: {font: \"STIX-Web\"}});}\n",
       "        </script>\n",
       "        <script type=\"module\">import \"https://cdn.plot.ly/plotly-3.1.1.min\"</script>\n",
       "        "
      ]
     },
     "metadata": {},
     "output_type": "display_data"
    },
    {
     "data": {
      "application/vnd.plotly.v1+json": {
       "config": {
        "linkText": "Export to plot.ly",
        "plotlyServerURL": "https://plot.ly",
        "showLink": false
       },
       "data": [
        {
         "boxpoints": "all",
         "fillcolor": "rgba(251, 43, 43, 0.5)",
         "jitter": 0.5,
         "line": {
          "width": 1
         },
         "marker": {
          "size": 2
         },
         "name": "Young A. Smoker",
         "type": "box",
         "whiskerwidth": 0.2,
         "y": {
          "bdata": "ZmZmZmbmO0BxPQrXoxBFQGZmZmZmpkFA7FG4HoXrP0BmZmZmZiZCQM3MzMzMzEFAMzMzMzMzQkD2KFyPwlVCQK5H4XoUrj9A7FG4HoVrNkB7FK5H4fo3QAAAAAAAwDhAj8L1KFzPQkBmZmZmZgY8QHE9Ctej8DtAzczMzMxMPECkcD0K18MxQM3MzMzMTDlAcT0K16OwPEDNzMzMzCw5QKRwPQrXw0FAzczMzMxsQkAK16NwPQpCQD0K16NwvTtAZmZmZmZmQUBSuB6F6xE9QPYoXI/CVUJACtejcD1KMUDsUbgehes/QNejcD0K1zpACtejcD16QkCF61G4HsVGQDMzMzMzsztAUrgehesxQUBmZmZmZmY/QM3MzMzMzD5AMzMzMzOzNUAzMzMzM3NAQI/C9ShcTzxAMzMzMzMTREAUrkfhevQxQFK4HoXrMTFAAAAAAADAQEDhehSuR2E8QAAAAAAAgDxAMzMzMzOzOUAzMzMzMzNBQAAAAAAAQD5APQrXo3ANQUBcj8L1KAxDQPYoXI/CNT5AmpmZmZnZNUCPwvUoXE88QGZmZmZm5kJArkfhehSOQEAUrkfhesRAQOF6FK5HIT9AZmZmZmaGQ0DhehSuR8E1QOxRuB6FazhAexSuR+G6P0AAAAAAAMBBQGZmZmZmJj1A9ihcj8IVQ0CamZmZmRk7QOF6FK5H4TxAZmZmZmZmOEAAAAAAAIA8QOxRuB6FyzhAH4XrUbgeRUCkcD0K18NBQKRwPQrXY0BA4XoUrkchOECuR+F6FO48QJqZmZmZmThAexSuR+G6P0AzMzMzM7M9QPYoXI/C1TtAhetRuB7lNkBmZmZmZuY5QIXrUbgehTRA7FG4HoULNEA9CtejcP02QJqZmZmZWUBAhetRuB4FP0BI4XoUrgc6QHE9CtejkDVAKVyPwvWIQkBmZmZmZgY8QI/C9Shcrz5ACtejcD1KSkCuR+F6FK4/QGZmZmZmZj5AuB6F61EYM0AK16NwPapAQAAAAAAA4EFAZmZmZmZmP0AAAAAAAGBFQB+F61G4PkBAcT0K16NwRkBcj8L1KFw7QI/C9Shczz1APQrXo3B9PEAAAAAAANBBQIXrUbgeBT5ASOF6FK5HO0DsUbgehWs4QM3MzMzMzDVAcT0K16PQQEAUrkfhetQ9QM3MzMzMTDtAcT0K16MQP0CPwvUoXA87QClcj8L1qDVAMzMzMzOzQ0AzMzMzM3NBQJqZmZmZ2TVAH4XrUbgePEAzMzMzMzM+QJqZmZmZWUFASOF6FK6nN0A=",
          "dtype": "f8"
         }
        },
        {
         "boxpoints": "all",
         "fillcolor": "rgba(125, 251, 137, 0.5)",
         "jitter": 0.5,
         "line": {
          "width": 1
         },
         "marker": {
          "size": 2
         },
         "name": "Young A. Non-Smoker",
         "type": "box",
         "whiskerwidth": 0.2,
         "y": {
          "bdata": "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",
          "dtype": "f8"
         }
        },
        {
         "boxpoints": "all",
         "fillcolor": "rgba(251, 43, 43, 0.5)",
         "jitter": 0.5,
         "line": {
          "width": 1
         },
         "marker": {
          "size": 2
         },
         "name": "Senior A. Smoker",
         "type": "box",
         "whiskerwidth": 0.2,
         "y": {
          "bdata": "mpmZmZmZQUAAAAAAAAA8QNejcD0KN0FA4XoUrkfhNkBmZmZmZmZBQIXrUbge5TZAzczMzMxMM0CamZmZmVk/QB+F61G4fj5AH4XrUbheN0DsUbgehWs4QJqZmZmZmTpAw/UoXI/yRECkcD0K16M4QLgehetRODZAexSuR+EaQUAzMzMzM9M/QFK4HoXrUThAzczMzMwsRUDNzMzMzMwzQJqZmZmZGUFAH4XrUbgePEC4HoXrUUhEQClcj8L1aDlAXI/C9SicNkBcj8L1KPxBQD0K16NwPUJAXI/C9ShcO0BmZmZmZiZAQKRwPQrX4zhAj8L1KFyvPkBcj8L1KDw0QJqZmZmZmTZAMzMzMzNjQEAAAAAAAAA+QJqZmZmZGTlASOF6FK4HQ0D2KFyPwjU3QM3MzMzMTDxAUrgehesROkAUrkfherRHQNejcD0K1zlAmpmZmZkZR0C4HoXrUUhEQHE9CtejUEJAmpmZmZmZOUDNzMzMzAxBQJqZmZmZeUNAKVyPwvVoOkCPwvUoXE88QM3MzMzMTDlASOF6FK4HQ0AzMzMzM2NAQFK4HoXr8UVAZmZmZmamQUAAAAAAAOBBQEjhehSuB0NAUrgehesxQ0A9CtejcA1BQGZmZmZmZjpAFK5H4XrUO0CamZmZmZk7QGZmZmZm5jRAAAAAAAAgOkBmZmZmZgY8QEjhehSuxz5ASOF6FK7HPkCkcD0K18NBQLgehetR2DdArkfhehSOQEDNzMzMzMxHQGZmZmZmhkJAuB6F61F4Q0DsUbgehQs0QMP1KFyP4jpAhetRuB7lNkCamZmZmRlBQDMzMzMzc0VAMzMzMzMzPkDNzMzMzMw+QHsUrkfhekFA7FG4HoXLOEDXo3A9Cjc8QOF6FK5HITRACtejcD0KQkBI4XoUrqc3QJqZmZmZmUFAH4XrUbh+PkAzMzMzM7M4QGZmZmZm5j5AzczMzMzMPUApXI/C9YhCQM3MzMzMTDJAuB6F61EYQkB7FK5H4XpBQFK4HoXrMUNAmpmZmZnZOUCuR+F6FG5CQEjhehSuR0BAMzMzMzOzOkDhehSuRyE4QIXrUbgeRTlAMzMzMzOzQECuR+F6FI45QM3MzMzMTEFArkfhehQ+QUBmZmZmZuZEQM3MzMzM7D1AhetRuB6lO0Bcj8L1KFw+QM3MzMzMzDtAexSuR+GaOECPwvUoXC9EQA==",
          "dtype": "f8"
         }
        },
        {
         "boxpoints": "all",
         "fillcolor": "rgba(125, 251, 137, 0.5)",
         "jitter": 0.5,
         "line": {
          "width": 1
         },
         "marker": {
          "size": 2
         },
         "name": "Senior A. Non-Smoker",
         "type": "box",
         "whiskerwidth": 0.2,
         "y": {
          "bdata": "uB6F61G4QEA9CtejcL07QBSuR+F61D1ASOF6FK7HPkBmZmZmZgY8QDMzMzMzY0BASOF6FK7HNUDNzMzMzMw+QGZmZmZmhkJAZmZmZmamQkBxPQrXo7A8QFyPwvUoXDtAcT0K16NQOkC4HoXrURhCQJqZmZmZGTxAZmZmZmZmO0DsUbgehXtAQBSuR+F6JENAPQrXo3CdREA9CtejcL07QHsUrkfh+jpA7FG4HoXLOEDNzMzMzMw+QKRwPQrXI0NAmpmZmZmZP0BxPQrXo9BAQDMzMzMzsz1AzczMzMzMPkAK16NwPRpAQOxRuB6FKztAH4XrUbheN0DNzMzMzIxCQIXrUbge9UBAMzMzMzOzQkCamZmZmVlBQDMzMzMz80FAZmZmZmbmP0A9CtejcN1CQNejcD0Kt0JAMzMzMzOzPUD2KFyPwnU5QMP1KFyPwkNAFK5H4XrUO0DNzMzMzMxDQKRwPQrXoz1A16NwPQo3PEDNzMzMzEw+QPYoXI/C1TtAMzMzMzMzPUBmZmZmZuY8QKRwPQrXk0BAKVyPwvVoOkBxPQrXo7A+QJqZmZmZGUBAMzMzMzMzOkBmZmZmZmZAQJqZmZmZmTxAzczMzMwMMkA9CtejcB1AQM3MzMzMTDZAPQrXo3CdREAAAAAAAOA+QGZmZmZm5j5AzczMzMyMQkCamZmZmZk6QAAAAAAAoEBAcT0K16PwQEDD9Shcj6I/QPYoXI/CdTlAKVyPwvUYQkDD9Shcj4I4QEjhehSuB0NAzczMzMzMOkBmZmZmZqZBQIXrUbgeBT5APQrXo3BdOUAzMzMzMxNEQArXo3A9ajhASOF6FK4HQ0AzMzMzMzM+QNejcD0K1zlAZmZmZmaGQkAUrkfhenQ7QJqZmZmZmTpAj8L1KFyPNUDD9ShcjzJAQDMzMzMzMz9AH4XrUbieOkApXI/C9QhIQGZmZmZmZjpA4XoUrkfhPEDNzMzMzIw7QEjhehSuh0BAmpmZmZmZOkCuR+F6FO5BQAAAAAAAoEBACtejcD0aQEAzMzMzM2NAQIXrUbgepTtAPQrXo3ANQUCamZmZmVlCQFyPwvUo3EFAuB6F61G4O0Bcj8L1KLxEQFyPwvUorEBA7FG4HoXrPUCamZmZmZk5QJqZmZmZmTtAUrgehevxRUAUrkfhetQ9QGZmZmZmJkBASOF6FK7HPkBcj8L1KPw4QFK4HoXrAUBApHA9CteTQEAAAAAAAIBAQMP1KFyPIjZAPQrXo3BdOUAAAAAAANBBQFK4HoXrcT9AmpmZmZlZP0BmZmZmZiZAQHsUrkfh2jNAMzMzMzMzQUCamZmZmZk0QMP1KFyPwkdAZmZmZmYmQEBxPQrXozBDQJqZmZmZmTdAH4XrUbgeNUBSuB6F69FBQM3MzMzMDEFAMzMzMzMzPkCPwvUoXE84QKRwPQrXQztAZmZmZmbmOkAAAAAAAGBHQM3MzMzMjEBAmpmZmZmZPUCamZmZmZk9QKRwPQrXIz5AAAAAAACAQEBxPQrXo1BCQFyPwvUorEBA4XoUrkfBQkAAAAAAAMBDQGZmZmZmJkFAuB6F61F4NUApXI/C9Sg/QDMzMzMzszxAexSuR+H6N0BI4XoUrgc6QK5H4XoU7jxAAAAAAADgPkDsUbgehWs2QB+F61G4fj5AXI/C9ShcO0CF61G4HvVAQD0K16Nw3UJAzczMzMzMOUBmZmZmZrZDQLgehetRGEJAZmZmZmYGPEAzMzMzMzM+QM3MzMzMDDxAmpmZmZlZP0D2KFyPwjU+QJqZmZmZWUdAexSuR+G6P0C4HoXrUbhAQDMzMzMz8zNA16NwPQpXQEDD9Shcj2JGQLgehetRSERA16NwPQqXPkBmZmZmZuY/QDMzMzMzMz5A16NwPQq3RkBxPQrXo7A+QFK4HoXrkTNA4XoUrkchREDNzMzMzNxAQHsUrkfhej1AzczMzMxMQEAzMzMzM8NCQMP1KFyPoj9AzczMzMwMQUAfhetRuF49QGZmZmZmZkFAzczMzMyMQkDNzMzMzEw1QOF6FK5H4TxAzczMzMwMQkAUrkfherQ2QJqZmZmZ2UNASOF6FK6nQUBI4XoUrsc+QLgehetRODpAH4XrUbheN0DXo3A9CldFQM3MzMzMzENA4XoUrkchP0BmZmZmZiZCQBSuR+F69EFApHA9CtdDR0AzMzMzM7M8QI/C9Shczz1AMzMzMzOzPUCF61G4HgU/QAAAAAAAYDVASOF6FK5nRECuR+F6FC43QFK4HoXrUThAKVyPwvVoOkAAAAAAACA6QLgehetR2ERAmpmZmZkZOECamZmZmRlCQGZmZmZmJkBAj8L1KFxfRkBcj8L1KLxEQOxRuB6Fiz1AcT0K16OwPEA9CtejcL07QArXo3A9ijdAj8L1KFyvPkBcj8L1KJw2QPYoXI/CVUJAFK5H4XpUREDNzMzMzExCQDMzMzMzEztASOF6FK5nPEAK16NwPQpCQGZmZmZmZjVApHA9CtdDO0DD9Shcj2JBQClcj8L1CDhAKVyPwvVoOkA9CtejcB0+QAAAAAAAAEJAzczMzMzMNkDNzMzMzCw5QGZmZmZmJkBAAAAAAAAAPUCamZmZmXkzQDMzMzMzszpAPQrXo3A9QkCamZmZmRlBQArXo3A9qkBAZmZmZmYmQEDXo3A9CudDQOF6FK5H4TxAXI/C9Sj8QUBmZmZmZuZEQOxRuB6F6z9ArkfhehQuOkC4HoXrUehBQPYoXI/CtURAzczMzMzMPkDD9ShcjwI1QNejcD0KN0FAmpmZmZnZQECPwvUoXM89QJqZmZmZ2TVA16NwPQrXOUApXI/C9ehAQFyPwvUo/EFAAAAAAACAP0AfhetRuH4+QJqZmZmZGUFAMzMzMzNjQEAAAAAAAMA3QAAAAAAAADxAFK5H4XrEQEB7FK5H4dozQGZmZmZmZjlAZmZmZmbmPUCamZmZmRlCQFyPwvUo3DhAmpmZmZkZPkCamZmZmdk1QJqZmZmZGTtAzczMzMzMPEAAAAAAAIA9QIXrUbgeBT5ACtejcD0KPUApXI/C9Qg4QKRwPQrXgzZAzczMzMxsQkDsUbgehStAQAAAAAAAgDtAAAAAAAAAP0AzMzMzMzM3QK5H4XoUDkBAexSuR+EaQUAAAAAAAEBAQM3MzMzMzDlAZmZmZmamQUBcj8L1KLw9QJqZmZmZOThAexSuR+F6PUDsUbgehQtHQGZmZmZm5kFA4XoUrkdBP0D2KFyPwlVCQOxRuB6FyzhAUrgehethQkA9CtejcF05QClcj8L1KEFAKVyPwvUoPEAzMzMzMxNEQI/C9Shc/0NA7FG4HoXrPUD2KFyPwnU5QM3MzMzMzDlAPQrXo3AdPkCF61G4HqU7QPYoXI/C1TtAmpmZmZmZP0CF61G4HkU8QGZmZmZmRjdAzczMzMwMQUDD9Shcj+I6QJqZmZmZmT1AcT0K16MwM0A9CtejcL07QM3MzMzMzDZAZmZmZmYmQECamZmZmZk7QLgehetR6EFAAAAAAACAQkApXI/C9ahGQJqZmZmZmT9ACtejcD1KMUAAAAAAAAA3QI/C9Shcn0FAFK5H4XoUOUAK16NwPXpCQBSuR+F61D1AhetRuB6lO0BmZmZmZuY8QArXo3A9yj9AuB6F61GYPEDNzMzMzEw5QIXrUbgepUJApHA9CtdTRUBmZmZmZuY/QOF6FK5H4TxAAAAAAAAAQEAzMzMzM/MzQJqZmZmZ+TxAH4XrUbjeR0AUrkfhetQ9QJqZmZmZ2UBAAAAAAADgPkCamZmZmZk8QM3MzMzMzD1APQrXo3A9P0DNzMzMzOw9QLgehetRODpAmpmZmZlZNEBmZmZmZiZAQPYoXI/CVUBApHA9CtejPUD2KFyPwhVDQGZmZmZm5j1AH4XrUbjeN0D2KFyPwlUyQB+F61G4HjxAAAAAAAAAOUApXI/C9YhCQM3MzMzMTEBAXI/C9SjcOEDsUbgehStAQGZmZmZmJkBAMzMzMzNjQEAAAAAAAIA1QM3MzMzMDEFArkfhehTuO0DD9ShcjyI2QArXo3A9SkFAj8L1KFxPPEA9CtejcA1BQMP1KFyPQj1AZmZmZmZmO0CamZmZmalEQFyPwvUoXDtAj8L1KFyPN0DhehSuR8E1QJqZmZmZSUJAZmZmZmbGQEB7FK5H4Vo9QFK4HoXrUThAAAAAAAAwREBmZmZmZiZAQAAAAAAA4D5AzczMzMwMQUBmZmZmZqZAQBSuR+F6FDlA9ihcj8I1PkC4HoXrUfg4QM3MzMzMTDlAcT0K16PwN0BxPQrXo9AwQNejcD0Kl0JAexSuR+GaOEAUrkfhetQ7QBSuR+F6tDZAMzMzMzOzOUDNzMzMzEw9QDMzMzMz80JA4XoUrkcxQkCF61G4HqU7QOxRuB6F20JArkfhehQuN0DNzMzMzAw8QGZmZmZm5j1AXI/C9SisQEAAAAAAAIA+QAAAAAAAgDtAhetRuB6FOUAK16NwPapAQFK4HoXrUThAZmZmZmbmOUApXI/C9ShBQDMzMzMz8zNAH4XrUbi+OUCamZmZmRlAQHE9CtejUDpAcT0K16NQOkCPwvUoXG9AQEjhehSuBz5AzczMzMxMQ0CamZmZmVlGQLgehetR+D5A",
          "dtype": "f8"
         }
        },
        {
         "boxpoints": "all",
         "fillcolor": "rgba(251, 43, 43, 0.5)",
         "jitter": 0.5,
         "line": {
          "width": 1
         },
         "marker": {
          "size": 2
         },
         "name": "Elder Smoker",
         "type": "box",
         "whiskerwidth": 0.2,
         "y": {
          "bdata": "CtejcD1KOkAzMzMzM/NDQArXo3A9ekJAKVyPwvUoP0AUrkfhetQ9QM3MzMzMTD9AMzMzMzPzM0DsUbgehes9QOxRuB6Fi0FAmpmZmZnZQkA9CtejcL07QJqZmZmZGUBAcT0K16PQQEBSuB6F62FCQGZmZmZm5kBA4XoUrkcxQkB7FK5H4fo6QHE9Ctej8EBArkfhehTuQUBSuB6F67E6QI/C9ShcTzxAcT0K16MQRUBI4XoUrqc3QD0K16Nw/TZAUrgehesBQECamZmZmVk/QArXo3A9yj9Aj8L1KFzPPUCamZmZmTlAQJqZmZmZ+TxAw/UoXI/iOkD2KFyPwnVEQFK4HoXrkURAZmZmZmZmQEB7FK5H4XpCQMP1KFyPwjdAZmZmZmYmQkAAAAAAAOA+QFK4HoXrsTpAUrgehesRPUA=",
          "dtype": "f8"
         }
        },
        {
         "boxpoints": "all",
         "fillcolor": "rgba(125, 251, 137, 0.5)",
         "jitter": 0.5,
         "line": {
          "width": 1
         },
         "marker": {
          "size": 2
         },
         "name": "Elder Non-Smoker",
         "type": "box",
         "whiskerwidth": 0.2,
         "y": {
          "bdata": "16NwPQrXOUApXI/C9ehDQGZmZmZmJkRAcT0K16MAQkC4HoXrUbg7QPYoXI/CFTdAj8L1KFxPPEDsUbgehXtAQEjhehSuhzhAMzMzMzPTP0AzMzMzM7M4QM3MzMzMjENA4XoUrkcBQEDhehSuRwFBQDMzMzMzMztAuB6F61GYPEBI4XoUrodIQOF6FK5HgTpACtejcD0KNkBcj8L1KLxEQLgehetRmDxAUrgeheuRP0CamZmZmZk6QArXo3A9qkNAKVyPwvUIOEBmZmZmZmY6QM3MzMzMzD9AFK5H4Xr0REAUrkfhetQ7QAAAAAAAgDtASOF6FK4HQ0AzMzMzMzM5QMP1KFyPMkBACtejcD3KP0C4HoXrUTg6QOF6FK5HwUJAAAAAAAAAQ0AfhetRuG5BQClcj8L1eERAKVyPwvUoP0ApXI/C9cg8QAAAAAAAQEFAPQrXo3C9OUDNzMzMzIw7QIXrUbgeBT5AzczMzMyMO0BSuB6F62FCQK5H4XoULjdAZmZmZmYmQEDXo3A9Chc1QHsUrkfhOjZAPQrXo3AdPkD2KFyPwnU/QGZmZmZmhkNAmpmZmZmZOUDsUbgehXtAQBSuR+F6lENAAAAAAACAPkCuR+F6FI5AQMP1KFyPQkJApHA9CtejPUBmZmZmZqY5QDMzMzMzs0JAH4XrUbh+PkDNzMzMzMxDQFyPwvUoDENAj8L1KFzvOUAzMzMzM7M8QClcj8L16EBAmpmZmZmpREAUrkfhehQ5QDMzMzMzs0VAmpmZmZmZQ0AzMzMzM7M8QK5H4XoUDkBAmpmZmZnZQUB7FK5H4bo/QDMzMzMzsz1APQrXo3A9REBmZmZmZiZCQM3MzMzMzD5AZmZmZmZmNUCuR+F6FG5CQPYoXI/CJUFA7FG4HoUrO0D2KFyPwnU5QBSuR+F69EFAAAAAAAAAPUDNzMzMzEw5QGZmZmZmhkNAuB6F61GYPEApXI/C9cg8QAAAAAAAAENAuB6F61EYQ0AUrkfhetRAQIXrUbge9UBA7FG4HoV7QECamZmZmZlBQClcj8L1yDxAexSuR+H6N0DNzMzMzAxCQM3MzMzM3EBAZmZmZmbmPEBSuB6F61E4QLgehetRuEBAMzMzMzOzQkDNzMzMzAxAQKRwPQrX80JAhetRuB7FNkAzMzMzM9M/QJqZmZmZ2UNAzczMzMwMQkAK16NwPXpCQOxRuB6F6z1AzczMzMyMQEBcj8L1KPxBQFK4HoXrUThAMzMzMzPTP0DNzMzMzIxAQFK4HoXrMUFAj8L1KFxPPECamZmZmVk/QDMzMzMzszhAZmZmZmYmQECamZmZmRk8QJqZmZmZ2UVASOF6FK6nN0BxPQrXo9BAQK5H4XoUDkBAAAAAAAAARkDNzMzMzIxBQGZmZmZm5kNAUrgeheuxOkAzMzMzMzM8QAAAAAAAADlAmpmZmZmZQECamZmZmRk0QBSuR+F6lENAAAAAAACAO0DXo3A9CvdDQGZmZmZm5kFA9ihcj8JVMkCamZmZmZlBQM3MzMzMbEJACtejcD2qQED2KFyPwnU5QHE9CtejMENAKVyPwvVoOkBxPQrXo/A7QClcj8L1qDVAUrgehetxP0D2KFyPwlUyQBSuR+F61EBAH4XrUbh+PkAK16NwPYo/QJqZmZmZGTZACtejcD0KQkAUrkfhehQ5QKRwPQrXI0RAPQrXo3A9QkCPwvUoXC9EQBSuR+F69ERA16NwPQpXQEDD9ShcjzJAQGZmZmZmZkFAzczMzMyMQkDXo3A9CjdBQK5H4XoUTj5AzczMzMxMN0ApXI/C9ag1QNejcD0KNzxAMzMzMzOzN0DNzMzMzCw5QArXo3A9akNAFK5H4XrEQEA9CtejcL05QA==",
          "dtype": "f8"
         }
        }
       ],
       "layout": {
        "margin": {
         "b": 80,
         "l": 40,
         "r": 30,
         "t": 100
        },
        "paper_bgcolor": "rgb(255, 255, 255)",
        "plot_bgcolor": "rgb(255, 243, 192)",
        "showlegend": false,
        "template": {
         "data": {
          "bar": [
           {
            "error_x": {
             "color": "#2a3f5f"
            },
            "error_y": {
             "color": "#2a3f5f"
            },
            "marker": {
             "line": {
              "color": "#E5ECF6",
              "width": 0.5
             },
             "pattern": {
              "fillmode": "overlay",
              "size": 10,
              "solidity": 0.2
             }
            },
            "type": "bar"
           }
          ],
          "barpolar": [
           {
            "marker": {
             "line": {
              "color": "#E5ECF6",
              "width": 0.5
             },
             "pattern": {
              "fillmode": "overlay",
              "size": 10,
              "solidity": 0.2
             }
            },
            "type": "barpolar"
           }
          ],
          "carpet": [
           {
            "aaxis": {
             "endlinecolor": "#2a3f5f",
             "gridcolor": "white",
             "linecolor": "white",
             "minorgridcolor": "white",
             "startlinecolor": "#2a3f5f"
            },
            "baxis": {
             "endlinecolor": "#2a3f5f",
             "gridcolor": "white",
             "linecolor": "white",
             "minorgridcolor": "white",
             "startlinecolor": "#2a3f5f"
            },
            "type": "carpet"
           }
          ],
          "choropleth": [
           {
            "colorbar": {
             "outlinewidth": 0,
             "ticks": ""
            },
            "type": "choropleth"
           }
          ],
          "contour": [
           {
            "colorbar": {
             "outlinewidth": 0,
             "ticks": ""
            },
            "colorscale": [
             [
              0,
              "#0d0887"
             ],
             [
              0.1111111111111111,
              "#46039f"
             ],
             [
              0.2222222222222222,
              "#7201a8"
             ],
             [
              0.3333333333333333,
              "#9c179e"
             ],
             [
              0.4444444444444444,
              "#bd3786"
             ],
             [
              0.5555555555555556,
              "#d8576b"
             ],
             [
              0.6666666666666666,
              "#ed7953"
             ],
             [
              0.7777777777777778,
              "#fb9f3a"
             ],
             [
              0.8888888888888888,
              "#fdca26"
             ],
             [
              1,
              "#f0f921"
             ]
            ],
            "type": "contour"
           }
          ],
          "contourcarpet": [
           {
            "colorbar": {
             "outlinewidth": 0,
             "ticks": ""
            },
            "type": "contourcarpet"
           }
          ],
          "heatmap": [
           {
            "colorbar": {
             "outlinewidth": 0,
             "ticks": ""
            },
            "colorscale": [
             [
              0,
              "#0d0887"
             ],
             [
              0.1111111111111111,
              "#46039f"
             ],
             [
              0.2222222222222222,
              "#7201a8"
             ],
             [
              0.3333333333333333,
              "#9c179e"
             ],
             [
              0.4444444444444444,
              "#bd3786"
             ],
             [
              0.5555555555555556,
              "#d8576b"
             ],
             [
              0.6666666666666666,
              "#ed7953"
             ],
             [
              0.7777777777777778,
              "#fb9f3a"
             ],
             [
              0.8888888888888888,
              "#fdca26"
             ],
             [
              1,
              "#f0f921"
             ]
            ],
            "type": "heatmap"
           }
          ],
          "histogram": [
           {
            "marker": {
             "pattern": {
              "fillmode": "overlay",
              "size": 10,
              "solidity": 0.2
             }
            },
            "type": "histogram"
           }
          ],
          "histogram2d": [
           {
            "colorbar": {
             "outlinewidth": 0,
             "ticks": ""
            },
            "colorscale": [
             [
              0,
              "#0d0887"
             ],
             [
              0.1111111111111111,
              "#46039f"
             ],
             [
              0.2222222222222222,
              "#7201a8"
             ],
             [
              0.3333333333333333,
              "#9c179e"
             ],
             [
              0.4444444444444444,
              "#bd3786"
             ],
             [
              0.5555555555555556,
              "#d8576b"
             ],
             [
              0.6666666666666666,
              "#ed7953"
             ],
             [
              0.7777777777777778,
              "#fb9f3a"
             ],
             [
              0.8888888888888888,
              "#fdca26"
             ],
             [
              1,
              "#f0f921"
             ]
            ],
            "type": "histogram2d"
           }
          ],
          "histogram2dcontour": [
           {
            "colorbar": {
             "outlinewidth": 0,
             "ticks": ""
            },
            "colorscale": [
             [
              0,
              "#0d0887"
             ],
             [
              0.1111111111111111,
              "#46039f"
             ],
             [
              0.2222222222222222,
              "#7201a8"
             ],
             [
              0.3333333333333333,
              "#9c179e"
             ],
             [
              0.4444444444444444,
              "#bd3786"
             ],
             [
              0.5555555555555556,
              "#d8576b"
             ],
             [
              0.6666666666666666,
              "#ed7953"
             ],
             [
              0.7777777777777778,
              "#fb9f3a"
             ],
             [
              0.8888888888888888,
              "#fdca26"
             ],
             [
              1,
              "#f0f921"
             ]
            ],
            "type": "histogram2dcontour"
           }
          ],
          "mesh3d": [
           {
            "colorbar": {
             "outlinewidth": 0,
             "ticks": ""
            },
            "type": "mesh3d"
           }
          ],
          "parcoords": [
           {
            "line": {
             "colorbar": {
              "outlinewidth": 0,
              "ticks": ""
             }
            },
            "type": "parcoords"
           }
          ],
          "pie": [
           {
            "automargin": true,
            "type": "pie"
           }
          ],
          "scatter": [
           {
            "fillpattern": {
             "fillmode": "overlay",
             "size": 10,
             "solidity": 0.2
            },
            "type": "scatter"
           }
          ],
          "scatter3d": [
           {
            "line": {
             "colorbar": {
              "outlinewidth": 0,
              "ticks": ""
             }
            },
            "marker": {
             "colorbar": {
              "outlinewidth": 0,
              "ticks": ""
             }
            },
            "type": "scatter3d"
           }
          ],
          "scattercarpet": [
           {
            "marker": {
             "colorbar": {
              "outlinewidth": 0,
              "ticks": ""
             }
            },
            "type": "scattercarpet"
           }
          ],
          "scattergeo": [
           {
            "marker": {
             "colorbar": {
              "outlinewidth": 0,
              "ticks": ""
             }
            },
            "type": "scattergeo"
           }
          ],
          "scattergl": [
           {
            "marker": {
             "colorbar": {
              "outlinewidth": 0,
              "ticks": ""
             }
            },
            "type": "scattergl"
           }
          ],
          "scattermap": [
           {
            "marker": {
             "colorbar": {
              "outlinewidth": 0,
              "ticks": ""
             }
            },
            "type": "scattermap"
           }
          ],
          "scattermapbox": [
           {
            "marker": {
             "colorbar": {
              "outlinewidth": 0,
              "ticks": ""
             }
            },
            "type": "scattermapbox"
           }
          ],
          "scatterpolar": [
           {
            "marker": {
             "colorbar": {
              "outlinewidth": 0,
              "ticks": ""
             }
            },
            "type": "scatterpolar"
           }
          ],
          "scatterpolargl": [
           {
            "marker": {
             "colorbar": {
              "outlinewidth": 0,
              "ticks": ""
             }
            },
            "type": "scatterpolargl"
           }
          ],
          "scatterternary": [
           {
            "marker": {
             "colorbar": {
              "outlinewidth": 0,
              "ticks": ""
             }
            },
            "type": "scatterternary"
           }
          ],
          "surface": [
           {
            "colorbar": {
             "outlinewidth": 0,
             "ticks": ""
            },
            "colorscale": [
             [
              0,
              "#0d0887"
             ],
             [
              0.1111111111111111,
              "#46039f"
             ],
             [
              0.2222222222222222,
              "#7201a8"
             ],
             [
              0.3333333333333333,
              "#9c179e"
             ],
             [
              0.4444444444444444,
              "#bd3786"
             ],
             [
              0.5555555555555556,
              "#d8576b"
             ],
             [
              0.6666666666666666,
              "#ed7953"
             ],
             [
              0.7777777777777778,
              "#fb9f3a"
             ],
             [
              0.8888888888888888,
              "#fdca26"
             ],
             [
              1,
              "#f0f921"
             ]
            ],
            "type": "surface"
           }
          ],
          "table": [
           {
            "cells": {
             "fill": {
              "color": "#EBF0F8"
             },
             "line": {
              "color": "white"
             }
            },
            "header": {
             "fill": {
              "color": "#C8D4E3"
             },
             "line": {
              "color": "white"
             }
            },
            "type": "table"
           }
          ]
         },
         "layout": {
          "annotationdefaults": {
           "arrowcolor": "#2a3f5f",
           "arrowhead": 0,
           "arrowwidth": 1
          },
          "autotypenumbers": "strict",
          "coloraxis": {
           "colorbar": {
            "outlinewidth": 0,
            "ticks": ""
           }
          },
          "colorscale": {
           "diverging": [
            [
             0,
             "#8e0152"
            ],
            [
             0.1,
             "#c51b7d"
            ],
            [
             0.2,
             "#de77ae"
            ],
            [
             0.3,
             "#f1b6da"
            ],
            [
             0.4,
             "#fde0ef"
            ],
            [
             0.5,
             "#f7f7f7"
            ],
            [
             0.6,
             "#e6f5d0"
            ],
            [
             0.7,
             "#b8e186"
            ],
            [
             0.8,
             "#7fbc41"
            ],
            [
             0.9,
             "#4d9221"
            ],
            [
             1,
             "#276419"
            ]
           ],
           "sequential": [
            [
             0,
             "#0d0887"
            ],
            [
             0.1111111111111111,
             "#46039f"
            ],
            [
             0.2222222222222222,
             "#7201a8"
            ],
            [
             0.3333333333333333,
             "#9c179e"
            ],
            [
             0.4444444444444444,
             "#bd3786"
            ],
            [
             0.5555555555555556,
             "#d8576b"
            ],
            [
             0.6666666666666666,
             "#ed7953"
            ],
            [
             0.7777777777777778,
             "#fb9f3a"
            ],
            [
             0.8888888888888888,
             "#fdca26"
            ],
            [
             1,
             "#f0f921"
            ]
           ],
           "sequentialminus": [
            [
             0,
             "#0d0887"
            ],
            [
             0.1111111111111111,
             "#46039f"
            ],
            [
             0.2222222222222222,
             "#7201a8"
            ],
            [
             0.3333333333333333,
             "#9c179e"
            ],
            [
             0.4444444444444444,
             "#bd3786"
            ],
            [
             0.5555555555555556,
             "#d8576b"
            ],
            [
             0.6666666666666666,
             "#ed7953"
            ],
            [
             0.7777777777777778,
             "#fb9f3a"
            ],
            [
             0.8888888888888888,
             "#fdca26"
            ],
            [
             1,
             "#f0f921"
            ]
           ]
          },
          "colorway": [
           "#636efa",
           "#EF553B",
           "#00cc96",
           "#ab63fa",
           "#FFA15A",
           "#19d3f3",
           "#FF6692",
           "#B6E880",
           "#FF97FF",
           "#FECB52"
          ],
          "font": {
           "color": "#2a3f5f"
          },
          "geo": {
           "bgcolor": "white",
           "lakecolor": "white",
           "landcolor": "#E5ECF6",
           "showlakes": true,
           "showland": true,
           "subunitcolor": "white"
          },
          "hoverlabel": {
           "align": "left"
          },
          "hovermode": "closest",
          "mapbox": {
           "style": "light"
          },
          "paper_bgcolor": "white",
          "plot_bgcolor": "#E5ECF6",
          "polar": {
           "angularaxis": {
            "gridcolor": "white",
            "linecolor": "white",
            "ticks": ""
           },
           "bgcolor": "#E5ECF6",
           "radialaxis": {
            "gridcolor": "white",
            "linecolor": "white",
            "ticks": ""
           }
          },
          "scene": {
           "xaxis": {
            "backgroundcolor": "#E5ECF6",
            "gridcolor": "white",
            "gridwidth": 2,
            "linecolor": "white",
            "showbackground": true,
            "ticks": "",
            "zerolinecolor": "white"
           },
           "yaxis": {
            "backgroundcolor": "#E5ECF6",
            "gridcolor": "white",
            "gridwidth": 2,
            "linecolor": "white",
            "showbackground": true,
            "ticks": "",
            "zerolinecolor": "white"
           },
           "zaxis": {
            "backgroundcolor": "#E5ECF6",
            "gridcolor": "white",
            "gridwidth": 2,
            "linecolor": "white",
            "showbackground": true,
            "ticks": "",
            "zerolinecolor": "white"
           }
          },
          "shapedefaults": {
           "line": {
            "color": "#2a3f5f"
           }
          },
          "ternary": {
           "aaxis": {
            "gridcolor": "white",
            "linecolor": "white",
            "ticks": ""
           },
           "baxis": {
            "gridcolor": "white",
            "linecolor": "white",
            "ticks": ""
           },
           "bgcolor": "#E5ECF6",
           "caxis": {
            "gridcolor": "white",
            "linecolor": "white",
            "ticks": ""
           }
          },
          "title": {
           "x": 0.05
          },
          "xaxis": {
           "automargin": true,
           "gridcolor": "white",
           "linecolor": "white",
           "ticks": "",
           "title": {
            "standoff": 15
           },
           "zerolinecolor": "white",
           "zerolinewidth": 2
          },
          "yaxis": {
           "automargin": true,
           "gridcolor": "white",
           "linecolor": "white",
           "ticks": "",
           "title": {
            "standoff": 15
           },
           "zerolinecolor": "white",
           "zerolinewidth": 2
          }
         }
        },
        "title": {
         "text": "Body Mass Index of Smokers Status by Age Category"
        },
        "xaxis": {
         "title": {
          "font": {
           "size": 16
          },
          "text": "Status"
         }
        },
        "yaxis": {
         "autorange": true,
         "dtick": 5,
         "gridcolor": "rgb(255, 255, 255)",
         "gridwidth": 1,
         "showgrid": true,
         "title": {
          "font": {
           "size": 16
          },
          "text": "Body Mass Index"
         },
         "zeroline": true,
         "zerolinecolor": "rgb(255, 255, 255)",
         "zerolinewidth": 2
        }
       }
      },
      "text/html": [
       "<div>            <script src=\"https://cdnjs.cloudflare.com/ajax/libs/mathjax/2.7.5/MathJax.js?config=TeX-AMS-MML_SVG\"></script><script type=\"text/javascript\">if (window.MathJax && window.MathJax.Hub && window.MathJax.Hub.Config) {window.MathJax.Hub.Config({SVG: {font: \"STIX-Web\"}});}</script>                <script type=\"text/javascript\">window.PlotlyConfig = {MathJaxConfig: 'local'};</script>\n",
       "        <script charset=\"utf-8\" src=\"https://cdn.plot.ly/plotly-3.1.1.min.js\" integrity=\"sha256-HUEFyfiTnZJxCxur99FjbKYTvKSzwDaD3/x5TqHpFu4=\" crossorigin=\"anonymous\"></script>                <div id=\"71aad4de-1b0a-41b9-8fe1-77b7e6351fdd\" class=\"plotly-graph-div\" style=\"height:525px; width:100%;\"></div>            <script type=\"text/javascript\">                window.PLOTLYENV=window.PLOTLYENV || {};                                if (document.getElementById(\"71aad4de-1b0a-41b9-8fe1-77b7e6351fdd\")) {                    Plotly.newPlot(                        \"71aad4de-1b0a-41b9-8fe1-77b7e6351fdd\",                        [{\"boxpoints\":\"all\",\"fillcolor\":\"rgba(251, 43, 43, 0.5)\",\"jitter\":0.5,\"line\":{\"width\":1},\"marker\":{\"size\":2},\"name\":\"Young A. Smoker\",\"whiskerwidth\":0.2,\"y\":{\"dtype\":\"f8\",\"bdata\":\"ZmZmZmbmO0BxPQrXoxBFQGZmZmZmpkFA7FG4HoXrP0BmZmZmZiZCQM3MzMzMzEFAMzMzMzMzQkD2KFyPwlVCQK5H4XoUrj9A7FG4HoVrNkB7FK5H4fo3QAAAAAAAwDhAj8L1KFzPQkBmZmZmZgY8QHE9Ctej8DtAzczMzMxMPECkcD0K18MxQM3MzMzMTDlAcT0K16OwPEDNzMzMzCw5QKRwPQrXw0FAzczMzMxsQkAK16NwPQpCQD0K16NwvTtAZmZmZmZmQUBSuB6F6xE9QPYoXI\\u002fCVUJACtejcD1KMUDsUbgehes\\u002fQNejcD0K1zpACtejcD16QkCF61G4HsVGQDMzMzMzsztAUrgehesxQUBmZmZmZmY\\u002fQM3MzMzMzD5AMzMzMzOzNUAzMzMzM3NAQI\\u002fC9ShcTzxAMzMzMzMTREAUrkfhevQxQFK4HoXrMTFAAAAAAADAQEDhehSuR2E8QAAAAAAAgDxAMzMzMzOzOUAzMzMzMzNBQAAAAAAAQD5APQrXo3ANQUBcj8L1KAxDQPYoXI\\u002fCNT5AmpmZmZnZNUCPwvUoXE88QGZmZmZm5kJArkfhehSOQEAUrkfhesRAQOF6FK5HIT9AZmZmZmaGQ0DhehSuR8E1QOxRuB6FazhAexSuR+G6P0AAAAAAAMBBQGZmZmZmJj1A9ihcj8IVQ0CamZmZmRk7QOF6FK5H4TxAZmZmZmZmOEAAAAAAAIA8QOxRuB6FyzhAH4XrUbgeRUCkcD0K18NBQKRwPQrXY0BA4XoUrkchOECuR+F6FO48QJqZmZmZmThAexSuR+G6P0AzMzMzM7M9QPYoXI\\u002fC1TtAhetRuB7lNkBmZmZmZuY5QIXrUbgehTRA7FG4HoULNEA9CtejcP02QJqZmZmZWUBAhetRuB4FP0BI4XoUrgc6QHE9CtejkDVAKVyPwvWIQkBmZmZmZgY8QI\\u002fC9Shcrz5ACtejcD1KSkCuR+F6FK4\\u002fQGZmZmZmZj5AuB6F61EYM0AK16NwPapAQAAAAAAA4EFAZmZmZmZmP0AAAAAAAGBFQB+F61G4PkBAcT0K16NwRkBcj8L1KFw7QI\\u002fC9Shczz1APQrXo3B9PEAAAAAAANBBQIXrUbgeBT5ASOF6FK5HO0DsUbgehWs4QM3MzMzMzDVAcT0K16PQQEAUrkfhetQ9QM3MzMzMTDtAcT0K16MQP0CPwvUoXA87QClcj8L1qDVAMzMzMzOzQ0AzMzMzM3NBQJqZmZmZ2TVAH4XrUbgePEAzMzMzMzM+QJqZmZmZWUFASOF6FK6nN0A=\"},\"type\":\"box\"},{\"boxpoints\":\"all\",\"fillcolor\":\"rgba(125, 251, 137, 0.5)\",\"jitter\":0.5,\"line\":{\"width\":1},\"marker\":{\"size\":2},\"name\":\"Young A. Non-Smoker\",\"whiskerwidth\":0.2,\"y\":{\"dtype\":\"f8\",\"bdata\":\"w\\u002fUoXI\\u002fiQEAAAAAAAIBAQBSuR+F6tDZA4XoUrkfhPEA9CtejcL05QLgehetRODpAMzMzMzMzQUCamZmZmZk4QLgehetR2DdAMzMzMzMzQEDNzMzMzAxBQMP1KFyPYjFAcT0K16NQOkCamZmZmZk8QM3MzMzMbDRAzczMzMzMNECamZmZmZk6QHE9CtejUEJAhetRuB5VQ0DD9Shcj2JBQAAAAAAA0EFAcT0K16PQQEB7FK5H4apCQBSuR+F61EBAj8L1KFzvOUBmZmZmZuY8QAAAAAAAgDxA16NwPQqXPUCkcD0K18NBQNejcD0K50NAw\\u002fUoXI\\u002fiOkAfhetRuL5DQMP1KFyPYkFAj8L1KFzPQkD2KFyPwnU5QD0K16NwHT5AAAAAAACAO0BmZmZmZmY8QAAAAAAA4D5AcT0K16PwO0Bcj8L1KNxBQAAAAAAAwDdAmpmZmZn5PEApXI\\u002fC9cg8QK5H4XoUjjlAKVyPwvXIPEDNzMzMzAw8QM3MzMzMDEFAzczMzMwsOUAAAAAAAABCQOxRuB6FazZAH4XrUbg+QEBcj8L1KLw9QArXo3A9akNAZmZmZmZmPEDhehSuRyE4QMP1KFyPkkJAzczMzMzMPUAAAAAAAIBCQKRwPQrXk0BAMzMzMzPTP0BI4XoUrucyQOxRuB6F6y9AZmZmZmZmQUBcj8L1KKxAQKRwPQrXI0NAMzMzMzPzM0DsUbgehes9QGZmZmZm5j5ArkfhehQOQEA9CtejcL05QNejcD0KN0FA16NwPQqXPkCuR+F6FA5AQOF6FK5H4TxAAAAAAACAQEAAAAAAAIA8QHsUrkfhujpAmpmZmZkZN0DsUbgehes9QPYoXI\\u002fCNTdAmpmZmZnZQEDNzMzMzMw+QEjhehSuB0NAzczMzMzMMUB7FK5H4bo6QFK4HoXrMUNAw\\u002fUoXI8iNkCuR+F6FO5BQGZmZmZm5jRAmpmZmZn5PEDNzMzMzEw+QB+F61G4Xj1AzczMzMyMO0A9CtejcJ00QM3MzMzMTDhAhetRuB6lO0AzMzMzM7NAQKRwPQrXoz1AUrgehevRPEDNzMzMzMw6QD0K16Nw\\u002fTZAAAAAAACAQEBcj8L1KKxAQAAAAAAAgDtACtejcD2qQEAzMzMzM7M4QHsUrkfhqkJAhetRuB5FOUCkcD0K16M9QDMzMzMzMztA9ihcj8I1N0CamZmZmZk7QMP1KFyPQj1AAAAAAADgQUD2KFyPwtU7QDMzMzMzsztAj8L1KFyfQUCkcD0K1yNDQBSuR+F69ERACtejcD3KNEAAAAAAAIA+QGZmZmZmZjpApHA9CtfjNUBmZmZmZmY+QArXo3A9qkBA7FG4HoWrRUAzMzMzMzNBQFyPwvUonDZA9ihcj8I1PkDXo3A9CrdCQIXrUbgeBT9A9ihcj8IVQ0BmZmZmZmY0QI\\u002fC9ShcTzhASOF6FK4HPkB7FK5H4XoxQGZmZmZm5jdAMzMzMzOTQUDXo3A9Cpc+QArXo3A9Kj1AcT0K16PQMEBmZmZmZmY+QM3MzMzMjEBAXI\\u002fC9Sg8NEC4HoXrUZg8QHsUrkfhuj9AZmZmZmbmPEAzMzMzM3M9QNejcD0KV0BA4XoUrkeBRUDNzMzMzExDQOF6FK5HIThAZmZmZmZmN0Bcj8L1KLw9QKRwPQrXQ0dAzczMzMwsOUBSuB6F61E4QNejcD0KFzhA9ihcj8JVQEA9CtejcB0+QM3MzMzMzD1AAAAAAADQQUDNzMzMzGxCQEjhehSuR0BAmpmZmZlZP0BxPQrXoxA\\u002fQDMzMzMzszxAMzMzMzNzQEAUrkfhehQ5QK5H4XoU7jtAmpmZmZmZN0CamZmZmVk\\u002fQAAAAAAAwDdAhetRuB5FOUAUrkfhetRAQGZmZmZmZj5ASOF6FK6nQUAAAAAAAAA\\u002fQAAAAAAA4D5AXI\\u002fC9SgcRkBxPQrXo\\u002fBAQNejcD0Klz5A9ihcj8J1OUAzMzMzM3NDQAAAAAAAAENACtejcD3KP0BI4XoUrrdBQLgehetRmDxArkfhehTuPECamZmZmalEQM3MzMzMzDdAexSuR+EaQUCkcD0K18NBQAAAAAAAgD5Aj8L1KFwPQEAfhetRuH4+QJqZmZmZGT1AhetRuB6lQkCPwvUoXI9FQNejcD0K1zpA16NwPQp3N0DXo3A9Cpc+QGZmZmZmpjdAMzMzMzOzNECF61G4HkU8QFyPwvUoPDRA4XoUrkchP0AAAAAAAKBAQBSuR+F6lENAzczMzMwsOUB7FK5H4fo6QKRwPQrXk0BAAAAAAAAAM0AAAAAAAIBAQGZmZmZmZj9ASOF6FK4HOkB7FK5H4TpFQM3MzMzMTD1ApHA9CtfDQUDD9Shcj4I4QFyPwvUoDENAMzMzMzMzRUB7FK5H4XpBQAAAAAAAgDxAMzMzMzMzRUCkcD0K15NAQArXo3A9ij9AFK5H4XrUQEBSuB6F65E\\u002fQClcj8L1KD9AZmZmZmZmMUDNzMzMzEw0QAAAAAAAgDJAXI\\u002fC9ShcO0DD9ShcjzJAQEjhehSupzdAZmZmZmZmQUBI4XoUrhdEQMP1KFyPokNAj8L1KFxvQUApXI\\u002fC9Wg6QDMzMzMzc0BAH4XrUbh+PkCamZmZmZlBQFyPwvUoPERAmpmZmZmZNkAzMzMzM7NBQKRwPQrXI0RAmpmZmZkZPkAzMzMzM7M3QB+F61G4njpAAAAAAAAAO0DhehSuR8E1QAAAAAAA4D5AmpmZmZn5PEBxPQrXo9BAQIXrUbgepTtA16NwPQq3QkAK16NwPUpBQJqZmZmZmUFASOF6FK4HOkApXI\\u002fC9ShBQFK4HoXrkURAw\\u002fUoXI9CPUAzMzMzM7M7QK5H4XoUbkJApHA9CteDNkCamZmZmZk7QK5H4XoULjdAXI\\u002fC9SgcRkCF61G4HuU2QM3MzMzMTDZAw\\u002fUoXI+COkCamZmZmUlCQKRwPQrXIz5A16NwPQrXOUC4HoXrUXhFQKRwPQrXgzZA9ihcj8J1P0CamZmZmTk4QM3MzMzMjEJA7FG4HoWrMUDhehSuRyE\\u002fQLgehetR2DdA16NwPQp3N0CamZmZmRk\\u002fQHE9CtejMElAmpmZmZkZOECamZmZmZk9QD0K16NwHUBAhetRuB6lQkDNzMzMzEw4QHsUrkfhej1AH4XrUbgePEC4HoXrUbhAQGZmZmZmZkFAXI\\u002fC9ShcO0DD9ShcjyI2QFK4HoXrsTpAAAAAAADAQ0CuR+F6FI45QOF6FK5HIURApHA9CteDNkCkcD0K10M7QHsUrkfhWj1AexSuR+FKQECPwvUoXE88QHsUrkfhmjhAH4XrUbj+QEB7FK5H4RpBQLgehetR6EFAZmZmZmZmN0CkcD0K10NHQNejcD0Kl0JArkfhehQuOkD2KFyPwjU3QEjhehSuF0RAXI\\u002fC9SicNkBI4XoUrmc8QB+F61G4vkNACtejcD3KOkAfhetRuM5DQGZmZmZm5jlAmpmZmZkZO0AfhetRuL45QI\\u002fC9ShcjzdAXI\\u002fC9Sg8NEAAAAAAAEBEQPYoXI\\u002fCtUFAZmZmZmYmPUAAAAAAAGA1QNejcD0Klz5APQrXo3AdPkBmZmZmZlZBQM3MzMzMzDNAhetRuB4lQkDNzMzMzMw5QHsUrkfhuj9Aw\\u002fUoXI9CPUBcj8L1KPw4QHsUrkfhmjhAmpmZmZkZQUDXo3A9CldAQFK4HoXrUTdAzczMzMxMQUDXo3A9CrcyQK5H4XoU7jtA4XoUrkfhPECkcD0K10M7QPYoXI\\u002fCFTdAzczMzMzMOUCkcD0K14M2QLgehetReDVAH4XrUbi+Q0ApXI\\u002fC9ehAQOF6FK5HAUBAmpmZmZmZOUDhehSuR0E\\u002fQNejcD0Klz1ASOF6FK4HOkBI4XoUrsc1QPYoXI\\u002fC1TtAAAAAAACAP0CamZmZmVlAQJqZmZmZWT9Aw\\u002fUoXI\\u002fiQEAfhetRuP5AQLgehetReENAAAAAAAAAPkBxPQrXo1A6QMP1KFyPgjhAMzMzMzPzM0DD9ShcjzJAQK5H4XoU7kFAZmZmZmZmQECamZmZmZkyQDMzMzMz80ZAKVyPwvXoQEB7FK5H4To2QAAAAAAAQD5A7FG4HoXrP0CuR+F6FE4+QLgehetR6EFArkfhehQuN0DXo3A9Cpc+QM3MzMzMjERAcT0K16MQRUAK16NwPWpDQNejcD0KNzxAAAAAAAAgOkCamZmZmZk4QJqZmZmZmUFArkfhehQOQECamZmZmRk7QB+F61G4bkFAzczMzMzsPUDNzMzMzEw+QAAAAAAAADxAMzMzMzNjQEDhehSuR8E1QK5H4XoU7jtAzczMzMzMOUCuR+F6FA5AQFyPwvUo3DFAuB6F61F4NUDhehSuR0E\\u002fQFK4HoXrkUNAhetRuB6lQkBSuB6F6\\u002fE1QClcj8L16ENAcT0K16MQP0BxPQrXoxBFQEjhehSuRzVArkfhehSOQEAK16NwPapAQM3MzMzMTDhAZmZmZmZmPUApXI\\u002fC9ehDQM3MzMzMzDNAuB6F61G4O0CF61G4HoU0QM3MzMzMjEJAZmZmZmamQECF61G4HvVAQK5H4XoUPkFAXI\\u002fC9SicO0BmZmZmZmY+QFyPwvUovD1ACtejcD3KOkBI4XoUrgc+QArXo3A9SjFA9ihcj8I1N0AAAAAAAAA2QAAAAAAAIDpAw\\u002fUoXI+COkAUrkfhenQ7QB+F61G4vjlAzczMzMzMNEC4HoXrUbg7QFK4HoXrsTpAMzMzMzNzRUCPwvUoXE88QJqZmZmZmTRAcT0K16OQSkB7FK5H4dpDQHE9CtejED9Aj8L1KFzvOUCamZmZmTk4QDMzMzMzs0BA7FG4HoXrP0DNzMzMzGxCQM3MzMzMzDlA\"},\"type\":\"box\"},{\"boxpoints\":\"all\",\"fillcolor\":\"rgba(251, 43, 43, 0.5)\",\"jitter\":0.5,\"line\":{\"width\":1},\"marker\":{\"size\":2},\"name\":\"Senior A. Smoker\",\"whiskerwidth\":0.2,\"y\":{\"dtype\":\"f8\",\"bdata\":\"mpmZmZmZQUAAAAAAAAA8QNejcD0KN0FA4XoUrkfhNkBmZmZmZmZBQIXrUbge5TZAzczMzMxMM0CamZmZmVk\\u002fQB+F61G4fj5AH4XrUbheN0DsUbgehWs4QJqZmZmZmTpAw\\u002fUoXI\\u002fyRECkcD0K16M4QLgehetRODZAexSuR+EaQUAzMzMzM9M\\u002fQFK4HoXrUThAzczMzMwsRUDNzMzMzMwzQJqZmZmZGUFAH4XrUbgePEC4HoXrUUhEQClcj8L1aDlAXI\\u002fC9SicNkBcj8L1KPxBQD0K16NwPUJAXI\\u002fC9ShcO0BmZmZmZiZAQKRwPQrX4zhAj8L1KFyvPkBcj8L1KDw0QJqZmZmZmTZAMzMzMzNjQEAAAAAAAAA+QJqZmZmZGTlASOF6FK4HQ0D2KFyPwjU3QM3MzMzMTDxAUrgehesROkAUrkfherRHQNejcD0K1zlAmpmZmZkZR0C4HoXrUUhEQHE9CtejUEJAmpmZmZmZOUDNzMzMzAxBQJqZmZmZeUNAKVyPwvVoOkCPwvUoXE88QM3MzMzMTDlASOF6FK4HQ0AzMzMzM2NAQFK4HoXr8UVAZmZmZmamQUAAAAAAAOBBQEjhehSuB0NAUrgehesxQ0A9CtejcA1BQGZmZmZmZjpAFK5H4XrUO0CamZmZmZk7QGZmZmZm5jRAAAAAAAAgOkBmZmZmZgY8QEjhehSuxz5ASOF6FK7HPkCkcD0K18NBQLgehetR2DdArkfhehSOQEDNzMzMzMxHQGZmZmZmhkJAuB6F61F4Q0DsUbgehQs0QMP1KFyP4jpAhetRuB7lNkCamZmZmRlBQDMzMzMzc0VAMzMzMzMzPkDNzMzMzMw+QHsUrkfhekFA7FG4HoXLOEDXo3A9Cjc8QOF6FK5HITRACtejcD0KQkBI4XoUrqc3QJqZmZmZmUFAH4XrUbh+PkAzMzMzM7M4QGZmZmZm5j5AzczMzMzMPUApXI\\u002fC9YhCQM3MzMzMTDJAuB6F61EYQkB7FK5H4XpBQFK4HoXrMUNAmpmZmZnZOUCuR+F6FG5CQEjhehSuR0BAMzMzMzOzOkDhehSuRyE4QIXrUbgeRTlAMzMzMzOzQECuR+F6FI45QM3MzMzMTEFArkfhehQ+QUBmZmZmZuZEQM3MzMzM7D1AhetRuB6lO0Bcj8L1KFw+QM3MzMzMzDtAexSuR+GaOECPwvUoXC9EQA==\"},\"type\":\"box\"},{\"boxpoints\":\"all\",\"fillcolor\":\"rgba(125, 251, 137, 0.5)\",\"jitter\":0.5,\"line\":{\"width\":1},\"marker\":{\"size\":2},\"name\":\"Senior A. Non-Smoker\",\"whiskerwidth\":0.2,\"y\":{\"dtype\":\"f8\",\"bdata\":\"uB6F61G4QEA9CtejcL07QBSuR+F61D1ASOF6FK7HPkBmZmZmZgY8QDMzMzMzY0BASOF6FK7HNUDNzMzMzMw+QGZmZmZmhkJAZmZmZmamQkBxPQrXo7A8QFyPwvUoXDtAcT0K16NQOkC4HoXrURhCQJqZmZmZGTxAZmZmZmZmO0DsUbgehXtAQBSuR+F6JENAPQrXo3CdREA9CtejcL07QHsUrkfh+jpA7FG4HoXLOEDNzMzMzMw+QKRwPQrXI0NAmpmZmZmZP0BxPQrXo9BAQDMzMzMzsz1AzczMzMzMPkAK16NwPRpAQOxRuB6FKztAH4XrUbheN0DNzMzMzIxCQIXrUbge9UBAMzMzMzOzQkCamZmZmVlBQDMzMzMz80FAZmZmZmbmP0A9CtejcN1CQNejcD0Kt0JAMzMzMzOzPUD2KFyPwnU5QMP1KFyPwkNAFK5H4XrUO0DNzMzMzMxDQKRwPQrXoz1A16NwPQo3PEDNzMzMzEw+QPYoXI\\u002fC1TtAMzMzMzMzPUBmZmZmZuY8QKRwPQrXk0BAKVyPwvVoOkBxPQrXo7A+QJqZmZmZGUBAMzMzMzMzOkBmZmZmZmZAQJqZmZmZmTxAzczMzMwMMkA9CtejcB1AQM3MzMzMTDZAPQrXo3CdREAAAAAAAOA+QGZmZmZm5j5AzczMzMyMQkCamZmZmZk6QAAAAAAAoEBAcT0K16PwQEDD9Shcj6I\\u002fQPYoXI\\u002fCdTlAKVyPwvUYQkDD9Shcj4I4QEjhehSuB0NAzczMzMzMOkBmZmZmZqZBQIXrUbgeBT5APQrXo3BdOUAzMzMzMxNEQArXo3A9ajhASOF6FK4HQ0AzMzMzMzM+QNejcD0K1zlAZmZmZmaGQkAUrkfhenQ7QJqZmZmZmTpAj8L1KFyPNUDD9ShcjzJAQDMzMzMzMz9AH4XrUbieOkApXI\\u002fC9QhIQGZmZmZmZjpA4XoUrkfhPEDNzMzMzIw7QEjhehSuh0BAmpmZmZmZOkCuR+F6FO5BQAAAAAAAoEBACtejcD0aQEAzMzMzM2NAQIXrUbgepTtAPQrXo3ANQUCamZmZmVlCQFyPwvUo3EFAuB6F61G4O0Bcj8L1KLxEQFyPwvUorEBA7FG4HoXrPUCamZmZmZk5QJqZmZmZmTtAUrgehevxRUAUrkfhetQ9QGZmZmZmJkBASOF6FK7HPkBcj8L1KPw4QFK4HoXrAUBApHA9CteTQEAAAAAAAIBAQMP1KFyPIjZAPQrXo3BdOUAAAAAAANBBQFK4HoXrcT9AmpmZmZlZP0BmZmZmZiZAQHsUrkfh2jNAMzMzMzMzQUCamZmZmZk0QMP1KFyPwkdAZmZmZmYmQEBxPQrXozBDQJqZmZmZmTdAH4XrUbgeNUBSuB6F69FBQM3MzMzMDEFAMzMzMzMzPkCPwvUoXE84QKRwPQrXQztAZmZmZmbmOkAAAAAAAGBHQM3MzMzMjEBAmpmZmZmZPUCamZmZmZk9QKRwPQrXIz5AAAAAAACAQEBxPQrXo1BCQFyPwvUorEBA4XoUrkfBQkAAAAAAAMBDQGZmZmZmJkFAuB6F61F4NUApXI\\u002fC9Sg\\u002fQDMzMzMzszxAexSuR+H6N0BI4XoUrgc6QK5H4XoU7jxAAAAAAADgPkDsUbgehWs2QB+F61G4fj5AXI\\u002fC9ShcO0CF61G4HvVAQD0K16Nw3UJAzczMzMzMOUBmZmZmZrZDQLgehetRGEJAZmZmZmYGPEAzMzMzMzM+QM3MzMzMDDxAmpmZmZlZP0D2KFyPwjU+QJqZmZmZWUdAexSuR+G6P0C4HoXrUbhAQDMzMzMz8zNA16NwPQpXQEDD9Shcj2JGQLgehetRSERA16NwPQqXPkBmZmZmZuY\\u002fQDMzMzMzMz5A16NwPQq3RkBxPQrXo7A+QFK4HoXrkTNA4XoUrkchREDNzMzMzNxAQHsUrkfhej1AzczMzMxMQEAzMzMzM8NCQMP1KFyPoj9AzczMzMwMQUAfhetRuF49QGZmZmZmZkFAzczMzMyMQkDNzMzMzEw1QOF6FK5H4TxAzczMzMwMQkAUrkfherQ2QJqZmZmZ2UNASOF6FK6nQUBI4XoUrsc+QLgehetRODpAH4XrUbheN0DXo3A9CldFQM3MzMzMzENA4XoUrkchP0BmZmZmZiZCQBSuR+F69EFApHA9CtdDR0AzMzMzM7M8QI\\u002fC9Shczz1AMzMzMzOzPUCF61G4HgU\\u002fQAAAAAAAYDVASOF6FK5nRECuR+F6FC43QFK4HoXrUThAKVyPwvVoOkAAAAAAACA6QLgehetR2ERAmpmZmZkZOECamZmZmRlCQGZmZmZmJkBAj8L1KFxfRkBcj8L1KLxEQOxRuB6Fiz1AcT0K16OwPEA9CtejcL07QArXo3A9ijdAj8L1KFyvPkBcj8L1KJw2QPYoXI\\u002fCVUJAFK5H4XpUREDNzMzMzExCQDMzMzMzEztASOF6FK5nPEAK16NwPQpCQGZmZmZmZjVApHA9CtdDO0DD9Shcj2JBQClcj8L1CDhAKVyPwvVoOkA9CtejcB0+QAAAAAAAAEJAzczMzMzMNkDNzMzMzCw5QGZmZmZmJkBAAAAAAAAAPUCamZmZmXkzQDMzMzMzszpAPQrXo3A9QkCamZmZmRlBQArXo3A9qkBAZmZmZmYmQEDXo3A9CudDQOF6FK5H4TxAXI\\u002fC9Sj8QUBmZmZmZuZEQOxRuB6F6z9ArkfhehQuOkC4HoXrUehBQPYoXI\\u002fCtURAzczMzMzMPkDD9ShcjwI1QNejcD0KN0FAmpmZmZnZQECPwvUoXM89QJqZmZmZ2TVA16NwPQrXOUApXI\\u002fC9ehAQFyPwvUo\\u002fEFAAAAAAACAP0AfhetRuH4+QJqZmZmZGUFAMzMzMzNjQEAAAAAAAMA3QAAAAAAAADxAFK5H4XrEQEB7FK5H4dozQGZmZmZmZjlAZmZmZmbmPUCamZmZmRlCQFyPwvUo3DhAmpmZmZkZPkCamZmZmdk1QJqZmZmZGTtAzczMzMzMPEAAAAAAAIA9QIXrUbgeBT5ACtejcD0KPUApXI\\u002fC9Qg4QKRwPQrXgzZAzczMzMxsQkDsUbgehStAQAAAAAAAgDtAAAAAAAAAP0AzMzMzMzM3QK5H4XoUDkBAexSuR+EaQUAAAAAAAEBAQM3MzMzMzDlAZmZmZmamQUBcj8L1KLw9QJqZmZmZOThAexSuR+F6PUDsUbgehQtHQGZmZmZm5kFA4XoUrkdBP0D2KFyPwlVCQOxRuB6FyzhAUrgehethQkA9CtejcF05QClcj8L1KEFAKVyPwvUoPEAzMzMzMxNEQI\\u002fC9Shc\\u002f0NA7FG4HoXrPUD2KFyPwnU5QM3MzMzMzDlAPQrXo3AdPkCF61G4HqU7QPYoXI\\u002fC1TtAmpmZmZmZP0CF61G4HkU8QGZmZmZmRjdAzczMzMwMQUDD9Shcj+I6QJqZmZmZmT1AcT0K16MwM0A9CtejcL07QM3MzMzMzDZAZmZmZmYmQECamZmZmZk7QLgehetR6EFAAAAAAACAQkApXI\\u002fC9ahGQJqZmZmZmT9ACtejcD1KMUAAAAAAAAA3QI\\u002fC9Shcn0FAFK5H4XoUOUAK16NwPXpCQBSuR+F61D1AhetRuB6lO0BmZmZmZuY8QArXo3A9yj9AuB6F61GYPEDNzMzMzEw5QIXrUbgepUJApHA9CtdTRUBmZmZmZuY\\u002fQOF6FK5H4TxAAAAAAAAAQEAzMzMzM\\u002fMzQJqZmZmZ+TxAH4XrUbjeR0AUrkfhetQ9QJqZmZmZ2UBAAAAAAADgPkCamZmZmZk8QM3MzMzMzD1APQrXo3A9P0DNzMzMzOw9QLgehetRODpAmpmZmZlZNEBmZmZmZiZAQPYoXI\\u002fCVUBApHA9CtejPUD2KFyPwhVDQGZmZmZm5j1AH4XrUbjeN0D2KFyPwlUyQB+F61G4HjxAAAAAAAAAOUApXI\\u002fC9YhCQM3MzMzMTEBAXI\\u002fC9SjcOEDsUbgehStAQGZmZmZmJkBAMzMzMzNjQEAAAAAAAIA1QM3MzMzMDEFArkfhehTuO0DD9ShcjyI2QArXo3A9SkFAj8L1KFxPPEA9CtejcA1BQMP1KFyPQj1AZmZmZmZmO0CamZmZmalEQFyPwvUoXDtAj8L1KFyPN0DhehSuR8E1QJqZmZmZSUJAZmZmZmbGQEB7FK5H4Vo9QFK4HoXrUThAAAAAAAAwREBmZmZmZiZAQAAAAAAA4D5AzczMzMwMQUBmZmZmZqZAQBSuR+F6FDlA9ihcj8I1PkC4HoXrUfg4QM3MzMzMTDlAcT0K16PwN0BxPQrXo9AwQNejcD0Kl0JAexSuR+GaOEAUrkfhetQ7QBSuR+F6tDZAMzMzMzOzOUDNzMzMzEw9QDMzMzMz80JA4XoUrkcxQkCF61G4HqU7QOxRuB6F20JArkfhehQuN0DNzMzMzAw8QGZmZmZm5j1AXI\\u002fC9SisQEAAAAAAAIA+QAAAAAAAgDtAhetRuB6FOUAK16NwPapAQFK4HoXrUThAZmZmZmbmOUApXI\\u002fC9ShBQDMzMzMz8zNAH4XrUbi+OUCamZmZmRlAQHE9CtejUDpAcT0K16NQOkCPwvUoXG9AQEjhehSuBz5AzczMzMxMQ0CamZmZmVlGQLgehetR+D5A\"},\"type\":\"box\"},{\"boxpoints\":\"all\",\"fillcolor\":\"rgba(251, 43, 43, 0.5)\",\"jitter\":0.5,\"line\":{\"width\":1},\"marker\":{\"size\":2},\"name\":\"Elder Smoker\",\"whiskerwidth\":0.2,\"y\":{\"dtype\":\"f8\",\"bdata\":\"CtejcD1KOkAzMzMzM\\u002fNDQArXo3A9ekJAKVyPwvUoP0AUrkfhetQ9QM3MzMzMTD9AMzMzMzPzM0DsUbgehes9QOxRuB6Fi0FAmpmZmZnZQkA9CtejcL07QJqZmZmZGUBAcT0K16PQQEBSuB6F62FCQGZmZmZm5kBA4XoUrkcxQkB7FK5H4fo6QHE9Ctej8EBArkfhehTuQUBSuB6F67E6QI\\u002fC9ShcTzxAcT0K16MQRUBI4XoUrqc3QD0K16Nw\\u002fTZAUrgehesBQECamZmZmVk\\u002fQArXo3A9yj9Aj8L1KFzPPUCamZmZmTlAQJqZmZmZ+TxAw\\u002fUoXI\\u002fiOkD2KFyPwnVEQFK4HoXrkURAZmZmZmZmQEB7FK5H4XpCQMP1KFyPwjdAZmZmZmYmQkAAAAAAAOA+QFK4HoXrsTpAUrgehesRPUA=\"},\"type\":\"box\"},{\"boxpoints\":\"all\",\"fillcolor\":\"rgba(125, 251, 137, 0.5)\",\"jitter\":0.5,\"line\":{\"width\":1},\"marker\":{\"size\":2},\"name\":\"Elder Non-Smoker\",\"whiskerwidth\":0.2,\"y\":{\"dtype\":\"f8\",\"bdata\":\"16NwPQrXOUApXI\\u002fC9ehDQGZmZmZmJkRAcT0K16MAQkC4HoXrUbg7QPYoXI\\u002fCFTdAj8L1KFxPPEDsUbgehXtAQEjhehSuhzhAMzMzMzPTP0AzMzMzM7M4QM3MzMzMjENA4XoUrkcBQEDhehSuRwFBQDMzMzMzMztAuB6F61GYPEBI4XoUrodIQOF6FK5HgTpACtejcD0KNkBcj8L1KLxEQLgehetRmDxAUrgeheuRP0CamZmZmZk6QArXo3A9qkNAKVyPwvUIOEBmZmZmZmY6QM3MzMzMzD9AFK5H4Xr0REAUrkfhetQ7QAAAAAAAgDtASOF6FK4HQ0AzMzMzMzM5QMP1KFyPMkBACtejcD3KP0C4HoXrUTg6QOF6FK5HwUJAAAAAAAAAQ0AfhetRuG5BQClcj8L1eERAKVyPwvUoP0ApXI\\u002fC9cg8QAAAAAAAQEFAPQrXo3C9OUDNzMzMzIw7QIXrUbgeBT5AzczMzMyMO0BSuB6F62FCQK5H4XoULjdAZmZmZmYmQEDXo3A9Chc1QHsUrkfhOjZAPQrXo3AdPkD2KFyPwnU\\u002fQGZmZmZmhkNAmpmZmZmZOUDsUbgehXtAQBSuR+F6lENAAAAAAACAPkCuR+F6FI5AQMP1KFyPQkJApHA9CtejPUBmZmZmZqY5QDMzMzMzs0JAH4XrUbh+PkDNzMzMzMxDQFyPwvUoDENAj8L1KFzvOUAzMzMzM7M8QClcj8L16EBAmpmZmZmpREAUrkfhehQ5QDMzMzMzs0VAmpmZmZmZQ0AzMzMzM7M8QK5H4XoUDkBAmpmZmZnZQUB7FK5H4bo\\u002fQDMzMzMzsz1APQrXo3A9REBmZmZmZiZCQM3MzMzMzD5AZmZmZmZmNUCuR+F6FG5CQPYoXI\\u002fCJUFA7FG4HoUrO0D2KFyPwnU5QBSuR+F69EFAAAAAAAAAPUDNzMzMzEw5QGZmZmZmhkNAuB6F61GYPEApXI\\u002fC9cg8QAAAAAAAAENAuB6F61EYQ0AUrkfhetRAQIXrUbge9UBA7FG4HoV7QECamZmZmZlBQClcj8L1yDxAexSuR+H6N0DNzMzMzAxCQM3MzMzM3EBAZmZmZmbmPEBSuB6F61E4QLgehetRuEBAMzMzMzOzQkDNzMzMzAxAQKRwPQrX80JAhetRuB7FNkAzMzMzM9M\\u002fQJqZmZmZ2UNAzczMzMwMQkAK16NwPXpCQOxRuB6F6z1AzczMzMyMQEBcj8L1KPxBQFK4HoXrUThAMzMzMzPTP0DNzMzMzIxAQFK4HoXrMUFAj8L1KFxPPECamZmZmVk\\u002fQDMzMzMzszhAZmZmZmYmQECamZmZmRk8QJqZmZmZ2UVASOF6FK6nN0BxPQrXo9BAQK5H4XoUDkBAAAAAAAAARkDNzMzMzIxBQGZmZmZm5kNAUrgeheuxOkAzMzMzMzM8QAAAAAAAADlAmpmZmZmZQECamZmZmRk0QBSuR+F6lENAAAAAAACAO0DXo3A9CvdDQGZmZmZm5kFA9ihcj8JVMkCamZmZmZlBQM3MzMzMbEJACtejcD2qQED2KFyPwnU5QHE9CtejMENAKVyPwvVoOkBxPQrXo\\u002fA7QClcj8L1qDVAUrgehetxP0D2KFyPwlUyQBSuR+F61EBAH4XrUbh+PkAK16NwPYo\\u002fQJqZmZmZGTZACtejcD0KQkAUrkfhehQ5QKRwPQrXI0RAPQrXo3A9QkCPwvUoXC9EQBSuR+F69ERA16NwPQpXQEDD9ShcjzJAQGZmZmZmZkFAzczMzMyMQkDXo3A9CjdBQK5H4XoUTj5AzczMzMxMN0ApXI\\u002fC9ag1QNejcD0KNzxAMzMzMzOzN0DNzMzMzCw5QArXo3A9akNAFK5H4XrEQEA9CtejcL05QA==\"},\"type\":\"box\"}],                        {\"margin\":{\"b\":80,\"l\":40,\"r\":30,\"t\":100},\"paper_bgcolor\":\"rgb(255, 255, 255)\",\"plot_bgcolor\":\"rgb(255, 243, 192)\",\"showlegend\":false,\"template\":{\"data\":{\"barpolar\":[{\"marker\":{\"line\":{\"color\":\"#E5ECF6\",\"width\":0.5},\"pattern\":{\"fillmode\":\"overlay\",\"size\":10,\"solidity\":0.2}},\"type\":\"barpolar\"}],\"bar\":[{\"error_x\":{\"color\":\"#2a3f5f\"},\"error_y\":{\"color\":\"#2a3f5f\"},\"marker\":{\"line\":{\"color\":\"#E5ECF6\",\"width\":0.5},\"pattern\":{\"fillmode\":\"overlay\",\"size\":10,\"solidity\":0.2}},\"type\":\"bar\"}],\"carpet\":[{\"aaxis\":{\"endlinecolor\":\"#2a3f5f\",\"gridcolor\":\"white\",\"linecolor\":\"white\",\"minorgridcolor\":\"white\",\"startlinecolor\":\"#2a3f5f\"},\"baxis\":{\"endlinecolor\":\"#2a3f5f\",\"gridcolor\":\"white\",\"linecolor\":\"white\",\"minorgridcolor\":\"white\",\"startlinecolor\":\"#2a3f5f\"},\"type\":\"carpet\"}],\"choropleth\":[{\"colorbar\":{\"outlinewidth\":0,\"ticks\":\"\"},\"type\":\"choropleth\"}],\"contourcarpet\":[{\"colorbar\":{\"outlinewidth\":0,\"ticks\":\"\"},\"type\":\"contourcarpet\"}],\"contour\":[{\"colorbar\":{\"outlinewidth\":0,\"ticks\":\"\"},\"colorscale\":[[0.0,\"#0d0887\"],[0.1111111111111111,\"#46039f\"],[0.2222222222222222,\"#7201a8\"],[0.3333333333333333,\"#9c179e\"],[0.4444444444444444,\"#bd3786\"],[0.5555555555555556,\"#d8576b\"],[0.6666666666666666,\"#ed7953\"],[0.7777777777777778,\"#fb9f3a\"],[0.8888888888888888,\"#fdca26\"],[1.0,\"#f0f921\"]],\"type\":\"contour\"}],\"heatmap\":[{\"colorbar\":{\"outlinewidth\":0,\"ticks\":\"\"},\"colorscale\":[[0.0,\"#0d0887\"],[0.1111111111111111,\"#46039f\"],[0.2222222222222222,\"#7201a8\"],[0.3333333333333333,\"#9c179e\"],[0.4444444444444444,\"#bd3786\"],[0.5555555555555556,\"#d8576b\"],[0.6666666666666666,\"#ed7953\"],[0.7777777777777778,\"#fb9f3a\"],[0.8888888888888888,\"#fdca26\"],[1.0,\"#f0f921\"]],\"type\":\"heatmap\"}],\"histogram2dcontour\":[{\"colorbar\":{\"outlinewidth\":0,\"ticks\":\"\"},\"colorscale\":[[0.0,\"#0d0887\"],[0.1111111111111111,\"#46039f\"],[0.2222222222222222,\"#7201a8\"],[0.3333333333333333,\"#9c179e\"],[0.4444444444444444,\"#bd3786\"],[0.5555555555555556,\"#d8576b\"],[0.6666666666666666,\"#ed7953\"],[0.7777777777777778,\"#fb9f3a\"],[0.8888888888888888,\"#fdca26\"],[1.0,\"#f0f921\"]],\"type\":\"histogram2dcontour\"}],\"histogram2d\":[{\"colorbar\":{\"outlinewidth\":0,\"ticks\":\"\"},\"colorscale\":[[0.0,\"#0d0887\"],[0.1111111111111111,\"#46039f\"],[0.2222222222222222,\"#7201a8\"],[0.3333333333333333,\"#9c179e\"],[0.4444444444444444,\"#bd3786\"],[0.5555555555555556,\"#d8576b\"],[0.6666666666666666,\"#ed7953\"],[0.7777777777777778,\"#fb9f3a\"],[0.8888888888888888,\"#fdca26\"],[1.0,\"#f0f921\"]],\"type\":\"histogram2d\"}],\"histogram\":[{\"marker\":{\"pattern\":{\"fillmode\":\"overlay\",\"size\":10,\"solidity\":0.2}},\"type\":\"histogram\"}],\"mesh3d\":[{\"colorbar\":{\"outlinewidth\":0,\"ticks\":\"\"},\"type\":\"mesh3d\"}],\"parcoords\":[{\"line\":{\"colorbar\":{\"outlinewidth\":0,\"ticks\":\"\"}},\"type\":\"parcoords\"}],\"pie\":[{\"automargin\":true,\"type\":\"pie\"}],\"scatter3d\":[{\"line\":{\"colorbar\":{\"outlinewidth\":0,\"ticks\":\"\"}},\"marker\":{\"colorbar\":{\"outlinewidth\":0,\"ticks\":\"\"}},\"type\":\"scatter3d\"}],\"scattercarpet\":[{\"marker\":{\"colorbar\":{\"outlinewidth\":0,\"ticks\":\"\"}},\"type\":\"scattercarpet\"}],\"scattergeo\":[{\"marker\":{\"colorbar\":{\"outlinewidth\":0,\"ticks\":\"\"}},\"type\":\"scattergeo\"}],\"scattergl\":[{\"marker\":{\"colorbar\":{\"outlinewidth\":0,\"ticks\":\"\"}},\"type\":\"scattergl\"}],\"scattermapbox\":[{\"marker\":{\"colorbar\":{\"outlinewidth\":0,\"ticks\":\"\"}},\"type\":\"scattermapbox\"}],\"scattermap\":[{\"marker\":{\"colorbar\":{\"outlinewidth\":0,\"ticks\":\"\"}},\"type\":\"scattermap\"}],\"scatterpolargl\":[{\"marker\":{\"colorbar\":{\"outlinewidth\":0,\"ticks\":\"\"}},\"type\":\"scatterpolargl\"}],\"scatterpolar\":[{\"marker\":{\"colorbar\":{\"outlinewidth\":0,\"ticks\":\"\"}},\"type\":\"scatterpolar\"}],\"scatter\":[{\"fillpattern\":{\"fillmode\":\"overlay\",\"size\":10,\"solidity\":0.2},\"type\":\"scatter\"}],\"scatterternary\":[{\"marker\":{\"colorbar\":{\"outlinewidth\":0,\"ticks\":\"\"}},\"type\":\"scatterternary\"}],\"surface\":[{\"colorbar\":{\"outlinewidth\":0,\"ticks\":\"\"},\"colorscale\":[[0.0,\"#0d0887\"],[0.1111111111111111,\"#46039f\"],[0.2222222222222222,\"#7201a8\"],[0.3333333333333333,\"#9c179e\"],[0.4444444444444444,\"#bd3786\"],[0.5555555555555556,\"#d8576b\"],[0.6666666666666666,\"#ed7953\"],[0.7777777777777778,\"#fb9f3a\"],[0.8888888888888888,\"#fdca26\"],[1.0,\"#f0f921\"]],\"type\":\"surface\"}],\"table\":[{\"cells\":{\"fill\":{\"color\":\"#EBF0F8\"},\"line\":{\"color\":\"white\"}},\"header\":{\"fill\":{\"color\":\"#C8D4E3\"},\"line\":{\"color\":\"white\"}},\"type\":\"table\"}]},\"layout\":{\"annotationdefaults\":{\"arrowcolor\":\"#2a3f5f\",\"arrowhead\":0,\"arrowwidth\":1},\"autotypenumbers\":\"strict\",\"coloraxis\":{\"colorbar\":{\"outlinewidth\":0,\"ticks\":\"\"}},\"colorscale\":{\"diverging\":[[0,\"#8e0152\"],[0.1,\"#c51b7d\"],[0.2,\"#de77ae\"],[0.3,\"#f1b6da\"],[0.4,\"#fde0ef\"],[0.5,\"#f7f7f7\"],[0.6,\"#e6f5d0\"],[0.7,\"#b8e186\"],[0.8,\"#7fbc41\"],[0.9,\"#4d9221\"],[1,\"#276419\"]],\"sequential\":[[0.0,\"#0d0887\"],[0.1111111111111111,\"#46039f\"],[0.2222222222222222,\"#7201a8\"],[0.3333333333333333,\"#9c179e\"],[0.4444444444444444,\"#bd3786\"],[0.5555555555555556,\"#d8576b\"],[0.6666666666666666,\"#ed7953\"],[0.7777777777777778,\"#fb9f3a\"],[0.8888888888888888,\"#fdca26\"],[1.0,\"#f0f921\"]],\"sequentialminus\":[[0.0,\"#0d0887\"],[0.1111111111111111,\"#46039f\"],[0.2222222222222222,\"#7201a8\"],[0.3333333333333333,\"#9c179e\"],[0.4444444444444444,\"#bd3786\"],[0.5555555555555556,\"#d8576b\"],[0.6666666666666666,\"#ed7953\"],[0.7777777777777778,\"#fb9f3a\"],[0.8888888888888888,\"#fdca26\"],[1.0,\"#f0f921\"]]},\"colorway\":[\"#636efa\",\"#EF553B\",\"#00cc96\",\"#ab63fa\",\"#FFA15A\",\"#19d3f3\",\"#FF6692\",\"#B6E880\",\"#FF97FF\",\"#FECB52\"],\"font\":{\"color\":\"#2a3f5f\"},\"geo\":{\"bgcolor\":\"white\",\"lakecolor\":\"white\",\"landcolor\":\"#E5ECF6\",\"showlakes\":true,\"showland\":true,\"subunitcolor\":\"white\"},\"hoverlabel\":{\"align\":\"left\"},\"hovermode\":\"closest\",\"mapbox\":{\"style\":\"light\"},\"paper_bgcolor\":\"white\",\"plot_bgcolor\":\"#E5ECF6\",\"polar\":{\"angularaxis\":{\"gridcolor\":\"white\",\"linecolor\":\"white\",\"ticks\":\"\"},\"bgcolor\":\"#E5ECF6\",\"radialaxis\":{\"gridcolor\":\"white\",\"linecolor\":\"white\",\"ticks\":\"\"}},\"scene\":{\"xaxis\":{\"backgroundcolor\":\"#E5ECF6\",\"gridcolor\":\"white\",\"gridwidth\":2,\"linecolor\":\"white\",\"showbackground\":true,\"ticks\":\"\",\"zerolinecolor\":\"white\"},\"yaxis\":{\"backgroundcolor\":\"#E5ECF6\",\"gridcolor\":\"white\",\"gridwidth\":2,\"linecolor\":\"white\",\"showbackground\":true,\"ticks\":\"\",\"zerolinecolor\":\"white\"},\"zaxis\":{\"backgroundcolor\":\"#E5ECF6\",\"gridcolor\":\"white\",\"gridwidth\":2,\"linecolor\":\"white\",\"showbackground\":true,\"ticks\":\"\",\"zerolinecolor\":\"white\"}},\"shapedefaults\":{\"line\":{\"color\":\"#2a3f5f\"}},\"ternary\":{\"aaxis\":{\"gridcolor\":\"white\",\"linecolor\":\"white\",\"ticks\":\"\"},\"baxis\":{\"gridcolor\":\"white\",\"linecolor\":\"white\",\"ticks\":\"\"},\"bgcolor\":\"#E5ECF6\",\"caxis\":{\"gridcolor\":\"white\",\"linecolor\":\"white\",\"ticks\":\"\"}},\"title\":{\"x\":0.05},\"xaxis\":{\"automargin\":true,\"gridcolor\":\"white\",\"linecolor\":\"white\",\"ticks\":\"\",\"title\":{\"standoff\":15},\"zerolinecolor\":\"white\",\"zerolinewidth\":2},\"yaxis\":{\"automargin\":true,\"gridcolor\":\"white\",\"linecolor\":\"white\",\"ticks\":\"\",\"title\":{\"standoff\":15},\"zerolinecolor\":\"white\",\"zerolinewidth\":2}}},\"title\":{\"text\":\"Body Mass Index of Smokers Status by Age Category\"},\"xaxis\":{\"title\":{\"font\":{\"size\":16},\"text\":\"Status\"}},\"yaxis\":{\"autorange\":true,\"dtick\":5,\"gridcolor\":\"rgb(255, 255, 255)\",\"gridwidth\":1,\"showgrid\":true,\"title\":{\"font\":{\"size\":16},\"text\":\"Body Mass Index\"},\"zeroline\":true,\"zerolinecolor\":\"rgb(255, 255, 255)\",\"zerolinewidth\":2}},                        {\"responsive\": true}                    ).then(function(){\n",
       "                            \n",
       "var gd = document.getElementById('71aad4de-1b0a-41b9-8fe1-77b7e6351fdd');\n",
       "var x = new MutationObserver(function (mutations, observer) {{\n",
       "        var display = window.getComputedStyle(gd).display;\n",
       "        if (!display || display === 'none') {{\n",
       "            console.log([gd, 'removed!']);\n",
       "            Plotly.purge(gd);\n",
       "            observer.disconnect();\n",
       "        }}\n",
       "}});\n",
       "\n",
       "// Listen for the removal of the full notebook cells\n",
       "var notebookContainer = gd.closest('#notebook-container');\n",
       "if (notebookContainer) {{\n",
       "    x.observe(notebookContainer, {childList: true});\n",
       "}}\n",
       "\n",
       "// Listen for the clearing of the current output cell\n",
       "var outputEl = gd.closest('.output');\n",
       "if (outputEl) {{\n",
       "    x.observe(outputEl, {childList: true});\n",
       "}}\n",
       "\n",
       "                        })                };            </script>        </div>"
      ]
     },
     "metadata": {},
     "output_type": "display_data"
    }
   ],
   "source": [
    "import plotly.graph_objs as go\n",
    "from plotly.offline import iplot, init_notebook_mode\n",
    "\n",
    "init_notebook_mode(connected=True)\n",
    "\n",
    "ya_smoker = df[\"bmi\"].loc[(df[\"age_cat\"] == \"Young Adult\") & (df[\"smoker\"] == \"yes\")].values\n",
    "sa_smoker = df[\"bmi\"].loc[(df[\"age_cat\"] == \"Senior Adult\") & (df[\"smoker\"] == \"yes\")].values\n",
    "e_smoker = df[\"bmi\"].loc[(df[\"age_cat\"] == \"Elder\") & (df[\"smoker\"] == \"yes\")].values\n",
    "\n",
    "ya_nonsmoker = df[\"bmi\"].loc[(df[\"age_cat\"] == \"Young Adult\") & (df[\"smoker\"] == \"no\")].values\n",
    "sa_nonsmoker = df[\"bmi\"].loc[(df[\"age_cat\"] == \"Senior Adult\") & (df[\"smoker\"] == \"no\")].values\n",
    "e_nonsmoker = df[\"bmi\"].loc[(df[\"age_cat\"] == \"Elder\") & (df[\"smoker\"] == \"no\")].values\n",
    "\n",
    "x_data = [\n",
    "    'Young A. Smoker', 'Young A. Non-Smoker',\n",
    "    'Senior A. Smoker', 'Senior A. Non-Smoker',\n",
    "    'Elder Smoker', 'Elder Non-Smoker'\n",
    "]\n",
    "\n",
    "y_data = [ya_smoker, ya_nonsmoker, sa_smoker, sa_nonsmoker, e_smoker, e_nonsmoker]\n",
    "\n",
    "colors = [\n",
    "    'rgba(251, 43, 43, 0.5)', 'rgba(125, 251, 137, 0.5)', \n",
    "    'rgba(251, 43, 43, 0.5)', 'rgba(125, 251, 137, 0.5)', \n",
    "    'rgba(251, 43, 43, 0.5)', 'rgba(125, 251, 137, 0.5)'\n",
    "]\n",
    "\n",
    "traces = []\n",
    "\n",
    "for xd, yd, cls in zip(x_data, y_data, colors):\n",
    "    traces.append(go.Box(\n",
    "        y=yd,\n",
    "        name=xd,\n",
    "        boxpoints='all',\n",
    "        jitter=0.5,\n",
    "        whiskerwidth=0.2,\n",
    "        fillcolor=cls,\n",
    "        marker=dict(size=2),\n",
    "        line=dict(width=1)\n",
    "    ))\n",
    "\n",
    "layout = go.Layout(\n",
    "    title='Body Mass Index of Smokers Status by Age Category',\n",
    "    xaxis=dict(title=dict(text=\"Status\", font=dict(size=16))),\n",
    "    yaxis=dict(title=dict(text=\"Body Mass Index\", font=dict(size=16)),\n",
    "               autorange=True,\n",
    "               showgrid=True,\n",
    "               zeroline=True,\n",
    "               dtick=5,\n",
    "               gridcolor='rgb(255, 255, 255)',\n",
    "               gridwidth=1,\n",
    "               zerolinecolor='rgb(255, 255, 255)',\n",
    "               zerolinewidth=2),\n",
    "    margin=dict(l=40, r=30, b=80, t=100),\n",
    "    paper_bgcolor='rgb(255, 255, 255)',\n",
    "    plot_bgcolor='rgb(255, 243, 192)',\n",
    "    showlegend=False\n",
    ")\n",
    "\n",
    "fig = go.Figure(data=traces, layout=layout)\n",
    "iplot(fig)"
   ]
  },
  {
   "cell_type": "code",
   "execution_count": 10,
   "metadata": {},
   "outputs": [
    {
     "data": {
      "text/html": [
       "        <script type=\"text/javascript\">\n",
       "        window.PlotlyConfig = {MathJaxConfig: 'local'};\n",
       "        if (window.MathJax && window.MathJax.Hub && window.MathJax.Hub.Config) {window.MathJax.Hub.Config({SVG: {font: \"STIX-Web\"}});}\n",
       "        </script>\n",
       "        <script type=\"module\">import \"https://cdn.plot.ly/plotly-3.1.1.min\"</script>\n",
       "        "
      ]
     },
     "metadata": {},
     "output_type": "display_data"
    },
    {
     "data": {
      "application/vnd.plotly.v1+json": {
       "config": {
        "linkText": "Export to plot.ly",
        "plotlyServerURL": "https://plot.ly",
        "showLink": false
       },
       "data": [
        {
         "marker": {
          "color": "#F5B041"
         },
         "name": "Mean",
         "type": "bar",
         "x": [
          "Young Adults",
          "Senior Adults",
          "Elder"
         ],
         "xaxis": "x",
         "y": [
          9744.478281339721,
          14785.6930530292,
          18795.99381578704
         ],
         "yaxis": "y"
        },
        {
         "marker": {
          "color": "#48C9B0"
         },
         "name": "Median",
         "type": "bar",
         "x": [
          "Young Adults",
          "Senior Adults",
          "Elder"
         ],
         "xaxis": "x2",
         "y": [
          4252.167025,
          9565.00995,
          13429.6502
         ],
         "yaxis": "y2"
        }
       ],
       "layout": {
        "annotations": [
         {
          "font": {
           "size": 16
          },
          "showarrow": false,
          "text": "Average Charge by Age",
          "x": 0.225,
          "xanchor": "center",
          "xref": "paper",
          "y": 1,
          "yanchor": "bottom",
          "yref": "paper"
         },
         {
          "font": {
           "size": 16
          },
          "showarrow": false,
          "text": "Median Charge by Age",
          "x": 0.775,
          "xanchor": "center",
          "xref": "paper",
          "y": 1,
          "yanchor": "bottom",
          "yref": "paper"
         }
        ],
        "bargap": 0.15,
        "showlegend": true,
        "template": {
         "data": {
          "bar": [
           {
            "error_x": {
             "color": "#2a3f5f"
            },
            "error_y": {
             "color": "#2a3f5f"
            },
            "marker": {
             "line": {
              "color": "#E5ECF6",
              "width": 0.5
             },
             "pattern": {
              "fillmode": "overlay",
              "size": 10,
              "solidity": 0.2
             }
            },
            "type": "bar"
           }
          ],
          "barpolar": [
           {
            "marker": {
             "line": {
              "color": "#E5ECF6",
              "width": 0.5
             },
             "pattern": {
              "fillmode": "overlay",
              "size": 10,
              "solidity": 0.2
             }
            },
            "type": "barpolar"
           }
          ],
          "carpet": [
           {
            "aaxis": {
             "endlinecolor": "#2a3f5f",
             "gridcolor": "white",
             "linecolor": "white",
             "minorgridcolor": "white",
             "startlinecolor": "#2a3f5f"
            },
            "baxis": {
             "endlinecolor": "#2a3f5f",
             "gridcolor": "white",
             "linecolor": "white",
             "minorgridcolor": "white",
             "startlinecolor": "#2a3f5f"
            },
            "type": "carpet"
           }
          ],
          "choropleth": [
           {
            "colorbar": {
             "outlinewidth": 0,
             "ticks": ""
            },
            "type": "choropleth"
           }
          ],
          "contour": [
           {
            "colorbar": {
             "outlinewidth": 0,
             "ticks": ""
            },
            "colorscale": [
             [
              0,
              "#0d0887"
             ],
             [
              0.1111111111111111,
              "#46039f"
             ],
             [
              0.2222222222222222,
              "#7201a8"
             ],
             [
              0.3333333333333333,
              "#9c179e"
             ],
             [
              0.4444444444444444,
              "#bd3786"
             ],
             [
              0.5555555555555556,
              "#d8576b"
             ],
             [
              0.6666666666666666,
              "#ed7953"
             ],
             [
              0.7777777777777778,
              "#fb9f3a"
             ],
             [
              0.8888888888888888,
              "#fdca26"
             ],
             [
              1,
              "#f0f921"
             ]
            ],
            "type": "contour"
           }
          ],
          "contourcarpet": [
           {
            "colorbar": {
             "outlinewidth": 0,
             "ticks": ""
            },
            "type": "contourcarpet"
           }
          ],
          "heatmap": [
           {
            "colorbar": {
             "outlinewidth": 0,
             "ticks": ""
            },
            "colorscale": [
             [
              0,
              "#0d0887"
             ],
             [
              0.1111111111111111,
              "#46039f"
             ],
             [
              0.2222222222222222,
              "#7201a8"
             ],
             [
              0.3333333333333333,
              "#9c179e"
             ],
             [
              0.4444444444444444,
              "#bd3786"
             ],
             [
              0.5555555555555556,
              "#d8576b"
             ],
             [
              0.6666666666666666,
              "#ed7953"
             ],
             [
              0.7777777777777778,
              "#fb9f3a"
             ],
             [
              0.8888888888888888,
              "#fdca26"
             ],
             [
              1,
              "#f0f921"
             ]
            ],
            "type": "heatmap"
           }
          ],
          "histogram": [
           {
            "marker": {
             "pattern": {
              "fillmode": "overlay",
              "size": 10,
              "solidity": 0.2
             }
            },
            "type": "histogram"
           }
          ],
          "histogram2d": [
           {
            "colorbar": {
             "outlinewidth": 0,
             "ticks": ""
            },
            "colorscale": [
             [
              0,
              "#0d0887"
             ],
             [
              0.1111111111111111,
              "#46039f"
             ],
             [
              0.2222222222222222,
              "#7201a8"
             ],
             [
              0.3333333333333333,
              "#9c179e"
             ],
             [
              0.4444444444444444,
              "#bd3786"
             ],
             [
              0.5555555555555556,
              "#d8576b"
             ],
             [
              0.6666666666666666,
              "#ed7953"
             ],
             [
              0.7777777777777778,
              "#fb9f3a"
             ],
             [
              0.8888888888888888,
              "#fdca26"
             ],
             [
              1,
              "#f0f921"
             ]
            ],
            "type": "histogram2d"
           }
          ],
          "histogram2dcontour": [
           {
            "colorbar": {
             "outlinewidth": 0,
             "ticks": ""
            },
            "colorscale": [
             [
              0,
              "#0d0887"
             ],
             [
              0.1111111111111111,
              "#46039f"
             ],
             [
              0.2222222222222222,
              "#7201a8"
             ],
             [
              0.3333333333333333,
              "#9c179e"
             ],
             [
              0.4444444444444444,
              "#bd3786"
             ],
             [
              0.5555555555555556,
              "#d8576b"
             ],
             [
              0.6666666666666666,
              "#ed7953"
             ],
             [
              0.7777777777777778,
              "#fb9f3a"
             ],
             [
              0.8888888888888888,
              "#fdca26"
             ],
             [
              1,
              "#f0f921"
             ]
            ],
            "type": "histogram2dcontour"
           }
          ],
          "mesh3d": [
           {
            "colorbar": {
             "outlinewidth": 0,
             "ticks": ""
            },
            "type": "mesh3d"
           }
          ],
          "parcoords": [
           {
            "line": {
             "colorbar": {
              "outlinewidth": 0,
              "ticks": ""
             }
            },
            "type": "parcoords"
           }
          ],
          "pie": [
           {
            "automargin": true,
            "type": "pie"
           }
          ],
          "scatter": [
           {
            "fillpattern": {
             "fillmode": "overlay",
             "size": 10,
             "solidity": 0.2
            },
            "type": "scatter"
           }
          ],
          "scatter3d": [
           {
            "line": {
             "colorbar": {
              "outlinewidth": 0,
              "ticks": ""
             }
            },
            "marker": {
             "colorbar": {
              "outlinewidth": 0,
              "ticks": ""
             }
            },
            "type": "scatter3d"
           }
          ],
          "scattercarpet": [
           {
            "marker": {
             "colorbar": {
              "outlinewidth": 0,
              "ticks": ""
             }
            },
            "type": "scattercarpet"
           }
          ],
          "scattergeo": [
           {
            "marker": {
             "colorbar": {
              "outlinewidth": 0,
              "ticks": ""
             }
            },
            "type": "scattergeo"
           }
          ],
          "scattergl": [
           {
            "marker": {
             "colorbar": {
              "outlinewidth": 0,
              "ticks": ""
             }
            },
            "type": "scattergl"
           }
          ],
          "scattermap": [
           {
            "marker": {
             "colorbar": {
              "outlinewidth": 0,
              "ticks": ""
             }
            },
            "type": "scattermap"
           }
          ],
          "scattermapbox": [
           {
            "marker": {
             "colorbar": {
              "outlinewidth": 0,
              "ticks": ""
             }
            },
            "type": "scattermapbox"
           }
          ],
          "scatterpolar": [
           {
            "marker": {
             "colorbar": {
              "outlinewidth": 0,
              "ticks": ""
             }
            },
            "type": "scatterpolar"
           }
          ],
          "scatterpolargl": [
           {
            "marker": {
             "colorbar": {
              "outlinewidth": 0,
              "ticks": ""
             }
            },
            "type": "scatterpolargl"
           }
          ],
          "scatterternary": [
           {
            "marker": {
             "colorbar": {
              "outlinewidth": 0,
              "ticks": ""
             }
            },
            "type": "scatterternary"
           }
          ],
          "surface": [
           {
            "colorbar": {
             "outlinewidth": 0,
             "ticks": ""
            },
            "colorscale": [
             [
              0,
              "#0d0887"
             ],
             [
              0.1111111111111111,
              "#46039f"
             ],
             [
              0.2222222222222222,
              "#7201a8"
             ],
             [
              0.3333333333333333,
              "#9c179e"
             ],
             [
              0.4444444444444444,
              "#bd3786"
             ],
             [
              0.5555555555555556,
              "#d8576b"
             ],
             [
              0.6666666666666666,
              "#ed7953"
             ],
             [
              0.7777777777777778,
              "#fb9f3a"
             ],
             [
              0.8888888888888888,
              "#fdca26"
             ],
             [
              1,
              "#f0f921"
             ]
            ],
            "type": "surface"
           }
          ],
          "table": [
           {
            "cells": {
             "fill": {
              "color": "#EBF0F8"
             },
             "line": {
              "color": "white"
             }
            },
            "header": {
             "fill": {
              "color": "#C8D4E3"
             },
             "line": {
              "color": "white"
             }
            },
            "type": "table"
           }
          ]
         },
         "layout": {
          "annotationdefaults": {
           "arrowcolor": "#2a3f5f",
           "arrowhead": 0,
           "arrowwidth": 1
          },
          "autotypenumbers": "strict",
          "coloraxis": {
           "colorbar": {
            "outlinewidth": 0,
            "ticks": ""
           }
          },
          "colorscale": {
           "diverging": [
            [
             0,
             "#8e0152"
            ],
            [
             0.1,
             "#c51b7d"
            ],
            [
             0.2,
             "#de77ae"
            ],
            [
             0.3,
             "#f1b6da"
            ],
            [
             0.4,
             "#fde0ef"
            ],
            [
             0.5,
             "#f7f7f7"
            ],
            [
             0.6,
             "#e6f5d0"
            ],
            [
             0.7,
             "#b8e186"
            ],
            [
             0.8,
             "#7fbc41"
            ],
            [
             0.9,
             "#4d9221"
            ],
            [
             1,
             "#276419"
            ]
           ],
           "sequential": [
            [
             0,
             "#0d0887"
            ],
            [
             0.1111111111111111,
             "#46039f"
            ],
            [
             0.2222222222222222,
             "#7201a8"
            ],
            [
             0.3333333333333333,
             "#9c179e"
            ],
            [
             0.4444444444444444,
             "#bd3786"
            ],
            [
             0.5555555555555556,
             "#d8576b"
            ],
            [
             0.6666666666666666,
             "#ed7953"
            ],
            [
             0.7777777777777778,
             "#fb9f3a"
            ],
            [
             0.8888888888888888,
             "#fdca26"
            ],
            [
             1,
             "#f0f921"
            ]
           ],
           "sequentialminus": [
            [
             0,
             "#0d0887"
            ],
            [
             0.1111111111111111,
             "#46039f"
            ],
            [
             0.2222222222222222,
             "#7201a8"
            ],
            [
             0.3333333333333333,
             "#9c179e"
            ],
            [
             0.4444444444444444,
             "#bd3786"
            ],
            [
             0.5555555555555556,
             "#d8576b"
            ],
            [
             0.6666666666666666,
             "#ed7953"
            ],
            [
             0.7777777777777778,
             "#fb9f3a"
            ],
            [
             0.8888888888888888,
             "#fdca26"
            ],
            [
             1,
             "#f0f921"
            ]
           ]
          },
          "colorway": [
           "#636efa",
           "#EF553B",
           "#00cc96",
           "#ab63fa",
           "#FFA15A",
           "#19d3f3",
           "#FF6692",
           "#B6E880",
           "#FF97FF",
           "#FECB52"
          ],
          "font": {
           "color": "#2a3f5f"
          },
          "geo": {
           "bgcolor": "white",
           "lakecolor": "white",
           "landcolor": "#E5ECF6",
           "showlakes": true,
           "showland": true,
           "subunitcolor": "white"
          },
          "hoverlabel": {
           "align": "left"
          },
          "hovermode": "closest",
          "mapbox": {
           "style": "light"
          },
          "paper_bgcolor": "white",
          "plot_bgcolor": "#E5ECF6",
          "polar": {
           "angularaxis": {
            "gridcolor": "white",
            "linecolor": "white",
            "ticks": ""
           },
           "bgcolor": "#E5ECF6",
           "radialaxis": {
            "gridcolor": "white",
            "linecolor": "white",
            "ticks": ""
           }
          },
          "scene": {
           "xaxis": {
            "backgroundcolor": "#E5ECF6",
            "gridcolor": "white",
            "gridwidth": 2,
            "linecolor": "white",
            "showbackground": true,
            "ticks": "",
            "zerolinecolor": "white"
           },
           "yaxis": {
            "backgroundcolor": "#E5ECF6",
            "gridcolor": "white",
            "gridwidth": 2,
            "linecolor": "white",
            "showbackground": true,
            "ticks": "",
            "zerolinecolor": "white"
           },
           "zaxis": {
            "backgroundcolor": "#E5ECF6",
            "gridcolor": "white",
            "gridwidth": 2,
            "linecolor": "white",
            "showbackground": true,
            "ticks": "",
            "zerolinecolor": "white"
           }
          },
          "shapedefaults": {
           "line": {
            "color": "#2a3f5f"
           }
          },
          "ternary": {
           "aaxis": {
            "gridcolor": "white",
            "linecolor": "white",
            "ticks": ""
           },
           "baxis": {
            "gridcolor": "white",
            "linecolor": "white",
            "ticks": ""
           },
           "bgcolor": "#E5ECF6",
           "caxis": {
            "gridcolor": "white",
            "linecolor": "white",
            "ticks": ""
           }
          },
          "title": {
           "x": 0.05
          },
          "xaxis": {
           "automargin": true,
           "gridcolor": "white",
           "linecolor": "white",
           "ticks": "",
           "title": {
            "standoff": 15
           },
           "zerolinecolor": "white",
           "zerolinewidth": 2
          },
          "yaxis": {
           "automargin": true,
           "gridcolor": "white",
           "linecolor": "white",
           "ticks": "",
           "title": {
            "standoff": 15
           },
           "zerolinecolor": "white",
           "zerolinewidth": 2
          }
         }
        },
        "title": {
         "text": "Age Charges"
        },
        "xaxis": {
         "anchor": "y",
         "domain": [
          0,
          0.45
         ],
         "title": {
          "text": "Age Category"
         }
        },
        "xaxis2": {
         "anchor": "y2",
         "domain": [
          0.55,
          1
         ]
        },
        "yaxis": {
         "anchor": "x",
         "domain": [
          0,
          1
         ],
         "title": {
          "text": "Patient Charges"
         }
        },
        "yaxis2": {
         "anchor": "x2",
         "domain": [
          0,
          1
         ],
         "matches": "y",
         "showticklabels": false
        }
       }
      },
      "text/html": [
       "<div>            <script src=\"https://cdnjs.cloudflare.com/ajax/libs/mathjax/2.7.5/MathJax.js?config=TeX-AMS-MML_SVG\"></script><script type=\"text/javascript\">if (window.MathJax && window.MathJax.Hub && window.MathJax.Hub.Config) {window.MathJax.Hub.Config({SVG: {font: \"STIX-Web\"}});}</script>                <script type=\"text/javascript\">window.PlotlyConfig = {MathJaxConfig: 'local'};</script>\n",
       "        <script charset=\"utf-8\" src=\"https://cdn.plot.ly/plotly-3.1.1.min.js\" integrity=\"sha256-HUEFyfiTnZJxCxur99FjbKYTvKSzwDaD3/x5TqHpFu4=\" crossorigin=\"anonymous\"></script>                <div id=\"9c6033fb-1c1f-49ae-aa23-4af1ba6826f9\" class=\"plotly-graph-div\" style=\"height:525px; width:100%;\"></div>            <script type=\"text/javascript\">                window.PLOTLYENV=window.PLOTLYENV || {};                                if (document.getElementById(\"9c6033fb-1c1f-49ae-aa23-4af1ba6826f9\")) {                    Plotly.newPlot(                        \"9c6033fb-1c1f-49ae-aa23-4af1ba6826f9\",                        [{\"marker\":{\"color\":\"#F5B041\"},\"name\":\"Mean\",\"x\":[\"Young Adults\",\"Senior Adults\",\"Elder\"],\"xaxis\":\"x\",\"y\":[9744.478281339721,14785.6930530292,18795.99381578704],\"yaxis\":\"y\",\"type\":\"bar\"},{\"marker\":{\"color\":\"#48C9B0\"},\"name\":\"Median\",\"x\":[\"Young Adults\",\"Senior Adults\",\"Elder\"],\"xaxis\":\"x2\",\"y\":[4252.167025,9565.00995,13429.6502],\"yaxis\":\"y2\",\"type\":\"bar\"}],                        {\"annotations\":[{\"font\":{\"size\":16},\"showarrow\":false,\"text\":\"Average Charge by Age\",\"x\":0.225,\"xanchor\":\"center\",\"xref\":\"paper\",\"y\":1.0,\"yanchor\":\"bottom\",\"yref\":\"paper\"},{\"font\":{\"size\":16},\"showarrow\":false,\"text\":\"Median Charge by Age\",\"x\":0.775,\"xanchor\":\"center\",\"xref\":\"paper\",\"y\":1.0,\"yanchor\":\"bottom\",\"yref\":\"paper\"}],\"bargap\":0.15,\"showlegend\":true,\"template\":{\"data\":{\"barpolar\":[{\"marker\":{\"line\":{\"color\":\"#E5ECF6\",\"width\":0.5},\"pattern\":{\"fillmode\":\"overlay\",\"size\":10,\"solidity\":0.2}},\"type\":\"barpolar\"}],\"bar\":[{\"error_x\":{\"color\":\"#2a3f5f\"},\"error_y\":{\"color\":\"#2a3f5f\"},\"marker\":{\"line\":{\"color\":\"#E5ECF6\",\"width\":0.5},\"pattern\":{\"fillmode\":\"overlay\",\"size\":10,\"solidity\":0.2}},\"type\":\"bar\"}],\"carpet\":[{\"aaxis\":{\"endlinecolor\":\"#2a3f5f\",\"gridcolor\":\"white\",\"linecolor\":\"white\",\"minorgridcolor\":\"white\",\"startlinecolor\":\"#2a3f5f\"},\"baxis\":{\"endlinecolor\":\"#2a3f5f\",\"gridcolor\":\"white\",\"linecolor\":\"white\",\"minorgridcolor\":\"white\",\"startlinecolor\":\"#2a3f5f\"},\"type\":\"carpet\"}],\"choropleth\":[{\"colorbar\":{\"outlinewidth\":0,\"ticks\":\"\"},\"type\":\"choropleth\"}],\"contourcarpet\":[{\"colorbar\":{\"outlinewidth\":0,\"ticks\":\"\"},\"type\":\"contourcarpet\"}],\"contour\":[{\"colorbar\":{\"outlinewidth\":0,\"ticks\":\"\"},\"colorscale\":[[0.0,\"#0d0887\"],[0.1111111111111111,\"#46039f\"],[0.2222222222222222,\"#7201a8\"],[0.3333333333333333,\"#9c179e\"],[0.4444444444444444,\"#bd3786\"],[0.5555555555555556,\"#d8576b\"],[0.6666666666666666,\"#ed7953\"],[0.7777777777777778,\"#fb9f3a\"],[0.8888888888888888,\"#fdca26\"],[1.0,\"#f0f921\"]],\"type\":\"contour\"}],\"heatmap\":[{\"colorbar\":{\"outlinewidth\":0,\"ticks\":\"\"},\"colorscale\":[[0.0,\"#0d0887\"],[0.1111111111111111,\"#46039f\"],[0.2222222222222222,\"#7201a8\"],[0.3333333333333333,\"#9c179e\"],[0.4444444444444444,\"#bd3786\"],[0.5555555555555556,\"#d8576b\"],[0.6666666666666666,\"#ed7953\"],[0.7777777777777778,\"#fb9f3a\"],[0.8888888888888888,\"#fdca26\"],[1.0,\"#f0f921\"]],\"type\":\"heatmap\"}],\"histogram2dcontour\":[{\"colorbar\":{\"outlinewidth\":0,\"ticks\":\"\"},\"colorscale\":[[0.0,\"#0d0887\"],[0.1111111111111111,\"#46039f\"],[0.2222222222222222,\"#7201a8\"],[0.3333333333333333,\"#9c179e\"],[0.4444444444444444,\"#bd3786\"],[0.5555555555555556,\"#d8576b\"],[0.6666666666666666,\"#ed7953\"],[0.7777777777777778,\"#fb9f3a\"],[0.8888888888888888,\"#fdca26\"],[1.0,\"#f0f921\"]],\"type\":\"histogram2dcontour\"}],\"histogram2d\":[{\"colorbar\":{\"outlinewidth\":0,\"ticks\":\"\"},\"colorscale\":[[0.0,\"#0d0887\"],[0.1111111111111111,\"#46039f\"],[0.2222222222222222,\"#7201a8\"],[0.3333333333333333,\"#9c179e\"],[0.4444444444444444,\"#bd3786\"],[0.5555555555555556,\"#d8576b\"],[0.6666666666666666,\"#ed7953\"],[0.7777777777777778,\"#fb9f3a\"],[0.8888888888888888,\"#fdca26\"],[1.0,\"#f0f921\"]],\"type\":\"histogram2d\"}],\"histogram\":[{\"marker\":{\"pattern\":{\"fillmode\":\"overlay\",\"size\":10,\"solidity\":0.2}},\"type\":\"histogram\"}],\"mesh3d\":[{\"colorbar\":{\"outlinewidth\":0,\"ticks\":\"\"},\"type\":\"mesh3d\"}],\"parcoords\":[{\"line\":{\"colorbar\":{\"outlinewidth\":0,\"ticks\":\"\"}},\"type\":\"parcoords\"}],\"pie\":[{\"automargin\":true,\"type\":\"pie\"}],\"scatter3d\":[{\"line\":{\"colorbar\":{\"outlinewidth\":0,\"ticks\":\"\"}},\"marker\":{\"colorbar\":{\"outlinewidth\":0,\"ticks\":\"\"}},\"type\":\"scatter3d\"}],\"scattercarpet\":[{\"marker\":{\"colorbar\":{\"outlinewidth\":0,\"ticks\":\"\"}},\"type\":\"scattercarpet\"}],\"scattergeo\":[{\"marker\":{\"colorbar\":{\"outlinewidth\":0,\"ticks\":\"\"}},\"type\":\"scattergeo\"}],\"scattergl\":[{\"marker\":{\"colorbar\":{\"outlinewidth\":0,\"ticks\":\"\"}},\"type\":\"scattergl\"}],\"scattermapbox\":[{\"marker\":{\"colorbar\":{\"outlinewidth\":0,\"ticks\":\"\"}},\"type\":\"scattermapbox\"}],\"scattermap\":[{\"marker\":{\"colorbar\":{\"outlinewidth\":0,\"ticks\":\"\"}},\"type\":\"scattermap\"}],\"scatterpolargl\":[{\"marker\":{\"colorbar\":{\"outlinewidth\":0,\"ticks\":\"\"}},\"type\":\"scatterpolargl\"}],\"scatterpolar\":[{\"marker\":{\"colorbar\":{\"outlinewidth\":0,\"ticks\":\"\"}},\"type\":\"scatterpolar\"}],\"scatter\":[{\"fillpattern\":{\"fillmode\":\"overlay\",\"size\":10,\"solidity\":0.2},\"type\":\"scatter\"}],\"scatterternary\":[{\"marker\":{\"colorbar\":{\"outlinewidth\":0,\"ticks\":\"\"}},\"type\":\"scatterternary\"}],\"surface\":[{\"colorbar\":{\"outlinewidth\":0,\"ticks\":\"\"},\"colorscale\":[[0.0,\"#0d0887\"],[0.1111111111111111,\"#46039f\"],[0.2222222222222222,\"#7201a8\"],[0.3333333333333333,\"#9c179e\"],[0.4444444444444444,\"#bd3786\"],[0.5555555555555556,\"#d8576b\"],[0.6666666666666666,\"#ed7953\"],[0.7777777777777778,\"#fb9f3a\"],[0.8888888888888888,\"#fdca26\"],[1.0,\"#f0f921\"]],\"type\":\"surface\"}],\"table\":[{\"cells\":{\"fill\":{\"color\":\"#EBF0F8\"},\"line\":{\"color\":\"white\"}},\"header\":{\"fill\":{\"color\":\"#C8D4E3\"},\"line\":{\"color\":\"white\"}},\"type\":\"table\"}]},\"layout\":{\"annotationdefaults\":{\"arrowcolor\":\"#2a3f5f\",\"arrowhead\":0,\"arrowwidth\":1},\"autotypenumbers\":\"strict\",\"coloraxis\":{\"colorbar\":{\"outlinewidth\":0,\"ticks\":\"\"}},\"colorscale\":{\"diverging\":[[0,\"#8e0152\"],[0.1,\"#c51b7d\"],[0.2,\"#de77ae\"],[0.3,\"#f1b6da\"],[0.4,\"#fde0ef\"],[0.5,\"#f7f7f7\"],[0.6,\"#e6f5d0\"],[0.7,\"#b8e186\"],[0.8,\"#7fbc41\"],[0.9,\"#4d9221\"],[1,\"#276419\"]],\"sequential\":[[0.0,\"#0d0887\"],[0.1111111111111111,\"#46039f\"],[0.2222222222222222,\"#7201a8\"],[0.3333333333333333,\"#9c179e\"],[0.4444444444444444,\"#bd3786\"],[0.5555555555555556,\"#d8576b\"],[0.6666666666666666,\"#ed7953\"],[0.7777777777777778,\"#fb9f3a\"],[0.8888888888888888,\"#fdca26\"],[1.0,\"#f0f921\"]],\"sequentialminus\":[[0.0,\"#0d0887\"],[0.1111111111111111,\"#46039f\"],[0.2222222222222222,\"#7201a8\"],[0.3333333333333333,\"#9c179e\"],[0.4444444444444444,\"#bd3786\"],[0.5555555555555556,\"#d8576b\"],[0.6666666666666666,\"#ed7953\"],[0.7777777777777778,\"#fb9f3a\"],[0.8888888888888888,\"#fdca26\"],[1.0,\"#f0f921\"]]},\"colorway\":[\"#636efa\",\"#EF553B\",\"#00cc96\",\"#ab63fa\",\"#FFA15A\",\"#19d3f3\",\"#FF6692\",\"#B6E880\",\"#FF97FF\",\"#FECB52\"],\"font\":{\"color\":\"#2a3f5f\"},\"geo\":{\"bgcolor\":\"white\",\"lakecolor\":\"white\",\"landcolor\":\"#E5ECF6\",\"showlakes\":true,\"showland\":true,\"subunitcolor\":\"white\"},\"hoverlabel\":{\"align\":\"left\"},\"hovermode\":\"closest\",\"mapbox\":{\"style\":\"light\"},\"paper_bgcolor\":\"white\",\"plot_bgcolor\":\"#E5ECF6\",\"polar\":{\"angularaxis\":{\"gridcolor\":\"white\",\"linecolor\":\"white\",\"ticks\":\"\"},\"bgcolor\":\"#E5ECF6\",\"radialaxis\":{\"gridcolor\":\"white\",\"linecolor\":\"white\",\"ticks\":\"\"}},\"scene\":{\"xaxis\":{\"backgroundcolor\":\"#E5ECF6\",\"gridcolor\":\"white\",\"gridwidth\":2,\"linecolor\":\"white\",\"showbackground\":true,\"ticks\":\"\",\"zerolinecolor\":\"white\"},\"yaxis\":{\"backgroundcolor\":\"#E5ECF6\",\"gridcolor\":\"white\",\"gridwidth\":2,\"linecolor\":\"white\",\"showbackground\":true,\"ticks\":\"\",\"zerolinecolor\":\"white\"},\"zaxis\":{\"backgroundcolor\":\"#E5ECF6\",\"gridcolor\":\"white\",\"gridwidth\":2,\"linecolor\":\"white\",\"showbackground\":true,\"ticks\":\"\",\"zerolinecolor\":\"white\"}},\"shapedefaults\":{\"line\":{\"color\":\"#2a3f5f\"}},\"ternary\":{\"aaxis\":{\"gridcolor\":\"white\",\"linecolor\":\"white\",\"ticks\":\"\"},\"baxis\":{\"gridcolor\":\"white\",\"linecolor\":\"white\",\"ticks\":\"\"},\"bgcolor\":\"#E5ECF6\",\"caxis\":{\"gridcolor\":\"white\",\"linecolor\":\"white\",\"ticks\":\"\"}},\"title\":{\"x\":0.05},\"xaxis\":{\"automargin\":true,\"gridcolor\":\"white\",\"linecolor\":\"white\",\"ticks\":\"\",\"title\":{\"standoff\":15},\"zerolinecolor\":\"white\",\"zerolinewidth\":2},\"yaxis\":{\"automargin\":true,\"gridcolor\":\"white\",\"linecolor\":\"white\",\"ticks\":\"\",\"title\":{\"standoff\":15},\"zerolinecolor\":\"white\",\"zerolinewidth\":2}}},\"title\":{\"text\":\"Age Charges\"},\"xaxis\":{\"anchor\":\"y\",\"domain\":[0.0,0.45],\"title\":{\"text\":\"Age Category\"}},\"yaxis\":{\"anchor\":\"x\",\"domain\":[0.0,1.0],\"title\":{\"text\":\"Patient Charges\"}},\"xaxis2\":{\"anchor\":\"y2\",\"domain\":[0.55,1.0]},\"yaxis2\":{\"anchor\":\"x2\",\"domain\":[0.0,1.0],\"matches\":\"y\",\"showticklabels\":false}},                        {\"responsive\": true}                    ).then(function(){\n",
       "                            \n",
       "var gd = document.getElementById('9c6033fb-1c1f-49ae-aa23-4af1ba6826f9');\n",
       "var x = new MutationObserver(function (mutations, observer) {{\n",
       "        var display = window.getComputedStyle(gd).display;\n",
       "        if (!display || display === 'none') {{\n",
       "            console.log([gd, 'removed!']);\n",
       "            Plotly.purge(gd);\n",
       "            observer.disconnect();\n",
       "        }}\n",
       "}});\n",
       "\n",
       "// Listen for the removal of the full notebook cells\n",
       "var notebookContainer = gd.closest('#notebook-container');\n",
       "if (notebookContainer) {{\n",
       "    x.observe(notebookContainer, {childList: true});\n",
       "}}\n",
       "\n",
       "// Listen for the clearing of the current output cell\n",
       "var outputEl = gd.closest('.output');\n",
       "if (outputEl) {{\n",
       "    x.observe(outputEl, {childList: true});\n",
       "}}\n",
       "\n",
       "                        })                };            </script>        </div>"
      ]
     },
     "metadata": {},
     "output_type": "display_data"
    }
   ],
   "source": [
    "import plotly.graph_objs as go\n",
    "from plotly.subplots import make_subplots     # ✅ Correct import\n",
    "from plotly.offline import iplot, init_notebook_mode\n",
    "\n",
    "init_notebook_mode(connected=True)\n",
    "\n",
    "# Mean could be affected easily by outliers or extreme cases.\n",
    "# ----------------------------\n",
    "# Means\n",
    "avg_ya_charge = df[\"charges\"].loc[df[\"age_cat\"] == \"Young Adult\"].mean()\n",
    "avg_sa_charge = df[\"charges\"].loc[df[\"age_cat\"] == \"Senior Adult\"].mean()\n",
    "avg_e_charge = df[\"charges\"].loc[df[\"age_cat\"] == \"Elder\"].mean()\n",
    "\n",
    "# Medians\n",
    "med_ya_charge = df[\"charges\"].loc[df[\"age_cat\"] == \"Young Adult\"].median()\n",
    "med_sa_charge = df[\"charges\"].loc[df[\"age_cat\"] == \"Senior Adult\"].median()\n",
    "med_e_charge = df[\"charges\"].loc[df[\"age_cat\"] == \"Elder\"].median()\n",
    "\n",
    "# ----------------------------\n",
    "# Bar plots\n",
    "average_plot = go.Bar(\n",
    "    x=['Young Adults', 'Senior Adults', 'Elder'],\n",
    "    y=[avg_ya_charge, avg_sa_charge, avg_e_charge],\n",
    "    name='Mean',\n",
    "    marker=dict(color=\"#F5B041\")\n",
    ")\n",
    "\n",
    "med_plot = go.Bar(\n",
    "    x=['Young Adults', 'Senior Adults', 'Elder'],\n",
    "    y=[med_ya_charge, med_sa_charge, med_e_charge],\n",
    "    name='Median',\n",
    "    marker=dict(color=\"#48C9B0\")\n",
    ")\n",
    "\n",
    "# ----------------------------\n",
    "# Create subplots properly\n",
    "fig = make_subplots(\n",
    "    rows=1, cols=2,\n",
    "    specs=[[{}, {}]],\n",
    "    subplot_titles=('Average Charge by Age', 'Median Charge by Age'),\n",
    "    shared_yaxes=True\n",
    ")\n",
    "\n",
    "fig.add_trace(average_plot, row=1, col=1)\n",
    "fig.add_trace(med_plot, row=1, col=2)\n",
    "\n",
    "# ----------------------------\n",
    "# Layout\n",
    "fig.update_layout(\n",
    "    showlegend=True,\n",
    "    title='Age Charges',\n",
    "    xaxis=dict(title=\"Age Category\"),\n",
    "    yaxis=dict(title=\"Patient Charges\"),\n",
    "    bargap=0.15\n",
    ")\n",
    "\n",
    "iplot(fig)\n"
   ]
  },
  {
   "cell_type": "code",
   "execution_count": null,
   "metadata": {},
   "outputs": [],
   "source": [
    "df[\"weight_condition\"] = np.nan\n",
    "lst = [df]\n",
    "\n",
    "for col in lst:\n",
    "    col.loc[col[\"bmi\"] < 18.5, \"weight_condition\"] = \"Underweight\"\n",
    "    col.loc[(col[\"bmi\"] >= 18.5) & (col[\"bmi\"] < 24.986), \"weight_condition\"] = \"Normal Weight\"\n",
    "    col.loc[(col[\"bmi\"] >= 25) & (col[\"bmi\"] < 29.926), \"weight_condition\"] = \"Overweight\"\n",
    "    col.loc[col[\"bmi\"] >= 30, \"weight_condition\"] = \"Obese\"\n",
    "    \n",
    "df.head()"
   ]
  }
 ],
 "metadata": {
  "kernelspec": {
   "display_name": "venv (3.12.3)",
   "language": "python",
   "name": "python3"
  },
  "language_info": {
   "codemirror_mode": {
    "name": "ipython",
    "version": 3
   },
   "file_extension": ".py",
   "mimetype": "text/x-python",
   "name": "python",
   "nbconvert_exporter": "python",
   "pygments_lexer": "ipython3",
   "version": "3.12.3"
  }
 },
 "nbformat": 4,
 "nbformat_minor": 1
}
